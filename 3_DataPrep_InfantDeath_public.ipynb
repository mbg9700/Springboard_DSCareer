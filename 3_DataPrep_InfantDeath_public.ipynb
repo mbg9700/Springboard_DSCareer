{
 "cells": [
  {
   "cell_type": "markdown",
   "metadata": {},
   "source": [
    "### Capstone 1 - Washington state linkage of infant death, birth, and mother's hospitalization discharge data"
   ]
  },
  {
   "cell_type": "markdown",
   "metadata": {},
   "source": [
    "##### Maya Bhat-Gregerson\n",
    "\n",
    "January 16, 2020"
   ]
  },
  {
   "cell_type": "markdown",
   "metadata": {},
   "source": [
    "### C. PREPARATION OF INFANT BIRTH-DEATH LINKED DATA, 2017"
   ]
  },
  {
   "cell_type": "markdown",
   "metadata": {},
   "source": [
    "### I. Data acquisition"
   ]
  },
  {
   "cell_type": "code",
   "execution_count": 1,
   "metadata": {},
   "outputs": [],
   "source": [
    "import pandas as pd\n",
    "import numpy as np\n",
    "import matplotlib.pyplot as plt\n",
    "import seaborn as sns\n",
    "import pyodbc\n",
    "\n",
    "pd.set_option('display.max_columns', None)\n",
    "pd.set_option('display.max_rows', None)"
   ]
  },
  {
   "cell_type": "markdown",
   "metadata": {},
   "source": [
    "For the infant linked birth-death data used to create a training data set, I simply read in the CSV file that has already been prepared by my office for 2016 and 2017."
   ]
  },
  {
   "cell_type": "markdown",
   "metadata": {},
   "source": [
    "**2016**"
   ]
  },
  {
   "cell_type": "code",
   "execution_count": 2,
   "metadata": {},
   "outputs": [],
   "source": [
    "linked16 = pd.read_csv(r'###\\Py\\Data\\InfantDeathY16_BP.csv',\n",
    "                       index_col = None,\n",
    "                       low_memory = False)"
   ]
  },
  {
   "cell_type": "code",
   "execution_count": 3,
   "metadata": {},
   "outputs": [
    {
     "data": {
      "text/plain": [
       "(414, 355)"
      ]
     },
     "execution_count": 3,
     "metadata": {},
     "output_type": "execute_result"
    }
   ],
   "source": [
    "linked16.shape"
   ]
  },
  {
   "cell_type": "code",
   "execution_count": 96,
   "metadata": {},
   "outputs": [],
   "source": [
    "#linked16.head()"
   ]
  },
  {
   "cell_type": "markdown",
   "metadata": {},
   "source": [
    "**2017**"
   ]
  },
  {
   "cell_type": "code",
   "execution_count": 5,
   "metadata": {},
   "outputs": [],
   "source": [
    "linked17 = pd.read_csv(r'###\\Py\\Data\\InfantDeathF2017.csv',\n",
    "                       index_col = None,\n",
    "                       low_memory = False)"
   ]
  },
  {
   "cell_type": "code",
   "execution_count": 6,
   "metadata": {},
   "outputs": [
    {
     "data": {
      "text/plain": [
       "(363, 449)"
      ]
     },
     "execution_count": 6,
     "metadata": {},
     "output_type": "execute_result"
    }
   ],
   "source": [
    "linked17.shape"
   ]
  },
  {
   "cell_type": "code",
   "execution_count": 97,
   "metadata": {},
   "outputs": [],
   "source": [
    "#linked17.head()"
   ]
  },
  {
   "cell_type": "markdown",
   "metadata": {},
   "source": [
    "### II. Data cleaning and standardization"
   ]
  },
  {
   "cell_type": "markdown",
   "metadata": {},
   "source": [
    "Keep only infant deaths occurring in WA (indicated by birth certificate type 'R') and WA residents.  "
   ]
  },
  {
   "cell_type": "code",
   "execution_count": 8,
   "metadata": {},
   "outputs": [
    {
     "data": {
      "text/plain": [
       "(372, 355)"
      ]
     },
     "execution_count": 8,
     "metadata": {},
     "output_type": "execute_result"
    }
   ],
   "source": [
    "WAlnkd16 = linked16[(linked16[\"Birth Certificate Type\"]==\"R\") & (linked16['Residence State FIPS Code']==\"WA\")]\n",
    "\n",
    "WAlnkd16.shape"
   ]
  },
  {
   "cell_type": "code",
   "execution_count": 9,
   "metadata": {},
   "outputs": [
    {
     "data": {
      "text/plain": [
       "(336, 449)"
      ]
     },
     "execution_count": 9,
     "metadata": {},
     "output_type": "execute_result"
    }
   ],
   "source": [
    "WAlnkd17 = linked17[(linked17[\"Birth Cert Type\"]==\"R\") & (linked17['Residence State FIPS Code']==\"WA\")]\n",
    "WAlnkd17.shape"
   ]
  },
  {
   "cell_type": "markdown",
   "metadata": {},
   "source": [
    "Using .head() on both infant linked files it appears that at least one column (birth certificate number) has a different name in the two files.  Instead of renaming columns in both data sets (2016 and 2017) to make them consistent as well as code-friendly I will keep only the birth certificate numbers and death certificate numbers from both data sets, append the two vertically, and then merge the relevant fields for ML modeled linkage from the birth and death data sets that I prepared in the previous two steps."
   ]
  },
  {
   "cell_type": "markdown",
   "metadata": {},
   "source": [
    "Keep only birth certificate number and death certificate number from 2016 infant birth-death linked file and merge with 2016 birth and death data prepared in earlier steps.  This will ensure that all column names and data types are the same across all data files."
   ]
  },
  {
   "cell_type": "code",
   "execution_count": 10,
   "metadata": {},
   "outputs": [
    {
     "data": {
      "text/plain": [
       "(372, 2)"
      ]
     },
     "execution_count": 10,
     "metadata": {},
     "output_type": "execute_result"
    }
   ],
   "source": [
    "WAlnkd16sfns = WAlnkd16.loc[ : ,['Birth State File Number','Death State File Number' ]]\n",
    "WAlnkd16sfns.shape"
   ]
  },
  {
   "cell_type": "code",
   "execution_count": 98,
   "metadata": {},
   "outputs": [],
   "source": [
    "#WAlnkd16sfns.head()"
   ]
  },
  {
   "cell_type": "code",
   "execution_count": 12,
   "metadata": {},
   "outputs": [
    {
     "data": {
      "text/plain": [
       "(336, 2)"
      ]
     },
     "execution_count": 12,
     "metadata": {},
     "output_type": "execute_result"
    }
   ],
   "source": [
    "WAlnkd17sfns = WAlnkd17.loc[:,['Birth State File Number','Death SFN' ]]\n",
    "WAlnkd17sfns.shape"
   ]
  },
  {
   "cell_type": "markdown",
   "metadata": {},
   "source": [
    "After dropping all variables except for the birth certificate and death certificate numbers I renamed them to keep column names the same and then merged the 2016 and 2017 files vertically."
   ]
  },
  {
   "cell_type": "code",
   "execution_count": 13,
   "metadata": {},
   "outputs": [],
   "source": [
    "# rename columns\n",
    "WAlnkd16sfns=WAlnkd16sfns.rename(columns = {\"Birth State File Number\":\"lbsfn\", \"Death State File Number\": \"ldsfn\"})\n",
    "WAlnkd17sfns=WAlnkd17sfns.rename(columns = {\"Birth State File Number\":\"lbsfn\", \"Death SFN\": \"ldsfn\"})"
   ]
  },
  {
   "cell_type": "code",
   "execution_count": 14,
   "metadata": {},
   "outputs": [
    {
     "data": {
      "text/plain": [
       "(708, 2)"
      ]
     },
     "execution_count": 14,
     "metadata": {},
     "output_type": "execute_result"
    }
   ],
   "source": [
    "#Append 2017 to 2016 vertically\n",
    "\n",
    "WAlnkd1617=pd.concat([WAlnkd16sfns, WAlnkd17sfns])\n",
    "WAlnkd1617.shape\n"
   ]
  },
  {
   "cell_type": "code",
   "execution_count": 99,
   "metadata": {},
   "outputs": [],
   "source": [
    "#WAlnkd1617.head(30)"
   ]
  },
  {
   "cell_type": "code",
   "execution_count": 16,
   "metadata": {},
   "outputs": [
    {
     "data": {
      "text/plain": [
       "lbsfn    0\n",
       "ldsfn    0\n",
       "dtype: int64"
      ]
     },
     "execution_count": 16,
     "metadata": {},
     "output_type": "execute_result"
    }
   ],
   "source": [
    "WAlnkd1617.isnull().sum()"
   ]
  },
  {
   "cell_type": "markdown",
   "metadata": {},
   "source": [
    "#### ADD LINKING VARIABLES"
   ]
  },
  {
   "cell_type": "markdown",
   "metadata": {},
   "source": [
    "Add back columns that will be needed for machine learning classification later.  These columns were removed from the infant birth-death linked file as a matter of routine practice to protect the identities of the families.\n",
    "\n",
    "I merge the infant linked file first with the death 2016-18 file on death certificate number and then with the birth 2016-18 using birth certificate number.  With each merge, I add back columns that were removed during the creation of the linked file for confidentiality reasons.\n",
    "\n",
    "The first step is to read in death files for 2016-18 and birth files for 2016-18 that I acquired in prior steps."
   ]
  },
  {
   "cell_type": "code",
   "execution_count": 17,
   "metadata": {},
   "outputs": [],
   "source": [
    "d1618 = pd.read_csv(r'###\\Py\\Data\\d1618_clean.csv', low_memory=False)\n",
    "b1618 = pd.read_csv(r'###\\Py\\Data\\b1618_clean.csv', low_memory=False)"
   ]
  },
  {
   "cell_type": "code",
   "execution_count": 100,
   "metadata": {},
   "outputs": [],
   "source": [
    "#b1618.head()"
   ]
  },
  {
   "cell_type": "code",
   "execution_count": 101,
   "metadata": {},
   "outputs": [],
   "source": [
    "#d1618.head()"
   ]
  },
  {
   "cell_type": "markdown",
   "metadata": {},
   "source": [
    "In the first stage I join the infant linked birth-death records for 2016-17 with death certificate data fpr 2016-18 on death certificate number."
   ]
  },
  {
   "cell_type": "code",
   "execution_count": 20,
   "metadata": {},
   "outputs": [],
   "source": [
    "#linked1617a = pd.merge(WAlnkd1617,\n",
    "                    # d1618[['dbirsfn','dfname','dmname','dlname','dmom_fname',\n",
    "                            #'dmom_mname','dmom_lname','ddob','ddobm','ddobd','ddoby',\n",
    "                            #'dbircountryl','dbircountryfips','ddthcityl','ddthcityfips',\n",
    "                            #'ddthcountyl','ddthcntyfips','drescity','drescityfips',\n",
    "                            #'drescitylim','drescountyl','drescntyfips', 'dsfn', 'ddthstatel', \n",
    "                            #'dresstatefips', 'dsex', 'dagedays', 'ddod', 'ddody']],\n",
    "                     #how='left',\n",
    "                     #left_on = \"ldsfn\",\n",
    "                    # right_on = \"dsfn\")"
   ]
  },
  {
   "cell_type": "code",
   "execution_count": null,
   "metadata": {},
   "outputs": [],
   "source": [
    "linked1617a = pd.merge(WAlnkd1617, d1618,\n",
    "                     how='left',\n",
    "                     left_on = \"ldsfn\",\n",
    "                     right_on = \"dsfn\")"
   ]
  },
  {
   "cell_type": "code",
   "execution_count": 102,
   "metadata": {},
   "outputs": [],
   "source": [
    "#linked1617a.head()"
   ]
  },
  {
   "cell_type": "markdown",
   "metadata": {},
   "source": [
    "I check for missing values in death certificate numbers from the death file which would indicate that some of the records in the infant linked file could not be linked to their corresponding death certificates.  In this case, there are no missing death certificate numbers."
   ]
  },
  {
   "cell_type": "code",
   "execution_count": 22,
   "metadata": {},
   "outputs": [
    {
     "data": {
      "text/plain": [
       "0"
      ]
     },
     "execution_count": 22,
     "metadata": {},
     "output_type": "execute_result"
    }
   ],
   "source": [
    "np.isnan(linked1617a.dsfn).sum()"
   ]
  },
  {
   "cell_type": "markdown",
   "metadata": {},
   "source": [
    "Next, I join the dataset above (infant linked file joined to death certificate information) with the corresponding birth certificate information.  Once again, I check for missing birth certificate numbers (from the birth data set).  There are 53 infant linked records for which the procedure did not find corresponding birth records."
   ]
  },
  {
   "cell_type": "code",
   "execution_count": 23,
   "metadata": {},
   "outputs": [],
   "source": [
    "#linked1617b = pd.merge(linked1617a,\n",
    "                    #b1618[['b_momrescntyfips','b_momrescountyl','b_momrescityfips','b_momrescity',\n",
    "                           #'bdobd','bdob','bdoby','bmom_lname','bmom_mname','bmom_fname','bfname','bmname',\n",
    "                           #'blname', 'bsfn', 'b_momresstatefips', 'bsex']],\n",
    "                   # how = 'left',\n",
    "                    #left_on = \"lbsfn\",\n",
    "                   # right_on = \"bsfn\")"
   ]
  },
  {
   "cell_type": "code",
   "execution_count": null,
   "metadata": {},
   "outputs": [],
   "source": [
    "linked1617b = pd.merge(linked1617a, b1618,\n",
    "                    how = 'left',\n",
    "                    left_on = \"lbsfn\",\n",
    "                    right_on = \"bsfn\")"
   ]
  },
  {
   "cell_type": "code",
   "execution_count": 24,
   "metadata": {},
   "outputs": [
    {
     "data": {
      "text/plain": [
       "53"
      ]
     },
     "execution_count": 24,
     "metadata": {},
     "output_type": "execute_result"
    }
   ],
   "source": [
    "np.isnan(linked1617b.bsfn).sum()"
   ]
  },
  {
   "cell_type": "markdown",
   "metadata": {},
   "source": [
    "Looking at the infant linked records with missing birth certificate information (below) it appears that 50 of the births occurred in 2015 which is outside the timeframe for this project.  Consequently, the birth records for these records would not be in the 2016-18 data set. I will drop these records from my training data set."
   ]
  },
  {
   "cell_type": "code",
   "execution_count": 103,
   "metadata": {},
   "outputs": [],
   "source": [
    "missbsfn = linked1617b[np.isnan(linked1617b.bsfn)]\n",
    "missbsfn = missbsfn.sort_values(by=['lbsfn'])\n",
    "#missbsfn.head(55)"
   ]
  },
  {
   "cell_type": "code",
   "execution_count": 26,
   "metadata": {},
   "outputs": [
    {
     "data": {
      "text/plain": [
       "dtype('int64')"
      ]
     },
     "execution_count": 26,
     "metadata": {},
     "output_type": "execute_result"
    }
   ],
   "source": [
    "missbsfn.lbsfn.dtype"
   ]
  },
  {
   "cell_type": "code",
   "execution_count": 27,
   "metadata": {},
   "outputs": [
    {
     "data": {
      "text/plain": [
       "3"
      ]
     },
     "execution_count": 27,
     "metadata": {},
     "output_type": "execute_result"
    }
   ],
   "source": [
    "linked1617b = linked1617b[(linked1617b.lbsfn >= 2016000000)]\n",
    "np.isnan(linked1617b.bsfn).sum()"
   ]
  },
  {
   "cell_type": "code",
   "execution_count": 104,
   "metadata": {},
   "outputs": [],
   "source": [
    "missbsfn2 = linked1617b[np.isnan(linked1617b.bsfn)]\n",
    "#missbsfn2.head()"
   ]
  },
  {
   "cell_type": "markdown",
   "metadata": {},
   "source": [
    "An examination of the birth records shows that the mothers were residents of other states who gave birth in Washington State.  I excluded women who were residents of other states from the birth data sets so I will remove these records from this data set also."
   ]
  },
  {
   "cell_type": "code",
   "execution_count": 29,
   "metadata": {},
   "outputs": [
    {
     "data": {
      "text/plain": [
       "0"
      ]
     },
     "execution_count": 29,
     "metadata": {},
     "output_type": "execute_result"
    }
   ],
   "source": [
    "linked1617f = linked1617b[(linked1617b.lbsfn != 2016003213) & (linked1617b.lbsfn != 2016086923) & (linked1617b.lbsfn != 2016073350)]\n",
    "np.isnan(linked1617f.bsfn).sum()"
   ]
  },
  {
   "cell_type": "markdown",
   "metadata": {},
   "source": [
    "#### CHECK FOR MISSING VALUES"
   ]
  },
  {
   "cell_type": "code",
   "execution_count": 30,
   "metadata": {},
   "outputs": [
    {
     "data": {
      "text/plain": [
       "lbsfn                  0\n",
       "ldsfn                  0\n",
       "dbirsfn                0\n",
       "dfname                 0\n",
       "dmname               103\n",
       "dlname                 0\n",
       "dmom_fname             0\n",
       "dmom_mname           265\n",
       "dmom_lname             0\n",
       "ddob                   0\n",
       "ddobm                  0\n",
       "ddobd                  0\n",
       "ddoby                  0\n",
       "dbircountryl          12\n",
       "dbircountryfips        0\n",
       "ddthcityl              0\n",
       "ddthcityfips           0\n",
       "ddthcountyl            1\n",
       "ddthcntyfips           0\n",
       "drescity               0\n",
       "drescityfips           0\n",
       "drescitylim            1\n",
       "drescountyl            0\n",
       "drescntyfips           0\n",
       "dsfn                   0\n",
       "ddthstatel             0\n",
       "dresstatefips          0\n",
       "dsex                   0\n",
       "dagedays               0\n",
       "ddod                   0\n",
       "ddody                  0\n",
       "b_momrescntyfips       0\n",
       "b_momrescountyl        0\n",
       "b_momrescityfips       0\n",
       "b_momrescity           0\n",
       "bdobd                  0\n",
       "bdob                   0\n",
       "bdoby                  0\n",
       "bmom_lname             0\n",
       "bmom_mname            96\n",
       "bmom_fname             0\n",
       "bfname                 1\n",
       "bmname               105\n",
       "blname                 0\n",
       "bsfn                   0\n",
       "b_momresstatefips      0\n",
       "bsex                   0\n",
       "dtype: int64"
      ]
     },
     "execution_count": 30,
     "metadata": {},
     "output_type": "execute_result"
    }
   ],
   "source": [
    "linked1617f.isnull().sum()"
   ]
  },
  {
   "cell_type": "markdown",
   "metadata": {},
   "source": [
    "- There are very few missing values in the columns except for mother and baby middle names, so this is a relatively clean data set in terms of missingness."
   ]
  },
  {
   "cell_type": "code",
   "execution_count": 31,
   "metadata": {},
   "outputs": [
    {
     "data": {
      "text/plain": [
       "(655, 47)"
      ]
     },
     "execution_count": 31,
     "metadata": {},
     "output_type": "execute_result"
    }
   ],
   "source": [
    "linked1617f.shape"
   ]
  },
  {
   "cell_type": "markdown",
   "metadata": {},
   "source": [
    "In this next step I check to make sure the infant's residence state and death state are both Washington State."
   ]
  },
  {
   "cell_type": "code",
   "execution_count": 32,
   "metadata": {},
   "outputs": [
    {
     "data": {
      "text/plain": [
       "WA    655\n",
       "Name: dresstatefips, dtype: int64"
      ]
     },
     "execution_count": 32,
     "metadata": {},
     "output_type": "execute_result"
    }
   ],
   "source": [
    "linked1617f.dresstatefips.value_counts(dropna=False)"
   ]
  },
  {
   "cell_type": "code",
   "execution_count": 33,
   "metadata": {},
   "outputs": [
    {
     "data": {
      "text/plain": [
       "WASHINGTON    631\n",
       "OREGON         20\n",
       "CALIFORNIA      2\n",
       "ALBERTA         1\n",
       "NEWJERSEY       1\n",
       "Name: ddthstatel, dtype: int64"
      ]
     },
     "execution_count": 33,
     "metadata": {},
     "output_type": "execute_result"
    }
   ],
   "source": [
    "linked1617f.ddthstatel.value_counts(dropna=False)"
   ]
  },
  {
   "cell_type": "code",
   "execution_count": 34,
   "metadata": {},
   "outputs": [
    {
     "data": {
      "text/plain": [
       "WASHINGTON    631\n",
       "Name: ddthstatel, dtype: int64"
      ]
     },
     "execution_count": 34,
     "metadata": {},
     "output_type": "execute_result"
    }
   ],
   "source": [
    "linked1617f = linked1617f[(linked1617f['ddthstatel']==\"WASHINGTON\")]\n",
    "linked1617f.ddthstatel.value_counts(dropna=False)"
   ]
  },
  {
   "cell_type": "code",
   "execution_count": 35,
   "metadata": {},
   "outputs": [],
   "source": [
    "WAlinked1617 = linked1617f.copy()"
   ]
  },
  {
   "cell_type": "code",
   "execution_count": 36,
   "metadata": {},
   "outputs": [
    {
     "data": {
      "text/plain": [
       "lbsfn                  int64\n",
       "ldsfn                  int64\n",
       "dbirsfn               object\n",
       "dfname                object\n",
       "dmname                object\n",
       "dlname                object\n",
       "dmom_fname            object\n",
       "dmom_mname            object\n",
       "dmom_lname            object\n",
       "ddob                  object\n",
       "ddobm                  int64\n",
       "ddobd                  int64\n",
       "ddoby                  int64\n",
       "dbircountryl          object\n",
       "dbircountryfips       object\n",
       "ddthcityl             object\n",
       "ddthcityfips         float64\n",
       "ddthcountyl           object\n",
       "ddthcntyfips         float64\n",
       "drescity              object\n",
       "drescityfips           int64\n",
       "drescitylim           object\n",
       "drescountyl           object\n",
       "drescntyfips           int64\n",
       "dsfn                   int64\n",
       "ddthstatel            object\n",
       "dresstatefips         object\n",
       "dsex                  object\n",
       "dagedays               int64\n",
       "ddod                  object\n",
       "ddody                  int64\n",
       "b_momrescntyfips     float64\n",
       "b_momrescountyl       object\n",
       "b_momrescityfips     float64\n",
       "b_momrescity          object\n",
       "bdobd                float64\n",
       "bdob                  object\n",
       "bdoby                float64\n",
       "bmom_lname            object\n",
       "bmom_mname            object\n",
       "bmom_fname            object\n",
       "bfname                object\n",
       "bmname                object\n",
       "blname                object\n",
       "bsfn                 float64\n",
       "b_momresstatefips     object\n",
       "bsex                  object\n",
       "dtype: object"
      ]
     },
     "execution_count": 36,
     "metadata": {},
     "output_type": "execute_result"
    }
   ],
   "source": [
    "WAlinked1617.dtypes"
   ]
  },
  {
   "cell_type": "markdown",
   "metadata": {},
   "source": [
    "#### CHECK FOR NULL AND OUT OF RANGE VALUES"
   ]
  },
  {
   "cell_type": "markdown",
   "metadata": {},
   "source": [
    "Probably will not use mothers' and infants' middle name for linking as there are too many missing values."
   ]
  },
  {
   "cell_type": "markdown",
   "metadata": {},
   "source": [
    "#### STANDARDIZE NAMES"
   ]
  },
  {
   "cell_type": "markdown",
   "metadata": {},
   "source": [
    "First, middle, and last names of infants and mothers as well as city names will be standardized by converting these columns to upper case text, removing white spaces, removing hyphens and other punctuation marks."
   ]
  },
  {
   "cell_type": "code",
   "execution_count": 37,
   "metadata": {},
   "outputs": [],
   "source": [
    "WAlinked1617 = WAlinked1617.apply(lambda x: x.str.upper() if type(x) == str else x)"
   ]
  },
  {
   "cell_type": "code",
   "execution_count": 38,
   "metadata": {
    "scrolled": true
   },
   "outputs": [],
   "source": [
    "WAlinked1617 = WAlinked1617.apply(lambda x: x.str.strip() if type(x) == str else x)\n",
    "WAlinked1617 = WAlinked1617.applymap(lambda x: x.replace(\" \", \"\") if type(x) == str else x)\n",
    "WAlinked1617 = WAlinked1617.applymap(lambda x: x.replace(\"-\", \"\") if type(x) == str else x)\n",
    "WAlinked1617 = WAlinked1617.applymap(lambda x: x.replace(\".\", \"\") if type(x) == str else x)"
   ]
  },
  {
   "cell_type": "markdown",
   "metadata": {},
   "source": [
    "#### CREATE FINAL MATCHED DATA SET FOR TRAINING DATA"
   ]
  },
  {
   "cell_type": "markdown",
   "metadata": {},
   "source": [
    "The final step in creating the matched records in the training data step is to remove the birth and death certificate numbers that came from the infant linked data set and to add a column called 'Match' with a value of 1 to indicate that the record contains correctly matched birth and death records for infants.\n",
    "\n",
    "There are 631 matched records representing infants who were born and died in Washington State and whose mothers were Washington State residents."
   ]
  },
  {
   "cell_type": "code",
   "execution_count": 39,
   "metadata": {},
   "outputs": [],
   "source": [
    "WAlinked1617_m = WAlinked1617.drop(['lbsfn', 'ldsfn'], axis=1)"
   ]
  },
  {
   "cell_type": "code",
   "execution_count": 40,
   "metadata": {},
   "outputs": [],
   "source": [
    "WAlinked1617_m['Match'] = 1"
   ]
  },
  {
   "cell_type": "code",
   "execution_count": 41,
   "metadata": {},
   "outputs": [
    {
     "data": {
      "text/plain": [
       "dbirsfn               object\n",
       "dfname                object\n",
       "dmname                object\n",
       "dlname                object\n",
       "dmom_fname            object\n",
       "dmom_mname            object\n",
       "dmom_lname            object\n",
       "ddob                  object\n",
       "ddobm                  int64\n",
       "ddobd                  int64\n",
       "ddoby                  int64\n",
       "dbircountryl          object\n",
       "dbircountryfips       object\n",
       "ddthcityl             object\n",
       "ddthcityfips         float64\n",
       "ddthcountyl           object\n",
       "ddthcntyfips         float64\n",
       "drescity              object\n",
       "drescityfips           int64\n",
       "drescitylim           object\n",
       "drescountyl           object\n",
       "drescntyfips           int64\n",
       "dsfn                   int64\n",
       "ddthstatel            object\n",
       "dresstatefips         object\n",
       "dsex                  object\n",
       "dagedays               int64\n",
       "ddod                  object\n",
       "ddody                  int64\n",
       "b_momrescntyfips     float64\n",
       "b_momrescountyl       object\n",
       "b_momrescityfips     float64\n",
       "b_momrescity          object\n",
       "bdobd                float64\n",
       "bdob                  object\n",
       "bdoby                float64\n",
       "bmom_lname            object\n",
       "bmom_mname            object\n",
       "bmom_fname            object\n",
       "bfname                object\n",
       "bmname                object\n",
       "blname                object\n",
       "bsfn                 float64\n",
       "b_momresstatefips     object\n",
       "bsex                  object\n",
       "Match                  int64\n",
       "dtype: object"
      ]
     },
     "execution_count": 41,
     "metadata": {},
     "output_type": "execute_result"
    }
   ],
   "source": [
    "WAlinked1617_m.dtypes"
   ]
  },
  {
   "cell_type": "code",
   "execution_count": 42,
   "metadata": {},
   "outputs": [
    {
     "data": {
      "text/plain": [
       "1    631\n",
       "Name: Match, dtype: int64"
      ]
     },
     "execution_count": 42,
     "metadata": {},
     "output_type": "execute_result"
    }
   ],
   "source": [
    "WAlinked1617_m.Match.value_counts(dropna=False)"
   ]
  },
  {
   "cell_type": "code",
   "execution_count": 105,
   "metadata": {},
   "outputs": [],
   "source": [
    "#WAlinked1617_m.head()"
   ]
  },
  {
   "cell_type": "markdown",
   "metadata": {},
   "source": [
    "### Creating examples of mismatched data for training"
   ]
  },
  {
   "cell_type": "markdown",
   "metadata": {},
   "source": [
    "As there are almost 170,000 deaths in the 2016-18 death data set as well as almost 260,000 birth records for the same period the number of all combinations of non-matching records is enormous and it would not be helpful to this classifier as it would cause significant imbalance. \n",
    "\n",
    "I will randomly select roughly the same number of records from the birth data set (equally distributed across the 3 years) and the death data set and join them horizontally and label them as mismatched ('Match' = 0)."
   ]
  },
  {
   "cell_type": "markdown",
   "metadata": {},
   "source": []
  },
  {
   "cell_type": "code",
   "execution_count": 44,
   "metadata": {},
   "outputs": [
    {
     "data": {
      "text/plain": [
       "631"
      ]
     },
     "execution_count": 44,
     "metadata": {},
     "output_type": "execute_result"
    }
   ],
   "source": [
    "excl_dc = WAlinked1617_m['dsfn'].tolist()\n",
    "len(excl_dc)"
   ]
  },
  {
   "cell_type": "code",
   "execution_count": 45,
   "metadata": {},
   "outputs": [
    {
     "data": {
      "text/plain": [
       "631"
      ]
     },
     "execution_count": 45,
     "metadata": {},
     "output_type": "execute_result"
    }
   ],
   "source": [
    "excl_bc = WAlinked1617_m['bsfn'].tolist()\n",
    "len(excl_bc)"
   ]
  },
  {
   "cell_type": "code",
   "execution_count": 46,
   "metadata": {},
   "outputs": [],
   "source": [
    "death1617_nm = d1618[(~d1618['dsfn'].isin(excl_dc)) & (d1618.ddody != 2018)]"
   ]
  },
  {
   "cell_type": "code",
   "execution_count": 48,
   "metadata": {},
   "outputs": [],
   "source": [
    "birth1617_nm = b1618[(~b1618['bsfn'].isin(excl_bc)) & (b1618.bdoby != 2018)]"
   ]
  },
  {
   "cell_type": "markdown",
   "metadata": {},
   "source": [
    "#### Create copies of linked, birth and death data sets that will be used for training"
   ]
  },
  {
   "cell_type": "code",
   "execution_count": 67,
   "metadata": {},
   "outputs": [],
   "source": [
    "l1617m=WAlinked1617_m.copy()\n",
    "d1617nm = death1617_nm.copy()\n",
    "b1617nm = birth1617_nm.copy()"
   ]
  },
  {
   "cell_type": "markdown",
   "metadata": {},
   "source": [
    "#### Split into training and testing sets before random resampling to balance the classes (matched vs. unmatched)"
   ]
  },
  {
   "cell_type": "markdown",
   "metadata": {},
   "source": [
    "Here I split the three data sets to create a training data set with 70% of the data and a testing dataset with 30% of the data.\n",
    "For training purposes I will randomly undersample from the birth and death datasets to create the unmatched records so that "
   ]
  },
  {
   "cell_type": "markdown",
   "metadata": {},
   "source": [
    "**Splitting infant linked (matched) data set**"
   ]
  },
  {
   "cell_type": "code",
   "execution_count": 95,
   "metadata": {},
   "outputs": [],
   "source": [
    "l1617m = l1617m.reset_index()\n",
    "l_train = l1617m.sample(frac=0.70, random_state=42)\n",
    "l_test = l1617m.drop(l_train.index)"
   ]
  },
  {
   "cell_type": "markdown",
   "metadata": {},
   "source": [
    "**Splitting death (unmatched) data set**"
   ]
  },
  {
   "cell_type": "code",
   "execution_count": 71,
   "metadata": {},
   "outputs": [
    {
     "data": {
      "text/plain": [
       "(77807, 52)"
      ]
     },
     "execution_count": 71,
     "metadata": {},
     "output_type": "execute_result"
    }
   ],
   "source": [
    "d_train = d1617nm.sample(frac=0.70, random_state=42)\n",
    "d_test = d1617nm.drop(d_train.index)\n",
    "d_train.shape"
   ]
  },
  {
   "cell_type": "markdown",
   "metadata": {},
   "source": [
    "**Splitting birth (unmatched) data set**"
   ]
  },
  {
   "cell_type": "code",
   "execution_count": 72,
   "metadata": {},
   "outputs": [
    {
     "data": {
      "text/plain": [
       "(122233, 43)"
      ]
     },
     "execution_count": 72,
     "metadata": {},
     "output_type": "execute_result"
    }
   ],
   "source": [
    "b_train = b1617nm.sample(frac=0.70, random_state=42)\n",
    "b_test = b1617nm.drop(b_train.index)\n",
    "b_train.shape"
   ]
  },
  {
   "cell_type": "markdown",
   "metadata": {},
   "source": [
    "**Undersampling birth and death training data subsets**"
   ]
  },
  {
   "cell_type": "code",
   "execution_count": 87,
   "metadata": {},
   "outputs": [
    {
     "data": {
      "text/plain": [
       "((1200, 53), (1200, 44))"
      ]
     },
     "execution_count": 87,
     "metadata": {},
     "output_type": "execute_result"
    }
   ],
   "source": [
    "d_train_undersample = d_train.sample(n=1200, random_state=42).reset_index()\n",
    "b_train_undersample = b_train.sample(n=1200, random_state=42).reset_index()\n",
    "d_train_undersample.shape, b_train_undersample.shape"
   ]
  },
  {
   "cell_type": "markdown",
   "metadata": {},
   "source": [
    "**Joining (horizontally) birth and death undersamples to create mismatched record pairs**"
   ]
  },
  {
   "cell_type": "code",
   "execution_count": 123,
   "metadata": {},
   "outputs": [
    {
     "data": {
      "text/plain": [
       "(1200, 97)"
      ]
     },
     "execution_count": 123,
     "metadata": {},
     "output_type": "execute_result"
    }
   ],
   "source": [
    "unmatched = pd.concat([b_train_undersample, d_train_undersample], axis=1)\n",
    "unmatched.shape"
   ]
  },
  {
   "cell_type": "markdown",
   "metadata": {},
   "source": [
    "**Add 'Match' column with value 0 to indicate mismatched status**"
   ]
  },
  {
   "cell_type": "code",
   "execution_count": 124,
   "metadata": {},
   "outputs": [
    {
     "data": {
      "text/plain": [
       "(1200, 96)"
      ]
     },
     "execution_count": 124,
     "metadata": {},
     "output_type": "execute_result"
    }
   ],
   "source": [
    "unmatched['Match'] = 0\n",
    "unmatched = unmatched.drop(['index'], axis=1)\n",
    "unmatched.shape"
   ]
  },
  {
   "cell_type": "code",
   "execution_count": 127,
   "metadata": {},
   "outputs": [],
   "source": [
    "#unmatched.head()"
   ]
  }
 ],
 "metadata": {
  "kernelspec": {
   "display_name": "Python 3",
   "language": "python",
   "name": "python3"
  },
  "language_info": {
   "codemirror_mode": {
    "name": "ipython",
    "version": 3
   },
   "file_extension": ".py",
   "mimetype": "text/x-python",
   "name": "python",
   "nbconvert_exporter": "python",
   "pygments_lexer": "ipython3",
   "version": "3.6.8"
  }
 },
 "nbformat": 4,
 "nbformat_minor": 2
}
