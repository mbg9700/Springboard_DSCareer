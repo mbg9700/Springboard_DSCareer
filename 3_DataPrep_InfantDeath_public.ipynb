{
 "cells": [
  {
   "cell_type": "markdown",
   "metadata": {},
   "source": [
    "### Capstone 1 - Washington state linkage of infant death, birth, and mother's hospitalization discharge data"
   ]
  },
  {
   "cell_type": "markdown",
   "metadata": {},
   "source": [
    "##### Maya Bhat-Gregerson\n",
    "\n",
    " December 31, 2019"
   ]
  },
  {
   "cell_type": "markdown",
   "metadata": {},
   "source": [
    "### C. PREPARATION OF INFANT BIRTH-DEATH LINKED DATA, 2016-17"
   ]
  },
  {
   "cell_type": "markdown",
   "metadata": {},
   "source": [
    "### I. Data acquisition"
   ]
  },
  {
   "cell_type": "code",
   "execution_count": 1,
   "metadata": {},
   "outputs": [],
   "source": [
    "import pandas as pd\n",
    "import numpy as np\n",
    "import matplotlib.pyplot as plt\n",
    "import seaborn as sns\n",
    "import pyodbc"
   ]
  },
  {
   "cell_type": "markdown",
   "metadata": {},
   "source": [
    "For the infant linked birth-death data used to create a training data set, I simply read in the CSV file that has already been prepared by my office."
   ]
  },
  {
   "cell_type": "code",
   "execution_count": 2,
   "metadata": {},
   "outputs": [],
   "source": [
    "linked16 = pd.read_csv(r'Y:\\DQSS\\Death\\MBG\\Py\\Data\\InfantDeathF2016.csv',\n",
    "                       index_col = None,\n",
    "                       low_memory = False)"
   ]
  },
  {
   "cell_type": "code",
   "execution_count": 3,
   "metadata": {},
   "outputs": [
    {
     "data": {
      "text/plain": [
       "(414, 450)"
      ]
     },
     "execution_count": 3,
     "metadata": {},
     "output_type": "execute_result"
    }
   ],
   "source": [
    "linked16.shape"
   ]
  },
  {
   "cell_type": "code",
   "execution_count": null,
   "metadata": {},
   "outputs": [],
   "source": []
  },
  {
   "cell_type": "code",
   "execution_count": 4,
   "metadata": {},
   "outputs": [],
   "source": [
    "linked17 = pd.read_csv(r'Y:\\DQSS\\Death\\MBG\\Py\\Data\\InfantDeathF2017.csv',\n",
    "                       index_col = None,\n",
    "                       low_memory = False)"
   ]
  },
  {
   "cell_type": "code",
   "execution_count": 5,
   "metadata": {},
   "outputs": [
    {
     "data": {
      "text/plain": [
       "(363, 449)"
      ]
     },
     "execution_count": 5,
     "metadata": {},
     "output_type": "execute_result"
    }
   ],
   "source": [
    "linked17.shape"
   ]
  },
  {
   "cell_type": "markdown",
   "metadata": {},
   "source": [
    "### II. Data cleaning and standardization"
   ]
  },
  {
   "cell_type": "markdown",
   "metadata": {},
   "source": [
    "Keep only infant deaths among WA residents. These are indicated by birth certificate type 'R'.  "
   ]
  },
  {
   "cell_type": "code",
   "execution_count": 6,
   "metadata": {},
   "outputs": [
    {
     "data": {
      "text/plain": [
       "(389, 450)"
      ]
     },
     "execution_count": 6,
     "metadata": {},
     "output_type": "execute_result"
    }
   ],
   "source": [
    "WAlnkd16 = linked16[(linked16[\"Birth Cert Type\"]==\"R\")]\n",
    "WAlnkd16.shape"
   ]
  },
  {
   "cell_type": "code",
   "execution_count": 7,
   "metadata": {},
   "outputs": [
    {
     "data": {
      "text/plain": [
       "(351, 449)"
      ]
     },
     "execution_count": 7,
     "metadata": {},
     "output_type": "execute_result"
    }
   ],
   "source": [
    "WAlnkd17 = linked17[(linked17[\"Birth Cert Type\"]==\"R\")]\n",
    "WAlnkd17.shape"
   ]
  },
  {
   "cell_type": "markdown",
   "metadata": {},
   "source": [
    "Using .head() on both infant linked files it appears that at least one column (birth certificate number) has a different name in the two files.  I will try to see what other columns have this problem."
   ]
  },
  {
   "cell_type": "code",
   "execution_count": 16,
   "metadata": {},
   "outputs": [
    {
     "data": {
      "text/plain": [
       "Index(['Age Years', 'Birth Cert Encrypt', 'Birth Weight Grams',\n",
       "       'Birth Weight Ounces', 'Birth Weight Pounds',\n",
       "       'Birthplace State NCHS Code Death', 'Date of Birth Month',\n",
       "       'Date of Birth Year', 'Date of Death Day', 'Date of Death Month',\n",
       "       'Date of Death Year', 'Date of Injury Day', 'Date of Injury Month',\n",
       "       'Date of Injury Year', 'Death SFN', 'Disposition Date Day',\n",
       "       'Disposition Date Month', 'Disposition Date Year',\n",
       "       'Father Birthplace Cntry WA Code', 'Father Birthplace State FIPS',\n",
       "       'Father Race Amer Indian Alaskan', 'Father Race Calculation',\n",
       "       'Gestational Hypertention', 'Hispanic NCHS Bridge', 'Hysterectomy',\n",
       "       'Injury HR AMPM', 'Injury State FIPS Code',\n",
       "       'Mother Birthplace Cntry WA Code', 'Mother Birthplace State FIPS',\n",
       "       'Mother Hispanic NCHS Ccodes', 'Mother Hispanic NCHS Ecodes',\n",
       "       'Mother Marital Status', 'Mother Race Amer Indian Alaskan',\n",
       "       'Mother Race Calculation', 'Prior Live Births Deceased',\n",
       "       'Race Summary Code', 'Residence Length Type'],\n",
       "      dtype='object')"
      ]
     },
     "execution_count": 16,
     "metadata": {},
     "output_type": "execute_result"
    }
   ],
   "source": [
    "# compare column names for the 2016 and 2017 linked files\n",
    "\n",
    "l16_cols = WAlnkd16.columns\n",
    "l17_cols = WAlnkd17.columns\n",
    "\n",
    "differences = l17_cols.difference(l16_cols)\n",
    "\n",
    "differences"
   ]
  },
  {
   "cell_type": "code",
   "execution_count": 17,
   "metadata": {},
   "outputs": [
    {
     "data": {
      "text/plain": [
       "['Birth Cert Encrypt',\n",
       " 'Birth Cert Type',\n",
       " 'Date of Birth Month',\n",
       " 'Date of Birth Year',\n",
       " 'Time of Birth',\n",
       " 'Sex',\n",
       " 'Plurality',\n",
       " 'Birth Order',\n",
       " 'Birthplace County City WA Code',\n",
       " 'Birthplace County WA Code',\n",
       " 'Birthplace State',\n",
       " 'Birthplace State NCHS Code',\n",
       " 'Birthplace State FIPS Code',\n",
       " 'Facility Type',\n",
       " 'Facility',\n",
       " 'Intended Facility',\n",
       " 'Mother Transfer',\n",
       " 'Facility Mother Transferred From',\n",
       " 'Child Transfer',\n",
       " 'Facility Infant Transferred To',\n",
       " 'Attendant Class',\n",
       " 'Certifier Class',\n",
       " 'Mother Calculated Age',\n",
       " 'Mother Residence City WA Code',\n",
       " 'Mother Residence County WA Code',\n",
       " 'Mother Residence State',\n",
       " 'Mother Residence State NCHS Code',\n",
       " 'Mother Residence State FIPS Code',\n",
       " 'Mother Residence Zip',\n",
       " 'Mother Years at Residence',\n",
       " 'Mother Months at Residence',\n",
       " 'Mother Birthplace State FIPS',\n",
       " 'Mother Birthplace Country',\n",
       " 'Mother Birthplace Cntry WA Code',\n",
       " 'Child Calculated Race',\n",
       " 'Child Calculated Ethnicity',\n",
       " 'Mother Race White',\n",
       " 'Mother Race Black',\n",
       " 'Mother Race Amer Indian Alaskan',\n",
       " 'Mother Race Asian Indian',\n",
       " 'Mother Race Chinese',\n",
       " 'Mother Race Filipino',\n",
       " 'Mother Race Japanese',\n",
       " 'Mother Race Korean',\n",
       " 'Mother Race Vietnamese',\n",
       " 'Mother Race Other Asian',\n",
       " 'Mother Race Hawaiian',\n",
       " 'Mother Race Guam or Chamorro',\n",
       " 'Mother Race Samoan',\n",
       " 'Mother Race Other PI',\n",
       " 'Mother Race Other',\n",
       " 'Mother Race Tribe 1',\n",
       " 'Mother Race Tribe 2',\n",
       " 'Mother Race Other Asian 1',\n",
       " 'Mother Race Other Asian 2',\n",
       " 'Mother Race Other PI 1',\n",
       " 'Mother Race Other PI 2',\n",
       " 'Mother Race Other 1',\n",
       " 'Mother Race Other 2',\n",
       " 'Mother Bridge Race',\n",
       " 'Mother Race Calculation',\n",
       " 'Mother Race Summary Code',\n",
       " 'Mother Hispanic No',\n",
       " 'Mother Hispanic Mexican',\n",
       " 'Mother Hispanic Puerto Rican',\n",
       " 'Mother Hispanic Cuban',\n",
       " 'Mother Hispanic Other',\n",
       " 'Mother Hispanic Other Specify',\n",
       " 'Mother Hispanic NCHS Ecodes',\n",
       " 'Mother Hispanic NCHS Ccodes',\n",
       " 'Mother Hispanic',\n",
       " 'Mother Education',\n",
       " 'Mother Educ 8th Grade or Less',\n",
       " 'Mother Occupation Milham',\n",
       " 'Mother Marital Status',\n",
       " 'Father Calculated Age',\n",
       " 'Father Birthplace State FIPS',\n",
       " 'Father Birthplace Country',\n",
       " 'Father Birthplace Cntry WA Code',\n",
       " 'Father Race White',\n",
       " 'Father Race Black',\n",
       " 'Father Race Amer Indian Alaskan',\n",
       " 'Father Race Asian Indian',\n",
       " 'Father Race Chinese',\n",
       " 'Father Race Filipino',\n",
       " 'Father Race Japanese',\n",
       " 'Father Race Korean',\n",
       " 'Father Race Vietnamese',\n",
       " 'Father Race Other Asian',\n",
       " 'Father Race Hawaiian',\n",
       " 'Father Race Guam or Chamorro',\n",
       " 'Father Race Samoan',\n",
       " 'Father Race Other PI',\n",
       " 'Father Race Other',\n",
       " 'Father Race Tribe 1',\n",
       " 'Father Race Tribe 2',\n",
       " 'Father Race Other Asian 1',\n",
       " 'Father Race Other Asian 2',\n",
       " 'Father Race Other PI 1',\n",
       " 'Father Race Other PI 2',\n",
       " 'Father Race Other 1',\n",
       " 'Father Race Other 2',\n",
       " 'Father Bridge Race',\n",
       " 'Father Race Calculation',\n",
       " 'Father Race Summary Code',\n",
       " 'Father Hispanic No',\n",
       " 'Father Hispanic Mexican',\n",
       " 'Father Hispanic Puerto Rican',\n",
       " 'Father Hispanic Cuban',\n",
       " 'Father Hispanic Other',\n",
       " 'Father Hispanic Other Specify',\n",
       " 'Father Hispanic NCHS Ecodes',\n",
       " 'Father Hispanic NCHS Ccodes',\n",
       " 'Father Hispanic',\n",
       " 'Father Education',\n",
       " 'Father Educ 8th Grade or Less',\n",
       " 'Father Occupation Milham',\n",
       " 'Mother Height Feet',\n",
       " 'Mother Height Inches',\n",
       " 'Mother Weight Prior',\n",
       " 'Mother Weight at Delivery',\n",
       " 'Mother Weight Gain',\n",
       " 'Mother BMI',\n",
       " 'Mother Smoked',\n",
       " 'Cigarettes Smoked 3 Months Prior',\n",
       " 'Packs Smoked 3 Months Prior',\n",
       " 'Cigarettes Smoked 1st Tri',\n",
       " 'Packs Smoked 1st Tri',\n",
       " 'Cigarettes Smoked 2nd Tri',\n",
       " 'Packs Smoked 2nd Tri',\n",
       " 'Cigarettes Smoked 3rd Tri',\n",
       " 'Packs Smoked 3rd Tri',\n",
       " 'Source of Payment',\n",
       " 'Other Source of Payment Specify',\n",
       " 'WIC',\n",
       " 'Date First Prenatal Visit',\n",
       " 'Date Last Prenatal Visit',\n",
       " 'Month Prenatal Care Began',\n",
       " 'NCHS Month Prenatal Care Began',\n",
       " 'Number Prenatal Visits',\n",
       " 'Prior Live Births Living',\n",
       " 'Prior Live Births Deceased',\n",
       " 'Last Live Birth Month',\n",
       " 'Last Live Birth Year',\n",
       " 'Other Preg Outcomes',\n",
       " 'Other Preg Outcomes Month',\n",
       " 'Other Preg Outcomes Year',\n",
       " 'Date Last Menses',\n",
       " 'Last Menses Month',\n",
       " 'Last Menses Day',\n",
       " 'Last Menses Year',\n",
       " 'Gestation Estimate',\n",
       " 'Calculated Gestation',\n",
       " 'Gestation Calculated Flag',\n",
       " 'Child Alive',\n",
       " 'Breastfed',\n",
       " 'Birth Weight Grams',\n",
       " 'Birth Weight Pounds',\n",
       " 'Birth Weight Ounces',\n",
       " 'Head Circumference',\n",
       " 'APGAR 5',\n",
       " 'APGAR 10',\n",
       " 'Prepreg Diabetes',\n",
       " 'Gestational Diabetes',\n",
       " 'Prepreg Hypertension',\n",
       " 'Gestational Hypertention',\n",
       " 'Hypertension Eclampsia',\n",
       " 'Preterm Births',\n",
       " 'Poor Preg Outcomes',\n",
       " 'Vaginal Bleeding',\n",
       " 'Fertility Treatment',\n",
       " 'Assisted Reproduction',\n",
       " 'Previous Cesarean',\n",
       " 'Num Prev Cesarean',\n",
       " 'Group B Strep',\n",
       " 'Risk Factors None',\n",
       " 'Risk Factors Unknown',\n",
       " 'Gonorrhea',\n",
       " 'Syphilis',\n",
       " 'Herpes',\n",
       " 'Chlamydia',\n",
       " 'Hep B',\n",
       " 'Hep C',\n",
       " 'Infections Other',\n",
       " 'Infections Other Specify',\n",
       " 'Infections None',\n",
       " 'Infections Unknown',\n",
       " 'Cervical Cerclage',\n",
       " 'Tocolysis',\n",
       " 'ECV Success',\n",
       " 'ECV Failed',\n",
       " 'Obstet Proc None',\n",
       " 'Obstet Proc Unknown',\n",
       " 'Ruptured Membranes',\n",
       " 'Precipitous Labor',\n",
       " 'Prolonged Labor',\n",
       " 'Labor Onset None',\n",
       " 'Labor Onset Unknown',\n",
       " 'Induction',\n",
       " 'Augmentation',\n",
       " 'Non Vertex Presentation',\n",
       " 'Anesthesia',\n",
       " 'Steroids',\n",
       " 'Antibiotics',\n",
       " 'Chorioamnionitis',\n",
       " 'Meconium Stain',\n",
       " 'Fetal Intolerance',\n",
       " 'Maternal Transfusion',\n",
       " 'Perineal Laceration',\n",
       " 'Ruptured Uterus',\n",
       " 'Hysterectomy',\n",
       " 'Intensive Care',\n",
       " 'Operation',\n",
       " 'Maternal Morbidity None',\n",
       " 'Maternal Morbidity Unknown',\n",
       " 'Attempt Forceps',\n",
       " 'Attempt Vacuum',\n",
       " 'Fetal Presentation',\n",
       " 'Delivery Method Final',\n",
       " 'Delivery Method Calculation',\n",
       " 'Assist Vent',\n",
       " 'Assist Vent 6',\n",
       " 'NICU Admission',\n",
       " 'Surfactant',\n",
       " 'Child Antibiotics',\n",
       " 'Child Seizure',\n",
       " 'Child Injury',\n",
       " 'Abnormal Conditions None',\n",
       " 'Abnormal Conditions Unknown',\n",
       " 'Anencephaly',\n",
       " 'MSB',\n",
       " 'Congenital Heart',\n",
       " 'Congenital Hernia',\n",
       " 'Omphalocele',\n",
       " 'Gastroschisis',\n",
       " 'Limb Defect',\n",
       " 'Cleft Lip',\n",
       " 'Cleft Palate',\n",
       " 'Down Syndrome',\n",
       " 'Down Confirm',\n",
       " 'Down Pending',\n",
       " 'Other Chrom',\n",
       " 'Other Chrom Confirm',\n",
       " 'Other Chrom Pending',\n",
       " 'Hypospadias',\n",
       " 'Congenital Anomaly None',\n",
       " 'Congenital Anomaly Unknown',\n",
       " 'Deceased Flag',\n",
       " 'Death SFN',\n",
       " 'Sex Death',\n",
       " 'Date of Death',\n",
       " 'Date of Death Month',\n",
       " 'Date of Death Day',\n",
       " 'Date of Death Year',\n",
       " 'Date of Death Modifier',\n",
       " 'Time of Death',\n",
       " 'Time of Death Modifier',\n",
       " 'DOB Month',\n",
       " 'DOB Year',\n",
       " 'Age Unit',\n",
       " 'Age',\n",
       " 'Age Years',\n",
       " 'Death County City WA Code',\n",
       " 'Death County WA Code',\n",
       " 'Death State',\n",
       " 'Death State NCHS Code',\n",
       " 'Death Zip Code',\n",
       " 'Place of Death Type',\n",
       " 'Death Facility',\n",
       " 'Certifier Designation',\n",
       " 'Attendant Title',\n",
       " 'ME Coroner Referred',\n",
       " 'Informant Relationship',\n",
       " 'Disposition',\n",
       " 'Disposition Other',\n",
       " 'Disposition Date',\n",
       " 'Disposition Date Month',\n",
       " 'Disposition Date Day',\n",
       " 'Disposition Date Year',\n",
       " 'Disposition Facility Code',\n",
       " 'Funeral Home Code',\n",
       " 'Birthplace State NCHS Code Death',\n",
       " 'Birthplace State FIPS Code Death',\n",
       " 'Residence County City WA Code',\n",
       " 'Residence County WA Code',\n",
       " 'Residence State',\n",
       " 'Residence State NCHS Code',\n",
       " 'Residence State FIPS Code',\n",
       " 'Residence Zip Code',\n",
       " 'Res Geo ZCTA 2010',\n",
       " 'Residence Length Type',\n",
       " 'Residence Length',\n",
       " 'Residence City Limits',\n",
       " 'Race White',\n",
       " 'Race Black',\n",
       " 'Race Amer Indian Alaskan',\n",
       " 'Race Asian Indian',\n",
       " 'Race Chinese',\n",
       " 'Race Filipino',\n",
       " 'Race Japanese',\n",
       " 'Race Korean',\n",
       " 'Race Vietnamese',\n",
       " 'Race Other Asian',\n",
       " 'Race Hawaiian',\n",
       " 'Race Guamanian or Chamorro',\n",
       " 'Race Samoan',\n",
       " 'Race Other Pacific Islander',\n",
       " 'Race Other',\n",
       " 'Race Tribe First',\n",
       " 'Race Tribe Second',\n",
       " 'Race Other Asian First',\n",
       " 'Race Other Asian Second',\n",
       " 'Race Other PI First',\n",
       " 'Race Other PI Second',\n",
       " 'Race Other First',\n",
       " 'Race Other Second',\n",
       " 'Bridge Race',\n",
       " 'Race Summary Code',\n",
       " 'Race Calculation',\n",
       " 'Hispanic No',\n",
       " 'Hispanic Mexican',\n",
       " 'Hispanic Puerto Rican',\n",
       " 'Hispanic Cuban',\n",
       " 'Hispanic Other',\n",
       " 'Hispanic Other Specify',\n",
       " 'Hispanic NCHS Ecode',\n",
       " 'Hispanic NCHS Ccode',\n",
       " 'Hispanic NCHS Bridge',\n",
       " 'Manner',\n",
       " 'ACME Line 1',\n",
       " 'ACME Line 2',\n",
       " 'ACME Line 3',\n",
       " 'ACME Line 4',\n",
       " 'ACME Line 5',\n",
       " 'ACME Line 6',\n",
       " 'ACME Line 7',\n",
       " 'ACME Line 8',\n",
       " 'ACME Line 9',\n",
       " 'ACME Line 10',\n",
       " 'ACME Line 11',\n",
       " 'ACME Line 12',\n",
       " 'ACME Line 13',\n",
       " 'ACME Line 14',\n",
       " 'ACME Line 15',\n",
       " 'ACME Line 16',\n",
       " 'ACME Line 17',\n",
       " 'ACME Line 18',\n",
       " 'ACME Line 19',\n",
       " 'ACME Line 20',\n",
       " 'ACME Sequence 1',\n",
       " 'ACME Sequence 2',\n",
       " 'ACME Sequence 3',\n",
       " 'ACME Sequence 4',\n",
       " 'ACME Sequence 5',\n",
       " 'ACME Sequence 6',\n",
       " 'ACME Sequence 7',\n",
       " 'ACME Sequence 8',\n",
       " 'ACME Sequence 9',\n",
       " 'ACME Sequence 10',\n",
       " 'ACME Sequence 11',\n",
       " 'ACME Sequence 12',\n",
       " 'ACME Sequence 13',\n",
       " 'ACME Sequence 14',\n",
       " 'ACME Sequence 15',\n",
       " 'ACME Sequence 16',\n",
       " 'ACME Sequence 17',\n",
       " 'ACME Sequence 18',\n",
       " 'ACME Sequence 19',\n",
       " 'ACME Sequence 20',\n",
       " 'ACME Cause Category 1',\n",
       " 'ACME Cause Category 2',\n",
       " 'ACME Cause Category 3',\n",
       " 'ACME Cause Category 4',\n",
       " 'ACME Cause Category 5',\n",
       " 'ACME Cause Category 6',\n",
       " 'ACME Cause Category 7',\n",
       " 'ACME Cause Category 8',\n",
       " 'ACME Cause Category 9',\n",
       " 'ACME Cause Category 10',\n",
       " 'ACME Cause Category 11',\n",
       " 'ACME Cause Category 12',\n",
       " 'ACME Cause Category 13',\n",
       " 'ACME Cause Category 14',\n",
       " 'ACME Cause Category 15',\n",
       " 'ACME Cause Category 16',\n",
       " 'ACME Cause Category 17',\n",
       " 'ACME Cause Category 18',\n",
       " 'ACME Cause Category 19',\n",
       " 'ACME Cause Category 20',\n",
       " 'ACME Nature of Injury Flag 1',\n",
       " 'ACME Nature of Injury Flag 2',\n",
       " 'ACME Nature of Injury Flag 3',\n",
       " 'ACME Nature of Injury Flag 4',\n",
       " 'ACME Nature of Injury Flag 5',\n",
       " 'ACME Nature of Injury Flag 6',\n",
       " 'ACME Nature of Injury Flag 7',\n",
       " 'ACME Nature of Injury Flag 8',\n",
       " 'ACME Nature of Injury Flag 9',\n",
       " 'ACME Nature of Injury Flag 10',\n",
       " 'ACME Nature of Injury Flag 11',\n",
       " 'ACME Nature of Injury Flag 12',\n",
       " 'ACME Nature of Injury Flag 13',\n",
       " 'ACME Nature of Injury Flag 14',\n",
       " 'ACME Nature of Injury Flag 15',\n",
       " 'ACME Nature of Injury Flag 16',\n",
       " 'ACME Nature of Injury Flag 17',\n",
       " 'ACME Nature of Injury Flag 18',\n",
       " 'ACME Nature of Injury Flag 19',\n",
       " 'ACME Nature of Injury Flag 20',\n",
       " 'Underlying COD Code',\n",
       " 'Record Axis Code 1',\n",
       " 'Record Axis Code 2',\n",
       " 'Record Axis Code 3',\n",
       " 'Record Axis Code 4',\n",
       " 'Record Axis Code 5',\n",
       " 'Record Axis Code 6',\n",
       " 'Record Axis Code 7',\n",
       " 'Record Axis Code 8',\n",
       " 'Record Axis Code 9',\n",
       " 'Record Axis Code 10',\n",
       " 'Record Axis Code 11',\n",
       " 'Record Axis Code 12',\n",
       " 'Record Axis Code 13',\n",
       " 'Record Axis Code 14',\n",
       " 'Record Axis Code 15',\n",
       " 'Record Axis Code 16',\n",
       " 'Record Axis Code 17',\n",
       " 'Record Axis Code 18',\n",
       " 'Record Axis Code 19',\n",
       " 'Record Axis Code 20',\n",
       " 'Autopsy',\n",
       " 'Autopsy Available',\n",
       " 'Date of Injury',\n",
       " 'Date of Injury Month',\n",
       " 'Date of Injury Day',\n",
       " 'Date of Injury Year',\n",
       " 'Injury Date Modifier',\n",
       " 'Time of Injury',\n",
       " 'Injury HR AMPM',\n",
       " 'Time of Injury Modifier',\n",
       " 'Injury Place',\n",
       " 'Injury ACME Place',\n",
       " 'Injury Transportation',\n",
       " 'Injury Transportation Other',\n",
       " 'Injury County City WA Code',\n",
       " 'Injury County WA Code',\n",
       " 'Injury State FIPS Code',\n",
       " 'Injury Zip Code',\n",
       " 'Date Received']"
      ]
     },
     "execution_count": 17,
     "metadata": {},
     "output_type": "execute_result"
    }
   ],
   "source": [
    "list(linked17.columns.values)"
   ]
  },
  {
   "cell_type": "code",
   "execution_count": 18,
   "metadata": {},
   "outputs": [
    {
     "data": {
      "text/plain": [
       "['SFN Encrypt',\n",
       " 'Birth Cert Type',\n",
       " 'Date of Birth - Month',\n",
       " 'Date of Birth - Year',\n",
       " 'Time of Birth',\n",
       " 'Sex',\n",
       " 'Plurality',\n",
       " 'Birth Order',\n",
       " 'Birthplace County City WA Code',\n",
       " 'Birthplace County WA Code',\n",
       " 'Birthplace State',\n",
       " 'Birthplace State NCHS Code',\n",
       " 'Birthplace State FIPS Code',\n",
       " 'Facility Type',\n",
       " 'Facility',\n",
       " 'Intended Facility',\n",
       " 'Mother Transfer',\n",
       " 'Facility Mother Transferred From',\n",
       " 'Child Transfer',\n",
       " 'Facility Infant Transferred To',\n",
       " 'Attendant Class',\n",
       " 'Certifier Class',\n",
       " 'Mother Calculated Age',\n",
       " 'Mother Residence City WA Code',\n",
       " 'Mother Residence County WA Code',\n",
       " 'Mother Residence State',\n",
       " 'Mother Residence State NCHS Code',\n",
       " 'Mother Residence State FIPS Code',\n",
       " 'Mother Residence Zip',\n",
       " 'Mother Years at Residence',\n",
       " 'Mother Months at Residence',\n",
       " 'Mother Birthplace State Code',\n",
       " 'Mother Birthplace Country',\n",
       " 'Mother Birthplace Country Code',\n",
       " 'Child Calculated Race',\n",
       " 'Child Calculated Ethnicity',\n",
       " 'Mother Race White',\n",
       " 'Mother Race Black',\n",
       " 'Mother Race AI AN',\n",
       " 'Mother Race Asian Indian',\n",
       " 'Mother Race Chinese',\n",
       " 'Mother Race Filipino',\n",
       " 'Mother Race Japanese',\n",
       " 'Mother Race Korean',\n",
       " 'Mother Race Vietnamese',\n",
       " 'Mother Race Other Asian',\n",
       " 'Mother Race Hawaiian',\n",
       " 'Mother Race Guam or Chamorro',\n",
       " 'Mother Race Samoan',\n",
       " 'Mother Race Other PI',\n",
       " 'Mother Race Other',\n",
       " 'Mother Race Tribe 1',\n",
       " 'Mother Race Tribe 2',\n",
       " 'Mother Race Other Asian 1',\n",
       " 'Mother Race Other Asian 2',\n",
       " 'Mother Race Other PI 1',\n",
       " 'Mother Race Other PI 2',\n",
       " 'Mother Race Other 1',\n",
       " 'Mother Race Other 2',\n",
       " 'Mother Bridge Race',\n",
       " 'Mother Race Calc',\n",
       " 'Mother Race Summary Code',\n",
       " 'Mother Hispanic No',\n",
       " 'Mother Hispanic Mexican',\n",
       " 'Mother Hispanic Puerto Rican',\n",
       " 'Mother Hispanic Cuban',\n",
       " 'Mother Hispanic Other',\n",
       " 'Mother Hispanic Other Specify',\n",
       " 'Mother Hispanic NCHS Ecode',\n",
       " 'Mother Hispanic NCHS Ccode',\n",
       " 'Mother Hispanic',\n",
       " 'Mother Education',\n",
       " 'Mother Educ 8th Grade or Less',\n",
       " 'Mother Occupation Milham',\n",
       " 'Mother Marital',\n",
       " 'Father Calculated Age',\n",
       " 'Father Birthplace State Code',\n",
       " 'Father Birthplace Country',\n",
       " 'Father Birthplace Country Code',\n",
       " 'Father Race White',\n",
       " 'Father Race Black',\n",
       " 'Father Race AIAN',\n",
       " 'Father Race Asian Indian',\n",
       " 'Father Race Chinese',\n",
       " 'Father Race Filipino',\n",
       " 'Father Race Japanese',\n",
       " 'Father Race Korean',\n",
       " 'Father Race Vietnamese',\n",
       " 'Father Race Other Asian',\n",
       " 'Father Race Hawaiian',\n",
       " 'Father Race Guam or Chamorro',\n",
       " 'Father Race Samoan',\n",
       " 'Father Race Other PI',\n",
       " 'Father Race Other',\n",
       " 'Father Race Tribe 1',\n",
       " 'Father Race Tribe 2',\n",
       " 'Father Race Other Asian 1',\n",
       " 'Father Race Other Asian 2',\n",
       " 'Father Race Other PI 1',\n",
       " 'Father Race Other PI 2',\n",
       " 'Father Race Other 1',\n",
       " 'Father Race Other 2',\n",
       " 'Father Bridge Race',\n",
       " 'Father Race Calc',\n",
       " 'Father Race Summary Code',\n",
       " 'Father Hispanic No',\n",
       " 'Father Hispanic Mexican',\n",
       " 'Father Hispanic Puerto Rican',\n",
       " 'Father Hispanic Cuban',\n",
       " 'Father Hispanic Other',\n",
       " 'Father Hispanic Other Specify',\n",
       " 'Father Hispanic NCHS Ecodes',\n",
       " 'Father Hispanic NCHS Ccodes',\n",
       " 'Father Hispanic',\n",
       " 'Father Education',\n",
       " 'Father Educ 8th Grade or Less',\n",
       " 'Father Occupation Milham',\n",
       " 'Mother Height Feet',\n",
       " 'Mother Height Inches',\n",
       " 'Mother Weight Prior',\n",
       " 'Mother Weight at Delivery',\n",
       " 'Mother Weight Gain',\n",
       " 'Mother BMI',\n",
       " 'Mother Smoked',\n",
       " 'Cigarettes Smoked 3 Months Prior',\n",
       " 'Packs Smoked 3 Months Prior',\n",
       " 'Cigarettes Smoked 1st Tri',\n",
       " 'Packs Smoked 1st Tri',\n",
       " 'Cigarettes Smoked 2nd Tri',\n",
       " 'Packs Smoked 2nd Tri',\n",
       " 'Cigarettes Smoked 3rd Tri',\n",
       " 'Packs Smoked 3rd Tri',\n",
       " 'Source of Payment',\n",
       " 'Other Source of Payment Specify',\n",
       " 'WIC',\n",
       " 'Date First Prenatal Visit',\n",
       " 'Date Last Prenatal Visit',\n",
       " 'Month Prenatal Care Began',\n",
       " 'NCHS Month Prenatal Care Began',\n",
       " 'Number Prenatal Visits',\n",
       " 'Prior Live Births Living',\n",
       " 'Prior Live Birth Deceased',\n",
       " 'Last Live Birth Month',\n",
       " 'Last Live Birth Year',\n",
       " 'Other Preg Outcomes',\n",
       " 'Other Preg Outcomes Month',\n",
       " 'Other Preg Outcomes Year',\n",
       " 'Date Last Menses',\n",
       " 'Last Menses Month',\n",
       " 'Last Menses Day',\n",
       " 'Last Menses Year',\n",
       " 'Gestation Estimate',\n",
       " 'Calculated Gestation',\n",
       " 'Gestation Calculated Flag',\n",
       " 'Child Alive',\n",
       " 'Breastfed',\n",
       " 'Birth Weight - Grams',\n",
       " 'Birth Weight - Pounds',\n",
       " 'Birth Weight - Ounces',\n",
       " 'Head Circumference',\n",
       " 'APGAR 5',\n",
       " 'APGAR 10',\n",
       " 'Prepreg Diabetes',\n",
       " 'Gestational Diabetes',\n",
       " 'Prepreg Hypertension',\n",
       " 'Gestational Hypertension',\n",
       " 'Hypertension Eclampsia',\n",
       " 'Preterm Births',\n",
       " 'Poor Preg Outcomes',\n",
       " 'Vaginal Bleeding',\n",
       " 'Fertility Treatment',\n",
       " 'Assisted Reproduction',\n",
       " 'Previous Cesarean',\n",
       " 'Num Prev Cesarean',\n",
       " 'Group B Strep',\n",
       " 'Risk Factors None',\n",
       " 'Risk Factors Unknown',\n",
       " 'Gonorrhea',\n",
       " 'Syphilis',\n",
       " 'Herpes',\n",
       " 'Chlamydia',\n",
       " 'Hep B',\n",
       " 'Hep C',\n",
       " 'Infections Other',\n",
       " 'Infections Other Specify',\n",
       " 'Infections None',\n",
       " 'Infections Unknown',\n",
       " 'Cervical Cerclage',\n",
       " 'Tocolysis',\n",
       " 'ECV Success',\n",
       " 'ECV Failed',\n",
       " 'Obstet Proc None',\n",
       " 'Obstet Proc Unknown',\n",
       " 'Ruptured Membranes',\n",
       " 'Precipitous Labor',\n",
       " 'Prolonged Labor',\n",
       " 'Labor Onset None',\n",
       " 'Labor Onset Unknown',\n",
       " 'Induction',\n",
       " 'Augmentation',\n",
       " 'Non Vertex Presentation',\n",
       " 'Anesthesia',\n",
       " 'Steroids',\n",
       " 'Antibiotics',\n",
       " 'Chorioamnionitis',\n",
       " 'Meconium Stain',\n",
       " 'Fetal Intolerance',\n",
       " 'Maternal Inf None',\n",
       " 'Maternal Inf Unknown',\n",
       " 'Maternal Transfusion',\n",
       " 'Perineal Laceration',\n",
       " 'Ruptured Uterus',\n",
       " 'Hyserectomy',\n",
       " 'Intensive Care',\n",
       " 'Operation',\n",
       " 'Maternal Morbidity None',\n",
       " 'Maternal Morbidity Unknown',\n",
       " 'Attempt Forceps',\n",
       " 'Attempt Vacuum',\n",
       " 'Fetal Presentation',\n",
       " 'Delivery Method Final',\n",
       " 'Delivery Method Calculation',\n",
       " 'Assist Vent',\n",
       " 'Assist Vent 6',\n",
       " 'NICU Admission',\n",
       " 'Surfactant',\n",
       " 'Child Antibiotics',\n",
       " 'Child Seizure',\n",
       " 'Child Injury',\n",
       " 'Abnormal Conditions None',\n",
       " 'Abnormal Conditions Unknown',\n",
       " 'Anencephaly',\n",
       " 'MSB',\n",
       " 'Congenital Heart',\n",
       " 'Congenital Hernia',\n",
       " 'Omphalocele',\n",
       " 'Gastroschisis',\n",
       " 'Limb Defect',\n",
       " 'Cleft Lip',\n",
       " 'Cleft Palate',\n",
       " 'Down Syndrome',\n",
       " 'Down Confirm',\n",
       " 'Down Pending',\n",
       " 'Other Chrom',\n",
       " 'Other Chrom Confirm',\n",
       " 'Other Chrom Pending',\n",
       " 'Hypospadias',\n",
       " 'Congenital Anomaly None',\n",
       " 'Congenital Anomaly Unknown',\n",
       " 'Deceased Flag',\n",
       " 'Sex Death',\n",
       " 'Date of Death',\n",
       " 'Date of Death - Month',\n",
       " 'Date of Death - Day',\n",
       " 'Date of Death - Year',\n",
       " 'Date of Death Modifier',\n",
       " 'Time of Death',\n",
       " 'Time of Death Modifier',\n",
       " 'DOB Month',\n",
       " 'DOB Year',\n",
       " 'Age Unit',\n",
       " 'Age',\n",
       " 'Death County City WA Code',\n",
       " 'Death County WA Code',\n",
       " 'Death State',\n",
       " 'Death State NCHS Code',\n",
       " 'Death State FIPS Code',\n",
       " 'Death Zip Code',\n",
       " 'Place of Death Type',\n",
       " 'Death Facility',\n",
       " 'Certifier Designation',\n",
       " 'Attendant Title',\n",
       " 'ME Coroner Referred',\n",
       " 'Informant Relationship',\n",
       " 'Disposition',\n",
       " 'Disposition Other',\n",
       " 'Disposition Date',\n",
       " 'Disposition Date - Month',\n",
       " 'Disposition Date - Day',\n",
       " 'Disposition Date - Year',\n",
       " 'Disposition Facility Code',\n",
       " 'Funeral Home Code',\n",
       " 'Birthplace State Code Death',\n",
       " 'Birthplace State FIPS Code Death',\n",
       " 'Birthplace Country WA Code',\n",
       " 'Residence County City WA Code',\n",
       " 'Residence County WA Code',\n",
       " 'Residence State',\n",
       " 'Residence State NCHS Code',\n",
       " 'Residence State FIPS Code',\n",
       " 'Residence Zip Code',\n",
       " 'Res Geo ZCTA 2010',\n",
       " 'Residence Length Units',\n",
       " 'Residence Length',\n",
       " 'Residence City Limits',\n",
       " 'Race White',\n",
       " 'Race Black',\n",
       " 'Race Amer Indian Alaskan',\n",
       " 'Race Asian Indian',\n",
       " 'Race Chinese',\n",
       " 'Race Filipino',\n",
       " 'Race Japanese',\n",
       " 'Race Korean',\n",
       " 'Race Vietnamese',\n",
       " 'Race Other Asian',\n",
       " 'Race Hawaiian',\n",
       " 'Race Guamanian or Chamorro',\n",
       " 'Race Samoan',\n",
       " 'Race Other Pacific Islander',\n",
       " 'Race Other',\n",
       " 'Race Tribe First',\n",
       " 'Race Tribe Second',\n",
       " 'Race Other Asian First',\n",
       " 'Race Other Asian Second',\n",
       " 'Race Other PI First',\n",
       " 'Race Other PI Second',\n",
       " 'Race Other First',\n",
       " 'Race Other Second',\n",
       " 'Bridge Race',\n",
       " 'Race Summary',\n",
       " 'Race Calculation',\n",
       " 'Hispanic No',\n",
       " 'Hispanic Mexican',\n",
       " 'Hispanic Puerto Rican',\n",
       " 'Hispanic Cuban',\n",
       " 'Hispanic Other',\n",
       " 'Hispanic Other Specify',\n",
       " 'Hispanic NCHS Ecode',\n",
       " 'Hispanic NCHS Ccode',\n",
       " 'Manner',\n",
       " 'ACME Line 1',\n",
       " 'ACME Line 2',\n",
       " 'ACME Line 3',\n",
       " 'ACME Line 4',\n",
       " 'ACME Line 5',\n",
       " 'ACME Line 6',\n",
       " 'ACME Line 7',\n",
       " 'ACME Line 8',\n",
       " 'ACME Line 9',\n",
       " 'ACME Line 10',\n",
       " 'ACME Line 11',\n",
       " 'ACME Line 12',\n",
       " 'ACME Line 13',\n",
       " 'ACME Line 14',\n",
       " 'ACME Line 15',\n",
       " 'ACME Line 16',\n",
       " 'ACME Line 17',\n",
       " 'ACME Line 18',\n",
       " 'ACME Line 19',\n",
       " 'ACME Line 20',\n",
       " 'ACME Sequence 1',\n",
       " 'ACME Sequence 2',\n",
       " 'ACME Sequence 3',\n",
       " 'ACME Sequence 4',\n",
       " 'ACME Sequence 5',\n",
       " 'ACME Sequence 6',\n",
       " 'ACME Sequence 7',\n",
       " 'ACME Sequence 8',\n",
       " 'ACME Sequence 9',\n",
       " 'ACME Sequence 10',\n",
       " 'ACME Sequence 11',\n",
       " 'ACME Sequence 12',\n",
       " 'ACME Sequence 13',\n",
       " 'ACME Sequence 14',\n",
       " 'ACME Sequence 15',\n",
       " 'ACME Sequence 16',\n",
       " 'ACME Sequence 17',\n",
       " 'ACME Sequence 18',\n",
       " 'ACME Sequence 19',\n",
       " 'ACME Sequence 20',\n",
       " 'ACME Cause Category 1',\n",
       " 'ACME Cause Category 2',\n",
       " 'ACME Cause Category 3',\n",
       " 'ACME Cause Category 4',\n",
       " 'ACME Cause Category 5',\n",
       " 'ACME Cause Category 6',\n",
       " 'ACME Cause Category 7',\n",
       " 'ACME Cause Category 8',\n",
       " 'ACME Cause Category 9',\n",
       " 'ACME Cause Category 10',\n",
       " 'ACME Cause Category 11',\n",
       " 'ACME Cause Category 12',\n",
       " 'ACME Cause Category 13',\n",
       " 'ACME Cause Category 14',\n",
       " 'ACME Cause Category 15',\n",
       " 'ACME Cause Category 16',\n",
       " 'ACME Cause Category 17',\n",
       " 'ACME Cause Category 18',\n",
       " 'ACME Cause Category 19',\n",
       " 'ACME Cause Category 20',\n",
       " 'ACME Nature of Injury Flag 1',\n",
       " 'ACME Nature of Injury Flag 2',\n",
       " 'ACME Nature of Injury Flag 3',\n",
       " 'ACME Nature of Injury Flag 4',\n",
       " 'ACME Nature of Injury Flag 5',\n",
       " 'ACME Nature of Injury Flag 6',\n",
       " 'ACME Nature of Injury Flag 7',\n",
       " 'ACME Nature of Injury Flag 8',\n",
       " 'ACME Nature of Injury Flag 9',\n",
       " 'ACME Nature of Injury Flag 10',\n",
       " 'ACME Nature of Injury Flag 11',\n",
       " 'ACME Nature of Injury Flag 12',\n",
       " 'ACME Nature of Injury Flag 13',\n",
       " 'ACME Nature of Injury Flag 14',\n",
       " 'ACME Nature of Injury Flag 15',\n",
       " 'ACME Nature of Injury Flag 16',\n",
       " 'ACME Nature of Injury Flag 17',\n",
       " 'ACME Nature of Injury Flag 18',\n",
       " 'ACME Nature of Injury Flag 19',\n",
       " 'ACME Nature of Injury Flag 20',\n",
       " 'Underlying COD Code',\n",
       " 'Record Axis Code 1',\n",
       " 'Record Axis Code 2',\n",
       " 'Record Axis Code 3',\n",
       " 'Record Axis Code 4',\n",
       " 'Record Axis Code 5',\n",
       " 'Record Axis Code 6',\n",
       " 'Record Axis Code 7',\n",
       " 'Record Axis Code 8',\n",
       " 'Record Axis Code 9',\n",
       " 'Record Axis Code 10',\n",
       " 'Record Axis Code 11',\n",
       " 'Record Axis Code 12',\n",
       " 'Record Axis Code 13',\n",
       " 'Record Axis Code 14',\n",
       " 'Record Axis Code 15',\n",
       " 'Record Axis Code 16',\n",
       " 'Record Axis Code 17',\n",
       " 'Record Axis Code 18',\n",
       " 'Record Axis Code 19',\n",
       " 'Record Axis Code 20',\n",
       " 'Autopsy',\n",
       " 'Autopsy Available',\n",
       " 'Date of Injury',\n",
       " 'Date of Injury - Month',\n",
       " 'Date of Injury - Day',\n",
       " 'Date of Injury - Year',\n",
       " 'Injury Date Modifier',\n",
       " 'Time of Injury',\n",
       " 'Time HR AMPM',\n",
       " 'Time of Injury Modifier',\n",
       " 'Injury Place',\n",
       " 'Injury ACME Place',\n",
       " 'Injury Transportation',\n",
       " 'Injury Transportation Other',\n",
       " 'Injury County City WA Code',\n",
       " 'Injury County WA Code',\n",
       " 'Injury FIPS State Code',\n",
       " 'Injury Zip Code',\n",
       " 'Date Received']"
      ]
     },
     "execution_count": 18,
     "metadata": {},
     "output_type": "execute_result"
    }
   ],
   "source": [
    "list(linked16.columns.values)"
   ]
  },
  {
   "cell_type": "markdown",
   "metadata": {},
   "source": [
    "#### STANDARDIZE VARIABLES NAMES IN 2016 AND 2017 LINKED FILES"
   ]
  },
  {
   "cell_type": "markdown",
   "metadata": {},
   "source": [
    "- Variable names and types are not consistent in the 2016 and 2017 infant birth-death linked files that will be used as training data.  The first step is to make these consistent for all variables to be used in linkage."
   ]
  },
  {
   "cell_type": "markdown",
   "metadata": {},
   "source": [
    "There are several variable names that we need to keep for merges in the future that are named differently in the two infant linked files.  I will rename select variables in the 2016 file so that they are consistent with 2017 infant linked file names."
   ]
  },
  {
   "cell_type": "code",
   "execution_count": 8,
   "metadata": {},
   "outputs": [
    {
     "name": "stderr",
     "output_type": "stream",
     "text": [
      "C:\\ProgramData\\Anaconda3\\lib\\site-packages\\pandas\\core\\frame.py:4223: SettingWithCopyWarning: \n",
      "A value is trying to be set on a copy of a slice from a DataFrame\n",
      "\n",
      "See the caveats in the documentation: http://pandas.pydata.org/pandas-docs/stable/user_guide/indexing.html#returning-a-view-versus-a-copy\n",
      "  return super().rename(**kwargs)\n"
     ]
    }
   ],
   "source": [
    "WAlnkd16.rename(columns = {'SFN Encrypt':'Birth Cert Encrypt',\n",
    "                           'Date of Birth - Month' : 'Date of Birth Month',\n",
    "                           'Date of Birth - Year': 'Date of Birth Year',\n",
    "                           'Date of Death - Month' : 'Date of Death Month',\n",
    "                           'Date of Death - Day' : 'Date of Death Day',\n",
    "                           'Date of Death - Year' : 'Date of Death Year',\n",
    "                          }, inplace = True) "
   ]
  },
  {
   "cell_type": "markdown",
   "metadata": {},
   "source": [
    "####  APPEND 2016, 2017 LINKED FILES AND LIMIT DATA TO LINKING VARIABLES"
   ]
  },
  {
   "cell_type": "code",
   "execution_count": 10,
   "metadata": {},
   "outputs": [
    {
     "data": {
      "text/plain": [
       "(740, 481)"
      ]
     },
     "execution_count": 10,
     "metadata": {},
     "output_type": "execute_result"
    }
   ],
   "source": [
    "WAlnkd1617 = pd.concat([WAlnkd16, WAlnkd17], sort=True, ignore_index=True)\n",
    "WAlnkd1617.shape"
   ]
  },
  {
   "cell_type": "markdown",
   "metadata": {},
   "source": [
    "Keep columns that will be used for linkage and drop the rest.  I will re-merge the dropped variables after the machine learning model has been created  "
   ]
  },
  {
   "cell_type": "code",
   "execution_count": 11,
   "metadata": {},
   "outputs": [],
   "source": [
    "keep  = ['Birth Cert Encrypt','Birth Cert Type','Date of Birth Month', 'Date of Birth Year', 'Sex', 'Birthplace State FIPS Code',\n",
    "         'Mother Residence State', 'Mother Residence State FIPS Code', 'Mother Residence Zip', 'Death SFN', 'Sex Death',\n",
    "         'Date of Death', 'Date of Death Month', 'Date of Death Day', 'Date of Death Year', 'Death State', 'Death Zip Code',\n",
    "         'Birthplace State FIPS Code Death', 'Residence State FIPS Code', 'Residence Zip Code', 'Bridge Race', 'Hispanic No','Manner',\n",
    "         'Underlying COD Code']"
   ]
  },
  {
   "cell_type": "code",
   "execution_count": 12,
   "metadata": {},
   "outputs": [
    {
     "data": {
      "text/plain": [
       "(740, 24)"
      ]
     },
     "execution_count": 12,
     "metadata": {},
     "output_type": "execute_result"
    }
   ],
   "source": [
    "WAlnkd1617 = WAlnkd1617.loc[:,keep]\n",
    "WAlnkd1617.shape"
   ]
  },
  {
   "cell_type": "code",
   "execution_count": 15,
   "metadata": {},
   "outputs": [
    {
     "name": "stdout",
     "output_type": "stream",
     "text": [
      "<class 'pandas.core.frame.DataFrame'>\n",
      "RangeIndex: 740 entries, 0 to 739\n",
      "Data columns (total 24 columns):\n",
      "Birth Cert Encrypt                  740 non-null int64\n",
      "Birth Cert Type                     740 non-null object\n",
      "Date of Birth Month                 740 non-null float64\n",
      "Date of Birth Year                  740 non-null float64\n",
      "Sex                                 740 non-null object\n",
      "Birthplace State FIPS Code          740 non-null object\n",
      "Mother Residence State              740 non-null object\n",
      "Mother Residence State FIPS Code    740 non-null object\n",
      "Mother Residence Zip                740 non-null object\n",
      "Death SFN                           351 non-null float64\n",
      "Sex Death                           740 non-null object\n",
      "Date of Death                       740 non-null object\n",
      "Date of Death Month                 740 non-null int64\n",
      "Date of Death Day                   740 non-null int64\n",
      "Date of Death Year                  740 non-null int64\n",
      "Death State                         715 non-null object\n",
      "Death Zip Code                      706 non-null float64\n",
      "Birthplace State FIPS Code Death    740 non-null object\n",
      "Residence State FIPS Code           740 non-null object\n",
      "Residence Zip Code                  739 non-null object\n",
      "Bridge Race                         736 non-null float64\n",
      "Hispanic No                         740 non-null object\n",
      "Manner                              736 non-null object\n",
      "Underlying COD Code                 734 non-null object\n",
      "dtypes: float64(5), int64(4), object(15)\n",
      "memory usage: 138.9+ KB\n"
     ]
    }
   ],
   "source": [
    "WAlnkd1617.info()"
   ]
  },
  {
   "cell_type": "markdown",
   "metadata": {},
   "source": [
    "#### CHECK FOR MISSING VALUES"
   ]
  },
  {
   "cell_type": "code",
   "execution_count": 17,
   "metadata": {},
   "outputs": [
    {
     "data": {
      "text/plain": [
       "Birth Cert Encrypt                    0\n",
       "Birth Cert Type                       0\n",
       "Date of Birth Month                   0\n",
       "Date of Birth Year                    0\n",
       "Sex                                   0\n",
       "Birthplace State FIPS Code            0\n",
       "Mother Residence State                0\n",
       "Mother Residence State FIPS Code      0\n",
       "Mother Residence Zip                  0\n",
       "Death SFN                           389\n",
       "Sex Death                             0\n",
       "Date of Death                         0\n",
       "Date of Death Month                   0\n",
       "Date of Death Day                     0\n",
       "Date of Death Year                    0\n",
       "Death State                          25\n",
       "Death Zip Code                       34\n",
       "Birthplace State FIPS Code Death      0\n",
       "Residence State FIPS Code             0\n",
       "Residence Zip Code                    1\n",
       "Bridge Race                           4\n",
       "Hispanic No                           0\n",
       "Manner                                4\n",
       "Underlying COD Code                   6\n",
       "dtype: int64"
      ]
     },
     "execution_count": 17,
     "metadata": {},
     "output_type": "execute_result"
    }
   ],
   "source": [
    "pd.set_option('display.max_columns', None)\n",
    "pd.set_option('display.max_rows', None)\n",
    "\n",
    "WAlnkd1617.isnull().sum()"
   ]
  },
  {
   "cell_type": "markdown",
   "metadata": {},
   "source": [
    "- There are very few missing values in the columns exctp for 'Death SFN', so this is a relatively clean data set in terms of missingness."
   ]
  },
  {
   "cell_type": "markdown",
   "metadata": {},
   "source": [
    "#### STANDARDIZE BIRTH AND DEATH CERTIFICATE NUMBERS"
   ]
  },
  {
   "cell_type": "markdown",
   "metadata": {},
   "source": [
    "In the infant linked file, check data type of birth and death certificate numbers ('Birth Cert Encrypt' and 'Death SFN') to make sure they are the same type as in birth and death files so that I can join data based on these numbers to incorporate additional columns needed to completed the linked file data set."
   ]
  },
  {
   "cell_type": "code",
   "execution_count": 30,
   "metadata": {},
   "outputs": [
    {
     "data": {
      "text/plain": [
       "dtype('int64')"
      ]
     },
     "execution_count": 30,
     "metadata": {},
     "output_type": "execute_result"
    }
   ],
   "source": [
    "WAlnkd1617['Birth Cert Encrypt'].dtypes"
   ]
  },
  {
   "cell_type": "code",
   "execution_count": 31,
   "metadata": {},
   "outputs": [
    {
     "data": {
      "text/plain": [
       "dtype('float64')"
      ]
     },
     "execution_count": 31,
     "metadata": {},
     "output_type": "execute_result"
    }
   ],
   "source": [
    "WAlnkd1617['Death SFN'].dtypes"
   ]
  },
  {
   "cell_type": "markdown",
   "metadata": {},
   "source": [
    " - both variables are consistent with their counterparts in the birth and death files in terms of data types."
   ]
  },
  {
   "cell_type": "markdown",
   "metadata": {},
   "source": [
    "#### ADD LINKING VARIABLES"
   ]
  },
  {
   "cell_type": "markdown",
   "metadata": {},
   "source": [
    "Add back columns that will be needed for machine learning classification later.  These columns were removed from the infant birth-death linked file as a matter of routine practice to protect the identities of the families.\n",
    "\n",
    "I merge the infant linked file first with the death 2016-18 file on death certificate number and then with the birth 2016-18 using birth certificate number.  With each merge, I add back columns that were removed during the creation of the linked file for confidentiality reasons."
   ]
  },
  {
   "cell_type": "code",
   "execution_count": 19,
   "metadata": {},
   "outputs": [],
   "source": [
    "d1618 = pd.read_csv(r'Y:\\DQSS\\Death\\MBG\\Py\\Data\\d1618_clean.csv', low_memory=False)\n",
    "b1618 = pd.read_csv(r'Y:\\DQSS\\Death\\MBG\\Py\\Data\\b1618_clean.csv', low_memory=False)"
   ]
  },
  {
   "cell_type": "code",
   "execution_count": null,
   "metadata": {},
   "outputs": [],
   "source": []
  },
  {
   "cell_type": "code",
   "execution_count": 20,
   "metadata": {},
   "outputs": [],
   "source": [
    "WAlnkd1617a = pd.merge(WAlnkd1617,\n",
    "                     d1618[['dbirsfn','dssn','dfname','dmname','dlname','dmom_fname',\n",
    "                                      'dmom_mname','dmom_lname','ddob','ddobm','ddobd','ddoby',\n",
    "                                      'dbircountryl','dbircountryfips','ddthcityl','ddthcityfips',\n",
    "                                      'ddthcountyl','ddthcntyfips','drescity','drescityfips',\n",
    "                                      'drescitylim','drescountyl','drescntyfips', 'dsfn']],\n",
    "                     how='left',\n",
    "                     left_on = \"Death SFN\",\n",
    "                     right_on = \"dsfn\")"
   ]
  },
  {
   "cell_type": "code",
   "execution_count": 25,
   "metadata": {},
   "outputs": [],
   "source": [
    "WAlnkd1618b = pd.merge(WAlnkd1617a,\n",
    "                    b1618[['b_momrescntyfips','b_momrescountyl','b_momrescityfips','b_momrescity',\n",
    "                           'bdobd','bdob','bmom_lname','bmom_mname','bmom_fname','bfname','bmname',\n",
    "                           'blname', 'bsfn', 'b_momresstatefips']],\n",
    "                    how = 'left',\n",
    "                    left_on = \"Birth Cert Encrypt\",\n",
    "                    right_on = \"bsfn\")"
   ]
  },
  {
   "cell_type": "code",
   "execution_count": 26,
   "metadata": {},
   "outputs": [
    {
     "data": {
      "text/plain": [
       "(740, 62)"
      ]
     },
     "execution_count": 26,
     "metadata": {},
     "output_type": "execute_result"
    }
   ],
   "source": [
    "WAlnkd1618b.shape"
   ]
  },
  {
   "cell_type": "code",
   "execution_count": 27,
   "metadata": {},
   "outputs": [
    {
     "data": {
      "text/plain": [
       "Birth Cert Encrypt                    int64\n",
       "Birth Cert Type                      object\n",
       "Date of Birth Month                 float64\n",
       "Date of Birth Year                  float64\n",
       "Sex                                  object\n",
       "Birthplace State FIPS Code           object\n",
       "Mother Residence State               object\n",
       "Mother Residence State FIPS Code     object\n",
       "Mother Residence Zip                 object\n",
       "Death SFN                           float64\n",
       "Sex Death                            object\n",
       "Date of Death                        object\n",
       "Date of Death Month                   int64\n",
       "Date of Death Day                     int64\n",
       "Date of Death Year                    int64\n",
       "Death State                          object\n",
       "Death Zip Code                      float64\n",
       "Birthplace State FIPS Code Death     object\n",
       "Residence State FIPS Code            object\n",
       "Residence Zip Code                   object\n",
       "Bridge Race                         float64\n",
       "Hispanic No                          object\n",
       "Manner                               object\n",
       "Underlying COD Code                  object\n",
       "dbirsfn                              object\n",
       "dssn                                float64\n",
       "dfname                               object\n",
       "dmname                               object\n",
       "dlname                               object\n",
       "dmom_fname                           object\n",
       "dmom_mname                           object\n",
       "dmom_lname                           object\n",
       "ddob                                 object\n",
       "ddobm                               float64\n",
       "ddobd                               float64\n",
       "ddoby                               float64\n",
       "dbircountryl                         object\n",
       "dbircountryfips                      object\n",
       "ddthcityl                            object\n",
       "ddthcityfips                        float64\n",
       "ddthcountyl                          object\n",
       "ddthcntyfips                        float64\n",
       "drescity                             object\n",
       "drescityfips                        float64\n",
       "drescitylim                          object\n",
       "drescountyl                          object\n",
       "drescntyfips                        float64\n",
       "dsfn                                float64\n",
       "b_momrescntyfips                    float64\n",
       "b_momrescountyl                      object\n",
       "b_momrescityfips                    float64\n",
       "b_momrescity                         object\n",
       "bdobd                               float64\n",
       "bdob                                 object\n",
       "bmom_lname                           object\n",
       "bmom_mname                           object\n",
       "bmom_fname                           object\n",
       "bfname                               object\n",
       "bmname                               object\n",
       "blname                               object\n",
       "bsfn                                float64\n",
       "b_momresstatefips                    object\n",
       "dtype: object"
      ]
     },
     "execution_count": 27,
     "metadata": {},
     "output_type": "execute_result"
    }
   ],
   "source": [
    "WAlnkd1618b.dtypes"
   ]
  },
  {
   "cell_type": "code",
   "execution_count": 24,
   "metadata": {},
   "outputs": [
    {
     "data": {
      "text/plain": [
       "WASHINGTON    714\n",
       "NaN            25\n",
       "OREGON          1\n",
       "Name: Death State, dtype: int64"
      ]
     },
     "execution_count": 24,
     "metadata": {},
     "output_type": "execute_result"
    }
   ],
   "source": [
    "WAlnkd1618b['Death State'].value_counts(dropna=False)"
   ]
  },
  {
   "cell_type": "code",
   "execution_count": 29,
   "metadata": {},
   "outputs": [
    {
     "data": {
      "text/plain": [
       "NaN    740\n",
       "Name: b_momresstatefips, dtype: int64"
      ]
     },
     "execution_count": 29,
     "metadata": {},
     "output_type": "execute_result"
    }
   ],
   "source": [
    "WAlnkd1618b['b_momresstatefips'].value_counts(dropna=False)"
   ]
  },
  {
   "cell_type": "code",
   "execution_count": null,
   "metadata": {},
   "outputs": [],
   "source": []
  },
  {
   "cell_type": "markdown",
   "metadata": {},
   "source": [
    "#### CHECK FOR NULL AND OUT OF RANGE VALUES"
   ]
  },
  {
   "cell_type": "markdown",
   "metadata": {},
   "source": [
    "Probably will not use mothers' and infants' middle name for linking as there are too many missing values."
   ]
  },
  {
   "cell_type": "markdown",
   "metadata": {},
   "source": [
    "#### STANDARDIZE NAMES"
   ]
  },
  {
   "cell_type": "markdown",
   "metadata": {},
   "source": [
    "First, middle, and last names of infants and mothers as well as city names will be standardized by converting these columns to upper case text, removing white spaces, removing hyphens and other punctuation marks."
   ]
  },
  {
   "cell_type": "code",
   "execution_count": 52,
   "metadata": {},
   "outputs": [],
   "source": [
    "infdth18 = infdth18.apply(lambda x: x.str.upper() if type(x) == str else x)"
   ]
  },
  {
   "cell_type": "code",
   "execution_count": 54,
   "metadata": {
    "scrolled": true
   },
   "outputs": [],
   "source": [
    "infdth18 = infdth18.apply(lambda x: x.str.strip() if type(x) == str else x)\n",
    "infdth18 = infdth18.applymap(lambda x: x.replace(\" \", \"\") if type(x) == str else x)\n",
    "infdth18 = infdth18.applymap(lambda x: x.replace(\"-\", \"\") if type(x) == str else x)\n",
    "infdth18 = infdth18.applymap(lambda x: x.replace(\".\", \"\") if type(x) == str else x)"
   ]
  },
  {
   "cell_type": "code",
   "execution_count": null,
   "metadata": {},
   "outputs": [],
   "source": []
  },
  {
   "cell_type": "markdown",
   "metadata": {},
   "source": [
    "#### CREATE SUBSET CONSISTING OF LINKING VARIABLES IN DEATH DATA"
   ]
  },
  {
   "cell_type": "code",
   "execution_count": 60,
   "metadata": {},
   "outputs": [],
   "source": [
    "# create subset of death linking variables: decedent's first and last names, mother's first and last\n",
    "# name, decedents date of birth, decedent's sex, residence county and city, and decedent's SSN.\n",
    "\n",
    "dthlinkvars = infdth18.loc[:,['sfn', 'birthsfn', 'ssn', 'fname', 'lname', 'mom_fname', 'mom_lname', \n",
    "                              'dobm', 'dobd', 'doby', 'dob', 'sex', 'rcityfips', 'rcity', 'rcntyfips', \n",
    "                              'rcountyl', 'dstatel']]\n",
    "\n",
    "dthlinkvars.reset_index(drop=True, inplace=True)"
   ]
  },
  {
   "cell_type": "code",
   "execution_count": 61,
   "metadata": {},
   "outputs": [],
   "source": [
    "## CHECK FOR OUT OF RANGE VALUES - RESTRICT TO VARIABLES THAT WILL BE USED FOR LINKING AT THIS POINT"
   ]
  },
  {
   "cell_type": "code",
   "execution_count": 62,
   "metadata": {},
   "outputs": [],
   "source": [
    "#create dictionary of valid values so that each variable can be checked to make sure there is no\n",
    "# out of range value.\n",
    "\n",
    "valids = {'sex': ['M', 'F', 'U'],\n",
    "          'dobm': [1, 2, 3, 4, 5, 6, 7, 8, 9, 10, 11, 12, 99],\n",
    "          'dobd': np.r_[1:32 ,99],\n",
    "          'doby': [2017,2018],\n",
    "         'rcntyfips': np.r_[range(1, 78, 2), 99]}"
   ]
  },
  {
   "cell_type": "code",
   "execution_count": 63,
   "metadata": {},
   "outputs": [
    {
     "data": {
      "text/plain": [
       "0"
      ]
     },
     "execution_count": 63,
     "metadata": {},
     "output_type": "execute_result"
    }
   ],
   "source": [
    "# check for out of range values for 'sex'\n",
    "\n",
    "chksex = dthlinkvars['sex'].isin(valids['sex'])\n",
    "len(dthlinkvars[~chksex])"
   ]
  },
  {
   "cell_type": "code",
   "execution_count": 64,
   "metadata": {},
   "outputs": [
    {
     "data": {
      "text/plain": [
       "0"
      ]
     },
     "execution_count": 64,
     "metadata": {},
     "output_type": "execute_result"
    }
   ],
   "source": [
    "# check for out of range values for 'dobm'\n",
    "\n",
    "chkdobm = dthlinkvars['dobm'].isin(valids['dobm'])\n",
    "len(dthlinkvars[~chkdobm])"
   ]
  },
  {
   "cell_type": "code",
   "execution_count": 65,
   "metadata": {},
   "outputs": [
    {
     "data": {
      "text/plain": [
       "0"
      ]
     },
     "execution_count": 65,
     "metadata": {},
     "output_type": "execute_result"
    }
   ],
   "source": [
    "# check for out of range values for 'doby'\n",
    "\n",
    "chkdoby = dthlinkvars['doby'].isin(valids['doby'])\n",
    "len(dthlinkvars[~chkdoby])"
   ]
  },
  {
   "cell_type": "code",
   "execution_count": 66,
   "metadata": {},
   "outputs": [
    {
     "data": {
      "text/plain": [
       "0"
      ]
     },
     "execution_count": 66,
     "metadata": {},
     "output_type": "execute_result"
    }
   ],
   "source": [
    "# check for out of range values for 'dobd'\n",
    "\n",
    "chkdobd = dthlinkvars['dobd'].isin(valids['dobd'])\n",
    "len(dthlinkvars[~chkdobd])\n"
   ]
  },
  {
   "cell_type": "code",
   "execution_count": 67,
   "metadata": {},
   "outputs": [
    {
     "data": {
      "text/plain": [
       "2"
      ]
     },
     "execution_count": 67,
     "metadata": {},
     "output_type": "execute_result"
    }
   ],
   "source": [
    "# check for out of range values for 'dobd'\n",
    "\n",
    "chkrcounty = dthlinkvars['rcntyfips'].isin(valids['rcntyfips'])\n",
    "len(dthlinkvars[~chkrcounty])"
   ]
  },
  {
   "cell_type": "code",
   "execution_count": 68,
   "metadata": {},
   "outputs": [
    {
     "data": {
      "text/html": [
       "<div>\n",
       "<style scoped>\n",
       "    .dataframe tbody tr th:only-of-type {\n",
       "        vertical-align: middle;\n",
       "    }\n",
       "\n",
       "    .dataframe tbody tr th {\n",
       "        vertical-align: top;\n",
       "    }\n",
       "\n",
       "    .dataframe thead th {\n",
       "        text-align: right;\n",
       "    }\n",
       "</style>\n",
       "<table border=\"1\" class=\"dataframe\">\n",
       "  <thead>\n",
       "    <tr style=\"text-align: right;\">\n",
       "      <th></th>\n",
       "      <th>sfn</th>\n",
       "      <th>rcntyfips</th>\n",
       "      <th>rcountyl</th>\n",
       "      <th>rcntyfips</th>\n",
       "      <th>dstatel</th>\n",
       "    </tr>\n",
       "  </thead>\n",
       "  <tbody>\n",
       "    <tr>\n",
       "      <td>262</td>\n",
       "      <td>2018043748</td>\n",
       "      <td>999</td>\n",
       "      <td>UNKNOWN</td>\n",
       "      <td>999</td>\n",
       "      <td>WASHINGTON</td>\n",
       "    </tr>\n",
       "    <tr>\n",
       "      <td>347</td>\n",
       "      <td>2018057560</td>\n",
       "      <td>999</td>\n",
       "      <td>UNKNOWN</td>\n",
       "      <td>999</td>\n",
       "      <td>WASHINGTON</td>\n",
       "    </tr>\n",
       "  </tbody>\n",
       "</table>\n",
       "</div>"
      ],
      "text/plain": [
       "            sfn  rcntyfips rcountyl  rcntyfips     dstatel\n",
       "262  2018043748        999  UNKNOWN        999  WASHINGTON\n",
       "347  2018057560        999  UNKNOWN        999  WASHINGTON"
      ]
     },
     "execution_count": 68,
     "metadata": {},
     "output_type": "execute_result"
    }
   ],
   "source": [
    "rcntyerrors = dthlinkvars[~chkrcounty][['sfn','rcntyfips', 'rcountyl', 'rcntyfips','dstatel']]\n",
    "\n",
    "rcntyerrors"
   ]
  },
  {
   "cell_type": "code",
   "execution_count": 69,
   "metadata": {},
   "outputs": [
    {
     "data": {
      "text/plain": [
       "347    61\n",
       "Name: rcntyfips, dtype: int64"
      ]
     },
     "execution_count": 69,
     "metadata": {},
     "output_type": "execute_result"
    }
   ],
   "source": [
    "dthlinkvars.loc[dthlinkvars.sfn == 2018057560, 'rcountyl'] =\"SNOHOMISH\"\n",
    "dthlinkvars.loc[dthlinkvars.sfn == 2018057560, 'rcntyfips'] = 61\n",
    "dthlinkvars[dthlinkvars.sfn == 2018057560]['rcntyfips']"
   ]
  },
  {
   "cell_type": "code",
   "execution_count": 70,
   "metadata": {},
   "outputs": [
    {
     "data": {
      "text/html": [
       "<div>\n",
       "<style scoped>\n",
       "    .dataframe tbody tr th:only-of-type {\n",
       "        vertical-align: middle;\n",
       "    }\n",
       "\n",
       "    .dataframe tbody tr th {\n",
       "        vertical-align: top;\n",
       "    }\n",
       "\n",
       "    .dataframe thead th {\n",
       "        text-align: right;\n",
       "    }\n",
       "</style>\n",
       "<table border=\"1\" class=\"dataframe\">\n",
       "  <thead>\n",
       "    <tr style=\"text-align: right;\">\n",
       "      <th></th>\n",
       "      <th>sfn</th>\n",
       "      <th>rcntyfips</th>\n",
       "      <th>rcountyl</th>\n",
       "      <th>rcntyfips</th>\n",
       "      <th>dstatel</th>\n",
       "    </tr>\n",
       "  </thead>\n",
       "  <tbody>\n",
       "    <tr>\n",
       "      <td>262</td>\n",
       "      <td>2018043748</td>\n",
       "      <td>999</td>\n",
       "      <td>UNKNOWN</td>\n",
       "      <td>999</td>\n",
       "      <td>WASHINGTON</td>\n",
       "    </tr>\n",
       "  </tbody>\n",
       "</table>\n",
       "</div>"
      ],
      "text/plain": [
       "            sfn  rcntyfips rcountyl  rcntyfips     dstatel\n",
       "262  2018043748        999  UNKNOWN        999  WASHINGTON"
      ]
     },
     "execution_count": 70,
     "metadata": {},
     "output_type": "execute_result"
    }
   ],
   "source": [
    "#repeating check on residence county out of range values\n",
    "\n",
    "chkrcounty = dthlinkvars['rcntyfips'].isin(valids['rcntyfips'])\n",
    "len(dthlinkvars[~chkrcounty])\n",
    "rcntyerrors = dthlinkvars[~chkrcounty][['sfn','rcntyfips', 'rcountyl', 'rcntyfips','dstatel']]\n",
    "\n",
    "rcntyerrors"
   ]
  },
  {
   "cell_type": "markdown",
   "metadata": {},
   "source": [
    "After looking up the record with unknown residence county values in the SQL database I found that there is no additional information available to correct this record.  Linkage of this record will rely on other variables with complete information."
   ]
  },
  {
   "cell_type": "code",
   "execution_count": 179,
   "metadata": {},
   "outputs": [
    {
     "data": {
      "text/html": [
       "<div>\n",
       "<style scoped>\n",
       "    .dataframe tbody tr th:only-of-type {\n",
       "        vertical-align: middle;\n",
       "    }\n",
       "\n",
       "    .dataframe tbody tr th {\n",
       "        vertical-align: top;\n",
       "    }\n",
       "\n",
       "    .dataframe thead th {\n",
       "        text-align: right;\n",
       "    }\n",
       "</style>\n",
       "<table border=\"1\" class=\"dataframe\">\n",
       "  <thead>\n",
       "    <tr style=\"text-align: right;\">\n",
       "      <th></th>\n",
       "      <th>agedays</th>\n",
       "      <th>agetype</th>\n",
       "      <th>age</th>\n",
       "    </tr>\n",
       "  </thead>\n",
       "  <tbody>\n",
       "    <tr>\n",
       "      <td>0</td>\n",
       "      <td>60</td>\n",
       "      <td>2.0</td>\n",
       "      <td>2</td>\n",
       "    </tr>\n",
       "    <tr>\n",
       "      <td>1</td>\n",
       "      <td>60</td>\n",
       "      <td>2.0</td>\n",
       "      <td>2</td>\n",
       "    </tr>\n",
       "    <tr>\n",
       "      <td>2</td>\n",
       "      <td>2</td>\n",
       "      <td>3.0</td>\n",
       "      <td>2</td>\n",
       "    </tr>\n",
       "    <tr>\n",
       "      <td>3</td>\n",
       "      <td>1</td>\n",
       "      <td>3.0</td>\n",
       "      <td>1</td>\n",
       "    </tr>\n",
       "    <tr>\n",
       "      <td>4</td>\n",
       "      <td>0</td>\n",
       "      <td>4.0</td>\n",
       "      <td>1</td>\n",
       "    </tr>\n",
       "    <tr>\n",
       "      <td>5</td>\n",
       "      <td>2</td>\n",
       "      <td>3.0</td>\n",
       "      <td>2</td>\n",
       "    </tr>\n",
       "    <tr>\n",
       "      <td>6</td>\n",
       "      <td>0</td>\n",
       "      <td>4.0</td>\n",
       "      <td>1</td>\n",
       "    </tr>\n",
       "    <tr>\n",
       "      <td>7</td>\n",
       "      <td>0</td>\n",
       "      <td>4.0</td>\n",
       "      <td>2</td>\n",
       "    </tr>\n",
       "    <tr>\n",
       "      <td>8</td>\n",
       "      <td>0</td>\n",
       "      <td>5.0</td>\n",
       "      <td>37</td>\n",
       "    </tr>\n",
       "    <tr>\n",
       "      <td>9</td>\n",
       "      <td>0</td>\n",
       "      <td>4.0</td>\n",
       "      <td>1</td>\n",
       "    </tr>\n",
       "  </tbody>\n",
       "</table>\n",
       "</div>"
      ],
      "text/plain": [
       "   agedays  agetype  age\n",
       "0       60      2.0    2\n",
       "1       60      2.0    2\n",
       "2        2      3.0    2\n",
       "3        1      3.0    1\n",
       "4        0      4.0    1\n",
       "5        2      3.0    2\n",
       "6        0      4.0    1\n",
       "7        0      4.0    2\n",
       "8        0      5.0   37\n",
       "9        0      4.0    1"
      ]
     },
     "execution_count": 179,
     "metadata": {},
     "output_type": "execute_result"
    }
   ],
   "source": [
    "#convert age into age in days\n",
    "\n",
    "def agetodays(x):\n",
    "    if x['agetype']==2:\n",
    "        return x['age']*30\n",
    "    elif x['agetype']==3:\n",
    "        return x['age']\n",
    "    elif x['agetype']==4:\n",
    "        return x['age']/24\n",
    "    elif x['agetype']==5:\n",
    "        return x['age']/(60*24)\n",
    "infdth18['agedays'] = np.array(infdth18.apply(agetodays, axis=1)).astype(int)\n",
    "infdth18[['agedays', 'agetype', 'age']].head(10)\n",
    "\n"
   ]
  }
 ],
 "metadata": {
  "kernelspec": {
   "display_name": "Python 3",
   "language": "python",
   "name": "python3"
  },
  "language_info": {
   "codemirror_mode": {
    "name": "ipython",
    "version": 3
   },
   "file_extension": ".py",
   "mimetype": "text/x-python",
   "name": "python",
   "nbconvert_exporter": "python",
   "pygments_lexer": "ipython3",
   "version": "3.6.8"
  }
 },
 "nbformat": 4,
 "nbformat_minor": 2
}
