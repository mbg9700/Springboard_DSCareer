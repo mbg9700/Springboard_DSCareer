{
 "cells": [
  {
   "cell_type": "markdown",
   "metadata": {},
   "source": [
    "### Capstone 1 - Washington state linkage of infant death, birth, and mother's hospitalization discharge data"
   ]
  },
  {
   "cell_type": "markdown",
   "metadata": {},
   "source": [
    "##### Maya Bhat-Gregerson\n",
    "\n",
    "January 07, 2020"
   ]
  },
  {
   "cell_type": "markdown",
   "metadata": {},
   "source": [
    "The purpose of this project is to use supervised machine learning methods to link infant deaths occurring in Washington State to the infants' birth records. Currently, this linkage occurs manually whenever an infant death is reported to Washington State Department of Health. At a later date, I would also to link all hospital discharge information for the mothers that occurred within one year prior to birth.  \n",
    "\n",
    "Having a dataset of linked health information for Washington State residents allows us to conduct analyses that can yield valuable insights into maternal factors correlated with infant mortality. \n",
    "\n",
    "__Linkage 1: Infant birth and death records__\n",
    "\n",
    "There is a 1:1 match between birth and death records.\n",
    "\n",
    "Birth and death records the following fields in common for all decedents: \n",
    "\n",
    "- name (first, last, middle)\n",
    "- date of birth\n",
    "- sex\n",
    "- county of residence\n",
    "- county of death\n",
    "- birth certificate number (not always provided)\n",
    "\n",
    "I will use these variables to train ML models to automatically classify pairs of infant birth and death records as 'matches' or 'non-matches'. The training data set for this project consists of manually linked infant birth and death records for prior years.  Once a model has been trained and refined sufficiently, I will use it to conduct linkage for 2018 records which have not been linked at this point.\n",
    "\n",
    "This project will consist broadly of three parts: data preparation, machine learning to conduct linkage, and exploratory data analysis.\n",
    "\n",
    "__a. Data preparation__ In this phase I will standardize the linking variables in birth, death, and training data sets.  This includes making variable data types the same in both records, removing punctuation marks, removing white space, converting all text to lower case, and addressing missing values where possible.\n",
    "\n",
    "__b. Machine learning__\n",
    "\n",
    "__c. Exploratory data analysis__\n",
    "\n",
    "\n",
    "__Linkage 2: Mothers' hospital discharge records and linked infant birth-death data__\n",
    "Birth records contain the mothers' names and other identifiers, so in theory it should be possible to link the birth records to hospital discharge data using the mothers information. Each hospitalization data row represents one hospital visit and it is possible that an individual can have multiple hospital visits in the period of interest.  Linkage between birth and mother's hospitalization records will be a 1:many join."
   ]
  }
 ],
 "metadata": {
  "kernelspec": {
   "display_name": "Python 3",
   "language": "python",
   "name": "python3"
  },
  "language_info": {
   "codemirror_mode": {
    "name": "ipython",
    "version": 3
   },
   "file_extension": ".py",
   "mimetype": "text/x-python",
   "name": "python",
   "nbconvert_exporter": "python",
   "pygments_lexer": "ipython3",
   "version": "3.6.8"
  }
 },
 "nbformat": 4,
 "nbformat_minor": 2
}
