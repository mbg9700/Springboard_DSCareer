{
 "cells": [
  {
   "cell_type": "markdown",
   "metadata": {},
   "source": [
    "### Capstone 1 - Washington state linkage of infant birth and death records"
   ]
  },
  {
   "cell_type": "markdown",
   "metadata": {},
   "source": [
    "##### Maya Bhat-Gregerson\n",
    "\n",
    "January 07, 2020"
   ]
  },
  {
   "cell_type": "markdown",
   "metadata": {},
   "source": [
    "The purpose of this project is to use supervised machine learning methods to link infant deaths occurring in Washington State to the infants' birth records. Currently, this linkage occurs manually whenever an infant death is reported to Washington State Department of Health. At a later date, I would also to link all hospital discharge information for the mothers that occurred within one year prior to birth.  \n",
    "\n",
    "Having a dataset of linked health information for Washington State residents allows us to conduct analyses that can yield valuable insights into maternal factors correlated with infant mortality. \n",
    "\n",
    "__Linkage 1: Infant birth and death records__\n",
    "\n",
    "There is a 1:1 match between birth and death records.\n",
    "\n",
    "Birth and death records the following fields in common for all decedents: \n",
    "\n",
    "- name (first, last, middle)\n",
    "- date of birth\n",
    "- sex\n",
    "- county of residence\n",
    "- county of death\n",
    "- birth certificate number (not always provided)\n",
    "\n",
    "I will use these variables to train ML models to automatically classify pairs of infant birth and death records as 'matches' or 'non-matches'. The training data set for this project consists of manually linked infant birth and death records for prior years.  Once a model has been trained and refined sufficiently, I will use it to conduct linkage for 2018 records which have not been linked at this point.\n",
    "\n",
    "This project will consist broadly of three parts: data preparation, machine learning to conduct linkage, and exploratory data analysis.\n",
    "\n",
    "__a. Data preparation__ In this phase I will standardize the linking variables in birth, death, and training data sets.  This includes making variable data types the same in both records, removing punctuation marks, removing white space, converting all text to lower case, and addressing missing values where possible. I also created candidate record pairs for matching and a set of features that included similarity scores for several variables that can be found in both birth and death records.\n",
    "\n",
    "__b. Exploratory data analysis__ I examined the comparison scores for true matching record pairs against those for record pairs that were known to not be matches to see if there were any features that were good at distinguishing the two classes.\n",
    "\n",
    "__c. Machine learning__ I built two binary classifiers with supervised learning methods to predict which records were matches and which were non-matches.  To construct the training labeled data I used the existing infant birth-death linked file for 2016 and 2017 that were manually reviewed and marked as matches.  I add some non-matching record pairs to these \"golden pairs\" (true matches) before building a logistic regression and random forest classifier.  After running both I was able to compare the accuracy of the methods.\n",
    "\n",
    "\n",
    "**NEXT STEPS**\n",
    "\n",
    "__Linkage 2: Mothers' hospital discharge records and linked infant birth-death data__\n",
    "Birth records contain the mothers' names and other identifiers, so in theory it should be possible to link the birth records to hospital discharge data using the mothers information. Each hospitalization data row represents one hospital visit and it is possible that an individual can have multiple hospital visits in the period of interest.  Linkage between birth and mother's hospitalization records will be a 1:many join.\n",
    "\n",
    "__Implementing classifiers to link birth and death records for older age groups."
   ]
  }
 ],
 "metadata": {
  "kernelspec": {
   "display_name": "Python 3",
   "language": "python",
   "name": "python3"
  },
  "language_info": {
   "codemirror_mode": {
    "name": "ipython",
    "version": 3
   },
   "file_extension": ".py",
   "mimetype": "text/x-python",
   "name": "python",
   "nbconvert_exporter": "python",
   "pygments_lexer": "ipython3",
   "version": "3.6.8"
  }
 },
 "nbformat": 4,
 "nbformat_minor": 2
}
