{
 "cells": [
  {
   "cell_type": "markdown",
   "metadata": {},
   "source": [
    "#### 2019 DEATH DATA PREP"
   ]
  },
  {
   "cell_type": "code",
   "execution_count": 1,
   "metadata": {},
   "outputs": [],
   "source": [
    "import pandas as pd\n",
    "import numpy as np\n",
    "import matplotlib.pyplot as plt\n",
    "from IPython.display import display\n",
    "import nltk\n",
    "import spacy\n",
    "import textblob"
   ]
  },
  {
   "cell_type": "code",
   "execution_count": 2,
   "metadata": {},
   "outputs": [],
   "source": [
    "pd.set_option('display.max_columns', 500)\n",
    "pd.set_option('display.max_rows', None)"
   ]
  },
  {
   "cell_type": "code",
   "execution_count": 3,
   "metadata": {},
   "outputs": [],
   "source": [
    "d19 = pd.read_csv('Y:/DQSS/Death/MBG/py/QA/data/d19_05-27-2020.csv',\n",
    "                  low_memory=False,\n",
    "                  encoding = 'unicode_escape')"
   ]
  },
  {
   "cell_type": "code",
   "execution_count": 4,
   "metadata": {},
   "outputs": [
    {
     "data": {
      "text/plain": [
       "sfn                  int64\n",
       "sex                 object\n",
       "agetype            float64\n",
       "age                float64\n",
       "ageyrs             float64\n",
       "dob                 object\n",
       "dod                 object\n",
       "bcertno             object\n",
       "bmatchcode         float64\n",
       "dcity               object\n",
       "dcityFIPS          float64\n",
       "dcounty             object\n",
       "dcountycityWA      float64\n",
       "dcountyWA          float64\n",
       "dcountyFIPS          int64\n",
       "dcountyNCHS        float64\n",
       "dstate              object\n",
       "dstateNCHS         float64\n",
       "dcountry            object\n",
       "dzip                object\n",
       "dplacetype         float64\n",
       "dfaccode           float64\n",
       "dplacelit           object\n",
       "military            object\n",
       "marital             object\n",
       "education          float64\n",
       "educ8less          float64\n",
       "white               object\n",
       "black               object\n",
       "AIAN                object\n",
       "asianind            object\n",
       "chinese             object\n",
       "filipino            object\n",
       "japanese            object\n",
       "korean              object\n",
       "vietnamese          object\n",
       "asianoth            object\n",
       "hawaiian            object\n",
       "guamanian           object\n",
       "Race Samoan         object\n",
       "PIothr              object\n",
       "otherrace           object\n",
       "Tribe1              object\n",
       "Tribe2              object\n",
       "otherasia1          object\n",
       "otherasia2         float64\n",
       "otherPI1            object\n",
       "otherPI2           float64\n",
       "otherrace1          object\n",
       "otherrace2          object\n",
       "raceE1              object\n",
       "raceE2              object\n",
       "raceE3              object\n",
       "raceE4              object\n",
       "raceE5             float64\n",
       "raceE6             float64\n",
       "raceE7             float64\n",
       "raceE8             float64\n",
       "raceC1              object\n",
       "raceC2              object\n",
       "raceC3             float64\n",
       "raceC4             float64\n",
       "raceC5             float64\n",
       "raceC6             float64\n",
       "raceC7              object\n",
       "raceC8             float64\n",
       "bridgerace         float64\n",
       "racesumm             int64\n",
       "racecalc            object\n",
       "hispno              object\n",
       "mexican             object\n",
       "puertorican         object\n",
       "cuban               object\n",
       "hispanicother       object\n",
       "hispotherlit        object\n",
       "hispE              float64\n",
       "hispC              float64\n",
       "hispNCHSbr           int64\n",
       "rcity               object\n",
       "rcityFIPS          float64\n",
       "rcitylim            object\n",
       "rcounty             object\n",
       "rcountycityWA      float64\n",
       "rcountyWA          float64\n",
       "rcountyFIPS        float64\n",
       "rcountyNCHS        float64\n",
       "rstate              object\n",
       "rstateFIPS          object\n",
       "rstateNCHS         float64\n",
       "rcountry            object\n",
       "rcountryFIPS        object\n",
       "rzip                object\n",
       "rtribalreslit       object\n",
       "rtribalrescode     float64\n",
       "rlengthtype         object\n",
       "rlength            float64\n",
       "fhomecode           object\n",
       "disptype            object\n",
       "dispothr            object\n",
       "certfname           object\n",
       "certlname           object\n",
       "certcity            object\n",
       "certstate           object\n",
       "certzip             object\n",
       "certdesig          float64\n",
       "MECcasenum          object\n",
       "UCOD                object\n",
       "MC1                 object\n",
       "MC2                 object\n",
       "MC3                 object\n",
       "MC4                 object\n",
       "MC5                 object\n",
       "MC6                 object\n",
       "MC7                 object\n",
       "MC8                 object\n",
       "MC9                 object\n",
       "MC10                object\n",
       "MC11                object\n",
       "MC12                object\n",
       "MC13                object\n",
       "MC14                object\n",
       "MC15                object\n",
       "MC16               float64\n",
       "MC17               float64\n",
       "MC18               float64\n",
       "MC19               float64\n",
       "MC20               float64\n",
       "UCOD10              object\n",
       "codA                object\n",
       "codB                object\n",
       "codC                object\n",
       "codD                object\n",
       "codAq               object\n",
       "codBq               object\n",
       "codCq               object\n",
       "codDq               object\n",
       "codII               object\n",
       "codIIq              object\n",
       "AllMC               object\n",
       "codlit              object\n",
       "autopsy             object\n",
       "autopsyavail        object\n",
       "pg                 float64\n",
       "tobac               object\n",
       "manner              object\n",
       "iflag               object\n",
       "iplace              object\n",
       "icity               object\n",
       "icountycityWA      float64\n",
       "icountyWAcode      float64\n",
       "icounty             object\n",
       "icountyNCHS        float64\n",
       "istate              object\n",
       "istateFIPS         float64\n",
       "izip                object\n",
       "iwork               object\n",
       "idescrip            object\n",
       "idescripq           object\n",
       "itransp             object\n",
       "itranspothr         object\n",
       "date_registered     object\n",
       "date_received       object\n",
       "NCHSsent           float64\n",
       "NCHSLastSent       float64\n",
       "dtype: object"
      ]
     },
     "execution_count": 4,
     "metadata": {},
     "output_type": "execute_result"
    }
   ],
   "source": [
    "d19.dtypes"
   ]
  },
  {
   "cell_type": "markdown",
   "metadata": {},
   "source": [
    "**Keep relevant variables** including underlying cause code ('UCOD'), all multiple cause code fields ('MC1' to 'MC20'), and all cause of death literal fields.  The working data set will contain death records for deaths occurring in Washington State regardless of the decedents' residence states."
   ]
  },
  {
   "cell_type": "code",
   "execution_count": 5,
   "metadata": {},
   "outputs": [],
   "source": [
    "d19s = d19.loc[d19['dstate']=='WASHINGTON', ['sex', 'ageyrs', 'dob', 'dod', 'dstate', 'marital','dcounty', 'dzip', 'rcounty', \n",
    "                   'rstateFIPS', 'rzip', 'education','dplacetype', 'bridgerace', 'hispno', 'certdesig', \n",
    "                   'UCOD', 'MC1', 'MC2', 'MC3','MC4','MC5','MC6','MC7','MC8','MC9','MC10','MC11','MC12',\n",
    "                   'MC13','MC14','MC15','MC16','MC17', 'MC18','MC19','MC20','codAq', 'codBq', 'codCq','codDq', \n",
    "                   'codIIq', 'AllMC', 'codlit', 'pg', 'manner', 'tobac']]"
   ]
  },
  {
   "cell_type": "code",
   "execution_count": 6,
   "metadata": {},
   "outputs": [],
   "source": [
    "d19s['dod'] = pd.to_datetime(d19s['dod'],\n",
    "                            format = '%m/%d/%Y')"
   ]
  },
  {
   "cell_type": "code",
   "execution_count": 7,
   "metadata": {},
   "outputs": [
    {
     "data": {
      "text/plain": [
       "WASHINGTON    58226\n",
       "Name: dstate, dtype: int64"
      ]
     },
     "execution_count": 7,
     "metadata": {},
     "output_type": "execute_result"
    }
   ],
   "source": [
    "d19s.dstate.value_counts()"
   ]
  },
  {
   "cell_type": "code",
   "execution_count": 8,
   "metadata": {},
   "outputs": [
    {
     "name": "stdout",
     "output_type": "stream",
     "text": [
      "<class 'pandas.core.frame.DataFrame'>\n",
      "Int64Index: 58226 entries, 0 to 59679\n",
      "Data columns (total 47 columns):\n",
      " #   Column      Non-Null Count  Dtype         \n",
      "---  ------      --------------  -----         \n",
      " 0   sex         58226 non-null  object        \n",
      " 1   ageyrs      58226 non-null  float64       \n",
      " 2   dob         58226 non-null  object        \n",
      " 3   dod         58226 non-null  datetime64[ns]\n",
      " 4   dstate      58226 non-null  object        \n",
      " 5   marital     58226 non-null  object        \n",
      " 6   dcounty     58226 non-null  object        \n",
      " 7   dzip        58203 non-null  object        \n",
      " 8   rcounty     58154 non-null  object        \n",
      " 9   rstateFIPS  58226 non-null  object        \n",
      " 10  rzip        58179 non-null  object        \n",
      " 11  education   58226 non-null  float64       \n",
      " 12  dplacetype  58226 non-null  float64       \n",
      " 13  bridgerace  58212 non-null  float64       \n",
      " 14  hispno      58226 non-null  object        \n",
      " 15  certdesig   58064 non-null  float64       \n",
      " 16  UCOD        58171 non-null  object        \n",
      " 17  MC1         58179 non-null  object        \n",
      " 18  MC2         48210 non-null  object        \n",
      " 19  MC3         37072 non-null  object        \n",
      " 20  MC4         26181 non-null  object        \n",
      " 21  MC5         17548 non-null  object        \n",
      " 22  MC6         11190 non-null  object        \n",
      " 23  MC7         6900 non-null   object        \n",
      " 24  MC8         4136 non-null   object        \n",
      " 25  MC9         2348 non-null   object        \n",
      " 26  MC10        1241 non-null   object        \n",
      " 27  MC11        636 non-null    object        \n",
      " 28  MC12        266 non-null    object        \n",
      " 29  MC13        103 non-null    object        \n",
      " 30  MC14        21 non-null     object        \n",
      " 31  MC15        2 non-null      object        \n",
      " 32  MC16        0 non-null      float64       \n",
      " 33  MC17        0 non-null      float64       \n",
      " 34  MC18        0 non-null      float64       \n",
      " 35  MC19        0 non-null      float64       \n",
      " 36  MC20        0 non-null      float64       \n",
      " 37  codAq       58226 non-null  object        \n",
      " 38  codBq       34313 non-null  object        \n",
      " 39  codCq       16570 non-null  object        \n",
      " 40  codDq       5646 non-null   object        \n",
      " 41  codIIq      27701 non-null  object        \n",
      " 42  AllMC       58226 non-null  object        \n",
      " 43  codlit      58226 non-null  object        \n",
      " 44  pg          58211 non-null  float64       \n",
      " 45  manner      58226 non-null  object        \n",
      " 46  tobac       58226 non-null  object        \n",
      "dtypes: datetime64[ns](1), float64(11), object(35)\n",
      "memory usage: 21.3+ MB\n"
     ]
    }
   ],
   "source": [
    "d19s.info()"
   ]
  },
  {
   "cell_type": "markdown",
   "metadata": {},
   "source": [
    "**Create lists of ICD-10 codes for each of the 9 garbage code categories.** These lists will be used to flag records where underlying cause code (UCOD) is a member of a list. The nine categories of garbage codes are as follows:\n",
    "\n",
    "- g1 = Septicemia\n",
    "- g2 = Heart failure\n",
    "- g3 = Ill-defined cancer\n",
    "- g4 = Volume depletion\n",
    "- g5 = Ill-defined\n",
    "- g6 = Ill-defined cardiovascular\n",
    "- g7 = Ill-defined injury\n",
    "- g8 = Undetermined intent\n",
    "- g9 = Ill-defined infectious"
   ]
  },
  {
   "cell_type": "code",
   "execution_count": 9,
   "metadata": {},
   "outputs": [],
   "source": [
    "g1 = ['A40', 'A400', 'A401', 'A402', 'A403', 'A408', 'A409', 'A41', 'A410', 'A411', 'A412', 'A413', 'A414',\n",
    "      'A415', 'A418', 'A419']\n",
    "\n",
    "g2 = ['I50', 'I500', 'I501', 'I509']\n",
    "\n",
    "g3 = ['C759', 'C76', 'C760', 'C761', 'C762', 'C763', 'C764', 'C765', 'C767', 'C768', 'C80', 'D099', 'D489']\n",
    "\n",
    "g4 = ['E86', 'E87', 'E870', 'E871', 'E872', 'E873', 'E874', 'E875', 'E876', 'E877', 'E878' ]\n",
    "\n",
    "g5 = ['I46', 'I460', 'I461', 'I469', 'P95', 'R00', 'R000', 'R001', 'R002', 'R008', 'R01', 'R010', 'R011', \n",
    "      'R012', 'R02', 'R03', 'R030', 'R031', 'R04', 'R040', 'R041', 'R042', 'R048', 'R049', 'R05', 'R06', \n",
    "      'R060', 'R061', 'R062', 'R063', 'R064', 'R065', 'R066', 'R067', 'R068', 'R07', 'R070', 'R071', \n",
    "      'R072', 'R073', 'R074', 'R09', 'R090', 'R091', 'R092', 'R093', 'R098', 'R10', 'R100', 'R101', \n",
    "      'R102', 'R103', 'R104', 'R11', 'R12', 'R13', 'R14', 'R15', 'R16', 'R160', 'R161', 'R162', 'R17', \n",
    "      'R18', 'R19', 'R190', 'R191', 'R192', 'R193', 'R194', 'R195', 'R196', 'R198', 'R20', 'R200', \n",
    "      'R201', 'R202', 'R203', 'R208', 'R21', 'R22', 'R220', 'R221', 'R222', 'R223', 'R224', 'R227', \n",
    "      'R229', 'R23', 'R230', 'R231', 'R232', 'R233', 'R234', 'R238', 'R25', 'R250', 'R251', 'R252', \n",
    "      'R253', 'R258', 'R26', 'R260', 'R261', 'R262', 'R268', 'R27', 'R270', 'R278', 'R29', 'R290', \n",
    "      'R291', 'R292', 'R293', 'R294', 'R296', 'R298', 'R30', 'R300', 'R301', 'R309', 'R31', 'R32', \n",
    "      'R33', 'R34', 'R35', 'R36', 'R39', 'R390', 'R391', 'R392', 'R398', 'R40', 'R400', 'R401', 'R402', \n",
    "      'R41', 'R410', 'R411', 'R412', 'R413', 'R418', 'R42', 'R43', 'R430', 'R431', 'R432', 'R438', 'R44', \n",
    "      'R440', 'R441', 'R442', 'R443', 'R448', 'R45', 'R450', 'R451', 'R452', 'R453', 'R454', 'R455', 'R456', \n",
    "      'R457', 'R458', 'R46', 'R460', 'R461', 'R462', 'R463', 'R464', 'R465', 'R466', 'R467', 'R468', 'R47', \n",
    "      'R470', 'R471', 'R478', 'R48', 'R480', 'R481', 'R482', 'R488', 'R49', 'R490', 'R491', 'R492', 'R498', \n",
    "      'R50', 'R500', 'R501', 'R502', 'R508', 'R509', 'R51', 'R52', 'R520', 'R521', 'R522', 'R529', 'R53', \n",
    "      'R54', 'R55', 'R56', 'R560', 'R568', 'R57', 'R570', 'R571', 'R578', 'R579', 'R58', 'R59', 'R590', \n",
    "      'R591', 'R599', 'R60', 'R600', 'R601', 'R609', 'R61', 'R610', 'R611', 'R619', 'R62', 'R620', 'R628', \n",
    "      'R629', 'R63', 'R630', 'R631', 'R632', 'R633', 'R634', 'R635', 'R638', 'R64', 'R68', 'R680', 'R681', \n",
    "      'R682', 'R683', 'R688', 'R69', 'R70', 'R700', 'R701', 'R71', 'R72', 'R73', 'R730', 'R739', 'R74', 'R740',\n",
    "      'R748', 'R749', 'R75', 'R76', 'R760', 'R761', 'R762', 'R768', 'R769', 'R77', 'R770', 'R771', 'R772', 'R778',\n",
    "      'R779', 'R78', 'R780', 'R781', 'R782', 'R783', 'R784', 'R785', 'R786', 'R787', 'R788', 'R789', 'R79', 'R790',\n",
    "      'R798', 'R799', 'R80', 'R81', 'R82', 'R820', 'R821', 'R822', 'R823', 'R824', 'R825', 'R826', 'R827', 'R828',\n",
    "      'R829', 'R83', 'R830', 'R831', 'R832', 'R833', 'R834', 'R835', 'R836', 'R837', 'R838', 'R839', 'R84', 'R840',\n",
    "      'R841', 'R842', 'R843', 'R844', 'R845', 'R846', 'R847', 'R848', 'R849', 'R85', 'R850', 'R851', 'R852',\n",
    "      'R853', 'R854', 'R855', 'R856', 'R857', 'R858', 'R859', 'R86', 'R860', 'R861', 'R862', 'R863', 'R864',\n",
    "      'R865', 'R866', 'R867', 'R868', 'R869', 'R87', 'R870', 'R871', 'R872', 'R873', 'R874', 'R875',\n",
    "      'R876', 'R877', 'R878', 'R879', 'R89', 'R890', 'R891', 'R892', 'R893', 'R894', 'R895', 'R896', 'R897',\n",
    "      'R898', 'R899', 'R90', 'R900', 'R908', 'R91', 'R92', 'R93', 'R930', 'R931', 'R932', 'R933', 'R934',\n",
    "      'R935', 'R936', 'R937', 'R938', 'R94', 'R940', 'R941', 'R942', 'R943', 'R944', 'R945', 'R946', 'R947',\n",
    "      'R948', 'R95', 'R96', 'R960', 'R961', 'R98', 'R99']\n",
    "\n",
    "g6 = ['I10', 'I15', 'I150', 'I151', 'I152', 'I158', 'I159', 'I26', 'I260', 'I269', 'I49', 'I490', 'I491', 'I492',\n",
    "      'I493', 'I494', 'I495', 'I498', 'I499', 'I51', 'I510', 'I511', 'I512', 'I513', 'I514', 'I515', 'I516', 'I517',\n",
    "      'I518', 'I519', 'I70', 'I700', 'I701', 'I709', 'I74', 'I740', 'I741', 'I742', 'I743', 'I744', 'I745', 'I748',\n",
    "      'I749', 'I99']\n",
    "\n",
    "g7 = ['S00', 'S000', 'S001', 'S002', 'S003', 'S004', 'S005', 'S007', 'S008', 'S009', 'S01', 'S010', 'S011', 'S012',\n",
    "      'S013', 'S014', 'S015', 'S017', 'S018', 'S019', 'S02', 'S020', 'S021', 'S022', 'S023', 'S024', 'S025', 'S026',\n",
    "      'S027', 'S028', 'S029', 'S03', 'S030', 'S031', 'S032', 'S033', 'S034', 'S035', 'S04', 'S040', 'S041', 'S042',\n",
    "      'S043', 'S044', 'S045', 'S046', 'S047', 'S048', 'S049', 'S05', 'S050', 'S051', 'S052', 'S053', 'S054', 'S055',\n",
    "      'S056', 'S057', 'S058', 'S059', 'S06', 'S060', 'S061', 'S062', 'S063', 'S064', 'S065', 'S066', 'S067', 'S068',\n",
    "      'S069', 'S07', 'S070', 'S071', 'S078', 'S079', 'S08', 'S080', 'S081', 'S088', 'S089', 'S09', 'S090', 'S091',\n",
    "      'S092', 'S097', 'S098', 'S099', 'S10', 'S100', 'S101', 'S107', 'S108', 'S109', 'S11', 'S110', 'S111', 'S112',\n",
    "      'S117', 'S118', 'S119', 'S12', 'S120', 'S121', 'S122', 'S127', 'S128', 'S129', 'S13', 'S130', 'S131', 'S132',\n",
    "      'S133', 'S134', 'S135', 'S136', 'S14', 'S140', 'S141', 'S142', 'S143', 'S144', 'S145', 'S146', 'S15', 'S150',\n",
    "      'S151', 'S152', 'S153', 'S157', 'S158', 'S159', 'S16', 'S17', 'S170', 'S178', 'S179', 'S18', 'S19', 'S197',\n",
    "      'S198', 'S199', 'S20', 'S200', 'S201', 'S202', 'S203', 'S204', 'S207', 'S208', 'S21', 'S210', 'S211', 'S212',\n",
    "      'S217', 'S218', 'S219', 'S22', 'S220', 'S221', 'S222', 'S223', 'S224', 'S225', 'S228', 'S229', 'S23', 'S230',\n",
    "      'S231', 'S232', 'S233', 'S234', 'S235', 'S24', 'S240', 'S241', 'S242', 'S243', 'S244', 'S245', 'S246', 'S25',\n",
    "      'S250', 'S251', 'S252', 'S253', 'S254', 'S255', 'S257', 'S258', 'S259', 'S26', 'S260', 'S268', 'S269', 'S27',\n",
    "      'S270', 'S271', 'S272', 'S273', 'S274', 'S275', 'S276', 'S277', 'S278', 'S279', 'S28', 'S280', 'S281', 'S29',\n",
    "      'S290', 'S297', 'S298', 'S299', 'S30', 'S300', 'S301', 'S302', 'S307', 'S308', 'S309', 'S31', 'S310', 'S311',\n",
    "      'S312', 'S313', 'S314', 'S315', 'S317', 'S318', 'S32', 'S320', 'S321', 'S322', 'S323', 'S324', 'S325', 'S327',\n",
    "      'S328', 'S33', 'S330', 'S331', 'S332', 'S333', 'S334', 'S335', 'S336', 'S337', 'S34', 'S340', 'S341', 'S342',\n",
    "      'S343', 'S344', 'S345', 'S346', 'S348', 'S35', 'S350', 'S351', 'S352', 'S353', 'S354', 'S355', 'S357', 'S358',\n",
    "      'S359', 'S36', 'S360', 'S361', 'S362', 'S363', 'S364', 'S365', 'S366', 'S367', 'S368', 'S369', 'S37', 'S370',\n",
    "      'S371', 'S372', 'S373', 'S374', 'S375', 'S376', 'S377', 'S378', 'S379', 'S38', 'S380', 'S381', 'S382', 'S383',\n",
    "      'S39', 'S390', 'S396', 'S397', 'S398', 'S399', 'S40', 'S400', 'S407', 'S408', 'S409', 'S41', 'S410', 'S411',\n",
    "      'S417', 'S418', 'S42', 'S420', 'S421', 'S422', 'S423', 'S424', 'S427', 'S428', 'S429', 'S43', 'S430', 'S431',\n",
    "      'S432', 'S433', 'S434', 'S435', 'S436', 'S437', 'S44', 'S440', 'S441', 'S442', 'S443', 'S444', 'S445', 'S447',\n",
    "      'S448', 'S449', 'S45', 'S450', 'S451', 'S452', 'S453', 'S457', 'S458', 'S459', 'S46', 'S460', 'S461', 'S462',\n",
    "      'S463', 'S467', 'S468', 'S469', 'S47', 'S48', 'S480', 'S481', 'S489', 'S49', 'S497', 'S498', 'S499', 'S50',\n",
    "      'S500', 'S501', 'S507', 'S508', 'S509', 'S51', 'S510', 'S517', 'S518', 'S519', 'S52', 'S520', 'S521', 'S522',\n",
    "      'S523', 'S524', 'S525', 'S526', 'S527', 'S528', 'S529', 'S53', 'S530', 'S531', 'S532', 'S533', 'S534', 'S54',\n",
    "      'S540', 'S541', 'S542', 'S543', 'S547', 'S548', 'S549', 'S55', 'S550', 'S551', 'S552', 'S557', 'S558', 'S559',\n",
    "      'S56', 'S560', 'S561', 'S562', 'S563', 'S564', 'S565', 'S567', 'S568', 'S57', 'S570', 'S578', 'S579', 'S58',\n",
    "      'S580', 'S581', 'S589', 'S59', 'S597', 'S598', 'S599', 'S60', 'S600', 'S601', 'S602', 'S607', 'S608', 'S609',\n",
    "      'S61', 'S610', 'S611', 'S617', 'S618', 'S619', 'S62', 'S620', 'S621', 'S622', 'S623', 'S624', 'S625', 'S626',\n",
    "      'S627', 'S628', 'S63', 'S630', 'S631', 'S632', 'S633', 'S634', 'S635', 'S636', 'S637', 'S64', 'S640', 'S641',\n",
    "      'S642', 'S643', 'S644', 'S647', 'S648', 'S649', 'S65', 'S650', 'S651', 'S652', 'S653', 'S654', 'S655', 'S657',\n",
    "      'S658', 'S659', 'S66', 'S660', 'S661', 'S662', 'S663', 'S664', 'S665', 'S666', 'S667', 'S668', 'S669', 'S67',\n",
    "      'S670', 'S678', 'S68', 'S680', 'S681', 'S682', 'S683', 'S684', 'S688', 'S689', 'S69', 'S697', 'S698', 'S699',\n",
    "      'S70', 'S700', 'S701', 'S707', 'S708', 'S709', 'S71', 'S710', 'S711', 'S717', 'S718', 'S72', 'S720', 'S721',\n",
    "      'S722', 'S723', 'S724', 'S727', 'S728', 'S729', 'S73', 'S730', 'S731', 'S74', 'S740', 'S741', 'S742', 'S747',\n",
    "      'S748', 'S749', 'S75', 'S750', 'S751', 'S752', 'S757', 'S758', 'S759', 'S76', 'S760', 'S761', 'S762', 'S763',\n",
    "      'S764', 'S767', 'S77', 'S770', 'S771', 'S772', 'S78', 'S780', 'S781', 'S789', 'S79', 'S797', 'S798', 'S799',\n",
    "      'S80', 'S800', 'S801', 'S807', 'S808', 'S809', 'S81', 'S810', 'S817', 'S818', 'S819', 'S82', 'S820', 'S821',\n",
    "      'S822', 'S823', 'S824', 'S825', 'S826', 'S827', 'S828', 'S829', 'S83', 'S830', 'S831', 'S832', 'S833', 'S834',\n",
    "      'S835', 'S836', 'S837', 'S84', 'S840', 'S841', 'S842', 'S847', 'S848', 'S849', 'S85', 'S850', 'S851', 'S852',\n",
    "      'S853', 'S854', 'S855', 'S857', 'S858', 'S859', 'S86', 'S860', 'S861', 'S862', 'S863', 'S867', 'S868', 'S869',\n",
    "      'S87', 'S870', 'S878', 'S88', 'S880', 'S881', 'S889', 'S89', 'S897', 'S898', 'S899', 'S90', 'S900', 'S901',\n",
    "      'S902', 'S903', 'S907', 'S908', 'S909', 'S91', 'S910', 'S911', 'S912', 'S913', 'S917', 'S92', 'S920', 'S921',\n",
    "      'S922', 'S923', 'S924', 'S925', 'S927', 'S929', 'S93', 'S930', 'S931', 'S932', 'S933', 'S934', 'S935', 'S936',\n",
    "      'S94', 'S940', 'S941', 'S942', 'S943', 'S947', 'S948', 'S949', 'S95', 'S950', 'S951', 'S952', 'S957', 'S958',\n",
    "      'S959', 'S96', 'S960', 'S961', 'S962', 'S967', 'S968', 'S969', 'S97', 'S970', 'S971', 'S978', 'S98', 'S980',\n",
    "      'S981', 'S982', 'S983', 'S984', 'S99', 'S997', 'S998', 'S999', 'T00', 'T000', 'T001', 'T002', 'T003', 'T006',\n",
    "      'T008', 'T009', 'T01', 'T010', 'T011', 'T012', 'T013', 'T016', 'T018', 'T019', 'T02', 'T020', 'T021', 'T022',\n",
    "      'T023', 'T024', 'T025', 'T026', 'T027', 'T028', 'T029', 'T03', 'T030', 'T031', 'T032', 'T033', 'T034', 'T038',\n",
    "      'T039', 'T04', 'T040', 'T041', 'T042', 'T043', 'T044', 'T047', 'T048', 'T049', 'T05', 'T050', 'T051', 'T052',\n",
    "      'T053', 'T054', 'T055', 'T056', 'T058', 'T059', 'T06', 'T060', 'T061', 'T062', 'T063', 'T064', 'T065', 'T068',\n",
    "      'T07', 'T08', 'T09', 'T090', 'T091', 'T092', 'T093', 'T094', 'T095', 'T096', 'T098', 'T099', 'T10', 'T11',\n",
    "      'T110', 'T111', 'T112', 'T113', 'T114', 'T115', 'T116', 'T118', 'T119', 'T12', 'T13', 'T130', 'T131', 'T132',\n",
    "      'T133', 'T134', 'T135', 'T136', 'T138', 'T139', 'T14', 'T140', 'T141', 'T142', 'T143', 'T144', 'T145', 'T146',\n",
    "      'T147', 'T148', 'T149', 'T15', 'T150', 'T151', 'T158', 'T159', 'T16', 'T17', 'T170', 'T171', 'T172', 'T173',\n",
    "      'T174', 'T175', 'T178', 'T179', 'T18', 'T180', 'T181', 'T182', 'T183', 'T184', 'T185', 'T188', 'T189', 'T19',\n",
    "      'T190', 'T191', 'T192', 'T193', 'T198', 'T199', 'T20', 'T200', 'T201', 'T202', 'T203', 'T204', 'T205', 'T206',\n",
    "      'T207', 'T21', 'T210', 'T211', 'T212', 'T213', 'T214', 'T215', 'T216', 'T217', 'T22', 'T220', 'T221', 'T222',\n",
    "      'T223', 'T224', 'T225', 'T226', 'T227', 'T23', 'T230', 'T231', 'T232', 'T233', 'T234', 'T235', 'T236', 'T237',\n",
    "      'T24', 'T240', 'T241', 'T242', 'T243', 'T244', 'T245', 'T246', 'T247', 'T25', 'T250', 'T251', 'T252', 'T253',\n",
    "      'T254', 'T255', 'T256', 'T257', 'T26', 'T260', 'T261', 'T262', 'T263', 'T264', 'T265', 'T266', 'T267', 'T268',\n",
    "      'T269', 'T27', 'T270', 'T271', 'T272', 'T273', 'T274', 'T275', 'T276', 'T277', 'T28', 'T280', 'T281', 'T282',\n",
    "      'T283', 'T284', 'T285', 'T286', 'T287', 'T288', 'T289', 'T29', 'T290', 'T291', 'T292', 'T293', 'T294', 'T295',\n",
    "      'T296', 'T297', 'T30', 'T300', 'T301', 'T302', 'T303', 'T304', 'T305', 'T306', 'T307', 'T31', 'T310', 'T311',\n",
    "      'T312', 'T313', 'T314', 'T315', 'T316', 'T317', 'T318', 'T319', 'T32', 'T320', 'T321', 'T322', 'T323', 'T324',\n",
    "      'T325', 'T326', 'T327', 'T328', 'T329', 'T33', 'T330', 'T331', 'T332', 'T333', 'T334', 'T335', 'T336', 'T337',\n",
    "      'T338', 'T339', 'T34', 'T340', 'T341', 'T342', 'T343', 'T344', 'T345', 'T346', 'T347', 'T348', 'T349', 'T35',\n",
    "      'T350', 'T351', 'T352', 'T353', 'T354', 'T355', 'T356', 'T357', 'T36', 'T360', 'T361', 'T362', 'T363', 'T364',\n",
    "      'T365', 'T366', 'T367', 'T368', 'T369', 'T37', 'T370', 'T371', 'T372', 'T373', 'T374', 'T375', 'T378', 'T379',\n",
    "      'T38', 'T380', 'T381', 'T382', 'T383', 'T384', 'T385', 'T386', 'T387', 'T388', 'T389', 'T39', 'T390', 'T391',\n",
    "      'T392', 'T393', 'T394', 'T398', 'T399', 'T40', 'T400', 'T401', 'T402', 'T403', 'T404', 'T405', 'T406', 'T407',\n",
    "      'T408', 'T409', 'T41', 'T410', 'T411', 'T412', 'T413', 'T414', 'T415', 'T42', 'T420', 'T421', 'T422', 'T423',\n",
    "      'T424', 'T425', 'T426', 'T427', 'T428', 'T43', 'T430', 'T431', 'T432', 'T433', 'T434', 'T435', 'T436', 'T438',\n",
    "      'T439', 'T44', 'T440', 'T441', 'T442', 'T443', 'T444', 'T445', 'T446', 'T447', 'T448', 'T449', 'T45', 'T450',\n",
    "      'T451', 'T452', 'T453', 'T454', 'T455', 'T456', 'T457', 'T458', 'T459', 'T46', 'T460', 'T461', 'T462', 'T463',\n",
    "      'T464', 'T465', 'T466', 'T467', 'T468', 'T469', 'T47', 'T470', 'T471', 'T472', 'T473', 'T474', 'T475', 'T476',\n",
    "      'T477', 'T478', 'T479', 'T48', 'T480', 'T481', 'T482', 'T483', 'T484', 'T485', 'T486', 'T487', 'T49', 'T490',\n",
    "      'T491', 'T492', 'T493', 'T494', 'T495', 'T496', 'T497', 'T498', 'T499', 'T50', 'T500', 'T501', 'T502', 'T503',\n",
    "      'T504', 'T505', 'T506', 'T507', 'T508', 'T509', 'T51', 'T510', 'T511', 'T512', 'T513', 'T518', 'T519', 'T52',\n",
    "      'T520', 'T521', 'T522', 'T523', 'T524', 'T528', 'T529', 'T53', 'T530', 'T531', 'T532', 'T533', 'T534', 'T535',\n",
    "      'T536', 'T537', 'T539', 'T54', 'T540', 'T541', 'T542', 'T543', 'T549', 'T55', 'T56', 'T560', 'T561', 'T562',\n",
    "      'T563', 'T564', 'T565', 'T566', 'T567', 'T568', 'T569', 'T57', 'T570', 'T571', 'T572', 'T573', 'T578', 'T579',\n",
    "      'T58', 'T59', 'T590', 'T591', 'T592', 'T593', 'T594', 'T595', 'T596', 'T597', 'T598', 'T599', 'T60', 'T600',\n",
    "      'T601', 'T602', 'T603', 'T604', 'T608', 'T609', 'T61', 'T610', 'T611', 'T612', 'T618', 'T619', 'T62', 'T620',\n",
    "      'T621', 'T622', 'T628', 'T629', 'T63', 'T630', 'T631', 'T632', 'T633', 'T634', 'T635', 'T636', 'T638', 'T639',\n",
    "      'T64', 'T65', 'T650', 'T651', 'T652', 'T653', 'T654', 'T655', 'T656', 'T658', 'T659', 'T66', 'T67', 'T670',\n",
    "      'T671', 'T672', 'T673', 'T674', 'T675', 'T676', 'T677', 'T678', 'T679', 'T68', 'T69', 'T690', 'T691', 'T698',\n",
    "      'T699', 'T70', 'T700', 'T701', 'T702', 'T703', 'T704', 'T708', 'T709', 'T71', 'T73', 'T730', 'T731', 'T732',\n",
    "      'T733', 'T738', 'T739', 'T74', 'T740', 'T741', 'T742', 'T743', 'T748', 'T749', 'T75', 'T750', 'T751', 'T752',\n",
    "      'T753', 'T754', 'T758', 'T78', 'T780', 'T781', 'T782', 'T783', 'T784', 'T788', 'T789', 'T79', 'T790', 'T791',\n",
    "      'T792', 'T793', 'T794', 'T795', 'T796', 'T797', 'T798', 'T799', 'T80', 'T800', 'T801', 'T802', 'T803', 'T804',\n",
    "      'T805', 'T806', 'T808', 'T809', 'T81', 'T810', 'T811', 'T812', 'T813', 'T814', 'T815', 'T816', 'T817', 'T818',\n",
    "      'T819', 'T82', 'T820', 'T821', 'T822', 'T823', 'T824', 'T825', 'T826', 'T827', 'T828', 'T829', 'T83', 'T830',\n",
    "      'T831', 'T832', 'T833', 'T834', 'T835', 'T836', 'T838', 'T839', 'T84', 'T840', 'T841', 'T842', 'T843', 'T844',\n",
    "      'T845', 'T846', 'T847', 'T848', 'T849', 'T85', 'T850', 'T851', 'T852', 'T853', 'T854', 'T855', 'T856', 'T857',\n",
    "      'T858', 'T859', 'T86', 'T860', 'T861', 'T862', 'T863', 'T864', 'T868', 'T869', 'T87', 'T870', 'T871', 'T872',\n",
    "      'T873', 'T874', 'T875', 'T876', 'T88', 'T880', 'T881', 'T882', 'T883', 'T884', 'T885', 'T886', 'T887', 'T888',\n",
    "      'T889', 'T90', 'T900', 'T901', 'T902', 'T903', 'T904', 'T905', 'T908', 'T909', 'T91', 'T910', 'T911', 'T912',\n",
    "      'T913', 'T914', 'T915', 'T918', 'T919', 'T92', 'T920', 'T921', 'T922', 'T923', 'T924', 'T925', 'T926', 'T928',\n",
    "      'T929', 'T93', 'T930', 'T931', 'T932', 'T933', 'T934', 'T935', 'T936', 'T938', 'T939', 'T94', 'T940', 'T941',\n",
    "      'T95', 'T950', 'T951', 'T952', 'T953', 'T954', 'T958', 'T959', 'T96', 'T97', 'T98', 'T980', 'T981', 'T982',\n",
    "      'T983', 'Y89', 'Y899']\n",
    "      \n",
    "g8 = ['Y10', 'Y11', 'Y12', 'Y13', 'Y14', 'Y15', 'Y16', 'Y17', 'Y18', 'Y19', 'Y20', 'Y21', 'Y22', 'Y23',\n",
    "      'Y24', 'Y241', 'Y242', 'Y243', 'Y244', 'Y249', 'Y25', 'Y26', 'Y27', 'Y28', 'Y29', 'Y30', 'Y31',\n",
    "      'Y32', 'Y33', 'Y34', 'Y87', 'Y872']\n",
    "      \n",
    "g9 = ['B99']"
   ]
  },
  {
   "cell_type": "code",
   "execution_count": null,
   "metadata": {},
   "outputs": [],
   "source": []
  },
  {
   "cell_type": "code",
   "execution_count": null,
   "metadata": {},
   "outputs": [],
   "source": []
  },
  {
   "cell_type": "markdown",
   "metadata": {},
   "source": [
    "**Flag records with any garbage code in UCOD field.** Combine sublists of garbage codes and flag row if underlying cause ICD-10 code (UCOD) is in the combined list."
   ]
  },
  {
   "cell_type": "code",
   "execution_count": 10,
   "metadata": {},
   "outputs": [],
   "source": [
    "gc_all = g1 + g2 + g3 + g4 + g5 + g6 + g7 + g8 + g9"
   ]
  },
  {
   "cell_type": "code",
   "execution_count": 11,
   "metadata": {},
   "outputs": [],
   "source": [
    "d19s['gc_any'] = d19s['UCOD'].isin(gc_all)"
   ]
  },
  {
   "cell_type": "code",
   "execution_count": 12,
   "metadata": {},
   "outputs": [
    {
     "data": {
      "text/html": [
       "<div>\n",
       "<style scoped>\n",
       "    .dataframe tbody tr th:only-of-type {\n",
       "        vertical-align: middle;\n",
       "    }\n",
       "\n",
       "    .dataframe tbody tr th {\n",
       "        vertical-align: top;\n",
       "    }\n",
       "\n",
       "    .dataframe thead th {\n",
       "        text-align: right;\n",
       "    }\n",
       "</style>\n",
       "<table border=\"1\" class=\"dataframe\">\n",
       "  <thead>\n",
       "    <tr style=\"text-align: right;\">\n",
       "      <th></th>\n",
       "      <th>has_garbage_code</th>\n",
       "      <th>Percent</th>\n",
       "    </tr>\n",
       "  </thead>\n",
       "  <tbody>\n",
       "    <tr>\n",
       "      <th>False</th>\n",
       "      <td>54140</td>\n",
       "      <td>92.982516</td>\n",
       "    </tr>\n",
       "    <tr>\n",
       "      <th>True</th>\n",
       "      <td>4086</td>\n",
       "      <td>7.017484</td>\n",
       "    </tr>\n",
       "  </tbody>\n",
       "</table>\n",
       "</div>"
      ],
      "text/plain": [
       "       has_garbage_code    Percent\n",
       "False             54140  92.982516\n",
       "True               4086   7.017484"
      ]
     },
     "execution_count": 12,
     "metadata": {},
     "output_type": "execute_result"
    }
   ],
   "source": [
    "gc_table = d19s['gc_any'].value_counts(dropna=False).to_frame('has_garbage_code')\n",
    "gc_table['Percent'] = (gc_table['has_garbage_code']/gc_table['has_garbage_code'].sum()) * 100\n",
    "\n",
    "gc_table"
   ]
  },
  {
   "cell_type": "markdown",
   "metadata": {},
   "source": [
    "In 2019, 4,086 (7%) of the 58,226 death records for persons who died in Washington State were assigned a garbage code."
   ]
  },
  {
   "cell_type": "markdown",
   "metadata": {},
   "source": [
    "**Flag records with specific category of garbage code.** Label record with '0' if it has a 'valid' i.e. non-garbage code, or 1 through 9 depending on the category of garbage code in the UCOD field as defined above."
   ]
  },
  {
   "cell_type": "code",
   "execution_count": 13,
   "metadata": {},
   "outputs": [],
   "source": [
    "gcdict = {'1': g1, '2': g2, '3': g3, '4': g4, '5': g5, '6': g6, '7': g7, '8': g8, '9': g9}"
   ]
  },
  {
   "cell_type": "code",
   "execution_count": 14,
   "metadata": {},
   "outputs": [],
   "source": [
    "gcdict_rev = {v: k for k in gcdict for v in gcdict[k]}\n",
    "\n",
    "#the above is functional equivalent of:\n",
    "\n",
    "#gcdict_rev = {}\n",
    "#for key in gcdict:\n",
    "#    for value in gcdict[key]:\n",
    "#        gcdict_rev[value] = key\n"
   ]
  },
  {
   "cell_type": "code",
   "execution_count": 23,
   "metadata": {},
   "outputs": [],
   "source": [
    "gc_label_dict = {1 : '1-Septicemia', \n",
    "                 2 : '2-Heart failure', \n",
    "                 3 : '3-Ill-defined cancer', \n",
    "                 4 : '4-Volume depletion', \n",
    "                 5 : '5-Ill-defined', \n",
    "                 6 : '6-Ill-defined cardiovascular', \n",
    "                 7 : '7-Ill-defined injury', \n",
    "                 8 : '8-Undetermined intent', \n",
    "                 9 : '9-Ill-defined infectious'}"
   ]
  },
  {
   "cell_type": "code",
   "execution_count": 16,
   "metadata": {},
   "outputs": [],
   "source": [
    "d19s['gc_cat'] = d19s['UCOD'].map(gcdict_rev).fillna(0).astype(int)"
   ]
  },
  {
   "cell_type": "code",
   "execution_count": 26,
   "metadata": {},
   "outputs": [],
   "source": [
    "d19s['gc_cat_label'] = d19s['gc_cat'].map(gc_label_dict).fillna('0-No GC').astype(str)"
   ]
  },
  {
   "cell_type": "code",
   "execution_count": 18,
   "metadata": {},
   "outputs": [
    {
     "data": {
      "text/html": [
       "<div>\n",
       "<style scoped>\n",
       "    .dataframe tbody tr th:only-of-type {\n",
       "        vertical-align: middle;\n",
       "    }\n",
       "\n",
       "    .dataframe tbody tr th {\n",
       "        vertical-align: top;\n",
       "    }\n",
       "\n",
       "    .dataframe thead th {\n",
       "        text-align: right;\n",
       "    }\n",
       "</style>\n",
       "<table border=\"1\" class=\"dataframe\">\n",
       "  <thead>\n",
       "    <tr style=\"text-align: right;\">\n",
       "      <th></th>\n",
       "      <th>gc_cat</th>\n",
       "    </tr>\n",
       "  </thead>\n",
       "  <tbody>\n",
       "    <tr>\n",
       "      <th>0</th>\n",
       "      <td>54140</td>\n",
       "    </tr>\n",
       "    <tr>\n",
       "      <th>1</th>\n",
       "      <td>547</td>\n",
       "    </tr>\n",
       "    <tr>\n",
       "      <th>2</th>\n",
       "      <td>762</td>\n",
       "    </tr>\n",
       "    <tr>\n",
       "      <th>3</th>\n",
       "      <td>663</td>\n",
       "    </tr>\n",
       "    <tr>\n",
       "      <th>4</th>\n",
       "      <td>125</td>\n",
       "    </tr>\n",
       "    <tr>\n",
       "      <th>5</th>\n",
       "      <td>875</td>\n",
       "    </tr>\n",
       "    <tr>\n",
       "      <th>6</th>\n",
       "      <td>1025</td>\n",
       "    </tr>\n",
       "    <tr>\n",
       "      <th>8</th>\n",
       "      <td>81</td>\n",
       "    </tr>\n",
       "    <tr>\n",
       "      <th>9</th>\n",
       "      <td>8</td>\n",
       "    </tr>\n",
       "  </tbody>\n",
       "</table>\n",
       "</div>"
      ],
      "text/plain": [
       "   gc_cat\n",
       "0   54140\n",
       "1     547\n",
       "2     762\n",
       "3     663\n",
       "4     125\n",
       "5     875\n",
       "6    1025\n",
       "8      81\n",
       "9       8"
      ]
     },
     "execution_count": 18,
     "metadata": {},
     "output_type": "execute_result"
    }
   ],
   "source": [
    "d19s['gc_cat'].value_counts().sort_index(ascending=True).to_frame()"
   ]
  },
  {
   "cell_type": "code",
   "execution_count": 27,
   "metadata": {},
   "outputs": [
    {
     "data": {
      "text/html": [
       "<div>\n",
       "<style scoped>\n",
       "    .dataframe tbody tr th:only-of-type {\n",
       "        vertical-align: middle;\n",
       "    }\n",
       "\n",
       "    .dataframe tbody tr th {\n",
       "        vertical-align: top;\n",
       "    }\n",
       "\n",
       "    .dataframe thead th {\n",
       "        text-align: right;\n",
       "    }\n",
       "</style>\n",
       "<table border=\"1\" class=\"dataframe\">\n",
       "  <thead>\n",
       "    <tr style=\"text-align: right;\">\n",
       "      <th></th>\n",
       "      <th>gc_cat_label</th>\n",
       "    </tr>\n",
       "  </thead>\n",
       "  <tbody>\n",
       "    <tr>\n",
       "      <th>0-No GC</th>\n",
       "      <td>54140</td>\n",
       "    </tr>\n",
       "    <tr>\n",
       "      <th>1-Septicemia</th>\n",
       "      <td>547</td>\n",
       "    </tr>\n",
       "    <tr>\n",
       "      <th>2-Heart failure</th>\n",
       "      <td>762</td>\n",
       "    </tr>\n",
       "    <tr>\n",
       "      <th>3-Ill-defined cancer</th>\n",
       "      <td>663</td>\n",
       "    </tr>\n",
       "    <tr>\n",
       "      <th>4-Volume depletion</th>\n",
       "      <td>125</td>\n",
       "    </tr>\n",
       "    <tr>\n",
       "      <th>5-Ill-defined</th>\n",
       "      <td>875</td>\n",
       "    </tr>\n",
       "    <tr>\n",
       "      <th>6-Ill-defined cardiovascular</th>\n",
       "      <td>1025</td>\n",
       "    </tr>\n",
       "    <tr>\n",
       "      <th>8-Undetermined intent</th>\n",
       "      <td>81</td>\n",
       "    </tr>\n",
       "    <tr>\n",
       "      <th>9-Ill-defined infectious</th>\n",
       "      <td>8</td>\n",
       "    </tr>\n",
       "  </tbody>\n",
       "</table>\n",
       "</div>"
      ],
      "text/plain": [
       "                              gc_cat_label\n",
       "0-No GC                              54140\n",
       "1-Septicemia                           547\n",
       "2-Heart failure                        762\n",
       "3-Ill-defined cancer                   663\n",
       "4-Volume depletion                     125\n",
       "5-Ill-defined                          875\n",
       "6-Ill-defined cardiovascular          1025\n",
       "8-Undetermined intent                   81\n",
       "9-Ill-defined infectious                 8"
      ]
     },
     "execution_count": 27,
     "metadata": {},
     "output_type": "execute_result"
    }
   ],
   "source": [
    "d19s['gc_cat_label'].value_counts().sort_index(ascending=True).to_frame()"
   ]
  },
  {
   "cell_type": "markdown",
   "metadata": {},
   "source": [
    "Ill-defined cardiovascular conditions, other ill-defined conditions, and heart failure (categories 1, 5, and 2 in the table above) are the three groups of garbage codes accounting for over half the total number of records with garbage codes.  Ill-defined infectious condtions (category 9) has the fewest records. It is likely that I will need to exclude categories with smaller numbers of records due to the high probability of unreliable results."
   ]
  },
  {
   "cell_type": "markdown",
   "metadata": {},
   "source": [
    "**DO MORE DESCRIPTIVE ANALYSIS HERE - BY GENDER, CERTIFIER TYPE, GEOGRAPHY ETC.**"
   ]
  },
  {
   "cell_type": "markdown",
   "metadata": {},
   "source": [
    "**GC category by gender**"
   ]
  },
  {
   "cell_type": "code",
   "execution_count": 89,
   "metadata": {},
   "outputs": [
    {
     "data": {
      "text/html": [
       "<div>\n",
       "<style scoped>\n",
       "    .dataframe tbody tr th:only-of-type {\n",
       "        vertical-align: middle;\n",
       "    }\n",
       "\n",
       "    .dataframe tbody tr th {\n",
       "        vertical-align: top;\n",
       "    }\n",
       "\n",
       "    .dataframe thead th {\n",
       "        text-align: right;\n",
       "    }\n",
       "</style>\n",
       "<table border=\"1\" class=\"dataframe\">\n",
       "  <thead>\n",
       "    <tr style=\"text-align: right;\">\n",
       "      <th>sex</th>\n",
       "      <th>F</th>\n",
       "      <th>M</th>\n",
       "      <th>U</th>\n",
       "    </tr>\n",
       "    <tr>\n",
       "      <th>gc_cat_label</th>\n",
       "      <th></th>\n",
       "      <th></th>\n",
       "      <th></th>\n",
       "    </tr>\n",
       "  </thead>\n",
       "  <tbody>\n",
       "    <tr>\n",
       "      <th>0-No GC</th>\n",
       "      <td>26027</td>\n",
       "      <td>28111</td>\n",
       "      <td>2</td>\n",
       "    </tr>\n",
       "    <tr>\n",
       "      <th>1-Septicemia</th>\n",
       "      <td>267</td>\n",
       "      <td>280</td>\n",
       "      <td>0</td>\n",
       "    </tr>\n",
       "    <tr>\n",
       "      <th>2-Heart failure</th>\n",
       "      <td>393</td>\n",
       "      <td>369</td>\n",
       "      <td>0</td>\n",
       "    </tr>\n",
       "    <tr>\n",
       "      <th>3-Ill-defined cancer</th>\n",
       "      <td>333</td>\n",
       "      <td>330</td>\n",
       "      <td>0</td>\n",
       "    </tr>\n",
       "    <tr>\n",
       "      <th>4-Volume depletion</th>\n",
       "      <td>63</td>\n",
       "      <td>62</td>\n",
       "      <td>0</td>\n",
       "    </tr>\n",
       "    <tr>\n",
       "      <th>5-Ill-defined</th>\n",
       "      <td>442</td>\n",
       "      <td>433</td>\n",
       "      <td>0</td>\n",
       "    </tr>\n",
       "    <tr>\n",
       "      <th>6-Ill-defined cardiovascular</th>\n",
       "      <td>520</td>\n",
       "      <td>505</td>\n",
       "      <td>0</td>\n",
       "    </tr>\n",
       "    <tr>\n",
       "      <th>8-Undetermined intent</th>\n",
       "      <td>36</td>\n",
       "      <td>45</td>\n",
       "      <td>0</td>\n",
       "    </tr>\n",
       "    <tr>\n",
       "      <th>9-Ill-defined infectious</th>\n",
       "      <td>8</td>\n",
       "      <td>0</td>\n",
       "      <td>0</td>\n",
       "    </tr>\n",
       "  </tbody>\n",
       "</table>\n",
       "</div>"
      ],
      "text/plain": [
       "sex                               F      M  U\n",
       "gc_cat_label                                 \n",
       "0-No GC                       26027  28111  2\n",
       "1-Septicemia                    267    280  0\n",
       "2-Heart failure                 393    369  0\n",
       "3-Ill-defined cancer            333    330  0\n",
       "4-Volume depletion               63     62  0\n",
       "5-Ill-defined                   442    433  0\n",
       "6-Ill-defined cardiovascular    520    505  0\n",
       "8-Undetermined intent            36     45  0\n",
       "9-Ill-defined infectious          8      0  0"
      ]
     },
     "execution_count": 89,
     "metadata": {},
     "output_type": "execute_result"
    }
   ],
   "source": [
    "pd.crosstab(d19s['gc_cat_label'], d19s['sex'])"
   ]
  },
  {
   "cell_type": "markdown",
   "metadata": {},
   "source": [
    "**GC category by age group**"
   ]
  },
  {
   "cell_type": "code",
   "execution_count": 91,
   "metadata": {},
   "outputs": [],
   "source": [
    "d19s['agegrp'] = pd.cut(d19s.ageyrs, \n",
    "                        bins=[0,19,29,39,49,59,69,79,115], \n",
    "                        labels = ['0-19 yrs', '20-29 yrs', '30-39 yrs', '40-49 yrs',\n",
    "                                 '50-59 yrs', '60-69 yrs', '70-79 yrs', '80+ yrs'])"
   ]
  },
  {
   "cell_type": "code",
   "execution_count": 104,
   "metadata": {},
   "outputs": [
    {
     "data": {
      "text/html": [
       "<div>\n",
       "<style scoped>\n",
       "    .dataframe tbody tr th:only-of-type {\n",
       "        vertical-align: middle;\n",
       "    }\n",
       "\n",
       "    .dataframe tbody tr th {\n",
       "        vertical-align: top;\n",
       "    }\n",
       "\n",
       "    .dataframe thead th {\n",
       "        text-align: right;\n",
       "    }\n",
       "</style>\n",
       "<table border=\"1\" class=\"dataframe\">\n",
       "  <thead>\n",
       "    <tr style=\"text-align: right;\">\n",
       "      <th>agegrp</th>\n",
       "      <th>0-19 yrs</th>\n",
       "      <th>20-29 yrs</th>\n",
       "      <th>30-39 yrs</th>\n",
       "      <th>40-49 yrs</th>\n",
       "      <th>50-59 yrs</th>\n",
       "      <th>60-69 yrs</th>\n",
       "      <th>70-79 yrs</th>\n",
       "      <th>80+ yrs</th>\n",
       "    </tr>\n",
       "    <tr>\n",
       "      <th>gc_cat_label</th>\n",
       "      <th></th>\n",
       "      <th></th>\n",
       "      <th></th>\n",
       "      <th></th>\n",
       "      <th></th>\n",
       "      <th></th>\n",
       "      <th></th>\n",
       "      <th></th>\n",
       "    </tr>\n",
       "  </thead>\n",
       "  <tbody>\n",
       "    <tr>\n",
       "      <th>0-No GC</th>\n",
       "      <td>375</td>\n",
       "      <td>769</td>\n",
       "      <td>1179</td>\n",
       "      <td>1888</td>\n",
       "      <td>4559</td>\n",
       "      <td>8950</td>\n",
       "      <td>12294</td>\n",
       "      <td>23872</td>\n",
       "    </tr>\n",
       "    <tr>\n",
       "      <th>1-Septicemia</th>\n",
       "      <td>1</td>\n",
       "      <td>3</td>\n",
       "      <td>8</td>\n",
       "      <td>19</td>\n",
       "      <td>55</td>\n",
       "      <td>88</td>\n",
       "      <td>141</td>\n",
       "      <td>232</td>\n",
       "    </tr>\n",
       "    <tr>\n",
       "      <th>2-Heart failure</th>\n",
       "      <td>0</td>\n",
       "      <td>1</td>\n",
       "      <td>2</td>\n",
       "      <td>4</td>\n",
       "      <td>30</td>\n",
       "      <td>71</td>\n",
       "      <td>147</td>\n",
       "      <td>507</td>\n",
       "    </tr>\n",
       "    <tr>\n",
       "      <th>3-Ill-defined cancer</th>\n",
       "      <td>3</td>\n",
       "      <td>1</td>\n",
       "      <td>5</td>\n",
       "      <td>16</td>\n",
       "      <td>46</td>\n",
       "      <td>157</td>\n",
       "      <td>199</td>\n",
       "      <td>236</td>\n",
       "    </tr>\n",
       "    <tr>\n",
       "      <th>4-Volume depletion</th>\n",
       "      <td>1</td>\n",
       "      <td>1</td>\n",
       "      <td>1</td>\n",
       "      <td>2</td>\n",
       "      <td>10</td>\n",
       "      <td>15</td>\n",
       "      <td>33</td>\n",
       "      <td>61</td>\n",
       "    </tr>\n",
       "    <tr>\n",
       "      <th>5-Ill-defined</th>\n",
       "      <td>17</td>\n",
       "      <td>45</td>\n",
       "      <td>59</td>\n",
       "      <td>63</td>\n",
       "      <td>86</td>\n",
       "      <td>117</td>\n",
       "      <td>127</td>\n",
       "      <td>306</td>\n",
       "    </tr>\n",
       "    <tr>\n",
       "      <th>6-Ill-defined cardiovascular</th>\n",
       "      <td>3</td>\n",
       "      <td>6</td>\n",
       "      <td>16</td>\n",
       "      <td>36</td>\n",
       "      <td>85</td>\n",
       "      <td>184</td>\n",
       "      <td>216</td>\n",
       "      <td>478</td>\n",
       "    </tr>\n",
       "    <tr>\n",
       "      <th>8-Undetermined intent</th>\n",
       "      <td>6</td>\n",
       "      <td>10</td>\n",
       "      <td>16</td>\n",
       "      <td>14</td>\n",
       "      <td>16</td>\n",
       "      <td>12</td>\n",
       "      <td>5</td>\n",
       "      <td>1</td>\n",
       "    </tr>\n",
       "    <tr>\n",
       "      <th>9-Ill-defined infectious</th>\n",
       "      <td>0</td>\n",
       "      <td>0</td>\n",
       "      <td>0</td>\n",
       "      <td>1</td>\n",
       "      <td>0</td>\n",
       "      <td>1</td>\n",
       "      <td>2</td>\n",
       "      <td>3</td>\n",
       "    </tr>\n",
       "  </tbody>\n",
       "</table>\n",
       "</div>"
      ],
      "text/plain": [
       "agegrp                        0-19 yrs  20-29 yrs  30-39 yrs  40-49 yrs  \\\n",
       "gc_cat_label                                                              \n",
       "0-No GC                            375        769       1179       1888   \n",
       "1-Septicemia                         1          3          8         19   \n",
       "2-Heart failure                      0          1          2          4   \n",
       "3-Ill-defined cancer                 3          1          5         16   \n",
       "4-Volume depletion                   1          1          1          2   \n",
       "5-Ill-defined                       17         45         59         63   \n",
       "6-Ill-defined cardiovascular         3          6         16         36   \n",
       "8-Undetermined intent                6         10         16         14   \n",
       "9-Ill-defined infectious             0          0          0          1   \n",
       "\n",
       "agegrp                        50-59 yrs  60-69 yrs  70-79 yrs  80+ yrs  \n",
       "gc_cat_label                                                            \n",
       "0-No GC                            4559       8950      12294    23872  \n",
       "1-Septicemia                         55         88        141      232  \n",
       "2-Heart failure                      30         71        147      507  \n",
       "3-Ill-defined cancer                 46        157        199      236  \n",
       "4-Volume depletion                   10         15         33       61  \n",
       "5-Ill-defined                        86        117        127      306  \n",
       "6-Ill-defined cardiovascular         85        184        216      478  \n",
       "8-Undetermined intent                16         12          5        1  \n",
       "9-Ill-defined infectious              0          1          2        3  "
      ]
     },
     "execution_count": 104,
     "metadata": {},
     "output_type": "execute_result"
    }
   ],
   "source": [
    "pd.crosstab(d19s['gc_cat_label'], d19s['agegrp'])"
   ]
  },
  {
   "cell_type": "code",
   "execution_count": 105,
   "metadata": {},
   "outputs": [
    {
     "data": {
      "text/html": [
       "<div>\n",
       "<style scoped>\n",
       "    .dataframe tbody tr th:only-of-type {\n",
       "        vertical-align: middle;\n",
       "    }\n",
       "\n",
       "    .dataframe tbody tr th {\n",
       "        vertical-align: top;\n",
       "    }\n",
       "\n",
       "    .dataframe thead th {\n",
       "        text-align: right;\n",
       "    }\n",
       "</style>\n",
       "<table border=\"1\" class=\"dataframe\">\n",
       "  <thead>\n",
       "    <tr style=\"text-align: right;\">\n",
       "      <th>agegrp</th>\n",
       "      <th>0-19 yrs</th>\n",
       "      <th>20-29 yrs</th>\n",
       "      <th>30-39 yrs</th>\n",
       "      <th>40-49 yrs</th>\n",
       "      <th>50-59 yrs</th>\n",
       "      <th>60-69 yrs</th>\n",
       "      <th>70-79 yrs</th>\n",
       "      <th>80+ yrs</th>\n",
       "    </tr>\n",
       "    <tr>\n",
       "      <th>gc_cat_label</th>\n",
       "      <th></th>\n",
       "      <th></th>\n",
       "      <th></th>\n",
       "      <th></th>\n",
       "      <th></th>\n",
       "      <th></th>\n",
       "      <th></th>\n",
       "      <th></th>\n",
       "    </tr>\n",
       "  </thead>\n",
       "  <tbody>\n",
       "    <tr>\n",
       "      <th>0-No GC</th>\n",
       "      <td>92.4</td>\n",
       "      <td>92.0</td>\n",
       "      <td>91.7</td>\n",
       "      <td>92.4</td>\n",
       "      <td>93.3</td>\n",
       "      <td>93.3</td>\n",
       "      <td>93.4</td>\n",
       "      <td>92.9</td>\n",
       "    </tr>\n",
       "    <tr>\n",
       "      <th>1-Septicemia</th>\n",
       "      <td>0.2</td>\n",
       "      <td>0.4</td>\n",
       "      <td>0.6</td>\n",
       "      <td>0.9</td>\n",
       "      <td>1.1</td>\n",
       "      <td>0.9</td>\n",
       "      <td>1.1</td>\n",
       "      <td>0.9</td>\n",
       "    </tr>\n",
       "    <tr>\n",
       "      <th>2-Heart failure</th>\n",
       "      <td>0.0</td>\n",
       "      <td>0.1</td>\n",
       "      <td>0.2</td>\n",
       "      <td>0.2</td>\n",
       "      <td>0.6</td>\n",
       "      <td>0.7</td>\n",
       "      <td>1.1</td>\n",
       "      <td>2.0</td>\n",
       "    </tr>\n",
       "    <tr>\n",
       "      <th>3-Ill-defined cancer</th>\n",
       "      <td>0.7</td>\n",
       "      <td>0.1</td>\n",
       "      <td>0.4</td>\n",
       "      <td>0.8</td>\n",
       "      <td>0.9</td>\n",
       "      <td>1.6</td>\n",
       "      <td>1.5</td>\n",
       "      <td>0.9</td>\n",
       "    </tr>\n",
       "    <tr>\n",
       "      <th>4-Volume depletion</th>\n",
       "      <td>0.2</td>\n",
       "      <td>0.1</td>\n",
       "      <td>0.1</td>\n",
       "      <td>0.1</td>\n",
       "      <td>0.2</td>\n",
       "      <td>0.2</td>\n",
       "      <td>0.3</td>\n",
       "      <td>0.2</td>\n",
       "    </tr>\n",
       "    <tr>\n",
       "      <th>5-Ill-defined</th>\n",
       "      <td>4.2</td>\n",
       "      <td>5.4</td>\n",
       "      <td>4.6</td>\n",
       "      <td>3.1</td>\n",
       "      <td>1.8</td>\n",
       "      <td>1.2</td>\n",
       "      <td>1.0</td>\n",
       "      <td>1.2</td>\n",
       "    </tr>\n",
       "    <tr>\n",
       "      <th>6-Ill-defined cardiovascular</th>\n",
       "      <td>0.7</td>\n",
       "      <td>0.7</td>\n",
       "      <td>1.2</td>\n",
       "      <td>1.8</td>\n",
       "      <td>1.7</td>\n",
       "      <td>1.9</td>\n",
       "      <td>1.6</td>\n",
       "      <td>1.9</td>\n",
       "    </tr>\n",
       "    <tr>\n",
       "      <th>8-Undetermined intent</th>\n",
       "      <td>1.5</td>\n",
       "      <td>1.2</td>\n",
       "      <td>1.2</td>\n",
       "      <td>0.7</td>\n",
       "      <td>0.3</td>\n",
       "      <td>0.1</td>\n",
       "      <td>0.0</td>\n",
       "      <td>0.0</td>\n",
       "    </tr>\n",
       "    <tr>\n",
       "      <th>9-Ill-defined infectious</th>\n",
       "      <td>0.0</td>\n",
       "      <td>0.0</td>\n",
       "      <td>0.0</td>\n",
       "      <td>0.0</td>\n",
       "      <td>0.0</td>\n",
       "      <td>0.0</td>\n",
       "      <td>0.0</td>\n",
       "      <td>0.0</td>\n",
       "    </tr>\n",
       "  </tbody>\n",
       "</table>\n",
       "</div>"
      ],
      "text/plain": [
       "agegrp                        0-19 yrs  20-29 yrs  30-39 yrs  40-49 yrs  \\\n",
       "gc_cat_label                                                              \n",
       "0-No GC                           92.4       92.0       91.7       92.4   \n",
       "1-Septicemia                       0.2        0.4        0.6        0.9   \n",
       "2-Heart failure                    0.0        0.1        0.2        0.2   \n",
       "3-Ill-defined cancer               0.7        0.1        0.4        0.8   \n",
       "4-Volume depletion                 0.2        0.1        0.1        0.1   \n",
       "5-Ill-defined                      4.2        5.4        4.6        3.1   \n",
       "6-Ill-defined cardiovascular       0.7        0.7        1.2        1.8   \n",
       "8-Undetermined intent              1.5        1.2        1.2        0.7   \n",
       "9-Ill-defined infectious           0.0        0.0        0.0        0.0   \n",
       "\n",
       "agegrp                        50-59 yrs  60-69 yrs  70-79 yrs  80+ yrs  \n",
       "gc_cat_label                                                            \n",
       "0-No GC                            93.3       93.3       93.4     92.9  \n",
       "1-Septicemia                        1.1        0.9        1.1      0.9  \n",
       "2-Heart failure                     0.6        0.7        1.1      2.0  \n",
       "3-Ill-defined cancer                0.9        1.6        1.5      0.9  \n",
       "4-Volume depletion                  0.2        0.2        0.3      0.2  \n",
       "5-Ill-defined                       1.8        1.2        1.0      1.2  \n",
       "6-Ill-defined cardiovascular        1.7        1.9        1.6      1.9  \n",
       "8-Undetermined intent               0.3        0.1        0.0      0.0  \n",
       "9-Ill-defined infectious            0.0        0.0        0.0      0.0  "
      ]
     },
     "execution_count": 105,
     "metadata": {},
     "output_type": "execute_result"
    }
   ],
   "source": [
    "pd.crosstab(d19s['gc_cat_label'], d19s['agegrp'], normalize='columns').round(3)*100"
   ]
  },
  {
   "cell_type": "markdown",
   "metadata": {},
   "source": [
    "**GC category by death county**"
   ]
  },
  {
   "cell_type": "code",
   "execution_count": 99,
   "metadata": {},
   "outputs": [
    {
     "data": {
      "text/html": [
       "<div>\n",
       "<style scoped>\n",
       "    .dataframe tbody tr th:only-of-type {\n",
       "        vertical-align: middle;\n",
       "    }\n",
       "\n",
       "    .dataframe tbody tr th {\n",
       "        vertical-align: top;\n",
       "    }\n",
       "\n",
       "    .dataframe thead th {\n",
       "        text-align: right;\n",
       "    }\n",
       "</style>\n",
       "<table border=\"1\" class=\"dataframe\">\n",
       "  <thead>\n",
       "    <tr style=\"text-align: right;\">\n",
       "      <th>dcounty</th>\n",
       "      <th>ADAMS</th>\n",
       "      <th>ASOTIN</th>\n",
       "      <th>BENTON</th>\n",
       "      <th>CHELAN</th>\n",
       "      <th>CLALLAM</th>\n",
       "      <th>CLARK</th>\n",
       "      <th>COLUMBIA</th>\n",
       "      <th>COWLITZ</th>\n",
       "      <th>DOUGLAS</th>\n",
       "      <th>FERRY</th>\n",
       "      <th>FRANKLIN</th>\n",
       "      <th>GARFIELD</th>\n",
       "      <th>GRANT</th>\n",
       "      <th>GRAYS HARBOR</th>\n",
       "      <th>ISLAND</th>\n",
       "      <th>JEFFERSON</th>\n",
       "      <th>KING</th>\n",
       "      <th>KITSAP</th>\n",
       "      <th>KITTITAS</th>\n",
       "      <th>KLICKITAT</th>\n",
       "      <th>LEWIS</th>\n",
       "      <th>LINCOLN</th>\n",
       "      <th>MASON</th>\n",
       "      <th>OKANOGAN</th>\n",
       "      <th>PACIFIC</th>\n",
       "      <th>PEND OREILLE</th>\n",
       "      <th>PIERCE</th>\n",
       "      <th>SAN JUAN</th>\n",
       "      <th>SKAGIT</th>\n",
       "      <th>SKAMANIA</th>\n",
       "      <th>SNOHOMISH</th>\n",
       "      <th>SPOKANE</th>\n",
       "      <th>STEVENS</th>\n",
       "      <th>THURSTON</th>\n",
       "      <th>WAHKIAKUM</th>\n",
       "      <th>WALLA WALLA</th>\n",
       "      <th>WHATCOM</th>\n",
       "      <th>WHITMAN</th>\n",
       "      <th>YAKIMA</th>\n",
       "    </tr>\n",
       "    <tr>\n",
       "      <th>gc_cat_label</th>\n",
       "      <th></th>\n",
       "      <th></th>\n",
       "      <th></th>\n",
       "      <th></th>\n",
       "      <th></th>\n",
       "      <th></th>\n",
       "      <th></th>\n",
       "      <th></th>\n",
       "      <th></th>\n",
       "      <th></th>\n",
       "      <th></th>\n",
       "      <th></th>\n",
       "      <th></th>\n",
       "      <th></th>\n",
       "      <th></th>\n",
       "      <th></th>\n",
       "      <th></th>\n",
       "      <th></th>\n",
       "      <th></th>\n",
       "      <th></th>\n",
       "      <th></th>\n",
       "      <th></th>\n",
       "      <th></th>\n",
       "      <th></th>\n",
       "      <th></th>\n",
       "      <th></th>\n",
       "      <th></th>\n",
       "      <th></th>\n",
       "      <th></th>\n",
       "      <th></th>\n",
       "      <th></th>\n",
       "      <th></th>\n",
       "      <th></th>\n",
       "      <th></th>\n",
       "      <th></th>\n",
       "      <th></th>\n",
       "      <th></th>\n",
       "      <th></th>\n",
       "      <th></th>\n",
       "    </tr>\n",
       "  </thead>\n",
       "  <tbody>\n",
       "    <tr>\n",
       "      <th>0-No GC</th>\n",
       "      <td>93.8</td>\n",
       "      <td>93.1</td>\n",
       "      <td>94.7</td>\n",
       "      <td>94.7</td>\n",
       "      <td>92.2</td>\n",
       "      <td>92.9</td>\n",
       "      <td>98.0</td>\n",
       "      <td>94.6</td>\n",
       "      <td>94.8</td>\n",
       "      <td>92.5</td>\n",
       "      <td>96.9</td>\n",
       "      <td>94.7</td>\n",
       "      <td>94.9</td>\n",
       "      <td>93.6</td>\n",
       "      <td>92.3</td>\n",
       "      <td>93.3</td>\n",
       "      <td>93.4</td>\n",
       "      <td>91.9</td>\n",
       "      <td>93.4</td>\n",
       "      <td>95.5</td>\n",
       "      <td>90.2</td>\n",
       "      <td>97.6</td>\n",
       "      <td>91.9</td>\n",
       "      <td>95.9</td>\n",
       "      <td>89.4</td>\n",
       "      <td>93.3</td>\n",
       "      <td>92.5</td>\n",
       "      <td>93.3</td>\n",
       "      <td>93.0</td>\n",
       "      <td>93.9</td>\n",
       "      <td>92.9</td>\n",
       "      <td>92.9</td>\n",
       "      <td>90.3</td>\n",
       "      <td>92.5</td>\n",
       "      <td>82.4</td>\n",
       "      <td>91.9</td>\n",
       "      <td>92.7</td>\n",
       "      <td>95.7</td>\n",
       "      <td>91.2</td>\n",
       "    </tr>\n",
       "    <tr>\n",
       "      <th>1-Septicemia</th>\n",
       "      <td>1.0</td>\n",
       "      <td>0.0</td>\n",
       "      <td>1.1</td>\n",
       "      <td>0.4</td>\n",
       "      <td>0.7</td>\n",
       "      <td>0.7</td>\n",
       "      <td>0.0</td>\n",
       "      <td>1.0</td>\n",
       "      <td>0.5</td>\n",
       "      <td>1.9</td>\n",
       "      <td>0.4</td>\n",
       "      <td>0.0</td>\n",
       "      <td>0.9</td>\n",
       "      <td>0.3</td>\n",
       "      <td>0.2</td>\n",
       "      <td>0.3</td>\n",
       "      <td>0.9</td>\n",
       "      <td>0.9</td>\n",
       "      <td>0.3</td>\n",
       "      <td>0.6</td>\n",
       "      <td>1.8</td>\n",
       "      <td>0.0</td>\n",
       "      <td>0.8</td>\n",
       "      <td>0.3</td>\n",
       "      <td>0.8</td>\n",
       "      <td>0.0</td>\n",
       "      <td>1.2</td>\n",
       "      <td>0.0</td>\n",
       "      <td>0.9</td>\n",
       "      <td>0.0</td>\n",
       "      <td>0.7</td>\n",
       "      <td>1.3</td>\n",
       "      <td>3.6</td>\n",
       "      <td>1.4</td>\n",
       "      <td>0.0</td>\n",
       "      <td>0.9</td>\n",
       "      <td>1.2</td>\n",
       "      <td>0.0</td>\n",
       "      <td>0.9</td>\n",
       "    </tr>\n",
       "    <tr>\n",
       "      <th>2-Heart failure</th>\n",
       "      <td>0.0</td>\n",
       "      <td>2.5</td>\n",
       "      <td>0.7</td>\n",
       "      <td>1.7</td>\n",
       "      <td>1.5</td>\n",
       "      <td>1.5</td>\n",
       "      <td>0.0</td>\n",
       "      <td>1.0</td>\n",
       "      <td>0.5</td>\n",
       "      <td>0.0</td>\n",
       "      <td>0.4</td>\n",
       "      <td>0.0</td>\n",
       "      <td>1.1</td>\n",
       "      <td>1.9</td>\n",
       "      <td>1.1</td>\n",
       "      <td>1.5</td>\n",
       "      <td>1.2</td>\n",
       "      <td>2.1</td>\n",
       "      <td>1.0</td>\n",
       "      <td>0.0</td>\n",
       "      <td>2.1</td>\n",
       "      <td>0.0</td>\n",
       "      <td>1.0</td>\n",
       "      <td>0.3</td>\n",
       "      <td>1.3</td>\n",
       "      <td>0.8</td>\n",
       "      <td>1.6</td>\n",
       "      <td>2.9</td>\n",
       "      <td>1.5</td>\n",
       "      <td>0.0</td>\n",
       "      <td>1.5</td>\n",
       "      <td>1.0</td>\n",
       "      <td>1.3</td>\n",
       "      <td>1.5</td>\n",
       "      <td>0.0</td>\n",
       "      <td>0.5</td>\n",
       "      <td>1.3</td>\n",
       "      <td>0.9</td>\n",
       "      <td>0.6</td>\n",
       "    </tr>\n",
       "    <tr>\n",
       "      <th>3-Ill-defined cancer</th>\n",
       "      <td>0.0</td>\n",
       "      <td>1.0</td>\n",
       "      <td>0.9</td>\n",
       "      <td>1.0</td>\n",
       "      <td>1.2</td>\n",
       "      <td>1.1</td>\n",
       "      <td>0.0</td>\n",
       "      <td>0.9</td>\n",
       "      <td>1.0</td>\n",
       "      <td>1.9</td>\n",
       "      <td>0.0</td>\n",
       "      <td>0.0</td>\n",
       "      <td>0.7</td>\n",
       "      <td>0.6</td>\n",
       "      <td>0.7</td>\n",
       "      <td>2.1</td>\n",
       "      <td>1.2</td>\n",
       "      <td>1.1</td>\n",
       "      <td>1.7</td>\n",
       "      <td>0.0</td>\n",
       "      <td>1.6</td>\n",
       "      <td>0.0</td>\n",
       "      <td>0.6</td>\n",
       "      <td>0.5</td>\n",
       "      <td>1.3</td>\n",
       "      <td>0.0</td>\n",
       "      <td>1.3</td>\n",
       "      <td>1.0</td>\n",
       "      <td>1.0</td>\n",
       "      <td>1.5</td>\n",
       "      <td>1.5</td>\n",
       "      <td>0.8</td>\n",
       "      <td>0.6</td>\n",
       "      <td>0.9</td>\n",
       "      <td>5.9</td>\n",
       "      <td>0.9</td>\n",
       "      <td>1.1</td>\n",
       "      <td>0.9</td>\n",
       "      <td>1.7</td>\n",
       "    </tr>\n",
       "    <tr>\n",
       "      <th>4-Volume depletion</th>\n",
       "      <td>0.0</td>\n",
       "      <td>0.0</td>\n",
       "      <td>0.5</td>\n",
       "      <td>0.0</td>\n",
       "      <td>0.0</td>\n",
       "      <td>0.3</td>\n",
       "      <td>0.0</td>\n",
       "      <td>0.1</td>\n",
       "      <td>0.0</td>\n",
       "      <td>0.0</td>\n",
       "      <td>0.0</td>\n",
       "      <td>0.0</td>\n",
       "      <td>0.0</td>\n",
       "      <td>0.6</td>\n",
       "      <td>0.2</td>\n",
       "      <td>0.0</td>\n",
       "      <td>0.2</td>\n",
       "      <td>0.2</td>\n",
       "      <td>0.3</td>\n",
       "      <td>0.0</td>\n",
       "      <td>0.3</td>\n",
       "      <td>0.0</td>\n",
       "      <td>0.8</td>\n",
       "      <td>0.0</td>\n",
       "      <td>0.4</td>\n",
       "      <td>0.0</td>\n",
       "      <td>0.2</td>\n",
       "      <td>0.0</td>\n",
       "      <td>0.1</td>\n",
       "      <td>0.0</td>\n",
       "      <td>0.3</td>\n",
       "      <td>0.2</td>\n",
       "      <td>0.6</td>\n",
       "      <td>0.2</td>\n",
       "      <td>0.0</td>\n",
       "      <td>0.4</td>\n",
       "      <td>0.1</td>\n",
       "      <td>0.0</td>\n",
       "      <td>0.3</td>\n",
       "    </tr>\n",
       "    <tr>\n",
       "      <th>5-Ill-defined</th>\n",
       "      <td>5.2</td>\n",
       "      <td>1.5</td>\n",
       "      <td>0.7</td>\n",
       "      <td>1.0</td>\n",
       "      <td>3.4</td>\n",
       "      <td>1.6</td>\n",
       "      <td>0.0</td>\n",
       "      <td>1.2</td>\n",
       "      <td>3.1</td>\n",
       "      <td>3.8</td>\n",
       "      <td>1.2</td>\n",
       "      <td>0.0</td>\n",
       "      <td>0.7</td>\n",
       "      <td>0.9</td>\n",
       "      <td>2.6</td>\n",
       "      <td>1.8</td>\n",
       "      <td>1.2</td>\n",
       "      <td>1.7</td>\n",
       "      <td>1.7</td>\n",
       "      <td>1.9</td>\n",
       "      <td>1.1</td>\n",
       "      <td>2.4</td>\n",
       "      <td>2.0</td>\n",
       "      <td>1.8</td>\n",
       "      <td>3.4</td>\n",
       "      <td>5.0</td>\n",
       "      <td>1.1</td>\n",
       "      <td>0.0</td>\n",
       "      <td>2.1</td>\n",
       "      <td>1.5</td>\n",
       "      <td>1.0</td>\n",
       "      <td>2.1</td>\n",
       "      <td>2.6</td>\n",
       "      <td>1.8</td>\n",
       "      <td>11.8</td>\n",
       "      <td>2.0</td>\n",
       "      <td>1.4</td>\n",
       "      <td>2.1</td>\n",
       "      <td>2.6</td>\n",
       "    </tr>\n",
       "    <tr>\n",
       "      <th>6-Ill-defined cardiovascular</th>\n",
       "      <td>0.0</td>\n",
       "      <td>2.0</td>\n",
       "      <td>1.4</td>\n",
       "      <td>0.9</td>\n",
       "      <td>0.9</td>\n",
       "      <td>1.7</td>\n",
       "      <td>2.0</td>\n",
       "      <td>1.2</td>\n",
       "      <td>0.0</td>\n",
       "      <td>0.0</td>\n",
       "      <td>1.2</td>\n",
       "      <td>5.3</td>\n",
       "      <td>1.3</td>\n",
       "      <td>1.6</td>\n",
       "      <td>2.8</td>\n",
       "      <td>0.6</td>\n",
       "      <td>1.8</td>\n",
       "      <td>1.8</td>\n",
       "      <td>1.4</td>\n",
       "      <td>1.9</td>\n",
       "      <td>2.3</td>\n",
       "      <td>0.0</td>\n",
       "      <td>1.6</td>\n",
       "      <td>1.3</td>\n",
       "      <td>3.4</td>\n",
       "      <td>0.8</td>\n",
       "      <td>1.9</td>\n",
       "      <td>2.9</td>\n",
       "      <td>1.3</td>\n",
       "      <td>3.0</td>\n",
       "      <td>2.0</td>\n",
       "      <td>1.6</td>\n",
       "      <td>1.0</td>\n",
       "      <td>1.7</td>\n",
       "      <td>0.0</td>\n",
       "      <td>3.4</td>\n",
       "      <td>2.2</td>\n",
       "      <td>0.0</td>\n",
       "      <td>2.8</td>\n",
       "    </tr>\n",
       "    <tr>\n",
       "      <th>8-Undetermined intent</th>\n",
       "      <td>0.0</td>\n",
       "      <td>0.0</td>\n",
       "      <td>0.0</td>\n",
       "      <td>0.2</td>\n",
       "      <td>0.1</td>\n",
       "      <td>0.1</td>\n",
       "      <td>0.0</td>\n",
       "      <td>0.0</td>\n",
       "      <td>0.0</td>\n",
       "      <td>0.0</td>\n",
       "      <td>0.0</td>\n",
       "      <td>0.0</td>\n",
       "      <td>0.4</td>\n",
       "      <td>0.6</td>\n",
       "      <td>0.2</td>\n",
       "      <td>0.3</td>\n",
       "      <td>0.2</td>\n",
       "      <td>0.3</td>\n",
       "      <td>0.0</td>\n",
       "      <td>0.0</td>\n",
       "      <td>0.6</td>\n",
       "      <td>0.0</td>\n",
       "      <td>1.2</td>\n",
       "      <td>0.0</td>\n",
       "      <td>0.0</td>\n",
       "      <td>0.0</td>\n",
       "      <td>0.1</td>\n",
       "      <td>0.0</td>\n",
       "      <td>0.1</td>\n",
       "      <td>0.0</td>\n",
       "      <td>0.1</td>\n",
       "      <td>0.1</td>\n",
       "      <td>0.0</td>\n",
       "      <td>0.1</td>\n",
       "      <td>0.0</td>\n",
       "      <td>0.0</td>\n",
       "      <td>0.1</td>\n",
       "      <td>0.0</td>\n",
       "      <td>0.0</td>\n",
       "    </tr>\n",
       "    <tr>\n",
       "      <th>9-Ill-defined infectious</th>\n",
       "      <td>0.0</td>\n",
       "      <td>0.0</td>\n",
       "      <td>0.0</td>\n",
       "      <td>0.0</td>\n",
       "      <td>0.0</td>\n",
       "      <td>0.0</td>\n",
       "      <td>0.0</td>\n",
       "      <td>0.1</td>\n",
       "      <td>0.0</td>\n",
       "      <td>0.0</td>\n",
       "      <td>0.0</td>\n",
       "      <td>0.0</td>\n",
       "      <td>0.0</td>\n",
       "      <td>0.0</td>\n",
       "      <td>0.0</td>\n",
       "      <td>0.0</td>\n",
       "      <td>0.0</td>\n",
       "      <td>0.0</td>\n",
       "      <td>0.0</td>\n",
       "      <td>0.0</td>\n",
       "      <td>0.0</td>\n",
       "      <td>0.0</td>\n",
       "      <td>0.0</td>\n",
       "      <td>0.0</td>\n",
       "      <td>0.0</td>\n",
       "      <td>0.0</td>\n",
       "      <td>0.0</td>\n",
       "      <td>0.0</td>\n",
       "      <td>0.0</td>\n",
       "      <td>0.0</td>\n",
       "      <td>0.0</td>\n",
       "      <td>0.0</td>\n",
       "      <td>0.0</td>\n",
       "      <td>0.0</td>\n",
       "      <td>0.0</td>\n",
       "      <td>0.0</td>\n",
       "      <td>0.0</td>\n",
       "      <td>0.4</td>\n",
       "      <td>0.0</td>\n",
       "    </tr>\n",
       "  </tbody>\n",
       "</table>\n",
       "</div>"
      ],
      "text/plain": [
       "dcounty                       ADAMS  ASOTIN  BENTON  CHELAN  CLALLAM  CLARK  \\\n",
       "gc_cat_label                                                                  \n",
       "0-No GC                        93.8    93.1    94.7    94.7     92.2   92.9   \n",
       "1-Septicemia                    1.0     0.0     1.1     0.4      0.7    0.7   \n",
       "2-Heart failure                 0.0     2.5     0.7     1.7      1.5    1.5   \n",
       "3-Ill-defined cancer            0.0     1.0     0.9     1.0      1.2    1.1   \n",
       "4-Volume depletion              0.0     0.0     0.5     0.0      0.0    0.3   \n",
       "5-Ill-defined                   5.2     1.5     0.7     1.0      3.4    1.6   \n",
       "6-Ill-defined cardiovascular    0.0     2.0     1.4     0.9      0.9    1.7   \n",
       "8-Undetermined intent           0.0     0.0     0.0     0.2      0.1    0.1   \n",
       "9-Ill-defined infectious        0.0     0.0     0.0     0.0      0.0    0.0   \n",
       "\n",
       "dcounty                       COLUMBIA  COWLITZ  DOUGLAS  FERRY  FRANKLIN  \\\n",
       "gc_cat_label                                                                \n",
       "0-No GC                           98.0     94.6     94.8   92.5      96.9   \n",
       "1-Septicemia                       0.0      1.0      0.5    1.9       0.4   \n",
       "2-Heart failure                    0.0      1.0      0.5    0.0       0.4   \n",
       "3-Ill-defined cancer               0.0      0.9      1.0    1.9       0.0   \n",
       "4-Volume depletion                 0.0      0.1      0.0    0.0       0.0   \n",
       "5-Ill-defined                      0.0      1.2      3.1    3.8       1.2   \n",
       "6-Ill-defined cardiovascular       2.0      1.2      0.0    0.0       1.2   \n",
       "8-Undetermined intent              0.0      0.0      0.0    0.0       0.0   \n",
       "9-Ill-defined infectious           0.0      0.1      0.0    0.0       0.0   \n",
       "\n",
       "dcounty                       GARFIELD  GRANT  GRAYS HARBOR  ISLAND  \\\n",
       "gc_cat_label                                                          \n",
       "0-No GC                           94.7   94.9          93.6    92.3   \n",
       "1-Septicemia                       0.0    0.9           0.3     0.2   \n",
       "2-Heart failure                    0.0    1.1           1.9     1.1   \n",
       "3-Ill-defined cancer               0.0    0.7           0.6     0.7   \n",
       "4-Volume depletion                 0.0    0.0           0.6     0.2   \n",
       "5-Ill-defined                      0.0    0.7           0.9     2.6   \n",
       "6-Ill-defined cardiovascular       5.3    1.3           1.6     2.8   \n",
       "8-Undetermined intent              0.0    0.4           0.6     0.2   \n",
       "9-Ill-defined infectious           0.0    0.0           0.0     0.0   \n",
       "\n",
       "dcounty                       JEFFERSON  KING  KITSAP  KITTITAS  KLICKITAT  \\\n",
       "gc_cat_label                                                                 \n",
       "0-No GC                            93.3  93.4    91.9      93.4       95.5   \n",
       "1-Septicemia                        0.3   0.9     0.9       0.3        0.6   \n",
       "2-Heart failure                     1.5   1.2     2.1       1.0        0.0   \n",
       "3-Ill-defined cancer                2.1   1.2     1.1       1.7        0.0   \n",
       "4-Volume depletion                  0.0   0.2     0.2       0.3        0.0   \n",
       "5-Ill-defined                       1.8   1.2     1.7       1.7        1.9   \n",
       "6-Ill-defined cardiovascular        0.6   1.8     1.8       1.4        1.9   \n",
       "8-Undetermined intent               0.3   0.2     0.3       0.0        0.0   \n",
       "9-Ill-defined infectious            0.0   0.0     0.0       0.0        0.0   \n",
       "\n",
       "dcounty                       LEWIS  LINCOLN  MASON  OKANOGAN  PACIFIC  \\\n",
       "gc_cat_label                                                             \n",
       "0-No GC                        90.2     97.6   91.9      95.9     89.4   \n",
       "1-Septicemia                    1.8      0.0    0.8       0.3      0.8   \n",
       "2-Heart failure                 2.1      0.0    1.0       0.3      1.3   \n",
       "3-Ill-defined cancer            1.6      0.0    0.6       0.5      1.3   \n",
       "4-Volume depletion              0.3      0.0    0.8       0.0      0.4   \n",
       "5-Ill-defined                   1.1      2.4    2.0       1.8      3.4   \n",
       "6-Ill-defined cardiovascular    2.3      0.0    1.6       1.3      3.4   \n",
       "8-Undetermined intent           0.6      0.0    1.2       0.0      0.0   \n",
       "9-Ill-defined infectious        0.0      0.0    0.0       0.0      0.0   \n",
       "\n",
       "dcounty                       PEND OREILLE  PIERCE  SAN JUAN  SKAGIT  \\\n",
       "gc_cat_label                                                           \n",
       "0-No GC                               93.3    92.5      93.3    93.0   \n",
       "1-Septicemia                           0.0     1.2       0.0     0.9   \n",
       "2-Heart failure                        0.8     1.6       2.9     1.5   \n",
       "3-Ill-defined cancer                   0.0     1.3       1.0     1.0   \n",
       "4-Volume depletion                     0.0     0.2       0.0     0.1   \n",
       "5-Ill-defined                          5.0     1.1       0.0     2.1   \n",
       "6-Ill-defined cardiovascular           0.8     1.9       2.9     1.3   \n",
       "8-Undetermined intent                  0.0     0.1       0.0     0.1   \n",
       "9-Ill-defined infectious               0.0     0.0       0.0     0.0   \n",
       "\n",
       "dcounty                       SKAMANIA  SNOHOMISH  SPOKANE  STEVENS  THURSTON  \\\n",
       "gc_cat_label                                                                    \n",
       "0-No GC                           93.9       92.9     92.9     90.3      92.5   \n",
       "1-Septicemia                       0.0        0.7      1.3      3.6       1.4   \n",
       "2-Heart failure                    0.0        1.5      1.0      1.3       1.5   \n",
       "3-Ill-defined cancer               1.5        1.5      0.8      0.6       0.9   \n",
       "4-Volume depletion                 0.0        0.3      0.2      0.6       0.2   \n",
       "5-Ill-defined                      1.5        1.0      2.1      2.6       1.8   \n",
       "6-Ill-defined cardiovascular       3.0        2.0      1.6      1.0       1.7   \n",
       "8-Undetermined intent              0.0        0.1      0.1      0.0       0.1   \n",
       "9-Ill-defined infectious           0.0        0.0      0.0      0.0       0.0   \n",
       "\n",
       "dcounty                       WAHKIAKUM  WALLA WALLA  WHATCOM  WHITMAN  YAKIMA  \n",
       "gc_cat_label                                                                    \n",
       "0-No GC                            82.4         91.9     92.7     95.7    91.2  \n",
       "1-Septicemia                        0.0          0.9      1.2      0.0     0.9  \n",
       "2-Heart failure                     0.0          0.5      1.3      0.9     0.6  \n",
       "3-Ill-defined cancer                5.9          0.9      1.1      0.9     1.7  \n",
       "4-Volume depletion                  0.0          0.4      0.1      0.0     0.3  \n",
       "5-Ill-defined                      11.8          2.0      1.4      2.1     2.6  \n",
       "6-Ill-defined cardiovascular        0.0          3.4      2.2      0.0     2.8  \n",
       "8-Undetermined intent               0.0          0.0      0.1      0.0     0.0  \n",
       "9-Ill-defined infectious            0.0          0.0      0.0      0.4     0.0  "
      ]
     },
     "execution_count": 99,
     "metadata": {},
     "output_type": "execute_result"
    }
   ],
   "source": [
    "pd.crosstab(d19s['gc_cat_label'], d19s['dcounty'], normalize='columns').round(3)*100"
   ]
  },
  {
   "cell_type": "code",
   "execution_count": 28,
   "metadata": {},
   "outputs": [],
   "source": [
    "d19s.to_csv('Y:\\DQSS\\Death\\MBG\\py\\capstone2\\data\\d19s.csv')"
   ]
  },
  {
   "cell_type": "markdown",
   "metadata": {},
   "source": [
    "**Clean text fields** including:\n",
    "\n",
    "- stripping punctuation\n",
    "- standardizing case\n",
    "- removing stop words (including custom stopwords)\n",
    "- stemming\n",
    "- tokenizing"
   ]
  },
  {
   "cell_type": "code",
   "execution_count": 29,
   "metadata": {},
   "outputs": [],
   "source": [
    "from nltk.tokenize import word_tokenize\n",
    "from nltk.tokenize import RegexpTokenizer\n",
    "from collections import Counter\n",
    "from nltk.corpus import stopwords\n",
    "from nltk.stem import WordNetLemmatizer\n",
    "from nltk.stem import PorterStemmer\n",
    "from nltk.util import ngrams\n",
    "import re\n",
    "\n",
    "#nltk.download('punkt')\n",
    "#nltk.download('stopwords')\n",
    "#nltk.download('wordnet')"
   ]
  },
  {
   "cell_type": "code",
   "execution_count": null,
   "metadata": {},
   "outputs": [],
   "source": [
    "#d19s = pd.read_csv('Y:\\DQSS\\Death\\MBG\\py\\capstone2\\data\\d19s.csv', low_memory=False)"
   ]
  },
  {
   "cell_type": "code",
   "execution_count": 30,
   "metadata": {},
   "outputs": [
    {
     "data": {
      "text/plain": [
       "0                             ALZHEIMER'S DEMENTIA    \n",
       "5    ACUTE METHAMPHETAMINE INTOXICATION    TOXIC US...\n",
       "6    RESPIRATORY FAILURE SEPSIS AND PNEUMONIA STATU...\n",
       "7    EMBOLIC STROKE HYPERCOAGULABLE STATE  MANTLE C...\n",
       "8    CARDIOPULMONARY ARREST HYDROCEPHALUS AND STATU...\n",
       "Name: codlit, dtype: object"
      ]
     },
     "execution_count": 30,
     "metadata": {},
     "output_type": "execute_result"
    }
   ],
   "source": [
    "d19s.codlit.head()"
   ]
  },
  {
   "cell_type": "markdown",
   "metadata": {},
   "source": [
    "<br>"
   ]
  },
  {
   "cell_type": "markdown",
   "metadata": {},
   "source": [
    "**Restrict data set** to records with garbage code as underlying cause code and keep only garbage code category ('gc_cat') and cause of death text ('codlit').\n",
    "<br>\n"
   ]
  },
  {
   "cell_type": "code",
   "execution_count": 31,
   "metadata": {},
   "outputs": [],
   "source": [
    "cod_txt = d19s.loc[d19s['gc_cat'] > 0,['gc_cat', 'gc_cat_label','codlit']]"
   ]
  },
  {
   "cell_type": "code",
   "execution_count": 32,
   "metadata": {},
   "outputs": [
    {
     "name": "stdout",
     "output_type": "stream",
     "text": [
      "<class 'pandas.core.frame.DataFrame'>\n",
      "Int64Index: 4086 entries, 14 to 59678\n",
      "Data columns (total 3 columns):\n",
      " #   Column        Non-Null Count  Dtype \n",
      "---  ------        --------------  ----- \n",
      " 0   gc_cat        4086 non-null   int32 \n",
      " 1   gc_cat_label  4086 non-null   object\n",
      " 2   codlit        4086 non-null   object\n",
      "dtypes: int32(1), object(2)\n",
      "memory usage: 111.7+ KB\n"
     ]
    }
   ],
   "source": [
    "cod_txt.info()"
   ]
  },
  {
   "cell_type": "code",
   "execution_count": 33,
   "metadata": {},
   "outputs": [],
   "source": [
    "stop_words = set(stopwords.words('english'))\n",
    "word_lem = WordNetLemmatizer()\n",
    "porter = PorterStemmer()"
   ]
  },
  {
   "cell_type": "code",
   "execution_count": 34,
   "metadata": {},
   "outputs": [],
   "source": [
    "def preproc(data):\n",
    "    cod_tokens = []\n",
    "    for cod in data:\n",
    "        cod_lwr = cod.lower()\n",
    "        cod_words = word_tokenize(cod_lwr)\n",
    "        #cod_alpha = [re.sub('[^a-zA-Z]', '', w) for w in cod_words]\n",
    "        cod_alpha = [w for w in cod_words if w.isalpha()]\n",
    "        cod_nostop = [w for w in cod_alpha if not w in stop_words]\n",
    "        cod_stems = [porter.stem(w) for w in cod_nostop]\n",
    "        cod_tokens.append(cod_stems)\n",
    "    return cod_tokens"
   ]
  },
  {
   "cell_type": "code",
   "execution_count": 35,
   "metadata": {},
   "outputs": [],
   "source": [
    "cod_txt['preprocd'] = preproc(cod_txt['codlit'])"
   ]
  },
  {
   "cell_type": "code",
   "execution_count": 36,
   "metadata": {},
   "outputs": [
    {
     "data": {
      "text/plain": [
       "gc_cat           int32\n",
       "gc_cat_label    object\n",
       "codlit          object\n",
       "preprocd        object\n",
       "dtype: object"
      ]
     },
     "execution_count": 36,
     "metadata": {},
     "output_type": "execute_result"
    }
   ],
   "source": [
    "cod_txt.dtypes"
   ]
  },
  {
   "cell_type": "code",
   "execution_count": 37,
   "metadata": {},
   "outputs": [
    {
     "data": {
      "text/html": [
       "<div>\n",
       "<style scoped>\n",
       "    .dataframe tbody tr th:only-of-type {\n",
       "        vertical-align: middle;\n",
       "    }\n",
       "\n",
       "    .dataframe tbody tr th {\n",
       "        vertical-align: top;\n",
       "    }\n",
       "\n",
       "    .dataframe thead th {\n",
       "        text-align: right;\n",
       "    }\n",
       "</style>\n",
       "<table border=\"1\" class=\"dataframe\">\n",
       "  <thead>\n",
       "    <tr style=\"text-align: right;\">\n",
       "      <th></th>\n",
       "      <th>gc_cat</th>\n",
       "      <th>gc_cat_label</th>\n",
       "      <th>codlit</th>\n",
       "      <th>preprocd</th>\n",
       "    </tr>\n",
       "  </thead>\n",
       "  <tbody>\n",
       "    <tr>\n",
       "      <th>14</th>\n",
       "      <td>4</td>\n",
       "      <td>4-Volume depletion</td>\n",
       "      <td>HYPERNATREMIA SEVERE DYSPHAGIA  DIABETES, ALZH...</td>\n",
       "      <td>[hypernatremia, sever, dysphagia, diabet, alzh...</td>\n",
       "    </tr>\n",
       "    <tr>\n",
       "      <th>40</th>\n",
       "      <td>6</td>\n",
       "      <td>6-Ill-defined cardiovascular</td>\n",
       "      <td>VASCULAR DEMENTIA ESSENTIAL HYPERTENSION</td>\n",
       "      <td>[vascular, dementia, essenti, hypertens]</td>\n",
       "    </tr>\n",
       "    <tr>\n",
       "      <th>92</th>\n",
       "      <td>3</td>\n",
       "      <td>3-Ill-defined cancer</td>\n",
       "      <td>UPPER GASTROINTESTINAL BLEED TRACHEAL MASS</td>\n",
       "      <td>[upper, gastrointestin, bleed, tracheal, mass]</td>\n",
       "    </tr>\n",
       "    <tr>\n",
       "      <th>104</th>\n",
       "      <td>2</td>\n",
       "      <td>2-Heart failure</td>\n",
       "      <td>ACUTE CARDIOPULMONARY ARREST MULTI ORGAN FAILU...</td>\n",
       "      <td>[acut, cardiopulmonari, arrest, multi, organ, ...</td>\n",
       "    </tr>\n",
       "    <tr>\n",
       "      <th>112</th>\n",
       "      <td>6</td>\n",
       "      <td>6-Ill-defined cardiovascular</td>\n",
       "      <td>PULMONARY EMBOLISM</td>\n",
       "      <td>[pulmonari, embol]</td>\n",
       "    </tr>\n",
       "  </tbody>\n",
       "</table>\n",
       "</div>"
      ],
      "text/plain": [
       "     gc_cat                  gc_cat_label  \\\n",
       "14        4            4-Volume depletion   \n",
       "40        6  6-Ill-defined cardiovascular   \n",
       "92        3          3-Ill-defined cancer   \n",
       "104       2               2-Heart failure   \n",
       "112       6  6-Ill-defined cardiovascular   \n",
       "\n",
       "                                                codlit  \\\n",
       "14   HYPERNATREMIA SEVERE DYSPHAGIA  DIABETES, ALZH...   \n",
       "40         VASCULAR DEMENTIA ESSENTIAL HYPERTENSION      \n",
       "92       UPPER GASTROINTESTINAL BLEED TRACHEAL MASS      \n",
       "104  ACUTE CARDIOPULMONARY ARREST MULTI ORGAN FAILU...   \n",
       "112                             PULMONARY EMBOLISM       \n",
       "\n",
       "                                              preprocd  \n",
       "14   [hypernatremia, sever, dysphagia, diabet, alzh...  \n",
       "40            [vascular, dementia, essenti, hypertens]  \n",
       "92      [upper, gastrointestin, bleed, tracheal, mass]  \n",
       "104  [acut, cardiopulmonari, arrest, multi, organ, ...  \n",
       "112                                 [pulmonari, embol]  "
      ]
     },
     "execution_count": 37,
     "metadata": {},
     "output_type": "execute_result"
    }
   ],
   "source": [
    "cod_txt.head()"
   ]
  },
  {
   "cell_type": "code",
   "execution_count": 38,
   "metadata": {},
   "outputs": [
    {
     "data": {
      "text/plain": [
       "[['hypernatremia', 'sever', 'dysphagia', 'diabet', 'alzheim', 'dementia'],\n",
       " ['vascular', 'dementia', 'essenti', 'hypertens'],\n",
       " ['upper', 'gastrointestin', 'bleed', 'tracheal', 'mass'],\n",
       " ['acut',\n",
       "  'cardiopulmonari',\n",
       "  'arrest',\n",
       "  'multi',\n",
       "  'organ',\n",
       "  'failur',\n",
       "  'shockacut',\n",
       "  'hypox',\n",
       "  'respiratori',\n",
       "  'failur',\n",
       "  'acut',\n",
       "  'congest',\n",
       "  'heart',\n",
       "  'failur',\n",
       "  'pneumonia',\n",
       "  'abdomin',\n",
       "  'pain',\n",
       "  'suspect',\n",
       "  'ischem',\n",
       "  'bowel',\n",
       "  'versu',\n",
       "  'perfor'],\n",
       " ['pulmonari', 'embol']]"
      ]
     },
     "execution_count": 38,
     "metadata": {},
     "output_type": "execute_result"
    }
   ],
   "source": [
    "wordlist = cod_txt['preprocd'].tolist()\n",
    "wordlist[0:5]"
   ]
  },
  {
   "cell_type": "code",
   "execution_count": 39,
   "metadata": {},
   "outputs": [
    {
     "data": {
      "text/plain": [
       "['hypernatremia',\n",
       " 'sever',\n",
       " 'dysphagia',\n",
       " 'diabet',\n",
       " 'alzheim',\n",
       " 'dementia',\n",
       " 'vascular',\n",
       " 'dementia',\n",
       " 'essenti',\n",
       " 'hypertens',\n",
       " 'upper',\n",
       " 'gastrointestin',\n",
       " 'bleed',\n",
       " 'tracheal',\n",
       " 'mass',\n",
       " 'acut',\n",
       " 'cardiopulmonari',\n",
       " 'arrest',\n",
       " 'multi',\n",
       " 'organ',\n",
       " 'failur',\n",
       " 'shockacut',\n",
       " 'hypox',\n",
       " 'respiratori',\n",
       " 'failur',\n",
       " 'acut',\n",
       " 'congest',\n",
       " 'heart',\n",
       " 'failur',\n",
       " 'pneumonia',\n",
       " 'abdomin',\n",
       " 'pain',\n",
       " 'suspect',\n",
       " 'ischem',\n",
       " 'bowel',\n",
       " 'versu',\n",
       " 'perfor',\n",
       " 'pulmonari',\n",
       " 'embol',\n",
       " 'multipl']"
      ]
     },
     "execution_count": 39,
     "metadata": {},
     "output_type": "execute_result"
    }
   ],
   "source": [
    "wordlist = [a for b in cod_txt['preprocd'] for a in b]\n",
    "wordlist[0:40]"
   ]
  },
  {
   "cell_type": "code",
   "execution_count": 40,
   "metadata": {},
   "outputs": [
    {
     "name": "stdout",
     "output_type": "stream",
     "text": [
      "[('failur', 2014), ('acut', 1129), ('heart', 1013), ('chronic', 842), ('diseas', 828), ('arrest', 703), ('respiratori', 672), ('cardiac', 607), ('hypertens', 601), ('congest', 567), ('pulmonari', 495), ('unknown', 493), ('shock', 431), ('caus', 386), ('metastat', 365), ('natur', 342), ('cancer', 341), ('sepsi', 311), ('fibril', 290), ('septic', 288)]\n"
     ]
    }
   ],
   "source": [
    "bow_all = Counter(wordlist)\n",
    "print(bow_all.most_common(20))"
   ]
  },
  {
   "cell_type": "code",
   "execution_count": null,
   "metadata": {},
   "outputs": [],
   "source": []
  },
  {
   "cell_type": "code",
   "execution_count": null,
   "metadata": {},
   "outputs": [],
   "source": []
  },
  {
   "cell_type": "markdown",
   "metadata": {},
   "source": [
    "**Create bag of words for each garbage code category from 1 through 8**"
   ]
  },
  {
   "cell_type": "code",
   "execution_count": 44,
   "metadata": {},
   "outputs": [
    {
     "name": "stdout",
     "output_type": "stream",
     "text": [
      "** GC category: 1-Septicemia **\n",
      "[('failur', 383), ('acut', 307), ('shock', 267), ('sepsi', 255), ('septic', 242), ('respiratori', 175), ('diseas', 121), ('chronic', 120), ('pneumonia', 118), ('sever', 110), ('arrest', 88), ('renal', 85), ('kidney', 84), ('bacteremia', 83), ('heart', 79), ('infect', 70), ('atrial', 57), ('fibril', 56), ('injuri', 56), ('due', 56), ('organ', 54), ('pulmonari', 53), ('unknown', 51), ('cardiac', 49), ('diabet', 46), ('hypox', 46), ('dementia', 45), ('encephalopathi', 41), ('congest', 41), ('aureu', 38)]\n",
      "** GC category: 2-Heart failure **\n",
      "[('failur', 949), ('heart', 712), ('congest', 421), ('chronic', 373), ('acut', 333), ('respiratori', 197), ('diseas', 170), ('diastol', 159), ('systol', 150), ('arrest', 122), ('pulmonari', 107), ('cardiac', 89), ('kidney', 82), ('obstruct', 74), ('renal', 67), ('hypox', 54), ('pneumonia', 52), ('hypertens', 50), ('dementia', 48), ('stage', 48), ('diabet', 46), ('unspecifi', 42), ('shock', 40), ('atrial', 39), ('fibril', 37), ('cardiopulmonari', 32), ('end', 32), ('combin', 32), ('caus', 30), ('cardiogen', 29)]\n",
      "** GC category: 3-Ill-defined cancer **\n",
      "[('metastat', 342), ('cancer', 278), ('unknown', 222), ('failur', 209), ('primari', 202), ('diseas', 137), ('carcinoma', 125), ('acut', 110), ('malign', 101), ('respiratori', 97), ('pulmonari', 95), ('liver', 84), ('chronic', 84), ('adenocarcinoma', 79), ('lung', 78), ('cell', 69), ('obstruct', 67), ('arrest', 51), ('urotheli', 50), ('hypertens', 47), ('mass', 42), ('origin', 42), ('bone', 42), ('renal', 38), ('metastas', 38), ('atrial', 38), ('metastasi', 36), ('neoplasm', 36), ('tumor', 35), ('diabet', 35)]\n",
      "** GC category: 4-Volume depletion **\n",
      "[('acut', 71), ('failur', 67), ('chronic', 41), ('diseas', 38), ('arrest', 34), ('metabol', 33), ('respiratori', 30), ('cardiac', 29), ('dehydr', 28), ('acidosi', 26), ('shock', 25), ('renal', 24), ('sever', 23), ('kidney', 22), ('heart', 18), ('pulmonari', 17), ('hypertens', 15), ('fibril', 15), ('etiolog', 15), ('encephalopathi', 14), ('hypernatremia', 13), ('diabet', 13), ('dementia', 13), ('obstruct', 13), ('atrial', 12), ('hyponatremia', 12), ('congest', 12), ('hyperkalemia', 11), ('cardiopulmonari', 10), ('disord', 10)]\n",
      "** GC category: 5-Ill-defined **\n",
      "[('caus', 254), ('natur', 232), ('arrest', 158), ('failur', 122), ('unknown', 120), ('cardiac', 114), ('acut', 105), ('death', 100), ('unspecifi', 93), ('pend', 92), ('drug', 73), ('intox', 69), ('methamphetamin', 63), ('respiratori', 61), ('use', 61), ('diseas', 58), ('toxic', 58), ('sudden', 55), ('thrive', 50), ('chronic', 50), ('undetermin', 49), ('cardiopulmonari', 42), ('fentanyl', 38), ('probabl', 37), ('combin', 37), ('heroin', 36), ('age', 31), ('adult', 31), ('due', 29), ('toxicolog', 28)]\n",
      "** GC category: 6-Ill-defined cardiovascular **\n",
      "[('hypertens', 421), ('cardiac', 299), ('diseas', 298), ('failur', 269), ('arrest', 247), ('pulmonari', 201), ('chronic', 165), ('acut', 161), ('fibril', 144), ('heart', 138), ('vascular', 128), ('dementia', 117), ('atrial', 114), ('respiratori', 107), ('embol', 97), ('diabet', 93), ('probabl', 92), ('arrhythmia', 91), ('caus', 79), ('cardiovascular', 77), ('obstruct', 75), ('ventricular', 69), ('natur', 69), ('cardiopulmonari', 68), ('atherosclerosi', 65), ('congest', 65), ('hyperlipidemia', 61), ('renal', 55), ('type', 52), ('shock', 52)]\n",
      "** GC category: 7-Ill-defined injury **\n",
      "[]\n",
      "** GC category: 8-Undetermined intent **\n",
      "[('acut', 37), ('injuri', 34), ('drug', 29), ('intox', 27), ('blunt', 26), ('drown', 22), ('forc', 22), ('head', 21), ('multipl', 17), ('found', 17), ('unknown', 15), ('methamphetamin', 14), ('toxic', 14), ('circumst', 13), ('abus', 12), ('asphyxia', 11), ('ethanol', 11), ('water', 10), ('uncertain', 10), ('heroin', 9), ('use', 9), ('hypertens', 8), ('probabl', 8), ('failur', 8), ('fractur', 7), ('combin', 7), ('diseas', 6), ('chronic', 6), ('hemorrhag', 5), ('torso', 5)]\n"
     ]
    }
   ],
   "source": [
    " for i in range(1, 9):\n",
    "    cat_tokens = cod_txt.loc[cod_txt['gc_cat']== i, ['preprocd']]\n",
    "    gcwordlist = cat_tokens['preprocd'].tolist()\n",
    "    gcwordlist = [a for b in gcwordlist for a in b]\n",
    "    print('** GC category: ' + gc_label_dict.get(i) + ' **')\n",
    "    bow_simple = Counter(gcwordlist)\n",
    "    print(bow_simple.most_common(30))\n",
    "    "
   ]
  },
  {
   "cell_type": "code",
   "execution_count": null,
   "metadata": {},
   "outputs": [],
   "source": []
  },
  {
   "cell_type": "markdown",
   "metadata": {},
   "source": [
    "**CREATE TRIGRAMS AND RE-DO BAG OF WORDS**"
   ]
  },
  {
   "cell_type": "code",
   "execution_count": 45,
   "metadata": {},
   "outputs": [],
   "source": [
    "def getNgrams(listofwords, n):\n",
    "    ngrams = []\n",
    "    for i in range(len(listofwords)-(n-1)):\n",
    "        ngrams.append(listofwords[i:i+n])\n",
    "    return ngrams    "
   ]
  },
  {
   "cell_type": "code",
   "execution_count": 46,
   "metadata": {},
   "outputs": [],
   "source": [
    "cod_trigrams = getNgrams(wordlist, 3)"
   ]
  },
  {
   "cell_type": "code",
   "execution_count": 47,
   "metadata": {},
   "outputs": [
    {
     "data": {
      "text/plain": [
       "[['hypernatremia', 'sever', 'dysphagia'],\n",
       " ['sever', 'dysphagia', 'diabet'],\n",
       " ['dysphagia', 'diabet', 'alzheim'],\n",
       " ['diabet', 'alzheim', 'dementia'],\n",
       " ['alzheim', 'dementia', 'vascular'],\n",
       " ['dementia', 'vascular', 'dementia'],\n",
       " ['vascular', 'dementia', 'essenti'],\n",
       " ['dementia', 'essenti', 'hypertens'],\n",
       " ['essenti', 'hypertens', 'upper'],\n",
       " ['hypertens', 'upper', 'gastrointestin']]"
      ]
     },
     "execution_count": 47,
     "metadata": {},
     "output_type": "execute_result"
    }
   ],
   "source": [
    "cod_trigrams[0:10]"
   ]
  },
  {
   "cell_type": "code",
   "execution_count": 48,
   "metadata": {},
   "outputs": [],
   "source": [
    "cod_trigrams = [' '.join(x) for x in getNgrams(wordlist, 3)]"
   ]
  },
  {
   "cell_type": "code",
   "execution_count": 49,
   "metadata": {},
   "outputs": [
    {
     "data": {
      "text/plain": [
       "['hypernatremia sever dysphagia',\n",
       " 'sever dysphagia diabet',\n",
       " 'dysphagia diabet alzheim',\n",
       " 'diabet alzheim dementia',\n",
       " 'alzheim dementia vascular',\n",
       " 'dementia vascular dementia',\n",
       " 'vascular dementia essenti',\n",
       " 'dementia essenti hypertens',\n",
       " 'essenti hypertens upper',\n",
       " 'hypertens upper gastrointestin']"
      ]
     },
     "execution_count": 49,
     "metadata": {},
     "output_type": "execute_result"
    }
   ],
   "source": [
    "cod_trigrams[0:10]"
   ]
  },
  {
   "cell_type": "code",
   "execution_count": 50,
   "metadata": {},
   "outputs": [],
   "source": [
    "bow_tri=Counter(cod_trigrams)"
   ]
  },
  {
   "cell_type": "code",
   "execution_count": 51,
   "metadata": {},
   "outputs": [
    {
     "name": "stdout",
     "output_type": "stream",
     "text": [
      "[('congest heart failur', 536), ('chronic obstruct pulmonari', 186), ('obstruct pulmonari diseas', 183), ('acut respiratori failur', 164), ('unspecifi natur caus', 147), ('chronic kidney diseas', 133), ('hypox respiratori failur', 132), ('acut renal failur', 105), ('diastol heart failur', 93), ('acut kidney injuri', 90), ('diastol congest heart', 89), ('acut hypox respiratori', 86), ('systol heart failur', 85), ('heart failur acut', 82), ('heart failur chronic', 82), ('cancer unknown primari', 70), ('respiratori failur acut', 68), ('coronari arteri diseas', 66), ('systol congest heart', 62), ('unknown natur caus', 57), ('metastat cancer unknown', 56), ('hypoxem respiratori failur', 53), ('failur congest heart', 53), ('end stage renal', 51), ('failur chronic obstruct', 50), ('cardiac arrest hypertens', 49), ('chronic systol heart', 49), ('stage renal diseas', 47), ('urinari tract infect', 47), ('failur acut chronic', 46)]\n"
     ]
    }
   ],
   "source": [
    "print(bow_tri.most_common(30))"
   ]
  },
  {
   "cell_type": "code",
   "execution_count": 102,
   "metadata": {},
   "outputs": [
    {
     "data": {
      "image/png": "[encoded data removed]",
      "text/plain": [
       "<Figure size 432x288 with 1 Axes>"
      ]
     },
     "metadata": {
      "needs_background": "light"
     },
     "output_type": "display_data"
    }
   ],
   "source": [
    "bow20 = bow_all.most_common(20)\n",
    "bow20df=pd.DataFrame(bow20, columns=['Word', 'Count'])\n",
    "plt.bar(bow20df['Word'], bow20df['Count'])\n",
    "plt.xticks(rotation=45, ha='right')\n",
    "plt.show()"
   ]
  },
  {
   "cell_type": "markdown",
   "metadata": {},
   "source": [
    "**BY GC CATEGORY**"
   ]
  },
  {
   "cell_type": "code",
   "execution_count": 101,
   "metadata": {},
   "outputs": [
    {
     "name": "stdout",
     "output_type": "stream",
     "text": [
      "** GC category: 1-Septicemia **\n",
      "[('acut kidney injuri', 46), ('acut respiratori failur', 42), ('failur septic shock', 40), ('hypox respiratori failur', 40), ('congest heart failur', 39), ('acut renal failur', 38), ('acut hypox respiratori', 26), ('chronic obstruct pulmonari', 26), ('obstruct pulmonari diseas', 25), ('hypoxem respiratori failur', 23), ('chronic kidney diseas', 23), ('urinari tract infect', 23), ('coronari arteri diseas', 22), ('end stage renal', 20), ('septic shock acut', 19), ('stage renal diseas', 18), ('acut hypoxem respiratori', 18), ('respiratori failur pneumonia', 18), ('pneumonia septic shock', 17), ('respiratori distress syndrom', 15), ('arrest septic shock', 15), ('septic shock unknown', 15), ('respiratori failur sepsi', 15), ('respiratori failur acut', 13), ('acut respiratori distress', 13), ('kidney injuri acut', 12), ('cardiac arrest septic', 12), ('organ failur septic', 12), ('sepsi septic shock', 12), ('methicillin resist staphylococc', 12)]\n"
     ]
    },
    {
     "data": {
      "image/png": "[encoded data removed]",
      "text/plain": [
       "<Figure size 432x288 with 1 Axes>"
      ]
     },
     "metadata": {
      "needs_background": "light"
     },
     "output_type": "display_data"
    },
    {
     "name": "stdout",
     "output_type": "stream",
     "text": [
      "** GC category: 2-Heart failure **\n",
      "[('congest heart failur', 400), ('heart failur acut', 88), ('heart failur chronic', 83), ('failur congest heart', 80), ('diastol heart failur', 71), ('diastol congest heart', 71), ('systol heart failur', 67), ('chronic obstruct pulmonari', 64), ('obstruct pulmonari diseas', 64), ('chronic kidney diseas', 55), ('acut respiratori failur', 53), ('heart failur congest', 51), ('failur acut chronic', 50), ('systol congest heart', 47), ('hypox respiratori failur', 46), ('chronic systol heart', 42), ('respiratori failur acut', 41), ('acut chronic systol', 35), ('failur chronic obstruct', 35), ('acut hypox respiratori', 33), ('chronic diastol congest', 31), ('arrest congest heart', 30), ('respiratori failur congest', 28), ('acut chronic diastol', 28), ('chronic diastol heart', 28), ('heart failur unspecifi', 25), ('failur cardiac arrest', 23), ('failur heart failur', 22), ('heart failur cardiac', 21), ('chronic heart failur', 20)]\n"
     ]
    },
    {
     "data": {
      "image/png": "[encoded data removed]",
      "text/plain": [
       "<Figure size 432x288 with 1 Axes>"
      ]
     },
     "metadata": {
      "needs_background": "light"
     },
     "output_type": "display_data"
    },
    {
     "name": "stdout",
     "output_type": "stream",
     "text": [
      "** GC category: 3-Ill-defined cancer **\n",
      "[('cancer unknown primari', 70), ('metastat cancer unknown', 56), ('obstruct pulmonari diseas', 36), ('chronic obstruct pulmonari', 35), ('adenocarcinoma unknown primari', 35), ('unknown primari metastat', 31), ('coronari arteri diseas', 27), ('squamou cell carcinoma', 26), ('acut respiratori failur', 24), ('metastat adenocarcinoma unknown', 21), ('hypox respiratori failur', 20), ('carcinoma unknown primari', 20), ('congest heart failur', 17), ('cancer unknown origin', 17), ('acut renal failur', 15), ('malign unknown primari', 14), ('chronic kidney diseas', 13), ('respiratori failur metastat', 13), ('metastat cancer metastat', 12), ('unknown primari site', 12), ('metastat urotheli carcinoma', 11), ('protein calori malnutrit', 11), ('hypoxem respiratori failur', 11), ('unknown primari acut', 10), ('metastat squamou cell', 10), ('failur metastat cancer', 10), ('cancer metastat cancer', 9), ('secondari malign neoplasm', 9), ('acut hypox respiratori', 9), ('primari metastat cancer', 9)]\n"
     ]
    },
    {
     "data": {
      "image/png": "[encoded data removed]",
      "text/plain": [
       "<Figure size 432x288 with 1 Axes>"
      ]
     },
     "metadata": {
      "needs_background": "light"
     },
     "output_type": "display_data"
    },
    {
     "name": "stdout",
     "output_type": "stream",
     "text": [
      "** GC category: 4-Volume depletion **\n",
      "[('acut renal failur', 13), ('chronic kidney diseas', 11), ('congest heart failur', 11), ('acut respiratori failur', 8), ('acut kidney injuri', 8), ('coronari arteri diseas', 7), ('chronic obstruct pulmonari', 7), ('hypox respiratori failur', 6), ('renal failur dehydr', 6), ('obstruct pulmonari diseas', 6), ('acut hypox respiratori', 5), ('sever metabol acidosi', 5), ('atrial fibril rapid', 5), ('fibril rapid ventricular', 5), ('acut metabol encephalopathi', 5), ('cardiac arrest etiolog', 4), ('arrest etiolog unknown', 4), ('pulseless electr activ', 4), ('rapid ventricular respons', 4), ('heart failur acut', 4), ('chronic systol congest', 3), ('systol congest heart', 3), ('diseas diabet mellitu', 3), ('respiratori failur hypoxia', 3), ('failur congest heart', 3), ('respiratori failur acut', 3), ('failur acut renal', 3), ('dehydr inanit senesc', 3), ('kidney injuri chronic', 3), ('injuri chronic kidney', 3)]\n"
     ]
    },
    {
     "data": {
      "image/png": "[encoded data removed]",
      "text/plain": [
       "<Figure size 432x288 with 1 Axes>"
      ]
     },
     "metadata": {
      "needs_background": "light"
     },
     "output_type": "display_data"
    },
    {
     "name": "stdout",
     "output_type": "stream",
     "text": [
      "** GC category: 5-Ill-defined **\n",
      "[('unspecifi natur caus', 86), ('unknown natur caus', 46), ('toxic use drug', 28), ('undetermin natur caus', 27), ('caus unspecifi natur', 25), ('natur caus unspecifi', 25), ('natur caus pend', 20), ('natur caus unknown', 20), ('natur caus otherwis', 19), ('caus otherwis specifi', 19), ('natur caus natur', 16), ('caus natur caus', 15), ('arrest unspecifi natur', 14), ('use drug acut', 14), ('caus cardiac arrest', 13), ('acut respiratori failur', 13), ('sudden unexplain death', 13), ('adult failur thrive', 12), ('natur caus sudden', 12), ('sudden unexplain infant', 12), ('unexplain infant death', 12), ('natur caus cardiac', 11), ('global geriatr declin', 11), ('intox toxic use', 11), ('anatom toxicolog caus', 10), ('toxicolog caus death', 10), ('hypertens cardiovascular diseas', 10), ('pend pend pend', 9), ('sudden cardiac death', 9), ('natur caus cardiopulmonari', 9)]\n"
     ]
    },
    {
     "data": {
      "image/png": "[encoded data removed]",
      "text/plain": [
       "<Figure size 432x288 with 1 Axes>"
      ]
     },
     "metadata": {
      "needs_background": "light"
     },
     "output_type": "display_data"
    },
    {
     "name": "stdout",
     "output_type": "stream",
     "text": [
      "** GC category: 6-Ill-defined cardiovascular **\n",
      "[('congest heart failur', 62), ('chronic obstruct pulmonari', 50), ('cardiac arrest hypertens', 49), ('obstruct pulmonari diseas', 48), ('natur caus hypertens', 37), ('probabl cardiac arrhythmia', 36), ('unspecifi natur caus', 33), ('chronic kidney diseas', 29), ('vascular dementia hypertens', 26), ('acut respiratori failur', 24), ('anox brain injuri', 21), ('acut renal failur', 20), ('peripher vascular diseas', 20), ('idiopath cardiopulmonari arrest', 19), ('hypertens atrial fibril', 17), ('atrial fibril hypertens', 17), ('hypox respiratori failur', 16), ('cardiopulmonari arrest hypertens', 16), ('hypertens cardiac arrest', 16), ('atherosclerot vascular diseas', 15), ('arrest probabl cardiac', 15), ('vascular diseas hypertens', 14), ('cardiopulmonari arrest probabl', 14), ('sudden cardiac death', 13), ('acut kidney injuri', 12), ('abdomin aortic aneurysm', 12), ('cardiac arrhythmia hypertens', 11), ('failur pulmonari embol', 11), ('acut hypox respiratori', 10), ('urinari tract infect', 10)]\n"
     ]
    },
    {
     "data": {
      "image/png": "[encoded data removed]",
      "text/plain": [
       "<Figure size 432x288 with 1 Axes>"
      ]
     },
     "metadata": {
      "needs_background": "light"
     },
     "output_type": "display_data"
    },
    {
     "name": "stdout",
     "output_type": "stream",
     "text": [
      "** GC category: 7-Ill-defined injury **\n",
      "[]\n"
     ]
    },
    {
     "data": {
      "image/png": "[encoded data removed]",
      "text/plain": [
       "<Figure size 432x288 with 1 Axes>"
      ]
     },
     "metadata": {
      "needs_background": "light"
     },
     "output_type": "display_data"
    },
    {
     "name": "stdout",
     "output_type": "stream",
     "text": [
      "** GC category: 8-Undetermined intent **\n",
      "[('blunt forc injuri', 20), ('multipl blunt forc', 11), ('forc injuri head', 9), ('acut drug intox', 6), ('intox toxic use', 5), ('toxic use drug', 5), ('fresh water drown', 4), ('salt water drown', 3), ('intox abus drug', 3), ('drug unknown intent', 3), ('uncertain circumst acut', 3), ('acut ethanol intox', 3), ('drown multipl blunt', 3), ('use drug acut', 3), ('drug intox heroin', 3), ('drown blunt forc', 2), ('drug acut combin', 2), ('ethanol intox toxic', 2), ('use drug unknown', 2), ('forc injuri descend', 2), ('impact injuri head', 2), ('head trunk extrem', 2), ('acut subdur hematoma', 2), ('inhal toxic combust', 2), ('toxic combust materi', 2), ('probabl fresh water', 2), ('appar drown multipl', 2), ('alcohol liver diseas', 2), ('intox heroin methamphetamin', 2), ('chronic ethanol abus', 2)]\n"
     ]
    },
    {
     "data": {
      "image/png": "[encoded data removed]",
      "text/plain": [
       "<Figure size 432x288 with 1 Axes>"
      ]
     },
     "metadata": {
      "needs_background": "light"
     },
     "output_type": "display_data"
    }
   ],
   "source": [
    " for i in range(1, 9):\n",
    "    cat_tokens = cod_txt.loc[cod_txt['gc_cat']== i, ['preprocd']]\n",
    "    gcwordlist = cat_tokens['preprocd'].tolist()\n",
    "    gcwordlist = [a for b in gcwordlist for a in b]\n",
    "    gccod_trigrams = [' '.join(x) for x in getNgrams(gcwordlist, 3)]\n",
    "    print('** GC category: ' + gc_label_dict.get(i) + ' **')\n",
    "    bow_gctrigrams = Counter(gccod_trigrams)\n",
    "    print(bow_gctrigrams.most_common(30))\n",
    "    bowgc10 = bow_gctrigrams.most_common(10)\n",
    "    bowgc10df = pd.DataFrame(bowgc10, columns=['Word', 'Count'])\n",
    "    plt.bar(bowgc10df['Word'], bowgc10df['Count'])\n",
    "    plt.xticks(rotation=45, ha='right')\n",
    "    plt.ylim((0, 425))\n",
    "    plt.show()"
   ]
  },
  {
   "cell_type": "code",
   "execution_count": 72,
   "metadata": {},
   "outputs": [],
   "source": []
  },
  {
   "cell_type": "markdown",
   "metadata": {},
   "source": [
    "**NEXT STEPS**\n",
    "\n",
    "- LDA by gc category to reapportion death to a more meaningful category\n",
    "\n",
    "- train classifiers\n",
    "    - naive bayes\n",
    "    - multiple logistic regression"
   ]
  },
  {
   "cell_type": "code",
   "execution_count": null,
   "metadata": {},
   "outputs": [],
   "source": []
  },
  {
   "cell_type": "code",
   "execution_count": null,
   "metadata": {},
   "outputs": [],
   "source": []
  },
  {
   "cell_type": "code",
   "execution_count": null,
   "metadata": {},
   "outputs": [],
   "source": []
  },
  {
   "cell_type": "code",
   "execution_count": null,
   "metadata": {},
   "outputs": [],
   "source": []
  },
  {
   "cell_type": "code",
   "execution_count": null,
   "metadata": {},
   "outputs": [],
   "source": []
  },
  {
   "cell_type": "code",
   "execution_count": null,
   "metadata": {},
   "outputs": [],
   "source": []
  },
  {
   "cell_type": "code",
   "execution_count": null,
   "metadata": {},
   "outputs": [],
   "source": []
  },
  {
   "cell_type": "code",
   "execution_count": null,
   "metadata": {},
   "outputs": [],
   "source": []
  },
  {
   "cell_type": "code",
   "execution_count": null,
   "metadata": {},
   "outputs": [],
   "source": []
  },
  {
   "cell_type": "code",
   "execution_count": null,
   "metadata": {},
   "outputs": [],
   "source": []
  },
  {
   "cell_type": "code",
   "execution_count": null,
   "metadata": {},
   "outputs": [],
   "source": []
  },
  {
   "cell_type": "code",
   "execution_count": null,
   "metadata": {},
   "outputs": [],
   "source": []
  },
  {
   "cell_type": "code",
   "execution_count": null,
   "metadata": {},
   "outputs": [],
   "source": [
    "\n"
   ]
  },
  {
   "cell_type": "code",
   "execution_count": null,
   "metadata": {},
   "outputs": [],
   "source": []
  },
  {
   "cell_type": "code",
   "execution_count": null,
   "metadata": {},
   "outputs": [],
   "source": []
  },
  {
   "cell_type": "code",
   "execution_count": null,
   "metadata": {},
   "outputs": [],
   "source": []
  },
  {
   "cell_type": "code",
   "execution_count": null,
   "metadata": {},
   "outputs": [],
   "source": []
  },
  {
   "cell_type": "code",
   "execution_count": null,
   "metadata": {},
   "outputs": [],
   "source": []
  },
  {
   "cell_type": "code",
   "execution_count": null,
   "metadata": {},
   "outputs": [],
   "source": []
  },
  {
   "cell_type": "code",
   "execution_count": null,
   "metadata": {},
   "outputs": [],
   "source": []
  },
  {
   "cell_type": "code",
   "execution_count": null,
   "metadata": {},
   "outputs": [],
   "source": []
  },
  {
   "cell_type": "code",
   "execution_count": null,
   "metadata": {},
   "outputs": [],
   "source": []
  },
  {
   "cell_type": "code",
   "execution_count": null,
   "metadata": {},
   "outputs": [],
   "source": []
  },
  {
   "cell_type": "code",
   "execution_count": null,
   "metadata": {},
   "outputs": [],
   "source": []
  },
  {
   "cell_type": "code",
   "execution_count": null,
   "metadata": {},
   "outputs": [],
   "source": []
  }
 ],
 "metadata": {
  "kernelspec": {
   "display_name": "Python 3",
   "language": "python",
   "name": "python3"
  },
  "language_info": {
   "codemirror_mode": {
    "name": "ipython",
    "version": 3
   },
   "file_extension": ".py",
   "mimetype": "text/x-python",
   "name": "python",
   "nbconvert_exporter": "python",
   "pygments_lexer": "ipython3",
   "version": "3.8.3"
  }
 },
 "nbformat": 4,
 "nbformat_minor": 4
}
