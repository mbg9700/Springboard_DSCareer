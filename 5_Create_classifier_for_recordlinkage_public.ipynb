{
 "cells": [
  {
   "cell_type": "markdown",
   "metadata": {},
   "source": [
    "### BUILDING BINARY CLASSIFIERS"
   ]
  },
  {
   "cell_type": "markdown",
   "metadata": {},
   "source": [
    "The training data observations are record pairs made up of infant death records registered in Washington state in 2016 and 2017 with birth records that were registered in the same year. The birth data used to create these candidate record pairs consists of the true birth records of the infants who died (i.e. true matches with the death records) as well as a random sample of an equal number of non-matching birth records. For each candidate birth-death record pair similarity scores were computed for variables the records have in common including the names of the infants, mothers, and fathers, dates of birth, sex, and county of residence.  The record pairs were also labeled with a variable called 'match' indicating whether they were matches (value = 1) or non-matches (value = 0).\n",
    "\n",
    "Using these features and labels the two binary classifiers below were created using logistic regression and random forest methods.  A comparison of the results from each classifier will provide guidance on which method to use for future linkage projects."
   ]
  },
  {
   "cell_type": "code",
   "execution_count": 1,
   "metadata": {},
   "outputs": [],
   "source": [
    "import pandas as pd\n",
    "import numpy as np\n",
    "import recordlinkage as rl\n",
    "from sklearn.model_selection import train_test_split\n",
    "from sklearn.linear_model import LogisticRegression\n",
    "from sklearn.metrics import roc_curve\n",
    "from sklearn.metrics import roc_auc_score\n",
    "from matplotlib import pyplot as plt\n",
    "from sklearn.metrics import classification_report\n",
    "from sklearn.metrics import confusion_matrix\n",
    "import seaborn as sns"
   ]
  },
  {
   "cell_type": "code",
   "execution_count": 2,
   "metadata": {},
   "outputs": [],
   "source": [
    "pd.set_option('display.max_columns', None)\n",
    "pd.set_option('display.max_rows', None)"
   ]
  },
  {
   "cell_type": "markdown",
   "metadata": {},
   "source": [
    "####  1. LOGISTIC REGRESSION CLASSIFIER"
   ]
  },
  {
   "cell_type": "code",
   "execution_count": 3,
   "metadata": {},
   "outputs": [],
   "source": [
    "comp_scores_m = pd.read_csv(r'Y:\\DQSS\\Death\\MBG\\Py\\data\\clean\\infdth_comparison_1617_labelled.csv',\n",
    "                           index_col=[0,1])\n",
    "\n",
    "df = comp_scores_m"
   ]
  },
  {
   "cell_type": "code",
   "execution_count": 5,
   "metadata": {},
   "outputs": [],
   "source": [
    "# split data to separate features (X) and labels (y)\n",
    "\n",
    "X = df[['cmp_inf_lname', 'cmp_inf_phonetic', 'cmp_dad_lname', 'cmp_mom_lname', 'cmp_rescounty', 'cmp_sex', 'cmp_mom_phonetic',\n",
    "        'cmp_dad_phonetic', 'cmp_dobm', 'cmp_doby', 'cmp_dobd']]"
   ]
  },
  {
   "cell_type": "code",
   "execution_count": 6,
   "metadata": {},
   "outputs": [
    {
     "name": "stdout",
     "output_type": "stream",
     "text": [
      "<class 'pandas.core.frame.DataFrame'>\n",
      "MultiIndex: 454323 entries, (12016000010, 52016000522) to (12017087228, 52017091113)\n",
      "Data columns (total 11 columns):\n",
      " #   Column            Non-Null Count   Dtype\n",
      "---  ------            --------------   -----\n",
      " 0   cmp_inf_lname     454323 non-null  int64\n",
      " 1   cmp_inf_phonetic  454323 non-null  int64\n",
      " 2   cmp_dad_lname     454323 non-null  int64\n",
      " 3   cmp_mom_lname     454323 non-null  int64\n",
      " 4   cmp_rescounty     454323 non-null  int64\n",
      " 5   cmp_sex           454323 non-null  int64\n",
      " 6   cmp_mom_phonetic  454323 non-null  int64\n",
      " 7   cmp_dad_phonetic  454323 non-null  int64\n",
      " 8   cmp_dobm          454323 non-null  int64\n",
      " 9   cmp_doby          454323 non-null  int64\n",
      " 10  cmp_dobd          454323 non-null  int64\n",
      "dtypes: int64(11)\n",
      "memory usage: 39.9 MB\n"
     ]
    }
   ],
   "source": [
    "X.info()"
   ]
  },
  {
   "cell_type": "code",
   "execution_count": 7,
   "metadata": {},
   "outputs": [
    {
     "name": "stdout",
     "output_type": "stream",
     "text": [
      "<class 'pandas.core.frame.DataFrame'>\n",
      "MultiIndex: 454323 entries, (12016000010, 52016000522) to (12017087228, 52017091113)\n",
      "Data columns (total 1 columns):\n",
      " #   Column  Non-Null Count   Dtype\n",
      "---  ------  --------------   -----\n",
      " 0   match   454323 non-null  int64\n",
      "dtypes: int64(1)\n",
      "memory usage: 5.2 MB\n"
     ]
    }
   ],
   "source": [
    "# data split to separate features (X) and labels (y)\n",
    "y = df[['match']]\n",
    "y.info()"
   ]
  },
  {
   "cell_type": "code",
   "execution_count": 8,
   "metadata": {},
   "outputs": [],
   "source": [
    "# split data into training and testing sets - 35% reserved for testing\n",
    "\n",
    "trainX, testX, trainy, testy = train_test_split(X, y, test_size=0.35, \n",
    "                                                random_state=7)"
   ]
  },
  {
   "cell_type": "code",
   "execution_count": 9,
   "metadata": {},
   "outputs": [
    {
     "data": {
      "text/plain": [
       "0    158801\n",
       "1       213\n",
       "Name: match, dtype: int64"
      ]
     },
     "execution_count": 9,
     "metadata": {},
     "output_type": "execute_result"
    }
   ],
   "source": [
    "testy.match.value_counts(dropna=False)"
   ]
  },
  {
   "cell_type": "code",
   "execution_count": 10,
   "metadata": {},
   "outputs": [],
   "source": [
    "# create logistic regression model\n",
    "\n",
    "lrmodel = LogisticRegression(solver='lbfgs')"
   ]
  },
  {
   "cell_type": "code",
   "execution_count": 11,
   "metadata": {},
   "outputs": [
    {
     "data": {
      "text/plain": [
       "LogisticRegression(C=1.0, class_weight=None, dual=False, fit_intercept=True,\n",
       "                   intercept_scaling=1, l1_ratio=None, max_iter=100,\n",
       "                   multi_class='auto', n_jobs=None, penalty='l2',\n",
       "                   random_state=None, solver='lbfgs', tol=0.0001, verbose=0,\n",
       "                   warm_start=False)"
      ]
     },
     "execution_count": 11,
     "metadata": {},
     "output_type": "execute_result"
    }
   ],
   "source": [
    "#fit model to training data.  Need to specify .values.ravel() to convert the \n",
    "# labels data (y) into a 1D array.\n",
    "\n",
    "lrmodel_fitted = lrmodel.fit(trainX, trainy.values.ravel())\n",
    "lrmodel_fitted "
   ]
  },
  {
   "cell_type": "code",
   "execution_count": 12,
   "metadata": {},
   "outputs": [
    {
     "data": {
      "text/plain": [
       "['Y:\\\\DQSS\\\\Death\\\\MBG\\\\Py\\\\infdth_logreg.sav']"
      ]
     },
     "execution_count": 12,
     "metadata": {},
     "output_type": "execute_result"
    }
   ],
   "source": [
    "import joblib\n",
    "\n",
    "joblib.dump(lrmodel_fitted, r'Y:\\DQSS\\Death\\MBG\\Py\\infdth_logreg.sav' )"
   ]
  },
  {
   "cell_type": "code",
   "execution_count": 13,
   "metadata": {},
   "outputs": [],
   "source": [
    "# predict probabilites of records being in a given class for testing feature \n",
    "# data and the actual classes\n",
    "\n",
    "lrmodel_probs = lrmodel.predict_proba(testX)\n",
    "lrmodel_pred = lrmodel.predict(testX)"
   ]
  },
  {
   "cell_type": "code",
   "execution_count": 14,
   "metadata": {},
   "outputs": [],
   "source": [
    "# separate out probabilities for the positive class only (matches)\n",
    "\n",
    "lrmodel_probs = lrmodel_probs[:, 1]"
   ]
  },
  {
   "cell_type": "code",
   "execution_count": 15,
   "metadata": {},
   "outputs": [
    {
     "data": {
      "text/html": [
       "<div>\n",
       "<style scoped>\n",
       "    .dataframe tbody tr th:only-of-type {\n",
       "        vertical-align: middle;\n",
       "    }\n",
       "\n",
       "    .dataframe tbody tr th {\n",
       "        vertical-align: top;\n",
       "    }\n",
       "\n",
       "    .dataframe thead th {\n",
       "        text-align: right;\n",
       "    }\n",
       "</style>\n",
       "<table border=\"1\" class=\"dataframe\">\n",
       "  <thead>\n",
       "    <tr style=\"text-align: right;\">\n",
       "      <th></th>\n",
       "      <th>No Match</th>\n",
       "      <th>Match</th>\n",
       "      <th>accuracy</th>\n",
       "      <th>macro avg</th>\n",
       "      <th>weighted avg</th>\n",
       "    </tr>\n",
       "  </thead>\n",
       "  <tbody>\n",
       "    <tr>\n",
       "      <th>precision</th>\n",
       "      <td>0.999931</td>\n",
       "      <td>0.985366</td>\n",
       "      <td>0.999912</td>\n",
       "      <td>0.992648</td>\n",
       "      <td>0.999911</td>\n",
       "    </tr>\n",
       "    <tr>\n",
       "      <th>recall</th>\n",
       "      <td>0.999981</td>\n",
       "      <td>0.948357</td>\n",
       "      <td>0.999912</td>\n",
       "      <td>0.974169</td>\n",
       "      <td>0.999912</td>\n",
       "    </tr>\n",
       "    <tr>\n",
       "      <th>f1-score</th>\n",
       "      <td>0.999956</td>\n",
       "      <td>0.966507</td>\n",
       "      <td>0.999912</td>\n",
       "      <td>0.983232</td>\n",
       "      <td>0.999911</td>\n",
       "    </tr>\n",
       "    <tr>\n",
       "      <th>support</th>\n",
       "      <td>158801.000000</td>\n",
       "      <td>213.000000</td>\n",
       "      <td>0.999912</td>\n",
       "      <td>159014.000000</td>\n",
       "      <td>159014.000000</td>\n",
       "    </tr>\n",
       "  </tbody>\n",
       "</table>\n",
       "</div>"
      ],
      "text/plain": [
       "                No Match       Match  accuracy      macro avg   weighted avg\n",
       "precision       0.999931    0.985366  0.999912       0.992648       0.999911\n",
       "recall          0.999981    0.948357  0.999912       0.974169       0.999912\n",
       "f1-score        0.999956    0.966507  0.999912       0.983232       0.999911\n",
       "support    158801.000000  213.000000  0.999912  159014.000000  159014.000000"
      ]
     },
     "execution_count": 15,
     "metadata": {},
     "output_type": "execute_result"
    }
   ],
   "source": [
    "# confusion matrix\n",
    "\n",
    "lr_cr = classification_report(testy, lrmodel_pred, \n",
    "                              target_names = ['No Match', 'Match'],\n",
    "                              output_dict=True)\n",
    "\n",
    "pd.DataFrame.from_dict(lr_cr)"
   ]
  },
  {
   "cell_type": "markdown",
   "metadata": {},
   "source": [
    "**Recall for 'No Match' = specificity; recall for 'Match' = sensitivity**"
   ]
  },
  {
   "cell_type": "code",
   "execution_count": 16,
   "metadata": {},
   "outputs": [
    {
     "data": {
      "image/png": "[encoded data removed]",
      "text/plain": [
       "<Figure size 432x432 with 1 Axes>"
      ]
     },
     "metadata": {
      "needs_background": "light"
     },
     "output_type": "display_data"
    }
   ],
   "source": [
    "lr_cm = confusion_matrix(testy, lrmodel_pred)\n",
    "\n",
    "plt.figure(figsize=(6, 6))\n",
    "font = {'weight': 'normal',\n",
    "        'size': 14} \n",
    "\n",
    "sns.set(font_scale=1.25)\n",
    "sns.heatmap(lr_cm, \n",
    "            annot=True, fmt = 'g',\n",
    "            square = True,\n",
    "            cmap = sns.color_palette(\"Blues\"),\n",
    "            cbar = False,\n",
    "            linewidths=2, linecolor='white',\n",
    "            xticklabels = ['No match', 'Match'],\n",
    "            yticklabels = ['No match', 'Match'])\n",
    "\n",
    "plt.title('Fig 1. Confusion matrix for logistic regression classifier', \n",
    "          pad = 35, fontdict = font)\n",
    "plt.xlabel('PREDICTED');plt.ylabel('ACTUAL');         \n",
    "plt.show()        "
   ]
  },
  {
   "cell_type": "markdown",
   "metadata": {},
   "source": [
    "\n",
    "The classification report and confusion matrix above indicates that the logistic regression model had a sensitivity of almost 95% and specificity of 99.9%. For record linkage projects relating to administrative health data, it is more important to have a high specificity meaning very few false positive cases. Having record pairs classified as matches when they are actually not matches would be of greater concern than missing a few true matches by classifying them as 'no match'.\n"
   ]
  },
  {
   "cell_type": "code",
   "execution_count": 16,
   "metadata": {},
   "outputs": [],
   "source": [
    "lr_auc = roc_auc_score(testy, lrmodel_probs)"
   ]
  },
  {
   "cell_type": "code",
   "execution_count": 17,
   "metadata": {},
   "outputs": [
    {
     "name": "stdout",
     "output_type": "stream",
     "text": [
      "Logistic: ROC AUC=1.00000\n"
     ]
    }
   ],
   "source": [
    "\n",
    "print('Logistic: ROC AUC=%.5f' % (lr_auc))"
   ]
  },
  {
   "cell_type": "code",
   "execution_count": 18,
   "metadata": {},
   "outputs": [
    {
     "data": {
      "image/png": "[encoded data removed]",
      "text/plain": [
       "<Figure size 504x504 with 1 Axes>"
      ]
     },
     "metadata": {},
     "output_type": "display_data"
    }
   ],
   "source": [
    "# calculate roc curve\n",
    "lr_fpr, lr_tpr, _ = roc_curve(testy, lrmodel_probs)\n",
    "sns.set_style(\"whitegrid\")\n",
    "plt.figure(figsize=(7, 7))\n",
    "plt.title('Fig 2. ROC curve for logistic regression classifier')\n",
    "# plot roc curve for the model\n",
    "plt.plot([0, 1], [0, 1],'r--', label='Baseline - random classification')\n",
    "plt.plot(lr_fpr, lr_tpr, marker='.', label='Logistic Regression classifier')\n",
    "plt.xlabel('False Positive Rate')\n",
    "plt.ylabel('True Positive Rate')\n",
    "plt.legend()\n",
    "\n",
    "plt.show()"
   ]
  },
  {
   "cell_type": "markdown",
   "metadata": {},
   "source": [
    "The ROC curve for the logistic regression classifier is also an indicator of the accuracy of the logistic regression classifier. The plot of true positive and false positive rates for the classifier above maximizes the area under the curve."
   ]
  },
  {
   "cell_type": "markdown",
   "metadata": {},
   "source": [
    "###### EXAMINING RECORDS THAT WERE INCORRECTLY PREDICTED"
   ]
  },
  {
   "cell_type": "markdown",
   "metadata": {},
   "source": [
    "To manually review record pairs that were incorrectly classified by the logistic regression model the predictions stored in the object created when the model was applied to the test data set can be joined with the test data containing the true labels and the record numbers (multi-index) for the birth and death records in the misclassified pairs. Examining the features of the record pairs may yield some insight into how the model might be improved and will also allow manually correcting the misclassification."
   ]
  },
  {
   "cell_type": "code",
   "execution_count": 19,
   "metadata": {},
   "outputs": [
    {
     "data": {
      "text/html": [
       "<div>\n",
       "<style scoped>\n",
       "    .dataframe tbody tr th:only-of-type {\n",
       "        vertical-align: middle;\n",
       "    }\n",
       "\n",
       "    .dataframe tbody tr th {\n",
       "        vertical-align: top;\n",
       "    }\n",
       "\n",
       "    .dataframe thead th {\n",
       "        text-align: right;\n",
       "    }\n",
       "</style>\n",
       "<table border=\"1\" class=\"dataframe\">\n",
       "  <thead>\n",
       "    <tr style=\"text-align: right;\">\n",
       "      <th></th>\n",
       "      <th></th>\n",
       "      <th>match</th>\n",
       "      <th>prediction</th>\n",
       "    </tr>\n",
       "  </thead>\n",
       "  <tbody>\n",
       "    <tr>\n",
       "      <th>12017016969</th>\n",
       "      <th>52017013228</th>\n",
       "      <td>0</td>\n",
       "      <td>1</td>\n",
       "    </tr>\n",
       "    <tr>\n",
       "      <th>12017016351</th>\n",
       "      <th>52017009800</th>\n",
       "      <td>1</td>\n",
       "      <td>0</td>\n",
       "    </tr>\n",
       "    <tr>\n",
       "      <th>12017017473</th>\n",
       "      <th>52017015618</th>\n",
       "      <td>1</td>\n",
       "      <td>0</td>\n",
       "    </tr>\n",
       "    <tr>\n",
       "      <th>12016056506</th>\n",
       "      <th>52016044038</th>\n",
       "      <td>1</td>\n",
       "      <td>0</td>\n",
       "    </tr>\n",
       "    <tr>\n",
       "      <th>12017029348</th>\n",
       "      <th>52017022864</th>\n",
       "      <td>1</td>\n",
       "      <td>0</td>\n",
       "    </tr>\n",
       "    <tr>\n",
       "      <th>12017030502</th>\n",
       "      <th>52017022632</th>\n",
       "      <td>1</td>\n",
       "      <td>0</td>\n",
       "    </tr>\n",
       "    <tr>\n",
       "      <th>12017025353</th>\n",
       "      <th>52017020121</th>\n",
       "      <td>1</td>\n",
       "      <td>0</td>\n",
       "    </tr>\n",
       "    <tr>\n",
       "      <th>12016036019</th>\n",
       "      <th>52016022637</th>\n",
       "      <td>1</td>\n",
       "      <td>0</td>\n",
       "    </tr>\n",
       "    <tr>\n",
       "      <th>12016036210</th>\n",
       "      <th>52016014776</th>\n",
       "      <td>1</td>\n",
       "      <td>0</td>\n",
       "    </tr>\n",
       "    <tr>\n",
       "      <th>12016034539</th>\n",
       "      <th>52016024096</th>\n",
       "      <td>0</td>\n",
       "      <td>1</td>\n",
       "    </tr>\n",
       "    <tr>\n",
       "      <th>12016041888</th>\n",
       "      <th>52016025272</th>\n",
       "      <td>1</td>\n",
       "      <td>0</td>\n",
       "    </tr>\n",
       "    <tr>\n",
       "      <th>12016051252</th>\n",
       "      <th>52016036877</th>\n",
       "      <td>0</td>\n",
       "      <td>1</td>\n",
       "    </tr>\n",
       "    <tr>\n",
       "      <th>12017030683</th>\n",
       "      <th>52017023250</th>\n",
       "      <td>1</td>\n",
       "      <td>0</td>\n",
       "    </tr>\n",
       "    <tr>\n",
       "      <th>12017027434</th>\n",
       "      <th>52017027902</th>\n",
       "      <td>1</td>\n",
       "      <td>0</td>\n",
       "    </tr>\n",
       "  </tbody>\n",
       "</table>\n",
       "</div>"
      ],
      "text/plain": [
       "                         match  prediction\n",
       "12017016969 52017013228      0           1\n",
       "12017016351 52017009800      1           0\n",
       "12017017473 52017015618      1           0\n",
       "12016056506 52016044038      1           0\n",
       "12017029348 52017022864      1           0\n",
       "12017030502 52017022632      1           0\n",
       "12017025353 52017020121      1           0\n",
       "12016036019 52016022637      1           0\n",
       "12016036210 52016014776      1           0\n",
       "12016034539 52016024096      0           1\n",
       "12016041888 52016025272      1           0\n",
       "12016051252 52016036877      0           1\n",
       "12017030683 52017023250      1           0\n",
       "12017027434 52017027902      1           0"
      ]
     },
     "execution_count": 19,
     "metadata": {},
     "output_type": "execute_result"
    }
   ],
   "source": [
    "## to identify the records that the logistic regression model predicted were \n",
    "## matches:\n",
    "\n",
    "predictions = lrmodel_pred\n",
    "lr_testy = pd.DataFrame(testy).copy()\n",
    "lr_testy['prediction'] = predictions\n",
    "lr_testy[lr_testy['match'] != lr_testy['prediction']].head(25)"
   ]
  },
  {
   "cell_type": "markdown",
   "metadata": {},
   "source": [
    "#### 2. RANDOM FOREST CLASSIFIER"
   ]
  },
  {
   "cell_type": "markdown",
   "metadata": {},
   "source": [
    "Random forest is a probabilistic classifier and is not as affected by data issues such as imbalanced classes and multicollinearity. For this reason, random forest may be a more convenient classfier to apply. "
   ]
  },
  {
   "cell_type": "code",
   "execution_count": 20,
   "metadata": {},
   "outputs": [],
   "source": [
    "from sklearn.ensemble import RandomForestClassifier"
   ]
  },
  {
   "cell_type": "code",
   "execution_count": 21,
   "metadata": {},
   "outputs": [],
   "source": [
    "# create random forest model with 100 trees\n",
    "\n",
    "rfmodel = RandomForestClassifier(n_estimators=100,\n",
    "                                bootstrap = True,\n",
    "                                max_features = 'sqrt')\n"
   ]
  },
  {
   "cell_type": "code",
   "execution_count": 22,
   "metadata": {},
   "outputs": [
    {
     "data": {
      "text/plain": [
       "RandomForestClassifier(bootstrap=True, ccp_alpha=0.0, class_weight=None,\n",
       "                       criterion='gini', max_depth=None, max_features='sqrt',\n",
       "                       max_leaf_nodes=None, max_samples=None,\n",
       "                       min_impurity_decrease=0.0, min_impurity_split=None,\n",
       "                       min_samples_leaf=1, min_samples_split=2,\n",
       "                       min_weight_fraction_leaf=0.0, n_estimators=100,\n",
       "                       n_jobs=None, oob_score=False, random_state=None,\n",
       "                       verbose=0, warm_start=False)"
      ]
     },
     "execution_count": 22,
     "metadata": {},
     "output_type": "execute_result"
    }
   ],
   "source": [
    "# fit on training data\n",
    "\n",
    "rfmodel_fitted = rfmodel.fit(trainX, trainy.values.ravel())"
   ]
  },
  {
   "cell_type": "code",
   "execution_count": null,
   "metadata": {},
   "outputs": [],
   "source": [
    "import joblib\n",
    "\n",
    "joblib.dump(rfmodel_fitted, r'Y:\\DQSS\\Death\\MBG\\Py\\infdth_randfor.sav' )"
   ]
  },
  {
   "cell_type": "code",
   "execution_count": 23,
   "metadata": {},
   "outputs": [],
   "source": [
    "#predict classes on test data\n",
    "rfmodel_pred = rfmodel.predict(testX)\n",
    "\n",
    "#probabilities for each class\n",
    "rfmodel_probs = rfmodel.predict_proba(testX)[:,1]"
   ]
  },
  {
   "cell_type": "code",
   "execution_count": 24,
   "metadata": {},
   "outputs": [
    {
     "data": {
      "text/plain": [
       "numpy.ndarray"
      ]
     },
     "execution_count": 24,
     "metadata": {},
     "output_type": "execute_result"
    }
   ],
   "source": [
    "type(rfmodel_probs)"
   ]
  },
  {
   "cell_type": "code",
   "execution_count": 25,
   "metadata": {},
   "outputs": [
    {
     "data": {
      "image/png": "[encoded data removed]",
      "text/plain": [
       "<Figure size 432x432 with 1 Axes>"
      ]
     },
     "metadata": {},
     "output_type": "display_data"
    }
   ],
   "source": [
    "rf_cm = confusion_matrix(testy, rfmodel_pred)\n",
    "\n",
    "plt.figure(figsize=(6, 6))\n",
    "font = {'weight': 'normal',\n",
    "        'size': 14} \n",
    "\n",
    "sns.set(font_scale=1.25)\n",
    "sns.heatmap(rf_cm, \n",
    "            annot=True, fmt = 'g',\n",
    "            square = True,\n",
    "            cmap = sns.color_palette(\"Blues\"),\n",
    "            cbar = False,\n",
    "            linewidths=2, linecolor='white',\n",
    "            xticklabels = ['No match', 'Match'],\n",
    "            yticklabels = ['No match', 'Match'])\n",
    "\n",
    "plt.title('Fig 3. Confusion matrix for random forest classifier', \n",
    "          pad = 35, fontdict = font)\n",
    "plt.xlabel('PREDICTED');plt.ylabel('ACTUAL');         \n",
    "plt.show()        "
   ]
  },
  {
   "cell_type": "code",
   "execution_count": 26,
   "metadata": {},
   "outputs": [
    {
     "data": {
      "text/html": [
       "<div>\n",
       "<style scoped>\n",
       "    .dataframe tbody tr th:only-of-type {\n",
       "        vertical-align: middle;\n",
       "    }\n",
       "\n",
       "    .dataframe tbody tr th {\n",
       "        vertical-align: top;\n",
       "    }\n",
       "\n",
       "    .dataframe thead th {\n",
       "        text-align: right;\n",
       "    }\n",
       "</style>\n",
       "<table border=\"1\" class=\"dataframe\">\n",
       "  <thead>\n",
       "    <tr style=\"text-align: right;\">\n",
       "      <th></th>\n",
       "      <th>No Match</th>\n",
       "      <th>Match</th>\n",
       "      <th>accuracy</th>\n",
       "      <th>macro avg</th>\n",
       "      <th>weighted avg</th>\n",
       "    </tr>\n",
       "  </thead>\n",
       "  <tbody>\n",
       "    <tr>\n",
       "      <th>precision</th>\n",
       "      <td>0.999969</td>\n",
       "      <td>0.985782</td>\n",
       "      <td>0.99995</td>\n",
       "      <td>0.992875</td>\n",
       "      <td>0.99995</td>\n",
       "    </tr>\n",
       "    <tr>\n",
       "      <th>recall</th>\n",
       "      <td>0.999981</td>\n",
       "      <td>0.976526</td>\n",
       "      <td>0.99995</td>\n",
       "      <td>0.988253</td>\n",
       "      <td>0.99995</td>\n",
       "    </tr>\n",
       "    <tr>\n",
       "      <th>f1-score</th>\n",
       "      <td>0.999975</td>\n",
       "      <td>0.981132</td>\n",
       "      <td>0.99995</td>\n",
       "      <td>0.990553</td>\n",
       "      <td>0.99995</td>\n",
       "    </tr>\n",
       "    <tr>\n",
       "      <th>support</th>\n",
       "      <td>158801.000000</td>\n",
       "      <td>213.000000</td>\n",
       "      <td>0.99995</td>\n",
       "      <td>159014.000000</td>\n",
       "      <td>159014.00000</td>\n",
       "    </tr>\n",
       "  </tbody>\n",
       "</table>\n",
       "</div>"
      ],
      "text/plain": [
       "                No Match       Match  accuracy      macro avg  weighted avg\n",
       "precision       0.999969    0.985782   0.99995       0.992875       0.99995\n",
       "recall          0.999981    0.976526   0.99995       0.988253       0.99995\n",
       "f1-score        0.999975    0.981132   0.99995       0.990553       0.99995\n",
       "support    158801.000000  213.000000   0.99995  159014.000000  159014.00000"
      ]
     },
     "execution_count": 26,
     "metadata": {},
     "output_type": "execute_result"
    }
   ],
   "source": [
    "rf_cr = classification_report(testy, rfmodel_pred, output_dict=True,\n",
    "                                   target_names = ['No Match', 'Match'])\n",
    "\n",
    "pd.DataFrame.from_dict(rf_cr)"
   ]
  },
  {
   "cell_type": "markdown",
   "metadata": {},
   "source": [
    "**Recall for 'No Match' = specificity; recall for 'Match' = sensitivity**"
   ]
  },
  {
   "cell_type": "markdown",
   "metadata": {},
   "source": [
    "The random forest classfier achieved sensitivity of 97.7% and specificity of 99.9%."
   ]
  },
  {
   "cell_type": "code",
   "execution_count": 27,
   "metadata": {},
   "outputs": [],
   "source": [
    "rf_auc = roc_auc_score(testy, rfmodel_probs)\n",
    "rf_fpr, rf_tpr, _ = roc_curve(testy, rfmodel_probs)"
   ]
  },
  {
   "cell_type": "code",
   "execution_count": 28,
   "metadata": {},
   "outputs": [
    {
     "data": {
      "image/png": "[encoded data removed]",
      "text/plain": [
       "<Figure size 504x504 with 1 Axes>"
      ]
     },
     "metadata": {},
     "output_type": "display_data"
    }
   ],
   "source": [
    "sns.set_style(\"whitegrid\")\n",
    "plt.figure(figsize=(7, 7))\n",
    "plt.plot(rf_fpr, rf_tpr, marker='.', label=\"Random Forest Classifier\")\n",
    "plt.plot([0, 1], [0, 1],'r--', label='Baseline - random classification')\n",
    "plt.title('Fig 4. ROC curve for random forest classifier')\n",
    "plt.xlabel('False Positive Rate'), plt.ylabel('True Positive Rate')\n",
    "plt.legend()\n",
    "plt.show()"
   ]
  },
  {
   "cell_type": "markdown",
   "metadata": {},
   "source": [
    "##### COMPARING CLASSIFIERS"
   ]
  },
  {
   "cell_type": "markdown",
   "metadata": {},
   "source": [
    "In terms of performance as well as the effort required to prepare the training data set random forest method is a better choice for this record linkage project.  As a next step, I will apply both classifiers to a validation data set (which is also labeled) to see how their accuracy levels compare."
   ]
  },
  {
   "cell_type": "markdown",
   "metadata": {},
   "source": [
    "###### Feature importance ranking for random forest classifier"
   ]
  },
  {
   "cell_type": "markdown",
   "metadata": {},
   "source": [
    "The computational load involved with creating a random forest classifier may be lessened by exploring the relative importance of the features used in the classification.  The table below shows the importance of each feature in rank order.  Based on this information, I will recreate the random forest classifier excluding date of birth year and possibly also sex as features in the model."
   ]
  },
  {
   "cell_type": "code",
   "execution_count": 29,
   "metadata": {},
   "outputs": [
    {
     "data": {
      "text/html": [
       "<div>\n",
       "<style scoped>\n",
       "    .dataframe tbody tr th:only-of-type {\n",
       "        vertical-align: middle;\n",
       "    }\n",
       "\n",
       "    .dataframe tbody tr th {\n",
       "        vertical-align: top;\n",
       "    }\n",
       "\n",
       "    .dataframe thead th {\n",
       "        text-align: right;\n",
       "    }\n",
       "</style>\n",
       "<table border=\"1\" class=\"dataframe\">\n",
       "  <thead>\n",
       "    <tr style=\"text-align: right;\">\n",
       "      <th></th>\n",
       "      <th>feature</th>\n",
       "      <th>importance</th>\n",
       "    </tr>\n",
       "  </thead>\n",
       "  <tbody>\n",
       "    <tr>\n",
       "      <th>1</th>\n",
       "      <td>cmp_inf_phonetic</td>\n",
       "      <td>0.292779</td>\n",
       "    </tr>\n",
       "    <tr>\n",
       "      <th>0</th>\n",
       "      <td>cmp_inf_lname</td>\n",
       "      <td>0.231775</td>\n",
       "    </tr>\n",
       "    <tr>\n",
       "      <th>5</th>\n",
       "      <td>cmp_dad_phonetic</td>\n",
       "      <td>0.171723</td>\n",
       "    </tr>\n",
       "    <tr>\n",
       "      <th>3</th>\n",
       "      <td>cmp_mom_phonetic</td>\n",
       "      <td>0.128178</td>\n",
       "    </tr>\n",
       "    <tr>\n",
       "      <th>4</th>\n",
       "      <td>cmp_dad_lname</td>\n",
       "      <td>0.055030</td>\n",
       "    </tr>\n",
       "    <tr>\n",
       "      <th>2</th>\n",
       "      <td>cmp_mom_lname</td>\n",
       "      <td>0.037880</td>\n",
       "    </tr>\n",
       "    <tr>\n",
       "      <th>8</th>\n",
       "      <td>cmp_dobd</td>\n",
       "      <td>0.034054</td>\n",
       "    </tr>\n",
       "    <tr>\n",
       "      <th>6</th>\n",
       "      <td>cmp_dobm</td>\n",
       "      <td>0.024792</td>\n",
       "    </tr>\n",
       "    <tr>\n",
       "      <th>10</th>\n",
       "      <td>cmp_rescounty</td>\n",
       "      <td>0.012580</td>\n",
       "    </tr>\n",
       "    <tr>\n",
       "      <th>9</th>\n",
       "      <td>cmp_sex</td>\n",
       "      <td>0.009648</td>\n",
       "    </tr>\n",
       "    <tr>\n",
       "      <th>7</th>\n",
       "      <td>cmp_doby</td>\n",
       "      <td>0.001561</td>\n",
       "    </tr>\n",
       "  </tbody>\n",
       "</table>\n",
       "</div>"
      ],
      "text/plain": [
       "             feature  importance\n",
       "1   cmp_inf_phonetic    0.292779\n",
       "0      cmp_inf_lname    0.231775\n",
       "5   cmp_dad_phonetic    0.171723\n",
       "3   cmp_mom_phonetic    0.128178\n",
       "4      cmp_dad_lname    0.055030\n",
       "2      cmp_mom_lname    0.037880\n",
       "8           cmp_dobd    0.034054\n",
       "6           cmp_dobm    0.024792\n",
       "10     cmp_rescounty    0.012580\n",
       "9            cmp_sex    0.009648\n",
       "7           cmp_doby    0.001561"
      ]
     },
     "execution_count": 29,
     "metadata": {},
     "output_type": "execute_result"
    }
   ],
   "source": [
    "# feature importance\n",
    "\n",
    "imp = np.ndarray.round(rfmodel.feature_importances_, 6)\n",
    "\n",
    "feature_importance = pd.DataFrame({'feature': list(trainX.columns),\n",
    "                        'importance': imp}).\\\n",
    "                       sort_values('importance', ascending = False)\n",
    "feature_importance         "
   ]
  },
  {
   "cell_type": "markdown",
   "metadata": {},
   "source": [
    "#### NEXT STEPS"
   ]
  },
  {
   "cell_type": "markdown",
   "metadata": {},
   "source": [
    "The purpose of this project was to find ways to implement record linkage of large administrative datasets without the need for manual review.\n",
    "\n",
    "The two classifiers above show promise in linking infant death records with their corresponding birth records.  Both methods were supervised learning methods requiring labeled training data. It may not be feasible to use these methods to link other health data sets.\n",
    "\n",
    "I plan to apply these methods to 2018 and 2019 infant death data to validate the classification accuracy of bothe methods. However, for other data sets that don't have labeled data I will also explore unsupervised learning classifiers."
   ]
  }
 ],
 "metadata": {
  "kernelspec": {
   "display_name": "Python 3",
   "language": "python",
   "name": "python3"
  },
  "language_info": {
   "codemirror_mode": {
    "name": "ipython",
    "version": 3
   },
   "file_extension": ".py",
   "mimetype": "text/x-python",
   "name": "python",
   "nbconvert_exporter": "python",
   "pygments_lexer": "ipython3",
   "version": "3.6.8"
  }
 },
 "nbformat": 4,
 "nbformat_minor": 4
}
