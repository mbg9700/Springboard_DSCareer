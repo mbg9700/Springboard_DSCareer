{
 "cells": [
  {
   "cell_type": "markdown",
   "metadata": {},
   "source": [
    "### Capstone 1 - Washington state linkage of infant death, birth, and mother's hospitalization discharge data"
   ]
  },
  {
   "cell_type": "markdown",
   "metadata": {},
   "source": [
    "##### Maya Bhat-Gregerson\n",
    "\n",
    "January 7, 2020"
   ]
  },
  {
   "cell_type": "markdown",
   "metadata": {},
   "source": [
    "### B. PREPARATION OF DEATH DATA 2016-2018"
   ]
  },
  {
   "cell_type": "markdown",
   "metadata": {},
   "source": [
    "### I. Data acquisition"
   ]
  },
  {
   "cell_type": "code",
   "execution_count": 21,
   "metadata": {},
   "outputs": [],
   "source": [
    "import pandas as pd\n",
    "import numpy as np\n",
    "import matplotlib.pyplot as plt\n",
    "import seaborn as sns\n",
    "import pyodbc\n",
    "\n",
    "pd.set_option('display.max_columns', None)\n",
    "pd.set_option('display.max_rows', None)"
   ]
  },
  {
   "cell_type": "markdown",
   "metadata": {},
   "source": [
    "I use SQL queries to get the death and birth variables I am likely to need for linking the records. \n",
    "\n",
    "NOTE: I renamed all variables from death records so that they begin with 'd' to distinguish the fields from those in birth records with the same names."
   ]
  },
  {
   "cell_type": "markdown",
   "metadata": {},
   "source": [
    "**DEATH DATA 2016, 2017, 2018**"
   ]
  },
  {
   "cell_type": "code",
   "execution_count": 10,
   "metadata": {},
   "outputs": [],
   "source": [
    "## CONNECT TO WHALES & USE SQL QUERY FOR DEATH DATA SET\n",
    "\n",
    "driver = '{SQL Server Native Client 11.0}'\n",
    "\n",
    "conn = pyodbc.connect(\n",
    "        Trusted_Connection='Yes',\n",
    "        Driver='{ODBC Driver 13 for SQL Server}',\n",
    "        Server='####',\n",
    "        Database='####'\n",
    "        )\n",
    "\n",
    "querystring = (\"SELECT SFN_NUM as 'dsfn',\" + \n",
    "        \"BIRTH_SFN_NUM as 'dbirsfn', \" + \n",
    "        \"SSN as 'dssn', \" +\n",
    "        \"ISNULL(GNAME, 'NaN') as 'dfname', \" +\n",
    "        \"ISNULL(MNAME, 'NaN') as 'dmname', \" +\n",
    "        \"ISNULL(LNAME, 'NaN') as 'dlname', \" +\n",
    "        \"ISNULL(MOTHER_GNAME, 'NaN') as 'dmom_fname', \" +\n",
    "        \"ISNULL(MOTHER_MNAME, 'NaN') as 'dmom_mname', \" + \n",
    "        \"ISNULL(MOTHER_LNAME, 'NaN') as 'dmom_lname', \" +\n",
    "        \"ISNULL(SEX, 'NaN') as 'dsex', \" + \n",
    "\t\t\"AGETYPE as 'dagetype', \" +\n",
    "\t\t\"CONCAT(AGE1, AGE2, AGE3, AGE4, AGE5) as 'dage', \" + \n",
    "\t\t\"ISNULL(AGE1_CALC, '999') as 'dageyrs',\" + \n",
    "\t\t\"DOB as 'ddob', \" + \n",
    "\t\t\"ISNULL(SUBSTRING(DOB, 1,2), '99') as 'ddobm', \" + \n",
    "\t\t\"ISNULL(SUBSTRING(DOB, 4,2), '99') as 'ddobd', \" +\n",
    "\t\t\"ISNULL(SUBSTRING(DOB, 7,4), '9999') as 'ddoby', \" + \n",
    "\t\t\"ISNULL(DOD, '  ') as 'ddod',\" + \n",
    "\t\t\"ISNULL(SUBSTRING(DOD, 1,2), '99') as 'ddodm', \" + \n",
    "\t\t\"ISNULL(SUBSTRING(DOD, 4,2), '99') as 'ddodd', \" + \n",
    "\t\t\"ISNULL(SUBSTRING(DOD, 7,4), '9999') as 'ddody', \" +\n",
    "\t\t\"ISNULL(DSTATEL, '  ') as 'ddthstatel', \" +\n",
    "\t\t\"ISNULL(BPLACE_ST_FIPS_CD, '  ') as 'dbirplstatefips', \" + \n",
    "\t\t\"ISNULL(BPLACE_CNT, '  ') as 'dbircountryl',\" +\n",
    "        \"ISNULL(BPLACE_CNT_FIPS_CD, ' ') as 'dbircountryfips', \" +\n",
    "\t\t\"ISNULL(DNAME_CITY, '  ') as 'ddthcityl', \" +\n",
    "        \"ISNULL(DNAME_FIPS_CD, ' ') as 'ddthcityfips',\" +\n",
    "\t\t\"ISNULL(DCOUNTY, '  ') as 'ddthcountyl',\" +\n",
    "        \"ISNULL(DCOUNTY_FIPS_CD, ' ') as 'ddthcntyfips',\" +    \n",
    "\t\t\"ISNULL(SUBSTRING(DZIP9, 1,5), '99999') as 'ddthzip', \" + \n",
    "\t\t\"RIGHT('000' + ISNULL(DFACILITYL, '  '), 3) as 'ddfaccode',\" + \n",
    "\t\t\"ISNULL(RACE_NCHS_CD, '99') as 'dbridgerace', \" + \n",
    "\t\t\"ISNULL(DETHNIC_NO, '  ') as 'dhispno', \" + \n",
    "\t\t\"ISNULL(RES_CITY, '  ') as 'drescity', \" + \n",
    "\t\t\"RIGHT('00000' + ISNULL(RES_CITY_FIPS_CD, '99999'), 5) as 'drescityfips', \" + \n",
    "\t\t\"ISNULL(RES_LIMITS, '  ') as 'drescitylim', \" + \n",
    "\t\t\"ISNULL(RES_COUNTY, '  ') as 'drescountyl', \" + \n",
    "\t\t\"RIGHT('000' + ISNULL(RES_COUNTY_FIPS_CD, '999'), 3) as 'drescntyfips', \" + \n",
    "\t\t\"ISNULL(RES_STATE_FIPS_CD, '  ') as 'dresstatefips', \" + \n",
    "\t\t\"ISNULL(SUBSTRING(RES_ZIP, 1,5), '99999') as 'dreszip'\" + \n",
    "\"FROM [wa_vrvweb_events].[VRV_DEATH_TBL]\" +\n",
    "\"WHERE ((DATE_DEATH_YEAR = 2016) OR (DATE_DEATH_YEAR = 2017) OR (DATE_DEATH_YEAR = 2018))\" +\n",
    "\t\"AND VRV_REGISTERED_FLAG = '1'\" +\n",
    "\t\"AND FL_CURRENT = '1'\" +\n",
    "\t\"AND FL_VOIDED = '0'\")\n",
    "\n",
    "dth1618= pd.read_sql_query(querystring, conn)\n",
    "\n",
    "## SAVE DATA AS CSV FILE\n",
    "\n",
    "dth1618.to_csv(r'####\\Py\\Data\\dth1618_raw.csv', index=None, header=True)"
   ]
  },
  {
   "cell_type": "code",
   "execution_count": 11,
   "metadata": {},
   "outputs": [],
   "source": [
    "d1618 = pd.read_csv(r'####\\Py\\Data\\dth1618_raw.csv', low_memory=False)"
   ]
  },
  {
   "cell_type": "code",
   "execution_count": 12,
   "metadata": {},
   "outputs": [
    {
     "data": {
      "text/plain": [
       "(172809, 40)"
      ]
     },
     "execution_count": 12,
     "metadata": {},
     "output_type": "execute_result"
    }
   ],
   "source": [
    "d1618.shape"
   ]
  },
  {
   "cell_type": "code",
   "execution_count": 13,
   "metadata": {},
   "outputs": [
    {
     "name": "stdout",
     "output_type": "stream",
     "text": [
      "<class 'pandas.core.frame.DataFrame'>\n",
      "RangeIndex: 172809 entries, 0 to 172808\n",
      "Data columns (total 40 columns):\n",
      "dsfn               172809 non-null int64\n",
      "dbirsfn            7507 non-null object\n",
      "dssn               172809 non-null object\n",
      "dfname             172807 non-null object\n",
      "dmname             157996 non-null object\n",
      "dlname             172802 non-null object\n",
      "dmom_fname         172746 non-null object\n",
      "dmom_mname         75899 non-null object\n",
      "dmom_lname         172750 non-null object\n",
      "dsex               172808 non-null object\n",
      "dagetype           172809 non-null float64\n",
      "dage               172806 non-null float64\n",
      "dageyrs            172809 non-null float64\n",
      "ddob               172809 non-null object\n",
      "ddobm              172809 non-null int64\n",
      "ddobd              172809 non-null int64\n",
      "ddoby              172809 non-null int64\n",
      "ddod               172809 non-null object\n",
      "ddodm              172809 non-null int64\n",
      "ddodd              172809 non-null int64\n",
      "ddody              172809 non-null int64\n",
      "ddthstatel         172809 non-null object\n",
      "dbirplstatefips    172809 non-null object\n",
      "dbircountryl       172809 non-null object\n",
      "dbircountryfips    172809 non-null object\n",
      "ddthcityl          172806 non-null object\n",
      "ddthcityfips       172809 non-null object\n",
      "ddthcountyl        172809 non-null object\n",
      "ddthcntyfips       172809 non-null object\n",
      "ddthzip            172809 non-null object\n",
      "ddfaccode          172809 non-null int64\n",
      "dbridgerace        172809 non-null int64\n",
      "dhispno            172809 non-null object\n",
      "drescity           172803 non-null object\n",
      "drescityfips       172809 non-null int64\n",
      "drescitylim        172809 non-null object\n",
      "drescountyl        172809 non-null object\n",
      "drescntyfips       172809 non-null int64\n",
      "dresstatefips      172809 non-null object\n",
      "dreszip            172808 non-null object\n",
      "dtypes: float64(3), int64(11), object(26)\n",
      "memory usage: 52.7+ MB\n"
     ]
    }
   ],
   "source": [
    "d1618.info()"
   ]
  },
  {
   "cell_type": "code",
   "execution_count": 14,
   "metadata": {},
   "outputs": [
    {
     "data": {
      "text/plain": [
       "['dsfn',\n",
       " 'dbirsfn',\n",
       " 'dssn',\n",
       " 'dfname',\n",
       " 'dmname',\n",
       " 'dlname',\n",
       " 'dmom_fname',\n",
       " 'dmom_mname',\n",
       " 'dmom_lname',\n",
       " 'dsex',\n",
       " 'dagetype',\n",
       " 'dage',\n",
       " 'dageyrs',\n",
       " 'ddob',\n",
       " 'ddobm',\n",
       " 'ddobd',\n",
       " 'ddoby',\n",
       " 'ddod',\n",
       " 'ddodm',\n",
       " 'ddodd',\n",
       " 'ddody',\n",
       " 'ddthstatel',\n",
       " 'dbirplstatefips',\n",
       " 'dbircountryl',\n",
       " 'dbircountryfips',\n",
       " 'ddthcityl',\n",
       " 'ddthcityfips',\n",
       " 'ddthcountyl',\n",
       " 'ddthcntyfips',\n",
       " 'ddthzip',\n",
       " 'ddfaccode',\n",
       " 'dbridgerace',\n",
       " 'dhispno',\n",
       " 'drescity',\n",
       " 'drescityfips',\n",
       " 'drescitylim',\n",
       " 'drescountyl',\n",
       " 'drescntyfips',\n",
       " 'dresstatefips',\n",
       " 'dreszip']"
      ]
     },
     "execution_count": 14,
     "metadata": {},
     "output_type": "execute_result"
    }
   ],
   "source": [
    "dthlinkvars = list(d1618.columns.values)\n",
    "dthlinkvars"
   ]
  },
  {
   "cell_type": "code",
   "execution_count": null,
   "metadata": {},
   "outputs": [],
   "source": []
  },
  {
   "cell_type": "markdown",
   "metadata": {},
   "source": [
    "### II. Data cleaning and standardization"
   ]
  },
  {
   "cell_type": "code",
   "execution_count": 68,
   "metadata": {},
   "outputs": [],
   "source": [
    "# look at data\n",
    "#d1618.head()"
   ]
  },
  {
   "cell_type": "markdown",
   "metadata": {},
   "source": [
    "  - Check death record number 'dsfn' and convert to integer if necessary"
   ]
  },
  {
   "cell_type": "code",
   "execution_count": 16,
   "metadata": {},
   "outputs": [
    {
     "data": {
      "text/plain": [
       "count    1.728090e+05\n",
       "mean     2.017043e+09\n",
       "std      8.144065e+05\n",
       "min      2.016000e+09\n",
       "25%      2.016043e+09\n",
       "50%      2.017031e+09\n",
       "75%      2.018015e+09\n",
       "max      2.018091e+09\n",
       "Name: dsfn, dtype: float64"
      ]
     },
     "execution_count": 16,
     "metadata": {},
     "output_type": "execute_result"
    }
   ],
   "source": [
    "d1618.dsfn.describe()"
   ]
  },
  {
   "cell_type": "code",
   "execution_count": 17,
   "metadata": {},
   "outputs": [],
   "source": [
    "dth1618['dsfn'] = dth1618['dsfn'].astype(int)"
   ]
  },
  {
   "cell_type": "code",
   "execution_count": 18,
   "metadata": {},
   "outputs": [
    {
     "data": {
      "text/plain": [
       "dtype('int32')"
      ]
     },
     "execution_count": 18,
     "metadata": {},
     "output_type": "execute_result"
    }
   ],
   "source": [
    "dth1618.dsfn.dtype"
   ]
  },
  {
   "cell_type": "code",
   "execution_count": null,
   "metadata": {},
   "outputs": [],
   "source": []
  },
  {
   "cell_type": "markdown",
   "metadata": {},
   "source": [
    "**RESTRICT TO WA RESIDENTS**"
   ]
  },
  {
   "cell_type": "code",
   "execution_count": 22,
   "metadata": {},
   "outputs": [
    {
     "data": {
      "text/plain": [
       "WA    168702\n",
       "OR      1424\n",
       "ID       605\n",
       "CA       311\n",
       "AK       308\n",
       "MT       187\n",
       "XX       139\n",
       "ZZ       131\n",
       "AZ       117\n",
       "TX        82\n",
       "FL        73\n",
       "BC        52\n",
       "HI        46\n",
       "NV        45\n",
       "NY        42\n",
       "IL        38\n",
       "MI        36\n",
       "CO        30\n",
       "UT        30\n",
       "PA        24\n",
       "MN        23\n",
       "OH        19\n",
       "OK        18\n",
       "NJ        18\n",
       "VA        18\n",
       "IN        17\n",
       "MO        15\n",
       "TN        15\n",
       "AL        14\n",
       "IA        13\n",
       "SC        13\n",
       "SD        12\n",
       "LA        12\n",
       "MD        12\n",
       "NC        12\n",
       "WI        11\n",
       "KS        11\n",
       "NM        11\n",
       "MA        11\n",
       "GA        10\n",
       "AR        10\n",
       "MS         9\n",
       "ND         9\n",
       "WY         9\n",
       "CT         8\n",
       "AB         7\n",
       "NE         7\n",
       "ME         5\n",
       "GU         4\n",
       "ON         4\n",
       "KY         4\n",
       "DE         4\n",
       "NH         4\n",
       "WV         4\n",
       "AS         3\n",
       "DC         2\n",
       "RI         2\n",
       "PR         2\n",
       "VT         1\n",
       "NS         1\n",
       "MP         1\n",
       "YT         1\n",
       "SK         1\n",
       "Name: dresstatefips, dtype: int64"
      ]
     },
     "execution_count": 22,
     "metadata": {},
     "output_type": "execute_result"
    }
   ],
   "source": [
    "d1618['dresstatefips'].value_counts(dropna=False)"
   ]
  },
  {
   "cell_type": "code",
   "execution_count": 24,
   "metadata": {},
   "outputs": [
    {
     "data": {
      "text/plain": [
       "WA    168702\n",
       "Name: dresstatefips, dtype: int64"
      ]
     },
     "execution_count": 24,
     "metadata": {},
     "output_type": "execute_result"
    }
   ],
   "source": [
    "# keep only WA residents and check if successful in filtering out other state residents.\n",
    "d1618 = d1618[(d1618['dresstatefips']==\"WA\")]\n",
    "d1618['dresstatefips'].value_counts(dropna=False)"
   ]
  },
  {
   "cell_type": "markdown",
   "metadata": {},
   "source": [
    "#### LIMIT TO INFANTS\n",
    "Infants are defined as less than 365 days old at the time of death.\n",
    "\n",
    "Variable 'dagetype' indicates the unit of time of the value in 'dage' - years, months, weeks, days, minutes etc.  Select all except years to keep infant deaths."
   ]
  },
  {
   "cell_type": "code",
   "execution_count": 25,
   "metadata": {},
   "outputs": [
    {
     "data": {
      "text/plain": [
       "1.0    167566\n",
       "2.0       405\n",
       "4.0       285\n",
       "3.0       283\n",
       "5.0       159\n",
       "6.0         2\n",
       "9.0         2\n",
       "Name: dagetype, dtype: int64"
      ]
     },
     "execution_count": 25,
     "metadata": {},
     "output_type": "execute_result"
    }
   ],
   "source": [
    "d1618['dagetype'].value_counts(dropna=False)"
   ]
  },
  {
   "cell_type": "code",
   "execution_count": 27,
   "metadata": {},
   "outputs": [
    {
     "data": {
      "text/plain": [
       "2.0    405\n",
       "4.0    285\n",
       "3.0    283\n",
       "5.0    159\n",
       "6.0      2\n",
       "9.0      2\n",
       "Name: dagetype, dtype: int64"
      ]
     },
     "execution_count": 27,
     "metadata": {},
     "output_type": "execute_result"
    }
   ],
   "source": [
    "d1618 = d1618[(d1618.dagetype != 1)]\n",
    "d1618.dagetype.value_counts(dropna=False)"
   ]
  },
  {
   "cell_type": "code",
   "execution_count": 28,
   "metadata": {},
   "outputs": [
    {
     "data": {
      "text/plain": [
       "(1136, 40)"
      ]
     },
     "execution_count": 28,
     "metadata": {},
     "output_type": "execute_result"
    }
   ],
   "source": [
    "d1618.shape"
   ]
  },
  {
   "cell_type": "markdown",
   "metadata": {},
   "source": [
    "#### CHECK FOR NULL VALUES"
   ]
  },
  {
   "cell_type": "code",
   "execution_count": 29,
   "metadata": {},
   "outputs": [
    {
     "data": {
      "text/plain": [
       "dsfn                 0\n",
       "dbirsfn              3\n",
       "dssn                 0\n",
       "dfname               0\n",
       "dmname             183\n",
       "dlname               0\n",
       "dmom_fname           0\n",
       "dmom_mname         496\n",
       "dmom_lname           0\n",
       "dsex                 0\n",
       "dagetype             0\n",
       "dage                 2\n",
       "dageyrs              0\n",
       "ddob                 0\n",
       "ddobm                0\n",
       "ddobd                0\n",
       "ddoby                0\n",
       "ddod                 0\n",
       "ddodm                0\n",
       "ddodd                0\n",
       "ddody                0\n",
       "ddthstatel           0\n",
       "dbirplstatefips      0\n",
       "dbircountryl         0\n",
       "dbircountryfips      0\n",
       "ddthcityl            0\n",
       "ddthcityfips         0\n",
       "ddthcountyl          0\n",
       "ddthcntyfips         0\n",
       "ddthzip              0\n",
       "ddfaccode            0\n",
       "dbridgerace          0\n",
       "dhispno              0\n",
       "drescity             0\n",
       "drescityfips         0\n",
       "drescitylim          0\n",
       "drescountyl          0\n",
       "drescntyfips         0\n",
       "dresstatefips        0\n",
       "dreszip              0\n",
       "dtype: int64"
      ]
     },
     "execution_count": 29,
     "metadata": {},
     "output_type": "execute_result"
    }
   ],
   "source": [
    "d1618.isna().sum()"
   ]
  },
  {
   "cell_type": "markdown",
   "metadata": {},
   "source": [
    "Probably will not use mothers' and infants' middle name for linking as there are too many missing values."
   ]
  },
  {
   "cell_type": "markdown",
   "metadata": {},
   "source": [
    "#### STANDARDIZE ALL STRING VARIABLES"
   ]
  },
  {
   "cell_type": "markdown",
   "metadata": {},
   "source": [
    "First, middle, and last names of infants and mothers as well as city names will be standardized by converting these columns to upper case text, removing white spaces, removing hyphens and other punctuation marks."
   ]
  },
  {
   "cell_type": "code",
   "execution_count": 30,
   "metadata": {},
   "outputs": [],
   "source": [
    "# convert to upper case\n",
    "d1618 = d1618.apply(lambda x: x.str.upper() if type(x) == str else x)"
   ]
  },
  {
   "cell_type": "code",
   "execution_count": 31,
   "metadata": {
    "scrolled": true
   },
   "outputs": [],
   "source": [
    "#remove white spaces, punctuation\n",
    "d1618 = d1618.apply(lambda x: x.str.strip() if type(x) == str else x)\n",
    "d1618 = d1618.applymap(lambda x: x.replace(\" \", \"\") if type(x) == str else x)\n",
    "d1618 = d1618.applymap(lambda x: x.replace(\"-\", \"\") if type(x) == str else x)\n",
    "d1618 = d1618.applymap(lambda x: x.replace(\".\", \"\") if type(x) == str else x)"
   ]
  },
  {
   "cell_type": "code",
   "execution_count": 41,
   "metadata": {},
   "outputs": [],
   "source": [
    "#d1618.head(30)"
   ]
  },
  {
   "cell_type": "markdown",
   "metadata": {},
   "source": [
    "- Verified that all string transformations were successful."
   ]
  },
  {
   "cell_type": "markdown",
   "metadata": {},
   "source": [
    "#### CHECK FOR OUT OF RANGE VALUES"
   ]
  },
  {
   "cell_type": "code",
   "execution_count": 42,
   "metadata": {},
   "outputs": [],
   "source": [
    "#create dictionary of valid values so that each variable can be checked to make sure there is no\n",
    "# out of range value.\n",
    "\n",
    "valids = {'sex': ['M', 'F', 'U'],\n",
    "          'dobm': [1, 2, 3, 4, 5, 6, 7, 8, 9, 10, 11, 12, 99],\n",
    "          'dobd': np.r_[1:32 ,99],\n",
    "          'doby': [2016,2017,2018],\n",
    "         'rcntyfips': np.r_[range(1, 78, 2), 99],\n",
    "         'certtype': ['R'],\n",
    "         'birthstatefips': ['WA'], \n",
    "         'rstatefips': ['WA']}"
   ]
  },
  {
   "cell_type": "code",
   "execution_count": 44,
   "metadata": {},
   "outputs": [
    {
     "data": {
      "text/plain": [
       "0"
      ]
     },
     "execution_count": 44,
     "metadata": {},
     "output_type": "execute_result"
    }
   ],
   "source": [
    "# check for out of range values for 'sex'\n",
    "\n",
    "chksex = d1618['dsex'].isin(valids['sex'])\n",
    "len(d1618[~chksex])"
   ]
  },
  {
   "cell_type": "code",
   "execution_count": 45,
   "metadata": {},
   "outputs": [
    {
     "data": {
      "text/plain": [
       "0"
      ]
     },
     "execution_count": 45,
     "metadata": {},
     "output_type": "execute_result"
    }
   ],
   "source": [
    "# check for out of range values for 'dobm'\n",
    "\n",
    "chkdobm = d1618['ddobm'].isin(valids['dobm'])\n",
    "len(d1618[~chkdobm])"
   ]
  },
  {
   "cell_type": "code",
   "execution_count": 46,
   "metadata": {},
   "outputs": [
    {
     "data": {
      "text/plain": [
       "53"
      ]
     },
     "execution_count": 46,
     "metadata": {},
     "output_type": "execute_result"
    }
   ],
   "source": [
    "# check for out of range values for 'doby'\n",
    "\n",
    "chkdoby = d1618['ddoby'].isin(valids['doby'])\n",
    "len(d1618[~chkdoby])"
   ]
  },
  {
   "cell_type": "code",
   "execution_count": 48,
   "metadata": {},
   "outputs": [
    {
     "data": {
      "text/plain": [
       "2016    402\n",
       "2018    353\n",
       "2017    328\n",
       "2015     51\n",
       "9999      2\n",
       "Name: ddoby, dtype: int64"
      ]
     },
     "execution_count": 48,
     "metadata": {},
     "output_type": "execute_result"
    }
   ],
   "source": [
    "d1618['ddoby'].value_counts(dropna=False)"
   ]
  },
  {
   "cell_type": "code",
   "execution_count": 59,
   "metadata": {},
   "outputs": [
    {
     "data": {
      "text/plain": [
       "2016    402\n",
       "2018    353\n",
       "2017    328\n",
       "9999      2\n",
       "Name: ddoby, dtype: int64"
      ]
     },
     "execution_count": 59,
     "metadata": {},
     "output_type": "execute_result"
    }
   ],
   "source": [
    "# remove 2015 deaths - these should not be in this data set.  The earliest deaths to 2016 births should have been in 2016.\n",
    "\n",
    "d1618 = d1618[(d1618.ddoby != 2015)]\n",
    "d1618.ddoby.value_counts(dropna=False)"
   ]
  },
  {
   "cell_type": "code",
   "execution_count": 64,
   "metadata": {},
   "outputs": [
    {
     "name": "stderr",
     "output_type": "stream",
     "text": [
      "C:\\ProgramData\\Anaconda3\\lib\\site-packages\\ipykernel_launcher.py:1: UserWarning: Boolean Series key will be reindexed to match DataFrame index.\n",
      "  \"\"\"Entry point for launching an IPython kernel.\n"
     ]
    },
    {
     "data": {
      "text/html": [
       "<div>\n",
       "<style scoped>\n",
       "    .dataframe tbody tr th:only-of-type {\n",
       "        vertical-align: middle;\n",
       "    }\n",
       "\n",
       "    .dataframe tbody tr th {\n",
       "        vertical-align: top;\n",
       "    }\n",
       "\n",
       "    .dataframe thead th {\n",
       "        text-align: right;\n",
       "    }\n",
       "</style>\n",
       "<table border=\"1\" class=\"dataframe\">\n",
       "  <thead>\n",
       "    <tr style=\"text-align: right;\">\n",
       "      <th></th>\n",
       "      <th>ddob</th>\n",
       "    </tr>\n",
       "  </thead>\n",
       "  <tbody>\n",
       "    <tr>\n",
       "      <td>75737</td>\n",
       "      <td>99/99/9999</td>\n",
       "    </tr>\n",
       "    <tr>\n",
       "      <td>94604</td>\n",
       "      <td>99/99/9999</td>\n",
       "    </tr>\n",
       "  </tbody>\n",
       "</table>\n",
       "</div>"
      ],
      "text/plain": [
       "             ddob\n",
       "75737  99/99/9999\n",
       "94604  99/99/9999"
      ]
     },
     "execution_count": 64,
     "metadata": {},
     "output_type": "execute_result"
    }
   ],
   "source": [
    "\n",
    "dobyerrors = d1618[~chkdoby][['ddob']]\n",
    "\n",
    "dobyerrors"
   ]
  },
  {
   "cell_type": "markdown",
   "metadata": {},
   "source": [
    "- unable to correct dob year without additional information on date of birth."
   ]
  },
  {
   "cell_type": "code",
   "execution_count": 49,
   "metadata": {},
   "outputs": [
    {
     "data": {
      "text/plain": [
       "0"
      ]
     },
     "execution_count": 49,
     "metadata": {},
     "output_type": "execute_result"
    }
   ],
   "source": [
    "# check for out of range values for 'dobd'\n",
    "\n",
    "chkdobd = d1618['ddobd'].isin(valids['dobd'])\n",
    "len(d1618[~chkdobd])\n"
   ]
  },
  {
   "cell_type": "code",
   "execution_count": 53,
   "metadata": {},
   "outputs": [
    {
     "data": {
      "text/plain": [
       "3"
      ]
     },
     "execution_count": 53,
     "metadata": {},
     "output_type": "execute_result"
    }
   ],
   "source": [
    "# check for out of range values for 'drescntyfips'\n",
    "\n",
    "chkrcounty = d1618['drescntyfips'].isin(valids['rcntyfips'])\n",
    "len(d1618['drescntyfips'][~chkrcounty])"
   ]
  },
  {
   "cell_type": "code",
   "execution_count": 57,
   "metadata": {},
   "outputs": [
    {
     "data": {
      "text/html": [
       "<div>\n",
       "<style scoped>\n",
       "    .dataframe tbody tr th:only-of-type {\n",
       "        vertical-align: middle;\n",
       "    }\n",
       "\n",
       "    .dataframe tbody tr th {\n",
       "        vertical-align: top;\n",
       "    }\n",
       "\n",
       "    .dataframe thead th {\n",
       "        text-align: right;\n",
       "    }\n",
       "</style>\n",
       "<table border=\"1\" class=\"dataframe\">\n",
       "  <thead>\n",
       "    <tr style=\"text-align: right;\">\n",
       "      <th></th>\n",
       "      <th>dsfn</th>\n",
       "      <th>drescntyfips</th>\n",
       "      <th>drescountyl</th>\n",
       "      <th>drescity</th>\n",
       "    </tr>\n",
       "  </thead>\n",
       "  <tbody>\n",
       "    <tr>\n",
       "      <td>108723</td>\n",
       "      <td>2017052270</td>\n",
       "      <td>999</td>\n",
       "      <td>UNKNOWN</td>\n",
       "      <td>UNKNOWN</td>\n",
       "    </tr>\n",
       "    <tr>\n",
       "      <td>158264</td>\n",
       "      <td>2018043748</td>\n",
       "      <td>999</td>\n",
       "      <td>UNKNOWN</td>\n",
       "      <td>UNKNOWN</td>\n",
       "    </tr>\n",
       "    <tr>\n",
       "      <td>170415</td>\n",
       "      <td>2018057560</td>\n",
       "      <td>999</td>\n",
       "      <td>UNKNOWN</td>\n",
       "      <td>NOTAPPLICABLE</td>\n",
       "    </tr>\n",
       "  </tbody>\n",
       "</table>\n",
       "</div>"
      ],
      "text/plain": [
       "              dsfn  drescntyfips drescountyl       drescity\n",
       "108723  2017052270           999     UNKNOWN        UNKNOWN\n",
       "158264  2018043748           999     UNKNOWN        UNKNOWN\n",
       "170415  2018057560           999     UNKNOWN  NOTAPPLICABLE"
      ]
     },
     "execution_count": 57,
     "metadata": {},
     "output_type": "execute_result"
    }
   ],
   "source": [
    "rcntyerrors = d1618[~chkrcounty][['dsfn','drescntyfips', 'drescountyl','drescity']]\n",
    "\n",
    "rcntyerrors"
   ]
  },
  {
   "cell_type": "markdown",
   "metadata": {},
   "source": [
    " - cannot replace with correct values without any information on residence city or county."
   ]
  },
  {
   "cell_type": "code",
   "execution_count": null,
   "metadata": {},
   "outputs": [],
   "source": []
  },
  {
   "cell_type": "markdown",
   "metadata": {},
   "source": [
    "#### CONVERT ALL AGE VALUES TO AGE IN DAYS"
   ]
  },
  {
   "cell_type": "code",
   "execution_count": 67,
   "metadata": {},
   "outputs": [
    {
     "data": {
      "text/html": [
       "<div>\n",
       "<style scoped>\n",
       "    .dataframe tbody tr th:only-of-type {\n",
       "        vertical-align: middle;\n",
       "    }\n",
       "\n",
       "    .dataframe tbody tr th {\n",
       "        vertical-align: top;\n",
       "    }\n",
       "\n",
       "    .dataframe thead th {\n",
       "        text-align: right;\n",
       "    }\n",
       "</style>\n",
       "<table border=\"1\" class=\"dataframe\">\n",
       "  <thead>\n",
       "    <tr style=\"text-align: right;\">\n",
       "      <th></th>\n",
       "      <th>dagedays</th>\n",
       "      <th>dagetype</th>\n",
       "      <th>dage</th>\n",
       "    </tr>\n",
       "  </thead>\n",
       "  <tbody>\n",
       "    <tr>\n",
       "      <td>265</td>\n",
       "      <td>150</td>\n",
       "      <td>2.0</td>\n",
       "      <td>5.0</td>\n",
       "    </tr>\n",
       "    <tr>\n",
       "      <td>508</td>\n",
       "      <td>17</td>\n",
       "      <td>3.0</td>\n",
       "      <td>17.0</td>\n",
       "    </tr>\n",
       "    <tr>\n",
       "      <td>848</td>\n",
       "      <td>90</td>\n",
       "      <td>2.0</td>\n",
       "      <td>3.0</td>\n",
       "    </tr>\n",
       "    <tr>\n",
       "      <td>888</td>\n",
       "      <td>60</td>\n",
       "      <td>2.0</td>\n",
       "      <td>2.0</td>\n",
       "    </tr>\n",
       "    <tr>\n",
       "      <td>892</td>\n",
       "      <td>0</td>\n",
       "      <td>5.0</td>\n",
       "      <td>2.0</td>\n",
       "    </tr>\n",
       "    <tr>\n",
       "      <td>1112</td>\n",
       "      <td>90</td>\n",
       "      <td>2.0</td>\n",
       "      <td>3.0</td>\n",
       "    </tr>\n",
       "    <tr>\n",
       "      <td>1169</td>\n",
       "      <td>180</td>\n",
       "      <td>2.0</td>\n",
       "      <td>6.0</td>\n",
       "    </tr>\n",
       "    <tr>\n",
       "      <td>1186</td>\n",
       "      <td>0</td>\n",
       "      <td>5.0</td>\n",
       "      <td>20.0</td>\n",
       "    </tr>\n",
       "    <tr>\n",
       "      <td>1288</td>\n",
       "      <td>0</td>\n",
       "      <td>5.0</td>\n",
       "      <td>25.0</td>\n",
       "    </tr>\n",
       "    <tr>\n",
       "      <td>1457</td>\n",
       "      <td>150</td>\n",
       "      <td>2.0</td>\n",
       "      <td>5.0</td>\n",
       "    </tr>\n",
       "  </tbody>\n",
       "</table>\n",
       "</div>"
      ],
      "text/plain": [
       "      dagedays  dagetype  dage\n",
       "265        150       2.0   5.0\n",
       "508         17       3.0  17.0\n",
       "848         90       2.0   3.0\n",
       "888         60       2.0   2.0\n",
       "892          0       5.0   2.0\n",
       "1112        90       2.0   3.0\n",
       "1169       180       2.0   6.0\n",
       "1186         0       5.0  20.0\n",
       "1288         0       5.0  25.0\n",
       "1457       150       2.0   5.0"
      ]
     },
     "execution_count": 67,
     "metadata": {},
     "output_type": "execute_result"
    }
   ],
   "source": [
    "#convert age into age in days\n",
    "\n",
    "def agetodays(x):\n",
    "    if x['dagetype']==2:\n",
    "        return x['dage']*30\n",
    "    elif x['dagetype']==3:\n",
    "        return x['dage']\n",
    "    elif x['dagetype']==4:\n",
    "        return x['dage']/24\n",
    "    elif x['dagetype']==5:\n",
    "        return x['dage']/(60*24)\n",
    "    \n",
    "    \n",
    "d1618['dagedays'] = np.array(d1618.apply(agetodays, axis=1)).astype(int)\n",
    "d1618[['dagedays', 'dagetype', 'dage']].head(10)\n",
    "\n"
   ]
  },
  {
   "cell_type": "code",
   "execution_count": 69,
   "metadata": {},
   "outputs": [],
   "source": [
    "d1618.to_csv(r'Y:\\DQSS\\Death\\MBG\\Py\\Data\\d1618_clean.csv', index=None, header=True)"
   ]
  }
 ],
 "metadata": {
  "kernelspec": {
   "display_name": "Python 3",
   "language": "python",
   "name": "python3"
  },
  "language_info": {
   "codemirror_mode": {
    "name": "ipython",
    "version": 3
   },
   "file_extension": ".py",
   "mimetype": "text/x-python",
   "name": "python",
   "nbconvert_exporter": "python",
   "pygments_lexer": "ipython3",
   "version": "3.6.8"
  }
 },
 "nbformat": 4,
 "nbformat_minor": 2
}
