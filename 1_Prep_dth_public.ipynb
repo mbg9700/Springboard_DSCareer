{
 "cells": [
  {
   "cell_type": "markdown",
   "metadata": {},
   "source": [
    "### Capstone 1 - Washington state linkage of infant death, birth, and mother's hospitalization discharge data"
   ]
  },
  {
   "cell_type": "markdown",
   "metadata": {},
   "source": [
    "##### Maya Bhat-Gregerson\n",
    "\n",
    " December 8, 2019"
   ]
  },
  {
   "cell_type": "markdown",
   "metadata": {},
   "source": [
    "The purpose of this project is to use machine learning methods to link infant deaths occurring in Washington State to the infants' birth records and also to the mothers' hospitalization records within one year prior to birth.  Having a dataset of linked health information for Washington State residents allows us to conduct analyses that may yield valuable insights into maternal factors correlated with infant mortality.\n",
    "\n",
    "Birth records contain the mothers' names and other identifiers, so in theory it should be possible to link the birth records to hospital discharge data using the mothers information.\n",
    "\n",
    "There should be a 1:1 match between birth and death records.  Each hospitalization data row represents one hospital visit and it is possible that an individual can have multiple hospital visits in the period of interest.  Linkage between birth and mother's hospitalization records will be a 1:many join."
   ]
  },
  {
   "cell_type": "markdown",
   "metadata": {},
   "source": [
    "## 1. Clean data in preparation for linkage"
   ]
  },
  {
   "cell_type": "code",
   "execution_count": 1,
   "metadata": {},
   "outputs": [],
   "source": [
    "import pandas as pd\n",
    "import numpy as np\n",
    "import matplotlib.pyplot as plt\n",
    "import seaborn as sns"
   ]
  },
  {
   "cell_type": "markdown",
   "metadata": {},
   "source": [
    "### a. Death data"
   ]
  },
  {
   "cell_type": "code",
   "execution_count": 2,
   "metadata": {},
   "outputs": [],
   "source": [
    "#Read in 2018 death data\n",
    "\n",
    "dth18 = pd.read_csv(r'...\\infdth2018_raw.csv', \n",
    "                    index_col = None,\n",
    "                    low_memory = False)"
   ]
  },
  {
   "cell_type": "markdown",
   "metadata": {},
   "source": [
    "#### GENERAL INFO ABOUT DEATH DATA FRAME"
   ]
  },
  {
   "cell_type": "code",
   "execution_count": 3,
   "metadata": {},
   "outputs": [
    {
     "data": {
      "text/plain": [
       "sfn               int64\n",
       "birthsfn         object\n",
       "ssn              object\n",
       "fname            object\n",
       "mname            object\n",
       "lname            object\n",
       "mom_fname        object\n",
       "mom_mname        object\n",
       "mom_lname        object\n",
       "sex              object\n",
       "agetype         float64\n",
       "age               int64\n",
       "ageyrs          float64\n",
       "dob              object\n",
       "dobm              int64\n",
       "dobd              int64\n",
       "doby              int64\n",
       "dod              object\n",
       "dodm              int64\n",
       "dodd              int64\n",
       "dody              int64\n",
       "dodmod           object\n",
       "todhh             int64\n",
       "todmm             int64\n",
       "todmod           object\n",
       "bplstatefips     object\n",
       "bcountryl        object\n",
       "dcityl           object\n",
       "dcountyl         object\n",
       "dstatel          object\n",
       "dzip             object\n",
       "dplacetype      float64\n",
       "dfaccd            int64\n",
       "bridgerace        int64\n",
       "hispno           object\n",
       "rcity            object\n",
       "rcityfips         int64\n",
       "rcitylim         object\n",
       "rcountyl         object\n",
       "rcntyfips         int64\n",
       "rstatefips       object\n",
       "rzip             object\n",
       "dtype: object"
      ]
     },
     "execution_count": 3,
     "metadata": {},
     "output_type": "execute_result"
    }
   ],
   "source": [
    "# variable info - name and type\n",
    "\n",
    "pd.set_option('display.max_rows', 140)\n",
    "\n",
    "dth18.dtypes"
   ]
  },
  {
   "cell_type": "code",
   "execution_count": 5,
   "metadata": {},
   "outputs": [
    {
     "data": {
      "text/plain": [
       "(58282, 42)"
      ]
     },
     "execution_count": 5,
     "metadata": {},
     "output_type": "execute_result"
    }
   ],
   "source": [
    "dth18.shape"
   ]
  },
  {
   "cell_type": "code",
   "execution_count": 6,
   "metadata": {},
   "outputs": [
    {
     "data": {
      "text/plain": [
       "<bound method NDFrame.describe of 0        81\n",
       "1        85\n",
       "2        88\n",
       "3        85\n",
       "4        84\n",
       "         ..\n",
       "58277    60\n",
       "58278    45\n",
       "58279    92\n",
       "58280    60\n",
       "58281    90\n",
       "Name: age, Length: 58282, dtype: int64>"
      ]
     },
     "execution_count": 6,
     "metadata": {},
     "output_type": "execute_result"
    }
   ],
   "source": [
    "dth18['age'].describe"
   ]
  },
  {
   "cell_type": "code",
   "execution_count": 7,
   "metadata": {},
   "outputs": [
    {
     "data": {
      "text/plain": [
       "WA    56916\n",
       "OR      486\n",
       "ID      202\n",
       "CA      106\n",
       "AK       99\n",
       "MT       55\n",
       "XX       39\n",
       "ZZ       34\n",
       "AZ       34\n",
       "TX       31\n",
       "FL       27\n",
       "NV       19\n",
       "BC       15\n",
       "HI       15\n",
       "NY       15\n",
       "IL       14\n",
       "MI       13\n",
       "CO       13\n",
       "OK       11\n",
       "UT       10\n",
       "NJ        8\n",
       "MO        7\n",
       "PA        7\n",
       "AL        7\n",
       "VA        6\n",
       "NC        6\n",
       "IN        6\n",
       "SD        5\n",
       "OH        5\n",
       "MS        5\n",
       "MN        5\n",
       "GA        4\n",
       "SC        4\n",
       "TN        4\n",
       "IA        3\n",
       "WY        3\n",
       "CT        3\n",
       "WI        3\n",
       "NM        3\n",
       "ON        3\n",
       "WV        3\n",
       "ND        3\n",
       "MA        3\n",
       "KS        2\n",
       "MD        2\n",
       "AB        2\n",
       "LA        2\n",
       "NH        2\n",
       "AR        2\n",
       "ME        2\n",
       "DE        1\n",
       "KY        1\n",
       "DC        1\n",
       "MP        1\n",
       "AS        1\n",
       "YT        1\n",
       "GU        1\n",
       "NE        1\n",
       "Name: rstatefips, dtype: int64"
      ]
     },
     "execution_count": 7,
     "metadata": {},
     "output_type": "execute_result"
    }
   ],
   "source": [
    "dth18['rstatefips'].value_counts(dropna=False)"
   ]
  },
  {
   "cell_type": "markdown",
   "metadata": {},
   "source": [
    "#### LIMIT TO INFANTS WHO WERE WASHINGTON STATE RESIDENTS\n",
    "Infants are defined as less than 365 days old at the time of death."
   ]
  },
  {
   "cell_type": "code",
   "execution_count": 8,
   "metadata": {},
   "outputs": [],
   "source": [
    "## restrict to infants defined as <=365 days old at time of death who were residents of Washington State.\n",
    "## code selects all 'agetype' values other than 1.  Agetype = 1 indicates age is in years. Infant age would be recorded as\n",
    "## 'agetype' values 2 through 5 i.e. months, days, hours, or minutes.\n",
    "\n",
    "infdth18 = dth18[(dth18['rstatefips'] == \"WA\") & (dth18['agetype'] != 1)]"
   ]
  },
  {
   "cell_type": "code",
   "execution_count": 9,
   "metadata": {},
   "outputs": [
    {
     "data": {
      "text/plain": [
       "(401, 42)"
      ]
     },
     "execution_count": 9,
     "metadata": {},
     "output_type": "execute_result"
    }
   ],
   "source": [
    "infdth18.shape"
   ]
  },
  {
   "cell_type": "code",
   "execution_count": 10,
   "metadata": {},
   "outputs": [
    {
     "data": {
      "text/html": [
       "<div>\n",
       "<style scoped>\n",
       "    .dataframe tbody tr th:only-of-type {\n",
       "        vertical-align: middle;\n",
       "    }\n",
       "\n",
       "    .dataframe tbody tr th {\n",
       "        vertical-align: top;\n",
       "    }\n",
       "\n",
       "    .dataframe thead th {\n",
       "        text-align: right;\n",
       "    }\n",
       "</style>\n",
       "<table border=\"1\" class=\"dataframe\">\n",
       "  <thead>\n",
       "    <tr style=\"text-align: right;\">\n",
       "      <th>rstatefips</th>\n",
       "      <th>WA</th>\n",
       "    </tr>\n",
       "    <tr>\n",
       "      <th>agetype</th>\n",
       "      <th></th>\n",
       "    </tr>\n",
       "  </thead>\n",
       "  <tbody>\n",
       "    <tr>\n",
       "      <td>2.0</td>\n",
       "      <td>131</td>\n",
       "    </tr>\n",
       "    <tr>\n",
       "      <td>3.0</td>\n",
       "      <td>111</td>\n",
       "    </tr>\n",
       "    <tr>\n",
       "      <td>4.0</td>\n",
       "      <td>94</td>\n",
       "    </tr>\n",
       "    <tr>\n",
       "      <td>5.0</td>\n",
       "      <td>65</td>\n",
       "    </tr>\n",
       "  </tbody>\n",
       "</table>\n",
       "</div>"
      ],
      "text/plain": [
       "rstatefips   WA\n",
       "agetype        \n",
       "2.0         131\n",
       "3.0         111\n",
       "4.0          94\n",
       "5.0          65"
      ]
     },
     "execution_count": 10,
     "metadata": {},
     "output_type": "execute_result"
    }
   ],
   "source": [
    "pd.crosstab(infdth18.agetype, infdth18.rstatefips, dropna=False)\n",
    "\n",
    "#All decedents are Washington State residents. Age types are minutes, days,\n",
    "#weeks and months."
   ]
  },
  {
   "cell_type": "markdown",
   "metadata": {},
   "source": []
  },
  {
   "cell_type": "code",
   "execution_count": 11,
   "metadata": {},
   "outputs": [
    {
     "data": {
      "text/plain": [
       "1     84\n",
       "2     66\n",
       "3     33\n",
       "4     29\n",
       "7     22\n",
       "5     21\n",
       "6     19\n",
       "8     15\n",
       "15    10\n",
       "9     10\n",
       "11     9\n",
       "12     9\n",
       "13     7\n",
       "23     6\n",
       "24     6\n",
       "17     5\n",
       "21     5\n",
       "10     4\n",
       "20     4\n",
       "22     4\n",
       "30     4\n",
       "18     3\n",
       "16     3\n",
       "26     2\n",
       "14     2\n",
       "35     2\n",
       "44     2\n",
       "40     2\n",
       "54     1\n",
       "43     1\n",
       "53     1\n",
       "49     1\n",
       "48     1\n",
       "45     1\n",
       "33     1\n",
       "37     1\n",
       "25     1\n",
       "31     1\n",
       "28     1\n",
       "27     1\n",
       "56     1\n",
       "Name: age, dtype: int64"
      ]
     },
     "execution_count": 11,
     "metadata": {},
     "output_type": "execute_result"
    }
   ],
   "source": [
    "infdth18['age'].value_counts(dropna=False)"
   ]
  },
  {
   "cell_type": "markdown",
   "metadata": {},
   "source": [
    "#### CHECK FOR NULL AND OUT OF RANGE VALUES"
   ]
  },
  {
   "cell_type": "code",
   "execution_count": 14,
   "metadata": {},
   "outputs": [
    {
     "data": {
      "text/plain": [
       "sfn               0\n",
       "birthsfn          1\n",
       "ssn               0\n",
       "fname             0\n",
       "mname            74\n",
       "lname             0\n",
       "mom_fname         0\n",
       "mom_mname       197\n",
       "mom_lname         0\n",
       "sex               0\n",
       "agetype           0\n",
       "age               0\n",
       "ageyrs            0\n",
       "dob               0\n",
       "dobm              0\n",
       "dobd              0\n",
       "doby              0\n",
       "dod               0\n",
       "dodm              0\n",
       "dodd              0\n",
       "dody              0\n",
       "dodmod            0\n",
       "todhh             0\n",
       "todmm             0\n",
       "todmod            0\n",
       "bplstatefips      0\n",
       "bcountryl         0\n",
       "dcityl            0\n",
       "dcountyl          0\n",
       "dstatel           0\n",
       "dzip              0\n",
       "dplacetype        0\n",
       "dfaccd            0\n",
       "bridgerace        0\n",
       "hispno            0\n",
       "rcity             0\n",
       "rcityfips         0\n",
       "rcitylim          0\n",
       "rcountyl          0\n",
       "rcntyfips         0\n",
       "rstatefips        0\n",
       "rzip              0\n",
       "dtype: int64"
      ]
     },
     "execution_count": 14,
     "metadata": {},
     "output_type": "execute_result"
    }
   ],
   "source": [
    "infdth18.isna().sum()\n",
    "\n",
    "# no missing values in any variable EXCEPT decedent middle name and mother's middle name\n",
    "# will exclude these from linkage"
   ]
  },
  {
   "cell_type": "markdown",
   "metadata": {},
   "source": [
    "Probably will not use mothers' and infants' middle name for linking as there are too many missing values."
   ]
  },
  {
   "cell_type": "markdown",
   "metadata": {},
   "source": [
    "#### CREATE SUBSET CONSISTING OF LINKING VARIABLES IN DEATH DATA"
   ]
  },
  {
   "cell_type": "code",
   "execution_count": 15,
   "metadata": {},
   "outputs": [],
   "source": [
    "# create subset of death linking variables: decedent's first and last names, mother's first and last\n",
    "# name, decedents date of birth, decedent's sex, residence county and city, and decedent's SSN.\n",
    "\n",
    "dthlinkvars = infdth18.loc[:,['sfn', 'birthsfn', 'ssn', 'fname', 'lname', 'mom_fname', 'mom_lname', \n",
    "                              'dobm', 'dobd', 'doby', 'dob', 'sex', 'rcityfips', 'rcity', 'rcntyfips', \n",
    "                              'rcountyl', 'dstatel']]\n",
    "\n",
    "dthlinkvars.reset_index(drop=True, inplace=True)"
   ]
  },
  {
   "cell_type": "code",
   "execution_count": 16,
   "metadata": {},
   "outputs": [],
   "source": [
    "## CHECK FOR OUT OF RANGE VALUES - RESTRICT TO VARIABLES THAT WILL BE USED FOR LINKING AT THIS POINT"
   ]
  },
  {
   "cell_type": "code",
   "execution_count": 60,
   "metadata": {},
   "outputs": [],
   "source": [
    "#create dictionary of valid values so that each variable can be checked to make sure there is no\n",
    "# out of range value.\n",
    "\n",
    "valids = {'sex': ['M', 'F', 'U'],\n",
    "          'dobm': [1, 2, 3, 4, 5, 6, 7, 8, 9, 10, 11, 12, 99],\n",
    "          'dobd': np.r_[1:32 ,99],\n",
    "          'doby': [2017,2018],\n",
    "         'rcntyfips': np.r_[range(1, 78, 2), 99]}"
   ]
  },
  {
   "cell_type": "code",
   "execution_count": 18,
   "metadata": {},
   "outputs": [
    {
     "data": {
      "text/plain": [
       "0"
      ]
     },
     "execution_count": 18,
     "metadata": {},
     "output_type": "execute_result"
    }
   ],
   "source": [
    "# check for out of range values for 'sex'\n",
    "\n",
    "chksex = dthlinkvars['sex'].isin(valids['sex'])\n",
    "len(dthlinkvars[~chksex])"
   ]
  },
  {
   "cell_type": "code",
   "execution_count": 19,
   "metadata": {},
   "outputs": [
    {
     "data": {
      "text/plain": [
       "0"
      ]
     },
     "execution_count": 19,
     "metadata": {},
     "output_type": "execute_result"
    }
   ],
   "source": [
    "# check for out of range values for 'dobm'\n",
    "\n",
    "chkdobm = dthlinkvars['dobm'].isin(valids['dobm'])\n",
    "len(dthlinkvars[~chkdobm])"
   ]
  },
  {
   "cell_type": "code",
   "execution_count": 20,
   "metadata": {},
   "outputs": [
    {
     "data": {
      "text/plain": [
       "0"
      ]
     },
     "execution_count": 20,
     "metadata": {},
     "output_type": "execute_result"
    }
   ],
   "source": [
    "# check for out of range values for 'doby'\n",
    "\n",
    "chkdoby = dthlinkvars['doby'].isin(valids['doby'])\n",
    "len(dthlinkvars[~chkdoby])"
   ]
  },
  {
   "cell_type": "code",
   "execution_count": 21,
   "metadata": {},
   "outputs": [
    {
     "data": {
      "text/plain": [
       "0"
      ]
     },
     "execution_count": 21,
     "metadata": {},
     "output_type": "execute_result"
    }
   ],
   "source": [
    "# check for out of range values for 'dobd'\n",
    "\n",
    "chkdobd = dthlinkvars['dobd'].isin(valids['dobd'])\n",
    "len(dthlinkvars[~chkdobd])\n"
   ]
  },
  {
   "cell_type": "code",
   "execution_count": 22,
   "metadata": {},
   "outputs": [
    {
     "data": {
      "text/plain": [
       "2"
      ]
     },
     "execution_count": 22,
     "metadata": {},
     "output_type": "execute_result"
    }
   ],
   "source": [
    "# check for out of range values for 'dobd'\n",
    "\n",
    "chkrcounty = dthlinkvars['rcntyfips'].isin(valids['rcntyfips'])\n",
    "len(dthlinkvars[~chkrcounty])"
   ]
  },
  {
   "cell_type": "code",
   "execution_count": 23,
   "metadata": {},
   "outputs": [
    {
     "data": {
      "text/html": [
       "<div>\n",
       "<style scoped>\n",
       "    .dataframe tbody tr th:only-of-type {\n",
       "        vertical-align: middle;\n",
       "    }\n",
       "\n",
       "    .dataframe tbody tr th {\n",
       "        vertical-align: top;\n",
       "    }\n",
       "\n",
       "    .dataframe thead th {\n",
       "        text-align: right;\n",
       "    }\n",
       "</style>\n",
       "<table border=\"1\" class=\"dataframe\">\n",
       "  <thead>\n",
       "    <tr style=\"text-align: right;\">\n",
       "      <th></th>\n",
       "      <th>sfn</th>\n",
       "      <th>rcntyfips</th>\n",
       "      <th>rcountyl</th>\n",
       "      <th>rcntyfips</th>\n",
       "      <th>dstatel</th>\n",
       "    </tr>\n",
       "  </thead>\n",
       "  <tbody>\n",
       "    <tr>\n",
       "      <td>262</td>\n",
       "      <td>2018043748</td>\n",
       "      <td>999</td>\n",
       "      <td>UNKNOWN</td>\n",
       "      <td>999</td>\n",
       "      <td>WASHINGTON</td>\n",
       "    </tr>\n",
       "    <tr>\n",
       "      <td>347</td>\n",
       "      <td>2018057560</td>\n",
       "      <td>999</td>\n",
       "      <td>UNKNOWN</td>\n",
       "      <td>999</td>\n",
       "      <td>WASHINGTON</td>\n",
       "    </tr>\n",
       "  </tbody>\n",
       "</table>\n",
       "</div>"
      ],
      "text/plain": [
       "            sfn  rcntyfips rcountyl  rcntyfips     dstatel\n",
       "262  2018043748        999  UNKNOWN        999  WASHINGTON\n",
       "347  2018057560        999  UNKNOWN        999  WASHINGTON"
      ]
     },
     "execution_count": 23,
     "metadata": {},
     "output_type": "execute_result"
    }
   ],
   "source": [
    "rcntyerrors = dthlinkvars[~chkrcounty][['sfn','rcntyfips', 'rcountyl', 'rcntyfips','dstatel']]\n",
    "\n",
    "rcntyerrors"
   ]
  },
  {
   "cell_type": "code",
   "execution_count": 24,
   "metadata": {},
   "outputs": [
    {
     "data": {
      "text/plain": [
       "347    61\n",
       "Name: rcntyfips, dtype: int64"
      ]
     },
     "execution_count": 24,
     "metadata": {},
     "output_type": "execute_result"
    }
   ],
   "source": [
    "dthlinkvars.loc[dthlinkvars.sfn == 2018057560, 'rcountyl'] =\"SNOHOMISH\"\n",
    "dthlinkvars.loc[dthlinkvars.sfn == 2018057560, 'rcntyfips'] = 61\n",
    "dthlinkvars[dthlinkvars.sfn == 2018057560]['rcntyfips']"
   ]
  },
  {
   "cell_type": "code",
   "execution_count": 25,
   "metadata": {},
   "outputs": [
    {
     "data": {
      "text/html": [
       "<div>\n",
       "<style scoped>\n",
       "    .dataframe tbody tr th:only-of-type {\n",
       "        vertical-align: middle;\n",
       "    }\n",
       "\n",
       "    .dataframe tbody tr th {\n",
       "        vertical-align: top;\n",
       "    }\n",
       "\n",
       "    .dataframe thead th {\n",
       "        text-align: right;\n",
       "    }\n",
       "</style>\n",
       "<table border=\"1\" class=\"dataframe\">\n",
       "  <thead>\n",
       "    <tr style=\"text-align: right;\">\n",
       "      <th></th>\n",
       "      <th>sfn</th>\n",
       "      <th>rcntyfips</th>\n",
       "      <th>rcountyl</th>\n",
       "      <th>rcntyfips</th>\n",
       "      <th>dstatel</th>\n",
       "    </tr>\n",
       "  </thead>\n",
       "  <tbody>\n",
       "    <tr>\n",
       "      <td>262</td>\n",
       "      <td>2018043748</td>\n",
       "      <td>999</td>\n",
       "      <td>UNKNOWN</td>\n",
       "      <td>999</td>\n",
       "      <td>WASHINGTON</td>\n",
       "    </tr>\n",
       "  </tbody>\n",
       "</table>\n",
       "</div>"
      ],
      "text/plain": [
       "            sfn  rcntyfips rcountyl  rcntyfips     dstatel\n",
       "262  2018043748        999  UNKNOWN        999  WASHINGTON"
      ]
     },
     "execution_count": 25,
     "metadata": {},
     "output_type": "execute_result"
    }
   ],
   "source": [
    "#repeating check on residence county out of range values\n",
    "\n",
    "chkrcounty = dthlinkvars['rcntyfips'].isin(valids['rcntyfips'])\n",
    "len(dthlinkvars[~chkrcounty])\n",
    "rcntyerrors = dthlinkvars[~chkrcounty][['sfn','rcntyfips', 'rcountyl', 'rcntyfips','dstatel']]\n",
    "\n",
    "rcntyerrors"
   ]
  },
  {
   "cell_type": "markdown",
   "metadata": {},
   "source": [
    "After looking up the record with unknown residence county values in the SQL database I found that there is no additional information available to correct this record.  Linkage of this record will rely on other variables with complete information."
   ]
  },
  {
   "cell_type": "markdown",
   "metadata": {},
   "source": [
    "### b. Birth data 2017, 2018"
   ]
  },
  {
   "cell_type": "code",
   "execution_count": 55,
   "metadata": {},
   "outputs": [],
   "source": [
    "#Read in 2017-18 birth data\n",
    "\n",
    "bir1718 = pd.read_csv(r'...\\bir2017_18_raw.csv', \n",
    "                    index_col = None,\n",
    "                    low_memory = False)"
   ]
  },
  {
   "cell_type": "code",
   "execution_count": 56,
   "metadata": {},
   "outputs": [
    {
     "data": {
      "text/plain": [
       "bsfn               object\n",
       "bcerttype          object\n",
       "bfname             object\n",
       "bmname             object\n",
       "blname             object\n",
       "bmom_fname         object\n",
       "bmom_mname         object\n",
       "bmom_lname         object\n",
       "bsex               object\n",
       "bdob               object\n",
       "bdobm               int64\n",
       "bdobd               int64\n",
       "bdoby               int64\n",
       "bplstatefips       object\n",
       "b_momrcity         object\n",
       "b_momrcityfips      int64\n",
       "b_momrcountyl      object\n",
       "b_momrcntyfips      int64\n",
       "b_momrstatefips    object\n",
       "b_momrzip          object\n",
       "dtype: object"
      ]
     },
     "execution_count": 56,
     "metadata": {},
     "output_type": "execute_result"
    }
   ],
   "source": [
    "bir1718.dtypes"
   ]
  },
  {
   "cell_type": "markdown",
   "metadata": {},
   "source": [
    "I limited the birth data set to linkage variables while executing the SQL query.  I also limited the dataset to births occurring in 2017 and 2018 where either the birthplace state was Washington or the mother's residence state was Washington."
   ]
  },
  {
   "cell_type": "code",
   "execution_count": 57,
   "metadata": {},
   "outputs": [
    {
     "data": {
      "text/plain": [
       "(175984, 20)"
      ]
     },
     "execution_count": 57,
     "metadata": {},
     "output_type": "execute_result"
    }
   ],
   "source": [
    "birlinkvars = bir1718\n",
    "bir1718.shape"
   ]
  },
  {
   "cell_type": "code",
   "execution_count": 58,
   "metadata": {},
   "outputs": [],
   "source": [
    "## CHECK FOR OUT OF RANGE VALUES - RESTRICT TO VARIABLES THAT WILL BE USED FOR LINKING AT THIS POINT"
   ]
  },
  {
   "cell_type": "code",
   "execution_count": 62,
   "metadata": {},
   "outputs": [
    {
     "data": {
      "text/plain": [
       "0"
      ]
     },
     "execution_count": 62,
     "metadata": {},
     "output_type": "execute_result"
    }
   ],
   "source": [
    "# check for out of range values for 'bsex'\n",
    "\n",
    "chkbsex = birlinkvars['bsex'].isin(valids['sex'])\n",
    "len(birlinkvars[~chkbsex])"
   ]
  },
  {
   "cell_type": "code",
   "execution_count": 63,
   "metadata": {},
   "outputs": [
    {
     "data": {
      "text/plain": [
       "0"
      ]
     },
     "execution_count": 63,
     "metadata": {},
     "output_type": "execute_result"
    }
   ],
   "source": [
    "# check for out of range values for 'bdobm'\n",
    "\n",
    "chkbdobm = birlinkvars['bdobm'].isin(valids['dobm'])\n",
    "len(birlinkvars[~chkbdobm])"
   ]
  },
  {
   "cell_type": "code",
   "execution_count": 64,
   "metadata": {},
   "outputs": [
    {
     "data": {
      "text/plain": [
       "0"
      ]
     },
     "execution_count": 64,
     "metadata": {},
     "output_type": "execute_result"
    }
   ],
   "source": [
    "# check for out of range values for 'bdoby'\n",
    "\n",
    "chkbdoby = birlinkvars['bdoby'].isin(valids['doby'])\n",
    "len(birlinkvars[~chkbdoby])"
   ]
  },
  {
   "cell_type": "code",
   "execution_count": 65,
   "metadata": {},
   "outputs": [
    {
     "data": {
      "text/plain": [
       "0"
      ]
     },
     "execution_count": 65,
     "metadata": {},
     "output_type": "execute_result"
    }
   ],
   "source": [
    "# check for out of range values for 'bdobd'\n",
    "\n",
    "chkbdobd = birlinkvars['bdobd'].isin(valids['dobd'])\n",
    "len(birlinkvars[~chkbdobd])"
   ]
  },
  {
   "cell_type": "code",
   "execution_count": 66,
   "metadata": {},
   "outputs": [
    {
     "data": {
      "text/plain": [
       "383"
      ]
     },
     "execution_count": 66,
     "metadata": {},
     "output_type": "execute_result"
    }
   ],
   "source": [
    "# check for out of range values for 'b_momrcntyfips'\n",
    "\n",
    "chkbrcounty = birlinkvars['b_momrcntyfips'].isin(valids['rcntyfips'])\n",
    "len(birlinkvars[~chkbrcounty])"
   ]
  },
  {
   "cell_type": "code",
   "execution_count": 67,
   "metadata": {},
   "outputs": [
    {
     "data": {
      "text/html": [
       "<div>\n",
       "<style scoped>\n",
       "    .dataframe tbody tr th:only-of-type {\n",
       "        vertical-align: middle;\n",
       "    }\n",
       "\n",
       "    .dataframe tbody tr th {\n",
       "        vertical-align: top;\n",
       "    }\n",
       "\n",
       "    .dataframe thead th {\n",
       "        text-align: right;\n",
       "    }\n",
       "</style>\n",
       "<table border=\"1\" class=\"dataframe\">\n",
       "  <thead>\n",
       "    <tr style=\"text-align: right;\">\n",
       "      <th></th>\n",
       "      <th>bsfn</th>\n",
       "      <th>b_momrcntyfips</th>\n",
       "      <th>b_momrcountyl</th>\n",
       "      <th>b_momrstatefips</th>\n",
       "    </tr>\n",
       "  </thead>\n",
       "  <tbody>\n",
       "    <tr>\n",
       "      <td>547</td>\n",
       "      <td>2018075748R</td>\n",
       "      <td>130</td>\n",
       "      <td>KETCHIKAN GATEWAY</td>\n",
       "      <td>AK</td>\n",
       "    </tr>\n",
       "    <tr>\n",
       "      <td>1016</td>\n",
       "      <td>2017901464O</td>\n",
       "      <td>999</td>\n",
       "      <td>CLARK</td>\n",
       "      <td>WA</td>\n",
       "    </tr>\n",
       "    <tr>\n",
       "      <td>1082</td>\n",
       "      <td>2017902337O</td>\n",
       "      <td>999</td>\n",
       "      <td>STEVENS</td>\n",
       "      <td>WA</td>\n",
       "    </tr>\n",
       "    <tr>\n",
       "      <td>1083</td>\n",
       "      <td>2017902336O</td>\n",
       "      <td>999</td>\n",
       "      <td>SNOHOMISH</td>\n",
       "      <td>WA</td>\n",
       "    </tr>\n",
       "    <tr>\n",
       "      <td>1084</td>\n",
       "      <td>2017902338O</td>\n",
       "      <td>999</td>\n",
       "      <td>CLARK</td>\n",
       "      <td>WA</td>\n",
       "    </tr>\n",
       "  </tbody>\n",
       "</table>\n",
       "</div>"
      ],
      "text/plain": [
       "             bsfn  b_momrcntyfips      b_momrcountyl b_momrstatefips\n",
       "547   2018075748R             130  KETCHIKAN GATEWAY              AK\n",
       "1016  2017901464O             999              CLARK              WA\n",
       "1082  2017902337O             999            STEVENS              WA\n",
       "1083  2017902336O             999          SNOHOMISH              WA\n",
       "1084  2017902338O             999              CLARK              WA"
      ]
     },
     "execution_count": 67,
     "metadata": {},
     "output_type": "execute_result"
    }
   ],
   "source": [
    "brcntyerrors = birlinkvars[~chkbrcounty][['bsfn','b_momrcntyfips', 'b_momrcountyl','b_momrstatefips']]\n",
    "\n",
    "brcntyerrors.head()"
   ]
  },
  {
   "cell_type": "code",
   "execution_count": 68,
   "metadata": {},
   "outputs": [],
   "source": [
    "#Create dictionary of Washington State county names and county FIPS codes \n",
    "\n",
    "counties = {'ADAMS':1,\n",
    "'ASOTIN':3,\n",
    "'BENTON':5,\n",
    "'CHELAN':7,\n",
    "'CLALLAM':9,\n",
    "'CLARK':11,\n",
    "'COLUMBIA':13,\n",
    "'COWLITZ':15,\n",
    "'DOUGLAS':17,\n",
    "'FERRY':19,\n",
    "'FRANKLIN':21,\n",
    "'GARFIELD':23,\n",
    "'GRANT':25,\n",
    "'GRAYS HARBOR':27,\n",
    "'ISLAND':29,\n",
    "'JEFFERSON':31,\n",
    "'KING':33,\n",
    "'KITSAP':35,\n",
    "'KITTITAS':37,\n",
    "'KLICKITAT':39,\n",
    "'LEWIS':41,\n",
    "'LINCOLN':43,\n",
    "'MASON':45,\n",
    "'OKANOGAN':47,\n",
    "'PACIFIC':49,\n",
    "'PEND OREILLE':51,\n",
    "'PIERCE':53,\n",
    "'SAN JUAN':55,\n",
    "'SKAGIT':57,\n",
    "'SKAMANIA':59,\n",
    "'SNOHOMISH':61,\n",
    "'SPOKANE':63,\n",
    "'STEVENS':65,\n",
    "'THURSTON':67,\n",
    "'WAHKIAKUM':69,\n",
    "'WALLA WALLA':71,\n",
    "'WHATCOM':73,\n",
    "'WHITMAN':75,\n",
    "'YAKIMA':77\n",
    "}\n"
   ]
  },
  {
   "cell_type": "code",
   "execution_count": 69,
   "metadata": {},
   "outputs": [],
   "source": [
    "birlinkvars['b_momrcntyfips']=birlinkvars['b_momrcountyl'].map(counties)"
   ]
  },
  {
   "cell_type": "code",
   "execution_count": 70,
   "metadata": {},
   "outputs": [
    {
     "data": {
      "text/plain": [
       "33.0    49609\n",
       "53.0    22756\n",
       "61.0    19631\n",
       "63.0    11616\n",
       "11.0    10998\n",
       "77.0     7476\n",
       "67.0     6176\n",
       "35.0     5972\n",
       "5.0      5119\n",
       "73.0     4325\n",
       "21.0     3087\n",
       "25.0     2939\n",
       "57.0     2817\n",
       "15.0     2528\n",
       "NaN      2318\n",
       "29.0     1813\n",
       "41.0     1766\n",
       "7.0      1703\n",
       "27.0     1455\n",
       "45.0     1277\n",
       "9.0      1259\n",
       "71.0     1217\n",
       "17.0     1048\n",
       "47.0      975\n",
       "65.0      862\n",
       "37.0      829\n",
       "75.0      780\n",
       "1.0       776\n",
       "3.0       439\n",
       "39.0      434\n",
       "31.0      354\n",
       "49.0      353\n",
       "51.0      234\n",
       "43.0      217\n",
       "13.0      215\n",
       "59.0      195\n",
       "55.0      170\n",
       "19.0      135\n",
       "69.0       63\n",
       "23.0       48\n",
       "Name: b_momrcntyfips, dtype: int64"
      ]
     },
     "execution_count": 70,
     "metadata": {},
     "output_type": "execute_result"
    }
   ],
   "source": [
    "birlinkvars['b_momrcntyfips'].value_counts(dropna=False)"
   ]
  },
  {
   "cell_type": "code",
   "execution_count": 71,
   "metadata": {},
   "outputs": [],
   "source": [
    "cntyfips = birlinkvars['b_momrcountyl'].map(counties)\n",
    "birlinkvars[\"b_momrcntyfips\"].fillna(cntyfips, inplace=True)"
   ]
  },
  {
   "cell_type": "code",
   "execution_count": 43,
   "metadata": {},
   "outputs": [
    {
     "data": {
      "text/plain": [
       "33.0    49609\n",
       "53.0    22756\n",
       "61.0    19631\n",
       "63.0    11616\n",
       "11.0    10998\n",
       "77.0     7476\n",
       "67.0     6176\n",
       "35.0     5972\n",
       "5.0      5119\n",
       "73.0     4325\n",
       "21.0     3087\n",
       "25.0     2939\n",
       "57.0     2817\n",
       "15.0     2528\n",
       "NaN      2318\n",
       "29.0     1813\n",
       "41.0     1766\n",
       "7.0      1703\n",
       "27.0     1455\n",
       "45.0     1277\n",
       "9.0      1259\n",
       "71.0     1217\n",
       "17.0     1048\n",
       "47.0      975\n",
       "65.0      862\n",
       "37.0      829\n",
       "75.0      780\n",
       "1.0       776\n",
       "3.0       439\n",
       "39.0      434\n",
       "31.0      354\n",
       "49.0      353\n",
       "51.0      234\n",
       "43.0      217\n",
       "13.0      215\n",
       "59.0      195\n",
       "55.0      170\n",
       "19.0      135\n",
       "69.0       63\n",
       "23.0       48\n",
       "Name: b_momrcntyfips, dtype: int64"
      ]
     },
     "execution_count": 43,
     "metadata": {},
     "output_type": "execute_result"
    }
   ],
   "source": [
    "birlinkvars['b_momrcntyfips'].value_counts(dropna=False)"
   ]
  },
  {
   "cell_type": "code",
   "execution_count": 72,
   "metadata": {},
   "outputs": [
    {
     "data": {
      "text/html": [
       "<div>\n",
       "<style scoped>\n",
       "    .dataframe tbody tr th:only-of-type {\n",
       "        vertical-align: middle;\n",
       "    }\n",
       "\n",
       "    .dataframe tbody tr th {\n",
       "        vertical-align: top;\n",
       "    }\n",
       "\n",
       "    .dataframe thead th {\n",
       "        text-align: right;\n",
       "    }\n",
       "</style>\n",
       "<table border=\"1\" class=\"dataframe\">\n",
       "  <thead>\n",
       "    <tr style=\"text-align: right;\">\n",
       "      <th></th>\n",
       "      <th>b_momrstatefips</th>\n",
       "      <th>b_momrcntyfips</th>\n",
       "      <th>b_momrcountyl</th>\n",
       "    </tr>\n",
       "  </thead>\n",
       "  <tbody>\n",
       "    <tr>\n",
       "      <td>1094</td>\n",
       "      <td>WA</td>\n",
       "      <td>NaN</td>\n",
       "      <td></td>\n",
       "    </tr>\n",
       "    <tr>\n",
       "      <td>1095</td>\n",
       "      <td>WA</td>\n",
       "      <td>NaN</td>\n",
       "      <td></td>\n",
       "    </tr>\n",
       "    <tr>\n",
       "      <td>2739</td>\n",
       "      <td>WA</td>\n",
       "      <td>NaN</td>\n",
       "      <td></td>\n",
       "    </tr>\n",
       "    <tr>\n",
       "      <td>7649</td>\n",
       "      <td>WA</td>\n",
       "      <td>NaN</td>\n",
       "      <td></td>\n",
       "    </tr>\n",
       "    <tr>\n",
       "      <td>10849</td>\n",
       "      <td>WA</td>\n",
       "      <td>NaN</td>\n",
       "      <td>UNKNOWN</td>\n",
       "    </tr>\n",
       "    <tr>\n",
       "      <td>19413</td>\n",
       "      <td>WA</td>\n",
       "      <td>NaN</td>\n",
       "      <td>UNKNOWN</td>\n",
       "    </tr>\n",
       "    <tr>\n",
       "      <td>20850</td>\n",
       "      <td>WA</td>\n",
       "      <td>NaN</td>\n",
       "      <td>UNKNOWN</td>\n",
       "    </tr>\n",
       "    <tr>\n",
       "      <td>21527</td>\n",
       "      <td>WA</td>\n",
       "      <td>NaN</td>\n",
       "      <td>UNKNOWN</td>\n",
       "    </tr>\n",
       "    <tr>\n",
       "      <td>29243</td>\n",
       "      <td>WA</td>\n",
       "      <td>NaN</td>\n",
       "      <td>UNKNOWN</td>\n",
       "    </tr>\n",
       "    <tr>\n",
       "      <td>29909</td>\n",
       "      <td>WA</td>\n",
       "      <td>NaN</td>\n",
       "      <td>UNKNOWN</td>\n",
       "    </tr>\n",
       "    <tr>\n",
       "      <td>30692</td>\n",
       "      <td>WA</td>\n",
       "      <td>NaN</td>\n",
       "      <td></td>\n",
       "    </tr>\n",
       "    <tr>\n",
       "      <td>30693</td>\n",
       "      <td>WA</td>\n",
       "      <td>NaN</td>\n",
       "      <td></td>\n",
       "    </tr>\n",
       "    <tr>\n",
       "      <td>30765</td>\n",
       "      <td>WA</td>\n",
       "      <td>NaN</td>\n",
       "      <td></td>\n",
       "    </tr>\n",
       "    <tr>\n",
       "      <td>30792</td>\n",
       "      <td>WA</td>\n",
       "      <td>NaN</td>\n",
       "      <td></td>\n",
       "    </tr>\n",
       "    <tr>\n",
       "      <td>31666</td>\n",
       "      <td>WA</td>\n",
       "      <td>NaN</td>\n",
       "      <td></td>\n",
       "    </tr>\n",
       "    <tr>\n",
       "      <td>31727</td>\n",
       "      <td>WA</td>\n",
       "      <td>NaN</td>\n",
       "      <td>UNKNOWN</td>\n",
       "    </tr>\n",
       "    <tr>\n",
       "      <td>32259</td>\n",
       "      <td>WA</td>\n",
       "      <td>NaN</td>\n",
       "      <td>UNKNOWN</td>\n",
       "    </tr>\n",
       "    <tr>\n",
       "      <td>32584</td>\n",
       "      <td>WA</td>\n",
       "      <td>NaN</td>\n",
       "      <td></td>\n",
       "    </tr>\n",
       "    <tr>\n",
       "      <td>45112</td>\n",
       "      <td>WA</td>\n",
       "      <td>NaN</td>\n",
       "      <td>UNKNOWN</td>\n",
       "    </tr>\n",
       "    <tr>\n",
       "      <td>48357</td>\n",
       "      <td>WA</td>\n",
       "      <td>NaN</td>\n",
       "      <td>UNKNOWN</td>\n",
       "    </tr>\n",
       "    <tr>\n",
       "      <td>54864</td>\n",
       "      <td>WA</td>\n",
       "      <td>NaN</td>\n",
       "      <td>UNKNOWN</td>\n",
       "    </tr>\n",
       "    <tr>\n",
       "      <td>56102</td>\n",
       "      <td>WA</td>\n",
       "      <td>NaN</td>\n",
       "      <td></td>\n",
       "    </tr>\n",
       "    <tr>\n",
       "      <td>57553</td>\n",
       "      <td>WA</td>\n",
       "      <td>NaN</td>\n",
       "      <td></td>\n",
       "    </tr>\n",
       "    <tr>\n",
       "      <td>58743</td>\n",
       "      <td>WA</td>\n",
       "      <td>NaN</td>\n",
       "      <td>UNKNOWN</td>\n",
       "    </tr>\n",
       "    <tr>\n",
       "      <td>60251</td>\n",
       "      <td>WA</td>\n",
       "      <td>NaN</td>\n",
       "      <td>UNKNOWN</td>\n",
       "    </tr>\n",
       "    <tr>\n",
       "      <td>64550</td>\n",
       "      <td>WA</td>\n",
       "      <td>NaN</td>\n",
       "      <td>UNKNOWN</td>\n",
       "    </tr>\n",
       "    <tr>\n",
       "      <td>64551</td>\n",
       "      <td>WA</td>\n",
       "      <td>NaN</td>\n",
       "      <td>UNKNOWN</td>\n",
       "    </tr>\n",
       "    <tr>\n",
       "      <td>65089</td>\n",
       "      <td>WA</td>\n",
       "      <td>NaN</td>\n",
       "      <td></td>\n",
       "    </tr>\n",
       "    <tr>\n",
       "      <td>67549</td>\n",
       "      <td>WA</td>\n",
       "      <td>NaN</td>\n",
       "      <td>UNKNOWN</td>\n",
       "    </tr>\n",
       "    <tr>\n",
       "      <td>67910</td>\n",
       "      <td>WA</td>\n",
       "      <td>NaN</td>\n",
       "      <td>UNKNOWN</td>\n",
       "    </tr>\n",
       "    <tr>\n",
       "      <td>68726</td>\n",
       "      <td>WA</td>\n",
       "      <td>NaN</td>\n",
       "      <td>UNKNOWN</td>\n",
       "    </tr>\n",
       "    <tr>\n",
       "      <td>68766</td>\n",
       "      <td>WA</td>\n",
       "      <td>NaN</td>\n",
       "      <td></td>\n",
       "    </tr>\n",
       "    <tr>\n",
       "      <td>68917</td>\n",
       "      <td>WA</td>\n",
       "      <td>NaN</td>\n",
       "      <td>UNKNOWN</td>\n",
       "    </tr>\n",
       "    <tr>\n",
       "      <td>69074</td>\n",
       "      <td>WA</td>\n",
       "      <td>NaN</td>\n",
       "      <td></td>\n",
       "    </tr>\n",
       "    <tr>\n",
       "      <td>69373</td>\n",
       "      <td>WA</td>\n",
       "      <td>NaN</td>\n",
       "      <td></td>\n",
       "    </tr>\n",
       "    <tr>\n",
       "      <td>69569</td>\n",
       "      <td>WA</td>\n",
       "      <td>NaN</td>\n",
       "      <td>UNKNOWN</td>\n",
       "    </tr>\n",
       "    <tr>\n",
       "      <td>69885</td>\n",
       "      <td>WA</td>\n",
       "      <td>NaN</td>\n",
       "      <td></td>\n",
       "    </tr>\n",
       "    <tr>\n",
       "      <td>69886</td>\n",
       "      <td>WA</td>\n",
       "      <td>NaN</td>\n",
       "      <td></td>\n",
       "    </tr>\n",
       "    <tr>\n",
       "      <td>69944</td>\n",
       "      <td>WA</td>\n",
       "      <td>NaN</td>\n",
       "      <td>UNKNOWN</td>\n",
       "    </tr>\n",
       "    <tr>\n",
       "      <td>70987</td>\n",
       "      <td>WA</td>\n",
       "      <td>NaN</td>\n",
       "      <td>UNKNOWN</td>\n",
       "    </tr>\n",
       "    <tr>\n",
       "      <td>71014</td>\n",
       "      <td>WA</td>\n",
       "      <td>NaN</td>\n",
       "      <td>UNKNOWN</td>\n",
       "    </tr>\n",
       "    <tr>\n",
       "      <td>71143</td>\n",
       "      <td>WA</td>\n",
       "      <td>NaN</td>\n",
       "      <td>UNKNOWN</td>\n",
       "    </tr>\n",
       "    <tr>\n",
       "      <td>71363</td>\n",
       "      <td>WA</td>\n",
       "      <td>NaN</td>\n",
       "      <td>UNKNOWN</td>\n",
       "    </tr>\n",
       "    <tr>\n",
       "      <td>71600</td>\n",
       "      <td>WA</td>\n",
       "      <td>NaN</td>\n",
       "      <td></td>\n",
       "    </tr>\n",
       "    <tr>\n",
       "      <td>73202</td>\n",
       "      <td>WA</td>\n",
       "      <td>NaN</td>\n",
       "      <td>UNKNOWN</td>\n",
       "    </tr>\n",
       "    <tr>\n",
       "      <td>76351</td>\n",
       "      <td>WA</td>\n",
       "      <td>NaN</td>\n",
       "      <td>UNKNOWN</td>\n",
       "    </tr>\n",
       "    <tr>\n",
       "      <td>82659</td>\n",
       "      <td>WA</td>\n",
       "      <td>NaN</td>\n",
       "      <td>UNKNOWN</td>\n",
       "    </tr>\n",
       "    <tr>\n",
       "      <td>85221</td>\n",
       "      <td>WA</td>\n",
       "      <td>NaN</td>\n",
       "      <td>UNKNOWN</td>\n",
       "    </tr>\n",
       "    <tr>\n",
       "      <td>92823</td>\n",
       "      <td>WA</td>\n",
       "      <td>NaN</td>\n",
       "      <td>UNKNOWN</td>\n",
       "    </tr>\n",
       "    <tr>\n",
       "      <td>94171</td>\n",
       "      <td>WA</td>\n",
       "      <td>NaN</td>\n",
       "      <td>UNKNOWN</td>\n",
       "    </tr>\n",
       "    <tr>\n",
       "      <td>94912</td>\n",
       "      <td>WA</td>\n",
       "      <td>NaN</td>\n",
       "      <td>UNKNOWN</td>\n",
       "    </tr>\n",
       "    <tr>\n",
       "      <td>97149</td>\n",
       "      <td>WA</td>\n",
       "      <td>NaN</td>\n",
       "      <td>UNKNOWN</td>\n",
       "    </tr>\n",
       "    <tr>\n",
       "      <td>102321</td>\n",
       "      <td>WA</td>\n",
       "      <td>NaN</td>\n",
       "      <td>UNKNOWN</td>\n",
       "    </tr>\n",
       "    <tr>\n",
       "      <td>105390</td>\n",
       "      <td>WA</td>\n",
       "      <td>NaN</td>\n",
       "      <td></td>\n",
       "    </tr>\n",
       "    <tr>\n",
       "      <td>106062</td>\n",
       "      <td>WA</td>\n",
       "      <td>NaN</td>\n",
       "      <td></td>\n",
       "    </tr>\n",
       "    <tr>\n",
       "      <td>106865</td>\n",
       "      <td>WA</td>\n",
       "      <td>NaN</td>\n",
       "      <td></td>\n",
       "    </tr>\n",
       "    <tr>\n",
       "      <td>106872</td>\n",
       "      <td>WA</td>\n",
       "      <td>NaN</td>\n",
       "      <td></td>\n",
       "    </tr>\n",
       "    <tr>\n",
       "      <td>107140</td>\n",
       "      <td>WA</td>\n",
       "      <td>NaN</td>\n",
       "      <td></td>\n",
       "    </tr>\n",
       "    <tr>\n",
       "      <td>107400</td>\n",
       "      <td>WA</td>\n",
       "      <td>NaN</td>\n",
       "      <td>UNKNOWN</td>\n",
       "    </tr>\n",
       "    <tr>\n",
       "      <td>107469</td>\n",
       "      <td>WA</td>\n",
       "      <td>NaN</td>\n",
       "      <td>UNKNOWN</td>\n",
       "    </tr>\n",
       "    <tr>\n",
       "      <td>107556</td>\n",
       "      <td>WA</td>\n",
       "      <td>NaN</td>\n",
       "      <td></td>\n",
       "    </tr>\n",
       "    <tr>\n",
       "      <td>107690</td>\n",
       "      <td>WA</td>\n",
       "      <td>NaN</td>\n",
       "      <td></td>\n",
       "    </tr>\n",
       "    <tr>\n",
       "      <td>118553</td>\n",
       "      <td>WA</td>\n",
       "      <td>NaN</td>\n",
       "      <td>UNKNOWN</td>\n",
       "    </tr>\n",
       "    <tr>\n",
       "      <td>118634</td>\n",
       "      <td>WA</td>\n",
       "      <td>NaN</td>\n",
       "      <td>UNKNOWN</td>\n",
       "    </tr>\n",
       "    <tr>\n",
       "      <td>120356</td>\n",
       "      <td>WA</td>\n",
       "      <td>NaN</td>\n",
       "      <td>UNKNOWN</td>\n",
       "    </tr>\n",
       "    <tr>\n",
       "      <td>120894</td>\n",
       "      <td>WA</td>\n",
       "      <td>NaN</td>\n",
       "      <td>UNKNOWN</td>\n",
       "    </tr>\n",
       "    <tr>\n",
       "      <td>124647</td>\n",
       "      <td>WA</td>\n",
       "      <td>NaN</td>\n",
       "      <td>UNKNOWN</td>\n",
       "    </tr>\n",
       "    <tr>\n",
       "      <td>126059</td>\n",
       "      <td>WA</td>\n",
       "      <td>NaN</td>\n",
       "      <td>UNKNOWN</td>\n",
       "    </tr>\n",
       "    <tr>\n",
       "      <td>126067</td>\n",
       "      <td>WA</td>\n",
       "      <td>NaN</td>\n",
       "      <td>UNKNOWN</td>\n",
       "    </tr>\n",
       "    <tr>\n",
       "      <td>126068</td>\n",
       "      <td>WA</td>\n",
       "      <td>NaN</td>\n",
       "      <td>UNKNOWN</td>\n",
       "    </tr>\n",
       "    <tr>\n",
       "      <td>126743</td>\n",
       "      <td>WA</td>\n",
       "      <td>NaN</td>\n",
       "      <td></td>\n",
       "    </tr>\n",
       "    <tr>\n",
       "      <td>129088</td>\n",
       "      <td>WA</td>\n",
       "      <td>NaN</td>\n",
       "      <td>UNKNOWN</td>\n",
       "    </tr>\n",
       "    <tr>\n",
       "      <td>142643</td>\n",
       "      <td>WA</td>\n",
       "      <td>NaN</td>\n",
       "      <td></td>\n",
       "    </tr>\n",
       "    <tr>\n",
       "      <td>144587</td>\n",
       "      <td>WA</td>\n",
       "      <td>NaN</td>\n",
       "      <td>UNKNOWN</td>\n",
       "    </tr>\n",
       "    <tr>\n",
       "      <td>145777</td>\n",
       "      <td>WA</td>\n",
       "      <td>NaN</td>\n",
       "      <td></td>\n",
       "    </tr>\n",
       "    <tr>\n",
       "      <td>146473</td>\n",
       "      <td>WA</td>\n",
       "      <td>NaN</td>\n",
       "      <td>UNKNOWN</td>\n",
       "    </tr>\n",
       "    <tr>\n",
       "      <td>146718</td>\n",
       "      <td>WA</td>\n",
       "      <td>NaN</td>\n",
       "      <td></td>\n",
       "    </tr>\n",
       "    <tr>\n",
       "      <td>146772</td>\n",
       "      <td>WA</td>\n",
       "      <td>NaN</td>\n",
       "      <td>UNKNOWN</td>\n",
       "    </tr>\n",
       "    <tr>\n",
       "      <td>146788</td>\n",
       "      <td>WA</td>\n",
       "      <td>NaN</td>\n",
       "      <td>UNKNOWN</td>\n",
       "    </tr>\n",
       "    <tr>\n",
       "      <td>146791</td>\n",
       "      <td>WA</td>\n",
       "      <td>NaN</td>\n",
       "      <td></td>\n",
       "    </tr>\n",
       "    <tr>\n",
       "      <td>146851</td>\n",
       "      <td>WA</td>\n",
       "      <td>NaN</td>\n",
       "      <td>UNKNOWN</td>\n",
       "    </tr>\n",
       "    <tr>\n",
       "      <td>147004</td>\n",
       "      <td>WA</td>\n",
       "      <td>NaN</td>\n",
       "      <td>UNKNOWN</td>\n",
       "    </tr>\n",
       "    <tr>\n",
       "      <td>147114</td>\n",
       "      <td>WA</td>\n",
       "      <td>NaN</td>\n",
       "      <td>UNKNOWN</td>\n",
       "    </tr>\n",
       "    <tr>\n",
       "      <td>148728</td>\n",
       "      <td>WA</td>\n",
       "      <td>NaN</td>\n",
       "      <td>UNKNOWN</td>\n",
       "    </tr>\n",
       "    <tr>\n",
       "      <td>152708</td>\n",
       "      <td>WA</td>\n",
       "      <td>NaN</td>\n",
       "      <td>UNKNOWN</td>\n",
       "    </tr>\n",
       "    <tr>\n",
       "      <td>161085</td>\n",
       "      <td>WA</td>\n",
       "      <td>NaN</td>\n",
       "      <td>UNKNOWN</td>\n",
       "    </tr>\n",
       "    <tr>\n",
       "      <td>163264</td>\n",
       "      <td>WA</td>\n",
       "      <td>NaN</td>\n",
       "      <td></td>\n",
       "    </tr>\n",
       "    <tr>\n",
       "      <td>163340</td>\n",
       "      <td>WA</td>\n",
       "      <td>NaN</td>\n",
       "      <td>UNKNOWN</td>\n",
       "    </tr>\n",
       "    <tr>\n",
       "      <td>163685</td>\n",
       "      <td>WA</td>\n",
       "      <td>NaN</td>\n",
       "      <td></td>\n",
       "    </tr>\n",
       "    <tr>\n",
       "      <td>164965</td>\n",
       "      <td>WA</td>\n",
       "      <td>NaN</td>\n",
       "      <td>UNKNOWN</td>\n",
       "    </tr>\n",
       "    <tr>\n",
       "      <td>165572</td>\n",
       "      <td>WA</td>\n",
       "      <td>NaN</td>\n",
       "      <td>UNKNOWN</td>\n",
       "    </tr>\n",
       "    <tr>\n",
       "      <td>166065</td>\n",
       "      <td>WA</td>\n",
       "      <td>NaN</td>\n",
       "      <td></td>\n",
       "    </tr>\n",
       "    <tr>\n",
       "      <td>166078</td>\n",
       "      <td>WA</td>\n",
       "      <td>NaN</td>\n",
       "      <td></td>\n",
       "    </tr>\n",
       "    <tr>\n",
       "      <td>172127</td>\n",
       "      <td>WA</td>\n",
       "      <td>NaN</td>\n",
       "      <td>UNKNOWN</td>\n",
       "    </tr>\n",
       "  </tbody>\n",
       "</table>\n",
       "</div>"
      ],
      "text/plain": [
       "       b_momrstatefips  b_momrcntyfips b_momrcountyl\n",
       "1094                WA             NaN              \n",
       "1095                WA             NaN              \n",
       "2739                WA             NaN              \n",
       "7649                WA             NaN              \n",
       "10849               WA             NaN       UNKNOWN\n",
       "19413               WA             NaN       UNKNOWN\n",
       "20850               WA             NaN       UNKNOWN\n",
       "21527               WA             NaN       UNKNOWN\n",
       "29243               WA             NaN       UNKNOWN\n",
       "29909               WA             NaN       UNKNOWN\n",
       "30692               WA             NaN              \n",
       "30693               WA             NaN              \n",
       "30765               WA             NaN              \n",
       "30792               WA             NaN              \n",
       "31666               WA             NaN              \n",
       "31727               WA             NaN       UNKNOWN\n",
       "32259               WA             NaN       UNKNOWN\n",
       "32584               WA             NaN              \n",
       "45112               WA             NaN       UNKNOWN\n",
       "48357               WA             NaN       UNKNOWN\n",
       "54864               WA             NaN       UNKNOWN\n",
       "56102               WA             NaN              \n",
       "57553               WA             NaN              \n",
       "58743               WA             NaN       UNKNOWN\n",
       "60251               WA             NaN       UNKNOWN\n",
       "64550               WA             NaN       UNKNOWN\n",
       "64551               WA             NaN       UNKNOWN\n",
       "65089               WA             NaN              \n",
       "67549               WA             NaN       UNKNOWN\n",
       "67910               WA             NaN       UNKNOWN\n",
       "68726               WA             NaN       UNKNOWN\n",
       "68766               WA             NaN              \n",
       "68917               WA             NaN       UNKNOWN\n",
       "69074               WA             NaN              \n",
       "69373               WA             NaN              \n",
       "69569               WA             NaN       UNKNOWN\n",
       "69885               WA             NaN              \n",
       "69886               WA             NaN              \n",
       "69944               WA             NaN       UNKNOWN\n",
       "70987               WA             NaN       UNKNOWN\n",
       "71014               WA             NaN       UNKNOWN\n",
       "71143               WA             NaN       UNKNOWN\n",
       "71363               WA             NaN       UNKNOWN\n",
       "71600               WA             NaN              \n",
       "73202               WA             NaN       UNKNOWN\n",
       "76351               WA             NaN       UNKNOWN\n",
       "82659               WA             NaN       UNKNOWN\n",
       "85221               WA             NaN       UNKNOWN\n",
       "92823               WA             NaN       UNKNOWN\n",
       "94171               WA             NaN       UNKNOWN\n",
       "94912               WA             NaN       UNKNOWN\n",
       "97149               WA             NaN       UNKNOWN\n",
       "102321              WA             NaN       UNKNOWN\n",
       "105390              WA             NaN              \n",
       "106062              WA             NaN              \n",
       "106865              WA             NaN              \n",
       "106872              WA             NaN              \n",
       "107140              WA             NaN              \n",
       "107400              WA             NaN       UNKNOWN\n",
       "107469              WA             NaN       UNKNOWN\n",
       "107556              WA             NaN              \n",
       "107690              WA             NaN              \n",
       "118553              WA             NaN       UNKNOWN\n",
       "118634              WA             NaN       UNKNOWN\n",
       "120356              WA             NaN       UNKNOWN\n",
       "120894              WA             NaN       UNKNOWN\n",
       "124647              WA             NaN       UNKNOWN\n",
       "126059              WA             NaN       UNKNOWN\n",
       "126067              WA             NaN       UNKNOWN\n",
       "126068              WA             NaN       UNKNOWN\n",
       "126743              WA             NaN              \n",
       "129088              WA             NaN       UNKNOWN\n",
       "142643              WA             NaN              \n",
       "144587              WA             NaN       UNKNOWN\n",
       "145777              WA             NaN              \n",
       "146473              WA             NaN       UNKNOWN\n",
       "146718              WA             NaN              \n",
       "146772              WA             NaN       UNKNOWN\n",
       "146788              WA             NaN       UNKNOWN\n",
       "146791              WA             NaN              \n",
       "146851              WA             NaN       UNKNOWN\n",
       "147004              WA             NaN       UNKNOWN\n",
       "147114              WA             NaN       UNKNOWN\n",
       "148728              WA             NaN       UNKNOWN\n",
       "152708              WA             NaN       UNKNOWN\n",
       "161085              WA             NaN       UNKNOWN\n",
       "163264              WA             NaN              \n",
       "163340              WA             NaN       UNKNOWN\n",
       "163685              WA             NaN              \n",
       "164965              WA             NaN       UNKNOWN\n",
       "165572              WA             NaN       UNKNOWN\n",
       "166065              WA             NaN              \n",
       "166078              WA             NaN              \n",
       "172127              WA             NaN       UNKNOWN"
      ]
     },
     "execution_count": 72,
     "metadata": {},
     "output_type": "execute_result"
    }
   ],
   "source": [
    "birlinkvars[(birlinkvars['b_momrcntyfips'].isnull()) & (birlinkvars['b_momrstatefips']==\"WA\")][['b_momrstatefips', 'b_momrcntyfips', 'b_momrcountyl']]"
   ]
  },
  {
   "cell_type": "code",
   "execution_count": 73,
   "metadata": {},
   "outputs": [
    {
     "data": {
      "text/plain": [
       "bsfn                   0\n",
       "bcerttype              0\n",
       "bfname                16\n",
       "bmname             17231\n",
       "blname                11\n",
       "bmom_fname           146\n",
       "bmom_mname         28431\n",
       "bmom_lname           788\n",
       "bsex                   0\n",
       "bdob                   0\n",
       "bdobm                  0\n",
       "bdobd                  0\n",
       "bdoby                  0\n",
       "bplstatefips           0\n",
       "b_momrcity             0\n",
       "b_momrcityfips         0\n",
       "b_momrcountyl          0\n",
       "b_momrcntyfips      2318\n",
       "b_momrstatefips        0\n",
       "b_momrzip              0\n",
       "dtype: int64"
      ]
     },
     "execution_count": 73,
     "metadata": {},
     "output_type": "execute_result"
    }
   ],
   "source": [
    "# checking for all missing variables\n",
    "birlinkvars.isna().sum()"
   ]
  },
  {
   "cell_type": "markdown",
   "metadata": {},
   "source": [
    "There is no **easy** way to find mom's county of residence (literal or code).  Will leave these in data for now.\n",
    "\n",
    "Once again, middle names for baby and mother are missing.  Interestingly mother's last name is missing for 788 of the almost 176,000 birth records.  For now, I will not do anything with these until I try to link death and birth records."
   ]
  },
  {
   "cell_type": "markdown",
   "metadata": {},
   "source": [
    "### c. Hospital discharge data 2016-2018"
   ]
  },
  {
   "cell_type": "markdown",
   "metadata": {},
   "source": [
    "The hospital discharge data set is formally known as Comprehensive Hospital Abstract Reporting System (CHARS). The dataset contains hospital discharge information. Each time an individual is discharged from a hospital after an inpatient or outpatient visit a record is created.  It is possible for an individual to be present multiple times in the data if they have had multiple hospital visits."
   ]
  },
  {
   "cell_type": "code",
   "execution_count": 10,
   "metadata": {},
   "outputs": [],
   "source": [
    "# Read in and process 2016 CHARS data\n",
    "\n",
    "chars16 = pd.read_sas(r\"...\\full2016.sas7bdat\", encoding = \"utf-8\")"
   ]
  },
  {
   "cell_type": "code",
   "execution_count": 11,
   "metadata": {},
   "outputs": [
    {
     "data": {
      "text/plain": [
       "(649996, 108)"
      ]
     },
     "execution_count": 11,
     "metadata": {},
     "output_type": "execute_result"
    }
   ],
   "source": [
    "chars16.shape"
   ]
  },
  {
   "cell_type": "code",
   "execution_count": 12,
   "metadata": {},
   "outputs": [
    {
     "data": {
      "text/plain": [
       "SEQ_NO                       object\n",
       "REC_KEY                     float64\n",
       "STAYTYPE                     object\n",
       "HOSPITAL                     object\n",
       "LINENO                      float64\n",
       "ZIPCODE                      object\n",
       "ZIPPLUS4                     object\n",
       "STATERES                     object\n",
       "COUNTYRES                    object\n",
       "COUNTRY                      object\n",
       "AGE                         float64\n",
       "DOB                  datetime64[ns]\n",
       "SEX                          object\n",
       "ADM_DATE             datetime64[ns]\n",
       "ADM_HR                       object\n",
       "DIS_DATE             datetime64[ns]\n",
       "DIS_HR                       object\n",
       "LENSTAYD                    float64\n",
       "LENSTAYH                    float64\n",
       "ADM_TYPE                     object\n",
       "ADM_SRC                      object\n",
       "STATUS                       object\n",
       "CHARGES                     float64\n",
       "PAYER1                       object\n",
       "PAYER2                       object\n",
       "PAYER3                       object\n",
       "DIAGCNT                     float64\n",
       "DIAG1                        object\n",
       "DIAG2                        object\n",
       "DIAG3                        object\n",
       "DIAG4                        object\n",
       "DIAG5                        object\n",
       "DIAG6                        object\n",
       "DIAG7                        object\n",
       "DIAG8                        object\n",
       "DIAG9                        object\n",
       "POA1                         object\n",
       "POA2                         object\n",
       "POA3                         object\n",
       "POA4                         object\n",
       "POA5                         object\n",
       "POA6                         object\n",
       "POA7                         object\n",
       "POA8                         object\n",
       "POA9                         object\n",
       "PROCCNT                     float64\n",
       "PROC1                        object\n",
       "PROC2                        object\n",
       "PROC3                        object\n",
       "PROC4                        object\n",
       "PROC5                        object\n",
       "PROC6                        object\n",
       "PRDATE1              datetime64[ns]\n",
       "PRDATE2              datetime64[ns]\n",
       "PRDATE3              datetime64[ns]\n",
       "PRDATE4              datetime64[ns]\n",
       "PRDATE5              datetime64[ns]\n",
       "PRDATE6              datetime64[ns]\n",
       "PRDAY1                       object\n",
       "PRDAY2                       object\n",
       "PRDAY3                       object\n",
       "PRDAY4                       object\n",
       "PRDAY5                       object\n",
       "PRDAY6                       object\n",
       "IDATTEND                     object\n",
       "IDATT_S                      object\n",
       "IDOPERAT                     object\n",
       "IDOPER_S                     object\n",
       "IDOTHER1                     object\n",
       "IDOTH1_S                     object\n",
       "IDOTHER2                     object\n",
       "IDOTH2_S                     object\n",
       "DRG                          object\n",
       "MDC                          object\n",
       "AVG_LOS                     float64\n",
       "DRG_WT                      float64\n",
       "OUTLIER                      object\n",
       "EXCLUDE                      object\n",
       "DRG_FWD                      object\n",
       "MDC_FWD                      object\n",
       "ECODECNT                    float64\n",
       "ECODE1                       object\n",
       "POAE1                        object\n",
       "ECODECAL                     object\n",
       "PAT_REC                      object\n",
       "DRG2                         object\n",
       "DRG_WT2                     float64\n",
       "HISPANIC                     object\n",
       "RACE_WHT                     object\n",
       "RACE_BLK                     object\n",
       "RACE_AMI                     object\n",
       "RACE_ASI                     object\n",
       "RACE_HAW                     object\n",
       "LASTNAME                     object\n",
       "FIRSTNAME                    object\n",
       "MINAME                       object\n",
       "SSN                          object\n",
       "DRG_POA                      object\n",
       "MDC_POA                      object\n",
       "BILLTYPE                     object\n",
       "AWEEKEND                    float64\n",
       "AGE_MONTH                   float64\n",
       "ADMF_DATE            datetime64[ns]\n",
       "AGE_O                       float64\n",
       "LENSTAYD_O                  float64\n",
       "AWEEKEND_O                  float64\n",
       "AGE_MONTH_O                 float64\n",
       "DISCHARGERECORDID           float64\n",
       "dtype: object"
      ]
     },
     "execution_count": 12,
     "metadata": {},
     "output_type": "execute_result"
    }
   ],
   "source": [
    "pd.set_option('display.max_rows', 140)\n",
    "chars16.dtypes"
   ]
  },
  {
   "cell_type": "code",
   "execution_count": 14,
   "metadata": {},
   "outputs": [
    {
     "data": {
      "text/html": [
       "<div>\n",
       "<style scoped>\n",
       "    .dataframe tbody tr th:only-of-type {\n",
       "        vertical-align: middle;\n",
       "    }\n",
       "\n",
       "    .dataframe tbody tr th {\n",
       "        vertical-align: top;\n",
       "    }\n",
       "\n",
       "    .dataframe thead th {\n",
       "        text-align: right;\n",
       "    }\n",
       "</style>\n",
       "<table border=\"1\" class=\"dataframe\">\n",
       "  <thead>\n",
       "    <tr style=\"text-align: right;\">\n",
       "      <th>SEX</th>\n",
       "      <th>F</th>\n",
       "      <th>M</th>\n",
       "    </tr>\n",
       "    <tr>\n",
       "      <th>STATERES</th>\n",
       "      <th></th>\n",
       "      <th></th>\n",
       "    </tr>\n",
       "  </thead>\n",
       "  <tbody>\n",
       "    <tr>\n",
       "      <td>AE</td>\n",
       "      <td>5</td>\n",
       "      <td>1</td>\n",
       "    </tr>\n",
       "    <tr>\n",
       "      <td>AK</td>\n",
       "      <td>1148</td>\n",
       "      <td>1485</td>\n",
       "    </tr>\n",
       "    <tr>\n",
       "      <td>AL</td>\n",
       "      <td>14</td>\n",
       "      <td>16</td>\n",
       "    </tr>\n",
       "    <tr>\n",
       "      <td>AP</td>\n",
       "      <td>0</td>\n",
       "      <td>2</td>\n",
       "    </tr>\n",
       "    <tr>\n",
       "      <td>AR</td>\n",
       "      <td>14</td>\n",
       "      <td>18</td>\n",
       "    </tr>\n",
       "    <tr>\n",
       "      <td>AS</td>\n",
       "      <td>5</td>\n",
       "      <td>4</td>\n",
       "    </tr>\n",
       "    <tr>\n",
       "      <td>AZ</td>\n",
       "      <td>215</td>\n",
       "      <td>218</td>\n",
       "    </tr>\n",
       "    <tr>\n",
       "      <td>CA</td>\n",
       "      <td>618</td>\n",
       "      <td>696</td>\n",
       "    </tr>\n",
       "    <tr>\n",
       "      <td>CO</td>\n",
       "      <td>91</td>\n",
       "      <td>86</td>\n",
       "    </tr>\n",
       "    <tr>\n",
       "      <td>CT</td>\n",
       "      <td>13</td>\n",
       "      <td>13</td>\n",
       "    </tr>\n",
       "    <tr>\n",
       "      <td>DC</td>\n",
       "      <td>1</td>\n",
       "      <td>9</td>\n",
       "    </tr>\n",
       "    <tr>\n",
       "      <td>DE</td>\n",
       "      <td>5</td>\n",
       "      <td>7</td>\n",
       "    </tr>\n",
       "    <tr>\n",
       "      <td>FL</td>\n",
       "      <td>111</td>\n",
       "      <td>120</td>\n",
       "    </tr>\n",
       "    <tr>\n",
       "      <td>FM</td>\n",
       "      <td>1</td>\n",
       "      <td>0</td>\n",
       "    </tr>\n",
       "    <tr>\n",
       "      <td>GA</td>\n",
       "      <td>37</td>\n",
       "      <td>37</td>\n",
       "    </tr>\n",
       "    <tr>\n",
       "      <td>GU</td>\n",
       "      <td>2</td>\n",
       "      <td>4</td>\n",
       "    </tr>\n",
       "    <tr>\n",
       "      <td>HI</td>\n",
       "      <td>101</td>\n",
       "      <td>97</td>\n",
       "    </tr>\n",
       "    <tr>\n",
       "      <td>IA</td>\n",
       "      <td>11</td>\n",
       "      <td>24</td>\n",
       "    </tr>\n",
       "    <tr>\n",
       "      <td>ID</td>\n",
       "      <td>3102</td>\n",
       "      <td>2988</td>\n",
       "    </tr>\n",
       "    <tr>\n",
       "      <td>IL</td>\n",
       "      <td>60</td>\n",
       "      <td>65</td>\n",
       "    </tr>\n",
       "    <tr>\n",
       "      <td>IN</td>\n",
       "      <td>23</td>\n",
       "      <td>25</td>\n",
       "    </tr>\n",
       "    <tr>\n",
       "      <td>KS</td>\n",
       "      <td>14</td>\n",
       "      <td>31</td>\n",
       "    </tr>\n",
       "    <tr>\n",
       "      <td>KY</td>\n",
       "      <td>17</td>\n",
       "      <td>20</td>\n",
       "    </tr>\n",
       "    <tr>\n",
       "      <td>LA</td>\n",
       "      <td>19</td>\n",
       "      <td>13</td>\n",
       "    </tr>\n",
       "    <tr>\n",
       "      <td>MA</td>\n",
       "      <td>26</td>\n",
       "      <td>30</td>\n",
       "    </tr>\n",
       "    <tr>\n",
       "      <td>MD</td>\n",
       "      <td>21</td>\n",
       "      <td>30</td>\n",
       "    </tr>\n",
       "    <tr>\n",
       "      <td>ME</td>\n",
       "      <td>8</td>\n",
       "      <td>4</td>\n",
       "    </tr>\n",
       "    <tr>\n",
       "      <td>MI</td>\n",
       "      <td>32</td>\n",
       "      <td>51</td>\n",
       "    </tr>\n",
       "    <tr>\n",
       "      <td>MN</td>\n",
       "      <td>44</td>\n",
       "      <td>44</td>\n",
       "    </tr>\n",
       "    <tr>\n",
       "      <td>MO</td>\n",
       "      <td>20</td>\n",
       "      <td>26</td>\n",
       "    </tr>\n",
       "    <tr>\n",
       "      <td>MP</td>\n",
       "      <td>0</td>\n",
       "      <td>2</td>\n",
       "    </tr>\n",
       "    <tr>\n",
       "      <td>MS</td>\n",
       "      <td>9</td>\n",
       "      <td>9</td>\n",
       "    </tr>\n",
       "    <tr>\n",
       "      <td>MT</td>\n",
       "      <td>758</td>\n",
       "      <td>907</td>\n",
       "    </tr>\n",
       "    <tr>\n",
       "      <td>NC</td>\n",
       "      <td>36</td>\n",
       "      <td>39</td>\n",
       "    </tr>\n",
       "    <tr>\n",
       "      <td>ND</td>\n",
       "      <td>13</td>\n",
       "      <td>27</td>\n",
       "    </tr>\n",
       "    <tr>\n",
       "      <td>NE</td>\n",
       "      <td>15</td>\n",
       "      <td>13</td>\n",
       "    </tr>\n",
       "    <tr>\n",
       "      <td>NH</td>\n",
       "      <td>5</td>\n",
       "      <td>12</td>\n",
       "    </tr>\n",
       "    <tr>\n",
       "      <td>NJ</td>\n",
       "      <td>21</td>\n",
       "      <td>21</td>\n",
       "    </tr>\n",
       "    <tr>\n",
       "      <td>NM</td>\n",
       "      <td>37</td>\n",
       "      <td>38</td>\n",
       "    </tr>\n",
       "    <tr>\n",
       "      <td>NV</td>\n",
       "      <td>76</td>\n",
       "      <td>88</td>\n",
       "    </tr>\n",
       "    <tr>\n",
       "      <td>NY</td>\n",
       "      <td>53</td>\n",
       "      <td>55</td>\n",
       "    </tr>\n",
       "    <tr>\n",
       "      <td>OH</td>\n",
       "      <td>34</td>\n",
       "      <td>39</td>\n",
       "    </tr>\n",
       "    <tr>\n",
       "      <td>OK</td>\n",
       "      <td>21</td>\n",
       "      <td>30</td>\n",
       "    </tr>\n",
       "    <tr>\n",
       "      <td>OR</td>\n",
       "      <td>4100</td>\n",
       "      <td>3763</td>\n",
       "    </tr>\n",
       "    <tr>\n",
       "      <td>PA</td>\n",
       "      <td>32</td>\n",
       "      <td>31</td>\n",
       "    </tr>\n",
       "    <tr>\n",
       "      <td>PR</td>\n",
       "      <td>1</td>\n",
       "      <td>0</td>\n",
       "    </tr>\n",
       "    <tr>\n",
       "      <td>RI</td>\n",
       "      <td>4</td>\n",
       "      <td>2</td>\n",
       "    </tr>\n",
       "    <tr>\n",
       "      <td>SC</td>\n",
       "      <td>13</td>\n",
       "      <td>21</td>\n",
       "    </tr>\n",
       "    <tr>\n",
       "      <td>SD</td>\n",
       "      <td>26</td>\n",
       "      <td>23</td>\n",
       "    </tr>\n",
       "    <tr>\n",
       "      <td>TN</td>\n",
       "      <td>20</td>\n",
       "      <td>36</td>\n",
       "    </tr>\n",
       "    <tr>\n",
       "      <td>TX</td>\n",
       "      <td>131</td>\n",
       "      <td>168</td>\n",
       "    </tr>\n",
       "    <tr>\n",
       "      <td>UT</td>\n",
       "      <td>82</td>\n",
       "      <td>61</td>\n",
       "    </tr>\n",
       "    <tr>\n",
       "      <td>VA</td>\n",
       "      <td>35</td>\n",
       "      <td>43</td>\n",
       "    </tr>\n",
       "    <tr>\n",
       "      <td>VI</td>\n",
       "      <td>2</td>\n",
       "      <td>2</td>\n",
       "    </tr>\n",
       "    <tr>\n",
       "      <td>VT</td>\n",
       "      <td>4</td>\n",
       "      <td>2</td>\n",
       "    </tr>\n",
       "    <tr>\n",
       "      <td>WA</td>\n",
       "      <td>358179</td>\n",
       "      <td>268413</td>\n",
       "    </tr>\n",
       "    <tr>\n",
       "      <td>WI</td>\n",
       "      <td>33</td>\n",
       "      <td>32</td>\n",
       "    </tr>\n",
       "    <tr>\n",
       "      <td>WV</td>\n",
       "      <td>7</td>\n",
       "      <td>13</td>\n",
       "    </tr>\n",
       "    <tr>\n",
       "      <td>WY</td>\n",
       "      <td>18</td>\n",
       "      <td>32</td>\n",
       "    </tr>\n",
       "    <tr>\n",
       "      <td>XX</td>\n",
       "      <td>165</td>\n",
       "      <td>202</td>\n",
       "    </tr>\n",
       "  </tbody>\n",
       "</table>\n",
       "</div>"
      ],
      "text/plain": [
       "SEX            F       M\n",
       "STATERES                \n",
       "AE             5       1\n",
       "AK          1148    1485\n",
       "AL            14      16\n",
       "AP             0       2\n",
       "AR            14      18\n",
       "AS             5       4\n",
       "AZ           215     218\n",
       "CA           618     696\n",
       "CO            91      86\n",
       "CT            13      13\n",
       "DC             1       9\n",
       "DE             5       7\n",
       "FL           111     120\n",
       "FM             1       0\n",
       "GA            37      37\n",
       "GU             2       4\n",
       "HI           101      97\n",
       "IA            11      24\n",
       "ID          3102    2988\n",
       "IL            60      65\n",
       "IN            23      25\n",
       "KS            14      31\n",
       "KY            17      20\n",
       "LA            19      13\n",
       "MA            26      30\n",
       "MD            21      30\n",
       "ME             8       4\n",
       "MI            32      51\n",
       "MN            44      44\n",
       "MO            20      26\n",
       "MP             0       2\n",
       "MS             9       9\n",
       "MT           758     907\n",
       "NC            36      39\n",
       "ND            13      27\n",
       "NE            15      13\n",
       "NH             5      12\n",
       "NJ            21      21\n",
       "NM            37      38\n",
       "NV            76      88\n",
       "NY            53      55\n",
       "OH            34      39\n",
       "OK            21      30\n",
       "OR          4100    3763\n",
       "PA            32      31\n",
       "PR             1       0\n",
       "RI             4       2\n",
       "SC            13      21\n",
       "SD            26      23\n",
       "TN            20      36\n",
       "TX           131     168\n",
       "UT            82      61\n",
       "VA            35      43\n",
       "VI             2       2\n",
       "VT             4       2\n",
       "WA        358179  268413\n",
       "WI            33      32\n",
       "WV             7      13\n",
       "WY            18      32\n",
       "XX           165     202"
      ]
     },
     "execution_count": 14,
     "metadata": {},
     "output_type": "execute_result"
    }
   ],
   "source": [
    "pd.crosstab(chars16.STATERES, chars16.SEX)"
   ]
  },
  {
   "cell_type": "code",
   "execution_count": 18,
   "metadata": {},
   "outputs": [
    {
     "data": {
      "text/plain": [
       "count    649994.000000\n",
       "mean         47.629053\n",
       "std          28.147859\n",
       "min          -0.000000\n",
       "25%          27.000000\n",
       "50%          53.000000\n",
       "75%          70.000000\n",
       "max         116.000000\n",
       "Name: AGE, dtype: float64"
      ]
     },
     "execution_count": 18,
     "metadata": {},
     "output_type": "execute_result"
    }
   ],
   "source": [
    "chars16['AGE'].describe()"
   ]
  },
  {
   "cell_type": "code",
   "execution_count": null,
   "metadata": {},
   "outputs": [],
   "source": []
  },
  {
   "cell_type": "markdown",
   "metadata": {},
   "source": [
    "Limiting CHARS 2016 data set by keeping records of females between ages 10 and 60 who were residents  of WA."
   ]
  },
  {
   "cell_type": "code",
   "execution_count": 41,
   "metadata": {},
   "outputs": [],
   "source": [
    "chars16lim = chars16[(chars16['STATERES'] == 'WA') & (chars16['SEX']=='F') & (chars16['AGE']>10) & (chars16['AGE']<60)]"
   ]
  },
  {
   "cell_type": "code",
   "execution_count": 42,
   "metadata": {},
   "outputs": [
    {
     "data": {
      "text/plain": [
       "(175071, 108)"
      ]
     },
     "execution_count": 42,
     "metadata": {},
     "output_type": "execute_result"
    }
   ],
   "source": [
    "chars16lim.shape"
   ]
  },
  {
   "cell_type": "code",
   "execution_count": 43,
   "metadata": {},
   "outputs": [
    {
     "data": {
      "text/html": [
       "<div>\n",
       "<style scoped>\n",
       "    .dataframe tbody tr th:only-of-type {\n",
       "        vertical-align: middle;\n",
       "    }\n",
       "\n",
       "    .dataframe tbody tr th {\n",
       "        vertical-align: top;\n",
       "    }\n",
       "\n",
       "    .dataframe thead th {\n",
       "        text-align: right;\n",
       "    }\n",
       "</style>\n",
       "<table border=\"1\" class=\"dataframe\">\n",
       "  <thead>\n",
       "    <tr style=\"text-align: right;\">\n",
       "      <th>SEX</th>\n",
       "      <th>F</th>\n",
       "    </tr>\n",
       "    <tr>\n",
       "      <th>STATERES</th>\n",
       "      <th></th>\n",
       "    </tr>\n",
       "  </thead>\n",
       "  <tbody>\n",
       "    <tr>\n",
       "      <td>WA</td>\n",
       "      <td>175071</td>\n",
       "    </tr>\n",
       "  </tbody>\n",
       "</table>\n",
       "</div>"
      ],
      "text/plain": [
       "SEX            F\n",
       "STATERES        \n",
       "WA        175071"
      ]
     },
     "execution_count": 43,
     "metadata": {},
     "output_type": "execute_result"
    }
   ],
   "source": [
    "pd.crosstab(chars16lim['STATERES'], chars16lim['SEX'])"
   ]
  },
  {
   "cell_type": "markdown",
   "metadata": {},
   "source": [
    "Repeating the same process as with CHARS 2016 for 2017 and 2018 also.  After subsets of all three years of CHARS data are created I will append them vertically to create one dataset covering 2016-18."
   ]
  },
  {
   "cell_type": "code",
   "execution_count": 36,
   "metadata": {},
   "outputs": [],
   "source": [
    "#Read in and process 2017\n",
    "\n",
    "chars17 = pd.read_sas(r\"Y:\\DQSS\\Death\\MBG\\Py\\Data\\full2017.sas7bdat\", encoding = \"utf-8\")"
   ]
  },
  {
   "cell_type": "code",
   "execution_count": 37,
   "metadata": {},
   "outputs": [
    {
     "data": {
      "text/plain": [
       "(655078, 108)"
      ]
     },
     "execution_count": 37,
     "metadata": {},
     "output_type": "execute_result"
    }
   ],
   "source": [
    "chars17.shape"
   ]
  },
  {
   "cell_type": "code",
   "execution_count": 38,
   "metadata": {},
   "outputs": [],
   "source": [
    "chars17lim = chars17[(chars17['STATERES'] == 'WA') & (chars17['SEX']=='F') & (chars17['AGE']>10) & (chars17['AGE']<60)]"
   ]
  },
  {
   "cell_type": "code",
   "execution_count": 39,
   "metadata": {},
   "outputs": [
    {
     "data": {
      "text/plain": [
       "(171755, 108)"
      ]
     },
     "execution_count": 39,
     "metadata": {},
     "output_type": "execute_result"
    }
   ],
   "source": [
    "chars17lim.shape"
   ]
  },
  {
   "cell_type": "code",
   "execution_count": 40,
   "metadata": {},
   "outputs": [
    {
     "data": {
      "text/html": [
       "<div>\n",
       "<style scoped>\n",
       "    .dataframe tbody tr th:only-of-type {\n",
       "        vertical-align: middle;\n",
       "    }\n",
       "\n",
       "    .dataframe tbody tr th {\n",
       "        vertical-align: top;\n",
       "    }\n",
       "\n",
       "    .dataframe thead th {\n",
       "        text-align: right;\n",
       "    }\n",
       "</style>\n",
       "<table border=\"1\" class=\"dataframe\">\n",
       "  <thead>\n",
       "    <tr style=\"text-align: right;\">\n",
       "      <th>SEX</th>\n",
       "      <th>F</th>\n",
       "    </tr>\n",
       "    <tr>\n",
       "      <th>STATERES</th>\n",
       "      <th></th>\n",
       "    </tr>\n",
       "  </thead>\n",
       "  <tbody>\n",
       "    <tr>\n",
       "      <td>WA</td>\n",
       "      <td>171755</td>\n",
       "    </tr>\n",
       "  </tbody>\n",
       "</table>\n",
       "</div>"
      ],
      "text/plain": [
       "SEX            F\n",
       "STATERES        \n",
       "WA        171755"
      ]
     },
     "execution_count": 40,
     "metadata": {},
     "output_type": "execute_result"
    }
   ],
   "source": [
    "pd.crosstab(chars17lim['STATERES'], chars17lim['SEX'])"
   ]
  },
  {
   "cell_type": "code",
   "execution_count": 44,
   "metadata": {},
   "outputs": [],
   "source": [
    "#Read in and process 2018\n",
    "\n",
    "chars18 = pd.read_sas(r\"Y:\\DQSS\\Death\\MBG\\Py\\Data\\full2018.sas7bdat\", encoding = \"utf-8\")"
   ]
  },
  {
   "cell_type": "code",
   "execution_count": 45,
   "metadata": {},
   "outputs": [
    {
     "data": {
      "text/plain": [
       "(644416, 108)"
      ]
     },
     "execution_count": 45,
     "metadata": {},
     "output_type": "execute_result"
    }
   ],
   "source": [
    "chars18.shape"
   ]
  },
  {
   "cell_type": "code",
   "execution_count": 46,
   "metadata": {},
   "outputs": [],
   "source": [
    "chars18lim = chars18[(chars18['STATERES'] == 'WA') & (chars18['SEX']=='F') & (chars18['AGE']>10) & (chars18['AGE']<60)]"
   ]
  },
  {
   "cell_type": "code",
   "execution_count": 47,
   "metadata": {},
   "outputs": [
    {
     "data": {
      "text/plain": [
       "(167398, 108)"
      ]
     },
     "execution_count": 47,
     "metadata": {},
     "output_type": "execute_result"
    }
   ],
   "source": [
    "chars18lim.shape"
   ]
  },
  {
   "cell_type": "code",
   "execution_count": 48,
   "metadata": {},
   "outputs": [
    {
     "data": {
      "text/html": [
       "<div>\n",
       "<style scoped>\n",
       "    .dataframe tbody tr th:only-of-type {\n",
       "        vertical-align: middle;\n",
       "    }\n",
       "\n",
       "    .dataframe tbody tr th {\n",
       "        vertical-align: top;\n",
       "    }\n",
       "\n",
       "    .dataframe thead th {\n",
       "        text-align: right;\n",
       "    }\n",
       "</style>\n",
       "<table border=\"1\" class=\"dataframe\">\n",
       "  <thead>\n",
       "    <tr style=\"text-align: right;\">\n",
       "      <th>SEX</th>\n",
       "      <th>F</th>\n",
       "    </tr>\n",
       "    <tr>\n",
       "      <th>STATERES</th>\n",
       "      <th></th>\n",
       "    </tr>\n",
       "  </thead>\n",
       "  <tbody>\n",
       "    <tr>\n",
       "      <td>WA</td>\n",
       "      <td>167398</td>\n",
       "    </tr>\n",
       "  </tbody>\n",
       "</table>\n",
       "</div>"
      ],
      "text/plain": [
       "SEX            F\n",
       "STATERES        \n",
       "WA        167398"
      ]
     },
     "execution_count": 48,
     "metadata": {},
     "output_type": "execute_result"
    }
   ],
   "source": [
    "pd.crosstab(chars18lim['STATERES'], chars18lim['SEX'])"
   ]
  },
  {
   "cell_type": "code",
   "execution_count": 51,
   "metadata": {},
   "outputs": [],
   "source": [
    "# Append the three CHARS limited data sets.\n",
    "\n",
    "chars1617 = chars16lim.append(chars17lim)\n",
    "chars16_18 = chars1617.append(chars18lim)"
   ]
  },
  {
   "cell_type": "code",
   "execution_count": 52,
   "metadata": {},
   "outputs": [
    {
     "data": {
      "text/plain": [
       "<bound method NDFrame.describe of 3        2016-01-10\n",
       "4        2016-01-07\n",
       "12       2016-01-07\n",
       "14       2016-01-04\n",
       "16       2016-01-03\n",
       "            ...    \n",
       "644390   2018-11-11\n",
       "644392   2018-12-06\n",
       "644396   2018-12-21\n",
       "644402   2018-12-13\n",
       "644404   2018-12-01\n",
       "Name: DIS_DATE, Length: 514224, dtype: datetime64[ns]>"
      ]
     },
     "execution_count": 52,
     "metadata": {},
     "output_type": "execute_result"
    }
   ],
   "source": [
    "# check that all three years are present in the combined data set\n",
    "# date range and total number of records in results below\n",
    "chars16_18['DIS_DATE'].describe\n"
   ]
  },
  {
   "cell_type": "code",
   "execution_count": 75,
   "metadata": {},
   "outputs": [
    {
     "data": {
      "text/plain": [
       "SEQ_NO                    0\n",
       "REC_KEY                   0\n",
       "STAYTYPE                  0\n",
       "HOSPITAL                  0\n",
       "LINENO                    0\n",
       "ZIPCODE                   0\n",
       "ZIPPLUS4             441018\n",
       "STATERES                  0\n",
       "COUNTYRES                 0\n",
       "COUNTRY              514224\n",
       "AGE                       0\n",
       "DOB                       0\n",
       "SEX                       0\n",
       "ADM_DATE                  0\n",
       "ADM_HR                    1\n",
       "DIS_DATE                  0\n",
       "DIS_HR                    1\n",
       "LENSTAYD                  0\n",
       "LENSTAYH              71662\n",
       "ADM_TYPE                  0\n",
       "ADM_SRC                   0\n",
       "STATUS                    0\n",
       "CHARGES                   0\n",
       "PAYER1                    0\n",
       "PAYER2               421946\n",
       "PAYER3               508945\n",
       "DIAGCNT                   0\n",
       "DIAG1                     0\n",
       "DIAG2                  5068\n",
       "DIAG3                 15016\n",
       "DIAG4                 48952\n",
       "DIAG5                 95963\n",
       "DIAG6                147624\n",
       "DIAG7                198232\n",
       "DIAG8                244648\n",
       "DIAG9                285389\n",
       "POA1                  18859\n",
       "POA2                  72941\n",
       "POA3                 111369\n",
       "POA4                 150768\n",
       "POA5                 188478\n",
       "POA6                 228734\n",
       "POA7                 268501\n",
       "POA8                 305627\n",
       "POA9                 337681\n",
       "PROCCNT                   0\n",
       "PROC1                121890\n",
       "PROC2                240457\n",
       "PROC3                352229\n",
       "PROC4                427372\n",
       "PROC5                470527\n",
       "PROC6                491167\n",
       "PRDATE1              121890\n",
       "PRDATE2              240457\n",
       "PRDATE3              352230\n",
       "PRDATE4              427372\n",
       "PRDATE5              470527\n",
       "PRDATE6              491167\n",
       "PRDAY1               128679\n",
       "PRDAY2               245379\n",
       "PRDAY3               356323\n",
       "PRDAY4               429561\n",
       "PRDAY5               471589\n",
       "PRDAY6               491687\n",
       "IDATTEND                  0\n",
       "IDATT_S                   0\n",
       "IDOPERAT             121429\n",
       "IDOPER_S             121429\n",
       "IDOTHER1             427187\n",
       "IDOTH1_S             427201\n",
       "IDOTHER2             514222\n",
       "IDOTH2_S             514222\n",
       "DRG                       0\n",
       "MDC                       0\n",
       "AVG_LOS               11250\n",
       "DRG_WT                11250\n",
       "OUTLIER                   0\n",
       "EXCLUDE              473812\n",
       "DRG_FWD                   0\n",
       "MDC_FWD                   0\n",
       "ECODECNT                  0\n",
       "ECODE1               475561\n",
       "POAE1                483943\n",
       "ECODECAL             514224\n",
       "PAT_REC                   0\n",
       "DRG2                 514224\n",
       "DRG_WT2              514224\n",
       "HISPANIC                155\n",
       "RACE_WHT                102\n",
       "RACE_BLK                102\n",
       "RACE_AMI                102\n",
       "RACE_ASI                102\n",
       "RACE_HAW                102\n",
       "LASTNAME                  2\n",
       "FIRSTNAME                 3\n",
       "MINAME               123473\n",
       "SSN                   81633\n",
       "DRG_POA                   0\n",
       "MDC_POA                   0\n",
       "BILLTYPE                  0\n",
       "AWEEKEND                  0\n",
       "AGE_MONTH                 0\n",
       "ADMF_DATE            514224\n",
       "AGE_O                514224\n",
       "LENSTAYD_O           514224\n",
       "AWEEKEND_O           514224\n",
       "AGE_MONTH_O          514224\n",
       "DISCHARGERECORDID         0\n",
       "dtype: int64"
      ]
     },
     "execution_count": 75,
     "metadata": {},
     "output_type": "execute_result"
    }
   ],
   "source": [
    "chars16_18.isna().sum()"
   ]
  },
  {
   "cell_type": "code",
   "execution_count": 79,
   "metadata": {},
   "outputs": [
    {
     "data": {
      "text/plain": [
       "Index(['SEQ_NO', 'REC_KEY', 'STAYTYPE', 'HOSPITAL', 'LINENO', 'ZIPCODE',\n",
       "       'ZIPPLUS4', 'STATERES', 'COUNTYRES', 'COUNTRY',\n",
       "       ...\n",
       "       'MDC_POA', 'BILLTYPE', 'AWEEKEND', 'AGE_MONTH', 'ADMF_DATE', 'AGE_O',\n",
       "       'LENSTAYD_O', 'AWEEKEND_O', 'AGE_MONTH_O', 'DISCHARGERECORDID'],\n",
       "      dtype='object', length=108)"
      ]
     },
     "execution_count": 79,
     "metadata": {},
     "output_type": "execute_result"
    }
   ],
   "source": [
    "charscols = chars16_18.columns\n",
    "charscols"
   ]
  },
  {
   "cell_type": "markdown",
   "metadata": {},
   "source": []
  },
  {
   "cell_type": "code",
   "execution_count": 84,
   "metadata": {},
   "outputs": [],
   "source": [
    "#DROP variables with all missing/mostly missing values as these are of no use.\n",
    "chars16_18lim = chars16_18.drop(['COUNTRY', 'ZIPPLUS4', 'IDOTHER2', 'IDOTH2_S', \n",
    "                             'ECODECAL', 'DRG2', 'DRG_WT2', 'ADMF_DATE', 'AGE_O', \n",
    "                             'LENSTAYD_O', 'AWEEKEND_O', 'AGE_MONTH_O'], axis=1)"
   ]
  },
  {
   "cell_type": "code",
   "execution_count": null,
   "metadata": {},
   "outputs": [],
   "source": []
  },
  {
   "cell_type": "markdown",
   "metadata": {},
   "source": [
    "## 2. Decriptive analysis"
   ]
  },
  {
   "cell_type": "markdown",
   "metadata": {},
   "source": [
    "##### DATA VISUALIZATION"
   ]
  },
  {
   "cell_type": "code",
   "execution_count": 165,
   "metadata": {},
   "outputs": [
    {
     "data": {
      "text/plain": [
       "<matplotlib.axes._subplots.AxesSubplot at 0x1965ced2438>"
      ]
     },
     "execution_count": 165,
     "metadata": {},
     "output_type": "execute_result"
    },
    {
     "data": {
      "image/png": "[encoded data removed]",
      "text/plain": [
       "<Figure size 1080x432 with 2 Axes>"
      ]
     },
     "metadata": {
      "needs_background": "light"
     },
     "output_type": "display_data"
    }
   ],
   "source": [
    "# Plot death variables sex, residence county\n",
    "# ********need to plot proportion of total rather than just counts*******\n",
    "\n",
    "plt.figure(figsize = (15,6))\n",
    "\n",
    "plt.subplot(121)\n",
    "dthlinkvars.sex.value_counts().plot(kind='barh')\n",
    "plt.subplot(122)\n",
    "dthlinkvars.rcountyl.value_counts().plot(kind='barh')"
   ]
  },
  {
   "cell_type": "code",
   "execution_count": null,
   "metadata": {},
   "outputs": [],
   "source": []
  }
 ],
 "metadata": {
  "kernelspec": {
   "display_name": "Python 3",
   "language": "python",
   "name": "python3"
  },
  "language_info": {
   "codemirror_mode": {
    "name": "ipython",
    "version": 3
   },
   "file_extension": ".py",
   "mimetype": "text/x-python",
   "name": "python",
   "nbconvert_exporter": "python",
   "pygments_lexer": "ipython3",
   "version": "3.6.8"
  }
 },
 "nbformat": 4,
 "nbformat_minor": 2
}
