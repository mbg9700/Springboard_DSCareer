{
 "cells": [
  {
   "cell_type": "code",
   "execution_count": 1,
   "metadata": {},
   "outputs": [],
   "source": [
    "import recordlinkage as rl\n",
    "import pandas as pd\n",
    "import numpy as np\n",
    "import scipy\n",
    "import jellyfish\n",
    "import numexpr"
   ]
  },
  {
   "cell_type": "code",
   "execution_count": 2,
   "metadata": {},
   "outputs": [],
   "source": [
    "pd.set_option('display.max_columns', None)\n",
    "pd.set_option('display.max_rows', None)"
   ]
  },
  {
   "cell_type": "markdown",
   "metadata": {},
   "source": [
    "1. DONE pull in correct variables for linked 1617 file - matching death and birth vars\n",
    "2. DONE clean all variables\n",
    "3. DONE block on dob m, d, y and index\n",
    "4. DONE compare records on fname, lname, mfname, mlname, dadfname, dadlname, sex, dobm, dobd, doby\n",
    "5. index true matches (linked 1617 file) on bsfn, dsfn\n",
    "6. split bir - dth candidate pairs into train and test\n",
    "7. compare indexes from true matches to train and test sets and label\n",
    "8. logistic regression\n"
   ]
  },
  {
   "cell_type": "markdown",
   "metadata": {},
   "source": [
    "Read in data sets: birth 2016-18, death 2016-18, linked infant death 2016-17.  \n",
    "\n",
    "Birth and death data are then restricted to events that occurred in 2016 and 2017; I will use 2018 to validate the model after training and testing on 2016 and 2017 combined.\n",
    "\n",
    "All data are limited to births or deaths that occurred in Washington state to in state residents.\n",
    "\n",
    "This step also keeps only the variables that are of interest for record linkage."
   ]
  },
  {
   "cell_type": "markdown",
   "metadata": {},
   "source": [
    "##### Death data"
   ]
  },
  {
   "cell_type": "code",
   "execution_count": 3,
   "metadata": {},
   "outputs": [],
   "source": [
    "d1618 = pd.read_csv(r'###\\Py\\Data\\d1618_clean.csv', low_memory = False)"
   ]
  },
  {
   "cell_type": "code",
   "execution_count": 4,
   "metadata": {},
   "outputs": [],
   "source": [
    "d1617 = d1618[(d1618['ddody']!=2018)]\n",
    "d1617 = d1617[(d1617.ddthstatel=='WASHINGTON')]"
   ]
  },
  {
   "cell_type": "code",
   "execution_count": 5,
   "metadata": {},
   "outputs": [],
   "source": [
    "d1617 = d1617.loc[:, ['dsfn', 'dfname', 'dlname', 'dmom_fname','dmom_lname', 'ddad_fname', \n",
    "                      'ddad_lname','dsex','ddobm', 'ddobd', 'ddoby','drescity','drescountyl',\n",
    "                      'dreszip']]"
   ]
  },
  {
   "cell_type": "code",
   "execution_count": 6,
   "metadata": {},
   "outputs": [
    {
     "name": "stdout",
     "output_type": "stream",
     "text": [
      "<class 'pandas.core.frame.DataFrame'>\n",
      "Int64Index: 109122 entries, 0 to 168701\n",
      "Data columns (total 14 columns):\n",
      " #   Column       Non-Null Count   Dtype \n",
      "---  ------       --------------   ----- \n",
      " 0   dsfn         109122 non-null  int64 \n",
      " 1   dfname       109120 non-null  object\n",
      " 2   dlname       109120 non-null  object\n",
      " 3   dmom_fname   109118 non-null  object\n",
      " 4   dmom_lname   109111 non-null  object\n",
      " 5   ddad_fname   109119 non-null  object\n",
      " 6   ddad_lname   109119 non-null  object\n",
      " 7   dsex         109122 non-null  object\n",
      " 8   ddobm        109122 non-null  int64 \n",
      " 9   ddobd        109122 non-null  int64 \n",
      " 10  ddoby        109122 non-null  int64 \n",
      " 11  drescity     109061 non-null  object\n",
      " 12  drescountyl  109062 non-null  object\n",
      " 13  dreszip      109122 non-null  int64 \n",
      "dtypes: int64(5), object(9)\n",
      "memory usage: 12.5+ MB\n"
     ]
    }
   ],
   "source": [
    "d1617.info()"
   ]
  },
  {
   "cell_type": "markdown",
   "metadata": {},
   "source": [
    "##### Birth data"
   ]
  },
  {
   "cell_type": "code",
   "execution_count": 7,
   "metadata": {},
   "outputs": [],
   "source": [
    "b1618 = pd.read_csv(r'###\\Py\\Data\\b1618_clean.csv', low_memory = False)"
   ]
  },
  {
   "cell_type": "code",
   "execution_count": 8,
   "metadata": {},
   "outputs": [],
   "source": [
    "b1617 = b1618[(b1618.bdoby !=2018)]\n"
   ]
  },
  {
   "cell_type": "code",
   "execution_count": 9,
   "metadata": {},
   "outputs": [
    {
     "data": {
      "text/plain": [
       "2016    89083\n",
       "2017    86167\n",
       "Name: bdoby, dtype: int64"
      ]
     },
     "execution_count": 9,
     "metadata": {},
     "output_type": "execute_result"
    }
   ],
   "source": [
    "b1617.bdoby.value_counts(dropna=False)"
   ]
  },
  {
   "cell_type": "code",
   "execution_count": 10,
   "metadata": {},
   "outputs": [
    {
     "data": {
      "text/plain": [
       "WA    175250\n",
       "Name: bbirplstatefips, dtype: int64"
      ]
     },
     "execution_count": 10,
     "metadata": {},
     "output_type": "execute_result"
    }
   ],
   "source": [
    "b1617.bbirplstatefips.value_counts(dropna=False)"
   ]
  },
  {
   "cell_type": "code",
   "execution_count": 11,
   "metadata": {},
   "outputs": [
    {
     "data": {
      "text/plain": [
       "WA    175250\n",
       "Name: b_momresstatefips, dtype: int64"
      ]
     },
     "execution_count": 11,
     "metadata": {},
     "output_type": "execute_result"
    }
   ],
   "source": [
    "b1617.b_momresstatefips.value_counts(dropna=False)"
   ]
  },
  {
   "cell_type": "code",
   "execution_count": 12,
   "metadata": {},
   "outputs": [],
   "source": [
    "b1617 = b1617.loc[:, ['bsfn','bfname','blname', 'bmom_fname', 'bmom_lname', 'bdad_lname', \n",
    "                      'bdad_fname','bsex', 'bdobm', 'bdobd', 'bdoby', 'b_momrescity', \n",
    "                      'b_momrescountyl', 'b_momreszip']]"
   ]
  },
  {
   "cell_type": "code",
   "execution_count": 13,
   "metadata": {},
   "outputs": [
    {
     "name": "stdout",
     "output_type": "stream",
     "text": [
      "<class 'pandas.core.frame.DataFrame'>\n",
      "Int64Index: 175250 entries, 0 to 259908\n",
      "Data columns (total 14 columns):\n",
      " #   Column           Non-Null Count   Dtype \n",
      "---  ------           --------------   ----- \n",
      " 0   bsfn             175250 non-null  int64 \n",
      " 1   bfname           175246 non-null  object\n",
      " 2   blname           175242 non-null  object\n",
      " 3   bmom_fname       175184 non-null  object\n",
      " 4   bmom_lname       174002 non-null  object\n",
      " 5   bdad_lname       163274 non-null  object\n",
      " 6   bdad_fname       169464 non-null  object\n",
      " 7   bsex             175250 non-null  object\n",
      " 8   bdobm            175250 non-null  int64 \n",
      " 9   bdobd            175250 non-null  int64 \n",
      " 10  bdoby            175250 non-null  int64 \n",
      " 11  b_momrescity     175202 non-null  object\n",
      " 12  b_momrescountyl  175202 non-null  object\n",
      " 13  b_momreszip      175250 non-null  int64 \n",
      "dtypes: int64(5), object(9)\n",
      "memory usage: 20.1+ MB\n"
     ]
    }
   ],
   "source": [
    "b1617.info()"
   ]
  },
  {
   "cell_type": "markdown",
   "metadata": {},
   "source": [
    "##### Linked infant birth-death file 2016-2017"
   ]
  },
  {
   "cell_type": "code",
   "execution_count": 14,
   "metadata": {},
   "outputs": [],
   "source": [
    "linked1617 = pd.read_csv(r'###\\Py\\Data\\WA1617infantDeath_dthdata.csv')"
   ]
  },
  {
   "cell_type": "code",
   "execution_count": 15,
   "metadata": {},
   "outputs": [
    {
     "name": "stdout",
     "output_type": "stream",
     "text": [
      "<class 'pandas.core.frame.DataFrame'>\n",
      "RangeIndex: 631 entries, 0 to 630\n",
      "Data columns (total 54 columns):\n",
      " #   Column               Non-Null Count  Dtype  \n",
      "---  ------               --------------  -----  \n",
      " 0   lbsfn                631 non-null    int64  \n",
      " 1   ldsfn                631 non-null    int64  \n",
      " 2   dsfn                 631 non-null    int64  \n",
      " 3   dbirsfn              631 non-null    object \n",
      " 4   dssn                 631 non-null    int64  \n",
      " 5   dfname               631 non-null    object \n",
      " 6   dmname               531 non-null    object \n",
      " 7   dlname               631 non-null    object \n",
      " 8   dmom_fname           631 non-null    object \n",
      " 9   dmom_mname           375 non-null    object \n",
      " 10  dmom_lname           631 non-null    object \n",
      " 11  dsex                 631 non-null    object \n",
      " 12  dagetype             631 non-null    float64\n",
      " 13  dage                 631 non-null    float64\n",
      " 14  dageyrs              631 non-null    float64\n",
      " 15  ddob                 631 non-null    object \n",
      " 16  ddobm                631 non-null    int64  \n",
      " 17  ddobd                631 non-null    int64  \n",
      " 18  ddoby                631 non-null    int64  \n",
      " 19  ddod                 631 non-null    object \n",
      " 20  ddodm                631 non-null    int64  \n",
      " 21  ddodd                631 non-null    int64  \n",
      " 22  ddody                631 non-null    int64  \n",
      " 23  ddthstatel           631 non-null    object \n",
      " 24  dbirplstatefips      631 non-null    object \n",
      " 25  dbircountryl         631 non-null    object \n",
      " 26  dbircountryfips      631 non-null    object \n",
      " 27  ddthcityl            631 non-null    object \n",
      " 28  ddthcityfips         631 non-null    float64\n",
      " 29  ddthcountyl          631 non-null    object \n",
      " 30  ddthcntyfips         631 non-null    float64\n",
      " 31  ddthzip              631 non-null    int64  \n",
      " 32  ddfaccode            631 non-null    int64  \n",
      " 33  dbridgerace          631 non-null    int64  \n",
      " 34  dhispno              631 non-null    object \n",
      " 35  drescity             631 non-null    object \n",
      " 36  drescityfips         631 non-null    int64  \n",
      " 37  drescitylim          630 non-null    object \n",
      " 38  drescountyl          631 non-null    object \n",
      " 39  drescntyfips         631 non-null    int64  \n",
      " 40  dresstatefips        631 non-null    object \n",
      " 41  Underlying COD Code  629 non-null    object \n",
      " 42  mc1                  629 non-null    object \n",
      " 43  mc2                  388 non-null    object \n",
      " 44  mc3                  222 non-null    object \n",
      " 45  mc4                  122 non-null    object \n",
      " 46  mc5                  65 non-null     object \n",
      " 47  mc6                  31 non-null     object \n",
      " 48  mc7                  19 non-null     object \n",
      " 49  mc8                  11 non-null     object \n",
      " 50  mc9                  8 non-null      object \n",
      " 51  mc10                 8 non-null      object \n",
      " 52  dreszip              631 non-null    int64  \n",
      " 53  dagedays             631 non-null    int64  \n",
      "dtypes: float64(5), int64(17), object(32)\n",
      "memory usage: 266.3+ KB\n"
     ]
    }
   ],
   "source": [
    "linked1617.info()"
   ]
  },
  {
   "cell_type": "code",
   "execution_count": 16,
   "metadata": {},
   "outputs": [
    {
     "data": {
      "text/plain": [
       "WASHINGTON    631\n",
       "Name: ddthstatel, dtype: int64"
      ]
     },
     "execution_count": 16,
     "metadata": {},
     "output_type": "execute_result"
    }
   ],
   "source": [
    "linked1617.ddthstatel.value_counts(dropna=False)"
   ]
  },
  {
   "cell_type": "code",
   "execution_count": 17,
   "metadata": {},
   "outputs": [
    {
     "data": {
      "text/plain": [
       "WA    631\n",
       "Name: dbirplstatefips, dtype: int64"
      ]
     },
     "execution_count": 17,
     "metadata": {},
     "output_type": "execute_result"
    }
   ],
   "source": [
    "linked1617.dbirplstatefips.value_counts(dropna=False)"
   ]
  },
  {
   "cell_type": "code",
   "execution_count": 18,
   "metadata": {},
   "outputs": [],
   "source": [
    "linked1617 = linked1617.loc[:,['lbsfn','ldsfn']]"
   ]
  },
  {
   "cell_type": "code",
   "execution_count": 19,
   "metadata": {},
   "outputs": [
    {
     "name": "stdout",
     "output_type": "stream",
     "text": [
      "<class 'pandas.core.frame.DataFrame'>\n",
      "RangeIndex: 631 entries, 0 to 630\n",
      "Data columns (total 2 columns):\n",
      " #   Column  Non-Null Count  Dtype\n",
      "---  ------  --------------  -----\n",
      " 0   lbsfn   631 non-null    int64\n",
      " 1   ldsfn   631 non-null    int64\n",
      "dtypes: int64(2)\n",
      "memory usage: 10.0 KB\n"
     ]
    }
   ],
   "source": [
    "linked1617.info()"
   ]
  },
  {
   "cell_type": "markdown",
   "metadata": {},
   "source": [
    "#### Data cleaning and standardizing"
   ]
  },
  {
   "cell_type": "markdown",
   "metadata": {},
   "source": [
    "###### DEATH"
   ]
  },
  {
   "cell_type": "code",
   "execution_count": 20,
   "metadata": {},
   "outputs": [],
   "source": [
    "from recordlinkage.preprocessing import clean"
   ]
  },
  {
   "cell_type": "code",
   "execution_count": 21,
   "metadata": {},
   "outputs": [],
   "source": [
    "d1617['dfname_clean'] = clean(d1617.dfname,\n",
    "                              lowercase = True,\n",
    "                              replace_by_none = '[\\s-]+',\n",
    "                              strip_accents = 'unicode'\n",
    "                             )"
   ]
  },
  {
   "cell_type": "code",
   "execution_count": 22,
   "metadata": {},
   "outputs": [],
   "source": [
    "d1617['dlname_clean'] = clean(d1617.dlname,\n",
    "                              lowercase = True,\n",
    "                              replace_by_none = '[\\s-]+',\n",
    "                              strip_accents = 'unicode'\n",
    "                             )"
   ]
  },
  {
   "cell_type": "code",
   "execution_count": 23,
   "metadata": {},
   "outputs": [],
   "source": [
    "d1617['dmom_fname_clean'] = clean(d1617.dmom_fname,\n",
    "                                 lowercase = True,\n",
    "                                  replace_by_none = '[\\s-]+',\n",
    "                                  strip_accents = 'unicode'\n",
    "                                 )"
   ]
  },
  {
   "cell_type": "code",
   "execution_count": 24,
   "metadata": {},
   "outputs": [],
   "source": [
    "d1617['dmom_lname_clean'] = clean(d1617.dmom_lname,\n",
    "                                 lowercase = True,\n",
    "                                  replace_by_none = '[\\s-]+',\n",
    "                                  strip_accents = 'unicode'\n",
    "                                 )"
   ]
  },
  {
   "cell_type": "code",
   "execution_count": 25,
   "metadata": {},
   "outputs": [],
   "source": [
    "d1617['ddad_fname_clean'] = clean(d1617.ddad_fname,\n",
    "                                lowercase = True,\n",
    "                                  replace_by_none = '[\\s-]+',\n",
    "                                  strip_accents = 'unicode'\n",
    "                                 )"
   ]
  },
  {
   "cell_type": "code",
   "execution_count": 26,
   "metadata": {},
   "outputs": [],
   "source": [
    "d1617['ddad_lname_clean'] = clean(d1617.ddad_lname,\n",
    "                                lowercase = True,\n",
    "                                  replace_by_none = '[\\s-]+',\n",
    "                                  strip_accents = 'unicode'\n",
    "                                 )"
   ]
  },
  {
   "cell_type": "markdown",
   "metadata": {},
   "source": [
    "###### Create phonetic encoding of infant, mother, and father names"
   ]
  },
  {
   "cell_type": "code",
   "execution_count": 27,
   "metadata": {},
   "outputs": [],
   "source": [
    "d1617['dmom_fullname'] =  d1617.dmom_fname_clean + \" \" +  d1617.dmom_lname_clean"
   ]
  },
  {
   "cell_type": "code",
   "execution_count": 28,
   "metadata": {},
   "outputs": [],
   "source": [
    "d1617['ddad_fullname'] =  d1617.ddad_fname_clean + \" \" +  d1617.ddad_lname_clean"
   ]
  },
  {
   "cell_type": "code",
   "execution_count": 29,
   "metadata": {},
   "outputs": [],
   "source": [
    "d1617['dinf_fullname'] =  d1617.dfname_clean + \" \" +  d1617.dlname_clean"
   ]
  },
  {
   "cell_type": "code",
   "execution_count": 30,
   "metadata": {},
   "outputs": [],
   "source": [
    "d1617['dmom_phon'] = rl.preprocessing.phonetic(d1617['dmom_fullname'], method = 'metaphone')\n",
    "d1617['ddad_phon'] = rl.preprocessing.phonetic(d1617['ddad_fullname'], method = 'metaphone')\n",
    "d1617['dinf_phon'] = rl.preprocessing.phonetic(d1617['dinf_fullname'], method = 'metaphone')"
   ]
  },
  {
   "cell_type": "code",
   "execution_count": 31,
   "metadata": {},
   "outputs": [
    {
     "data": {
      "text/html": [
       "<div>\n",
       "<style scoped>\n",
       "    .dataframe tbody tr th:only-of-type {\n",
       "        vertical-align: middle;\n",
       "    }\n",
       "\n",
       "    .dataframe tbody tr th {\n",
       "        vertical-align: top;\n",
       "    }\n",
       "\n",
       "    .dataframe thead th {\n",
       "        text-align: right;\n",
       "    }\n",
       "</style>\n",
       "<table border=\"1\" class=\"dataframe\">\n",
       "  <thead>\n",
       "    <tr style=\"text-align: right;\">\n",
       "      <th></th>\n",
       "      <th>dsfn</th>\n",
       "      <th>dfname</th>\n",
       "      <th>dlname</th>\n",
       "      <th>dmom_fname</th>\n",
       "      <th>dmom_lname</th>\n",
       "      <th>ddad_fname</th>\n",
       "      <th>ddad_lname</th>\n",
       "      <th>dsex</th>\n",
       "      <th>ddobm</th>\n",
       "      <th>ddobd</th>\n",
       "      <th>ddoby</th>\n",
       "      <th>drescity</th>\n",
       "      <th>drescountyl</th>\n",
       "      <th>dreszip</th>\n",
       "      <th>dfname_clean</th>\n",
       "      <th>dlname_clean</th>\n",
       "      <th>dmom_fname_clean</th>\n",
       "      <th>dmom_lname_clean</th>\n",
       "      <th>ddad_fname_clean</th>\n",
       "      <th>ddad_lname_clean</th>\n",
       "      <th>dmom_fullname</th>\n",
       "      <th>ddad_fullname</th>\n",
       "      <th>dinf_fullname</th>\n",
       "      <th>dmom_phon</th>\n",
       "      <th>ddad_phon</th>\n",
       "      <th>dinf_phon</th>\n",
       "    </tr>\n",
       "  </thead>\n",
       "  <tbody>\n",
       "    <tr>\n",
       "      <th>0</th>\n",
       "      <td>2017025187</td>\n",
       "      <td>CHARLES</td>\n",
       "      <td>BURNETT</td>\n",
       "      <td>JOHANNA</td>\n",
       "      <td>DEHOLLANDER</td>\n",
       "      <td>CHARLES</td>\n",
       "      <td>BURNETT</td>\n",
       "      <td>M</td>\n",
       "      <td>6</td>\n",
       "      <td>11</td>\n",
       "      <td>1932</td>\n",
       "      <td>WOODINVILLE</td>\n",
       "      <td>KING</td>\n",
       "      <td>98072</td>\n",
       "      <td>charles</td>\n",
       "      <td>burnett</td>\n",
       "      <td>johanna</td>\n",
       "      <td>dehollander</td>\n",
       "      <td>charles</td>\n",
       "      <td>burnett</td>\n",
       "      <td>johanna dehollander</td>\n",
       "      <td>charles burnett</td>\n",
       "      <td>charles burnett</td>\n",
       "      <td>JHNTHLNTR</td>\n",
       "      <td>XRLSBRNT</td>\n",
       "      <td>XRLSBRNT</td>\n",
       "    </tr>\n",
       "    <tr>\n",
       "      <th>1</th>\n",
       "      <td>2017025188</td>\n",
       "      <td>DOUGLAS</td>\n",
       "      <td>LEE</td>\n",
       "      <td>ROSE</td>\n",
       "      <td>SHEA</td>\n",
       "      <td>FRANK</td>\n",
       "      <td>LEE</td>\n",
       "      <td>M</td>\n",
       "      <td>9</td>\n",
       "      <td>29</td>\n",
       "      <td>1958</td>\n",
       "      <td>REDMOND</td>\n",
       "      <td>KING</td>\n",
       "      <td>98052</td>\n",
       "      <td>douglas</td>\n",
       "      <td>lee</td>\n",
       "      <td>rose</td>\n",
       "      <td>shea</td>\n",
       "      <td>frank</td>\n",
       "      <td>lee</td>\n",
       "      <td>rose shea</td>\n",
       "      <td>frank lee</td>\n",
       "      <td>douglas lee</td>\n",
       "      <td>RSX</td>\n",
       "      <td>FRNKL</td>\n",
       "      <td>TKLSL</td>\n",
       "    </tr>\n",
       "    <tr>\n",
       "      <th>2</th>\n",
       "      <td>2017025189</td>\n",
       "      <td>ARUNEE</td>\n",
       "      <td>TAOSAN</td>\n",
       "      <td>LUMDUAN</td>\n",
       "      <td>SRILAUN</td>\n",
       "      <td>UDON</td>\n",
       "      <td>TAOSAN</td>\n",
       "      <td>F</td>\n",
       "      <td>2</td>\n",
       "      <td>5</td>\n",
       "      <td>1947</td>\n",
       "      <td>LYNNWOOD</td>\n",
       "      <td>SNOHOMISH</td>\n",
       "      <td>98036</td>\n",
       "      <td>arunee</td>\n",
       "      <td>taosan</td>\n",
       "      <td>lumduan</td>\n",
       "      <td>srilaun</td>\n",
       "      <td>udon</td>\n",
       "      <td>taosan</td>\n",
       "      <td>lumduan srilaun</td>\n",
       "      <td>udon taosan</td>\n",
       "      <td>arunee taosan</td>\n",
       "      <td>LMTNSRLN</td>\n",
       "      <td>UTNTSN</td>\n",
       "      <td>ARNTSN</td>\n",
       "    </tr>\n",
       "    <tr>\n",
       "      <th>3</th>\n",
       "      <td>2017025190</td>\n",
       "      <td>ELIZABETH</td>\n",
       "      <td>CHAUSSEE</td>\n",
       "      <td>EDA</td>\n",
       "      <td>OIN</td>\n",
       "      <td>HARTLEY</td>\n",
       "      <td>CHAUSSEE</td>\n",
       "      <td>F</td>\n",
       "      <td>10</td>\n",
       "      <td>3</td>\n",
       "      <td>1931</td>\n",
       "      <td>BELLEVUE</td>\n",
       "      <td>KING</td>\n",
       "      <td>98007</td>\n",
       "      <td>elizabeth</td>\n",
       "      <td>chaussee</td>\n",
       "      <td>eda</td>\n",
       "      <td>oin</td>\n",
       "      <td>hartley</td>\n",
       "      <td>chaussee</td>\n",
       "      <td>eda oin</td>\n",
       "      <td>hartley chaussee</td>\n",
       "      <td>elizabeth chaussee</td>\n",
       "      <td>ETN</td>\n",
       "      <td>HRTLXS</td>\n",
       "      <td>ELSB0XS</td>\n",
       "    </tr>\n",
       "    <tr>\n",
       "      <th>4</th>\n",
       "      <td>2017025191</td>\n",
       "      <td>MERWIN</td>\n",
       "      <td>ADLER</td>\n",
       "      <td>ALBERTA</td>\n",
       "      <td>SCHNELL</td>\n",
       "      <td>JACOB</td>\n",
       "      <td>ADLER</td>\n",
       "      <td>M</td>\n",
       "      <td>9</td>\n",
       "      <td>11</td>\n",
       "      <td>1941</td>\n",
       "      <td>PALOUSE</td>\n",
       "      <td>WHITMAN</td>\n",
       "      <td>99161</td>\n",
       "      <td>merwin</td>\n",
       "      <td>adler</td>\n",
       "      <td>alberta</td>\n",
       "      <td>schnell</td>\n",
       "      <td>jacob</td>\n",
       "      <td>adler</td>\n",
       "      <td>alberta schnell</td>\n",
       "      <td>jacob adler</td>\n",
       "      <td>merwin adler</td>\n",
       "      <td>ALBRTSXNL</td>\n",
       "      <td>JKBTLR</td>\n",
       "      <td>MRWNTLR</td>\n",
       "    </tr>\n",
       "  </tbody>\n",
       "</table>\n",
       "</div>"
      ],
      "text/plain": [
       "         dsfn     dfname    dlname dmom_fname   dmom_lname ddad_fname  \\\n",
       "0  2017025187    CHARLES   BURNETT    JOHANNA  DEHOLLANDER    CHARLES   \n",
       "1  2017025188    DOUGLAS       LEE       ROSE         SHEA      FRANK   \n",
       "2  2017025189     ARUNEE    TAOSAN    LUMDUAN      SRILAUN       UDON   \n",
       "3  2017025190  ELIZABETH  CHAUSSEE        EDA          OIN    HARTLEY   \n",
       "4  2017025191     MERWIN     ADLER    ALBERTA      SCHNELL      JACOB   \n",
       "\n",
       "  ddad_lname dsex  ddobm  ddobd  ddoby     drescity drescountyl  dreszip  \\\n",
       "0    BURNETT    M      6     11   1932  WOODINVILLE        KING    98072   \n",
       "1        LEE    M      9     29   1958      REDMOND        KING    98052   \n",
       "2     TAOSAN    F      2      5   1947     LYNNWOOD   SNOHOMISH    98036   \n",
       "3   CHAUSSEE    F     10      3   1931     BELLEVUE        KING    98007   \n",
       "4      ADLER    M      9     11   1941      PALOUSE     WHITMAN    99161   \n",
       "\n",
       "  dfname_clean dlname_clean dmom_fname_clean dmom_lname_clean  \\\n",
       "0      charles      burnett          johanna      dehollander   \n",
       "1      douglas          lee             rose             shea   \n",
       "2       arunee       taosan          lumduan          srilaun   \n",
       "3    elizabeth     chaussee              eda              oin   \n",
       "4       merwin        adler          alberta          schnell   \n",
       "\n",
       "  ddad_fname_clean ddad_lname_clean        dmom_fullname     ddad_fullname  \\\n",
       "0          charles          burnett  johanna dehollander   charles burnett   \n",
       "1            frank              lee            rose shea         frank lee   \n",
       "2             udon           taosan      lumduan srilaun       udon taosan   \n",
       "3          hartley         chaussee              eda oin  hartley chaussee   \n",
       "4            jacob            adler      alberta schnell       jacob adler   \n",
       "\n",
       "        dinf_fullname  dmom_phon ddad_phon dinf_phon  \n",
       "0     charles burnett  JHNTHLNTR  XRLSBRNT  XRLSBRNT  \n",
       "1         douglas lee        RSX     FRNKL     TKLSL  \n",
       "2       arunee taosan   LMTNSRLN    UTNTSN    ARNTSN  \n",
       "3  elizabeth chaussee        ETN    HRTLXS   ELSB0XS  \n",
       "4        merwin adler  ALBRTSXNL    JKBTLR   MRWNTLR  "
      ]
     },
     "execution_count": 31,
     "metadata": {},
     "output_type": "execute_result"
    }
   ],
   "source": [
    "d1617.head()"
   ]
  },
  {
   "cell_type": "markdown",
   "metadata": {},
   "source": [
    "##### BIRTH"
   ]
  },
  {
   "cell_type": "code",
   "execution_count": 32,
   "metadata": {},
   "outputs": [],
   "source": [
    "b1617['bfname_clean'] = clean(b1617.bfname,\n",
    "                              lowercase = True,\n",
    "                              replace_by_none = '[\\s-]+',\n",
    "                              strip_accents = 'unicode'\n",
    "                             )"
   ]
  },
  {
   "cell_type": "code",
   "execution_count": null,
   "metadata": {},
   "outputs": [],
   "source": []
  },
  {
   "cell_type": "code",
   "execution_count": 33,
   "metadata": {},
   "outputs": [],
   "source": [
    "b1617['blname_clean'] = clean(b1617.blname,\n",
    "                              lowercase = True,\n",
    "                              replace_by_none = '[\\s-]+',\n",
    "                              strip_accents = 'unicode'\n",
    "                             )"
   ]
  },
  {
   "cell_type": "code",
   "execution_count": 34,
   "metadata": {},
   "outputs": [],
   "source": [
    "b1617['bmom_fname_clean'] = clean(b1617.bmom_fname,\n",
    "                              lowercase = True,\n",
    "                              replace_by_none = '[\\s-]+',\n",
    "                              strip_accents = 'unicode'\n",
    "                             )"
   ]
  },
  {
   "cell_type": "code",
   "execution_count": 35,
   "metadata": {},
   "outputs": [],
   "source": [
    "b1617['bmom_lname_clean'] = clean(b1617.bmom_lname,\n",
    "                                 lowercase = True,\n",
    "                                  replace_by_none = '[\\s-]+',\n",
    "                                  strip_accents = 'unicode'\n",
    "                                 )"
   ]
  },
  {
   "cell_type": "code",
   "execution_count": 36,
   "metadata": {},
   "outputs": [],
   "source": [
    "b1617['bdad_fname_clean'] = clean(b1617.bdad_fname,\n",
    "                                lowercase = True,\n",
    "                                  replace_by_none = '[\\s-]+',\n",
    "                                  strip_accents = 'unicode'\n",
    "                                 )"
   ]
  },
  {
   "cell_type": "code",
   "execution_count": 37,
   "metadata": {},
   "outputs": [],
   "source": [
    "b1617['bdad_lname_clean'] = clean(b1617.bdad_lname,\n",
    "                                lowercase = True,\n",
    "                                  replace_by_none = '[\\s-]+',\n",
    "                                  strip_accents = 'unicode'\n",
    "                                 )"
   ]
  },
  {
   "cell_type": "code",
   "execution_count": 38,
   "metadata": {},
   "outputs": [],
   "source": [
    "b1617['bmom_fullname'] =  b1617.bmom_fname_clean + \" \" +  b1617.bmom_lname_clean\n",
    "b1617['bdad_fullname'] =  b1617.bdad_fname_clean + \" \" +  b1617.bdad_lname_clean\n",
    "b1617['binf_fullname'] =  b1617.bfname_clean + \" \" +  b1617.blname_clean"
   ]
  },
  {
   "cell_type": "code",
   "execution_count": 39,
   "metadata": {},
   "outputs": [],
   "source": [
    "b1617['bmom_phon'] = rl.preprocessing.phonetic(b1617['bmom_fullname'], method = 'metaphone')\n",
    "b1617['bdad_phon'] = rl.preprocessing.phonetic(b1617['bdad_fullname'], method = 'metaphone')\n",
    "b1617['binf_phon'] = rl.preprocessing.phonetic(b1617['binf_fullname'], method = 'metaphone')"
   ]
  },
  {
   "cell_type": "code",
   "execution_count": null,
   "metadata": {},
   "outputs": [],
   "source": []
  },
  {
   "cell_type": "code",
   "execution_count": null,
   "metadata": {},
   "outputs": [],
   "source": []
  },
  {
   "cell_type": "markdown",
   "metadata": {},
   "source": [
    "### reducing data set size"
   ]
  },
  {
   "cell_type": "code",
   "execution_count": 41,
   "metadata": {},
   "outputs": [
    {
     "data": {
      "text/plain": [
       "631"
      ]
     },
     "execution_count": 41,
     "metadata": {},
     "output_type": "execute_result"
    }
   ],
   "source": [
    "matched_dsfn = linked1617['ldsfn'].tolist()\n",
    "len(matched_dsfn)"
   ]
  },
  {
   "cell_type": "code",
   "execution_count": 42,
   "metadata": {},
   "outputs": [
    {
     "data": {
      "text/plain": [
       "631"
      ]
     },
     "execution_count": 42,
     "metadata": {},
     "output_type": "execute_result"
    }
   ],
   "source": [
    "matched_bsfn = linked1617['lbsfn'].tolist()\n",
    "len(matched_bsfn)"
   ]
  },
  {
   "cell_type": "code",
   "execution_count": null,
   "metadata": {},
   "outputs": [],
   "source": []
  },
  {
   "cell_type": "code",
   "execution_count": 43,
   "metadata": {},
   "outputs": [],
   "source": [
    "b1617_not_linked = b1617[(~b1617['bsfn'].isin(matched_bsfn))]"
   ]
  },
  {
   "cell_type": "code",
   "execution_count": null,
   "metadata": {},
   "outputs": [],
   "source": []
  },
  {
   "cell_type": "code",
   "execution_count": 44,
   "metadata": {},
   "outputs": [],
   "source": [
    "b1617_not_linked_undersample = b1617_not_linked.sample(n=1000, random_state=42)"
   ]
  },
  {
   "cell_type": "code",
   "execution_count": null,
   "metadata": {},
   "outputs": [],
   "source": []
  },
  {
   "cell_type": "code",
   "execution_count": 45,
   "metadata": {},
   "outputs": [],
   "source": [
    "b16_17_linked =  b1617[b1617['bsfn'].isin(matched_bsfn)]"
   ]
  },
  {
   "cell_type": "code",
   "execution_count": null,
   "metadata": {},
   "outputs": [],
   "source": []
  },
  {
   "cell_type": "code",
   "execution_count": 75,
   "metadata": {},
   "outputs": [],
   "source": [
    "b1617_fin = pd.concat([b1617_not_linked_undersample, b16_17_linked], axis=0)"
   ]
  },
  {
   "cell_type": "code",
   "execution_count": null,
   "metadata": {},
   "outputs": [],
   "source": []
  },
  {
   "cell_type": "code",
   "execution_count": 78,
   "metadata": {},
   "outputs": [],
   "source": [
    "b1617_fin.bsfn = b1617_fin.bsfn + 10000000000"
   ]
  },
  {
   "cell_type": "code",
   "execution_count": 80,
   "metadata": {},
   "outputs": [],
   "source": [
    "b1617_fin = b1617_fin.set_index('bsfn')"
   ]
  },
  {
   "cell_type": "code",
   "execution_count": null,
   "metadata": {},
   "outputs": [],
   "source": [
    "b1617_fin = b16_17fin"
   ]
  },
  {
   "cell_type": "code",
   "execution_count": null,
   "metadata": {},
   "outputs": [],
   "source": []
  },
  {
   "cell_type": "code",
   "execution_count": 68,
   "metadata": {},
   "outputs": [],
   "source": [
    "d1617_not_linked= d1617[(~d1617['dsfn'].isin(matched_dsfn))]"
   ]
  },
  {
   "cell_type": "code",
   "execution_count": 69,
   "metadata": {},
   "outputs": [],
   "source": [
    "d1617_not_linked_undersample = d1617_not_linked.sample(n=1000, random_state=42)"
   ]
  },
  {
   "cell_type": "code",
   "execution_count": 70,
   "metadata": {},
   "outputs": [],
   "source": [
    "d16_17_linked =  d1617[d1617['dsfn'].isin(matched_dsfn)]"
   ]
  },
  {
   "cell_type": "code",
   "execution_count": 83,
   "metadata": {},
   "outputs": [],
   "source": [
    "d1617_fin = pd.concat([d1617_not_linked_undersample, d16_17_linked])"
   ]
  },
  {
   "cell_type": "code",
   "execution_count": 85,
   "metadata": {},
   "outputs": [],
   "source": [
    "d1617_fin.dsfn = d1617_fin.dsfn + 50000000000"
   ]
  },
  {
   "cell_type": "code",
   "execution_count": 86,
   "metadata": {},
   "outputs": [],
   "source": [
    "d1617_fin = d1617_fin.set_index('dsfn')"
   ]
  },
  {
   "cell_type": "markdown",
   "metadata": {},
   "source": [
    "#### BLOCKING AND INDEXING CANDIDATE RECORD PAIRS"
   ]
  },
  {
   "cell_type": "code",
   "execution_count": 94,
   "metadata": {},
   "outputs": [],
   "source": []
  },
  {
   "cell_type": "code",
   "execution_count": 90,
   "metadata": {},
   "outputs": [
    {
     "data": {
      "text/plain": [
       "<Index>"
      ]
     },
     "execution_count": 90,
     "metadata": {},
     "output_type": "execute_result"
    }
   ],
   "source": [
    "indexer = rl.Index()\n",
    "indexer.block(left_on = 'bdoby', right_on = 'ddoby')\n",
    "indexer.block(left_on = 'bdobm', right_on = 'ddobm' )\n",
    "indexer.block(left_on = 'bdobd', right_on = 'ddobd')\n",
    "indexer.block(left_on = 'bmom_phon', right_on = 'dmom_phon')"
   ]
  },
  {
   "cell_type": "code",
   "execution_count": 91,
   "metadata": {},
   "outputs": [],
   "source": [
    "candidate_pairs = indexer.index(b1617_fin, d1617_fin)"
   ]
  },
  {
   "cell_type": "code",
   "execution_count": null,
   "metadata": {},
   "outputs": [],
   "source": []
  },
  {
   "cell_type": "markdown",
   "metadata": {},
   "source": [
    "##### CANDIDATE PAIR COMPARISONS"
   ]
  },
  {
   "cell_type": "code",
   "execution_count": 92,
   "metadata": {},
   "outputs": [],
   "source": [
    "c=rl.Compare()"
   ]
  },
  {
   "cell_type": "code",
   "execution_count": 93,
   "metadata": {},
   "outputs": [
    {
     "data": {
      "text/plain": [
       "<Compare>"
      ]
     },
     "execution_count": 93,
     "metadata": {},
     "output_type": "execute_result"
    }
   ],
   "source": [
    "c.string('blname_clean', 'dlname_clean', method = 'jarowinkler')\n",
    "c.string('bmom_lname_clean', 'dmom_lname_clean', method = 'jarowinkler')\n",
    "c.string('bmom_phon', 'dmom_phon', method = 'jarowinkler')\n",
    "c.string('bdad_lname_clean', 'ddad_lname_clean', method = 'jarowinkler')\n",
    "c.numeric('bdobm', 'ddobm', method = 'linear', scale = 1 )\n",
    "c.numeric('bdoby', 'ddoby', method = 'linear', scale = 1)\n",
    "c.numeric('bdobd', 'ddobd', method = 'linear', scale = 1)\n",
    "c.exact('bsex', 'dsex')\n",
    "c.exact('b_momrescountyl', 'drescountyl')"
   ]
  },
  {
   "cell_type": "code",
   "execution_count": 94,
   "metadata": {},
   "outputs": [],
   "source": [
    "comp_scores = c.compute(candidate_pairs, b1617_fin, d1617_fin)"
   ]
  },
  {
   "cell_type": "code",
   "execution_count": null,
   "metadata": {},
   "outputs": [],
   "source": []
  },
  {
   "cell_type": "markdown",
   "metadata": {},
   "source": [
    "##### LOGISTIC REGRESSION CLASSIFIER"
   ]
  },
  {
   "cell_type": "code",
   "execution_count": 95,
   "metadata": {},
   "outputs": [
    {
     "name": "stdout",
     "output_type": "stream",
     "text": [
      "<class 'pandas.core.frame.DataFrame'>\n",
      "RangeIndex: 631 entries, 0 to 630\n",
      "Data columns (total 2 columns):\n",
      " #   Column  Non-Null Count  Dtype\n",
      "---  ------  --------------  -----\n",
      " 0   lbsfn   631 non-null    int64\n",
      " 1   ldsfn   631 non-null    int64\n",
      "dtypes: int64(2)\n",
      "memory usage: 10.0 KB\n"
     ]
    }
   ],
   "source": [
    "#get true matches i.e. linked1617 data set and make the same changes to the bsfn and dsfn\n",
    "#fields as with the birth and death data sets i.e. adding 10000000000 to bsfn and 50000000000 to dsfn\n",
    "#to make sure there is no overlap between birth and death indexes.\n",
    "\n",
    "linked1617.info()"
   ]
  },
  {
   "cell_type": "code",
   "execution_count": 96,
   "metadata": {},
   "outputs": [],
   "source": [
    "linked1617.lbsfn = linked1617.lbsfn + 10000000000\n",
    "linked1617.ldsfn = linked1617.ldsfn + 50000000000"
   ]
  },
  {
   "cell_type": "code",
   "execution_count": 97,
   "metadata": {},
   "outputs": [
    {
     "data": {
      "text/html": [
       "<div>\n",
       "<style scoped>\n",
       "    .dataframe tbody tr th:only-of-type {\n",
       "        vertical-align: middle;\n",
       "    }\n",
       "\n",
       "    .dataframe tbody tr th {\n",
       "        vertical-align: top;\n",
       "    }\n",
       "\n",
       "    .dataframe thead th {\n",
       "        text-align: right;\n",
       "    }\n",
       "</style>\n",
       "<table border=\"1\" class=\"dataframe\">\n",
       "  <thead>\n",
       "    <tr style=\"text-align: right;\">\n",
       "      <th></th>\n",
       "      <th>lbsfn</th>\n",
       "      <th>ldsfn</th>\n",
       "    </tr>\n",
       "  </thead>\n",
       "  <tbody>\n",
       "    <tr>\n",
       "      <th>0</th>\n",
       "      <td>12016008461</td>\n",
       "      <td>52016032945</td>\n",
       "    </tr>\n",
       "    <tr>\n",
       "      <th>1</th>\n",
       "      <td>12016082743</td>\n",
       "      <td>52016048536</td>\n",
       "    </tr>\n",
       "    <tr>\n",
       "      <th>2</th>\n",
       "      <td>12016041884</td>\n",
       "      <td>52016028478</td>\n",
       "    </tr>\n",
       "    <tr>\n",
       "      <th>3</th>\n",
       "      <td>12016018813</td>\n",
       "      <td>52016010399</td>\n",
       "    </tr>\n",
       "    <tr>\n",
       "      <th>4</th>\n",
       "      <td>12016036019</td>\n",
       "      <td>52016022637</td>\n",
       "    </tr>\n",
       "  </tbody>\n",
       "</table>\n",
       "</div>"
      ],
      "text/plain": [
       "         lbsfn        ldsfn\n",
       "0  12016008461  52016032945\n",
       "1  12016082743  52016048536\n",
       "2  12016041884  52016028478\n",
       "3  12016018813  52016010399\n",
       "4  12016036019  52016022637"
      ]
     },
     "execution_count": 97,
     "metadata": {},
     "output_type": "execute_result"
    }
   ],
   "source": [
    "linked1617.head()"
   ]
  },
  {
   "cell_type": "code",
   "execution_count": 99,
   "metadata": {},
   "outputs": [],
   "source": [
    "## convert the two linked1617 columns to index as required by record linkage\n",
    "## these will be the indexes of all true matches\n",
    "\n",
    "matches = linked1617.set_index(['lbsfn', 'ldsfn']).index"
   ]
  },
  {
   "cell_type": "code",
   "execution_count": 162,
   "metadata": {},
   "outputs": [],
   "source": [
    "## create testing and training data sets\n",
    "\n",
    "from sklearn.model_selection import train_test_split\n",
    "\n",
    "train_data, test_data = train_test_split(comp_scores, test_size=0.30, random_state=42)"
   ]
  },
  {
   "cell_type": "code",
   "execution_count": 163,
   "metadata": {},
   "outputs": [],
   "source": [
    "## for each set (train and test) identify the true match pairs\n",
    "\n",
    "train_match_index = train_data.index & matches\n",
    "test_match_index = test_data.index & matches"
   ]
  },
  {
   "cell_type": "code",
   "execution_count": 179,
   "metadata": {},
   "outputs": [],
   "source": [
    "#from sklearn.linear_model import LogisticRegression"
   ]
  },
  {
   "cell_type": "code",
   "execution_count": 184,
   "metadata": {},
   "outputs": [],
   "source": [
    "# build the logreg model\n",
    "\n",
    "lr_classifier = rl.LogisticRegressionClassifier()\n",
    "\n",
    "lr_classifier.fit(train_data, train_match_index)"
   ]
  },
  {
   "cell_type": "code",
   "execution_count": null,
   "metadata": {},
   "outputs": [],
   "source": []
  },
  {
   "cell_type": "code",
   "execution_count": 185,
   "metadata": {},
   "outputs": [
    {
     "data": {
      "text/plain": [
       "(532982, 436)"
      ]
     },
     "execution_count": 185,
     "metadata": {},
     "output_type": "execute_result"
    }
   ],
   "source": [
    "len(train_data), len(train_match_index)"
   ]
  },
  {
   "cell_type": "code",
   "execution_count": 186,
   "metadata": {},
   "outputs": [
    {
     "data": {
      "text/plain": [
       "(228422, 195)"
      ]
     },
     "execution_count": 186,
     "metadata": {},
     "output_type": "execute_result"
    }
   ],
   "source": [
    "len(test_data), len(test_match_index)"
   ]
  },
  {
   "cell_type": "code",
   "execution_count": 187,
   "metadata": {},
   "outputs": [],
   "source": [
    "## use classifier to predict using test set\n",
    "\n",
    "predictions = lr_classifier.predict(test_data)"
   ]
  },
  {
   "cell_type": "code",
   "execution_count": 188,
   "metadata": {},
   "outputs": [],
   "source": [
    "## confusion matrix\n",
    "\n",
    "lr_conf_mat = rl.confusion_matrix(test_match_index, predictions, len(test_data))\n"
   ]
  },
  {
   "cell_type": "code",
   "execution_count": 189,
   "metadata": {},
   "outputs": [
    {
     "data": {
      "text/plain": [
       "array([[   190,      5],\n",
       "       [     4, 228223]])"
      ]
     },
     "execution_count": 189,
     "metadata": {},
     "output_type": "execute_result"
    }
   ],
   "source": [
    "##                Prediction\n",
    "##               pos       neg\n",
    "##        pos    TP        FN\n",
    "## Actual\n",
    "##        neg    FP        TN\n",
    "\n",
    "\n",
    "lr_conf_mat"
   ]
  },
  {
   "cell_type": "code",
   "execution_count": 190,
   "metadata": {},
   "outputs": [
    {
     "name": "stdout",
     "output_type": "stream",
     "text": [
      "Precision (TP/TP + FP):  0.979381443298969\n",
      "Recall (TP/TP + FN):  0.9743589743589743\n",
      "F-score (harmonic mean of precision & recall):  0.9768637532133676\n"
     ]
    }
   ],
   "source": [
    "## accuracy measures\n",
    "\n",
    "print(\"Precision (TP/TP + FP): \", rl.precision(lr_conf_mat))\n",
    "print(\"Recall (TP/TP + FN): \", rl.recall(lr_conf_mat))\n",
    "print(\"F-score (harmonic mean of precision & recall): \", rl.fscore(lr_conf_mat))"
   ]
  },
  {
   "cell_type": "code",
   "execution_count": 193,
   "metadata": {},
   "outputs": [
    {
     "name": "stdout",
     "output_type": "stream",
     "text": [
      "Specificity (TN/TN+FP):  0.9999824735898908\n"
     ]
    }
   ],
   "source": [
    "specificity = 228223/(228223+4)\n",
    "print(\"Specificity (TN/TN+FP): \", specificity)"
   ]
  },
  {
   "cell_type": "code",
   "execution_count": 201,
   "metadata": {},
   "outputs": [
    {
     "name": "stdout",
     "output_type": "stream",
     "text": [
      "False positive rate:  0.00001753\n"
     ]
    }
   ],
   "source": [
    "print(\"False positive rate: \", '{0:.8f}'.format((1 - specificity )))"
   ]
  },
  {
   "cell_type": "code",
   "execution_count": null,
   "metadata": {},
   "outputs": [],
   "source": []
  }
 ],
 "metadata": {
  "kernelspec": {
   "display_name": "Python 3",
   "language": "python",
   "name": "python3"
  },
  "language_info": {
   "codemirror_mode": {
    "name": "ipython",
    "version": 3
   },
   "file_extension": ".py",
   "mimetype": "text/x-python",
   "name": "python",
   "nbconvert_exporter": "python",
   "pygments_lexer": "ipython3",
   "version": "3.6.8"
  }
 },
 "nbformat": 4,
 "nbformat_minor": 4
}
