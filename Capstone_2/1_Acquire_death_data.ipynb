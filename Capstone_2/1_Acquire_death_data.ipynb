{
 "cells": [
  {
   "cell_type": "markdown",
   "metadata": {},
   "source": [
    "### 1. ACQUIRE DEATH DATA"
   ]
  },
  {
   "cell_type": "code",
   "execution_count": 1,
   "metadata": {},
   "outputs": [],
   "source": [
    "import pyodbc\n",
    "import pandas as pd"
   ]
  },
  {
   "cell_type": "code",
   "execution_count": 2,
   "metadata": {},
   "outputs": [],
   "source": [
    "## CONNECT TO WHALES & USE SQL QUERY FOR DEATH DATA SET\n",
    "\n",
    "driver = '{SQL Server Native Client 11.0}'\n",
    "\n",
    "conn = pyodbc.connect(\n",
    "        Trusted_Connection='Yes',\n",
    "        Driver='{ODBC Driver 13 for SQL Server}',\n",
    "        Server='doh01dbtump10,9799',\n",
    "        Database='WA_DB_DQSS'\n",
    "        )\n",
    " \n",
    "querystring = (\"SELECT SFN_NUM as 'sfn',\" + \n",
    "        \"ISNULL(SEX, 'NaN') as 'sex', \" + \n",
    "\t\t\"ISNULL(AGE1_CALC, '999') as 'ageyrs',\" + \n",
    "\t\t\"ISNULL(DOD, 'NaN') as 'dod',\" + \n",
    "\t\t\"ISNULL(SUBSTRING(DOD, 7,4), '9999') as 'dody', \" +\n",
    "        \"DCOUNTY as 'dcounty',\" +\n",
    "\t    \"DSTATEL_FIPS_CD as 'dstateFIPS',\" +\n",
    "\t\t\"ISNULL(RACE_NCHS_CD, '99') as 'bridgerace', \" + \n",
    "\t\t\"ISNULL(DETHNIC_NO, 'NaN') as 'hispno', \" + \n",
    "        \"ISNULL(MARITAL, 'NaN') as 'marital', \" +\n",
    "\t\t\"ISNULL(RES_STATE_FIPS_CD, 'NaN') as 'rstatefips', \" + \n",
    "        \"MANNER as 'manner',\" +\n",
    "        \"TOBAC as 'tobac', \" +\n",
    "        \"PREG as 'pg',\" +\n",
    "        \"CERT_DESIG as 'certdesig',\" +       \n",
    "        \"ISNULL(TRX_CAUSE_ACME, 'NaN') as 'UCOD', \" +\n",
    "        \"ISNULL(TRX_REC_AXIS_CD1, 'NaN') as 'MC1', \" +\n",
    "        \"ISNULL(TRX_REC_AXIS_CD2, 'NaN') as 'MC2', \" +       \n",
    "\t\t\"ISNULL(CODIA_QUERY, 'NaN') as 'codAq', \" +\n",
    "\t\t\"ISNULL(CODIB_QUERY, 'NaN') as 'codBq', \" +\n",
    "\t\t\"ISNULL(CODIC_QUERY, 'NaN') as 'codCq', \" +\n",
    "\t\t\"ISNULL(CODID_QUERY, 'NaN') as 'codDq', \" +\n",
    "\t\t\"ISNULL(CONDII_QUERY, 'NaN') as 'codIIq', \" +\n",
    "        \"ISNULL(TRX_REC_AXIS_CD1, '') + ' ' + ISNULL(TRX_REC_AXIS_CD2, '') + ' ' + ISNULL(TRX_REC_AXIS_CD3, '') + ' ' + ISNULL(TRX_REC_AXIS_CD4, '') + ' ' + ISNULL(TRX_REC_AXIS_CD5, '') + ' ' + ISNULL(TRX_REC_AXIS_CD6, '') + ' ' + ISNULL(TRX_REC_AXIS_CD7, '') +\t' ' + ISNULL(TRX_REC_AXIS_CD8, '') + ' ' + ISNULL(TRX_REC_AXIS_CD9, '') +\t' ' + ISNULL(TRX_REC_AXIS_CD10, '') + ' ' + ISNULL(TRX_REC_AXIS_CD11, '') + ' ' + ISNULL(TRX_REC_AXIS_CD12, '') + ' ' + ISNULL(TRX_REC_AXIS_CD13, '') + ' ' + ISNULL(TRX_REC_AXIS_CD14, '') + ' ' + ISNULL(TRX_REC_AXIS_CD15, '') + ' ' + ISNULL(TRX_REC_AXIS_CD16, '') + ' ' + ISNULL(\tTRX_REC_AXIS_CD17, '') + ' ' + ISNULL(TRX_REC_AXIS_CD18, '') + ' ' + ISNULL(TRX_REC_AXIS_CD19, '') + ' ' + ISNULL(\tTRX_REC_AXIS_CD20, '') as 'AllMC',\" +\n",
    "        \"ISNULL(TRX_REC_AXIS_CD2, '') + ' ' + ISNULL(TRX_REC_AXIS_CD3, '') + ' ' + ISNULL(TRX_REC_AXIS_CD4, '') + ' ' + ISNULL(TRX_REC_AXIS_CD5, '') + ' ' + ISNULL(TRX_REC_AXIS_CD6, '') + ' ' + ISNULL(TRX_REC_AXIS_CD7, '') +\t' ' + ISNULL(TRX_REC_AXIS_CD8, '') + ' ' + ISNULL(TRX_REC_AXIS_CD9, '') +\t' ' + ISNULL(TRX_REC_AXIS_CD10, '') + ' ' + ISNULL(TRX_REC_AXIS_CD11, '') + ' ' + ISNULL(TRX_REC_AXIS_CD12, '') + ' ' + ISNULL(TRX_REC_AXIS_CD13, '') + ' ' + ISNULL(TRX_REC_AXIS_CD14, '') + ' ' + ISNULL(TRX_REC_AXIS_CD15, '') + ' ' + ISNULL(TRX_REC_AXIS_CD16, '') + ' ' + ISNULL(\tTRX_REC_AXIS_CD17, '') + ' ' + ISNULL(TRX_REC_AXIS_CD18, '') + ' ' + ISNULL(TRX_REC_AXIS_CD19, '') + ' ' + ISNULL(\tTRX_REC_AXIS_CD20, '') as 'MC2_20',\" +\n",
    "        \"CODIA_QUERY + ' ' + ISNULL(CODIB_QUERY, '') + ' ' + ISNULL(CODIC_QUERY, '') + ' ' + ISNULL(CODID_QUERY, '') + ' ' + ISNULL(CONDII_QUERY, '') + ' ' + ISNULL(INJRY_L_QUERY, '') as 'codlit'\" +               \n",
    "\"FROM [wa_vrvweb_events].[VRV_DEATH_TBL]\" +\n",
    "\"WHERE (DATE_DEATH_YEAR >= 2016) AND (DATE_DEATH_YEAR <= 2019) AND DSTATEL_FIPS_CD = 'WA'\" +\n",
    "\t\"AND VRV_REGISTERED_FLAG = '1'\" +\n",
    "\t\"AND FL_CURRENT = '1'\" +\n",
    "\t\"AND FL_VOIDED = '0'\")\n",
    "\n",
    "dths1619= pd.read_sql_query(querystring, conn)\n"
   ]
  },
  {
   "cell_type": "code",
   "execution_count": 3,
   "metadata": {},
   "outputs": [],
   "source": [
    "## SAVE DATA AS CSV FILE\n",
    "\n",
    "dths1619.to_csv(r'Y:/DQSS/Death/MBG/py/capstone2/data/dth1619_raw.csv', index=None, header=True)"
   ]
  },
  {
   "cell_type": "markdown",
   "metadata": {},
   "source": [
    "**Next notebook: 2_Prepare_data.ipynb**"
   ]
  }
 ],
 "metadata": {
  "kernelspec": {
   "display_name": "Python 3",
   "language": "python",
   "name": "python3"
  },
  "language_info": {
   "codemirror_mode": {
    "name": "ipython",
    "version": 3
   },
   "file_extension": ".py",
   "mimetype": "text/x-python",
   "name": "python",
   "nbconvert_exporter": "python",
   "pygments_lexer": "ipython3",
   "version": "3.8.3"
  }
 },
 "nbformat": 4,
 "nbformat_minor": 4
}
