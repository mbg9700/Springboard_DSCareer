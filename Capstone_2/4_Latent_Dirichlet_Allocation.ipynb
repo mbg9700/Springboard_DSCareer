{
 "cells": [
  {
   "cell_type": "markdown",
   "metadata": {},
   "source": [
    "### 4. LATENT DIRICHLET ALLOCATION"
   ]
  },
  {
   "cell_type": "markdown",
   "metadata": {},
   "source": [
    "Latent Dirichlet Allocation (LDA) is an unsupervised machine learning algorithm used to identify topics within a body of text.  In this case, I'm using LDA with a corpuso of ICD-10 codes from the underlying and multiple cause fields to see if the algorithm can separate the records into a predetermined number of causes of death.\n",
    "\n",
    "LDA works by assuming each document (series of ICD-10 code for each death record) is comprised of multiple topics with some topics being more dominant.  Each topic is made up of key words, again, with certain words within each topic being more dominant. \n",
    "\n",
    "When I specify the number of topics I want the algorithm to find it classifies records into the specified number of topics by rearranging words within topics and topics within documents to reach the best groupings of records. \n",
    "\n",
    "In this section, I used LDA with three versions of the ICD-10 corpus and compared their performance based on a 'coherence score' to determine which type of corpus provides the algorithm the most information. In addition to examining relative performance, I also looked at the most salient codes in each topic to see if the clustering made sense in terms of conditions might co-occur on death records."
   ]
  },
  {
   "cell_type": "code",
   "execution_count": 1,
   "metadata": {},
   "outputs": [],
   "source": [
    "import re\n",
    "import ast\n",
    "import numpy as np\n",
    "import pandas as pd\n",
    "from pprint import pprint\n",
    "from sklearn.feature_extraction.text import CountVectorizer\n",
    "from sklearn.feature_extraction import text \n",
    "\n",
    "# Gensim\n",
    "import gensim\n",
    "import gensim.corpora as corpora\n",
    "from gensim.utils import simple_preprocess\n",
    "from gensim.models import CoherenceModel\n",
    "from gensim.parsing.preprocessing import STOPWORDS\n",
    "\n",
    "from collections import Counter\n",
    "\n",
    "# nltk\n",
    "from nltk.tokenize import word_tokenize\n",
    "from nltk.util import ngrams\n",
    "from tokenize import tokenize\n",
    "\n",
    "# Plotting tools\n",
    "import pyLDAvis\n",
    "import pyLDAvis.gensim  # don't skip this\n",
    "import matplotlib.pyplot as plt\n",
    "%matplotlib inline\n",
    "import seaborn as sns\n",
    "sns.set_style('whitegrid')\n"
   ]
  },
  {
   "cell_type": "markdown",
   "metadata": {},
   "source": [
    "**Load data**"
   ]
  },
  {
   "cell_type": "code",
   "execution_count": 2,
   "metadata": {},
   "outputs": [],
   "source": [
    "ds = pd.read_csv(r'Y:/DQSS/Death/MBG/py/capstone2/data/d1619_clean.csv',\n",
    "                low_memory=False)"
   ]
  },
  {
   "cell_type": "code",
   "execution_count": 3,
   "metadata": {},
   "outputs": [
    {
     "data": {
      "text/plain": [
       "0    211924\n",
       "6      3868\n",
       "5      2973\n",
       "2      2767\n",
       "3      2376\n",
       "1      2149\n",
       "4       534\n",
       "8       368\n",
       "9        38\n",
       "Name: gc_cat, dtype: int64"
      ]
     },
     "execution_count": 3,
     "metadata": {},
     "output_type": "execute_result"
    }
   ],
   "source": [
    "ds.gc_cat.value_counts()"
   ]
  },
  {
   "cell_type": "markdown",
   "metadata": {},
   "source": [
    "**Keep records with garbage underlying cause codes**"
   ]
  },
  {
   "cell_type": "code",
   "execution_count": 4,
   "metadata": {},
   "outputs": [
    {
     "data": {
      "text/plain": [
       "15073"
      ]
     },
     "execution_count": 4,
     "metadata": {},
     "output_type": "execute_result"
    }
   ],
   "source": [
    "ds = ds.loc[ds['gc_cat']!=0, :]\n",
    "len(ds)"
   ]
  },
  {
   "cell_type": "code",
   "execution_count": 5,
   "metadata": {},
   "outputs": [
    {
     "data": {
      "text/html": [
       "<div>\n",
       "<style scoped>\n",
       "    .dataframe tbody tr th:only-of-type {\n",
       "        vertical-align: middle;\n",
       "    }\n",
       "\n",
       "    .dataframe tbody tr th {\n",
       "        vertical-align: top;\n",
       "    }\n",
       "\n",
       "    .dataframe thead th {\n",
       "        text-align: right;\n",
       "    }\n",
       "</style>\n",
       "<table border=\"1\" class=\"dataframe\">\n",
       "  <thead>\n",
       "    <tr style=\"text-align: right;\">\n",
       "      <th></th>\n",
       "      <th>sfn</th>\n",
       "      <th>sex</th>\n",
       "      <th>dody</th>\n",
       "      <th>dcounty</th>\n",
       "      <th>hispanic</th>\n",
       "      <th>race</th>\n",
       "      <th>agegrp</th>\n",
       "      <th>manner</th>\n",
       "      <th>tobac</th>\n",
       "      <th>pg</th>\n",
       "      <th>gc_cat</th>\n",
       "      <th>gc_cat_label</th>\n",
       "      <th>UCOD</th>\n",
       "      <th>MC2</th>\n",
       "      <th>AllMC</th>\n",
       "      <th>MC2_20</th>\n",
       "      <th>codlit</th>\n",
       "      <th>cert_label</th>\n",
       "    </tr>\n",
       "  </thead>\n",
       "  <tbody>\n",
       "    <tr>\n",
       "      <th>3</th>\n",
       "      <td>2017025190</td>\n",
       "      <td>F</td>\n",
       "      <td>2017</td>\n",
       "      <td>KING</td>\n",
       "      <td>No</td>\n",
       "      <td>White</td>\n",
       "      <td>80+ yrs</td>\n",
       "      <td>N</td>\n",
       "      <td>N</td>\n",
       "      <td>8.0</td>\n",
       "      <td>4</td>\n",
       "      <td>4-Volume depletion</td>\n",
       "      <td>E86</td>\n",
       "      <td>N179</td>\n",
       "      <td>E86 N179 R13</td>\n",
       "      <td>N179 R13</td>\n",
       "      <td>ACUTE RENAL FAILURE DEHYDRATION DYSPHAGIA</td>\n",
       "      <td>1-Physician</td>\n",
       "    </tr>\n",
       "    <tr>\n",
       "      <th>4</th>\n",
       "      <td>2017025191</td>\n",
       "      <td>M</td>\n",
       "      <td>2017</td>\n",
       "      <td>SPOKANE</td>\n",
       "      <td>No</td>\n",
       "      <td>White</td>\n",
       "      <td>70-79 yrs</td>\n",
       "      <td>N</td>\n",
       "      <td>Y</td>\n",
       "      <td>8.0</td>\n",
       "      <td>4</td>\n",
       "      <td>4-Volume depletion</td>\n",
       "      <td>E870</td>\n",
       "      <td>F54</td>\n",
       "      <td>E870 F54 G729 I509 J969 R093 R418 R53 T179 W80...</td>\n",
       "      <td>F54 G729 I509 J969 R093 R418 R53 T179 W80     ...</td>\n",
       "      <td>PULSELESS ELECTRICAL ACTIVITY ARREST HYPOXEMIC...</td>\n",
       "      <td>1-Physician</td>\n",
       "    </tr>\n",
       "    <tr>\n",
       "      <th>12</th>\n",
       "      <td>2017019369</td>\n",
       "      <td>F</td>\n",
       "      <td>2017</td>\n",
       "      <td>PIERCE</td>\n",
       "      <td>No</td>\n",
       "      <td>White</td>\n",
       "      <td>80+ yrs</td>\n",
       "      <td>N</td>\n",
       "      <td>N</td>\n",
       "      <td>8.0</td>\n",
       "      <td>2</td>\n",
       "      <td>2-Heart failure</td>\n",
       "      <td>I500</td>\n",
       "      <td>NaN</td>\n",
       "      <td>I500</td>\n",
       "      <td></td>\n",
       "      <td>PROBABLE CONGESTIVE HEART FAILURE    HOSPICE</td>\n",
       "      <td>1-Physician</td>\n",
       "    </tr>\n",
       "    <tr>\n",
       "      <th>30</th>\n",
       "      <td>2017014601</td>\n",
       "      <td>F</td>\n",
       "      <td>2017</td>\n",
       "      <td>KING</td>\n",
       "      <td>No</td>\n",
       "      <td>White</td>\n",
       "      <td>70-79 yrs</td>\n",
       "      <td>N</td>\n",
       "      <td>N</td>\n",
       "      <td>8.0</td>\n",
       "      <td>1</td>\n",
       "      <td>1-Septicemia</td>\n",
       "      <td>A419</td>\n",
       "      <td>I469</td>\n",
       "      <td>A419 I469 R092</td>\n",
       "      <td>I469 R092</td>\n",
       "      <td>RESPIRATORY AND CARDIAC ARREST SEVERE SEPSIS, ...</td>\n",
       "      <td>1-Physician</td>\n",
       "    </tr>\n",
       "    <tr>\n",
       "      <th>38</th>\n",
       "      <td>2017025200</td>\n",
       "      <td>F</td>\n",
       "      <td>2017</td>\n",
       "      <td>SNOHOMISH</td>\n",
       "      <td>No</td>\n",
       "      <td>White</td>\n",
       "      <td>80+ yrs</td>\n",
       "      <td>N</td>\n",
       "      <td>N</td>\n",
       "      <td>8.0</td>\n",
       "      <td>2</td>\n",
       "      <td>2-Heart failure</td>\n",
       "      <td>I500</td>\n",
       "      <td>D469</td>\n",
       "      <td>I500 D469 I802 J189 T828 Y831</td>\n",
       "      <td>D469 I802 J189 T828 Y831</td>\n",
       "      <td>CONGESTIVE HEART FAILURE, CAUSE NOT FORMALLY W...</td>\n",
       "      <td>1-Physician</td>\n",
       "    </tr>\n",
       "  </tbody>\n",
       "</table>\n",
       "</div>"
      ],
      "text/plain": [
       "           sfn sex  dody    dcounty hispanic   race     agegrp manner tobac  \\\n",
       "3   2017025190   F  2017       KING       No  White    80+ yrs      N     N   \n",
       "4   2017025191   M  2017    SPOKANE       No  White  70-79 yrs      N     Y   \n",
       "12  2017019369   F  2017     PIERCE       No  White    80+ yrs      N     N   \n",
       "30  2017014601   F  2017       KING       No  White  70-79 yrs      N     N   \n",
       "38  2017025200   F  2017  SNOHOMISH       No  White    80+ yrs      N     N   \n",
       "\n",
       "     pg  gc_cat        gc_cat_label  UCOD   MC2  \\\n",
       "3   8.0       4  4-Volume depletion   E86  N179   \n",
       "4   8.0       4  4-Volume depletion  E870   F54   \n",
       "12  8.0       2     2-Heart failure  I500   NaN   \n",
       "30  8.0       1        1-Septicemia  A419  I469   \n",
       "38  8.0       2     2-Heart failure  I500  D469   \n",
       "\n",
       "                                                AllMC  \\\n",
       "3                       E86 N179 R13                    \n",
       "4   E870 F54 G729 I509 J969 R093 R418 R53 T179 W80...   \n",
       "12                            I500                      \n",
       "30                    A419 I469 R092                    \n",
       "38        I500 D469 I802 J189 T828 Y831                 \n",
       "\n",
       "                                               MC2_20  \\\n",
       "3                           N179 R13                    \n",
       "4   F54 G729 I509 J969 R093 R418 R53 T179 W80     ...   \n",
       "12                                                      \n",
       "30                         I469 R092                    \n",
       "38             D469 I802 J189 T828 Y831                 \n",
       "\n",
       "                                               codlit   cert_label  \n",
       "3        ACUTE RENAL FAILURE DEHYDRATION DYSPHAGIA     1-Physician  \n",
       "4   PULSELESS ELECTRICAL ACTIVITY ARREST HYPOXEMIC...  1-Physician  \n",
       "12      PROBABLE CONGESTIVE HEART FAILURE    HOSPICE   1-Physician  \n",
       "30  RESPIRATORY AND CARDIAC ARREST SEVERE SEPSIS, ...  1-Physician  \n",
       "38  CONGESTIVE HEART FAILURE, CAUSE NOT FORMALLY W...  1-Physician  "
      ]
     },
     "execution_count": 5,
     "metadata": {},
     "output_type": "execute_result"
    }
   ],
   "source": [
    "ds.head()"
   ]
  },
  {
   "cell_type": "markdown",
   "metadata": {},
   "source": [
    "**Tokenize text and create 3 versions of the corpus**"
   ]
  },
  {
   "cell_type": "markdown",
   "metadata": {},
   "source": [
    "The three versions of the ICD-10 corpus are:\n",
    "\n",
    "1. Short ICD-10 unigrams without garbage codes in any multiple cause field\n",
    "2. Short ICD-10 unigrams with garbage codes\n",
    "3. Short ICD-10 bigrams without garbage codes in any multiple cause field"
   ]
  },
  {
   "cell_type": "code",
   "execution_count": 6,
   "metadata": {},
   "outputs": [],
   "source": [
    "## call stored object 'gc_all' created in 2_PrepData_ICD10.ipynb.  Will only work if you run that notebook first.\n",
    "%store -r gc_all  \n",
    "# add 'respiratory failure' codes to the list of stopwords\n",
    "respfail_tobac_codes = ['J960','J961','J969','F179']\n",
    "gc_plus = gc_all + respfail_tobac_codes"
   ]
  },
  {
   "cell_type": "code",
   "execution_count": 7,
   "metadata": {},
   "outputs": [],
   "source": [
    "from myfunction_2 import make_corpi\n",
    "ds['clean_mc'], ds['short_mc'], ds['clean_mcgc'] = make_corpi(ds['AllMC'], gc_plus)"
   ]
  },
  {
   "cell_type": "code",
   "execution_count": 8,
   "metadata": {},
   "outputs": [],
   "source": [
    "def make_bigrams(doc):\n",
    "    bi = []\n",
    "    for i in range(len(doc)-1):\n",
    "        bigrm = doc[i] + \"_\" + doc[i+1]\n",
    "        bi.append(bigrm)\n",
    "    return bi"
   ]
  },
  {
   "cell_type": "code",
   "execution_count": 9,
   "metadata": {},
   "outputs": [],
   "source": [
    "# short code bigrams\n",
    "ds['bigrams'] = ds.loc[:,'short_mc'].apply(lambda row: make_bigrams(row))"
   ]
  },
  {
   "cell_type": "code",
   "execution_count": 10,
   "metadata": {},
   "outputs": [],
   "source": [
    "#long code bigrams\n",
    "ds['bigrams_long'] = ds.loc[:,'clean_mc'].apply(lambda row: make_bigrams(row))"
   ]
  },
  {
   "cell_type": "code",
   "execution_count": 11,
   "metadata": {},
   "outputs": [
    {
     "data": {
      "text/html": [
       "<div>\n",
       "<style scoped>\n",
       "    .dataframe tbody tr th:only-of-type {\n",
       "        vertical-align: middle;\n",
       "    }\n",
       "\n",
       "    .dataframe tbody tr th {\n",
       "        vertical-align: top;\n",
       "    }\n",
       "\n",
       "    .dataframe thead th {\n",
       "        text-align: right;\n",
       "    }\n",
       "</style>\n",
       "<table border=\"1\" class=\"dataframe\">\n",
       "  <thead>\n",
       "    <tr style=\"text-align: right;\">\n",
       "      <th></th>\n",
       "      <th>sfn</th>\n",
       "      <th>sex</th>\n",
       "      <th>dody</th>\n",
       "      <th>dcounty</th>\n",
       "      <th>hispanic</th>\n",
       "      <th>race</th>\n",
       "      <th>agegrp</th>\n",
       "      <th>manner</th>\n",
       "      <th>tobac</th>\n",
       "      <th>pg</th>\n",
       "      <th>...</th>\n",
       "      <th>MC2</th>\n",
       "      <th>AllMC</th>\n",
       "      <th>MC2_20</th>\n",
       "      <th>codlit</th>\n",
       "      <th>cert_label</th>\n",
       "      <th>clean_mc</th>\n",
       "      <th>short_mc</th>\n",
       "      <th>clean_mcgc</th>\n",
       "      <th>bigrams</th>\n",
       "      <th>bigrams_long</th>\n",
       "    </tr>\n",
       "  </thead>\n",
       "  <tbody>\n",
       "    <tr>\n",
       "      <th>3</th>\n",
       "      <td>2017025190</td>\n",
       "      <td>F</td>\n",
       "      <td>2017</td>\n",
       "      <td>KING</td>\n",
       "      <td>No</td>\n",
       "      <td>White</td>\n",
       "      <td>80+ yrs</td>\n",
       "      <td>N</td>\n",
       "      <td>N</td>\n",
       "      <td>8.0</td>\n",
       "      <td>...</td>\n",
       "      <td>N179</td>\n",
       "      <td>E86 N179 R13</td>\n",
       "      <td>N179 R13</td>\n",
       "      <td>ACUTE RENAL FAILURE DEHYDRATION DYSPHAGIA</td>\n",
       "      <td>1-Physician</td>\n",
       "      <td>[N179]</td>\n",
       "      <td>[N17]</td>\n",
       "      <td>[E86, N17, R13]</td>\n",
       "      <td>[]</td>\n",
       "      <td>[]</td>\n",
       "    </tr>\n",
       "    <tr>\n",
       "      <th>4</th>\n",
       "      <td>2017025191</td>\n",
       "      <td>M</td>\n",
       "      <td>2017</td>\n",
       "      <td>SPOKANE</td>\n",
       "      <td>No</td>\n",
       "      <td>White</td>\n",
       "      <td>70-79 yrs</td>\n",
       "      <td>N</td>\n",
       "      <td>Y</td>\n",
       "      <td>8.0</td>\n",
       "      <td>...</td>\n",
       "      <td>F54</td>\n",
       "      <td>E870 F54 G729 I509 J969 R093 R418 R53 T179 W80...</td>\n",
       "      <td>F54 G729 I509 J969 R093 R418 R53 T179 W80     ...</td>\n",
       "      <td>PULSELESS ELECTRICAL ACTIVITY ARREST HYPOXEMIC...</td>\n",
       "      <td>1-Physician</td>\n",
       "      <td>[F54, G729, W80]</td>\n",
       "      <td>[F54, G72, W80]</td>\n",
       "      <td>[E87, F54, G72, I50, J96, R09, R41, R53, T17, ...</td>\n",
       "      <td>[F54_G72, G72_W80]</td>\n",
       "      <td>[F54_G729, G729_W80]</td>\n",
       "    </tr>\n",
       "    <tr>\n",
       "      <th>12</th>\n",
       "      <td>2017019369</td>\n",
       "      <td>F</td>\n",
       "      <td>2017</td>\n",
       "      <td>PIERCE</td>\n",
       "      <td>No</td>\n",
       "      <td>White</td>\n",
       "      <td>80+ yrs</td>\n",
       "      <td>N</td>\n",
       "      <td>N</td>\n",
       "      <td>8.0</td>\n",
       "      <td>...</td>\n",
       "      <td>NaN</td>\n",
       "      <td>I500</td>\n",
       "      <td></td>\n",
       "      <td>PROBABLE CONGESTIVE HEART FAILURE    HOSPICE</td>\n",
       "      <td>1-Physician</td>\n",
       "      <td>[]</td>\n",
       "      <td>[]</td>\n",
       "      <td>[I50]</td>\n",
       "      <td>[]</td>\n",
       "      <td>[]</td>\n",
       "    </tr>\n",
       "    <tr>\n",
       "      <th>30</th>\n",
       "      <td>2017014601</td>\n",
       "      <td>F</td>\n",
       "      <td>2017</td>\n",
       "      <td>KING</td>\n",
       "      <td>No</td>\n",
       "      <td>White</td>\n",
       "      <td>70-79 yrs</td>\n",
       "      <td>N</td>\n",
       "      <td>N</td>\n",
       "      <td>8.0</td>\n",
       "      <td>...</td>\n",
       "      <td>I469</td>\n",
       "      <td>A419 I469 R092</td>\n",
       "      <td>I469 R092</td>\n",
       "      <td>RESPIRATORY AND CARDIAC ARREST SEVERE SEPSIS, ...</td>\n",
       "      <td>1-Physician</td>\n",
       "      <td>[]</td>\n",
       "      <td>[]</td>\n",
       "      <td>[A41, I46, R09]</td>\n",
       "      <td>[]</td>\n",
       "      <td>[]</td>\n",
       "    </tr>\n",
       "    <tr>\n",
       "      <th>38</th>\n",
       "      <td>2017025200</td>\n",
       "      <td>F</td>\n",
       "      <td>2017</td>\n",
       "      <td>SNOHOMISH</td>\n",
       "      <td>No</td>\n",
       "      <td>White</td>\n",
       "      <td>80+ yrs</td>\n",
       "      <td>N</td>\n",
       "      <td>N</td>\n",
       "      <td>8.0</td>\n",
       "      <td>...</td>\n",
       "      <td>D469</td>\n",
       "      <td>I500 D469 I802 J189 T828 Y831</td>\n",
       "      <td>D469 I802 J189 T828 Y831</td>\n",
       "      <td>CONGESTIVE HEART FAILURE, CAUSE NOT FORMALLY W...</td>\n",
       "      <td>1-Physician</td>\n",
       "      <td>[D469, I802, J189, Y831]</td>\n",
       "      <td>[D46, I80, J18, Y83]</td>\n",
       "      <td>[I50, D46, I80, J18, T82, Y83]</td>\n",
       "      <td>[D46_I80, I80_J18, J18_Y83]</td>\n",
       "      <td>[D469_I802, I802_J189, J189_Y831]</td>\n",
       "    </tr>\n",
       "  </tbody>\n",
       "</table>\n",
       "<p>5 rows × 23 columns</p>\n",
       "</div>"
      ],
      "text/plain": [
       "           sfn sex  dody    dcounty hispanic   race     agegrp manner tobac  \\\n",
       "3   2017025190   F  2017       KING       No  White    80+ yrs      N     N   \n",
       "4   2017025191   M  2017    SPOKANE       No  White  70-79 yrs      N     Y   \n",
       "12  2017019369   F  2017     PIERCE       No  White    80+ yrs      N     N   \n",
       "30  2017014601   F  2017       KING       No  White  70-79 yrs      N     N   \n",
       "38  2017025200   F  2017  SNOHOMISH       No  White    80+ yrs      N     N   \n",
       "\n",
       "     pg  ...   MC2                                              AllMC  \\\n",
       "3   8.0  ...  N179                      E86 N179 R13                    \n",
       "4   8.0  ...   F54  E870 F54 G729 I509 J969 R093 R418 R53 T179 W80...   \n",
       "12  8.0  ...   NaN                            I500                      \n",
       "30  8.0  ...  I469                    A419 I469 R092                    \n",
       "38  8.0  ...  D469        I500 D469 I802 J189 T828 Y831                 \n",
       "\n",
       "                                               MC2_20  \\\n",
       "3                           N179 R13                    \n",
       "4   F54 G729 I509 J969 R093 R418 R53 T179 W80     ...   \n",
       "12                                                      \n",
       "30                         I469 R092                    \n",
       "38             D469 I802 J189 T828 Y831                 \n",
       "\n",
       "                                               codlit   cert_label  \\\n",
       "3        ACUTE RENAL FAILURE DEHYDRATION DYSPHAGIA     1-Physician   \n",
       "4   PULSELESS ELECTRICAL ACTIVITY ARREST HYPOXEMIC...  1-Physician   \n",
       "12      PROBABLE CONGESTIVE HEART FAILURE    HOSPICE   1-Physician   \n",
       "30  RESPIRATORY AND CARDIAC ARREST SEVERE SEPSIS, ...  1-Physician   \n",
       "38  CONGESTIVE HEART FAILURE, CAUSE NOT FORMALLY W...  1-Physician   \n",
       "\n",
       "                    clean_mc              short_mc  \\\n",
       "3                     [N179]                 [N17]   \n",
       "4           [F54, G729, W80]       [F54, G72, W80]   \n",
       "12                        []                    []   \n",
       "30                        []                    []   \n",
       "38  [D469, I802, J189, Y831]  [D46, I80, J18, Y83]   \n",
       "\n",
       "                                           clean_mcgc  \\\n",
       "3                                     [E86, N17, R13]   \n",
       "4   [E87, F54, G72, I50, J96, R09, R41, R53, T17, ...   \n",
       "12                                              [I50]   \n",
       "30                                    [A41, I46, R09]   \n",
       "38                     [I50, D46, I80, J18, T82, Y83]   \n",
       "\n",
       "                        bigrams                       bigrams_long  \n",
       "3                            []                                 []  \n",
       "4            [F54_G72, G72_W80]               [F54_G729, G729_W80]  \n",
       "12                           []                                 []  \n",
       "30                           []                                 []  \n",
       "38  [D46_I80, I80_J18, J18_Y83]  [D469_I802, I802_J189, J189_Y831]  \n",
       "\n",
       "[5 rows x 23 columns]"
      ]
     },
     "execution_count": 11,
     "metadata": {},
     "output_type": "execute_result"
    }
   ],
   "source": [
    "ds.head()"
   ]
  },
  {
   "cell_type": "code",
   "execution_count": 12,
   "metadata": {},
   "outputs": [
    {
     "data": {
      "text/plain": [
       "7797"
      ]
     },
     "execution_count": 12,
     "metadata": {},
     "output_type": "execute_result"
    }
   ],
   "source": [
    " # to remove rows with empty lists in 'clean_mc' column.\n",
    "ds = ds[ds.clean_mc.astype(bool)]\n",
    "len(ds)"
   ]
  },
  {
   "cell_type": "code",
   "execution_count": null,
   "metadata": {},
   "outputs": [],
   "source": []
  },
  {
   "cell_type": "markdown",
   "metadata": {},
   "source": [
    "**CONSTRUCT DICTIONARY**"
   ]
  },
  {
   "cell_type": "markdown",
   "metadata": {},
   "source": [
    "In this step I create dictionaries for each version of the corpus.  A dictionary is a pairing of each unique word with a unique ID.  It is a necessary precursor for the LDA algorithm."
   ]
  },
  {
   "cell_type": "code",
   "execution_count": 13,
   "metadata": {},
   "outputs": [],
   "source": [
    "'''create dictionary for later use and also create bag of words - prune words that occur in 5 or fewer records\n",
    "or more than 50% of records'''\n",
    "\n",
    "dictionary_uni_short = gensim.corpora.Dictionary(ds.short_mc)\n",
    "dictionary_uni_short.filter_extremes(no_below=5, no_above=0.5)\n",
    "\n",
    "dictionary_uni_long = gensim.corpora.Dictionary(ds.clean_mc)\n",
    "dictionary_uni_long.filter_extremes(no_below=5, no_above=0.65)\n",
    "\n",
    "dictionary_bi = gensim.corpora.Dictionary(ds.bigrams)\n",
    "dictionary_bi.filter_extremes(no_below=5, no_above=0.5)\n",
    "\n",
    "dictionary_bi_long = gensim.corpora.Dictionary(ds.bigrams_long)\n",
    "dictionary_bi_long.filter_extremes(no_below=5, no_above=0.5)"
   ]
  },
  {
   "cell_type": "markdown",
   "metadata": {},
   "source": [
    "Below is a print out of the first 11 ID-word pairs to show the contents of one of the dictionaries."
   ]
  },
  {
   "cell_type": "code",
   "execution_count": 14,
   "metadata": {},
   "outputs": [
    {
     "name": "stdout",
     "output_type": "stream",
     "text": [
      "0 N17\n",
      "1 W80\n",
      "2 D46\n",
      "3 I80\n",
      "4 J18\n",
      "5 Y83\n",
      "6 B18\n",
      "7 C78\n",
      "8 I12\n",
      "9 I48\n",
      "10 J44\n"
     ]
    }
   ],
   "source": [
    "count = 0\n",
    "for k, v in dictionary_uni_short.iteritems():\n",
    "    print(k, v)\n",
    "    count += 1\n",
    "    if count > 10:\n",
    "        break"
   ]
  },
  {
   "cell_type": "markdown",
   "metadata": {},
   "source": [
    "The length of each of the dictionaries is relatively short indicating that the 'vocabulary' (ICD-10 codes) is not varied."
   ]
  },
  {
   "cell_type": "code",
   "execution_count": 15,
   "metadata": {},
   "outputs": [
    {
     "data": {
      "text/plain": [
       "(245, 360, 361, 284)"
      ]
     },
     "execution_count": 15,
     "metadata": {},
     "output_type": "execute_result"
    }
   ],
   "source": [
    "len(dictionary_uni_short),len(dictionary_uni_long),len(dictionary_bi),len(dictionary_bi_long)"
   ]
  },
  {
   "cell_type": "markdown",
   "metadata": {},
   "source": [
    "**Construct bag of words for each corpus**"
   ]
  },
  {
   "cell_type": "markdown",
   "metadata": {},
   "source": [
    "Another precursor step is to convert the ICD-10 codes into a 'bag of words' which is esssentially the collection of words in a given text without regard to the order of the words or the grammar but including each word as many time as it occurs in a given text."
   ]
  },
  {
   "cell_type": "code",
   "execution_count": 16,
   "metadata": {},
   "outputs": [],
   "source": [
    "'''bag of words - for each document there is now a dictionary.  \n",
    "Word counts can be figured out using these with BOW.'''\n",
    "\n",
    "bow_corpus_uni_short = [dictionary_uni_short.doc2bow(doc) for doc in ds.short_mc]\n",
    "bow_corpus_uni_long = [dictionary_uni_long.doc2bow(doc) for doc in ds.clean_mc]\n",
    "bow_corpus_bi = [dictionary_bi.doc2bow(doc) for doc in ds.bigrams]\n",
    "bow_corpus_bi_long = [dictionary_bi_long.doc2bow(doc) for doc in ds.bigrams_long]"
   ]
  },
  {
   "cell_type": "markdown",
   "metadata": {},
   "source": [
    "**Create TF-IDF for each corpus**"
   ]
  },
  {
   "cell_type": "markdown",
   "metadata": {},
   "source": [
    "The text (ICD-10 codes) in the corpus cannot be used directly for modeling and need to be converted into a vector of numbers.  TF-IDF is a calculation that captures the frequency of each word (in this case ICD-10 codes) within the document and also across all documents in the data set.  These values are provided to models for use in classification."
   ]
  },
  {
   "cell_type": "code",
   "execution_count": 17,
   "metadata": {},
   "outputs": [],
   "source": [
    "from gensim import corpora, models\n",
    "\n",
    "tfidf_uni_short = models.TfidfModel(bow_corpus_uni_short)\n",
    "corpus_uni_short = tfidf_uni_short[bow_corpus_uni_short]\n",
    "\n",
    "tfidf_uni_long = models.TfidfModel(bow_corpus_uni_long)\n",
    "corpus_uni_long = tfidf_uni_long[bow_corpus_uni_long]\n",
    "\n",
    "tfidf_bi = models.TfidfModel(bow_corpus_bi)\n",
    "corpus_bi = tfidf_bi[bow_corpus_bi]\n",
    "\n",
    "tfidf_bi_long = models.TfidfModel(bow_corpus_bi_long)\n",
    "corpus_bi_long = tfidf_bi_long[bow_corpus_bi_long]"
   ]
  },
  {
   "cell_type": "markdown",
   "metadata": {},
   "source": [
    "For each of the LDA models I built I specified that the algorithm should find 6 topics. I also kept other parameters constant so that I could compare models. In earlier LDA models with a corpus consisting of ICD-10 codes including garbage codes I found that the models performed relatively poorly compared with models that used a corpus without garbage codes.  It is likely that the frequently occuring garbage code obscured any meaningful information that might have helped the algorithm distinguish between topics. This analysis examines the performance of LDA using corpora with different combinations of ngrams and ICD-code length."
   ]
  },
  {
   "cell_type": "markdown",
   "metadata": {},
   "source": [
    "**LDA MODEL WITH UNIGRAMS AND SHORT ICD-10 CODES EXCLUDING GARBAGE CODES**"
   ]
  },
  {
   "cell_type": "markdown",
   "metadata": {},
   "source": [
    "In this version of the model I use unigrams (single ICD-10 codes) in their abridged form i.e. without the fourth character. The reason for using this version of ICD-10 codes is to try to group together records that share the same 'root' because in many instances the fourth character adds a level of detail to the cause of death that may not be helpful to the algorithm.  In a way, the exclusion of the last character is analogous to removing word endings like 'ed' or 'ing' and keeping just the root."
   ]
  },
  {
   "cell_type": "code",
   "execution_count": 18,
   "metadata": {},
   "outputs": [],
   "source": [
    "ldamodel_all_uni_short = gensim.models.LdaMulticore(corpus_uni_short,\n",
    "                                              id2word=dictionary_uni_short,\n",
    "                                              num_topics=6,\n",
    "                                              passes=30,\n",
    "                                              alpha = 0.5,\n",
    "                                              eta = 0.1,\n",
    "                                              workers=4,\n",
    "                                              random_state=55\n",
    "                                             )"
   ]
  },
  {
   "cell_type": "code",
   "execution_count": 19,
   "metadata": {},
   "outputs": [
    {
     "name": "stdout",
     "output_type": "stream",
     "text": [
      "Topic: 0 \n",
      "Words: 0.132*\"F01\" + 0.102*\"E66\" + 0.099*\"J69\" + 0.074*\"I64\" + 0.045*\"F19\" + 0.043*\"I12\" + 0.042*\"E46\" + 0.033*\"K70\" + 0.031*\"K76\" + 0.030*\"F17\"\n",
      "Topic: 1 \n",
      "Words: 0.159*\"C78\" + 0.123*\"C79\" + 0.104*\"E11\" + 0.078*\"I25\" + 0.051*\"F10\" + 0.044*\"J90\" + 0.037*\"J81\" + 0.030*\"J80\" + 0.024*\"I80\" + 0.023*\"I47\"\n",
      "Topic: 2 \n",
      "Words: 0.183*\"I48\" + 0.174*\"J44\" + 0.144*\"E14\" + 0.090*\"G30\" + 0.073*\"N19\" + 0.070*\"N28\" + 0.057*\"I71\" + 0.032*\"J98\" + 0.024*\"Y83\" + 0.021*\"G31\"\n",
      "Topic: 3 \n",
      "Words: 0.219*\"N17\" + 0.075*\"I21\" + 0.066*\"K72\" + 0.054*\"G47\" + 0.045*\"I35\" + 0.043*\"I69\" + 0.038*\"K56\" + 0.032*\"I63\" + 0.030*\"J84\" + 0.027*\"F32\"\n",
      "Topic: 4 \n",
      "Words: 0.171*\"F03\" + 0.161*\"J18\" + 0.119*\"E78\" + 0.051*\"K92\" + 0.050*\"I45\" + 0.040*\"K74\" + 0.039*\"D64\" + 0.031*\"I42\" + 0.030*\"E03\" + 0.029*\"G20\"\n",
      "Topic: 5 \n",
      "Words: 0.185*\"N18\" + 0.162*\"A49\" + 0.161*\"G93\" + 0.074*\"N39\" + 0.059*\"I73\" + 0.049*\"I95\" + 0.034*\"W80\" + 0.030*\"J15\" + 0.016*\"I44\" + 0.015*\"G45\"\n"
     ]
    }
   ],
   "source": [
    "for idx, topic in ldamodel_all_uni_short.print_topics(-1):\n",
    "    print('Topic: {} \\nWords: {}'.format(idx,topic))"
   ]
  },
  {
   "cell_type": "code",
   "execution_count": 20,
   "metadata": {},
   "outputs": [
    {
     "name": "stdout",
     "output_type": "stream",
     "text": [
      "Coherence score for LDA model: short ICD-10 unigrams, 6 topics, 30 passes:  0.49322028766626236\n"
     ]
    }
   ],
   "source": [
    "coherence_ldamodel_all_uni_short = CoherenceModel(model = ldamodel_all_uni_short, \n",
    "                                      texts = ds.short_mc, \n",
    "                                      dictionary = dictionary_uni_short, \n",
    "                                      coherence = 'c_v')\n",
    "\n",
    "coherence_ldamodel_all_uni_short = coherence_ldamodel_all_uni_short.get_coherence()\n",
    "\n",
    "print(\"Coherence score for LDA model: short ICD-10 unigrams, 6 topics, 30 passes: \", coherence_ldamodel_all_uni_short)\n"
   ]
  },
  {
   "cell_type": "markdown",
   "metadata": {},
   "source": [
    "This LDA model had a coherence score of 0.49 (out of a range of 0 to 1 with 1 being the best score).  The coherence score provides an estimate of the similarity or relative distance of ICD-10 codes in each topic. Based on the experience of other NLP practitioners, it would seem that achieving a score of 0.7 is a good goal and that 0.9 is very unlikely to happen unless words are identical.\n",
    "\n"
   ]
  },
  {
   "cell_type": "code",
   "execution_count": 21,
   "metadata": {},
   "outputs": [
    {
     "data": {
      "text/html": [
       "\n",
       "<link rel=\"stylesheet\" type=\"text/css\" href=\"https://cdn.rawgit.com/bmabey/pyLDAvis/files/ldavis.v1.0.0.css\">\n",
       "\n",
       "\n",
       "<div id=\"ldavis_el2234417343842436484284201388\"></div>\n",
       "<script type=\"text/javascript\">\n",
       "\n",
       "var ldavis_el2234417343842436484284201388_data = {\"mdsDat\": {\"x\": [0.28121708556514874, -0.10924356572885491, -0.21759571220833232, 0.08742383434195021, -0.20068726573813175, 0.1588856237682203], \"y\": [0.1649018281426341, -0.30143698755468445, 0.08593925338762266, -0.1572854141221142, 0.22215832003474684, -0.014276999888204796], \"topics\": [1, 2, 3, 4, 5, 6], \"cluster\": [1, 1, 1, 1, 1, 1], \"Freq\": [17.67119598388672, 17.395673751831055, 17.084148406982422, 16.04629135131836, 16.001489639282227, 15.801209449768066]}, \"tinfo\": {\"Term\": [\"N17\", \"F03\", \"A49\", \"G93\", \"N18\", \"C78\", \"I48\", \"E14\", \"J44\", \"F01\", \"C79\", \"E78\", \"J18\", \"E11\", \"J69\", \"E66\", \"G30\", \"N19\", \"N39\", \"I64\", \"I21\", \"I25\", \"K72\", \"I71\", \"I73\", \"N28\", \"G47\", \"F10\", \"K92\", \"I45\", \"I71\", \"N19\", \"J98\", \"G30\", \"G31\", \"L89\", \"Y83\", \"M06\", \"E10\", \"K65\", \"C67\", \"E14\", \"J11\", \"G40\", \"M35\", \"D72\", \"K75\", \"K26\", \"K50\", \"J47\", \"I70\", \"G90\", \"C56\", \"L40\", \"Q90\", \"D32\", \"C55\", \"I48\", \"X44\", \"N28\", \"J44\", \"F14\", \"C79\", \"J81\", \"I47\", \"J80\", \"J90\", \"L03\", \"C50\", \"F10\", \"E83\", \"C77\", \"F20\", \"I80\", \"D65\", \"I11\", \"K21\", \"C78\", \"D69\", \"E11\", \"K85\", \"A04\", \"D62\", \"I38\", \"K66\", \"C91\", \"M86\", \"K86\", \"N12\", \"F06\", \"F91\", \"I24\", \"I25\", \"M19\", \"J18\", \"N18\", \"F03\", \"G20\", \"E88\", \"R63\", \"K55\", \"I45\", \"J45\", \"C61\", \"K92\", \"I67\", \"J93\", \"E78\", \"K74\", \"R26\", \"I42\", \"F11\", \"M48\", \"C85\", \"M10\", \"I77\", \"L08\", \"D47\", \"I27\", \"D64\", \"I60\", \"C49\", \"L97\", \"X42\", \"I81\", \"D45\", \"E03\", \"J18\", \"I48\", \"N18\", \"G93\", \"A49\", \"I95\", \"N39\", \"I73\", \"W80\", \"G45\", \"I44\", \"N13\", \"W19\", \"M62\", \"K83\", \"D50\", \"M54\", \"D89\", \"C22\", \"K51\", \"C64\", \"J10\", \"X41\", \"I87\", \"N32\", \"M32\", \"F25\", \"N20\", \"C43\", \"K52\", \"G41\", \"E63\", \"M00\", \"N18\", \"J15\", \"I33\", \"J44\", \"J18\", \"N28\", \"N17\", \"F19\", \"I12\", \"J69\", \"K70\", \"I64\", \"F17\", \"F01\", \"E43\", \"K76\", \"D68\", \"B18\", \"K63\", \"I31\", \"A09\", \"I62\", \"C18\", \"E46\", \"E66\", \"M81\", \"Y44\", \"F05\", \"N00\", \"I61\", \"L98\", \"Y43\", \"F43\", \"I34\", \"J86\", \"D70\", \"K27\", \"N40\", \"G82\", \"J18\", \"I35\", \"K56\", \"J84\", \"K72\", \"F32\", \"I69\", \"C34\", \"I63\", \"G47\", \"W18\", \"I21\", \"J43\", \"X59\", \"Y84\", \"G81\", \"E16\", \"F41\", \"G62\", \"N30\", \"D61\", \"G80\", \"F15\", \"F31\", \"E27\", \"G35\", \"D46\", \"K57\", \"K81\", \"J94\", \"C25\", \"N17\", \"I48\", \"J44\"], \"Freq\": [384.0, 310.0, 274.0, 273.0, 342.0, 298.0, 390.0, 277.0, 377.0, 224.0, 227.0, 220.0, 371.0, 197.0, 168.0, 175.0, 170.0, 137.0, 126.0, 126.0, 126.0, 158.0, 110.0, 106.0, 101.0, 151.0, 91.0, 95.0, 94.0, 90.0, 105.93960571289062, 135.67953491210938, 59.18693542480469, 167.60321044921875, 39.06233596801758, 28.190237045288086, 44.93766403198242, 25.124549865722656, 17.115276336669922, 15.753186225891113, 15.225689888000488, 266.455322265625, 9.117905616760254, 9.072016716003418, 8.639861106872559, 7.984401702880859, 7.977499485015869, 8.017837524414062, 6.889173984527588, 6.866905689239502, 5.073484420776367, 5.026636123657227, 4.958289623260498, 4.6923346519470215, 4.61477518081665, 3.980520725250244, 3.981290578842163, 339.9956359863281, 3.4255590438842773, 130.12413024902344, 322.6075439453125, 5.124822616577148, 225.0464630126953, 66.97280883789062, 42.196449279785156, 55.52509307861328, 80.59159088134766, 35.6531982421875, 30.755691528320312, 93.76341247558594, 30.450057983398438, 23.25354766845703, 21.01982307434082, 44.60652160644531, 20.05277442932129, 23.536375045776367, 18.566722869873047, 289.90771484375, 17.90049934387207, 190.47779846191406, 14.469009399414062, 20.510568618774414, 20.348758697509766, 13.899243354797363, 12.12370491027832, 12.282788276672363, 11.576994895935059, 13.524913787841797, 10.874069213867188, 10.324586868286133, 9.915331840515137, 9.271169662475586, 142.09756469726562, 16.06959342956543, 26.04932975769043, 13.495165824890137, 307.16778564453125, 52.40237045288086, 52.258609771728516, 39.51872634887695, 39.11084747314453, 89.0282974243164, 32.177459716796875, 38.77050018310547, 92.04664611816406, 31.849063873291016, 17.293733596801758, 213.48223876953125, 71.6189956665039, 15.073343276977539, 56.36384582519531, 18.950071334838867, 11.072318077087402, 10.889296531677246, 9.4401216506958, 9.244750022888184, 12.548954963684082, 7.2998456954956055, 51.79823684692383, 69.5269775390625, 5.9937663078308105, 5.613590717315674, 5.384067058563232, 4.777961730957031, 4.01676082611084, 4.269591331481934, 54.515380859375, 288.859619140625, 10.450141906738281, 7.002188682556152, 271.694091796875, 272.5704345703125, 82.8153305053711, 125.0195083618164, 100.13312530517578, 57.80884552001953, 24.805267333984375, 27.15789031982422, 18.374826431274414, 18.34003257751465, 17.845657348632812, 16.63335418701172, 14.136576652526855, 12.250329971313477, 10.702424049377441, 10.061481475830078, 9.639209747314453, 9.215561866760254, 8.592790603637695, 8.371038436889648, 8.129061698913574, 7.893425941467285, 7.7679595947265625, 7.195311069488525, 6.9527130126953125, 6.617517948150635, 6.321056842803955, 6.096167087554932, 6.08372688293457, 5.256844520568848, 311.94927978515625, 49.832942962646484, 13.88788890838623, 17.30034065246582, 13.773772239685059, 9.252346992492676, 9.620763778686523, 74.86331176757812, 72.85459899902344, 166.43722534179688, 55.35911560058594, 124.9427719116211, 50.94546890258789, 221.22518920898438, 48.44691848754883, 52.69277572631836, 33.92720031738281, 38.62395477294922, 30.435108184814453, 21.643115997314453, 23.22225570678711, 20.570173263549805, 18.789653778076172, 70.71515655517578, 170.3596954345703, 18.775493621826172, 16.561878204345703, 15.303546905517578, 14.581701278686523, 14.317071914672852, 14.435952186584473, 13.57342529296875, 13.27143383026123, 13.201218605041504, 10.98736572265625, 9.11275863647461, 8.663043022155762, 11.20423412322998, 10.87170696258545, 31.241769790649414, 75.0509033203125, 63.75048828125, 50.39308547973633, 109.76060485839844, 45.34566879272461, 70.49945831298828, 41.66402053833008, 53.02933120727539, 89.65475463867188, 33.43482971191406, 124.06461334228516, 36.48337173461914, 45.270904541015625, 28.993694305419922, 20.94647979736328, 18.72161865234375, 15.825287818908691, 14.170489311218262, 14.413084983825684, 17.00414276123047, 12.96956729888916, 29.65079689025879, 12.865878105163574, 11.960648536682129, 12.054123878479004, 11.929522514343262, 11.854790687561035, 11.62794017791748, 8.749540328979492, 8.497507095336914, 362.543212890625, 21.955291748046875, 13.01427173614502], \"Total\": [384.0, 310.0, 274.0, 273.0, 342.0, 298.0, 390.0, 277.0, 377.0, 224.0, 227.0, 220.0, 371.0, 197.0, 168.0, 175.0, 170.0, 137.0, 126.0, 126.0, 126.0, 158.0, 110.0, 106.0, 101.0, 151.0, 91.0, 95.0, 94.0, 90.0, 106.78963470458984, 137.03277587890625, 59.89295959472656, 170.0977020263672, 39.650634765625, 28.807220458984375, 45.99816131591797, 25.765838623046875, 17.65773582458496, 16.289989471435547, 15.75754451751709, 277.87091064453125, 9.635188102722168, 9.613110542297363, 9.16508674621582, 8.502287864685059, 8.502754211425781, 8.55475902557373, 7.407251834869385, 7.389194488525391, 5.589206218719482, 5.544436454772949, 5.474732398986816, 5.210587501525879, 5.129731178283691, 4.495060920715332, 4.498464107513428, 390.4845275878906, 3.961245059967041, 151.80874633789062, 377.6593322753906, 5.990020275115967, 227.15496826171875, 67.88985443115234, 42.883644104003906, 56.46084976196289, 82.07695007324219, 36.34117126464844, 31.35234832763672, 95.76904296875, 31.11343002319336, 23.796550750732422, 21.543712615966797, 45.77037048339844, 20.605382919311523, 24.25425148010254, 19.134105682373047, 298.93719482421875, 18.47854232788086, 197.3134307861328, 15.00678539276123, 21.28577423095703, 21.14143180847168, 14.454769134521484, 12.64441204071045, 12.810497283935547, 12.102784156799316, 14.149771690368652, 11.389689445495605, 10.85452938079834, 10.452695846557617, 9.784111022949219, 158.56300354003906, 18.4750919342041, 371.6004638671875, 342.91351318359375, 310.61968994140625, 52.993743896484375, 53.00386428833008, 40.09964370727539, 39.702510833740234, 90.5405502319336, 32.749656677246094, 39.53565979003906, 94.08556365966797, 32.765743255615234, 17.85675811767578, 220.47296142578125, 74.1572265625, 15.61241626739502, 58.62395095825195, 19.778261184692383, 11.585633277893066, 11.4009370803833, 9.950395584106445, 9.762670516967773, 13.253890991210938, 7.806978702545166, 55.432857513427734, 75.27133178710938, 6.502753257751465, 6.120290756225586, 5.890356540679932, 5.284479141235352, 4.52328634262085, 4.809103488922119, 63.764400482177734, 371.6004638671875, 390.4845275878906, 342.91351318359375, 273.4258728027344, 274.6868896484375, 83.52095794677734, 126.25897979736328, 101.16072845458984, 58.48637008666992, 25.311527252197266, 27.73370933532715, 18.883106231689453, 18.85692024230957, 18.366744995117188, 17.14503288269043, 14.663933753967285, 12.809629440307617, 11.215864181518555, 10.557737350463867, 10.139793395996094, 9.715760231018066, 9.092883110046387, 8.86663818359375, 8.625666618347168, 8.390331268310547, 8.268796920776367, 7.690585613250732, 7.452435493469238, 7.11279296875, 6.816160202026367, 6.5922651290893555, 6.586329460144043, 5.752338409423828, 342.91351318359375, 55.30731964111328, 15.291699409484863, 377.6593322753906, 371.6004638671875, 151.80874633789062, 384.4726257324219, 75.47006225585938, 73.52222442626953, 168.15670776367188, 56.05175018310547, 126.55171966552734, 51.61699676513672, 224.24122619628906, 49.160133361816406, 53.51545715332031, 34.46797180175781, 39.421539306640625, 31.07990837097168, 22.148868560791016, 23.768512725830078, 21.095535278320312, 19.288774490356445, 72.67603302001953, 175.26315307617188, 19.36113166809082, 17.08901023864746, 15.812033653259277, 15.084944725036621, 14.814183235168457, 14.940423965454102, 14.076136589050293, 13.789806365966797, 13.725629806518555, 11.48941421508789, 9.607794761657715, 9.161341667175293, 11.860077857971191, 13.747528076171875, 371.6004638671875, 75.70254516601562, 64.31806945800781, 50.917137145996094, 110.91419219970703, 45.89973068237305, 71.36392211914062, 42.181251525878906, 53.779178619384766, 91.03475189208984, 33.95521926879883, 126.02656555175781, 37.07053756713867, 46.09588623046875, 29.670814514160156, 21.455974578857422, 19.225099563598633, 16.329010009765625, 14.676791191101074, 14.938161849975586, 17.64143943786621, 13.462501525878906, 30.781784057617188, 13.359918594360352, 12.451672554016113, 12.554398536682129, 12.425174713134766, 12.35835075378418, 12.12413501739502, 9.23916244506836, 8.98788070678711, 384.4726257324219, 390.4845275878906, 377.6593322753906], \"Category\": [\"Default\", \"Default\", \"Default\", \"Default\", \"Default\", \"Default\", \"Default\", \"Default\", \"Default\", \"Default\", \"Default\", \"Default\", \"Default\", \"Default\", \"Default\", \"Default\", \"Default\", \"Default\", \"Default\", \"Default\", \"Default\", \"Default\", \"Default\", \"Default\", \"Default\", \"Default\", \"Default\", \"Default\", \"Default\", \"Default\", \"Topic1\", \"Topic1\", \"Topic1\", \"Topic1\", \"Topic1\", \"Topic1\", \"Topic1\", \"Topic1\", \"Topic1\", \"Topic1\", \"Topic1\", \"Topic1\", \"Topic1\", \"Topic1\", \"Topic1\", \"Topic1\", \"Topic1\", \"Topic1\", \"Topic1\", \"Topic1\", \"Topic1\", \"Topic1\", \"Topic1\", \"Topic1\", \"Topic1\", \"Topic1\", \"Topic1\", \"Topic1\", \"Topic1\", \"Topic1\", \"Topic1\", \"Topic1\", \"Topic2\", \"Topic2\", \"Topic2\", \"Topic2\", \"Topic2\", \"Topic2\", \"Topic2\", \"Topic2\", \"Topic2\", \"Topic2\", \"Topic2\", \"Topic2\", \"Topic2\", \"Topic2\", \"Topic2\", \"Topic2\", \"Topic2\", \"Topic2\", \"Topic2\", \"Topic2\", \"Topic2\", \"Topic2\", \"Topic2\", \"Topic2\", \"Topic2\", \"Topic2\", \"Topic2\", \"Topic2\", \"Topic2\", \"Topic2\", \"Topic2\", \"Topic2\", \"Topic2\", \"Topic2\", \"Topic3\", \"Topic3\", \"Topic3\", \"Topic3\", \"Topic3\", \"Topic3\", \"Topic3\", \"Topic3\", \"Topic3\", \"Topic3\", \"Topic3\", \"Topic3\", \"Topic3\", \"Topic3\", \"Topic3\", \"Topic3\", \"Topic3\", \"Topic3\", \"Topic3\", \"Topic3\", \"Topic3\", \"Topic3\", \"Topic3\", \"Topic3\", \"Topic3\", \"Topic3\", \"Topic3\", \"Topic3\", \"Topic3\", \"Topic3\", \"Topic3\", \"Topic3\", \"Topic3\", \"Topic3\", \"Topic4\", \"Topic4\", \"Topic4\", \"Topic4\", \"Topic4\", \"Topic4\", \"Topic4\", \"Topic4\", \"Topic4\", \"Topic4\", \"Topic4\", \"Topic4\", \"Topic4\", \"Topic4\", \"Topic4\", \"Topic4\", \"Topic4\", \"Topic4\", \"Topic4\", \"Topic4\", \"Topic4\", \"Topic4\", \"Topic4\", \"Topic4\", \"Topic4\", \"Topic4\", \"Topic4\", \"Topic4\", \"Topic4\", \"Topic4\", \"Topic4\", \"Topic4\", \"Topic4\", \"Topic4\", \"Topic4\", \"Topic4\", \"Topic4\", \"Topic5\", \"Topic5\", \"Topic5\", \"Topic5\", \"Topic5\", \"Topic5\", \"Topic5\", \"Topic5\", \"Topic5\", \"Topic5\", \"Topic5\", \"Topic5\", \"Topic5\", \"Topic5\", \"Topic5\", \"Topic5\", \"Topic5\", \"Topic5\", \"Topic5\", \"Topic5\", \"Topic5\", \"Topic5\", \"Topic5\", \"Topic5\", \"Topic5\", \"Topic5\", \"Topic5\", \"Topic5\", \"Topic5\", \"Topic5\", \"Topic5\", \"Topic5\", \"Topic5\", \"Topic6\", \"Topic6\", \"Topic6\", \"Topic6\", \"Topic6\", \"Topic6\", \"Topic6\", \"Topic6\", \"Topic6\", \"Topic6\", \"Topic6\", \"Topic6\", \"Topic6\", \"Topic6\", \"Topic6\", \"Topic6\", \"Topic6\", \"Topic6\", \"Topic6\", \"Topic6\", \"Topic6\", \"Topic6\", \"Topic6\", \"Topic6\", \"Topic6\", \"Topic6\", \"Topic6\", \"Topic6\", \"Topic6\", \"Topic6\", \"Topic6\", \"Topic6\", \"Topic6\"], \"logprob\": [30.0, 29.0, 28.0, 27.0, 26.0, 25.0, 24.0, 23.0, 22.0, 21.0, 20.0, 19.0, 18.0, 17.0, 16.0, 15.0, 14.0, 13.0, 12.0, 11.0, 10.0, 9.0, 8.0, 7.0, 6.0, 5.0, 4.0, 3.0, 2.0, 1.0, -2.8619000911712646, -2.614500045776367, -3.4440999031066895, -2.4031999111175537, -3.8596999645233154, -4.185800075531006, -3.7195000648498535, -4.301000118255615, -4.684800148010254, -4.7677998542785645, -4.801799774169922, -1.9395999908447266, -5.314599990844727, -5.3196001052856445, -5.3684000968933105, -5.447299957275391, -5.448200225830078, -5.4430999755859375, -5.594900131225586, -5.598100185394287, -5.9008002281188965, -5.910099983215332, -5.923799991607666, -5.978899955749512, -5.99560022354126, -6.143400192260742, -6.143199920654297, -1.6958999633789062, -6.293600082397461, -2.6563000679016113, -1.7483999729156494, -5.890699863433838, -2.0927999019622803, -3.304800033569336, -3.7667999267578125, -3.492300033569336, -3.1196999549865723, -3.93530011177063, -4.083000183105469, -2.9683001041412354, -4.0929999351501465, -4.362599849700928, -4.463600158691406, -3.711199998855591, -4.510700225830078, -4.350599765777588, -4.587699890136719, -1.8394999504089355, -4.624300003051758, -2.2595999240875244, -4.837100028991699, -4.4882001876831055, -4.496099948883057, -4.877299785614014, -5.013899803161621, -5.000899791717529, -5.060100078582764, -4.904600143432617, -5.122700214385986, -5.174600124359131, -5.215000152587891, -5.282199859619141, -2.5525999069213867, -4.7322001457214355, -4.249100208282471, -4.906799793243408, -1.7635999917984009, -3.532099962234497, -3.5348000526428223, -3.814300060272217, -3.8245999813079834, -3.0020999908447266, -4.019800186157227, -3.833400011062622, -2.9686999320983887, -4.03000020980835, -4.640699863433838, -2.127500057220459, -3.2197000980377197, -4.77810001373291, -3.459199905395508, -4.549200057983398, -5.086599826812744, -5.103300094604492, -5.246099948883057, -5.267000198364258, -4.961400032043457, -5.503200054168701, -3.5436999797821045, -3.249300003051758, -5.700300216674805, -5.7657999992370605, -5.807600021362305, -5.927000045776367, -6.100599765777588, -6.0395002365112305, -3.492500066757202, -1.8250999450683594, -5.144400119781494, -5.5447998046875, -1.823699951171875, -1.8205000162124634, -3.011699914932251, -2.599900007247925, -2.821899890899658, -3.3712000846862793, -4.217299938201904, -4.126699924468994, -4.517399787902832, -4.5192999839782715, -4.546599864959717, -4.6168999671936035, -4.779600143432617, -4.922800064086914, -5.0578999519348145, -5.11959981918335, -5.162499904632568, -5.207499980926514, -5.277400016784668, -5.303599834442139, -5.332900047302246, -5.362299919128418, -5.378399848937988, -5.454899787902832, -5.489200115203857, -5.538599967956543, -5.584499835968018, -5.620699882507324, -5.622700214385986, -5.768799781799316, -1.6855000257492065, -3.519700050354004, -4.797299861907959, -4.577600002288818, -4.805600166320801, -5.203499794006348, -5.164400100708008, -3.1098999977111816, -3.1370999813079834, -2.3108999729156494, -3.4117000102996826, -2.5977001190185547, -3.494800090789795, -2.026400089263916, -3.545099973678589, -3.4611001014709473, -3.9012999534606934, -3.771699905395508, -4.010000228881836, -4.350900173187256, -4.2804999351501465, -4.401700019836426, -4.492300033569336, -3.1668999195098877, -2.2876999378204346, -4.493000030517578, -4.618500232696533, -4.697500228881836, -4.745800018310547, -4.764100074768066, -4.755799770355225, -4.817399978637695, -4.839900016784668, -4.845300197601318, -5.028800010681152, -5.21589994430542, -5.266499996185303, -5.009300231933594, -5.039400100708008, -3.983799934387207, -3.0947999954223633, -3.257999897003174, -3.4930999279022217, -2.7146999835968018, -3.5987000465393066, -3.157399892807007, -3.683300018310547, -3.4421000480651855, -2.9170000553131104, -3.90339994430542, -2.5922000408172607, -3.8160998821258545, -3.6003000736236572, -4.045899868011475, -4.370999813079834, -4.48330020904541, -4.651400089263916, -4.7617998123168945, -4.744800090789795, -4.579500198364258, -4.850399971008301, -4.023499965667725, -4.858399868011475, -4.931300163269043, -4.923600196838379, -4.934000015258789, -4.940199851989746, -4.95959997177124, -5.24399995803833, -5.273200035095215, -1.5197999477386475, -4.323999881744385, -4.84689998626709], \"loglift\": [30.0, 29.0, 28.0, 27.0, 26.0, 25.0, 24.0, 23.0, 22.0, 21.0, 20.0, 19.0, 18.0, 17.0, 16.0, 15.0, 14.0, 13.0, 12.0, 11.0, 10.0, 9.0, 8.0, 7.0, 6.0, 5.0, 4.0, 3.0, 2.0, 1.0, 1.7252000570297241, 1.7232999801635742, 1.7214000225067139, 1.718500018119812, 1.7182999849319458, 1.7115999460220337, 1.7099000215530396, 1.7079999446868896, 1.7020000219345093, 1.6996999979019165, 1.6988999843597412, 1.6913000345230103, 1.6780999898910522, 1.6753000020980835, 1.6742000579833984, 1.6704000234603882, 1.6694999933242798, 1.6684000492095947, 1.6606999635696411, 1.6598999500274658, 1.6363999843597412, 1.635200023651123, 1.6341999769210815, 1.628499984741211, 1.6274000406265259, 1.6117000579833984, 1.6110999584197998, 1.5947999954223633, 1.5879000425338745, 1.5791000127792358, 1.575700044631958, 1.5772000551223755, 1.7395999431610107, 1.7352999448776245, 1.732800006866455, 1.732200026512146, 1.7307000160217285, 1.7297999858856201, 1.729699969291687, 1.7278000116348267, 1.7273999452590942, 1.7259000539779663, 1.7243000268936157, 1.7231999635696411, 1.7217999696731567, 1.7188999652862549, 1.7187999486923218, 1.7182999849319458, 1.7172000408172607, 1.7137000560760498, 1.712499976158142, 1.7117999792099, 1.7107000350952148, 1.7098000049591064, 1.7069000005722046, 1.7069000005722046, 1.7044999599456787, 1.7037999629974365, 1.7026000022888184, 1.6988999843597412, 1.6962000131607056, 1.695099949836731, 1.639299988746643, 1.6095000505447388, -0.9089000225067139, -1.486199975013733, 1.7558000087738037, 1.7558000087738037, 1.7529000043869019, 1.7524000406265259, 1.7519999742507935, 1.7502000331878662, 1.749400019645691, 1.747499942779541, 1.7451000213623047, 1.7386000156402588, 1.7350000143051147, 1.7347999811172485, 1.732200026512146, 1.7318999767303467, 1.7276999950408936, 1.7242000102996826, 1.7216999530792236, 1.7210999727249146, 1.714400053024292, 1.712499976158142, 1.712399959564209, 1.6999000310897827, 1.6992000341415405, 1.687600016593933, 1.6855000257492065, 1.6806000471115112, 1.6770999431610107, 1.6663000583648682, 1.648300051689148, 1.6480000019073486, 1.6102999448776245, 1.5151000022888184, -1.8538000583648682, -2.1242001056671143, 1.8233000040054321, 1.8220000267028809, 1.8212000131607056, 1.8198000192642212, 1.8194999694824219, 1.8179999589920044, 1.809499979019165, 1.8086999654769897, 1.80239999294281, 1.801900029182434, 1.8008999824523926, 1.799399971961975, 1.7930999994277954, 1.784999966621399, 1.7827999591827393, 1.781499981880188, 1.779099941253662, 1.7768000364303589, 1.7731000185012817, 1.7721999883651733, 1.770400047302246, 1.7685999870300293, 1.767199993133545, 1.763100028038025, 1.7603000402450562, 1.7575000524520874, 1.7542999982833862, 1.7515000104904175, 1.7503000497817993, 1.7395999431610107, 1.7351000308990479, 1.7254999876022339, 1.7333999872207642, -1.253600001335144, -1.465399980545044, -0.9681000113487244, -1.858299970626831, 1.8243999481201172, 1.8234000205993652, 1.8221999406814575, 1.820099949836731, 1.819700002670288, 1.8193999528884888, 1.8188999891281128, 1.8178999423980713, 1.8170000314712524, 1.8166999816894531, 1.812000036239624, 1.8114999532699585, 1.809399962425232, 1.8092000484466553, 1.8072999715805054, 1.8063000440597534, 1.8050999641418457, 1.8041000366210938, 1.801800012588501, 1.801200032234192, 1.7998000383377075, 1.7985999584197998, 1.7984000444412231, 1.7980999946594238, 1.7961000204086304, 1.7941999435424805, 1.7934999465942383, 1.7877999544143677, 1.7796000242233276, 1.7766000032424927, 1.7755999565124512, 1.5978000164031982, -0.6435999870300293, 1.836400032043457, 1.8361999988555908, 1.8346999883651733, 1.8345999717712402, 1.832900047302246, 1.832900047302246, 1.8327000141143799, 1.8309999704360962, 1.829800009727478, 1.8295999765396118, 1.8293999433517456, 1.8291000127792358, 1.8270000219345093, 1.8220000267028809, 1.8210999965667725, 1.81850004196167, 1.8136999607086182, 1.809999942779541, 1.8092999458312988, 1.8083000183105469, 1.807800054550171, 1.8076000213623047, 1.8073999881744385, 1.804900050163269, 1.8043999671936035, 1.8043999671936035, 1.8035000562667847, 1.8033000230789185, 1.7905999422073364, 1.7890000343322754, 1.7863999605178833, -1.0333000421524048, -1.5228999853134155]}, \"token.table\": {\"Topic\": [2, 5, 4, 6, 5, 5, 4, 6, 6, 4, 3, 2, 1, 1, 3, 4, 1, 2, 1, 2, 3, 4, 5, 6, 2, 3, 5, 3, 2, 1, 3, 6, 3, 4, 6, 2, 3, 5, 2, 5, 2, 5, 1, 4, 3, 6, 1, 1, 2, 3, 4, 5, 6, 1, 3, 4, 5, 6, 6, 6, 5, 3, 5, 4, 2, 3, 4, 5, 6, 1, 3, 4, 5, 6, 2, 3, 3, 4, 5, 6, 1, 3, 4, 6, 5, 2, 2, 5, 6, 3, 1, 6, 5, 5, 2, 4, 6, 6, 6, 5, 2, 3, 1, 3, 5, 1, 6, 1, 4, 4, 6, 6, 6, 6, 4, 5, 6, 1, 4, 5, 2, 5, 4, 6, 2, 1, 2, 4, 5, 6, 2, 3, 6, 5, 4, 5, 5, 6, 2, 3, 6, 4, 3, 4, 2, 1, 2, 3, 4, 5, 6, 3, 5, 5, 6, 4, 5, 3, 6, 1, 1, 4, 3, 2, 3, 4, 4, 4, 1, 1, 2, 4, 6, 1, 2, 3, 4, 5, 6, 6, 1, 2, 3, 4, 5, 6, 3, 1, 5, 6, 2, 2, 6, 5, 2, 6, 3, 6, 1, 2, 1, 5, 1, 4, 4, 3, 6, 6, 5, 1, 2, 5, 6, 3, 5, 1, 5, 6, 4, 2, 2, 3, 5, 6, 2, 3, 1, 1, 3, 5, 4, 1, 3, 2, 6, 4, 1, 3, 4, 4, 5, 2, 5, 2, 4, 1, 2, 3, 4, 5, 6, 1, 2, 3, 4, 5, 6, 1, 4, 4, 1, 2, 3, 4, 5, 6, 6, 4, 4, 5, 1, 3, 3, 6, 4, 4, 4, 3, 1, 6, 5, 5, 1, 6], \"Freq\": [0.9865744113922119, 0.967666745185852, 0.9938588738441467, 0.003640508744865656, 0.9893068671226501, 0.985028862953186, 0.9471726417541504, 0.8900874853134155, 0.9957030415534973, 0.9841422438621521, 0.980345606803894, 0.9887616634368896, 0.8891924023628235, 0.9132866263389587, 0.9864512085914612, 0.9263299703598022, 0.9519249796867371, 0.9665266275405884, 0.0033451842609792948, 0.9701034426689148, 0.016725922003388405, 0.0033451842609792948, 0.0033451842609792948, 0.0033451842609792948, 0.9905132055282593, 0.004402280785143375, 0.004402280785143375, 0.9648329615592957, 0.9367318153381348, 0.8898655772209167, 0.8317558765411377, 0.9657812118530273, 0.8966336846351624, 0.9547233581542969, 0.9636402130126953, 0.9460096955299377, 0.9299689531326294, 0.0664263516664505, 0.9706201553344727, 0.9864230155944824, 0.974102795124054, 0.9367393851280212, 0.9409232139587402, 0.9807536602020264, 0.8625502586364746, 0.14114458858966827, 0.9627508521080017, 0.005068078637123108, 0.9629349708557129, 0.005068078637123108, 0.010136157274246216, 0.015204235911369324, 0.005068078637123108, 0.9572790265083313, 0.007197586819529533, 0.0035987934097647667, 0.007197586819529533, 0.0215927604585886, 0.9882913827896118, 0.9637259244918823, 0.9764009118080139, 0.013759694062173367, 0.9769383072853088, 0.910977840423584, 0.005705705843865871, 0.005705705843865871, 0.005705705843865871, 0.9699699878692627, 0.011411411687731743, 0.009071406908333302, 0.9661048650741577, 0.004535703454166651, 0.009071406908333302, 0.009071406908333302, 0.9642138481140137, 0.9810605645179749, 0.004459483083337545, 0.004459483083337545, 0.985545814037323, 0.004459483083337545, 0.003219370963051915, 0.9883468747138977, 0.003219370963051915, 0.003219370963051915, 0.9486445784568787, 0.9212744235992432, 0.9815280437469482, 0.010441787540912628, 0.010441787540912628, 0.9606506824493408, 0.8347217440605164, 0.9746024012565613, 0.9880466461181641, 0.9937715530395508, 0.9747623801231384, 0.910203754901886, 0.9730598330497742, 0.9803978800773621, 0.9798511862754822, 0.9427253603935242, 0.9566909670829773, 0.9812479019165039, 0.9876676797866821, 0.0058789742179214954, 0.0058789742179214954, 0.9835907816886902, 0.9558402895927429, 0.9362214207649231, 0.9101575613021851, 0.9876922965049744, 0.9886334538459778, 0.9538869857788086, 0.9656451940536499, 0.9787483811378479, 0.0727403461933136, 0.800143837928772, 0.1454806923866272, 0.9018049240112305, 0.9947851300239563, 0.00365729839541018, 0.9895172119140625, 0.9928970336914062, 0.00793483480811119, 0.9839195609092712, 0.9198587536811829, 0.006306641269475222, 0.895543098449707, 0.03153320774435997, 0.037839848548173904, 0.018919924274086952, 0.018039843067526817, 0.9380717873573303, 0.036079686135053635, 0.9932787418365479, 0.9155293703079224, 0.06539495289325714, 0.9471332430839539, 0.9907196760177612, 0.9685384631156921, 0.9552409648895264, 0.0341157503426075, 0.9735444784164429, 0.9829849600791931, 0.011044775135815144, 0.9793943762779236, 0.8707131147384644, 0.02048736810684204, 0.02560921013355255, 0.012804605066776276, 0.012804605066776276, 0.05634026229381561, 0.9226861000061035, 0.9450402855873108, 0.9954712986946106, 0.9855115413665771, 0.00790190789848566, 0.9877384305000305, 0.9766297340393066, 0.980887770652771, 0.8945814371109009, 0.9926056861877441, 0.988525927066803, 0.9218789339065552, 0.9831687808036804, 0.8843128085136414, 0.9274645447731018, 0.9937625527381897, 0.9897850751876831, 0.934076189994812, 0.03616157919168472, 0.01808078959584236, 0.9040394425392151, 0.03616157919168472, 0.005382124800235033, 0.06996762007474899, 0.7777169942855835, 0.03767487406730652, 0.08342292904853821, 0.026910623535513878, 0.971121609210968, 0.8552681803703308, 0.023831000551581383, 0.01323944516479969, 0.04501411318778992, 0.02647889032959938, 0.034422557801008224, 0.9771094918251038, 0.9473292231559753, 0.987174391746521, 0.00594683364033699, 0.991837739944458, 0.9868927001953125, 0.9819876551628113, 0.9574030041694641, 0.9868787527084351, 0.012183688580989838, 0.952020525932312, 0.9741142988204956, 0.9850907325744629, 0.9929912686347961, 0.935151994228363, 0.9823888540267944, 0.9450198411941528, 0.9862133860588074, 0.8802610039710999, 0.982305645942688, 0.9950547218322754, 0.9710033535957336, 0.9652538299560547, 0.9821982979774475, 0.9490358233451843, 0.9812361001968384, 0.9917576909065247, 0.9709100723266602, 0.026969725266098976, 0.9408715963363647, 0.9903680682182312, 0.9897613525390625, 0.9915408492088318, 0.9329113364219666, 0.9894152283668518, 0.9778333306312561, 0.010628622956573963, 0.010628622956573963, 0.9906119704246521, 0.9808440208435059, 0.9595847129821777, 0.9719785451889038, 0.8488450646400452, 0.9370550513267517, 0.869211733341217, 0.970276951789856, 0.9044866561889648, 0.8660308718681335, 0.1082538589835167, 0.9674926400184631, 0.9819874167442322, 0.949451744556427, 0.9367952346801758, 0.9800321459770203, 0.9813476204872131, 0.9915074110031128, 0.9943689107894897, 0.9657857418060303, 0.953233003616333, 0.0026009653229266405, 0.023408688604831696, 0.005201930645853281, 0.026009654626250267, 0.0026009653229266405, 0.944150447845459, 0.0029161872807890177, 0.03791043534874916, 0.020413311198353767, 0.9098504185676575, 0.014580936171114445, 0.01166474912315607, 0.9924632906913757, 0.0072975242510437965, 0.9392902255058289, 0.8563406467437744, 0.013174471445381641, 0.01976170763373375, 0.05928512290120125, 0.0395234152674675, 0.013174471445381641, 0.9371969699859619, 0.9534784555435181, 0.9900286197662354, 0.9274812340736389, 0.9747099280357361, 0.960773766040802, 0.997515082359314, 0.9718682765960693, 0.9545567035675049, 0.9916840195655823, 0.9022585153579712, 0.9461670517921448, 0.7573376297950745, 0.9762259721755981, 0.9945911169052124, 0.9947913885116577, 0.9782999753952026, 0.9773914217948914], \"Term\": [\"A04\", \"A09\", \"A49\", \"A49\", \"B18\", \"C18\", \"C22\", \"C25\", \"C34\", \"C43\", \"C49\", \"C50\", \"C55\", \"C56\", \"C61\", \"C64\", \"C67\", \"C77\", \"C78\", \"C78\", \"C78\", \"C78\", \"C78\", \"C78\", \"C79\", \"C79\", \"C79\", \"C85\", \"C91\", \"D32\", \"D45\", \"D46\", \"D47\", \"D50\", \"D61\", \"D62\", \"D64\", \"D64\", \"D65\", \"D68\", \"D69\", \"D70\", \"D72\", \"D89\", \"E03\", \"E03\", \"E10\", \"E11\", \"E11\", \"E11\", \"E11\", \"E11\", \"E11\", \"E14\", \"E14\", \"E14\", \"E14\", \"E14\", \"E16\", \"E27\", \"E43\", \"E46\", \"E46\", \"E63\", \"E66\", \"E66\", \"E66\", \"E66\", \"E66\", \"E78\", \"E78\", \"E78\", \"E78\", \"E78\", \"E83\", \"E88\", \"F01\", \"F01\", \"F01\", \"F01\", \"F03\", \"F03\", \"F03\", \"F03\", \"F05\", \"F06\", \"F10\", \"F10\", \"F10\", \"F11\", \"F14\", \"F15\", \"F17\", \"F19\", \"F20\", \"F25\", \"F31\", \"F32\", \"F41\", \"F43\", \"F91\", \"G20\", \"G30\", \"G30\", \"G30\", \"G31\", \"G35\", \"G40\", \"G41\", \"G45\", \"G47\", \"G62\", \"G80\", \"G81\", \"G82\", \"G82\", \"G82\", \"G90\", \"G93\", \"G93\", \"I11\", \"I12\", \"I21\", \"I21\", \"I24\", \"I25\", \"I25\", \"I25\", \"I25\", \"I25\", \"I27\", \"I27\", \"I27\", \"I31\", \"I33\", \"I33\", \"I34\", \"I35\", \"I38\", \"I42\", \"I42\", \"I44\", \"I45\", \"I45\", \"I47\", \"I48\", \"I48\", \"I48\", \"I48\", \"I48\", \"I48\", \"I60\", \"I61\", \"I62\", \"I63\", \"I64\", \"I64\", \"I67\", \"I69\", \"I70\", \"I71\", \"I73\", \"I77\", \"I80\", \"I81\", \"I87\", \"I95\", \"J10\", \"J11\", \"J15\", \"J15\", \"J15\", \"J15\", \"J18\", \"J18\", \"J18\", \"J18\", \"J18\", \"J18\", \"J43\", \"J44\", \"J44\", \"J44\", \"J44\", \"J44\", \"J44\", \"J45\", \"J47\", \"J69\", \"J69\", \"J80\", \"J81\", \"J84\", \"J86\", \"J90\", \"J90\", \"J93\", \"J94\", \"J98\", \"K21\", \"K26\", \"K27\", \"K50\", \"K51\", \"K52\", \"K55\", \"K56\", \"K57\", \"K63\", \"K65\", \"K66\", \"K70\", \"K72\", \"K74\", \"K74\", \"K75\", \"K76\", \"K81\", \"K83\", \"K85\", \"K86\", \"K92\", \"K92\", \"K92\", \"L03\", \"L08\", \"L40\", \"L89\", \"L97\", \"L98\", \"M00\", \"M06\", \"M10\", \"M19\", \"M19\", \"M32\", \"M35\", \"M48\", \"M54\", \"M62\", \"M81\", \"M86\", \"N00\", \"N12\", \"N13\", \"N17\", \"N17\", \"N17\", \"N17\", \"N17\", \"N17\", \"N18\", \"N18\", \"N18\", \"N18\", \"N18\", \"N18\", \"N19\", \"N19\", \"N20\", \"N28\", \"N28\", \"N28\", \"N28\", \"N28\", \"N28\", \"N30\", \"N32\", \"N39\", \"N40\", \"Q90\", \"R26\", \"R63\", \"W18\", \"W19\", \"W80\", \"X41\", \"X42\", \"X44\", \"X59\", \"Y43\", \"Y44\", \"Y83\", \"Y84\"]}, \"R\": 30, \"lambda.step\": 0.01, \"plot.opts\": {\"xlab\": \"PC1\", \"ylab\": \"PC2\"}, \"topic.order\": [3, 2, 5, 6, 1, 4]};\n",
       "\n",
       "function LDAvis_load_lib(url, callback){\n",
       "  var s = document.createElement('script');\n",
       "  s.src = url;\n",
       "  s.async = true;\n",
       "  s.onreadystatechange = s.onload = callback;\n",
       "  s.onerror = function(){console.warn(\"failed to load library \" + url);};\n",
       "  document.getElementsByTagName(\"head\")[0].appendChild(s);\n",
       "}\n",
       "\n",
       "if(typeof(LDAvis) !== \"undefined\"){\n",
       "   // already loaded: just create the visualization\n",
       "   !function(LDAvis){\n",
       "       new LDAvis(\"#\" + \"ldavis_el2234417343842436484284201388\", ldavis_el2234417343842436484284201388_data);\n",
       "   }(LDAvis);\n",
       "}else if(typeof define === \"function\" && define.amd){\n",
       "   // require.js is available: use it to load d3/LDAvis\n",
       "   require.config({paths: {d3: \"https://cdnjs.cloudflare.com/ajax/libs/d3/3.5.5/d3.min\"}});\n",
       "   require([\"d3\"], function(d3){\n",
       "      window.d3 = d3;\n",
       "      LDAvis_load_lib(\"https://cdn.rawgit.com/bmabey/pyLDAvis/files/ldavis.v1.0.0.js\", function(){\n",
       "        new LDAvis(\"#\" + \"ldavis_el2234417343842436484284201388\", ldavis_el2234417343842436484284201388_data);\n",
       "      });\n",
       "    });\n",
       "}else{\n",
       "    // require.js not available: dynamically load d3 & LDAvis\n",
       "    LDAvis_load_lib(\"https://cdnjs.cloudflare.com/ajax/libs/d3/3.5.5/d3.min.js\", function(){\n",
       "         LDAvis_load_lib(\"https://cdn.rawgit.com/bmabey/pyLDAvis/files/ldavis.v1.0.0.js\", function(){\n",
       "                 new LDAvis(\"#\" + \"ldavis_el2234417343842436484284201388\", ldavis_el2234417343842436484284201388_data);\n",
       "            })\n",
       "         });\n",
       "}\n",
       "</script>"
      ],
      "text/plain": [
       "PreparedData(topic_coordinates=              x         y  topics  cluster       Freq\n",
       "topic                                                \n",
       "2      0.281217  0.164902       1        1  17.671196\n",
       "1     -0.109244 -0.301437       2        1  17.395674\n",
       "4     -0.217596  0.085939       3        1  17.084148\n",
       "5      0.087424 -0.157285       4        1  16.046291\n",
       "0     -0.200687  0.222158       5        1  16.001490\n",
       "3      0.158886 -0.014277       6        1  15.801209, topic_info=    Term        Freq       Total Category  logprob  loglift\n",
       "0    N17  384.000000  384.000000  Default  30.0000  30.0000\n",
       "12   F03  310.000000  310.000000  Default  29.0000  29.0000\n",
       "20   A49  274.000000  274.000000  Default  28.0000  28.0000\n",
       "71   G93  273.000000  273.000000  Default  27.0000  27.0000\n",
       "31   N18  342.000000  342.000000  Default  26.0000  26.0000\n",
       "..   ...         ...         ...      ...      ...      ...\n",
       "126  J94    8.749540    9.239162   Topic6  -5.2440   1.7906\n",
       "188  C25    8.497507    8.987881   Topic6  -5.2732   1.7890\n",
       "0    N17  362.543213  384.472626   Topic6  -1.5198   1.7864\n",
       "9    I48   21.955292  390.484528   Topic6  -4.3240  -1.0333\n",
       "10   J44   13.014272  377.659332   Topic6  -4.8469  -1.5229\n",
       "\n",
       "[233 rows x 6 columns], token_table=      Topic      Freq Term\n",
       "term                      \n",
       "79        2  0.986574  A04\n",
       "184       5  0.967667  A09\n",
       "20        4  0.993859  A49\n",
       "20        6  0.003641  A49\n",
       "6         5  0.989307  B18\n",
       "...     ...       ...  ...\n",
       "23        6  0.976226  X59\n",
       "139       5  0.994591  Y43\n",
       "137       5  0.994791  Y44\n",
       "5         1  0.978300  Y83\n",
       "107       6  0.977391  Y84\n",
       "\n",
       "[284 rows x 3 columns], R=30, lambda_step=0.01, plot_opts={'xlab': 'PC1', 'ylab': 'PC2'}, topic_order=[3, 2, 5, 6, 1, 4])"
      ]
     },
     "execution_count": 21,
     "metadata": {},
     "output_type": "execute_result"
    }
   ],
   "source": [
    "from pyLDAvis import sklearn as sklearn_lda\n",
    "import pyLDAvis\n",
    "pyLDAvis.enable_notebook()\n",
    "ldamodel_all_uni_short_vis = pyLDAvis.gensim.prepare(ldamodel_all_uni_short, corpus_uni_short, dictionary_uni_short)\n",
    "ldamodel_all_uni_short_vis"
   ]
  },
  {
   "cell_type": "markdown",
   "metadata": {},
   "source": [
    "The plot shows a visualization of the models attempts at finding 6 topics (as I specified).  Optimally, the circles which represent the topics should be separated and larger.  In this instance, we see exactly. Topics 1 has a high occurrence of unspecifed atrial fibrillation (I48) and COPD (J44). Topic 2 is dominated by cancer codes C78 (secondary malignant neoplasm of respiratory and digestive organs) and C79 (secondary malignant neoplasm of organs specified by the 4th character of ICD-10 codes . Topic 3 has higher proportions of unspecified dementia (F03) and bronchopneumonia (J18). Topic 4 is predominantly comprised of chronic kidney disease and unspecified bacterial infection (A49).  Multi-infarct dementia (F01) and obesity (E66) are the most common key terms in topic 5. Finally, in topic 6 acute kidney failure (N17) is the most common term.  \n",
    "\n",
    "The commonalities between the key phrases in each topic is not very obvious in this model."
   ]
  },
  {
   "cell_type": "markdown",
   "metadata": {},
   "source": [
    "**LDA WITH LONG UNIGRAMS EXCLUDING GARBAGE CODES**"
   ]
  },
  {
   "cell_type": "markdown",
   "metadata": {},
   "source": [
    "In the next version of the model I used full ICD-10 codes as unigrams."
   ]
  },
  {
   "cell_type": "code",
   "execution_count": 22,
   "metadata": {},
   "outputs": [],
   "source": [
    "ldamodel_all_uni_long = gensim.models.LdaMulticore(corpus_uni_long,\n",
    "                                              id2word=dictionary_uni_long,\n",
    "                                              num_topics=6,\n",
    "                                              passes=30,\n",
    "                                              alpha = 0.5,\n",
    "                                              eta = 0.1,\n",
    "                                              workers=4,\n",
    "                                              random_state = 101\n",
    "                                             )"
   ]
  },
  {
   "cell_type": "code",
   "execution_count": 23,
   "metadata": {},
   "outputs": [
    {
     "name": "stdout",
     "output_type": "stream",
     "text": [
      "Coherence score for LDA model: long ICD-10 unigrams, 6 topics, 30 passes:  0.5403078647513844\n"
     ]
    }
   ],
   "source": [
    "coherence_ldamodel_all_uni_long = CoherenceModel(model = ldamodel_all_uni_long, \n",
    "                                      texts = ds.clean_mc, \n",
    "                                      dictionary = dictionary_uni_long, \n",
    "                                      coherence = 'c_v')\n",
    "\n",
    "coherence_ldamodel_all_uni_long = coherence_ldamodel_all_uni_long.get_coherence()\n",
    "\n",
    "print(\"Coherence score for LDA model: long ICD-10 unigrams, 6 topics, 30 passes: \", coherence_ldamodel_all_uni_long)"
   ]
  },
  {
   "cell_type": "code",
   "execution_count": 24,
   "metadata": {},
   "outputs": [
    {
     "data": {
      "text/html": [
       "\n",
       "<link rel=\"stylesheet\" type=\"text/css\" href=\"https://cdn.rawgit.com/bmabey/pyLDAvis/files/ldavis.v1.0.0.css\">\n",
       "\n",
       "\n",
       "<div id=\"ldavis_el2234417343841906247726112261\"></div>\n",
       "<script type=\"text/javascript\">\n",
       "\n",
       "var ldavis_el2234417343841906247726112261_data = {\"mdsDat\": {\"x\": [-0.32430637602375156, 0.1581615114705095, 0.205998688151863, 0.09120387957411787, -0.17401191949975864, 0.04295421632702008], \"y\": [-0.0026275369603080646, -0.1536819019191212, -0.11025516582674268, 0.034607575985861706, -0.1523139853935224, 0.3842710141138326], \"topics\": [1, 2, 3, 4, 5, 6], \"cluster\": [1, 1, 1, 1, 1, 1], \"Freq\": [17.542682647705078, 17.463008880615234, 16.657678604125977, 16.144990921020508, 16.14450454711914, 16.047134399414062]}, \"tinfo\": {\"Term\": [\"J189\", \"F03\", \"N179\", \"I48\", \"J449\", \"E149\", \"N189\", \"G931\", \"G309\", \"N288\", \"C787\", \"E119\", \"E785\", \"N19\", \"F019\", \"J690\", \"I64\", \"N390\", \"A490\", \"N185\", \"K922\", \"I251\", \"I739\", \"C780\", \"E669\", \"I458\", \"E142\", \"C795\", \"D649\", \"I959\", \"G309\", \"C798\", \"E119\", \"F191\", \"C795\", \"E46\", \"N19\", \"I802\", \"W80\", \"J90\", \"I350\", \"I472\", \"C793\", \"C349\", \"F109\", \"I255\", \"I119\", \"E43\", \"C779\", \"C791\", \"C780\", \"I38\", \"I713\", \"C61\", \"I251\", \"N40\", \"I219\", \"K869\", \"D619\", \"K519\", \"N183\", \"A498\", \"F419\", \"J690\", \"N185\", \"J81\", \"I120\", \"G20\", \"K566\", \"E835\", \"K769\", \"I679\", \"G311\", \"D65\", \"G934\", \"F011\", \"E162\", \"Y442\", \"I712\", \"G301\", \"L089\", \"I420\", \"N12\", \"I629\", \"F319\", \"I48\", \"M844\", \"E789\", \"I249\", \"K650\", \"C900\", \"M109\", \"E785\", \"F019\", \"I330\", \"E112\", \"A499\", \"I250\", \"G936\", \"N189\", \"E149\", \"G473\", \"F102\", \"K746\", \"J984\", \"E669\", \"E780\", \"I694\", \"X590\", \"G459\", \"J441\", \"G819\", \"W19\", \"D689\", \"C679\", \"W18\", \"C189\", \"E889\", \"L031\", \"G809\", \"J180\", \"I359\", \"I259\", \"D728\", \"F151\", \"K760\", \"B182\", \"J47\", \"M353\", \"J449\", \"K859\", \"F119\", \"F019\", \"A490\", \"I64\", \"I458\", \"G931\", \"C786\", \"A491\", \"E142\", \"E668\", \"I739\", \"I710\", \"F329\", \"M069\", \"L039\", \"L899\", \"N184\", \"C782\", \"F209\", \"G935\", \"D62\", \"I442\", \"J152\", \"R263\", \"M819\", \"J989\", \"Y831\", \"F159\", \"C911\", \"N009\", \"E141\", \"A099\", \"J440\", \"E145\", \"J189\", \"J80\", \"I959\", \"N288\", \"F101\", \"I214\", \"I429\", \"J439\", \"I714\", \"J849\", \"J459\", \"F171\", \"C787\", \"J841\", \"M199\", \"I272\", \"I279\", \"D696\", \"M628\", \"N390\", \"I634\", \"E109\", \"J939\", \"F199\", \"K709\", \"F059\", \"F919\", \"A047\", \"L984\", \"I340\", \"F03\", \"K922\", \"K729\", \"C509\", \"I639\", \"D649\", \"K720\", \"K703\", \"N289\", \"K559\", \"C788\", \"N179\", \"R636\", \"E039\", \"K219\", \"K631\", \"J159\", \"X599\", \"I719\", \"G318\", \"G35\", \"M869\", \"Y841\", \"M480\", \"I313\", \"D469\", \"G319\", \"C859\", \"D70\", \"C794\", \"J869\", \"F172\", \"Y839\"], \"Freq\": [385.0, 337.0, 345.0, 384.0, 360.0, 227.0, 182.0, 159.0, 163.0, 148.0, 145.0, 148.0, 169.0, 140.0, 174.0, 135.0, 120.0, 120.0, 107.0, 110.0, 99.0, 115.0, 95.0, 104.0, 93.0, 87.0, 80.0, 84.0, 80.0, 77.0, 163.02613830566406, 77.75819396972656, 147.15740966796875, 48.478858947753906, 83.05077362060547, 59.07469940185547, 137.98074340820312, 39.82568359375, 47.0023307800293, 78.51117706298828, 47.17804718017578, 32.36244201660156, 58.34440612792969, 31.9896297454834, 21.02419662475586, 21.918325424194336, 16.164844512939453, 38.48336410522461, 15.612255096435547, 14.765477180480957, 100.76793670654297, 12.872170448303223, 23.00193214416504, 34.662269592285156, 110.3337173461914, 9.35800838470459, 68.14154815673828, 8.120330810546875, 13.065224647521973, 7.919389247894287, 24.91315269470215, 48.97410583496094, 11.190829277038574, 134.53257751464844, 109.5888900756836, 64.86209869384766, 55.916507720947266, 48.78981399536133, 41.91334915161133, 26.006635665893555, 20.74213409423828, 20.919694900512695, 18.678136825561523, 18.695913314819336, 78.21725463867188, 16.37808609008789, 13.709016799926758, 13.383258819580078, 12.352209091186523, 12.269600868225098, 11.933155059814453, 14.170235633850098, 10.867573738098145, 10.4826021194458, 9.801118850708008, 364.47247314453125, 8.92131519317627, 9.036686897277832, 8.936159133911133, 8.63538646697998, 8.518260955810547, 8.6345853805542, 159.56304931640625, 157.1314239501953, 11.48090934753418, 41.751888275146484, 56.26708221435547, 14.718554496765137, 9.171246528625488, 182.0457763671875, 225.8563232421875, 73.21158599853516, 40.961219787597656, 70.15460205078125, 36.595157623291016, 91.81228637695312, 31.697263717651367, 52.04828643798828, 24.32421112060547, 22.0808048248291, 19.574920654296875, 17.819334030151367, 16.790084838867188, 26.521526336669922, 16.1162109375, 27.949310302734375, 16.588151931762695, 42.56394958496094, 13.844101905822754, 12.041942596435547, 10.349997520446777, 9.746265411376953, 9.171993255615234, 9.012493133544922, 13.008724212646484, 8.610695838928223, 31.34868812561035, 7.7660040855407715, 7.880792140960693, 335.66949462890625, 12.480589866638184, 8.80689525604248, 11.192939758300781, 107.17578125, 119.35250091552734, 86.7857894897461, 157.96078491210938, 57.455326080322266, 44.98906707763672, 79.44979858398438, 76.49432373046875, 93.64545440673828, 36.92987823486328, 36.699771881103516, 29.37961769104004, 26.093626022338867, 26.381397247314453, 25.948688507080078, 23.49228858947754, 20.55258560180664, 19.695371627807617, 22.80506706237793, 19.05356788635254, 19.058815002441406, 16.444522857666016, 17.79071617126465, 15.903847694396973, 23.18475914001465, 13.939580917358398, 13.605720520019531, 13.457144737243652, 13.77344036102295, 17.361251831054688, 43.20234680175781, 14.202645301818848, 382.6116027832031, 64.50758361816406, 77.29033660888672, 146.6990203857422, 44.04542922973633, 38.914310455322266, 41.86911392211914, 32.429927825927734, 32.35237121582031, 27.54273796081543, 33.863136291503906, 30.011226654052734, 142.15264892578125, 22.248048782348633, 20.164413452148438, 42.085914611816406, 18.630990982055664, 18.372962951660156, 16.16045379638672, 116.25146484375, 14.248902320861816, 14.26665210723877, 14.850926399230957, 13.477651596069336, 10.982003211975098, 10.89043140411377, 10.533088684082031, 21.1168155670166, 9.905963897705078, 12.415998458862305, 335.18182373046875, 98.40199279785156, 73.43746948242188, 35.153358459472656, 31.17978286743164, 78.79804992675781, 32.063499450683594, 33.336631774902344, 27.258251190185547, 33.797725677490234, 34.55343246459961, 338.7730407714844, 42.57583236694336, 64.97772216796875, 20.375123977661133, 18.935571670532227, 18.032800674438477, 17.9134521484375, 18.96804428100586, 12.572748184204102, 11.272570610046387, 11.234708786010742, 10.858662605285645, 10.410072326660156, 10.38220500946045, 10.071554183959961, 9.116594314575195, 8.938937187194824, 8.836079597473145, 8.832470893859863, 9.65969467163086, 19.080421447753906, 9.576203346252441], \"Total\": [385.0, 337.0, 345.0, 384.0, 360.0, 227.0, 182.0, 159.0, 163.0, 148.0, 145.0, 148.0, 169.0, 140.0, 174.0, 135.0, 120.0, 120.0, 107.0, 110.0, 99.0, 115.0, 95.0, 104.0, 93.0, 87.0, 80.0, 84.0, 80.0, 77.0, 163.92501831054688, 78.5403823852539, 148.74151611328125, 49.041969299316406, 84.02350616455078, 59.93510818481445, 140.20309448242188, 40.46808624267578, 47.77824783325195, 79.81761932373047, 48.02389907836914, 33.10451889038086, 59.797855377197266, 32.79191589355469, 21.57731056213379, 22.51258659362793, 16.682390213012695, 39.752994537353516, 16.131155014038086, 15.28938102722168, 104.76655578613281, 13.402767181396484, 24.007179260253906, 36.34068298339844, 115.98883819580078, 9.86996078491211, 72.20624542236328, 8.629135131835938, 13.899057388305664, 8.440999031066895, 26.576862335205078, 58.86650466918945, 12.189489364624023, 135.7096710205078, 110.6204605102539, 65.59708404541016, 56.57251739501953, 49.36339569091797, 42.57842254638672, 26.54313087463379, 21.265033721923828, 21.483983993530273, 19.194896697998047, 19.260190963745117, 80.66167449951172, 16.94211196899414, 14.221264839172363, 13.908162117004395, 12.86053466796875, 12.776444435119629, 12.447466850280762, 14.814983367919922, 11.386185646057129, 11.055792808532715, 10.340241432189941, 384.6221923828125, 9.433416366577148, 9.564414024353027, 9.460733413696289, 9.145242691040039, 9.030197143554688, 9.161645889282227, 169.53424072265625, 174.6058349609375, 12.289605140686035, 47.1791877746582, 78.7657699584961, 17.13330841064453, 9.752927780151367, 182.92825317382812, 227.4475555419922, 73.90436553955078, 41.557308197021484, 71.21562194824219, 37.1490364074707, 93.22637176513672, 32.24605178833008, 53.218109130859375, 24.871742248535156, 22.64391326904297, 20.095050811767578, 18.341121673583984, 17.2967586517334, 27.333133697509766, 16.630002975463867, 28.842567443847656, 17.118873596191406, 44.05860900878906, 14.38146686553955, 12.545331001281738, 10.849361419677734, 10.244292259216309, 9.674842834472656, 9.520983695983887, 13.764481544494629, 9.11711597442627, 33.22237777709961, 8.265752792358398, 8.392444610595703, 360.22088623046875, 13.587246894836426, 11.542593955993652, 174.6058349609375, 107.9645767211914, 120.23788452148438, 87.52372741699219, 159.5736846923828, 58.053157806396484, 45.592796325683594, 80.53101348876953, 77.57355499267578, 95.07923889160156, 37.501548767089844, 37.2955207824707, 29.94801902770996, 26.60813331604004, 26.907928466796875, 26.481754302978516, 24.025920867919922, 21.05670166015625, 20.196510314941406, 23.391841888427734, 19.569168090820312, 19.61105728149414, 16.951171875, 18.3436222076416, 16.4011287689209, 23.926828384399414, 14.436272621154785, 14.102859497070312, 13.958659172058105, 14.293779373168945, 18.023021697998047, 46.672950744628906, 16.916343688964844, 385.20245361328125, 65.06975555419922, 77.99810028076172, 148.67198181152344, 44.6505126953125, 39.50030517578125, 42.52198028564453, 32.98536682128906, 32.907535552978516, 28.062122344970703, 34.50568389892578, 30.65843963623047, 145.29530334472656, 22.77047348022461, 20.670522689819336, 43.24797439575195, 19.1497802734375, 18.894216537475586, 16.65581512451172, 120.0135498046875, 14.751561164855957, 14.780085563659668, 15.407113075256348, 13.982473373413086, 11.474981307983398, 11.383877754211426, 11.040206909179688, 22.209644317626953, 10.435406684875488, 13.083455085754395, 337.3506774902344, 99.09493255615234, 74.08203125, 35.664058685302734, 31.72760772705078, 80.18753051757812, 32.64228057861328, 33.97393798828125, 27.78531837463379, 34.45405960083008, 35.248573303222656, 345.76611328125, 43.53343963623047, 66.58357238769531, 20.902568817138672, 19.458654403686523, 18.532976150512695, 18.42160987854004, 19.511722564697266, 13.077455520629883, 11.768450736999512, 11.733092308044434, 11.356094360351562, 10.90793228149414, 10.885968208312988, 10.57955265045166, 9.60810375213623, 9.430889129638672, 9.329704284667969, 9.328139305114746, 10.206622123718262, 20.936870574951172, 10.209280014038086], \"Category\": [\"Default\", \"Default\", \"Default\", \"Default\", \"Default\", \"Default\", \"Default\", \"Default\", \"Default\", \"Default\", \"Default\", \"Default\", \"Default\", \"Default\", \"Default\", \"Default\", \"Default\", \"Default\", \"Default\", \"Default\", \"Default\", \"Default\", \"Default\", \"Default\", \"Default\", \"Default\", \"Default\", \"Default\", \"Default\", \"Default\", \"Topic1\", \"Topic1\", \"Topic1\", \"Topic1\", \"Topic1\", \"Topic1\", \"Topic1\", \"Topic1\", \"Topic1\", \"Topic1\", \"Topic1\", \"Topic1\", \"Topic1\", \"Topic1\", \"Topic1\", \"Topic1\", \"Topic1\", \"Topic1\", \"Topic1\", \"Topic1\", \"Topic1\", \"Topic1\", \"Topic1\", \"Topic1\", \"Topic1\", \"Topic1\", \"Topic1\", \"Topic1\", \"Topic1\", \"Topic1\", \"Topic1\", \"Topic1\", \"Topic1\", \"Topic2\", \"Topic2\", \"Topic2\", \"Topic2\", \"Topic2\", \"Topic2\", \"Topic2\", \"Topic2\", \"Topic2\", \"Topic2\", \"Topic2\", \"Topic2\", \"Topic2\", \"Topic2\", \"Topic2\", \"Topic2\", \"Topic2\", \"Topic2\", \"Topic2\", \"Topic2\", \"Topic2\", \"Topic2\", \"Topic2\", \"Topic2\", \"Topic2\", \"Topic2\", \"Topic2\", \"Topic2\", \"Topic2\", \"Topic2\", \"Topic2\", \"Topic2\", \"Topic2\", \"Topic2\", \"Topic2\", \"Topic2\", \"Topic3\", \"Topic3\", \"Topic3\", \"Topic3\", \"Topic3\", \"Topic3\", \"Topic3\", \"Topic3\", \"Topic3\", \"Topic3\", \"Topic3\", \"Topic3\", \"Topic3\", \"Topic3\", \"Topic3\", \"Topic3\", \"Topic3\", \"Topic3\", \"Topic3\", \"Topic3\", \"Topic3\", \"Topic3\", \"Topic3\", \"Topic3\", \"Topic3\", \"Topic3\", \"Topic3\", \"Topic3\", \"Topic3\", \"Topic3\", \"Topic3\", \"Topic3\", \"Topic3\", \"Topic3\", \"Topic4\", \"Topic4\", \"Topic4\", \"Topic4\", \"Topic4\", \"Topic4\", \"Topic4\", \"Topic4\", \"Topic4\", \"Topic4\", \"Topic4\", \"Topic4\", \"Topic4\", \"Topic4\", \"Topic4\", \"Topic4\", \"Topic4\", \"Topic4\", \"Topic4\", \"Topic4\", \"Topic4\", \"Topic4\", \"Topic4\", \"Topic4\", \"Topic4\", \"Topic4\", \"Topic4\", \"Topic4\", \"Topic4\", \"Topic4\", \"Topic4\", \"Topic4\", \"Topic5\", \"Topic5\", \"Topic5\", \"Topic5\", \"Topic5\", \"Topic5\", \"Topic5\", \"Topic5\", \"Topic5\", \"Topic5\", \"Topic5\", \"Topic5\", \"Topic5\", \"Topic5\", \"Topic5\", \"Topic5\", \"Topic5\", \"Topic5\", \"Topic5\", \"Topic5\", \"Topic5\", \"Topic5\", \"Topic5\", \"Topic5\", \"Topic5\", \"Topic5\", \"Topic5\", \"Topic5\", \"Topic5\", \"Topic5\", \"Topic6\", \"Topic6\", \"Topic6\", \"Topic6\", \"Topic6\", \"Topic6\", \"Topic6\", \"Topic6\", \"Topic6\", \"Topic6\", \"Topic6\", \"Topic6\", \"Topic6\", \"Topic6\", \"Topic6\", \"Topic6\", \"Topic6\", \"Topic6\", \"Topic6\", \"Topic6\", \"Topic6\", \"Topic6\", \"Topic6\", \"Topic6\", \"Topic6\", \"Topic6\", \"Topic6\", \"Topic6\", \"Topic6\", \"Topic6\", \"Topic6\", \"Topic6\", \"Topic6\"], \"logprob\": [30.0, 29.0, 28.0, 27.0, 26.0, 25.0, 24.0, 23.0, 22.0, 21.0, 20.0, 19.0, 18.0, 17.0, 16.0, 15.0, 14.0, 13.0, 12.0, 11.0, 10.0, 9.0, 8.0, 7.0, 6.0, 5.0, 4.0, 3.0, 2.0, 1.0, -2.416599988937378, -3.156899929046631, -2.5190000534057617, -3.6294000148773193, -3.0910000801086426, -3.4316999912261963, -2.583400011062622, -3.8259999752044678, -3.6603000164031982, -3.147200107574463, -3.656599998474121, -4.0335001945495605, -3.4440999031066895, -4.045100212097168, -4.464799880981445, -4.4232001304626465, -4.72760009765625, -3.860300064086914, -4.762400150299072, -4.81820011138916, -2.897700071334839, -4.955399990081787, -4.374899864196777, -3.9647998809814453, -2.806999921798706, -5.274199962615967, -3.2888998985290527, -5.416100025177002, -4.940499782562256, -5.441199779510498, -4.295100212097168, -3.6191999912261963, -5.095399856567383, -2.604099988937378, -2.8092000484466553, -3.333699941635132, -3.482100009918213, -3.6184000968933105, -3.7702999114990234, -4.247600078582764, -4.473800182342529, -4.465199947357178, -4.57859992980957, -4.577600002288818, -3.146399974822998, -4.710000038146973, -4.887899875640869, -4.911900043487549, -4.992099761962891, -4.998799800872803, -5.026599884033203, -4.854800224304199, -5.120100021362305, -5.156199932098389, -5.223400115966797, -1.6074999570846558, -5.317500114440918, -5.304599761962891, -5.315800189971924, -5.350100040435791, -5.363699913024902, -5.350200176239014, -2.433500051498413, -2.4488000869750977, -5.065199851989746, -3.774199962615967, -3.475800037384033, -4.816800117492676, -5.289899826049805, -2.254499912261963, -2.038800001144409, -3.1654000282287598, -3.7460999488830566, -3.2079999446868896, -3.858799934387207, -2.938999891281128, -4.002500057220459, -3.506500005722046, -4.267199993133545, -4.363999843597412, -4.484499931335449, -4.578400135040283, -4.637899875640869, -4.180799961090088, -4.678899765014648, -4.128300189971924, -4.650000095367432, -3.70770001411438, -4.830900192260742, -4.970300197601318, -5.121699810028076, -5.18179988861084, -5.242599964141846, -5.2600998878479, -4.893099784851074, -5.305699825286865, -4.013500213623047, -5.408999919891357, -5.3942999839782715, -1.6426000595092773, -4.934500217437744, -5.283199787139893, -5.043399810791016, -2.753000020980835, -2.645400047302246, -2.9639999866485596, -2.3650999069213867, -3.3763999938964844, -3.621000051498413, -3.052299976348877, -3.0901999473571777, -2.8879001140594482, -3.8183999061584473, -3.824700117111206, -4.0472002029418945, -4.165800094604492, -4.154799938201904, -4.171299934387207, -4.2708001136779785, -4.4045000076293945, -4.4471001625061035, -4.30049991607666, -4.480199813842773, -4.479899883270264, -4.627500057220459, -4.548799991607666, -4.660900115966797, -4.283999919891357, -4.792699813842773, -4.816999912261963, -4.827899932861328, -4.804699897766113, -4.573200225830078, -3.661600112915039, -4.77400016784668, -1.4803999662399292, -3.2606000900268555, -3.079900026321411, -2.438999891281128, -3.642199993133545, -3.7660999298095703, -3.6928999423980713, -3.9482998847961426, -3.950700044631958, -4.111700057983398, -3.905100107192993, -4.025899887084961, -2.4704999923706055, -4.325200080871582, -4.423500061035156, -3.687700033187866, -4.502600193023682, -4.516499996185303, -4.644899845123291, -2.6717000007629395, -4.770699977874756, -4.769499778747559, -4.729400157928467, -4.826399803161621, -5.031199932098389, -5.0395002365112305, -5.07289981842041, -4.377399921417236, -5.134300231933594, -4.908400058746338, -1.6066999435424805, -2.8322999477386475, -3.1249001026153564, -3.8617000579833984, -3.981600046157837, -3.054500102996826, -3.953700065612793, -3.9147000312805176, -4.116000175476074, -3.9010000228881836, -3.8789000511169434, -1.5959999561309814, -3.670099973678589, -3.247299909591675, -4.407100200653076, -4.480299949645996, -4.529200077056885, -4.535799980163574, -4.478600025177002, -4.889800071716309, -4.999000072479248, -5.002399921417236, -5.036399841308594, -5.07859992980957, -5.081299781799316, -5.111700057983398, -5.211299896240234, -5.230999946594238, -5.242499828338623, -5.2428998947143555, -5.15339994430542, -4.472700119018555, -5.162099838256836], \"loglift\": [30.0, 29.0, 28.0, 27.0, 26.0, 25.0, 24.0, 23.0, 22.0, 21.0, 20.0, 19.0, 18.0, 17.0, 16.0, 15.0, 14.0, 13.0, 12.0, 11.0, 10.0, 9.0, 8.0, 7.0, 6.0, 5.0, 4.0, 3.0, 2.0, 1.0, 1.7350000143051147, 1.7304999828338623, 1.7297999858856201, 1.7289999723434448, 1.7288999557495117, 1.726099967956543, 1.7245999574661255, 1.7244999408721924, 1.7242000102996826, 1.7239999771118164, 1.7228000164031982, 1.717900037765503, 1.71589994430542, 1.7158000469207764, 1.7145999670028687, 1.7137999534606934, 1.7089999914169312, 1.7080999612808228, 1.707800030708313, 1.7057000398635864, 1.7015999555587769, 1.7000999450683594, 1.6978000402450562, 1.6931999921798706, 1.690500020980835, 1.6872999668121338, 1.6826000213623047, 1.679800033569336, 1.6786999702453613, 1.6766999959945679, 1.6758999824523926, 1.5565999746322632, 1.6550999879837036, 1.7364000082015991, 1.735700011253357, 1.7338000535964966, 1.7333999872207642, 1.7333999872207642, 1.7293000221252441, 1.7246999740600586, 1.7201999425888062, 1.718500018119812, 1.7178000211715698, 1.715399980545044, 1.7143000364303589, 1.7111999988555908, 1.708400011062622, 1.7065999507904053, 1.704800009727478, 1.7045999765396118, 1.7029000520706177, 1.700600028038025, 1.6985000371932983, 1.6917999982833862, 1.691499948501587, 1.6913000345230103, 1.6892999410629272, 1.6883000135421753, 1.687999963760376, 1.6877000331878662, 1.6866999864578247, 1.6857999563217163, 1.684499979019165, 1.6396000385284424, 1.6770000457763672, 1.6229000091552734, 1.4086999893188477, 1.5931999683380127, 1.6835999488830566, 1.787500023841858, 1.7853000164031982, 1.7828999757766724, 1.777899980545044, 1.7773000001907349, 1.7773000001907349, 1.7769999504089355, 1.7750999927520752, 1.7700999975204468, 1.7699999809265137, 1.7670999765396118, 1.7661000490188599, 1.7633999586105347, 1.7625999450683594, 1.7621999979019165, 1.7609000205993652, 1.7608000040054321, 1.7608000040054321, 1.7577999830245972, 1.7541999816894531, 1.7512999773025513, 1.7452000379562378, 1.7424999475479126, 1.7388999462127686, 1.7374000549316406, 1.73580002784729, 1.735200047492981, 1.7342000007629395, 1.7299000024795532, 1.7294000387191772, 1.7216999530792236, 1.7072999477386475, 1.5218000411987305, -0.9549000263214111, 1.8162000179290771, 1.8162000179290771, 1.8150999546051025, 1.8134000301361084, 1.8131999969482422, 1.8101999759674072, 1.809999942779541, 1.8095999956130981, 1.80840003490448, 1.8082000017166138, 1.8075000047683716, 1.8043999671936035, 1.8040000200271606, 1.8037999868392944, 1.8032000064849854, 1.8011000156402588, 1.799299955368042, 1.7984000444412231, 1.798200011253357, 1.7969000339508057, 1.7949999570846558, 1.7932000160217285, 1.7929999828338623, 1.792799949645996, 1.792099952697754, 1.7884999513626099, 1.7877000570297241, 1.7869999408721924, 1.7864999771118164, 1.7862000465393066, 1.7462999820709229, 1.6486999988555908, 1.8167999982833862, 1.8149000406265259, 1.8144999742507935, 1.8101999759674072, 1.8099000453948975, 1.8085999488830566, 1.8080999851226807, 1.8065999746322632, 1.8065999746322632, 1.804900050163269, 1.804800033569336, 1.802299976348877, 1.8016999959945679, 1.8004000186920166, 1.798799991607666, 1.7963999509811401, 1.7961000204086304, 1.7956000566482544, 1.7934000492095947, 1.791700005531311, 1.7889000177383423, 1.7882000207901, 1.7868000268936157, 1.7868000268936157, 1.7797000408172607, 1.7792999744415283, 1.7766000032424927, 1.7731000185012817, 1.7714999914169312, 1.7711999416351318, 1.823199987411499, 1.82260000705719, 1.8208999633789062, 1.8151999711990356, 1.8121999502182007, 1.8121999502182007, 1.8116999864578247, 1.8107000589370728, 1.8105000257492065, 1.8104000091552734, 1.8097000122070312, 1.8092000484466553, 1.8073999881744385, 1.8051999807357788, 1.8041000366210938, 1.80239999294281, 1.802299976348877, 1.8016999959945679, 1.8013999462127686, 1.7903000116348267, 1.7865999937057495, 1.7862000465393066, 1.7848000526428223, 1.7828999757766724, 1.7822999954223633, 1.780400037765503, 1.7770999670028687, 1.7761000394821167, 1.7753000259399414, 1.774999976158142, 1.7746000289916992, 1.736799955368042, 1.7655999660491943]}, \"token.table\": {\"Topic\": [2, 5, 4, 4, 4, 1, 2, 5, 6, 2, 3, 4, 5, 6, 3, 4, 3, 1, 6, 1, 3, 3, 1, 1, 5, 4, 4, 1, 5, 6, 1, 1, 6, 6, 1, 1, 6, 2, 4, 6, 1, 4, 6, 2, 3, 5, 6, 3, 6, 5, 1, 2, 4, 6, 1, 4, 4, 2, 4, 3, 6, 2, 1, 5, 1, 3, 4, 3, 3, 1, 2, 3, 4, 5, 6, 2, 2, 3, 5, 2, 1, 2, 3, 4, 5, 6, 2, 5, 6, 5, 5, 3, 1, 3, 5, 3, 4, 5, 3, 6, 1, 5, 4, 2, 4, 1, 5, 2, 2, 1, 2, 6, 6, 6, 3, 3, 3, 3, 4, 5, 2, 3, 4, 4, 2, 1, 2, 5, 1, 4, 2, 1, 2, 1, 2, 3, 4, 6, 1, 3, 3, 5, 5, 6, 2, 5, 1, 3, 1, 2, 5, 4, 4, 1, 1, 2, 3, 4, 5, 6, 2, 5, 6, 4, 2, 3, 4, 2, 1, 5, 5, 6, 4, 1, 5, 4, 6, 3, 3, 4, 5, 6, 5, 3, 4, 6, 3, 1, 2, 3, 4, 5, 6, 5, 3, 2, 5, 2, 5, 5, 6, 1, 6, 5, 3, 4, 6, 1, 6, 2, 6, 2, 6, 5, 6, 6, 3, 3, 2, 3, 6, 1, 6, 3, 4, 2, 4, 5, 4, 2, 5, 3, 6, 5, 4, 2, 6, 4, 2, 3, 4, 5, 6, 1, 5, 4, 2, 3, 1, 2, 6, 3, 5, 6, 1, 2, 4, 5, 6, 1, 4, 6, 3, 3, 1, 3, 6, 2, 4, 6, 6], \"Freq\": [0.04502548649907112, 0.9455351829528809, 0.9432380795478821, 0.9910658001899719, 0.9869980216026306, 0.8323918581008911, 0.11891312152147293, 0.016987590119242668, 0.016987590119242668, 0.7109687328338623, 0.06347934901714325, 0.13965457677841187, 0.05078348144888878, 0.02539174072444439, 0.933106005191803, 0.03010019287467003, 0.9930559992790222, 0.9758502840995789, 0.9813801646232605, 0.9631079435348511, 0.027517369017004967, 0.9621164798736572, 0.9918694496154785, 0.9640480875968933, 0.028635092079639435, 0.9572994112968445, 0.9818587303161621, 0.013765069656074047, 0.9773199558258057, 0.9929479956626892, 0.9810730814933777, 0.9699344635009766, 0.01672300696372986, 0.9648226499557495, 0.9878188371658325, 0.9931197166442871, 0.9543108940124512, 0.9966560006141663, 0.9927064776420593, 0.9452195763587952, 0.9353152513504028, 0.983248770236969, 0.9851905703544617, 0.9864907264709473, 0.9878121018409729, 0.9526724815368652, 0.9646608233451843, 0.9452804923057556, 0.9762167930603027, 0.947220504283905, 0.0211957860738039, 0.8902230262756348, 0.0211957860738039, 0.0423915721476078, 0.9882916808128357, 0.979447066783905, 0.9809885025024414, 0.11822886019945145, 0.8276020288467407, 0.9936356544494629, 0.004396617878228426, 0.9844412803649902, 0.9559028148651123, 0.025155337527394295, 0.9843980073928833, 0.012890990823507309, 0.9797152876853943, 0.9868452548980713, 0.992369532585144, 0.011797026731073856, 0.9437621235847473, 0.017695540562272072, 0.011797026731073856, 0.005898513365536928, 0.011797026731073856, 0.9409881234169006, 0.9795377850532532, 0.9759727120399475, 0.02269703894853592, 0.9443923234939575, 0.022908741608262062, 0.8991681337356567, 0.06299903988838196, 0.0057271854020655155, 0.0057271854020655155, 0.0057271854020655155, 0.0029642744921147823, 0.0029642744921147823, 0.993031919002533, 0.9662788510322571, 0.9854310154914856, 0.9865894317626953, 0.9732445478439331, 0.7797207236289978, 0.1732712835073471, 0.944459855556488, 0.9697794318199158, 0.9785233736038208, 0.04776262864470482, 0.9074899554252625, 0.9787535071372986, 0.9297353625297546, 0.9973071813583374, 0.9670954346656799, 0.9920762181282043, 0.9024168252944946, 0.9963581562042236, 0.992638349533081, 0.9392284154891968, 0.9943570494651794, 0.989846408367157, 0.9940771460533142, 0.9367092847824097, 0.934702455997467, 0.9715635180473328, 0.9877630472183228, 0.9565311670303345, 0.981401264667511, 0.9901381731033325, 0.006266697309911251, 0.9670019745826721, 0.01239746157079935, 0.01239746157079935, 0.9902700781822205, 0.922799825668335, 0.9590951800346375, 0.9898799657821655, 0.987334132194519, 0.9417467713356018, 0.04154765233397484, 0.9513004422187805, 0.1167316883802414, 0.8754876255989075, 0.9483671188354492, 0.008621519431471825, 0.008621519431471825, 0.01724303886294365, 0.01724303886294365, 0.9772310853004456, 0.9302476644515991, 0.023122470825910568, 0.9711437225341797, 0.9921784996986389, 0.9186137318611145, 0.8950653672218323, 0.9171889424324036, 0.978679358959198, 0.9761533141136169, 0.969948947429657, 0.9449892640113831, 0.9877244830131531, 0.9709150791168213, 0.994016170501709, 0.9666354060173035, 0.002599953906610608, 0.9463832378387451, 0.012999770231544971, 0.012999770231544971, 0.015599723905324936, 0.007799861952662468, 0.9045032262802124, 0.949052095413208, 0.9770670533180237, 0.9897047281265259, 0.9774723052978516, 0.9771109819412231, 0.9866259098052979, 0.933087170124054, 0.9580467343330383, 0.041654206812381744, 0.9724216461181641, 0.9737735986709595, 0.9886490702629089, 0.9884331822395325, 0.9872035384178162, 0.9688411951065063, 0.9712417125701904, 0.9217132329940796, 0.0025960374623537064, 0.0025960374623537064, 0.9942823648452759, 0.0025960374623537064, 0.9701271653175354, 0.02142568677663803, 0.9213045239448547, 0.02142568677663803, 0.9952699542045593, 0.013880372047424316, 0.019432520493865013, 0.932761013507843, 0.013880372047424316, 0.00832822360098362, 0.01665644720196724, 0.9853448867797852, 0.9678489565849304, 0.9947706460952759, 0.9989280104637146, 0.9908977150917053, 0.9661634564399719, 0.997786283493042, 0.9797560572624207, 0.9897564053535461, 0.012528561986982822, 0.9735763072967529, 0.995988130569458, 0.9755426049232483, 0.9568201899528503, 0.9477550983428955, 0.9868212938308716, 0.9864151477813721, 0.976429283618927, 0.9841182231903076, 0.9713327884674072, 0.9586071968078613, 0.9803236722946167, 0.9853941202163696, 0.9829304218292236, 0.9871542453765869, 0.9875366687774658, 0.8831811547279358, 0.07359842956066132, 0.9270917773246765, 0.9889506697654724, 0.9734750986099243, 0.9771448373794556, 0.9640515446662903, 0.9662579298019409, 0.9582760334014893, 0.968344509601593, 0.9823562502861023, 0.9675614237785339, 0.9532383680343628, 0.9167640209197998, 0.9606254696846008, 0.981267511844635, 0.9540551900863647, 0.9375192523002625, 0.9313215613365173, 0.9660829901695251, 0.002892128424718976, 0.008676385506987572, 0.005784256849437952, 0.9804315567016602, 0.9406678676605225, 0.037626713514328, 0.981808066368103, 0.9943910837173462, 0.9949256181716919, 0.9842864274978638, 0.0071325101889669895, 0.0071325101889669895, 0.0067262169905006886, 0.9887539148330688, 0.9717361927032471, 0.008332392200827599, 0.008332392200827599, 0.008332392200827599, 0.966557502746582, 0.008332392200827599, 0.9118577241897583, 0.9438875317573547, 0.9877464175224304, 0.9707873463630676, 0.9828431010246277, 0.9837112426757812, 0.9649505019187927, 0.9771133065223694, 0.9347029328346252, 0.9612640738487244, 0.9795010089874268, 0.9686428904533386], \"Term\": [\"A047\", \"A047\", \"A099\", \"A490\", \"A491\", \"A498\", \"A498\", \"A498\", \"A498\", \"A499\", \"A499\", \"A499\", \"A499\", \"A499\", \"B182\", \"B182\", \"C189\", \"C349\", \"C509\", \"C61\", \"C61\", \"C679\", \"C779\", \"C780\", \"C780\", \"C782\", \"C786\", \"C787\", \"C787\", \"C788\", \"C791\", \"C793\", \"C793\", \"C794\", \"C795\", \"C798\", \"C859\", \"C900\", \"C911\", \"D469\", \"D619\", \"D62\", \"D649\", \"D65\", \"D689\", \"D696\", \"D70\", \"D728\", \"E039\", \"E109\", \"E112\", \"E112\", \"E112\", \"E112\", \"E119\", \"E141\", \"E142\", \"E145\", \"E145\", \"E149\", \"E149\", \"E162\", \"E43\", \"E43\", \"E46\", \"E668\", \"E668\", \"E669\", \"E780\", \"E785\", \"E785\", \"E785\", \"E785\", \"E785\", \"E785\", \"E789\", \"E835\", \"E889\", \"E889\", \"F011\", \"F019\", \"F019\", \"F019\", \"F019\", \"F019\", \"F019\", \"F03\", \"F03\", \"F03\", \"F059\", \"F101\", \"F102\", \"F109\", \"F119\", \"F119\", \"F151\", \"F159\", \"F171\", \"F172\", \"F172\", \"F191\", \"F199\", \"F209\", \"F319\", \"F329\", \"F419\", \"F919\", \"G20\", \"G301\", \"G309\", \"G311\", \"G318\", \"G319\", \"G35\", \"G459\", \"G473\", \"G809\", \"G819\", \"G931\", \"G931\", \"G934\", \"G934\", \"G934\", \"G935\", \"G936\", \"I119\", \"I120\", \"I214\", \"I219\", \"I219\", \"I249\", \"I250\", \"I250\", \"I251\", \"I251\", \"I251\", \"I251\", \"I251\", \"I255\", \"I259\", \"I272\", \"I272\", \"I279\", \"I313\", \"I330\", \"I340\", \"I350\", \"I359\", \"I38\", \"I420\", \"I429\", \"I442\", \"I458\", \"I472\", \"I48\", \"I48\", \"I48\", \"I48\", \"I48\", \"I48\", \"I629\", \"I634\", \"I639\", \"I64\", \"I679\", \"I694\", \"I710\", \"I712\", \"I713\", \"I713\", \"I714\", \"I719\", \"I739\", \"I802\", \"I959\", \"J152\", \"J159\", \"J180\", \"J189\", \"J189\", \"J189\", \"J189\", \"J439\", \"J440\", \"J440\", \"J440\", \"J441\", \"J449\", \"J449\", \"J449\", \"J449\", \"J449\", \"J449\", \"J459\", \"J47\", \"J690\", \"J80\", \"J81\", \"J841\", \"J849\", \"J869\", \"J90\", \"J90\", \"J939\", \"J984\", \"J989\", \"K219\", \"K519\", \"K559\", \"K566\", \"K631\", \"K650\", \"K703\", \"K709\", \"K720\", \"K729\", \"K746\", \"K760\", \"K769\", \"K859\", \"K859\", \"K869\", \"K922\", \"L031\", \"L039\", \"L089\", \"L899\", \"L984\", \"M069\", \"M109\", \"M199\", \"M353\", \"M480\", \"M628\", \"M819\", \"M844\", \"M869\", \"N009\", \"N12\", \"N179\", \"N179\", \"N179\", \"N179\", \"N183\", \"N183\", \"N184\", \"N185\", \"N189\", \"N19\", \"N19\", \"N19\", \"N288\", \"N288\", \"N289\", \"N390\", \"N390\", \"N390\", \"N390\", \"N390\", \"N40\", \"R263\", \"R636\", \"W18\", \"W19\", \"W80\", \"X590\", \"X599\", \"Y442\", \"Y831\", \"Y839\", \"Y841\"]}, \"R\": 30, \"lambda.step\": 0.01, \"plot.opts\": {\"xlab\": \"PC1\", \"ylab\": \"PC2\"}, \"topic.order\": [5, 2, 4, 3, 6, 1]};\n",
       "\n",
       "function LDAvis_load_lib(url, callback){\n",
       "  var s = document.createElement('script');\n",
       "  s.src = url;\n",
       "  s.async = true;\n",
       "  s.onreadystatechange = s.onload = callback;\n",
       "  s.onerror = function(){console.warn(\"failed to load library \" + url);};\n",
       "  document.getElementsByTagName(\"head\")[0].appendChild(s);\n",
       "}\n",
       "\n",
       "if(typeof(LDAvis) !== \"undefined\"){\n",
       "   // already loaded: just create the visualization\n",
       "   !function(LDAvis){\n",
       "       new LDAvis(\"#\" + \"ldavis_el2234417343841906247726112261\", ldavis_el2234417343841906247726112261_data);\n",
       "   }(LDAvis);\n",
       "}else if(typeof define === \"function\" && define.amd){\n",
       "   // require.js is available: use it to load d3/LDAvis\n",
       "   require.config({paths: {d3: \"https://cdnjs.cloudflare.com/ajax/libs/d3/3.5.5/d3.min\"}});\n",
       "   require([\"d3\"], function(d3){\n",
       "      window.d3 = d3;\n",
       "      LDAvis_load_lib(\"https://cdn.rawgit.com/bmabey/pyLDAvis/files/ldavis.v1.0.0.js\", function(){\n",
       "        new LDAvis(\"#\" + \"ldavis_el2234417343841906247726112261\", ldavis_el2234417343841906247726112261_data);\n",
       "      });\n",
       "    });\n",
       "}else{\n",
       "    // require.js not available: dynamically load d3 & LDAvis\n",
       "    LDAvis_load_lib(\"https://cdnjs.cloudflare.com/ajax/libs/d3/3.5.5/d3.min.js\", function(){\n",
       "         LDAvis_load_lib(\"https://cdn.rawgit.com/bmabey/pyLDAvis/files/ldavis.v1.0.0.js\", function(){\n",
       "                 new LDAvis(\"#\" + \"ldavis_el2234417343841906247726112261\", ldavis_el2234417343841906247726112261_data);\n",
       "            })\n",
       "         });\n",
       "}\n",
       "</script>"
      ],
      "text/plain": [
       "PreparedData(topic_coordinates=              x         y  topics  cluster       Freq\n",
       "topic                                                \n",
       "4     -0.324306 -0.002628       1        1  17.542683\n",
       "1      0.158162 -0.153682       2        1  17.463009\n",
       "3      0.205999 -0.110255       3        1  16.657679\n",
       "2      0.091204  0.034608       4        1  16.144991\n",
       "5     -0.174012 -0.152314       5        1  16.144505\n",
       "0      0.042954  0.384271       6        1  16.047134, topic_info=     Term        Freq       Total Category  logprob  loglift\n",
       "4    J189  385.000000  385.000000  Default  30.0000  30.0000\n",
       "12    F03  337.000000  337.000000  Default  29.0000  29.0000\n",
       "0    N179  345.000000  345.000000  Default  28.0000  28.0000\n",
       "9     I48  384.000000  384.000000  Default  27.0000  27.0000\n",
       "10   J449  360.000000  360.000000  Default  26.0000  26.0000\n",
       "..    ...         ...         ...      ...      ...      ...\n",
       "325   D70    8.836080    9.329704   Topic6  -5.2425   1.7753\n",
       "241  C794    8.832471    9.328139   Topic6  -5.2429   1.7750\n",
       "246  J869    9.659695   10.206622   Topic6  -5.1534   1.7746\n",
       "284  F172   19.080421   20.936871   Topic6  -4.4727   1.7368\n",
       "88   Y839    9.576203   10.209280   Topic6  -5.1621   1.7656\n",
       "\n",
       "[228 rows x 6 columns], token_table=      Topic      Freq  Term\n",
       "term                       \n",
       "91        2  0.045025  A047\n",
       "91        5  0.945535  A047\n",
       "255       4  0.943238  A099\n",
       "44        4  0.991066  A490\n",
       "86        4  0.986998  A491\n",
       "...     ...       ...   ...\n",
       "341       6  0.977113  X599\n",
       "178       2  0.934703  Y442\n",
       "5         4  0.961264  Y831\n",
       "88        6  0.979501  Y839\n",
       "320       6  0.968643  Y841\n",
       "\n",
       "[271 rows x 3 columns], R=30, lambda_step=0.01, plot_opts={'xlab': 'PC1', 'ylab': 'PC2'}, topic_order=[5, 2, 4, 3, 6, 1])"
      ]
     },
     "execution_count": 24,
     "metadata": {},
     "output_type": "execute_result"
    }
   ],
   "source": [
    "from pyLDAvis import sklearn as sklearn_lda\n",
    "import pyLDAvis\n",
    "pyLDAvis.enable_notebook()\n",
    "ldamodel_all_uni_long_vis = pyLDAvis.gensim.prepare(ldamodel_all_uni_long, corpus_uni_long, dictionary_uni_long)\n",
    "ldamodel_all_uni_long_vis"
   ]
  },
  {
   "cell_type": "markdown",
   "metadata": {},
   "source": [
    "Using long ICD-10 codes as unigrams doesn't improve the model coherence score very much at 0.54. Again, it's hard to find commonalities in the terms within each topic."
   ]
  },
  {
   "cell_type": "markdown",
   "metadata": {},
   "source": [
    "**LDA WITH SHORT BIGRAMS EXLUDING GARBAGE TERMS**"
   ]
  },
  {
   "cell_type": "markdown",
   "metadata": {},
   "source": [
    "Next, I tried using bi-grams of short ICD-10 codes.  Adjacent ICD-10 codes in each record are considered as a single unit and provide a little more context when trying to interpret the topics."
   ]
  },
  {
   "cell_type": "code",
   "execution_count": 25,
   "metadata": {},
   "outputs": [
    {
     "name": "stdout",
     "output_type": "stream",
     "text": [
      "Topic: 0 \n",
      "Words: 0.109*\"N17_N18\" + 0.058*\"J18_N17\" + 0.051*\"J44_N18\" + 0.038*\"G30_I48\" + 0.032*\"I48_I63\" + 0.029*\"J18_N28\" + 0.026*\"G93_J18\" + 0.025*\"I48_J69\" + 0.024*\"I35_I48\" + 0.021*\"I48_N17\"\n",
      "Topic: 1 \n",
      "Words: 0.056*\"I48_J18\" + 0.048*\"F01_I48\" + 0.043*\"J18_J80\" + 0.042*\"E78_F01\" + 0.042*\"J18_N18\" + 0.042*\"E66_G47\" + 0.029*\"K92_N17\" + 0.026*\"G93_I48\" + 0.025*\"I48_N18\" + 0.025*\"E11_F01\"\n",
      "Topic: 2 \n",
      "Words: 0.083*\"I48_J44\" + 0.043*\"E14_J44\" + 0.040*\"I48_I64\" + 0.036*\"F03_J18\" + 0.029*\"N18_N28\" + 0.027*\"E14_I25\" + 0.025*\"E78_F03\" + 0.025*\"G93_I45\" + 0.025*\"I25_J44\" + 0.019*\"A49_G93\"\n",
      "Topic: 3 \n",
      "Words: 0.166*\"C78_C78\" + 0.052*\"E14_E66\" + 0.032*\"E11_E66\" + 0.031*\"E14_I48\" + 0.029*\"I73_J44\" + 0.029*\"E66_E78\" + 0.029*\"J18_J90\" + 0.027*\"I21_I25\" + 0.026*\"E11_I48\" + 0.026*\"C77_C78\"\n",
      "Topic: 4 \n",
      "Words: 0.180*\"C78_C79\" + 0.074*\"C79_C79\" + 0.060*\"E14_E78\" + 0.040*\"I25_I48\" + 0.028*\"J44_N17\" + 0.025*\"E11_F03\" + 0.024*\"N17_N39\" + 0.019*\"J18_N39\" + 0.019*\"G47_I48\" + 0.019*\"K72_N19\"\n",
      "Topic: 5 \n",
      "Words: 0.060*\"F03_I48\" + 0.057*\"E11_E78\" + 0.039*\"K72_N17\" + 0.038*\"E14_F03\" + 0.035*\"E78_I48\" + 0.034*\"F03_J44\" + 0.030*\"E11_G30\" + 0.029*\"E11_I25\" + 0.022*\"J44_J90\" + 0.020*\"A49_E11\"\n"
     ]
    }
   ],
   "source": [
    "ldamodel_bi = gensim.models.LdaMulticore(corpus_bi,\n",
    "                                              id2word=dictionary_bi,\n",
    "                                              num_topics=6,\n",
    "                                              passes=30,\n",
    "                                              alpha = 0.5,\n",
    "                                              eta = 0.1,\n",
    "                                              workers=4,\n",
    "                                              random_state = 101\n",
    "                                             )\n",
    "\n",
    "for idx, topic in ldamodel_bi.print_topics(-1):\n",
    "    print('Topic: {} \\nWords: {}'.format(idx,topic))\n"
   ]
  },
  {
   "cell_type": "code",
   "execution_count": 26,
   "metadata": {},
   "outputs": [
    {
     "name": "stdout",
     "output_type": "stream",
     "text": [
      "Coherence score for LDA model: ICD-10 bigrams without garbage code, 6 topics, 30 passes:  0.7773229832801457\n"
     ]
    }
   ],
   "source": [
    "coherence_ldamodel_bi = CoherenceModel(model = ldamodel_bi, \n",
    "                                      texts = ds.bigrams, \n",
    "                                      dictionary = dictionary_bi, \n",
    "                                      coherence = 'c_v')\n",
    "\n",
    "coherence_ldamodel_bi = coherence_ldamodel_bi.get_coherence()\n",
    "\n",
    "print(\"Coherence score for LDA model: ICD-10 bigrams without garbage code, 6 topics, 30 passes: \", coherence_ldamodel_bi)"
   ]
  },
  {
   "cell_type": "markdown",
   "metadata": {},
   "source": [
    "The coherence score for the LDA model built with bigrams and no garbage codes was much higher than either of the two previous models."
   ]
  },
  {
   "cell_type": "code",
   "execution_count": 27,
   "metadata": {},
   "outputs": [
    {
     "data": {
      "text/html": [
       "\n",
       "<link rel=\"stylesheet\" type=\"text/css\" href=\"https://cdn.rawgit.com/bmabey/pyLDAvis/files/ldavis.v1.0.0.css\">\n",
       "\n",
       "\n",
       "<div id=\"ldavis_el2234417343841207683815388259\"></div>\n",
       "<script type=\"text/javascript\">\n",
       "\n",
       "var ldavis_el2234417343841207683815388259_data = {\"mdsDat\": {\"x\": [0.2686714616192736, -0.2300409156139202, 0.21262397313930817, -0.07490323014781926, -0.07513767071263527, -0.10121361828420683], \"y\": [-0.17971496411712373, 0.136908020657322, 0.2876686449109038, -0.2305847462120657, -0.003953310961964873, -0.010323644277071633], \"topics\": [1, 2, 3, 4, 5, 6], \"cluster\": [1, 1, 1, 1, 1, 1], \"Freq\": [17.26050567626953, 17.06195831298828, 16.859312057495117, 16.47905921936035, 16.388568878173828, 15.950592041015625]}, \"tinfo\": {\"Term\": [\"C78_C79\", \"C78_C78\", \"N17_N18\", \"I48_J44\", \"C79_C79\", \"E14_E78\", \"F03_I48\", \"J18_N17\", \"E11_E78\", \"I48_J18\", \"E14_E66\", \"J44_N18\", \"F01_I48\", \"J18_J80\", \"E14_J44\", \"J18_N18\", \"E66_G47\", \"E78_F01\", \"I48_I64\", \"I25_I48\", \"K72_N17\", \"G30_I48\", \"E14_F03\", \"F03_J18\", \"E78_I48\", \"F03_J44\", \"I48_I63\", \"E11_E66\", \"E14_I48\", \"E11_G30\", \"C79_C79\", \"E14_E78\", \"C78_C79\", \"E11_F03\", \"I25_I48\", \"J44_N17\", \"N17_N39\", \"K72_N19\", \"J18_N39\", \"F03_N39\", \"I48_I73\", \"E78_I71\", \"I71_J44\", \"G47_I48\", \"A49_N17\", \"E14_F01\", \"J44_J44\", \"A49_F03\", \"I48_K92\", \"E66_F10\", \"F03_N17\", \"D64_F03\", \"N28_N39\", \"F10_G93\", \"E66_J44\", \"J18_J84\", \"I25_I35\", \"E03_F03\", \"I64_N17\", \"C79_I48\", \"I25_I25\", \"I48_J44\", \"E14_J44\", \"I48_I64\", \"F03_J18\", \"N18_N28\", \"E14_I25\", \"G93_I45\", \"E78_F03\", \"I25_J44\", \"A49_G93\", \"J44_N28\", \"E03_E78\", \"J44_J69\", \"F03_G20\", \"F01_G30\", \"I64_J69\", \"I25_J18\", \"I71_I71\", \"I48_I95\", \"F03_G93\", \"E66_I48\", \"I42_I48\", \"F01_J69\", \"G93_G93\", \"E11_N17\", \"J69_N17\", \"I21_I64\", \"I48_J15\", \"G93_I21\", \"I64_J18\", \"E14_E66\", \"C78_C78\", \"E14_I48\", \"E66_E78\", \"J18_J90\", \"E11_I48\", \"C77_C78\", \"I73_J44\", \"E78_J44\", \"E11_E66\", \"I21_I25\", \"E78_G47\", \"I21_N17\", \"I48_I71\", \"G47_J44\", \"I48_I69\", \"C77_C79\", \"A49_I21\", \"E66_G93\", \"C78_J44\", \"I64_J44\", \"I25_N18\", \"K76_N17\", \"C78_I48\", \"L03_N17\", \"A49_D65\", \"E14_F10\", \"E14_N17\", \"A49_E14\", \"J69_N18\", \"E03_E14\", \"N17_N18\", \"J18_N17\", \"G30_I48\", \"I48_I63\", \"J18_N28\", \"G93_J18\", \"I48_J69\", \"I35_I48\", \"I48_N17\", \"A49_J18\", \"J81_N17\", \"E11_J44\", \"G93_N17\", \"N00_N18\", \"J44_N18\", \"F03_I25\", \"K72_K72\", \"M62_N17\", \"I48_N19\", \"F03_G30\", \"E14_G93\", \"I48_K55\", \"I25_N17\", \"J18_K74\", \"K70_K72\", \"K76_N28\", \"K74_N17\", \"E46_F01\", \"J90_N28\", \"J15_J80\", \"I25_I73\", \"C79_E14\", \"I48_J18\", \"F01_I48\", \"J18_J80\", \"J18_N18\", \"E66_G47\", \"E78_F01\", \"K92_N17\", \"G93_I48\", \"E11_F01\", \"I48_N18\", \"J80_N17\", \"K74_K76\", \"F19_G93\", \"I73_N18\", \"G93_J69\", \"F10_F17\", \"C78_K72\", \"N18_N39\", \"K72_K74\", \"E46_F03\", \"J44_J98\", \"E14_G30\", \"A49_I25\", \"C79_E11\", \"I12_I25\", \"C34_J44\", \"F03_J69\", \"J18_J69\", \"E78_I12\", \"F01_J18\", \"I21_I48\", \"F03_I48\", \"E11_E78\", \"K72_N17\", \"E78_I48\", \"F03_J44\", \"E11_G30\", \"E11_I25\", \"E14_F03\", \"J44_J90\", \"A49_E11\", \"I11_I25\", \"I45_I48\", \"J18_N19\", \"E78_F10\", \"K56_N17\", \"E14_G47\", \"I47_I48\", \"I27_I48\", \"J15_N17\", \"G81_I69\", \"I48_N28\", \"G30_J18\", \"I31_I71\", \"I12_J44\", \"A49_J15\", \"F10_J44\", \"J44_K74\", \"K72_N28\", \"I80_J44\", \"F03_F91\"], \"Freq\": [110.0, 99.0, 63.0, 50.0, 44.0, 36.0, 33.0, 33.0, 32.0, 32.0, 31.0, 30.0, 27.0, 25.0, 25.0, 24.0, 24.0, 24.0, 24.0, 24.0, 22.0, 22.0, 21.0, 21.0, 19.0, 19.0, 19.0, 19.0, 18.0, 17.0, 44.46281814575195, 36.09221649169922, 107.87682342529297, 15.096145629882812, 23.791282653808594, 16.96443748474121, 14.498004913330078, 11.161376953125, 11.350502014160156, 10.377856254577637, 10.687928199768066, 10.025605201721191, 9.72066879272461, 11.323905944824219, 9.57919979095459, 8.985583305358887, 8.693296432495117, 7.91677188873291, 7.826495170593262, 7.733036994934082, 7.291674613952637, 7.289968967437744, 6.60011100769043, 7.404354572296143, 6.348398208618164, 6.338696002960205, 6.228490829467773, 6.089903831481934, 6.1135759353637695, 5.91572904586792, 8.176609992980957, 49.102359771728516, 25.3073787689209, 23.66383934020996, 21.39846420288086, 17.32497215270996, 16.177139282226562, 14.64609432220459, 14.974874496459961, 14.645397186279297, 11.538843154907227, 11.172151565551758, 11.373126983642578, 10.780641555786133, 9.625601768493652, 9.556654930114746, 9.330378532409668, 9.755182266235352, 8.835530281066895, 9.601734161376953, 8.863301277160645, 8.645281791687012, 8.503243446350098, 8.570515632629395, 8.187247276306152, 8.085776329040527, 8.049249649047852, 8.2156343460083, 8.261425018310547, 7.766490459442139, 7.383377552032471, 30.68050765991211, 97.36450958251953, 18.142797470092773, 16.892005920410156, 16.72092056274414, 15.276801109313965, 15.004861831665039, 17.057823181152344, 14.54106330871582, 18.86961555480957, 15.657405853271484, 13.797412872314453, 12.038949012756348, 11.143898010253906, 10.521092414855957, 9.235774040222168, 9.093860626220703, 8.744384765625, 8.647736549377441, 8.456757545471191, 8.542059898376465, 8.130043983459473, 7.938739776611328, 7.908078193664551, 7.788332462310791, 7.7983293533325195, 6.898281574249268, 6.659748554229736, 6.682160377502441, 6.456320762634277, 6.466907978057861, 62.177513122558594, 33.18061828613281, 21.844268798828125, 18.529891967773438, 16.419490814208984, 15.088216781616211, 14.124173164367676, 13.68688678741455, 12.170793533325195, 11.777124404907227, 11.587663650512695, 11.625665664672852, 11.407340049743652, 11.012170791625977, 29.27498435974121, 10.474638938903809, 9.306967735290527, 8.910856246948242, 7.834965705871582, 7.136260032653809, 7.124200344085693, 7.053619384765625, 6.985958576202393, 7.102636337280273, 6.87214469909668, 6.85861873626709, 6.678736209869385, 6.523290634155273, 6.690394401550293, 6.490040302276611, 6.8095316886901855, 6.625735759735107, 31.68204116821289, 27.376455307006836, 24.673603057861328, 24.0714054107666, 24.04509162902832, 24.123910903930664, 16.53911590576172, 14.573299407958984, 14.010433197021484, 14.289374351501465, 10.945816993713379, 10.735164642333984, 10.338427543640137, 9.522180557250977, 9.136433601379395, 8.750617027282715, 8.065357208251953, 7.9131269454956055, 7.9623847007751465, 7.759567737579346, 7.209746360778809, 7.136547088623047, 6.904241561889648, 6.790701866149902, 6.8431854248046875, 6.488337993621826, 6.502298831939697, 6.5307512283325195, 6.295838356018066, 6.14578104019165, 6.166544437408447, 33.088077545166016, 31.764328002929688, 21.720224380493164, 19.298707962036133, 18.643123626708984, 16.82024574279785, 15.858880043029785, 20.814111709594727, 12.41919231414795, 11.152704238891602, 10.497596740722656, 10.172223091125488, 9.603011131286621, 9.45781135559082, 8.95527172088623, 9.288994789123535, 8.456978797912598, 10.556829452514648, 8.304915428161621, 7.938222885131836, 7.894350528717041, 7.783364295959473, 7.3377227783203125, 7.296483993530273, 7.1789350509643555, 7.1375346183776855, 6.838502883911133, 6.618018627166748, 6.554966449737549, 6.2412004470825195], \"Total\": [110.0, 99.0, 63.0, 50.0, 44.0, 36.0, 33.0, 33.0, 32.0, 32.0, 31.0, 30.0, 27.0, 25.0, 25.0, 24.0, 24.0, 24.0, 24.0, 24.0, 22.0, 22.0, 21.0, 21.0, 19.0, 19.0, 19.0, 19.0, 18.0, 17.0, 44.9995231628418, 36.66420364379883, 110.91180419921875, 15.583609580993652, 24.572078704833984, 17.639991760253906, 15.076162338256836, 11.645270347595215, 11.855473518371582, 10.862425804138184, 11.194077491760254, 10.520149230957031, 10.206554412841797, 11.898834228515625, 10.066959381103516, 9.482474327087402, 9.187814712524414, 8.405760765075684, 8.311573028564453, 8.225433349609375, 7.776773929595947, 7.776267051696777, 7.08528470993042, 7.958270072937012, 6.829977035522461, 6.82165002822876, 6.714203357696533, 6.572155475616455, 6.600712299346924, 6.4047532081604, 9.08352279663086, 50.11134338378906, 25.833118438720703, 24.168155670166016, 21.90082359313965, 17.845705032348633, 16.708866119384766, 15.133633613586426, 15.490691184997559, 15.151500701904297, 12.024179458618164, 11.660558700561523, 11.876117706298828, 11.266012191772461, 10.109546661376953, 10.038171768188477, 9.811702728271484, 10.278023719787598, 9.3167724609375, 10.128314971923828, 9.349518775939941, 9.128978729248047, 8.987202644348145, 9.06177043914795, 8.667582511901855, 8.566621780395508, 8.53222942352295, 8.709722518920898, 8.762109756469727, 8.24869441986084, 7.865530490875244, 31.193620681762695, 99.01603698730469, 18.65395736694336, 17.388954162597656, 17.232131958007812, 15.764657974243164, 15.501442909240723, 17.627744674682617, 15.027012825012207, 19.527870178222656, 16.206890106201172, 14.287867546081543, 12.523442268371582, 11.643348693847656, 11.005571365356445, 9.715608596801758, 9.57696533203125, 9.227934837341309, 9.138659477233887, 8.941621780395508, 9.041396141052246, 8.614119529724121, 8.419146537780762, 8.39110279083252, 8.266801834106445, 8.282790184020996, 7.376829624176025, 7.1371002197265625, 7.1671624183654785, 6.934167861938477, 6.945958614349365, 63.236595153808594, 33.77631759643555, 22.403127670288086, 19.036121368408203, 16.940216064453125, 15.568585395812988, 14.63504695892334, 14.187310218811035, 12.654707908630371, 12.256698608398438, 12.068201065063477, 12.109819412231445, 11.885875701904297, 11.496408462524414, 30.576425552368164, 10.951313972473145, 9.795304298400879, 9.388442993164062, 8.31082534790039, 7.61040735244751, 7.6023945808410645, 7.532726287841797, 7.463083267211914, 7.588127613067627, 7.347443580627441, 7.334488391876221, 7.155200481414795, 6.997766971588135, 7.18459415435791, 6.9714765548706055, 7.323447227478027, 7.143528938293457, 32.186622619628906, 27.85612678527832, 25.167863845825195, 24.560312271118164, 24.580764770507812, 24.716840744018555, 17.019607543945312, 15.054642677307129, 14.497406959533691, 14.7902250289917, 11.42092227935791, 11.217458724975586, 10.819208145141602, 9.99460506439209, 9.622650146484375, 9.22304916381836, 8.539241790771484, 8.385475158691406, 8.45339584350586, 8.238656044006348, 7.68548059463501, 7.607617378234863, 7.3759379386901855, 7.262637138366699, 7.336331367492676, 6.962607383728027, 6.9792633056640625, 7.012381553649902, 6.767519474029541, 6.621432781219482, 6.647846221923828, 33.614112854003906, 32.38692855834961, 22.215476989746094, 19.783344268798828, 19.128311157226562, 17.30037498474121, 16.345905303955078, 21.461353302001953, 12.929859161376953, 11.63386344909668, 10.973945617675781, 10.639585494995117, 10.072941780090332, 9.925970077514648, 9.42402458190918, 9.778175354003906, 8.923423767089844, 11.15078067779541, 8.776581764221191, 8.404494285583496, 8.362093925476074, 8.250666618347168, 7.804258346557617, 7.763721942901611, 7.645722389221191, 7.606093883514404, 7.306593418121338, 7.088411808013916, 7.021331787109375, 6.707996368408203], \"Category\": [\"Default\", \"Default\", \"Default\", \"Default\", \"Default\", \"Default\", \"Default\", \"Default\", \"Default\", \"Default\", \"Default\", \"Default\", \"Default\", \"Default\", \"Default\", \"Default\", \"Default\", \"Default\", \"Default\", \"Default\", \"Default\", \"Default\", \"Default\", \"Default\", \"Default\", \"Default\", \"Default\", \"Default\", \"Default\", \"Default\", \"Topic1\", \"Topic1\", \"Topic1\", \"Topic1\", \"Topic1\", \"Topic1\", \"Topic1\", \"Topic1\", \"Topic1\", \"Topic1\", \"Topic1\", \"Topic1\", \"Topic1\", \"Topic1\", \"Topic1\", \"Topic1\", \"Topic1\", \"Topic1\", \"Topic1\", \"Topic1\", \"Topic1\", \"Topic1\", \"Topic1\", \"Topic1\", \"Topic1\", \"Topic1\", \"Topic1\", \"Topic1\", \"Topic1\", \"Topic1\", \"Topic1\", \"Topic2\", \"Topic2\", \"Topic2\", \"Topic2\", \"Topic2\", \"Topic2\", \"Topic2\", \"Topic2\", \"Topic2\", \"Topic2\", \"Topic2\", \"Topic2\", \"Topic2\", \"Topic2\", \"Topic2\", \"Topic2\", \"Topic2\", \"Topic2\", \"Topic2\", \"Topic2\", \"Topic2\", \"Topic2\", \"Topic2\", \"Topic2\", \"Topic2\", \"Topic2\", \"Topic2\", \"Topic2\", \"Topic2\", \"Topic2\", \"Topic3\", \"Topic3\", \"Topic3\", \"Topic3\", \"Topic3\", \"Topic3\", \"Topic3\", \"Topic3\", \"Topic3\", \"Topic3\", \"Topic3\", \"Topic3\", \"Topic3\", \"Topic3\", \"Topic3\", \"Topic3\", \"Topic3\", \"Topic3\", \"Topic3\", \"Topic3\", \"Topic3\", \"Topic3\", \"Topic3\", \"Topic3\", \"Topic3\", \"Topic3\", \"Topic3\", \"Topic3\", \"Topic3\", \"Topic3\", \"Topic3\", \"Topic4\", \"Topic4\", \"Topic4\", \"Topic4\", \"Topic4\", \"Topic4\", \"Topic4\", \"Topic4\", \"Topic4\", \"Topic4\", \"Topic4\", \"Topic4\", \"Topic4\", \"Topic4\", \"Topic4\", \"Topic4\", \"Topic4\", \"Topic4\", \"Topic4\", \"Topic4\", \"Topic4\", \"Topic4\", \"Topic4\", \"Topic4\", \"Topic4\", \"Topic4\", \"Topic4\", \"Topic4\", \"Topic4\", \"Topic4\", \"Topic4\", \"Topic4\", \"Topic5\", \"Topic5\", \"Topic5\", \"Topic5\", \"Topic5\", \"Topic5\", \"Topic5\", \"Topic5\", \"Topic5\", \"Topic5\", \"Topic5\", \"Topic5\", \"Topic5\", \"Topic5\", \"Topic5\", \"Topic5\", \"Topic5\", \"Topic5\", \"Topic5\", \"Topic5\", \"Topic5\", \"Topic5\", \"Topic5\", \"Topic5\", \"Topic5\", \"Topic5\", \"Topic5\", \"Topic5\", \"Topic5\", \"Topic5\", \"Topic5\", \"Topic6\", \"Topic6\", \"Topic6\", \"Topic6\", \"Topic6\", \"Topic6\", \"Topic6\", \"Topic6\", \"Topic6\", \"Topic6\", \"Topic6\", \"Topic6\", \"Topic6\", \"Topic6\", \"Topic6\", \"Topic6\", \"Topic6\", \"Topic6\", \"Topic6\", \"Topic6\", \"Topic6\", \"Topic6\", \"Topic6\", \"Topic6\", \"Topic6\", \"Topic6\", \"Topic6\", \"Topic6\", \"Topic6\", \"Topic6\"], \"logprob\": [30.0, 29.0, 28.0, 27.0, 26.0, 25.0, 24.0, 23.0, 22.0, 21.0, 20.0, 19.0, 18.0, 17.0, 16.0, 15.0, 14.0, 13.0, 12.0, 11.0, 10.0, 9.0, 8.0, 7.0, 6.0, 5.0, 4.0, 3.0, 2.0, 1.0, -2.6022000312805176, -2.810800075531006, -1.71589994430542, -3.6823999881744385, -3.2274999618530273, -3.565700054168701, -3.722899913787842, -3.9844000339508057, -3.967600107192993, -4.057199954986572, -4.0278000831604, -4.091700077056885, -4.122600078582764, -3.9700000286102295, -4.13730001449585, -4.201200008392334, -4.234300136566162, -4.327899932861328, -4.339399814605713, -4.351399898529053, -4.410099983215332, -4.410399913787842, -4.509799957275391, -4.394800186157227, -4.548699855804443, -4.55019998550415, -4.567699909210205, -4.590199947357178, -4.586400032043457, -4.61929988861084, -4.295599937438965, -2.4914000034332275, -3.1542000770568848, -3.221299886703491, -3.322000026702881, -3.533099889755249, -3.6017000675201416, -3.7011001110076904, -3.6789000034332275, -3.701200008392334, -3.9395999908447266, -3.97189998626709, -3.9539999961853027, -4.007500171661377, -4.1209001541137695, -4.1280999183654785, -4.1519999504089355, -4.107500076293945, -4.206500053405762, -4.1234002113342285, -4.203400135040283, -4.228300094604492, -4.244800090789795, -4.236999988555908, -4.282700061798096, -4.295199871063232, -4.299699783325195, -4.279300212860107, -4.27370023727417, -4.3354997634887695, -4.386099815368652, -2.949700117111206, -1.7948999404907227, -3.475100040435791, -3.5464999675750732, -3.5566999912261963, -3.6470000743865967, -3.6649999618530273, -3.5367000102996826, -3.6963999271392822, -3.435800075531006, -3.6224000453948975, -3.7488999366760254, -3.885200023651123, -3.9625000953674316, -4.019999980926514, -4.150300025939941, -4.1656999588012695, -4.204899787902832, -4.216100215911865, -4.238399982452393, -4.228300094604492, -4.2778000831604, -4.301599979400635, -4.305500030517578, -4.320700168609619, -4.319399833679199, -4.4421000480651855, -4.47730016708374, -4.473899841308594, -4.508299827575684, -4.506700038909912, -2.2204999923706055, -2.848599910736084, -3.2665998935699463, -3.4312000274658203, -3.5520999431610107, -3.6366000175476074, -3.7026000022888184, -3.734100103378296, -3.8515000343322754, -3.884399890899658, -3.900599956512451, -3.8973000049591064, -3.916300058364868, -3.9514999389648438, -2.97379994392395, -4.0015997886657715, -4.119800090789795, -4.163300037384033, -4.291900157928467, -4.385300159454346, -4.38700008392334, -4.396999835968018, -4.406599998474121, -4.390100002288818, -4.423099994659424, -4.425000190734863, -4.451600074768066, -4.475200176239014, -4.449900150299072, -4.480299949645996, -4.432199954986572, -4.45959997177124, -2.8893001079559326, -3.0353000164031982, -3.1393001079559326, -3.1640000343322754, -3.16510009765625, -3.161799907684326, -3.539299964904785, -3.665800094604492, -3.705199956893921, -3.685499906539917, -3.9521000385284424, -3.9714999198913574, -4.009200096130371, -4.091400146484375, -4.132800102233887, -4.175899982452393, -4.257500171661377, -4.276500225067139, -4.270299911499023, -4.29610013961792, -4.36959981918335, -4.379799842834473, -4.412899971008301, -4.429500102996826, -4.421800136566162, -4.474999904632568, -4.472899913787842, -4.468500137329102, -4.505099773406982, -4.529300212860107, -4.525899887084961, -2.8187999725341797, -2.859600067138672, -3.2397000789642334, -3.3578999042510986, -3.3924999237060547, -3.4953999519348145, -3.5541999340057373, -3.2822999954223633, -3.7987000942230225, -3.9063000679016113, -3.9667999744415283, -3.998300075531006, -4.0559000968933105, -4.071100234985352, -4.125699996948242, -4.089099884033203, -4.1828999519348145, -3.961199998855591, -4.201099872589111, -4.246300220489502, -4.251800060272217, -4.265999794006348, -4.324900150299072, -4.33050012588501, -4.346799850463867, -4.35260009765625, -4.395400047302246, -4.428100109100342, -4.437699794769287, -4.486800193786621], \"loglift\": [30.0, 29.0, 28.0, 27.0, 26.0, 25.0, 24.0, 23.0, 22.0, 21.0, 20.0, 19.0, 18.0, 17.0, 16.0, 15.0, 14.0, 13.0, 12.0, 11.0, 10.0, 9.0, 8.0, 7.0, 6.0, 5.0, 4.0, 3.0, 2.0, 1.0, 1.7447999715805054, 1.7410000562667847, 1.7289999723434448, 1.725000023841858, 1.7244999408721924, 1.7177000045776367, 1.7175999879837036, 1.7143000364303589, 1.7131999731063843, 1.7110999822616577, 1.7105000019073486, 1.7086000442504883, 1.7079999446868896, 1.707200050354004, 1.7071000337600708, 1.7029000520706177, 1.7014000415802002, 1.6967999935150146, 1.6965999603271484, 1.6950000524520874, 1.6922999620437622, 1.692199945449829, 1.6857999563217163, 1.6845999956130981, 1.6835999488830566, 1.6833000183105469, 1.6816999912261963, 1.6805000305175781, 1.6800999641418457, 1.677299976348877, 1.6516000032424927, 1.7480000257492065, 1.7477999925613403, 1.7472000122070312, 1.7451000213623047, 1.738700032234192, 1.7359999418258667, 1.7355999946594238, 1.7345000505447388, 1.7343000173568726, 1.7271000146865845, 1.7254999876022339, 1.725000023841858, 1.7243000268936157, 1.7193000316619873, 1.7192000150680542, 1.718000054359436, 1.7160999774932861, 1.7152999639511108, 1.714900016784668, 1.714900016784668, 1.7138999700546265, 1.7130000591278076, 1.7125999927520752, 1.711300015449524, 1.7106000185012817, 1.7100000381469727, 1.7099000215530396, 1.7094999551773071, 1.7080999612808228, 1.7051000595092773, 1.763700008392334, 1.7633999586105347, 1.752500057220459, 1.7512999773025513, 1.7502000331878662, 1.7488000392913818, 1.7476999759674072, 1.7474000453948975, 1.7474000453948975, 1.746000051498413, 1.7458000183105469, 1.745300054550171, 1.7408000230789185, 1.7364000082015991, 1.735200047492981, 1.729599952697754, 1.7285000085830688, 1.7264000177383423, 1.725100040435791, 1.7244999408721924, 1.7235000133514404, 1.7223999500274658, 1.721500039100647, 1.7209999561309814, 1.7206000089645386, 1.7200000286102295, 1.7131999731063843, 1.7109999656677246, 1.7101999521255493, 1.708899974822998, 1.708799958229065, 1.7862000465393066, 1.7853000164031982, 1.7777999639511108, 1.7761000394821167, 1.7719000577926636, 1.7717000246047974, 1.7675000429153442, 1.767199993133545, 1.7640999555587769, 1.763200044631958, 1.7624000310897827, 1.7623000144958496, 1.7619999647140503, 1.7599999904632568, 1.759600043296814, 1.7585999965667725, 1.7518999576568604, 1.7509000301361084, 1.7440999746322632, 1.738800048828125, 1.7381000518798828, 1.7374000549316406, 1.7369999885559082, 1.7369999885559082, 1.736199975013733, 1.7359999418258667, 1.7342000007629395, 1.7329000234603882, 1.7317999601364136, 1.7315000295639038, 1.730299949645996, 1.7278000116348267, 1.792799949645996, 1.791200041770935, 1.7888000011444092, 1.7884999513626099, 1.7865999937057495, 1.7842999696731567, 1.7798999547958374, 1.7761000394821167, 1.774399995803833, 1.7740999460220337, 1.7661000490188599, 1.7646000385284424, 1.763100028038025, 1.760200023651123, 1.756700038909912, 1.75600004196167, 1.7515000104904175, 1.750599980354309, 1.7487000226974487, 1.7487000226974487, 1.7446999549865723, 1.7446999549865723, 1.7424999475479126, 1.7414000034332275, 1.7389999628067017, 1.7380000352859497, 1.7378000020980835, 1.7374000549316406, 1.736299991607666, 1.7339999675750732, 1.7333999872207642, 1.8199000358581543, 1.8163000345230103, 1.813099980354309, 1.8108999729156494, 1.809999942779541, 1.8075000047683716, 1.805400013923645, 1.8050999641418457, 1.7954000234603882, 1.7934000492095947, 1.7913000583648682, 1.7907999753952026, 1.7878999710083008, 1.7874000072479248, 1.7847000360488892, 1.7843999862670898, 1.781999945640564, 1.780900001525879, 1.780400037765503, 1.7785999774932861, 1.7781000137329102, 1.777400016784668, 1.7740000486373901, 1.7735999822616577, 1.7726999521255493, 1.7720999717712402, 1.7695000171661377, 1.7669999599456787, 1.7668999433517456, 1.7634999752044678]}, \"token.table\": {\"Topic\": [3, 6, 3, 1, 2, 3, 5, 6, 4, 1, 5, 3, 3, 1, 3, 1, 3, 4, 3, 3, 5, 1, 5, 4, 1, 1, 3, 2, 1, 3, 6, 5, 1, 6, 6, 3, 4, 2, 3, 1, 1, 6, 3, 5, 6, 4, 2, 3, 2, 3, 4, 5, 3, 1, 5, 3, 2, 1, 5, 2, 6, 3, 5, 6, 1, 3, 2, 5, 5, 2, 6, 2, 4, 2, 4, 6, 2, 6, 5, 1, 1, 5, 1, 6, 5, 4, 6, 1, 3, 6, 2, 2, 2, 5, 4, 5, 4, 6, 5, 6, 3, 5, 2, 3, 1, 6, 1, 1, 4, 2, 2, 4, 3, 6, 6, 4, 2, 6, 6, 4, 2, 3, 3, 1, 2, 2, 5, 2, 4, 4, 1, 4, 5, 4, 6, 2, 3, 2, 1, 2, 1, 3, 5, 6, 4, 6, 5, 5, 1, 3, 4, 4, 5, 6, 4, 1, 1, 2, 6, 5, 6, 1, 4, 6, 2, 2, 3, 5, 4, 4, 6, 4, 4, 5, 6, 1, 6, 5, 4, 3, 4, 5, 3, 4, 4, 4, 1, 2, 5, 1], \"Freq\": [0.9658581018447876, 0.9455156326293945, 0.9766766428947449, 0.9517282247543335, 0.9979891180992126, 0.9752994775772095, 0.9490318298339844, 0.9155446290969849, 0.9790564775466919, 0.9933485984802246, 0.8617461323738098, 0.9676518440246582, 0.9397549033164978, 0.010099373757839203, 0.9796392917633057, 0.973746657371521, 0.009016172960400581, 0.009016172960400581, 0.9533907771110535, 0.8946923017501831, 0.9368513226509094, 0.9777881503105164, 0.963837206363678, 0.9799078106880188, 0.9368042349815369, 0.9001748561859131, 0.8638116717338562, 0.9262285828590393, 0.9129424691200256, 0.972968339920044, 0.9880529642105103, 0.9656899571418762, 0.9625498056411743, 0.9826376438140869, 0.9788383841514587, 0.9514954090118408, 0.9909313917160034, 0.9338570237159729, 0.9937929511070251, 0.9818841218948364, 0.9491193890571594, 0.9785030484199524, 0.9489171504974365, 0.9201303720474243, 0.9204171299934387, 0.9207625389099121, 0.9575754404067993, 0.9649426937103271, 0.9677500128746033, 0.9807904958724976, 1.0003191232681274, 0.9710321426391602, 0.9776321053504944, 0.9725931286811829, 0.9763731956481934, 0.9848271608352661, 0.9858714938163757, 0.8784802556037903, 0.9709978699684143, 0.9683234691619873, 0.9067124128341675, 0.9798523187637329, 0.8865877985954285, 0.9604038596153259, 0.9505568742752075, 0.998202383518219, 0.9961973428726196, 0.9692661166191101, 0.9061483144760132, 0.9931833744049072, 0.8944548964500427, 0.9891640543937683, 0.9197930693626404, 0.9626163840293884, 0.9131324291229248, 0.9817305207252502, 0.9588680267333984, 0.9932920932769775, 1.0029711723327637, 0.9001161456108093, 0.9206047058105469, 0.9758161306381226, 0.8795881271362305, 0.9203146696090698, 0.9242820739746094, 0.9820057153701782, 0.9696186184883118, 0.9244602918624878, 0.9994937777519226, 0.9518716931343079, 0.9229794144630432, 0.9698504209518433, 0.9911697506904602, 0.9963703751564026, 0.963478684425354, 0.9352932572364807, 0.9254682064056396, 0.9112492799758911, 0.9541553854942322, 0.9016293883323669, 0.9872344136238098, 0.9025479555130005, 0.9185137748718262, 0.9582030177116394, 0.880715548992157, 0.11008944362401962, 0.8936280012130737, 0.9767183661460876, 0.9558340311050415, 0.9729496836662292, 0.9900009632110596, 0.9379501342773438, 0.9287077784538269, 0.9864780306816101, 0.8969461917877197, 0.9867973327636719, 1.001423954963684, 0.939886212348938, 0.8965168595314026, 0.9981024861335754, 0.9930422902107239, 0.9263444542884827, 0.9447453618049622, 0.9826624989509583, 0.9873310923576355, 0.9130221009254456, 0.9942018389701843, 0.9778225421905518, 0.9566078186035156, 0.9292784333229065, 0.9625133275985718, 0.9482637047767639, 0.9465711116790771, 0.9625999331474304, 0.9566981792449951, 0.8899590373039246, 0.9954214692115784, 0.9172719717025757, 0.9089928269386292, 0.9659997820854187, 0.9797625541687012, 0.9643888473510742, 1.000539779663086, 0.9969618320465088, 0.860649824142456, 0.9115166068077087, 0.9982343316078186, 0.9933302402496338, 0.8795526027679443, 0.9865291118621826, 0.9224936962127686, 0.9770159125328064, 0.9771862626075745, 0.9927586317062378, 0.9444980025291443, 0.9278414845466614, 0.9795582890510559, 0.9763880968093872, 0.9280843734741211, 0.9108083844184875, 0.9580388069152832, 0.9637192487716675, 0.9484431147575378, 0.03270493447780609, 0.9433510303497314, 0.9376212954521179, 0.8652804493904114, 0.9631446599960327, 0.9943487048149109, 0.9743069410324097, 0.9550060033798218, 0.9527122974395752, 0.9188076257705688, 0.946365237236023, 0.9903005957603455, 0.9445894956588745, 0.9875272512435913, 0.9806142449378967, 0.9783093929290771, 0.9502151012420654, 0.9543951153755188, 0.9988479614257812, 0.9677261114120483, 0.9586254358291626, 0.956820547580719, 0.9804449677467346, 0.928618311882019, 0.9526101350784302, 0.9540306329727173, 0.9879631400108337], \"Term\": [\"A49_D65\", \"A49_E11\", \"A49_E14\", \"A49_F03\", \"A49_G93\", \"A49_I21\", \"A49_I25\", \"A49_J15\", \"A49_J18\", \"A49_N17\", \"C34_J44\", \"C77_C78\", \"C77_C79\", \"C78_C78\", \"C78_C78\", \"C78_C79\", \"C78_C79\", \"C78_C79\", \"C78_I48\", \"C78_J44\", \"C78_K72\", \"C79_C79\", \"C79_E11\", \"C79_E14\", \"C79_I48\", \"D64_F03\", \"E03_E14\", \"E03_E78\", \"E03_F03\", \"E11_E66\", \"E11_E78\", \"E11_F01\", \"E11_F03\", \"E11_G30\", \"E11_I25\", \"E11_I48\", \"E11_J44\", \"E11_N17\", \"E14_E66\", \"E14_E78\", \"E14_F01\", \"E14_F03\", \"E14_F10\", \"E14_G30\", \"E14_G47\", \"E14_G93\", \"E14_I25\", \"E14_I48\", \"E14_J44\", \"E14_N17\", \"E46_F01\", \"E46_F03\", \"E66_E78\", \"E66_F10\", \"E66_G47\", \"E66_G93\", \"E66_I48\", \"E66_J44\", \"E78_F01\", \"E78_F03\", \"E78_F10\", \"E78_G47\", \"E78_I12\", \"E78_I48\", \"E78_I71\", \"E78_J44\", \"F01_G30\", \"F01_I48\", \"F01_J18\", \"F01_J69\", \"F03_F91\", \"F03_G20\", \"F03_G30\", \"F03_G93\", \"F03_I25\", \"F03_I48\", \"F03_J18\", \"F03_J44\", \"F03_J69\", \"F03_N17\", \"F03_N39\", \"F10_F17\", \"F10_G93\", \"F10_J44\", \"F19_G93\", \"G30_I48\", \"G30_J18\", \"G47_I48\", \"G47_J44\", \"G81_I69\", \"G93_G93\", \"G93_I21\", \"G93_I45\", \"G93_I48\", \"G93_J18\", \"G93_J69\", \"G93_N17\", \"I11_I25\", \"I12_I25\", \"I12_J44\", \"I21_I25\", \"I21_I48\", \"I21_I64\", \"I21_N17\", \"I25_I25\", \"I25_I25\", \"I25_I35\", \"I25_I48\", \"I25_I73\", \"I25_J18\", \"I25_J44\", \"I25_N17\", \"I25_N18\", \"I27_I48\", \"I31_I71\", \"I35_I48\", \"I42_I48\", \"I45_I48\", \"I47_I48\", \"I48_I63\", \"I48_I64\", \"I48_I69\", \"I48_I71\", \"I48_I73\", \"I48_I95\", \"I48_J15\", \"I48_J18\", \"I48_J44\", \"I48_J69\", \"I48_K55\", \"I48_K92\", \"I48_N17\", \"I48_N18\", \"I48_N19\", \"I48_N28\", \"I64_J18\", \"I64_J44\", \"I64_J69\", \"I64_N17\", \"I71_I71\", \"I71_J44\", \"I73_J44\", \"I73_N18\", \"I80_J44\", \"J15_J80\", \"J15_N17\", \"J18_J69\", \"J18_J80\", \"J18_J84\", \"J18_J90\", \"J18_K74\", \"J18_N17\", \"J18_N18\", \"J18_N19\", \"J18_N28\", \"J18_N39\", \"J44_J44\", \"J44_J69\", \"J44_J90\", \"J44_J98\", \"J44_K74\", \"J44_N17\", \"J44_N18\", \"J44_N18\", \"J44_N28\", \"J69_N17\", \"J69_N18\", \"J80_N17\", \"J81_N17\", \"J90_N28\", \"K56_N17\", \"K70_K72\", \"K72_K72\", \"K72_K74\", \"K72_N17\", \"K72_N19\", \"K72_N28\", \"K74_K76\", \"K74_N17\", \"K76_N17\", \"K76_N28\", \"K92_N17\", \"L03_N17\", \"M62_N17\", \"N00_N18\", \"N17_N18\", \"N17_N39\", \"N18_N28\", \"N18_N39\", \"N28_N39\"]}, \"R\": 30, \"lambda.step\": 0.01, \"plot.opts\": {\"xlab\": \"PC1\", \"ylab\": \"PC2\"}, \"topic.order\": [5, 3, 4, 1, 2, 6]};\n",
       "\n",
       "function LDAvis_load_lib(url, callback){\n",
       "  var s = document.createElement('script');\n",
       "  s.src = url;\n",
       "  s.async = true;\n",
       "  s.onreadystatechange = s.onload = callback;\n",
       "  s.onerror = function(){console.warn(\"failed to load library \" + url);};\n",
       "  document.getElementsByTagName(\"head\")[0].appendChild(s);\n",
       "}\n",
       "\n",
       "if(typeof(LDAvis) !== \"undefined\"){\n",
       "   // already loaded: just create the visualization\n",
       "   !function(LDAvis){\n",
       "       new LDAvis(\"#\" + \"ldavis_el2234417343841207683815388259\", ldavis_el2234417343841207683815388259_data);\n",
       "   }(LDAvis);\n",
       "}else if(typeof define === \"function\" && define.amd){\n",
       "   // require.js is available: use it to load d3/LDAvis\n",
       "   require.config({paths: {d3: \"https://cdnjs.cloudflare.com/ajax/libs/d3/3.5.5/d3.min\"}});\n",
       "   require([\"d3\"], function(d3){\n",
       "      window.d3 = d3;\n",
       "      LDAvis_load_lib(\"https://cdn.rawgit.com/bmabey/pyLDAvis/files/ldavis.v1.0.0.js\", function(){\n",
       "        new LDAvis(\"#\" + \"ldavis_el2234417343841207683815388259\", ldavis_el2234417343841207683815388259_data);\n",
       "      });\n",
       "    });\n",
       "}else{\n",
       "    // require.js not available: dynamically load d3 & LDAvis\n",
       "    LDAvis_load_lib(\"https://cdnjs.cloudflare.com/ajax/libs/d3/3.5.5/d3.min.js\", function(){\n",
       "         LDAvis_load_lib(\"https://cdn.rawgit.com/bmabey/pyLDAvis/files/ldavis.v1.0.0.js\", function(){\n",
       "                 new LDAvis(\"#\" + \"ldavis_el2234417343841207683815388259\", ldavis_el2234417343841207683815388259_data);\n",
       "            })\n",
       "         });\n",
       "}\n",
       "</script>"
      ],
      "text/plain": [
       "PreparedData(topic_coordinates=              x         y  topics  cluster       Freq\n",
       "topic                                                \n",
       "4      0.268671 -0.179715       1        1  17.260506\n",
       "2     -0.230041  0.136908       2        1  17.061958\n",
       "3      0.212624  0.287669       3        1  16.859312\n",
       "0     -0.074903 -0.230585       4        1  16.479059\n",
       "1     -0.075138 -0.003953       5        1  16.388569\n",
       "5     -0.101214 -0.010324       6        1  15.950592, topic_info=        Term        Freq       Total Category  logprob  loglift\n",
       "6    C78_C79  110.000000  110.000000  Default  30.0000  30.0000\n",
       "24   C78_C78   99.000000   99.000000  Default  29.0000  29.0000\n",
       "105  N17_N18   63.000000   63.000000  Default  28.0000  28.0000\n",
       "3    I48_J44   50.000000   50.000000  Default  27.0000  27.0000\n",
       "59   C79_C79   44.000000   44.000000  Default  26.0000  26.0000\n",
       "..       ...         ...         ...      ...      ...      ...\n",
       "258  F10_J44    7.137535    7.606094   Topic6  -4.3526   1.7721\n",
       "231  J44_K74    6.838503    7.306593   Topic6  -4.3954   1.7695\n",
       "144  K72_N28    6.618019    7.088412   Topic6  -4.4281   1.7670\n",
       "114  I80_J44    6.554966    7.021332   Topic6  -4.4377   1.7669\n",
       "60   F03_F91    6.241200    6.707996   Topic6  -4.4868   1.7635\n",
       "\n",
       "[215 rows x 6 columns], token_table=      Topic      Freq     Term\n",
       "term                          \n",
       "270       3  0.965858  A49_D65\n",
       "237       6  0.945516  A49_E11\n",
       "15        3  0.976677  A49_E14\n",
       "117       1  0.951728  A49_F03\n",
       "128       2  0.997989  A49_G93\n",
       "...     ...       ...      ...\n",
       "105       4  0.980445  N17_N18\n",
       "76        1  0.928618  N17_N39\n",
       "62        2  0.952610  N18_N28\n",
       "74        5  0.954031  N18_N39\n",
       "38        1  0.987963  N28_N39\n",
       "\n",
       "[190 rows x 3 columns], R=30, lambda_step=0.01, plot_opts={'xlab': 'PC1', 'ylab': 'PC2'}, topic_order=[5, 3, 4, 1, 2, 6])"
      ]
     },
     "execution_count": 27,
     "metadata": {},
     "output_type": "execute_result"
    }
   ],
   "source": [
    "from pyLDAvis import sklearn as sklearn_lda\n",
    "import pyLDAvis\n",
    "pyLDAvis.enable_notebook()\n",
    "ldamodel_all_bi_vis = pyLDAvis.gensim.prepare(ldamodel_bi, corpus_bi, dictionary_bi)\n",
    "ldamodel_all_bi_vis"
   ]
  },
  {
   "cell_type": "markdown",
   "metadata": {},
   "source": [
    "The coherence score is much higher for bigrams compared with unigrams. The key ICD-10 code pairs in each topic appear to cluster together well. Topics 1 and 3 both have high proportions of cancer-related bigrams.  Topic 2 is comprised of atrial fibrillation and COPD while topic 4 has high proportions of acute kidney failure and chronic kidney disease. Finally, topics 5 and 6 have a great deal of overlap which indicates similar key words.  In fact, both topics are dominated by combinations of dementia and atrial fibrillation code combinations."
   ]
  },
  {
   "cell_type": "markdown",
   "metadata": {},
   "source": [
    "**LDA WITH LONG BIGRAMS EXLUDING GARBAGE TERMS**"
   ]
  },
  {
   "cell_type": "markdown",
   "metadata": {},
   "source": [
    "The final model is one with full ICD-10 codes as bi-grams."
   ]
  },
  {
   "cell_type": "code",
   "execution_count": 28,
   "metadata": {},
   "outputs": [
    {
     "name": "stdout",
     "output_type": "stream",
     "text": [
      "Topic: 0 \n",
      "Words: 0.079*\"J189_N179\" + 0.072*\"I48_J189\" + 0.048*\"G309_I48\" + 0.038*\"C795_C798\" + 0.037*\"C780_C793\" + 0.032*\"K720_N179\" + 0.029*\"I48_J440\" + 0.027*\"J81_N179\" + 0.026*\"C793_C795\" + 0.026*\"E669_G473\"\n",
      "Topic: 1 \n",
      "Words: 0.068*\"F03_I48\" + 0.048*\"F019_I48\" + 0.045*\"C787_C788\" + 0.044*\"E149_J449\" + 0.042*\"C780_C798\" + 0.036*\"E149_F03\" + 0.035*\"J449_N179\" + 0.033*\"G931_I458\" + 0.026*\"I48_I739\" + 0.026*\"E149_I48\"\n",
      "Topic: 2 \n",
      "Words: 0.074*\"E149_E785\" + 0.072*\"I48_I64\" + 0.048*\"N179_N390\" + 0.047*\"C780_C795\" + 0.038*\"E785_F03\" + 0.036*\"G473_I48\" + 0.033*\"E785_G473\" + 0.032*\"I48_N179\" + 0.029*\"I251_J449\" + 0.027*\"C786_C787\"\n",
      "Topic: 3 \n",
      "Words: 0.112*\"N179_N189\" + 0.058*\"I251_I48\" + 0.052*\"J189_J80\" + 0.049*\"F03_J189\" + 0.040*\"J189_J90\" + 0.031*\"I48_J690\" + 0.027*\"E119_I48\" + 0.026*\"E785_J449\" + 0.026*\"E119_G309\" + 0.026*\"E039_E785\"\n",
      "Topic: 4 \n",
      "Words: 0.108*\"C780_C787\" + 0.071*\"C787_C795\" + 0.038*\"N189_N288\" + 0.034*\"J189_N288\" + 0.030*\"E119_F03\" + 0.029*\"I350_I48\" + 0.028*\"E669_E785\" + 0.026*\"J449_J90\" + 0.026*\"E119_F019\" + 0.025*\"J440_J441\"\n",
      "Topic: 5 \n",
      "Words: 0.104*\"I48_J449\" + 0.048*\"E785_F019\" + 0.048*\"E119_E785\" + 0.046*\"E149_E669\" + 0.041*\"J449_N189\" + 0.039*\"I739_J449\" + 0.039*\"F03_J449\" + 0.037*\"E785_I48\" + 0.036*\"K922_N179\" + 0.029*\"E668_G473\"\n"
     ]
    }
   ],
   "source": [
    "ldamodel_bi_long = gensim.models.LdaMulticore(corpus_bi_long,\n",
    "                                              id2word=dictionary_bi_long,\n",
    "                                              num_topics=6,\n",
    "                                              passes=30,\n",
    "                                              alpha = 0.5,\n",
    "                                              eta = 0.1,\n",
    "                                              workers=4,\n",
    "                                              random_state = 101\n",
    "                                             )\n",
    "\n",
    "for idx, topic in ldamodel_bi_long.print_topics(-1):\n",
    "    print('Topic: {} \\nWords: {}'.format(idx,topic))"
   ]
  },
  {
   "cell_type": "code",
   "execution_count": 29,
   "metadata": {},
   "outputs": [
    {
     "name": "stdout",
     "output_type": "stream",
     "text": [
      "Coherence score for LDA model: ICD-10 long bigrams without garbage codes, 5 topics, 30 passes:  0.7852639457667084\n"
     ]
    }
   ],
   "source": [
    "coherence_ldamodel_bi_long = CoherenceModel(model = ldamodel_bi_long, \n",
    "                                      texts = ds.bigrams_long, \n",
    "                                      dictionary = dictionary_bi_long, \n",
    "                                      coherence = 'c_v')\n",
    "\n",
    "coherence_ldamodel_bi_long = coherence_ldamodel_bi_long.get_coherence()\n",
    "\n",
    "print(\"Coherence score for LDA model: ICD-10 long bigrams without garbage codes, 5 topics, 30 passes: \", coherence_ldamodel_bi_long)"
   ]
  },
  {
   "cell_type": "code",
   "execution_count": 30,
   "metadata": {},
   "outputs": [
    {
     "data": {
      "text/html": [
       "\n",
       "<link rel=\"stylesheet\" type=\"text/css\" href=\"https://cdn.rawgit.com/bmabey/pyLDAvis/files/ldavis.v1.0.0.css\">\n",
       "\n",
       "\n",
       "<div id=\"ldavis_el2234417343840756007053091090\"></div>\n",
       "<script type=\"text/javascript\">\n",
       "\n",
       "var ldavis_el2234417343840756007053091090_data = {\"mdsDat\": {\"x\": [-0.2537037033408375, 0.3048260639903441, -0.0027068274572552486, -0.15141000896620221, 0.07233315907155792, 0.03066131670239309], \"y\": [0.23245857094959343, -0.002322176287967304, 0.016323402674318782, -0.3522752185558697, 0.07547568080972133, 0.03033974041020352], \"topics\": [1, 2, 3, 4, 5, 6], \"cluster\": [1, 1, 1, 1, 1, 1], \"Freq\": [17.080076217651367, 16.944353103637695, 16.677383422851562, 16.67082977294922, 16.554058074951172, 16.073305130004883]}, \"tinfo\": {\"Term\": [\"C780_C787\", \"N179_N189\", \"I48_J449\", \"J189_N179\", \"E149_E785\", \"I48_J189\", \"I48_I64\", \"C787_C795\", \"F03_I48\", \"I251_I48\", \"J189_J80\", \"F03_J189\", \"F019_I48\", \"E785_F019\", \"E119_E785\", \"G309_I48\", \"N179_N390\", \"C780_C795\", \"E149_E669\", \"C787_C788\", \"E149_J449\", \"C780_C798\", \"J449_N189\", \"J189_J90\", \"I739_J449\", \"F03_J449\", \"E785_F03\", \"C795_C798\", \"E785_I48\", \"N189_N288\", \"J189_J80\", \"F03_J189\", \"I251_I48\", \"J189_J90\", \"I48_J690\", \"N179_N189\", \"E785_J449\", \"E119_G309\", \"E039_E785\", \"E119_I48\", \"C787_C793\", \"I219_I251\", \"I48_I639\", \"K729_K746\", \"I48_K922\", \"J449_N288\", \"E149_E668\", \"I272_I48\", \"G934_J189\", \"I64_J189\", \"I48_N288\", \"I251_N179\", \"G20_I48\", \"E142_J449\", \"F019_J189\", \"G931_I48\", \"E46_F019\", \"I312_I710\", \"K559_N179\", \"F03_I64\", \"I120_J449\", \"F03_I48\", \"F019_I48\", \"E149_J449\", \"C780_C798\", \"E149_F03\", \"C787_C788\", \"G931_I458\", \"J449_N179\", \"I48_I739\", \"E149_I48\", \"K729_N19\", \"F03_I251\", \"F03_G20\", \"E149_F019\", \"I119_I250\", \"M628_N179\", \"I48_N189\", \"I458_I48\", \"E46_F03\", \"I48_I694\", \"E142_I251\", \"J189_N185\", \"E142_I48\", \"N179_N184\", \"F03_G309\", \"F019_J690\", \"I120_I48\", \"I48_I802\", \"C61_C679\", \"K746_N179\", \"N288_N390\", \"J189_N179\", \"I48_J189\", \"G309_I48\", \"C795_C798\", \"C780_C793\", \"K720_N179\", \"I48_J440\", \"J81_N179\", \"E669_G473\", \"C793_C795\", \"F019_G309\", \"G473_J449\", \"G934_I48\", \"J189_N19\", \"I48_N19\", \"D649_F03\", \"I429_I48\", \"J449_N185\", \"J690_N390\", \"C780_C786\", \"E119_E669\", \"I472_I48\", \"C780_C791\", \"F03_F919\", \"N189_N390\", \"E039_I48\", \"G931_N288\", \"E785_F102\", \"E149_G473\", \"M628_N288\", \"I48_J449\", \"E119_E785\", \"E785_F019\", \"E149_E669\", \"J449_N189\", \"I739_J449\", \"F03_J449\", \"E785_I48\", \"K922_N179\", \"E668_G473\", \"J189_N390\", \"F03_N390\", \"J189_N189\", \"I64_J690\", \"E119_I251\", \"J690_N179\", \"I251_I255\", \"E119_E668\", \"I219_I64\", \"I219_N179\", \"E668_G931\", \"I64_N179\", \"G819_I694\", \"I251_J189\", \"C349_J449\", \"D649_E149\", \"J449_K922\", \"F191_G931\", \"I458_N179\", \"I739_N179\", \"C780_C787\", \"C787_C795\", \"N189_N288\", \"J189_N288\", \"E119_F03\", \"I350_I48\", \"E669_E785\", \"E119_F019\", \"J449_J90\", \"J440_J441\", \"J80_N179\", \"F03_G934\", \"E119_J449\", \"I48_I959\", \"G934_N179\", \"G309_J189\", \"I251_I739\", \"J189_J690\", \"C786_C788\", \"I251_I350\", \"F03_J690\", \"G934_J690\", \"J90_N288\", \"E43_J189\", \"C786_C798\", \"I214_N179\", \"K566_N179\", \"J81_N288\", \"I739_N185\", \"C787_C798\", \"I48_I64\", \"E149_E785\", \"C780_C795\", \"N179_N390\", \"E785_F03\", \"G473_I48\", \"I48_N179\", \"E785_G473\", \"I251_J449\", \"C786_C787\", \"J449_J690\", \"N009_N189\", \"I48_I634\", \"F03_N179\", \"K729_N179\", \"F03_I694\", \"I64_J449\", \"E039_F03\", \"C785_C786\", \"J189_K746\", \"C791_C798\", \"G931_J189\", \"J690_N288\", \"E119_N179\", \"E149_I251\", \"F03_I120\", \"I714_J449\", \"I214_I48\", \"F03_N189\", \"C780_C782\"], \"Freq\": [46.0, 50.0, 45.0, 33.0, 31.0, 31.0, 30.0, 30.0, 30.0, 25.0, 23.0, 21.0, 21.0, 20.0, 20.0, 20.0, 20.0, 19.0, 19.0, 20.0, 19.0, 18.0, 18.0, 18.0, 17.0, 17.0, 16.0, 16.0, 16.0, 16.0, 22.68100357055664, 21.48497772216797, 25.19353675842285, 17.639707565307617, 13.475098609924316, 48.78538513183594, 11.41606616973877, 11.187955856323242, 11.144107818603516, 11.799031257629395, 10.551900863647461, 8.856952667236328, 8.525092124938965, 8.434112548828125, 8.346720695495605, 7.966992378234863, 7.993178844451904, 7.743378162384033, 7.605597496032715, 7.519862651824951, 7.150883197784424, 6.4623332023620605, 5.99796724319458, 5.77062463760376, 5.536309242248535, 5.527592658996582, 5.446002006530762, 5.444916725158691, 5.303649425506592, 5.321493625640869, 5.312922477722168, 29.45265769958496, 20.942840576171875, 18.866294860839844, 18.19234275817871, 15.569796562194824, 19.59035301208496, 14.109920501708984, 15.141515731811523, 11.346760749816895, 11.25685977935791, 10.917136192321777, 9.82406997680664, 9.53409481048584, 8.51832103729248, 7.853083610534668, 7.706722259521484, 7.819791793823242, 7.65248966217041, 7.435168266296387, 7.043577194213867, 7.023490905761719, 6.414282321929932, 6.301392078399658, 6.212812900543213, 6.620842933654785, 5.866292953491211, 5.637831687927246, 5.46382474899292, 5.453238487243652, 5.333102226257324, 6.359175205230713, 33.4758415222168, 30.751855850219727, 20.30386734008789, 16.154953002929688, 15.644639015197754, 13.822891235351562, 12.171745300292969, 11.47002124786377, 10.99801254272461, 11.030872344970703, 9.086954116821289, 8.814544677734375, 8.807273864746094, 8.7737455368042, 8.292113304138184, 7.834400653839111, 8.055800437927246, 7.090870380401611, 6.925415992736816, 6.724246501922607, 6.377363681793213, 6.235253810882568, 6.254006385803223, 6.1131062507629395, 5.74166202545166, 5.757493495941162, 5.51588773727417, 5.371443271636963, 5.276021957397461, 5.1975932121276855, 44.51386260986328, 20.287338256835938, 20.320898056030273, 19.49995994567871, 17.606395721435547, 16.750324249267578, 16.628860473632812, 15.91407299041748, 15.347197532653809, 12.53187370300293, 12.096302032470703, 11.301200866699219, 11.413874626159668, 10.04757308959961, 9.780922889709473, 8.602581977844238, 7.616409778594971, 7.610012054443359, 7.567695617675781, 7.130148887634277, 6.708893775939941, 6.537320613861084, 6.390531539916992, 6.274919509887695, 5.698652744293213, 5.64234733581543, 5.561017990112305, 5.476018905639648, 5.270815372467041, 5.204128742218018, 45.71657180786133, 30.050081253051758, 15.947821617126465, 14.252354621887207, 12.80488109588623, 12.228421211242676, 11.832901000976562, 10.949646949768066, 11.126997947692871, 10.509252548217773, 10.483880043029785, 10.055797576904297, 9.327300071716309, 9.444284439086914, 8.089746475219727, 7.228088855743408, 7.07852840423584, 6.954768180847168, 6.720702648162842, 6.678051948547363, 6.503783702850342, 6.486485958099365, 5.9796671867370605, 5.881526947021484, 5.774299144744873, 5.773693561553955, 5.6744513511657715, 5.516599178314209, 5.514676570892334, 5.594054698944092, 29.611087799072266, 30.591434478759766, 19.156057357788086, 19.525127410888672, 15.820269584655762, 14.6170072555542, 13.131307601928711, 13.50143814086914, 11.831047058105469, 11.244470596313477, 10.95004940032959, 9.280219078063965, 9.082661628723145, 8.503704071044922, 8.005300521850586, 7.7688307762146, 7.701911926269531, 7.408633708953857, 7.028794765472412, 7.000015735626221, 6.988063812255859, 6.406563758850098, 6.322383403778076, 5.809210300445557, 5.7339067459106445, 5.725698947906494, 5.5265727043151855, 5.4784836769104, 5.238778114318848, 5.237316131591797], \"Total\": [46.0, 50.0, 45.0, 33.0, 31.0, 31.0, 30.0, 30.0, 30.0, 25.0, 23.0, 21.0, 21.0, 20.0, 20.0, 20.0, 20.0, 19.0, 19.0, 20.0, 19.0, 18.0, 18.0, 18.0, 17.0, 17.0, 16.0, 16.0, 16.0, 16.0, 23.190502166748047, 21.989328384399414, 25.794275283813477, 18.154571533203125, 13.964150428771973, 50.78449630737305, 11.89708137512207, 11.670361518859863, 11.626763343811035, 12.313105583190918, 11.033485412597656, 9.34536361694336, 9.004029273986816, 8.917770385742188, 8.84466552734375, 8.450279235839844, 8.480986595153809, 8.227757453918457, 8.084856986999512, 8.0013427734375, 7.628064155578613, 6.941720485687256, 6.492358684539795, 6.247958660125732, 6.012903690338135, 6.00533390045166, 5.923518180847168, 5.923618793487549, 5.780625820159912, 5.80264949798584, 5.887429714202881, 30.054973602294922, 21.457530975341797, 19.352067947387695, 18.705846786499023, 16.061738967895508, 20.215913772583008, 14.589872360229492, 15.693122863769531, 11.833796501159668, 11.74077033996582, 11.405633926391602, 10.304441452026367, 10.019116401672363, 8.998873710632324, 8.335511207580566, 8.184279441833496, 8.30445671081543, 8.142518997192383, 7.914743423461914, 7.522525787353516, 7.509970188140869, 6.892815589904785, 6.778905868530273, 6.6958417892456055, 7.138993740081787, 6.3440423011779785, 6.123721599578857, 5.942862033843994, 5.93209171295166, 5.8227386474609375, 7.648509979248047, 33.995216369628906, 31.28498649597168, 20.83154296875, 16.645769119262695, 16.125396728515625, 14.338543891906738, 12.653266906738281, 11.952359199523926, 11.480202674865723, 11.536304473876953, 9.561271667480469, 9.287094116210938, 9.282631874084473, 9.249449729919434, 8.765530586242676, 8.312275886535645, 8.573410034179688, 7.56508731842041, 7.410530090332031, 7.201375484466553, 6.858860015869141, 6.708751201629639, 6.734751224517822, 6.5901007652282715, 6.216134071350098, 6.234957218170166, 5.987148284912109, 5.843906402587891, 5.747608184814453, 5.673315048217773, 45.35210037231445, 20.779415130615234, 20.816545486450195, 19.999801635742188, 18.08912467956543, 17.23188018798828, 17.131303787231445, 16.405914306640625, 15.833011627197266, 13.03946590423584, 12.602778434753418, 11.778770446777344, 11.911520004272461, 10.52625560760498, 10.257670402526855, 9.076208114624023, 8.089672088623047, 8.084214210510254, 8.04052448272705, 7.6076483726501465, 7.185491561889648, 7.012445449829102, 6.865696430206299, 6.757045745849609, 6.171392917633057, 6.119851112365723, 6.035361289978027, 5.9500579833984375, 5.745082855224609, 5.677695274353027, 46.37958526611328, 30.55961036682129, 16.50037384033203, 14.75880241394043, 13.28341007232666, 12.704789161682129, 12.307692527770996, 11.42855453491211, 11.61850643157959, 10.984125137329102, 10.96174430847168, 10.534648895263672, 9.800163269042969, 9.962491035461426, 8.562433242797852, 7.701807498931885, 7.550813674926758, 7.432759761810303, 7.194957733154297, 7.150509834289551, 6.9759907722473145, 6.962684154510498, 6.450755596160889, 6.352742671966553, 6.247671127319336, 6.247819423675537, 6.148261070251465, 5.989407062530518, 5.9894022941589355, 6.081814289093018, 30.102313995361328, 31.20928955078125, 19.6278018951416, 20.011760711669922, 16.30506134033203, 15.097293853759766, 13.600833892822266, 14.003056526184082, 12.300376892089844, 11.716986656188965, 11.42614459991455, 9.746953964233398, 9.548649787902832, 8.969432830810547, 8.468279838562012, 8.23681354522705, 8.175163269042969, 7.875817775726318, 7.492442607879639, 7.4674530029296875, 7.455242156982422, 6.870387077331543, 6.787447452545166, 6.274580478668213, 6.1976189613342285, 6.189634799957275, 5.991477966308594, 5.942342281341553, 5.701648712158203, 5.700757026672363], \"Category\": [\"Default\", \"Default\", \"Default\", \"Default\", \"Default\", \"Default\", \"Default\", \"Default\", \"Default\", \"Default\", \"Default\", \"Default\", \"Default\", \"Default\", \"Default\", \"Default\", \"Default\", \"Default\", \"Default\", \"Default\", \"Default\", \"Default\", \"Default\", \"Default\", \"Default\", \"Default\", \"Default\", \"Default\", \"Default\", \"Default\", \"Topic1\", \"Topic1\", \"Topic1\", \"Topic1\", \"Topic1\", \"Topic1\", \"Topic1\", \"Topic1\", \"Topic1\", \"Topic1\", \"Topic1\", \"Topic1\", \"Topic1\", \"Topic1\", \"Topic1\", \"Topic1\", \"Topic1\", \"Topic1\", \"Topic1\", \"Topic1\", \"Topic1\", \"Topic1\", \"Topic1\", \"Topic1\", \"Topic1\", \"Topic1\", \"Topic1\", \"Topic1\", \"Topic1\", \"Topic1\", \"Topic1\", \"Topic2\", \"Topic2\", \"Topic2\", \"Topic2\", \"Topic2\", \"Topic2\", \"Topic2\", \"Topic2\", \"Topic2\", \"Topic2\", \"Topic2\", \"Topic2\", \"Topic2\", \"Topic2\", \"Topic2\", \"Topic2\", \"Topic2\", \"Topic2\", \"Topic2\", \"Topic2\", \"Topic2\", \"Topic2\", \"Topic2\", \"Topic2\", \"Topic2\", \"Topic2\", \"Topic2\", \"Topic2\", \"Topic2\", \"Topic2\", \"Topic2\", \"Topic3\", \"Topic3\", \"Topic3\", \"Topic3\", \"Topic3\", \"Topic3\", \"Topic3\", \"Topic3\", \"Topic3\", \"Topic3\", \"Topic3\", \"Topic3\", \"Topic3\", \"Topic3\", \"Topic3\", \"Topic3\", \"Topic3\", \"Topic3\", \"Topic3\", \"Topic3\", \"Topic3\", \"Topic3\", \"Topic3\", \"Topic3\", \"Topic3\", \"Topic3\", \"Topic3\", \"Topic3\", \"Topic3\", \"Topic3\", \"Topic4\", \"Topic4\", \"Topic4\", \"Topic4\", \"Topic4\", \"Topic4\", \"Topic4\", \"Topic4\", \"Topic4\", \"Topic4\", \"Topic4\", \"Topic4\", \"Topic4\", \"Topic4\", \"Topic4\", \"Topic4\", \"Topic4\", \"Topic4\", \"Topic4\", \"Topic4\", \"Topic4\", \"Topic4\", \"Topic4\", \"Topic4\", \"Topic4\", \"Topic4\", \"Topic4\", \"Topic4\", \"Topic4\", \"Topic4\", \"Topic5\", \"Topic5\", \"Topic5\", \"Topic5\", \"Topic5\", \"Topic5\", \"Topic5\", \"Topic5\", \"Topic5\", \"Topic5\", \"Topic5\", \"Topic5\", \"Topic5\", \"Topic5\", \"Topic5\", \"Topic5\", \"Topic5\", \"Topic5\", \"Topic5\", \"Topic5\", \"Topic5\", \"Topic5\", \"Topic5\", \"Topic5\", \"Topic5\", \"Topic5\", \"Topic5\", \"Topic5\", \"Topic5\", \"Topic5\", \"Topic6\", \"Topic6\", \"Topic6\", \"Topic6\", \"Topic6\", \"Topic6\", \"Topic6\", \"Topic6\", \"Topic6\", \"Topic6\", \"Topic6\", \"Topic6\", \"Topic6\", \"Topic6\", \"Topic6\", \"Topic6\", \"Topic6\", \"Topic6\", \"Topic6\", \"Topic6\", \"Topic6\", \"Topic6\", \"Topic6\", \"Topic6\", \"Topic6\", \"Topic6\", \"Topic6\", \"Topic6\", \"Topic6\", \"Topic6\"], \"logprob\": [30.0, 29.0, 28.0, 27.0, 26.0, 25.0, 24.0, 23.0, 22.0, 21.0, 20.0, 19.0, 18.0, 17.0, 16.0, 15.0, 14.0, 13.0, 12.0, 11.0, 10.0, 9.0, 8.0, 7.0, 6.0, 5.0, 4.0, 3.0, 2.0, 1.0, -2.95770001411438, -3.011899948120117, -2.8526999950408936, -3.2091000080108643, -3.4783999919891357, -2.191800117492676, -3.644200086593628, -3.664400100708008, -3.668299913406372, -3.6112000942230225, -3.722899913787842, -3.8980000019073486, -3.936199903488159, -3.947000026702881, -3.95740008354187, -4.003900051116943, -4.0005998611450195, -4.032400131225586, -4.0503997802734375, -4.061699867248535, -4.111999988555908, -4.213200092315674, -4.287799835205078, -4.326499938964844, -4.3678998947143555, -4.369500160217285, -4.384399890899658, -4.3846001625061035, -4.410799980163574, -4.40749979019165, -4.40910005569458, -2.688499927520752, -3.0295000076293945, -3.1338999271392822, -3.170300006866455, -3.325900077819824, -3.0961999893188477, -3.4244000911712646, -3.353800058364868, -3.6422998905181885, -3.6503000259399414, -3.6809000968933105, -3.786400079727173, -3.8164000511169434, -3.928999900817871, -4.01039981842041, -4.029200077056885, -4.014599800109863, -4.036200046539307, -4.065000057220459, -4.119100093841553, -4.122000217437744, -4.212699890136719, -4.230500221252441, -4.24459981918335, -4.181000232696533, -4.302000045776367, -4.341800212860107, -4.3730998039245605, -4.375100135803223, -4.397299766540527, -4.221399784088135, -2.544600009918213, -2.6294000148773193, -3.044600009918213, -3.273200035095215, -3.305299997329712, -3.4291000366210938, -3.556299924850464, -3.615600109100342, -3.6577000617980957, -3.6547000408172607, -3.8485000133514404, -3.878999948501587, -3.8798000812530518, -3.8835999965667725, -3.9400999546051025, -3.9969000816345215, -3.9690001010894775, -4.09660005569458, -4.120200157165527, -4.149700164794922, -4.202600002288818, -4.225200176239014, -4.2221999168396, -4.244900226593018, -4.307600021362305, -4.304900169372559, -4.347700119018555, -4.374300003051758, -4.392199993133545, -4.407199859619141, -2.259200096130371, -3.0450000762939453, -3.043299913406372, -3.0845999717712402, -3.1867001056671143, -3.236599922180176, -3.243799924850464, -3.2878000736236572, -3.3241000175476074, -3.526700019836426, -3.5620999336242676, -3.6301000118255615, -3.6201999187469482, -3.7476999759674072, -3.774600028991699, -3.902899980545044, -4.024700164794922, -4.0254998207092285, -4.031099796295166, -4.090700149536133, -4.151599884033203, -4.177499771118164, -4.200200080871582, -4.218400001525879, -4.314799785614014, -4.324699878692627, -4.339200019836426, -4.354599952697754, -4.3927998542785645, -4.4054999351501465, -2.2255001068115234, -2.6451001167297363, -3.278599977493286, -3.3910000324249268, -3.4981000423431396, -3.5441999435424805, -3.5771000385284424, -3.654599905014038, -3.6386001110076904, -3.69569993019104, -3.6981000900268555, -3.739799976348877, -3.815000057220459, -3.802500009536743, -3.95740008354187, -4.070000171661377, -4.09089994430542, -4.108500003814697, -4.1427998542785645, -4.149099826812744, -4.175600051879883, -4.178199768066406, -4.2596001625061035, -4.276100158691406, -4.29449987411499, -4.294600009918213, -4.311999797821045, -4.340199947357178, -4.3404998779296875, -4.326300144195557, -2.6303000450134277, -2.5978000164031982, -3.0659000873565674, -3.046799898147583, -3.257200002670288, -3.3362998962402344, -3.44350004196167, -3.4156999588012695, -3.547800064086914, -3.598599910736084, -3.6250998973846436, -3.790600061416626, -3.8120999336242676, -3.878000020980835, -3.9384000301361084, -3.968400001525879, -3.9769999980926514, -4.0157999992370605, -4.06850004196167, -4.0725998878479, -4.0742998123168945, -4.161200046539307, -4.1743998527526855, -4.258999824523926, -4.27209997177124, -4.273499965667725, -4.308899879455566, -4.317699909210205, -4.362400054931641, -4.36269998550415], \"loglift\": [30.0, 29.0, 28.0, 27.0, 26.0, 25.0, 24.0, 23.0, 22.0, 21.0, 20.0, 19.0, 18.0, 17.0, 16.0, 15.0, 14.0, 13.0, 12.0, 11.0, 10.0, 9.0, 8.0, 7.0, 6.0, 5.0, 4.0, 3.0, 2.0, 1.0, 1.7450000047683716, 1.7440999746322632, 1.7437000274658203, 1.7384999990463257, 1.731600046157837, 1.7271000146865845, 1.7259999513626099, 1.725000023841858, 1.7249000072479248, 1.7245999574661255, 1.722599983215332, 1.7136000394821167, 1.7125999927520752, 1.7115000486373901, 1.7093000411987305, 1.708400011062622, 1.7079999446868896, 1.7065999507904053, 1.7060999870300293, 1.705199956893921, 1.7027000188827515, 1.6957000494003296, 1.688099980354309, 1.6878000497817993, 1.6847000122070312, 1.684399962425232, 1.6832000017166138, 1.6829999685287476, 1.6811000108718872, 1.6806999444961548, 1.6646000146865845, 1.7549999952316284, 1.7510000467300415, 1.7497999668121338, 1.7474000453948975, 1.7440999746322632, 1.7438000440597534, 1.7417999505996704, 1.7395000457763672, 1.733199954032898, 1.7331000566482544, 1.7315000295639038, 1.7274999618530273, 1.725600004196167, 1.7203999757766724, 1.7156000137329102, 1.7151000499725342, 1.7151000499725342, 1.7131999731063843, 1.7127000093460083, 1.7094000577926636, 1.708299994468689, 1.7032999992370605, 1.7022000551223755, 1.7003999948501587, 1.6999000310897827, 1.6969000101089478, 1.6926000118255615, 1.6912000179290771, 1.691100001335144, 1.687399983406067, 1.5906000137329102, 1.7756999731063843, 1.773900032043457, 1.7654999494552612, 1.761199951171875, 1.7608000040054321, 1.7545000314712524, 1.7523000240325928, 1.749899983406067, 1.7482000589370728, 1.7462999820709229, 1.7402000427246094, 1.7388999462127686, 1.7384999990463257, 1.7382999658584595, 1.7355999946594238, 1.7318999767303467, 1.7288000583648682, 1.7264000177383423, 1.7233999967575073, 1.722599983215332, 1.7182999849319458, 1.717900037765503, 1.7171000242233276, 1.715999960899353, 1.7116999626159668, 1.711400032043457, 1.7091000080108643, 1.7067999839782715, 1.7055000066757202, 1.7035000324249268, 1.7728999853134155, 1.7675000429153442, 1.7674000263214111, 1.7661999464035034, 1.7645000219345093, 1.763200044631958, 1.7617000341415405, 1.7611000537872314, 1.7603000402450562, 1.7517999410629272, 1.750499963760376, 1.750100016593933, 1.7488000392913818, 1.7450000047683716, 1.743899941444397, 1.7379000186920166, 1.7311999797821045, 1.7310999631881714, 1.7309000492095947, 1.726699948310852, 1.7229000329971313, 1.7214000225067139, 1.7197999954223633, 1.7174999713897705, 1.7117999792099, 1.7102999687194824, 1.7096999883651733, 1.7085000276565552, 1.705399990081787, 1.7043999433517456, 1.78410005569458, 1.7817000150680542, 1.7645000219345093, 1.7635999917984009, 1.7618000507354736, 1.7603000402450562, 1.7591999769210815, 1.7556999921798706, 1.7553000450134277, 1.7542999982833862, 1.753999948501587, 1.7519999742507935, 1.7490999698638916, 1.7451000213623047, 1.7417999505996704, 1.7351000308990479, 1.7338999509811401, 1.732100009918213, 1.7303999662399292, 1.7302000522613525, 1.7283999919891357, 1.7276999950408936, 1.7226999998092651, 1.721500039100647, 1.7196999788284302, 1.719599962234497, 1.7182999849319458, 1.7163000106811523, 1.715999960899353, 1.714900016784668, 1.8115999698638916, 1.8079999685287476, 1.8036999702453613, 1.8034000396728516, 1.7977999448776245, 1.795699954032898, 1.7928999662399292, 1.7914999723434448, 1.7891000509262085, 1.7868000268936157, 1.7855000495910645, 1.7789000272750854, 1.777999997138977, 1.7747000455856323, 1.7718000411987305, 1.7695000171661377, 1.768399953842163, 1.7668999433517456, 1.7640999555587769, 1.7633999586105347, 1.7632999420166016, 1.7581000328063965, 1.7569999694824219, 1.7509000301361084, 1.7502000331878662, 1.750100016593933, 1.7472000122070312, 1.7467000484466553, 1.743299961090088, 1.7431999444961548]}, \"token.table\": {\"Topic\": [4, 2, 6, 3, 5, 3, 3, 6, 2, 6, 6, 5, 5, 2, 1, 5, 5, 6, 3, 3, 4, 3, 1, 6, 3, 4, 3, 4, 5, 5, 1, 4, 1, 5, 6, 2, 2, 1, 1, 4, 6, 2, 2, 3, 6, 2, 2, 5, 1, 2, 4, 4, 5, 3, 4, 6, 3, 6, 4, 1, 3, 2, 1, 2, 3, 2, 2, 5, 6, 2, 2, 1, 6, 1, 4, 5, 6, 6, 4, 4, 1, 3, 5, 6, 3, 4, 2, 1, 6, 3, 3, 1, 5, 5, 2, 2, 1, 6, 5, 1, 4, 4, 4, 5, 1, 5, 4, 6, 1, 1, 1, 5, 3, 2, 4, 3, 6, 1, 6, 2, 2, 2, 5, 3, 3, 4, 1, 1, 6, 2, 3, 1, 1, 6, 4, 4, 6, 4, 4, 5, 5, 1, 1, 6, 3, 2, 4, 3, 5, 4, 5, 6, 5, 4, 2, 3, 4, 1, 4, 6, 3, 5, 3, 5, 5, 1, 5, 3, 1, 6, 2, 2, 4, 2, 3, 6, 2, 1, 3, 4, 6, 5, 3, 2, 3], \"Freq\": [0.9722278118133545, 0.8428730368614197, 0.8770765066146851, 0.9720365405082703, 0.9918156862258911, 0.890901505947113, 0.9922236204147339, 0.968014657497406, 0.9622659683227539, 0.9342747330665588, 0.9388079047203064, 0.9729035496711731, 0.9603578448295593, 0.9893196225166321, 0.9969651103019714, 0.9816879034042358, 0.9865477085113525, 0.9389366507530212, 0.9535115957260132, 0.9612051844596863, 0.9804159998893738, 0.9624319672584534, 0.9460930228233337, 0.8887965679168701, 0.9623161554336548, 0.989582896232605, 0.8747809529304504, 0.962490975856781, 0.9625014066696167, 0.9786643385887146, 0.9425586462020874, 0.9748802185058594, 0.9745713472366333, 0.9183520674705505, 0.9562392234802246, 0.9320942163467407, 0.8850985765457153, 0.9603136777877808, 0.9432864785194397, 0.9500094056129456, 0.9932940006256104, 1.0001251697540283, 0.9961561560630798, 0.8699271082878113, 0.9681137204170227, 0.9369061589241028, 0.9818072319030762, 0.9444739818572998, 0.8440929651260376, 0.8844254016876221, 0.9969733357429504, 0.9741852879524231, 0.9749999642372131, 0.9581712484359741, 0.9607741832733154, 0.9812904000282288, 0.8555920720100403, 0.9997817277908325, 0.9752580523490906, 0.9245964884757996, 0.9412974119186401, 0.9786773920059204, 0.9978539943695068, 0.9457692503929138, 0.9104564785957336, 0.998091995716095, 0.980530321598053, 0.9492485523223877, 0.9693624973297119, 0.9704552888870239, 0.9648985266685486, 0.8616753220558167, 0.9712494015693665, 0.9550086855888367, 0.9923354387283325, 1.0034416913986206, 1.0034079551696777, 0.8769393563270569, 0.933883547782898, 0.8403279185295105, 0.9241633415222168, 0.9600825309753418, 0.9088775515556335, 0.9935555458068848, 0.969086766242981, 0.8739098906517029, 0.9595697522163391, 0.9991118311882019, 0.8733132481575012, 1.002146601676941, 0.9695526361465454, 0.9895042181015015, 0.8617366552352905, 0.9343138337135315, 0.959749162197113, 0.9797963500022888, 0.8492670655250549, 0.8414190411567688, 0.9603350758552551, 0.9630444049835205, 0.9949599504470825, 0.9201266765594482, 0.9889152646064758, 0.9789511561393738, 0.9692072868347168, 0.92705237865448, 0.8879620432853699, 0.9755798578262329, 0.8643390536308289, 0.9723184108734131, 0.8440786004066467, 0.9445257186889648, 0.9331176280975342, 0.9824969172477722, 0.8703094720840454, 0.8943542242050171, 0.9425416588783264, 0.9995524883270264, 0.9966011047363281, 0.930538535118103, 0.9295411109924316, 0.841345489025116, 0.903388500213623, 0.990890622138977, 0.9483717083930969, 0.992236316204071, 0.9309552907943726, 0.9045000076293945, 0.9558237195014954, 0.9633381366729736, 0.9126657843589783, 0.9176639914512634, 0.9998321533203125, 0.978573739528656, 0.9500054121017456, 0.998225212097168, 1.00142240524292, 0.9865435361862183, 0.8806390166282654, 1.0017694234848022, 0.941776692867279, 0.9917853474617004, 0.9914858341217041, 0.937401294708252, 0.9707248210906982, 0.8704715967178345, 0.9234757423400879, 0.9730308651924133, 0.9485864639282227, 0.9521709680557251, 1.0014452934265137, 0.9627044200897217, 0.9467654228210449, 0.9941409826278687, 0.9558327198028564, 0.9253032803535461, 0.9950730204582214, 0.9467142820358276, 0.9916035532951355, 0.8839847445487976, 0.9446017742156982, 0.9122635722160339, 0.9203203916549683, 1.0017685890197754, 0.9301235675811768, 0.8649582266807556, 0.9758856892585754, 0.9763892292976379, 0.8970851898193359, 0.9447019100189209, 0.9644356369972229, 0.8587024807929993, 0.9473876953125, 0.9774837493896484, 0.8813189268112183, 0.9233654141426086, 0.8960785269737244, 0.9648613929748535, 0.019691048189997673, 0.019691048189997673, 0.9994122982025146, 0.9696750044822693, 0.9652301669120789, 0.7844665050506592, 0.13074441254138947], \"Term\": [\"C349_J449\", \"C61_C679\", \"C780_C782\", \"C780_C786\", \"C780_C787\", \"C780_C791\", \"C780_C793\", \"C780_C795\", \"C780_C798\", \"C785_C786\", \"C786_C787\", \"C786_C788\", \"C786_C798\", \"C787_C788\", \"C787_C793\", \"C787_C795\", \"C787_C798\", \"C791_C798\", \"C793_C795\", \"C795_C798\", \"D649_E149\", \"D649_F03\", \"E039_E785\", \"E039_F03\", \"E039_I48\", \"E119_E668\", \"E119_E669\", \"E119_E785\", \"E119_F019\", \"E119_F03\", \"E119_G309\", \"E119_I251\", \"E119_I48\", \"E119_J449\", \"E119_N179\", \"E142_I251\", \"E142_I48\", \"E142_J449\", \"E149_E668\", \"E149_E669\", \"E149_E785\", \"E149_F019\", \"E149_F03\", \"E149_G473\", \"E149_I251\", \"E149_I48\", \"E149_J449\", \"E43_J189\", \"E46_F019\", \"E46_F03\", \"E668_G473\", \"E668_G931\", \"E669_E785\", \"E669_G473\", \"E785_F019\", \"E785_F03\", \"E785_F102\", \"E785_G473\", \"E785_I48\", \"E785_J449\", \"F019_G309\", \"F019_I48\", \"F019_J189\", \"F019_J690\", \"F03_F919\", \"F03_G20\", \"F03_G309\", \"F03_G934\", \"F03_I120\", \"F03_I251\", \"F03_I48\", \"F03_I64\", \"F03_I694\", \"F03_J189\", \"F03_J449\", \"F03_J690\", \"F03_N179\", \"F03_N189\", \"F03_N390\", \"F191_G931\", \"G20_I48\", \"G309_I48\", \"G309_J189\", \"G473_I48\", \"G473_J449\", \"G819_I694\", \"G931_I458\", \"G931_I48\", \"G931_J189\", \"G931_N288\", \"G934_I48\", \"G934_J189\", \"G934_J690\", \"G934_N179\", \"I119_I250\", \"I120_I48\", \"I120_J449\", \"I214_I48\", \"I214_N179\", \"I219_I251\", \"I219_I64\", \"I219_N179\", \"I251_I255\", \"I251_I350\", \"I251_I48\", \"I251_I739\", \"I251_J189\", \"I251_J449\", \"I251_N179\", \"I272_I48\", \"I312_I710\", \"I350_I48\", \"I429_I48\", \"I458_I48\", \"I458_N179\", \"I472_I48\", \"I48_I634\", \"I48_I639\", \"I48_I64\", \"I48_I694\", \"I48_I739\", \"I48_I802\", \"I48_I959\", \"I48_J189\", \"I48_J440\", \"I48_J449\", \"I48_J690\", \"I48_K922\", \"I48_N179\", \"I48_N189\", \"I48_N19\", \"I48_N288\", \"I64_J189\", \"I64_J449\", \"I64_J690\", \"I64_N179\", \"I714_J449\", \"I739_J449\", \"I739_N179\", \"I739_N185\", \"J189_J690\", \"J189_J80\", \"J189_J90\", \"J189_K746\", \"J189_N179\", \"J189_N185\", \"J189_N189\", \"J189_N19\", \"J189_N288\", \"J189_N390\", \"J440_J441\", \"J449_J690\", \"J449_J90\", \"J449_K922\", \"J449_N179\", \"J449_N185\", \"J449_N189\", \"J449_N288\", \"J690_N179\", \"J690_N288\", \"J690_N390\", \"J80_N179\", \"J81_N179\", \"J81_N288\", \"J90_N288\", \"K559_N179\", \"K566_N179\", \"K720_N179\", \"K729_K746\", \"K729_N179\", \"K729_N19\", \"K746_N179\", \"K922_N179\", \"M628_N179\", \"M628_N288\", \"N009_N189\", \"N179_N184\", \"N179_N189\", \"N179_N189\", \"N179_N189\", \"N179_N390\", \"N189_N288\", \"N189_N390\", \"N288_N390\", \"N288_N390\"]}, \"R\": 30, \"lambda.step\": 0.01, \"plot.opts\": {\"xlab\": \"PC1\", \"ylab\": \"PC2\"}, \"topic.order\": [4, 2, 1, 6, 5, 3]};\n",
       "\n",
       "function LDAvis_load_lib(url, callback){\n",
       "  var s = document.createElement('script');\n",
       "  s.src = url;\n",
       "  s.async = true;\n",
       "  s.onreadystatechange = s.onload = callback;\n",
       "  s.onerror = function(){console.warn(\"failed to load library \" + url);};\n",
       "  document.getElementsByTagName(\"head\")[0].appendChild(s);\n",
       "}\n",
       "\n",
       "if(typeof(LDAvis) !== \"undefined\"){\n",
       "   // already loaded: just create the visualization\n",
       "   !function(LDAvis){\n",
       "       new LDAvis(\"#\" + \"ldavis_el2234417343840756007053091090\", ldavis_el2234417343840756007053091090_data);\n",
       "   }(LDAvis);\n",
       "}else if(typeof define === \"function\" && define.amd){\n",
       "   // require.js is available: use it to load d3/LDAvis\n",
       "   require.config({paths: {d3: \"https://cdnjs.cloudflare.com/ajax/libs/d3/3.5.5/d3.min\"}});\n",
       "   require([\"d3\"], function(d3){\n",
       "      window.d3 = d3;\n",
       "      LDAvis_load_lib(\"https://cdn.rawgit.com/bmabey/pyLDAvis/files/ldavis.v1.0.0.js\", function(){\n",
       "        new LDAvis(\"#\" + \"ldavis_el2234417343840756007053091090\", ldavis_el2234417343840756007053091090_data);\n",
       "      });\n",
       "    });\n",
       "}else{\n",
       "    // require.js not available: dynamically load d3 & LDAvis\n",
       "    LDAvis_load_lib(\"https://cdnjs.cloudflare.com/ajax/libs/d3/3.5.5/d3.min.js\", function(){\n",
       "         LDAvis_load_lib(\"https://cdn.rawgit.com/bmabey/pyLDAvis/files/ldavis.v1.0.0.js\", function(){\n",
       "                 new LDAvis(\"#\" + \"ldavis_el2234417343840756007053091090\", ldavis_el2234417343840756007053091090_data);\n",
       "            })\n",
       "         });\n",
       "}\n",
       "</script>"
      ],
      "text/plain": [
       "PreparedData(topic_coordinates=              x         y  topics  cluster       Freq\n",
       "topic                                                \n",
       "3     -0.253704  0.232459       1        1  17.080076\n",
       "1      0.304826 -0.002322       2        1  16.944353\n",
       "0     -0.002707  0.016323       3        1  16.677383\n",
       "5     -0.151410 -0.352275       4        1  16.670830\n",
       "4      0.072333  0.075476       5        1  16.554058\n",
       "2      0.030661  0.030340       6        1  16.073305, topic_info=          Term       Freq      Total Category  logprob  loglift\n",
       "19   C780_C787  46.000000  46.000000  Default  30.0000  30.0000\n",
       "82   N179_N189  50.000000  50.000000  Default  29.0000  29.0000\n",
       "2     I48_J449  45.000000  45.000000  Default  28.0000  28.0000\n",
       "11   J189_N179  33.000000  33.000000  Default  27.0000  27.0000\n",
       "24   E149_E785  31.000000  31.000000  Default  26.0000  26.0000\n",
       "..         ...        ...        ...      ...      ...      ...\n",
       "112   F03_I120   5.725699   6.189635   Topic6  -4.2735   1.7501\n",
       "133  I714_J449   5.526573   5.991478   Topic6  -4.3089   1.7472\n",
       "279   I214_I48   5.478484   5.942342   Topic6  -4.3177   1.7467\n",
       "50    F03_N189   5.238778   5.701649   Topic6  -4.3624   1.7433\n",
       "59   C780_C782   5.237316   5.700757   Topic6  -4.3627   1.7432\n",
       "\n",
       "[212 rows x 6 columns], token_table=      Topic      Freq       Term\n",
       "term                            \n",
       "283       4  0.972228  C349_J449\n",
       "237       2  0.842873   C61_C679\n",
       "59        6  0.877077  C780_C782\n",
       "241       3  0.972037  C780_C786\n",
       "19        5  0.991816  C780_C787\n",
       "...     ...       ...        ...\n",
       "57        6  0.999412  N179_N390\n",
       "47        5  0.969675  N189_N288\n",
       "56        3  0.965230  N189_N390\n",
       "30        2  0.784467  N288_N390\n",
       "30        3  0.130744  N288_N390\n",
       "\n",
       "[185 rows x 3 columns], R=30, lambda_step=0.01, plot_opts={'xlab': 'PC1', 'ylab': 'PC2'}, topic_order=[4, 2, 1, 6, 5, 3])"
      ]
     },
     "execution_count": 30,
     "metadata": {},
     "output_type": "execute_result"
    }
   ],
   "source": [
    "from pyLDAvis import sklearn as sklearn_lda\n",
    "import pyLDAvis\n",
    "pyLDAvis.enable_notebook()\n",
    "ldamodel_bi_long_vis = pyLDAvis.gensim.prepare(ldamodel_bi_long, corpus_bi_long, dictionary_bi_long)\n",
    "ldamodel_bi_long_vis"
   ]
  },
  {
   "cell_type": "markdown",
   "metadata": {},
   "source": [
    "The coherence scores for both "
   ]
  },
  {
   "cell_type": "markdown",
   "metadata": {},
   "source": [
    "**FINDING IDEAL NUMBER OF TOPICS - SHORT ICD-10 BIGRAMS**"
   ]
  },
  {
   "cell_type": "markdown",
   "metadata": {},
   "source": [
    "I started by aribitrarily setting the number of topics to 6.  In the following function, I attempt to identify the optimal number of topics using the last LDA model by repeating the model with varying numbers of topics."
   ]
  },
  {
   "cell_type": "code",
   "execution_count": 31,
   "metadata": {},
   "outputs": [],
   "source": [
    "#define function to compute a series of coherence scores based on using different numbers of topics\n",
    "\n",
    "def compute_coherence(dictionary,texts, corpus, limit, start=2, step=3):\n",
    "    \n",
    "    '''\n",
    "    parameters:\n",
    "    dictionary: Gensim dictionary\n",
    "    corpus: Gensim corpus\n",
    "    limit: Max number of topcs\n",
    "    texts: list of texts\n",
    "    output:\n",
    "    model_list: list of LDA topic models\n",
    "    coherence_values: coherence values corresponding to each LDA model with number of topics\n",
    "    '''\n",
    "    \n",
    "    model_list = []\n",
    "    coherence_values = []\n",
    "    \n",
    "    for num_topics in range(start, limit, step):\n",
    "        model = gensim.models.LdaMulticore(corpus = corpus,\n",
    "                                           id2word = dictionary,\n",
    "                                           num_topics = num_topics,\n",
    "                                           passes = 30,\n",
    "                                           workers = 4)\n",
    "        model_list.append(model)\n",
    "        \n",
    "        coherencemodel = CoherenceModel(model=model, texts = texts, dictionary=dictionary, coherence='c_v')\n",
    "        coherence_values.append(coherencemodel.get_coherence())\n",
    "        \n",
    "    return model_list, coherence_values\n",
    "    "
   ]
  },
  {
   "cell_type": "code",
   "execution_count": 32,
   "metadata": {},
   "outputs": [
    {
     "data": {
      "text/plain": [
       "\"import logging\\nlogger = logging.getLogger('LDA_logger')\\nlogger.propogate = False\\n#logging.basicConfig(format='%(asctime)s : %(levelname)s : %(message)s', level=logging.INFO)\""
      ]
     },
     "execution_count": 32,
     "metadata": {},
     "output_type": "execute_result"
    }
   ],
   "source": [
    "'''import logging\n",
    "logger = logging.getLogger('LDA_logger')\n",
    "logger.propogate = False\n",
    "#logging.basicConfig(format='%(asctime)s : %(levelname)s : %(message)s', level=logging.INFO)'''"
   ]
  },
  {
   "cell_type": "code",
   "execution_count": 33,
   "metadata": {},
   "outputs": [],
   "source": [
    "model_list, coherence_values = compute_coherence(dictionary = dictionary_bi, \n",
    "                                                       corpus = corpus_bi,\n",
    "                                                        texts = ds.bigrams,\n",
    "                                                        start=2, \n",
    "                                                        limit=40,\n",
    "                                                        step=6\n",
    "                                                       )"
   ]
  },
  {
   "cell_type": "code",
   "execution_count": 34,
   "metadata": {},
   "outputs": [
    {
     "data": {
      "image/png": "[encoded data removed]",
      "text/plain": [
       "<Figure size 432x288 with 1 Axes>"
      ]
     },
     "metadata": {},
     "output_type": "display_data"
    }
   ],
   "source": [
    "limit=40; start=2; step=6\n",
    "x=range(start, limit, step)\n",
    "plt.plot(x, coherence_values)\n",
    "plt.xlabel(\"Number of topics\")\n",
    "plt.ylabel(\"Coherence Score\")\n",
    "plt.legend((\"coherence_values\"), loc='best')\n",
    "plt.show()"
   ]
  },
  {
   "cell_type": "code",
   "execution_count": 35,
   "metadata": {},
   "outputs": [
    {
     "name": "stdout",
     "output_type": "stream",
     "text": [
      "Number of topics:  2 has coherence value of 0.7597\n",
      "Number of topics:  8 has coherence value of 0.7709\n",
      "Number of topics:  14 has coherence value of 0.7817\n",
      "Number of topics:  20 has coherence value of 0.7559\n",
      "Number of topics:  26 has coherence value of 0.7245\n",
      "Number of topics:  32 has coherence value of 0.7006\n",
      "Number of topics:  38 has coherence value of 0.6563\n"
     ]
    }
   ],
   "source": [
    "for m, cv in zip(x, coherence_values):\n",
    "    print(\"Number of topics: \", m, \"has coherence value of\", round(cv,4))"
   ]
  },
  {
   "cell_type": "markdown",
   "metadata": {},
   "source": [
    "The graph above shows the change in coherence score by the number of topics specified in the model.  Coherence rises from about 0.75 for 2 topics to about 0.78 for 8 topics.  After this point the coherence score drops as the number of topics increases.  My original selection of 6 topics appears to provide near-optimal results but, I'll select the LDA model created with 8 topics and long (full ICD-10 code) bi-grams moving forward. "
   ]
  },
  {
   "cell_type": "code",
   "execution_count": 36,
   "metadata": {},
   "outputs": [
    {
     "name": "stdout",
     "output_type": "stream",
     "text": [
      "[(0,\n",
      "  '0.068*\"I48_J18\" + 0.053*\"J18_J80\" + 0.042*\"E14_I48\" + 0.039*\"E66_E78\" + '\n",
      "  '0.039*\"J18_J90\" + 0.031*\"I48_N18\" + 0.030*\"I35_I48\" + 0.027*\"J18_N39\" + '\n",
      "  '0.027*\"K72_N19\" + 0.026*\"E11_J44\"'),\n",
      " (1,\n",
      "  '0.079*\"E14_E66\" + 0.050*\"K72_N17\" + 0.048*\"E14_F03\" + 0.045*\"N18_N28\" + '\n",
      "  '0.034*\"E11_F01\" + 0.029*\"A49_J18\" + 0.027*\"N00_N18\" + 0.026*\"I71_J44\" + '\n",
      "  '0.026*\"F03_I25\" + 0.026*\"K74_K76\"'),\n",
      " (2,\n",
      "  '0.186*\"C78_C78\" + 0.095*\"N17_N18\" + 0.054*\"J44_N18\" + 0.053*\"E11_E78\" + '\n",
      "  '0.049*\"E14_J44\" + 0.047*\"C78_C79\" + 0.030*\"J18_N28\" + 0.029*\"K92_N17\" + '\n",
      "  '0.018*\"I27_I48\" + 0.018*\"E14_F01\"'),\n",
      " (3,\n",
      "  '0.097*\"I48_J44\" + 0.039*\"E14_I25\" + 0.037*\"E11_F03\" + 0.036*\"E11_I48\" + '\n",
      "  '0.035*\"G93_I45\" + 0.034*\"G93_J18\" + 0.032*\"G93_I48\" + 0.028*\"I21_N17\" + '\n",
      "  '0.028*\"A49_G93\" + 0.026*\"J44_J69\"'),\n",
      " (4,\n",
      "  '0.057*\"E66_G47\" + 0.054*\"G30_I48\" + 0.049*\"E11_E66\" + 0.040*\"I21_I25\" + '\n",
      "  '0.037*\"E78_J44\" + 0.030*\"E78_F03\" + 0.030*\"I48_N17\" + 0.030*\"E03_E78\" + '\n",
      "  '0.027*\"I25_J44\" + 0.027*\"E78_I71\"'),\n",
      " (5,\n",
      "  '0.213*\"C78_C79\" + 0.057*\"I48_I64\" + 0.043*\"J18_N18\" + 0.036*\"C77_C78\" + '\n",
      "  '0.035*\"E11_G30\" + 0.032*\"I48_J69\" + 0.026*\"J81_N17\" + 0.024*\"A49_N17\" + '\n",
      "  '0.023*\"F19_G93\" + 0.021*\"E66_I48\"'),\n",
      " (6,\n",
      "  '0.055*\"F01_I48\" + 0.045*\"I25_I48\" + 0.039*\"I48_I63\" + 0.037*\"I73_J44\" + '\n",
      "  '0.037*\"E78_I48\" + 0.036*\"F03_J44\" + 0.031*\"E11_I25\" + 0.025*\"J44_N28\" + '\n",
      "  '0.024*\"I48_I73\" + 0.023*\"J44_J90\"'),\n",
      " (7,\n",
      "  '0.082*\"C79_C79\" + 0.082*\"E14_E78\" + 0.069*\"J18_N17\" + 0.053*\"F03_I48\" + '\n",
      "  '0.049*\"E78_F01\" + 0.047*\"F03_J18\" + 0.030*\"E78_G47\" + 0.027*\"J44_N17\" + '\n",
      "  '0.024*\"I48_I71\" + 0.022*\"N17_N18\"')]\n"
     ]
    }
   ],
   "source": [
    "best_model = model_list[1]\n",
    "best_topics = best_model.show_topics(formatted=False)\n",
    "pprint(best_model.print_topics(num_words=10))"
   ]
  },
  {
   "cell_type": "code",
   "execution_count": null,
   "metadata": {},
   "outputs": [],
   "source": []
  },
  {
   "cell_type": "markdown",
   "metadata": {},
   "source": [
    "**Assigning dominant topic to each record based on ICD-10 codes**  Each death record that contains multiple ICD-10 codes in the underlying and multiple cause fields consists of multiple topics, some more dominant than others.  In the following step, I select the most salient topic for each record and label it with that topic."
   ]
  },
  {
   "cell_type": "code",
   "execution_count": 37,
   "metadata": {},
   "outputs": [],
   "source": [
    "## create function to attach dominant topic to each record\n",
    "\n",
    "def label_records(ldamodel=ldamodel_bi_long, corpus=corpus_bi_long, texts=ds.bigrams_long):\n",
    "    \n",
    "    #Initial ouput\n",
    "    sent_topics_df = pd.DataFrame()\n",
    "    \n",
    "    #get main topic for each record\n",
    "    for i, row in enumerate(ldamodel[corpus]):\n",
    "        row = sorted(row, key=lambda x: (x[1]), reverse=True)\n",
    "        \n",
    "        # get the dominant topic, percent contribution, and keywords for each document\n",
    "        for j, (topic_num, prop_topic) in enumerate(row):\n",
    "            if j == 0: #=> dominant topic\n",
    "                wp = ldamodel_bi_long.show_topic(topic_num)\n",
    "                topic_keywords = ', '.join([word for word, prop in wp])\n",
    "                sent_topics_df = sent_topics_df.append(pd.Series([int(topic_num), round(prop_topic, 4), topic_keywords]), ignore_index=True)\n",
    "            else:\n",
    "                break\n",
    "        sent_topics_df.columns = ['Dominant Topic', 'Percent_contribution', 'Topic_Keywords']\n",
    "        \n",
    "        #add original list of ICD-10 codes to end of output\n",
    "        contents = pd.Series(texts)\n",
    "        \n",
    "        sent_topics_df = pd.concat([sent_topics_df, contents], axis=1)\n",
    "        return(sent_topics_df)\n",
    "    \n",
    "\n",
    "    "
   ]
  },
  {
   "cell_type": "code",
   "execution_count": 38,
   "metadata": {},
   "outputs": [
    {
     "data": {
      "text/html": [
       "<div>\n",
       "<style scoped>\n",
       "    .dataframe tbody tr th:only-of-type {\n",
       "        vertical-align: middle;\n",
       "    }\n",
       "\n",
       "    .dataframe tbody tr th {\n",
       "        vertical-align: top;\n",
       "    }\n",
       "\n",
       "    .dataframe thead th {\n",
       "        text-align: right;\n",
       "    }\n",
       "</style>\n",
       "<table border=\"1\" class=\"dataframe\">\n",
       "  <thead>\n",
       "    <tr style=\"text-align: right;\">\n",
       "      <th></th>\n",
       "      <th>Document_No</th>\n",
       "      <th>Dominant_topic</th>\n",
       "      <th>Topic_percent_contribution</th>\n",
       "      <th>Keywords</th>\n",
       "      <th>Text</th>\n",
       "    </tr>\n",
       "  </thead>\n",
       "  <tbody>\n",
       "    <tr>\n",
       "      <th>0</th>\n",
       "      <td>0</td>\n",
       "      <td>0.0</td>\n",
       "      <td>0.125</td>\n",
       "      <td>J189_N179, I48_J189, G309_I48, C795_C798, C780...</td>\n",
       "      <td>NaN</td>\n",
       "    </tr>\n",
       "    <tr>\n",
       "      <th>1</th>\n",
       "      <td>3</td>\n",
       "      <td>NaN</td>\n",
       "      <td>NaN</td>\n",
       "      <td>NaN</td>\n",
       "      <td>[]</td>\n",
       "    </tr>\n",
       "    <tr>\n",
       "      <th>2</th>\n",
       "      <td>4</td>\n",
       "      <td>NaN</td>\n",
       "      <td>NaN</td>\n",
       "      <td>NaN</td>\n",
       "      <td>[F54_G729, G729_W80]</td>\n",
       "    </tr>\n",
       "    <tr>\n",
       "      <th>3</th>\n",
       "      <td>38</td>\n",
       "      <td>NaN</td>\n",
       "      <td>NaN</td>\n",
       "      <td>NaN</td>\n",
       "      <td>[D469_I802, I802_J189, J189_Y831]</td>\n",
       "    </tr>\n",
       "    <tr>\n",
       "      <th>4</th>\n",
       "      <td>45</td>\n",
       "      <td>NaN</td>\n",
       "      <td>NaN</td>\n",
       "      <td>NaN</td>\n",
       "      <td>[B182_C786, C786_N179]</td>\n",
       "    </tr>\n",
       "    <tr>\n",
       "      <th>5</th>\n",
       "      <td>69</td>\n",
       "      <td>NaN</td>\n",
       "      <td>NaN</td>\n",
       "      <td>NaN</td>\n",
       "      <td>[A310_I120, I120_I48, I48_J449, J449_K922, K92...</td>\n",
       "    </tr>\n",
       "    <tr>\n",
       "      <th>6</th>\n",
       "      <td>70</td>\n",
       "      <td>NaN</td>\n",
       "      <td>NaN</td>\n",
       "      <td>NaN</td>\n",
       "      <td>[F03_J189]</td>\n",
       "    </tr>\n",
       "    <tr>\n",
       "      <th>7</th>\n",
       "      <td>90</td>\n",
       "      <td>NaN</td>\n",
       "      <td>NaN</td>\n",
       "      <td>NaN</td>\n",
       "      <td>[]</td>\n",
       "    </tr>\n",
       "    <tr>\n",
       "      <th>8</th>\n",
       "      <td>119</td>\n",
       "      <td>NaN</td>\n",
       "      <td>NaN</td>\n",
       "      <td>NaN</td>\n",
       "      <td>[I080_I471]</td>\n",
       "    </tr>\n",
       "    <tr>\n",
       "      <th>9</th>\n",
       "      <td>160</td>\n",
       "      <td>NaN</td>\n",
       "      <td>NaN</td>\n",
       "      <td>NaN</td>\n",
       "      <td>[C787_C795, C795_M844, M844_N288]</td>\n",
       "    </tr>\n",
       "  </tbody>\n",
       "</table>\n",
       "</div>"
      ],
      "text/plain": [
       "   Document_No  Dominant_topic  Topic_percent_contribution  \\\n",
       "0            0             0.0                       0.125   \n",
       "1            3             NaN                         NaN   \n",
       "2            4             NaN                         NaN   \n",
       "3           38             NaN                         NaN   \n",
       "4           45             NaN                         NaN   \n",
       "5           69             NaN                         NaN   \n",
       "6           70             NaN                         NaN   \n",
       "7           90             NaN                         NaN   \n",
       "8          119             NaN                         NaN   \n",
       "9          160             NaN                         NaN   \n",
       "\n",
       "                                            Keywords  \\\n",
       "0  J189_N179, I48_J189, G309_I48, C795_C798, C780...   \n",
       "1                                                NaN   \n",
       "2                                                NaN   \n",
       "3                                                NaN   \n",
       "4                                                NaN   \n",
       "5                                                NaN   \n",
       "6                                                NaN   \n",
       "7                                                NaN   \n",
       "8                                                NaN   \n",
       "9                                                NaN   \n",
       "\n",
       "                                                Text  \n",
       "0                                                NaN  \n",
       "1                                                 []  \n",
       "2                               [F54_G729, G729_W80]  \n",
       "3                  [D469_I802, I802_J189, J189_Y831]  \n",
       "4                             [B182_C786, C786_N179]  \n",
       "5  [A310_I120, I120_I48, I48_J449, J449_K922, K92...  \n",
       "6                                         [F03_J189]  \n",
       "7                                                 []  \n",
       "8                                        [I080_I471]  \n",
       "9                  [C787_C795, C795_M844, M844_N288]  "
      ]
     },
     "execution_count": 38,
     "metadata": {},
     "output_type": "execute_result"
    }
   ],
   "source": [
    "df_topic_sents_keywords = label_records(ldamodel = best_model, corpus=corpus_bi_long, texts=ds['bigrams_long'])    \n",
    "\n",
    "#format\n",
    "df_dominant_topic = df_topic_sents_keywords.reset_index()\n",
    "df_dominant_topic.columns = ['Document_No', 'Dominant_topic', 'Topic_percent_contribution', 'Keywords', 'Text']\n",
    "            \n",
    "#show topics\n",
    "\n",
    "df_dominant_topic.head(10)"
   ]
  },
  {
   "cell_type": "markdown",
   "metadata": {},
   "source": [
    "The labelling step appears not to work in this instance.  Latent Dirichlet Allocation used with short text documents (having only a few codes per record) may run into problems assigning topics to individual documents while it can still identify topics over the entire corpus in general.\n",
    "\n",
    "One potential solution to this problem is to use a corpus that contains both garbage coded and an equal number of randomly selected records that have valid codes. The theory here is that the patterns in multiple cause codes associated with known, valid underlying cause codes may provide additional information for the algorithm to be able to detect patterns more accurately in both valid and garbage coded records. The assumption underlying this approach is that the sequences and co-occurrence of ICD-10 codes in the multiple cause fields of records with valid codes will also show up in those with garbage codes. I'm not sure how good this assumption is as I suspect the entire cause of death for a record with garbage underlying code suffers from the same poor data quality. However, it's worth a try.\n",
    "\n",
    "I had hoped to be able to label all garbage coded records with both LDA-based topics and the classifications predicted by the supervised ML models (Linear SVM and Multinomial Naive Bayes) to examine the degree to which the models agreed.  As a future step, I will change the corpus as described in the previous paragraph and use different topic modeling algorithms that may be better suited to short texts."
   ]
  },
  {
   "cell_type": "code",
   "execution_count": null,
   "metadata": {},
   "outputs": [],
   "source": []
  },
  {
   "cell_type": "code",
   "execution_count": null,
   "metadata": {},
   "outputs": [],
   "source": []
  },
  {
   "cell_type": "code",
   "execution_count": null,
   "metadata": {},
   "outputs": [],
   "source": []
  },
  {
   "cell_type": "code",
   "execution_count": null,
   "metadata": {},
   "outputs": [],
   "source": []
  },
  {
   "cell_type": "code",
   "execution_count": null,
   "metadata": {},
   "outputs": [],
   "source": []
  },
  {
   "cell_type": "code",
   "execution_count": null,
   "metadata": {},
   "outputs": [],
   "source": []
  },
  {
   "cell_type": "code",
   "execution_count": null,
   "metadata": {},
   "outputs": [],
   "source": []
  },
  {
   "cell_type": "code",
   "execution_count": null,
   "metadata": {},
   "outputs": [],
   "source": []
  },
  {
   "cell_type": "code",
   "execution_count": null,
   "metadata": {},
   "outputs": [],
   "source": []
  },
  {
   "cell_type": "code",
   "execution_count": null,
   "metadata": {},
   "outputs": [],
   "source": []
  },
  {
   "cell_type": "code",
   "execution_count": null,
   "metadata": {},
   "outputs": [],
   "source": []
  },
  {
   "cell_type": "code",
   "execution_count": null,
   "metadata": {},
   "outputs": [],
   "source": []
  },
  {
   "cell_type": "code",
   "execution_count": null,
   "metadata": {},
   "outputs": [],
   "source": []
  },
  {
   "cell_type": "code",
   "execution_count": null,
   "metadata": {},
   "outputs": [],
   "source": []
  },
  {
   "cell_type": "code",
   "execution_count": null,
   "metadata": {},
   "outputs": [],
   "source": []
  },
  {
   "cell_type": "code",
   "execution_count": null,
   "metadata": {},
   "outputs": [],
   "source": []
  },
  {
   "cell_type": "code",
   "execution_count": null,
   "metadata": {},
   "outputs": [],
   "source": []
  },
  {
   "cell_type": "code",
   "execution_count": null,
   "metadata": {},
   "outputs": [],
   "source": []
  },
  {
   "cell_type": "code",
   "execution_count": null,
   "metadata": {},
   "outputs": [],
   "source": []
  },
  {
   "cell_type": "code",
   "execution_count": null,
   "metadata": {},
   "outputs": [],
   "source": []
  },
  {
   "cell_type": "code",
   "execution_count": null,
   "metadata": {},
   "outputs": [],
   "source": []
  },
  {
   "cell_type": "code",
   "execution_count": 39,
   "metadata": {},
   "outputs": [],
   "source": [
    "##Method 1 to get topic probs per doc\n",
    "\n",
    "all_topics = ldamodel_bi_long.get_document_topics(corpus_bi_long, minimum_probability=0.0) # get all topics from lda model\n",
    "all_topics_csr = gensim.matutils.corpus2csc(all_topics) # converts Gensim format to scipy.sparse.csc matrix\n",
    "all_topics_numpy = all_topics_csr.T.toarray()# .T attribute of object transposes it then toarray() converts to np array\n",
    "all_topics_df = pd.DataFrame(all_topics_numpy) "
   ]
  },
  {
   "cell_type": "code",
   "execution_count": 40,
   "metadata": {},
   "outputs": [
    {
     "data": {
      "text/html": [
       "<div>\n",
       "<style scoped>\n",
       "    .dataframe tbody tr th:only-of-type {\n",
       "        vertical-align: middle;\n",
       "    }\n",
       "\n",
       "    .dataframe tbody tr th {\n",
       "        vertical-align: top;\n",
       "    }\n",
       "\n",
       "    .dataframe thead th {\n",
       "        text-align: right;\n",
       "    }\n",
       "</style>\n",
       "<table border=\"1\" class=\"dataframe\">\n",
       "  <thead>\n",
       "    <tr style=\"text-align: right;\">\n",
       "      <th></th>\n",
       "      <th>0</th>\n",
       "      <th>1</th>\n",
       "      <th>2</th>\n",
       "      <th>3</th>\n",
       "      <th>4</th>\n",
       "      <th>5</th>\n",
       "    </tr>\n",
       "  </thead>\n",
       "  <tbody>\n",
       "    <tr>\n",
       "      <th>0</th>\n",
       "      <td>0.166667</td>\n",
       "      <td>0.166667</td>\n",
       "      <td>0.166667</td>\n",
       "      <td>0.166667</td>\n",
       "      <td>0.166667</td>\n",
       "      <td>0.166667</td>\n",
       "    </tr>\n",
       "    <tr>\n",
       "      <th>1</th>\n",
       "      <td>0.166667</td>\n",
       "      <td>0.166667</td>\n",
       "      <td>0.166667</td>\n",
       "      <td>0.166667</td>\n",
       "      <td>0.166667</td>\n",
       "      <td>0.166667</td>\n",
       "    </tr>\n",
       "    <tr>\n",
       "      <th>2</th>\n",
       "      <td>0.374992</td>\n",
       "      <td>0.125002</td>\n",
       "      <td>0.125002</td>\n",
       "      <td>0.125002</td>\n",
       "      <td>0.125002</td>\n",
       "      <td>0.125002</td>\n",
       "    </tr>\n",
       "    <tr>\n",
       "      <th>3</th>\n",
       "      <td>0.166667</td>\n",
       "      <td>0.166667</td>\n",
       "      <td>0.166667</td>\n",
       "      <td>0.166667</td>\n",
       "      <td>0.166667</td>\n",
       "      <td>0.166667</td>\n",
       "    </tr>\n",
       "    <tr>\n",
       "      <th>4</th>\n",
       "      <td>0.106224</td>\n",
       "      <td>0.240244</td>\n",
       "      <td>0.106207</td>\n",
       "      <td>0.106207</td>\n",
       "      <td>0.106207</td>\n",
       "      <td>0.334911</td>\n",
       "    </tr>\n",
       "  </tbody>\n",
       "</table>\n",
       "</div>"
      ],
      "text/plain": [
       "          0         1         2         3         4         5\n",
       "0  0.166667  0.166667  0.166667  0.166667  0.166667  0.166667\n",
       "1  0.166667  0.166667  0.166667  0.166667  0.166667  0.166667\n",
       "2  0.374992  0.125002  0.125002  0.125002  0.125002  0.125002\n",
       "3  0.166667  0.166667  0.166667  0.166667  0.166667  0.166667\n",
       "4  0.106224  0.240244  0.106207  0.106207  0.106207  0.334911"
      ]
     },
     "execution_count": 40,
     "metadata": {},
     "output_type": "execute_result"
    }
   ],
   "source": [
    "all_topics_df.head()"
   ]
  },
  {
   "cell_type": "code",
   "execution_count": null,
   "metadata": {},
   "outputs": [],
   "source": []
  },
  {
   "cell_type": "code",
   "execution_count": 41,
   "metadata": {},
   "outputs": [],
   "source": [
    "all_topics_df['main_topic'] = all_topics_df.idxmax(axis=1)\n"
   ]
  },
  {
   "cell_type": "code",
   "execution_count": 42,
   "metadata": {},
   "outputs": [
    {
     "name": "stdout",
     "output_type": "stream",
     "text": [
      "<class 'pandas.core.frame.DataFrame'>\n",
      "RangeIndex: 7797 entries, 0 to 7796\n",
      "Data columns (total 7 columns):\n",
      " #   Column      Non-Null Count  Dtype  \n",
      "---  ------      --------------  -----  \n",
      " 0   0           7797 non-null   float64\n",
      " 1   1           7797 non-null   float64\n",
      " 2   2           7797 non-null   float64\n",
      " 3   3           7797 non-null   float64\n",
      " 4   4           7797 non-null   float64\n",
      " 5   5           7797 non-null   float64\n",
      " 6   main_topic  7797 non-null   int64  \n",
      "dtypes: float64(6), int64(1)\n",
      "memory usage: 426.5 KB\n"
     ]
    }
   ],
   "source": [
    "all_topics_df.info()"
   ]
  },
  {
   "cell_type": "code",
   "execution_count": 43,
   "metadata": {},
   "outputs": [],
   "source": [
    "\n",
    "all_topics_df['flag'] = (all_topics_df[[0, 1, 2, 3, 4]] >= 0.21).any(axis=1)"
   ]
  },
  {
   "cell_type": "code",
   "execution_count": 44,
   "metadata": {},
   "outputs": [],
   "source": [
    "all_topics_df.loc[all_topics_df['flag']==True, 'LDA_Topic'] = all_topics_df['main_topic']\n"
   ]
  },
  {
   "cell_type": "code",
   "execution_count": 45,
   "metadata": {},
   "outputs": [
    {
     "data": {
      "text/html": [
       "<div>\n",
       "<style scoped>\n",
       "    .dataframe tbody tr th:only-of-type {\n",
       "        vertical-align: middle;\n",
       "    }\n",
       "\n",
       "    .dataframe tbody tr th {\n",
       "        vertical-align: top;\n",
       "    }\n",
       "\n",
       "    .dataframe thead th {\n",
       "        text-align: right;\n",
       "    }\n",
       "</style>\n",
       "<table border=\"1\" class=\"dataframe\">\n",
       "  <thead>\n",
       "    <tr style=\"text-align: right;\">\n",
       "      <th></th>\n",
       "      <th>0</th>\n",
       "      <th>1</th>\n",
       "      <th>2</th>\n",
       "      <th>3</th>\n",
       "      <th>4</th>\n",
       "      <th>5</th>\n",
       "      <th>main_topic</th>\n",
       "      <th>flag</th>\n",
       "      <th>LDA_Topic</th>\n",
       "    </tr>\n",
       "  </thead>\n",
       "  <tbody>\n",
       "    <tr>\n",
       "      <th>0</th>\n",
       "      <td>0.166667</td>\n",
       "      <td>0.166667</td>\n",
       "      <td>0.166667</td>\n",
       "      <td>0.166667</td>\n",
       "      <td>0.166667</td>\n",
       "      <td>0.166667</td>\n",
       "      <td>0</td>\n",
       "      <td>False</td>\n",
       "      <td>NaN</td>\n",
       "    </tr>\n",
       "    <tr>\n",
       "      <th>1</th>\n",
       "      <td>0.166667</td>\n",
       "      <td>0.166667</td>\n",
       "      <td>0.166667</td>\n",
       "      <td>0.166667</td>\n",
       "      <td>0.166667</td>\n",
       "      <td>0.166667</td>\n",
       "      <td>0</td>\n",
       "      <td>False</td>\n",
       "      <td>NaN</td>\n",
       "    </tr>\n",
       "    <tr>\n",
       "      <th>2</th>\n",
       "      <td>0.374992</td>\n",
       "      <td>0.125002</td>\n",
       "      <td>0.125002</td>\n",
       "      <td>0.125002</td>\n",
       "      <td>0.125002</td>\n",
       "      <td>0.125002</td>\n",
       "      <td>0</td>\n",
       "      <td>True</td>\n",
       "      <td>0.0</td>\n",
       "    </tr>\n",
       "    <tr>\n",
       "      <th>3</th>\n",
       "      <td>0.166667</td>\n",
       "      <td>0.166667</td>\n",
       "      <td>0.166667</td>\n",
       "      <td>0.166667</td>\n",
       "      <td>0.166667</td>\n",
       "      <td>0.166667</td>\n",
       "      <td>0</td>\n",
       "      <td>False</td>\n",
       "      <td>NaN</td>\n",
       "    </tr>\n",
       "    <tr>\n",
       "      <th>4</th>\n",
       "      <td>0.106224</td>\n",
       "      <td>0.240244</td>\n",
       "      <td>0.106207</td>\n",
       "      <td>0.106207</td>\n",
       "      <td>0.106207</td>\n",
       "      <td>0.334911</td>\n",
       "      <td>5</td>\n",
       "      <td>True</td>\n",
       "      <td>5.0</td>\n",
       "    </tr>\n",
       "  </tbody>\n",
       "</table>\n",
       "</div>"
      ],
      "text/plain": [
       "          0         1         2         3         4         5  main_topic  \\\n",
       "0  0.166667  0.166667  0.166667  0.166667  0.166667  0.166667           0   \n",
       "1  0.166667  0.166667  0.166667  0.166667  0.166667  0.166667           0   \n",
       "2  0.374992  0.125002  0.125002  0.125002  0.125002  0.125002           0   \n",
       "3  0.166667  0.166667  0.166667  0.166667  0.166667  0.166667           0   \n",
       "4  0.106224  0.240244  0.106207  0.106207  0.106207  0.334911           5   \n",
       "\n",
       "    flag  LDA_Topic  \n",
       "0  False        NaN  \n",
       "1  False        NaN  \n",
       "2   True        0.0  \n",
       "3  False        NaN  \n",
       "4   True        5.0  "
      ]
     },
     "execution_count": 45,
     "metadata": {},
     "output_type": "execute_result"
    }
   ],
   "source": [
    "all_topics_df.head()"
   ]
  },
  {
   "cell_type": "code",
   "execution_count": null,
   "metadata": {},
   "outputs": [],
   "source": []
  },
  {
   "cell_type": "markdown",
   "metadata": {},
   "source": [
    "**Additional strategies with LDA for future implementation**"
   ]
  },
  {
   "cell_type": "markdown",
   "metadata": {},
   "source": [
    "While LDA provides some interesting results, there may be ways of improving on the performance of the models created above. LDA is intended to be used with longer texts relative to the short list of ICD-10 codes for each record. Other variations of and alternatives to LDA, such as Gibbs Sampling Dirichlet Mixture Model (GSDMM) and bi-term topic modeling, are intended to be used for short text topic modeling. GSDMM starts with the assumption that each document contains only one topic which may be more applicable to this use case. Bi-term topic modeling examines pairs of words and their co-occurrence across the corpus in finding topics.\n",
    "\n",
    "Another approach I'd like to try with the current LDA model is to add a random sample of records with valid underlying cause codes to the corpus. This would increase the amoung of information available to the algorithm. With increasing examples of the distribution of codes within topics and topics across the corpus the classifier may gain accuracy."
   ]
  }
 ],
 "metadata": {
  "kernelspec": {
   "display_name": "Python 3",
   "language": "python",
   "name": "python3"
  },
  "language_info": {
   "codemirror_mode": {
    "name": "ipython",
    "version": 3
   },
   "file_extension": ".py",
   "mimetype": "text/x-python",
   "name": "python",
   "nbconvert_exporter": "python",
   "pygments_lexer": "ipython3",
   "version": "3.8.3"
  }
 },
 "nbformat": 4,
 "nbformat_minor": 4
}
