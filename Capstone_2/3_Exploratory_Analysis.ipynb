{
 "cells": [
  {
   "cell_type": "markdown",
   "metadata": {},
   "source": [
    "### 3. EXPLORATORY DATA ANALYSIS"
   ]
  },
  {
   "cell_type": "markdown",
   "metadata": {},
   "source": [
    "In this section I explore the distribution of garbage underlying cause codes by demographic characterisitics of the decedents as well as the county of death and the credentials of the medical certifiers who reported these causes of death."
   ]
  },
  {
   "cell_type": "code",
   "execution_count": 1,
   "metadata": {},
   "outputs": [],
   "source": [
    "import ast\n",
    "import collections\n",
    "from collections import Counter\n",
    "import imp\n",
    "import matplotlib.pyplot as plt\n",
    "from nltk.tokenize import word_tokenize\n",
    "from nltk.tokenize import RegexpTokenizer\n",
    "import numpy as np\n",
    "import pandas as pd\n",
    "import seaborn as sns"
   ]
  },
  {
   "cell_type": "code",
   "execution_count": 2,
   "metadata": {},
   "outputs": [],
   "source": [
    "ds =  pd.read_csv('Y:/DQSS/Death/MBG/py/capstone2/data/d1619_clean_preproctxt.csv',\n",
    "                  low_memory=False,\n",
    "                  encoding = 'unicode_escape')"
   ]
  },
  {
   "cell_type": "code",
   "execution_count": 3,
   "metadata": {},
   "outputs": [
    {
     "data": {
      "text/plain": [
       "7163"
      ]
     },
     "execution_count": 3,
     "metadata": {},
     "output_type": "execute_result"
    }
   ],
   "source": [
    "len(ds)"
   ]
  },
  {
   "cell_type": "code",
   "execution_count": 4,
   "metadata": {},
   "outputs": [],
   "source": [
    "pd.set_option('display.max_columns', 500)\n",
    "pd.set_option('display.max_rows', None)"
   ]
  },
  {
   "cell_type": "code",
   "execution_count": 5,
   "metadata": {},
   "outputs": [],
   "source": [
    "d = ds.copy()"
   ]
  },
  {
   "cell_type": "code",
   "execution_count": 6,
   "metadata": {},
   "outputs": [],
   "source": [
    "d = pd.read_csv('Y:/DQSS/Death/MBG/py/capstone2/data/d1619_clean.csv',\n",
    "                  low_memory=False,\n",
    "                  encoding = 'unicode_escape')"
   ]
  },
  {
   "cell_type": "code",
   "execution_count": 7,
   "metadata": {},
   "outputs": [],
   "source": [
    "d['Any_garbage_code'] = d['gc_cat'].apply(lambda x: 'No' if x==0 else 'Yes')"
   ]
  },
  {
   "cell_type": "code",
   "execution_count": 9,
   "metadata": {},
   "outputs": [
    {
     "data": {
      "text/html": [
       "<div>\n",
       "<style scoped>\n",
       "    .dataframe tbody tr th:only-of-type {\n",
       "        vertical-align: middle;\n",
       "    }\n",
       "\n",
       "    .dataframe tbody tr th {\n",
       "        vertical-align: top;\n",
       "    }\n",
       "\n",
       "    .dataframe thead th {\n",
       "        text-align: right;\n",
       "    }\n",
       "</style>\n",
       "<table border=\"1\" class=\"dataframe\">\n",
       "  <thead>\n",
       "    <tr style=\"text-align: right;\">\n",
       "      <th>dody</th>\n",
       "      <th>2016</th>\n",
       "      <th>2017</th>\n",
       "      <th>2018</th>\n",
       "      <th>2019</th>\n",
       "    </tr>\n",
       "    <tr>\n",
       "      <th>Any_garbage_code</th>\n",
       "      <th></th>\n",
       "      <th></th>\n",
       "      <th></th>\n",
       "      <th></th>\n",
       "    </tr>\n",
       "  </thead>\n",
       "  <tbody>\n",
       "    <tr>\n",
       "      <th>No</th>\n",
       "      <td>93.3</td>\n",
       "      <td>93.6</td>\n",
       "      <td>93.5</td>\n",
       "      <td>93.0</td>\n",
       "    </tr>\n",
       "    <tr>\n",
       "      <th>Yes</th>\n",
       "      <td>6.7</td>\n",
       "      <td>6.4</td>\n",
       "      <td>6.5</td>\n",
       "      <td>7.0</td>\n",
       "    </tr>\n",
       "  </tbody>\n",
       "</table>\n",
       "</div>"
      ],
      "text/plain": [
       "dody              2016  2017  2018  2019\n",
       "Any_garbage_code                        \n",
       "No                93.3  93.6  93.5  93.0\n",
       "Yes                6.7   6.4   6.5   7.0"
      ]
     },
     "execution_count": 9,
     "metadata": {},
     "output_type": "execute_result"
    }
   ],
   "source": [
    "pd.crosstab(d.Any_garbage_code, d.dody, normalize='columns').round(3)*100"
   ]
  },
  {
   "cell_type": "markdown",
   "metadata": {},
   "source": [
    "**There are 7,163 garbage coded records** out of a total of 226,997 death records.  These records have garbage codes (GC) as an underlying cause code but contain valid codes in multiple cause fields 2 through 20."
   ]
  },
  {
   "cell_type": "code",
   "execution_count": 10,
   "metadata": {},
   "outputs": [],
   "source": [
    "# create function to make barplots\n",
    "def make_barplot_bygrp(x, hue, df, title):\n",
    "    df=ds.loc[ds['gc_cat']!=0, :]\n",
    "    percentage = lambda x: len(x)/float(len(df)) *100\n",
    "    plt.figure(figsize=(9, 7))\n",
    "    ax=sns.barplot(x=x, y=x, hue=hue, data= df, estimator=percentage, orient='h')\n",
    "    ax.set(xlabel=\"Percent\")\n",
    "    ax.set(ylabel=\"GC category\")\n",
    "    ax.set(title = title)\n",
    "    plt.show()    "
   ]
  },
  {
   "cell_type": "markdown",
   "metadata": {},
   "source": [
    "**TYPES OF GARBAGE ICD-10 CODES** in the underlying cause of death field."
   ]
  },
  {
   "cell_type": "code",
   "execution_count": 11,
   "metadata": {},
   "outputs": [
    {
     "data": {
      "text/plain": [
       "6-Ill-defined cardiovascular    34.0\n",
       "1-Septicemia                    24.2\n",
       "2-Heart failure                 20.9\n",
       "3-Ill-defined cancer            20.3\n",
       "5-Ill-defined                    0.5\n",
       "Name: gc_cat_label, dtype: float64"
      ]
     },
     "execution_count": 11,
     "metadata": {},
     "output_type": "execute_result"
    }
   ],
   "source": [
    "ds['gc_cat_label'].value_counts(normalize=True).round(3)*100"
   ]
  },
  {
   "cell_type": "code",
   "execution_count": 12,
   "metadata": {},
   "outputs": [
    {
     "data": {
      "text/plain": [
       "6-Ill-defined cardiovascular    2439\n",
       "1-Septicemia                    1733\n",
       "2-Heart failure                 1499\n",
       "3-Ill-defined cancer            1453\n",
       "5-Ill-defined                     39\n",
       "Name: gc_cat_label, dtype: int64"
      ]
     },
     "execution_count": 12,
     "metadata": {},
     "output_type": "execute_result"
    }
   ],
   "source": [
    "ds['gc_cat_label'].value_counts()"
   ]
  },
  {
   "cell_type": "markdown",
   "metadata": {},
   "source": [
    "**5-Ill-defined conditions** - I started with 2,973 records that were labelled as 'ill-defined conditions' which is a catch-all category of garbage codes.  However, after removing all records which contained no codes in MC2 through MC20 (i.e. only one garbage code and no other cause of death information) I am left with only 39 records.  It would be interesting to look more closely at the age distribution for this group to understand whether older decedents are more affected by this problem."
   ]
  },
  {
   "cell_type": "code",
   "execution_count": 13,
   "metadata": {},
   "outputs": [
    {
     "data": {
      "text/plain": [
       "7124"
      ]
     },
     "execution_count": 13,
     "metadata": {},
     "output_type": "execute_result"
    }
   ],
   "source": [
    "ds= ds.loc[ds['gc_cat']!=5, :]\n",
    "len(ds)"
   ]
  },
  {
   "cell_type": "code",
   "execution_count": 14,
   "metadata": {},
   "outputs": [
    {
     "data": {
      "image/png": "[encoded data removed]",
      "text/plain": [
       "<Figure size 432x288 with 1 Axes>"
      ]
     },
     "metadata": {
      "needs_background": "light"
     },
     "output_type": "display_data"
    }
   ],
   "source": [
    "# frequency plot of records by garbage code category\n",
    "\n",
    "ax=sns.barplot(x='gc_cat_label', y='gc_cat_label', data= ds, estimator=lambda x: len(x)/float(len(ds)) *100, orient='h')\n",
    "ax.set(xlabel=\"Percent\")\n",
    "ax.set(ylabel=\"GC category\")\n",
    "plt.show()    "
   ]
  },
  {
   "cell_type": "markdown",
   "metadata": {},
   "source": [
    "   Heart failure, ill-defined cancer, and ill-defined cardiovascular conditions (categories 2, 3, and 6 in the table above) together account for over half the roughly 15,000 records with garbage codes for this period. Undetermined intent and ill-defined infectious conditions (categories 8 and 9) are the categories with the fewest records. I will exclude categories with smaller numbers of records as the results may not be reliable.  "
   ]
  },
  {
   "cell_type": "markdown",
   "metadata": {},
   "source": [
    "**Tobacco use contributing to death.**  Death registration in Washington State is entirely done electronically.  A drop down menu in death records requires that medical certifiers report whether tobacco use contributed to the death.  The response choices are:\n",
    "- Y - yes\n",
    "- P - probably\n",
    "- N - no\n",
    "- U - unknown"
   ]
  },
  {
   "cell_type": "markdown",
   "metadata": {},
   "source": [
    "Initial analysis of ICD-10 frequency indicated that ICD-10 code F17.9  is present in 1,893 out of the 15,073 records i.e. in approximately 13% of the death records with garbage underlying cause codes. This is the code for \"mental and behavioral disorders due to use of tobacco\" and indicates that the medical certifier believed that tobacco use definitely or probably contributed to the death.  "
   ]
  },
  {
   "cell_type": "code",
   "execution_count": 15,
   "metadata": {},
   "outputs": [],
   "source": [
    "ds['tobac'] = ds['tobac'].fillna('U')\n",
    "ds['tobac'] = ds['tobac'].replace(['Y', 'P'], \"Yes/Probably\")\n",
    "ds['tobac'] = ds['tobac'].replace(['N'], \"No\")\n",
    "ds['tobac'] = ds['tobac'].replace(['U'], \"Unknown\")"
   ]
  },
  {
   "cell_type": "code",
   "execution_count": 16,
   "metadata": {},
   "outputs": [
    {
     "data": {
      "text/plain": [
       "No              3555\n",
       "Unknown         2301\n",
       "Yes/Probably    1268\n",
       "Name: tobac, dtype: int64"
      ]
     },
     "execution_count": 16,
     "metadata": {},
     "output_type": "execute_result"
    }
   ],
   "source": [
    "ds.tobac.value_counts(dropna=False)"
   ]
  },
  {
   "cell_type": "markdown",
   "metadata": {},
   "source": [
    "**A crosstabulation of tobacco use by garbage code** shows that in almost 20% of 'ill-defined cancer' deaths and 17% of ill-defined cardiovascualr deaths tobacco use was reported as definitely or probably a contributor to death."
   ]
  },
  {
   "cell_type": "code",
   "execution_count": 17,
   "metadata": {},
   "outputs": [
    {
     "data": {
      "text/html": [
       "<div>\n",
       "<style scoped>\n",
       "    .dataframe tbody tr th:only-of-type {\n",
       "        vertical-align: middle;\n",
       "    }\n",
       "\n",
       "    .dataframe tbody tr th {\n",
       "        vertical-align: top;\n",
       "    }\n",
       "\n",
       "    .dataframe thead th {\n",
       "        text-align: right;\n",
       "    }\n",
       "</style>\n",
       "<table border=\"1\" class=\"dataframe\">\n",
       "  <thead>\n",
       "    <tr style=\"text-align: right;\">\n",
       "      <th>tobac</th>\n",
       "      <th>No</th>\n",
       "      <th>Unknown</th>\n",
       "      <th>Yes/Probably</th>\n",
       "    </tr>\n",
       "    <tr>\n",
       "      <th>gc_cat_label</th>\n",
       "      <th></th>\n",
       "      <th></th>\n",
       "      <th></th>\n",
       "    </tr>\n",
       "  </thead>\n",
       "  <tbody>\n",
       "    <tr>\n",
       "      <th>1-Septicemia</th>\n",
       "      <td>55.6</td>\n",
       "      <td>31.9</td>\n",
       "      <td>12.5</td>\n",
       "    </tr>\n",
       "    <tr>\n",
       "      <th>2-Heart failure</th>\n",
       "      <td>49.4</td>\n",
       "      <td>34.2</td>\n",
       "      <td>16.4</td>\n",
       "    </tr>\n",
       "    <tr>\n",
       "      <th>3-Ill-defined cancer</th>\n",
       "      <td>44.5</td>\n",
       "      <td>33.6</td>\n",
       "      <td>22.0</td>\n",
       "    </tr>\n",
       "    <tr>\n",
       "      <th>6-Ill-defined cardiovascular</th>\n",
       "      <td>49.4</td>\n",
       "      <td>30.7</td>\n",
       "      <td>19.9</td>\n",
       "    </tr>\n",
       "  </tbody>\n",
       "</table>\n",
       "</div>"
      ],
      "text/plain": [
       "tobac                           No  Unknown  Yes/Probably\n",
       "gc_cat_label                                             \n",
       "1-Septicemia                  55.6     31.9          12.5\n",
       "2-Heart failure               49.4     34.2          16.4\n",
       "3-Ill-defined cancer          44.5     33.6          22.0\n",
       "6-Ill-defined cardiovascular  49.4     30.7          19.9"
      ]
     },
     "execution_count": 17,
     "metadata": {},
     "output_type": "execute_result"
    }
   ],
   "source": [
    "round(pd.crosstab(ds.gc_cat_label, ds.tobac, normalize = \"index\")*100,1)"
   ]
  },
  {
   "cell_type": "code",
   "execution_count": 18,
   "metadata": {},
   "outputs": [
    {
     "data": {
      "image/png": "[encoded data removed]",
      "text/plain": [
       "<Figure size 648x504 with 1 Axes>"
      ]
     },
     "metadata": {
      "needs_background": "light"
     },
     "output_type": "display_data"
    }
   ],
   "source": [
    "make_barplot_bygrp('gc_cat_label', 'tobac', ds, \"Garbage codes by reported tobacco use\")"
   ]
  },
  {
   "cell_type": "markdown",
   "metadata": {},
   "source": [
    "**GC category by gender**"
   ]
  },
  {
   "cell_type": "code",
   "execution_count": 20,
   "metadata": {},
   "outputs": [
    {
     "data": {
      "text/html": [
       "<div>\n",
       "<style scoped>\n",
       "    .dataframe tbody tr th:only-of-type {\n",
       "        vertical-align: middle;\n",
       "    }\n",
       "\n",
       "    .dataframe tbody tr th {\n",
       "        vertical-align: top;\n",
       "    }\n",
       "\n",
       "    .dataframe thead th {\n",
       "        text-align: right;\n",
       "    }\n",
       "</style>\n",
       "<table border=\"1\" class=\"dataframe\">\n",
       "  <thead>\n",
       "    <tr style=\"text-align: right;\">\n",
       "      <th>sex</th>\n",
       "      <th>F</th>\n",
       "      <th>M</th>\n",
       "      <th>U</th>\n",
       "    </tr>\n",
       "    <tr>\n",
       "      <th>Any_garbage_code</th>\n",
       "      <th></th>\n",
       "      <th></th>\n",
       "      <th></th>\n",
       "    </tr>\n",
       "  </thead>\n",
       "  <tbody>\n",
       "    <tr>\n",
       "      <th>No</th>\n",
       "      <td>93.1</td>\n",
       "      <td>93.6</td>\n",
       "      <td>75.0</td>\n",
       "    </tr>\n",
       "    <tr>\n",
       "      <th>Yes</th>\n",
       "      <td>6.9</td>\n",
       "      <td>6.4</td>\n",
       "      <td>25.0</td>\n",
       "    </tr>\n",
       "  </tbody>\n",
       "</table>\n",
       "</div>"
      ],
      "text/plain": [
       "sex                  F     M     U\n",
       "Any_garbage_code                  \n",
       "No                93.1  93.6  75.0\n",
       "Yes                6.9   6.4  25.0"
      ]
     },
     "execution_count": 20,
     "metadata": {},
     "output_type": "execute_result"
    }
   ],
   "source": [
    "pd.crosstab(d.Any_garbage_code, d.sex, normalize='columns').round(3)*100"
   ]
  },
  {
   "cell_type": "code",
   "execution_count": 21,
   "metadata": {},
   "outputs": [
    {
     "data": {
      "text/plain": [
       "(sex                              F     M\n",
       " gc_cat_label                            \n",
       " 1-Septicemia                  48.2  51.8\n",
       " 2-Heart failure               51.5  48.5\n",
       " 3-Ill-defined cancer          50.0  50.0\n",
       " 6-Ill-defined cardiovascular  50.9  49.1,\n",
       " sex                              F     M\n",
       " gc_cat_label                            \n",
       " 1-Septicemia                   836   897\n",
       " 2-Heart failure                772   727\n",
       " 3-Ill-defined cancer           727   726\n",
       " 6-Ill-defined cardiovascular  1242  1197)"
      ]
     },
     "execution_count": 21,
     "metadata": {},
     "output_type": "execute_result"
    }
   ],
   "source": [
    "round(pd.crosstab(ds['gc_cat_label'], ds['sex'], normalize ='index')*100,1), pd.crosstab(ds['gc_cat_label'], ds['sex'])"
   ]
  },
  {
   "cell_type": "code",
   "execution_count": 22,
   "metadata": {},
   "outputs": [
    {
     "data": {
      "image/png": "[encoded data removed]",
      "text/plain": [
       "<Figure size 648x504 with 1 Axes>"
      ]
     },
     "metadata": {
      "needs_background": "light"
     },
     "output_type": "display_data"
    }
   ],
   "source": [
    "make_barplot_bygrp('gc_cat_label', 'sex', ds, \"Garbage codes by reported sex\")"
   ]
  },
  {
   "cell_type": "markdown",
   "metadata": {},
   "source": [
    "The first table indicates that both male and female decedents had the same proportions of records that had garbage underlying cause codes. \n",
    "\n",
    "Crosstabulation of each category by gender shows that women are more likely to have garbage codes related to 2-Heart failure, 4-Volume depletion, and 6-Ill-defined cardiovascular.  Men are more likely to receive an undetermined intent code."
   ]
  },
  {
   "cell_type": "markdown",
   "metadata": {},
   "source": [
    "**GC category by age group**"
   ]
  },
  {
   "cell_type": "code",
   "execution_count": 23,
   "metadata": {},
   "outputs": [
    {
     "data": {
      "text/html": [
       "<div>\n",
       "<style scoped>\n",
       "    .dataframe tbody tr th:only-of-type {\n",
       "        vertical-align: middle;\n",
       "    }\n",
       "\n",
       "    .dataframe tbody tr th {\n",
       "        vertical-align: top;\n",
       "    }\n",
       "\n",
       "    .dataframe thead th {\n",
       "        text-align: right;\n",
       "    }\n",
       "</style>\n",
       "<table border=\"1\" class=\"dataframe\">\n",
       "  <thead>\n",
       "    <tr style=\"text-align: right;\">\n",
       "      <th>agegrp</th>\n",
       "      <th>0-19 yrs</th>\n",
       "      <th>20-29 yrs</th>\n",
       "      <th>30-39 yrs</th>\n",
       "      <th>40-49 yrs</th>\n",
       "      <th>50-59 yrs</th>\n",
       "      <th>60-69 yrs</th>\n",
       "      <th>70-79 yrs</th>\n",
       "      <th>80+ yrs</th>\n",
       "    </tr>\n",
       "    <tr>\n",
       "      <th>Any_garbage_code</th>\n",
       "      <th></th>\n",
       "      <th></th>\n",
       "      <th></th>\n",
       "      <th></th>\n",
       "      <th></th>\n",
       "      <th></th>\n",
       "      <th></th>\n",
       "      <th></th>\n",
       "    </tr>\n",
       "  </thead>\n",
       "  <tbody>\n",
       "    <tr>\n",
       "      <th>No</th>\n",
       "      <td>94.7</td>\n",
       "      <td>94.1</td>\n",
       "      <td>94.2</td>\n",
       "      <td>93.9</td>\n",
       "      <td>93.7</td>\n",
       "      <td>93.7</td>\n",
       "      <td>93.6</td>\n",
       "      <td>93.0</td>\n",
       "    </tr>\n",
       "    <tr>\n",
       "      <th>Yes</th>\n",
       "      <td>5.3</td>\n",
       "      <td>5.9</td>\n",
       "      <td>5.8</td>\n",
       "      <td>6.1</td>\n",
       "      <td>6.3</td>\n",
       "      <td>6.3</td>\n",
       "      <td>6.4</td>\n",
       "      <td>7.0</td>\n",
       "    </tr>\n",
       "  </tbody>\n",
       "</table>\n",
       "</div>"
      ],
      "text/plain": [
       "agegrp            0-19 yrs  20-29 yrs  30-39 yrs  40-49 yrs  50-59 yrs  \\\n",
       "Any_garbage_code                                                         \n",
       "No                    94.7       94.1       94.2       93.9       93.7   \n",
       "Yes                    5.3        5.9        5.8        6.1        6.3   \n",
       "\n",
       "agegrp            60-69 yrs  70-79 yrs  80+ yrs  \n",
       "Any_garbage_code                                 \n",
       "No                     93.7       93.6     93.0  \n",
       "Yes                     6.3        6.4      7.0  "
      ]
     },
     "execution_count": 23,
     "metadata": {},
     "output_type": "execute_result"
    }
   ],
   "source": [
    "# Proportion of all death records with garbage codes by age agroup (percent)\n",
    "pd.crosstab(d.Any_garbage_code, d.agegrp, normalize='columns').round(3)*100"
   ]
  },
  {
   "cell_type": "code",
   "execution_count": 24,
   "metadata": {},
   "outputs": [
    {
     "data": {
      "text/html": [
       "<div>\n",
       "<style scoped>\n",
       "    .dataframe tbody tr th:only-of-type {\n",
       "        vertical-align: middle;\n",
       "    }\n",
       "\n",
       "    .dataframe tbody tr th {\n",
       "        vertical-align: top;\n",
       "    }\n",
       "\n",
       "    .dataframe thead th {\n",
       "        text-align: right;\n",
       "    }\n",
       "</style>\n",
       "<table border=\"1\" class=\"dataframe\">\n",
       "  <thead>\n",
       "    <tr style=\"text-align: right;\">\n",
       "      <th>agegrp</th>\n",
       "      <th>0-19 yrs</th>\n",
       "      <th>20-29 yrs</th>\n",
       "      <th>30-39 yrs</th>\n",
       "      <th>40-49 yrs</th>\n",
       "      <th>50-59 yrs</th>\n",
       "      <th>60-69 yrs</th>\n",
       "      <th>70-79 yrs</th>\n",
       "      <th>80+ yrs</th>\n",
       "    </tr>\n",
       "    <tr>\n",
       "      <th>Any_garbage_code</th>\n",
       "      <th></th>\n",
       "      <th></th>\n",
       "      <th></th>\n",
       "      <th></th>\n",
       "      <th></th>\n",
       "      <th></th>\n",
       "      <th></th>\n",
       "      <th></th>\n",
       "    </tr>\n",
       "  </thead>\n",
       "  <tbody>\n",
       "    <tr>\n",
       "      <th>No</th>\n",
       "      <td>1438</td>\n",
       "      <td>3256</td>\n",
       "      <td>4678</td>\n",
       "      <td>7500</td>\n",
       "      <td>18498</td>\n",
       "      <td>35186</td>\n",
       "      <td>45630</td>\n",
       "      <td>94506</td>\n",
       "    </tr>\n",
       "    <tr>\n",
       "      <th>Yes</th>\n",
       "      <td>80</td>\n",
       "      <td>205</td>\n",
       "      <td>286</td>\n",
       "      <td>486</td>\n",
       "      <td>1249</td>\n",
       "      <td>2374</td>\n",
       "      <td>3099</td>\n",
       "      <td>7064</td>\n",
       "    </tr>\n",
       "  </tbody>\n",
       "</table>\n",
       "</div>"
      ],
      "text/plain": [
       "agegrp            0-19 yrs  20-29 yrs  30-39 yrs  40-49 yrs  50-59 yrs  \\\n",
       "Any_garbage_code                                                         \n",
       "No                    1438       3256       4678       7500      18498   \n",
       "Yes                     80        205        286        486       1249   \n",
       "\n",
       "agegrp            60-69 yrs  70-79 yrs  80+ yrs  \n",
       "Any_garbage_code                                 \n",
       "No                    35186      45630    94506  \n",
       "Yes                    2374       3099     7064  "
      ]
     },
     "execution_count": 24,
     "metadata": {},
     "output_type": "execute_result"
    }
   ],
   "source": [
    "pd.crosstab(d.Any_garbage_code, d.agegrp)"
   ]
  },
  {
   "cell_type": "code",
   "execution_count": 25,
   "metadata": {},
   "outputs": [
    {
     "data": {
      "text/html": [
       "<div>\n",
       "<style scoped>\n",
       "    .dataframe tbody tr th:only-of-type {\n",
       "        vertical-align: middle;\n",
       "    }\n",
       "\n",
       "    .dataframe tbody tr th {\n",
       "        vertical-align: top;\n",
       "    }\n",
       "\n",
       "    .dataframe thead th {\n",
       "        text-align: right;\n",
       "    }\n",
       "</style>\n",
       "<table border=\"1\" class=\"dataframe\">\n",
       "  <thead>\n",
       "    <tr style=\"text-align: right;\">\n",
       "      <th>agegrp</th>\n",
       "      <th>0-19 yrs</th>\n",
       "      <th>20-29 yrs</th>\n",
       "      <th>30-39 yrs</th>\n",
       "      <th>40-49 yrs</th>\n",
       "      <th>50-59 yrs</th>\n",
       "      <th>60-69 yrs</th>\n",
       "      <th>70-79 yrs</th>\n",
       "      <th>80+ yrs</th>\n",
       "    </tr>\n",
       "    <tr>\n",
       "      <th>gc_cat_label</th>\n",
       "      <th></th>\n",
       "      <th></th>\n",
       "      <th></th>\n",
       "      <th></th>\n",
       "      <th></th>\n",
       "      <th></th>\n",
       "      <th></th>\n",
       "      <th></th>\n",
       "    </tr>\n",
       "  </thead>\n",
       "  <tbody>\n",
       "    <tr>\n",
       "      <th>1-Septicemia</th>\n",
       "      <td>38.5</td>\n",
       "      <td>39.4</td>\n",
       "      <td>38.5</td>\n",
       "      <td>29.4</td>\n",
       "      <td>26.3</td>\n",
       "      <td>27.6</td>\n",
       "      <td>26.8</td>\n",
       "      <td>20.8</td>\n",
       "    </tr>\n",
       "    <tr>\n",
       "      <th>2-Heart failure</th>\n",
       "      <td>0.0</td>\n",
       "      <td>3.0</td>\n",
       "      <td>7.7</td>\n",
       "      <td>7.2</td>\n",
       "      <td>12.1</td>\n",
       "      <td>11.7</td>\n",
       "      <td>17.3</td>\n",
       "      <td>28.8</td>\n",
       "    </tr>\n",
       "    <tr>\n",
       "      <th>3-Ill-defined cancer</th>\n",
       "      <td>23.1</td>\n",
       "      <td>12.1</td>\n",
       "      <td>21.8</td>\n",
       "      <td>23.3</td>\n",
       "      <td>21.2</td>\n",
       "      <td>27.7</td>\n",
       "      <td>24.1</td>\n",
       "      <td>16.0</td>\n",
       "    </tr>\n",
       "    <tr>\n",
       "      <th>6-Ill-defined cardiovascular</th>\n",
       "      <td>38.5</td>\n",
       "      <td>45.5</td>\n",
       "      <td>32.1</td>\n",
       "      <td>40.0</td>\n",
       "      <td>40.4</td>\n",
       "      <td>32.9</td>\n",
       "      <td>31.8</td>\n",
       "      <td>34.5</td>\n",
       "    </tr>\n",
       "  </tbody>\n",
       "</table>\n",
       "</div>"
      ],
      "text/plain": [
       "agegrp                        0-19 yrs  20-29 yrs  30-39 yrs  40-49 yrs  \\\n",
       "gc_cat_label                                                              \n",
       "1-Septicemia                      38.5       39.4       38.5       29.4   \n",
       "2-Heart failure                    0.0        3.0        7.7        7.2   \n",
       "3-Ill-defined cancer              23.1       12.1       21.8       23.3   \n",
       "6-Ill-defined cardiovascular      38.5       45.5       32.1       40.0   \n",
       "\n",
       "agegrp                        50-59 yrs  60-69 yrs  70-79 yrs  80+ yrs  \n",
       "gc_cat_label                                                            \n",
       "1-Septicemia                       26.3       27.6       26.8     20.8  \n",
       "2-Heart failure                    12.1       11.7       17.3     28.8  \n",
       "3-Ill-defined cancer               21.2       27.7       24.1     16.0  \n",
       "6-Ill-defined cardiovascular       40.4       32.9       31.8     34.5  "
      ]
     },
     "execution_count": 25,
     "metadata": {},
     "output_type": "execute_result"
    }
   ],
   "source": [
    "# Distribution of GC codes by GC category and age group - row percentages\n",
    "round(pd.crosstab(ds['gc_cat_label'], ds['agegrp'], normalize=\"columns\"), 3)*100\n"
   ]
  },
  {
   "cell_type": "code",
   "execution_count": 26,
   "metadata": {},
   "outputs": [
    {
     "data": {
      "text/html": [
       "<div>\n",
       "<style scoped>\n",
       "    .dataframe tbody tr th:only-of-type {\n",
       "        vertical-align: middle;\n",
       "    }\n",
       "\n",
       "    .dataframe tbody tr th {\n",
       "        vertical-align: top;\n",
       "    }\n",
       "\n",
       "    .dataframe thead th {\n",
       "        text-align: right;\n",
       "    }\n",
       "</style>\n",
       "<table border=\"1\" class=\"dataframe\">\n",
       "  <thead>\n",
       "    <tr style=\"text-align: right;\">\n",
       "      <th>agegrp</th>\n",
       "      <th>0-19 yrs</th>\n",
       "      <th>20-29 yrs</th>\n",
       "      <th>30-39 yrs</th>\n",
       "      <th>40-49 yrs</th>\n",
       "      <th>50-59 yrs</th>\n",
       "      <th>60-69 yrs</th>\n",
       "      <th>70-79 yrs</th>\n",
       "      <th>80+ yrs</th>\n",
       "    </tr>\n",
       "    <tr>\n",
       "      <th>gc_cat_label</th>\n",
       "      <th></th>\n",
       "      <th></th>\n",
       "      <th></th>\n",
       "      <th></th>\n",
       "      <th></th>\n",
       "      <th></th>\n",
       "      <th></th>\n",
       "      <th></th>\n",
       "    </tr>\n",
       "  </thead>\n",
       "  <tbody>\n",
       "    <tr>\n",
       "      <th>1-Septicemia</th>\n",
       "      <td>5</td>\n",
       "      <td>13</td>\n",
       "      <td>30</td>\n",
       "      <td>53</td>\n",
       "      <td>150</td>\n",
       "      <td>328</td>\n",
       "      <td>428</td>\n",
       "      <td>721</td>\n",
       "    </tr>\n",
       "    <tr>\n",
       "      <th>2-Heart failure</th>\n",
       "      <td>0</td>\n",
       "      <td>1</td>\n",
       "      <td>6</td>\n",
       "      <td>13</td>\n",
       "      <td>69</td>\n",
       "      <td>139</td>\n",
       "      <td>276</td>\n",
       "      <td>995</td>\n",
       "    </tr>\n",
       "    <tr>\n",
       "      <th>3-Ill-defined cancer</th>\n",
       "      <td>3</td>\n",
       "      <td>4</td>\n",
       "      <td>17</td>\n",
       "      <td>42</td>\n",
       "      <td>121</td>\n",
       "      <td>329</td>\n",
       "      <td>385</td>\n",
       "      <td>552</td>\n",
       "    </tr>\n",
       "    <tr>\n",
       "      <th>6-Ill-defined cardiovascular</th>\n",
       "      <td>5</td>\n",
       "      <td>15</td>\n",
       "      <td>25</td>\n",
       "      <td>72</td>\n",
       "      <td>230</td>\n",
       "      <td>391</td>\n",
       "      <td>507</td>\n",
       "      <td>1192</td>\n",
       "    </tr>\n",
       "  </tbody>\n",
       "</table>\n",
       "</div>"
      ],
      "text/plain": [
       "agegrp                        0-19 yrs  20-29 yrs  30-39 yrs  40-49 yrs  \\\n",
       "gc_cat_label                                                              \n",
       "1-Septicemia                         5         13         30         53   \n",
       "2-Heart failure                      0          1          6         13   \n",
       "3-Ill-defined cancer                 3          4         17         42   \n",
       "6-Ill-defined cardiovascular         5         15         25         72   \n",
       "\n",
       "agegrp                        50-59 yrs  60-69 yrs  70-79 yrs  80+ yrs  \n",
       "gc_cat_label                                                            \n",
       "1-Septicemia                        150        328        428      721  \n",
       "2-Heart failure                      69        139        276      995  \n",
       "3-Ill-defined cancer                121        329        385      552  \n",
       "6-Ill-defined cardiovascular        230        391        507     1192  "
      ]
     },
     "execution_count": 26,
     "metadata": {},
     "output_type": "execute_result"
    }
   ],
   "source": [
    "pd.crosstab(ds['gc_cat_label'], ds['agegrp'])"
   ]
  },
  {
   "cell_type": "markdown",
   "metadata": {},
   "source": [
    "The proportion of records with garbage underlying codes increases with age acounting for about 5.3% of death records for 1-19 year olds and about 7% of records for decedents who were 80 years or older.\n",
    "\n",
    "Ill-defined cardiovascular disease accounts for the greatest proportion of GC underlying cause codes for decedents who were 50 years and older. For decedents below the age of 50 years the catch all 'ill-defined other' category accounted for the greatest proportion of GC deaths. Ill defined (other) and undetermined intent accounted for most of the GC underlying cause codes among decedents aged 0 to 19 years.  Ill-defined infectious diseases were the least common type of GC underlying cause code across all age groups."
   ]
  },
  {
   "cell_type": "markdown",
   "metadata": {},
   "source": [
    "**GC category by race**"
   ]
  },
  {
   "cell_type": "code",
   "execution_count": 27,
   "metadata": {},
   "outputs": [
    {
     "data": {
      "text/html": [
       "<div>\n",
       "<style scoped>\n",
       "    .dataframe tbody tr th:only-of-type {\n",
       "        vertical-align: middle;\n",
       "    }\n",
       "\n",
       "    .dataframe tbody tr th {\n",
       "        vertical-align: top;\n",
       "    }\n",
       "\n",
       "    .dataframe thead th {\n",
       "        text-align: right;\n",
       "    }\n",
       "</style>\n",
       "<table border=\"1\" class=\"dataframe\">\n",
       "  <thead>\n",
       "    <tr style=\"text-align: right;\">\n",
       "      <th>race</th>\n",
       "      <th>AIAN</th>\n",
       "      <th>African Am.</th>\n",
       "      <th>Asian</th>\n",
       "      <th>Other/multirace</th>\n",
       "      <th>Pacific Isl.</th>\n",
       "      <th>Unknown</th>\n",
       "      <th>White</th>\n",
       "    </tr>\n",
       "    <tr>\n",
       "      <th>Any_garbage_code</th>\n",
       "      <th></th>\n",
       "      <th></th>\n",
       "      <th></th>\n",
       "      <th></th>\n",
       "      <th></th>\n",
       "      <th></th>\n",
       "      <th></th>\n",
       "    </tr>\n",
       "  </thead>\n",
       "  <tbody>\n",
       "    <tr>\n",
       "      <th>No</th>\n",
       "      <td>92.1</td>\n",
       "      <td>92.9</td>\n",
       "      <td>93.7</td>\n",
       "      <td>93.5</td>\n",
       "      <td>93.8</td>\n",
       "      <td>93.7</td>\n",
       "      <td>93.4</td>\n",
       "    </tr>\n",
       "    <tr>\n",
       "      <th>Yes</th>\n",
       "      <td>7.9</td>\n",
       "      <td>7.1</td>\n",
       "      <td>6.3</td>\n",
       "      <td>6.5</td>\n",
       "      <td>6.2</td>\n",
       "      <td>6.3</td>\n",
       "      <td>6.6</td>\n",
       "    </tr>\n",
       "  </tbody>\n",
       "</table>\n",
       "</div>"
      ],
      "text/plain": [
       "race              AIAN  African Am.  Asian  Other/multirace  Pacific Isl.  \\\n",
       "Any_garbage_code                                                            \n",
       "No                92.1         92.9   93.7             93.5          93.8   \n",
       "Yes                7.9          7.1    6.3              6.5           6.2   \n",
       "\n",
       "race              Unknown  White  \n",
       "Any_garbage_code                  \n",
       "No                   93.7   93.4  \n",
       "Yes                   6.3    6.6  "
      ]
     },
     "execution_count": 27,
     "metadata": {},
     "output_type": "execute_result"
    }
   ],
   "source": [
    "# Proportion of all death records with garbage codes by race (percent)\n",
    "pd.crosstab(d.Any_garbage_code, d.race, normalize='columns').round(3)*100"
   ]
  },
  {
   "cell_type": "code",
   "execution_count": 28,
   "metadata": {},
   "outputs": [
    {
     "data": {
      "text/html": [
       "<div>\n",
       "<style scoped>\n",
       "    .dataframe tbody tr th:only-of-type {\n",
       "        vertical-align: middle;\n",
       "    }\n",
       "\n",
       "    .dataframe tbody tr th {\n",
       "        vertical-align: top;\n",
       "    }\n",
       "\n",
       "    .dataframe thead th {\n",
       "        text-align: right;\n",
       "    }\n",
       "</style>\n",
       "<table border=\"1\" class=\"dataframe\">\n",
       "  <thead>\n",
       "    <tr style=\"text-align: right;\">\n",
       "      <th>race</th>\n",
       "      <th>AIAN</th>\n",
       "      <th>African Am.</th>\n",
       "      <th>Asian</th>\n",
       "      <th>Other/multirace</th>\n",
       "      <th>Pacific Isl.</th>\n",
       "      <th>Unknown</th>\n",
       "      <th>White</th>\n",
       "    </tr>\n",
       "    <tr>\n",
       "      <th>Any_garbage_code</th>\n",
       "      <th></th>\n",
       "      <th></th>\n",
       "      <th></th>\n",
       "      <th></th>\n",
       "      <th></th>\n",
       "      <th></th>\n",
       "      <th></th>\n",
       "    </tr>\n",
       "  </thead>\n",
       "  <tbody>\n",
       "    <tr>\n",
       "      <th>No</th>\n",
       "      <td>3217</td>\n",
       "      <td>6287</td>\n",
       "      <td>8620</td>\n",
       "      <td>6150</td>\n",
       "      <td>1190</td>\n",
       "      <td>682</td>\n",
       "      <td>185778</td>\n",
       "    </tr>\n",
       "    <tr>\n",
       "      <th>Yes</th>\n",
       "      <td>276</td>\n",
       "      <td>478</td>\n",
       "      <td>578</td>\n",
       "      <td>427</td>\n",
       "      <td>79</td>\n",
       "      <td>46</td>\n",
       "      <td>13189</td>\n",
       "    </tr>\n",
       "  </tbody>\n",
       "</table>\n",
       "</div>"
      ],
      "text/plain": [
       "race              AIAN  African Am.  Asian  Other/multirace  Pacific Isl.  \\\n",
       "Any_garbage_code                                                            \n",
       "No                3217         6287   8620             6150          1190   \n",
       "Yes                276          478    578              427            79   \n",
       "\n",
       "race              Unknown   White  \n",
       "Any_garbage_code                   \n",
       "No                    682  185778  \n",
       "Yes                    46   13189  "
      ]
     },
     "execution_count": 28,
     "metadata": {},
     "output_type": "execute_result"
    }
   ],
   "source": [
    "pd.crosstab(d.Any_garbage_code, d.race)"
   ]
  },
  {
   "cell_type": "code",
   "execution_count": 29,
   "metadata": {},
   "outputs": [
    {
     "data": {
      "text/html": [
       "<div>\n",
       "<style scoped>\n",
       "    .dataframe tbody tr th:only-of-type {\n",
       "        vertical-align: middle;\n",
       "    }\n",
       "\n",
       "    .dataframe tbody tr th {\n",
       "        vertical-align: top;\n",
       "    }\n",
       "\n",
       "    .dataframe thead th {\n",
       "        text-align: right;\n",
       "    }\n",
       "</style>\n",
       "<table border=\"1\" class=\"dataframe\">\n",
       "  <thead>\n",
       "    <tr style=\"text-align: right;\">\n",
       "      <th>race</th>\n",
       "      <th>AIAN</th>\n",
       "      <th>African Am.</th>\n",
       "      <th>Asian</th>\n",
       "      <th>Other/multirace</th>\n",
       "      <th>Pacific Isl.</th>\n",
       "      <th>Unknown</th>\n",
       "      <th>White</th>\n",
       "    </tr>\n",
       "    <tr>\n",
       "      <th>gc_cat_label</th>\n",
       "      <th></th>\n",
       "      <th></th>\n",
       "      <th></th>\n",
       "      <th></th>\n",
       "      <th></th>\n",
       "      <th></th>\n",
       "      <th></th>\n",
       "    </tr>\n",
       "  </thead>\n",
       "  <tbody>\n",
       "    <tr>\n",
       "      <th>1-Septicemia</th>\n",
       "      <td>42.5</td>\n",
       "      <td>25.7</td>\n",
       "      <td>23.3</td>\n",
       "      <td>30.5</td>\n",
       "      <td>38.3</td>\n",
       "      <td>22.2</td>\n",
       "      <td>23.7</td>\n",
       "    </tr>\n",
       "    <tr>\n",
       "      <th>2-Heart failure</th>\n",
       "      <td>14.2</td>\n",
       "      <td>14.9</td>\n",
       "      <td>19.7</td>\n",
       "      <td>18.0</td>\n",
       "      <td>27.7</td>\n",
       "      <td>27.8</td>\n",
       "      <td>21.5</td>\n",
       "    </tr>\n",
       "    <tr>\n",
       "      <th>3-Ill-defined cancer</th>\n",
       "      <td>13.2</td>\n",
       "      <td>16.6</td>\n",
       "      <td>23.3</td>\n",
       "      <td>21.0</td>\n",
       "      <td>6.4</td>\n",
       "      <td>22.2</td>\n",
       "      <td>20.6</td>\n",
       "    </tr>\n",
       "    <tr>\n",
       "      <th>6-Ill-defined cardiovascular</th>\n",
       "      <td>30.2</td>\n",
       "      <td>42.7</td>\n",
       "      <td>33.7</td>\n",
       "      <td>30.5</td>\n",
       "      <td>27.7</td>\n",
       "      <td>27.8</td>\n",
       "      <td>34.2</td>\n",
       "    </tr>\n",
       "  </tbody>\n",
       "</table>\n",
       "</div>"
      ],
      "text/plain": [
       "race                          AIAN  African Am.  Asian  Other/multirace  \\\n",
       "gc_cat_label                                                              \n",
       "1-Septicemia                  42.5         25.7   23.3             30.5   \n",
       "2-Heart failure               14.2         14.9   19.7             18.0   \n",
       "3-Ill-defined cancer          13.2         16.6   23.3             21.0   \n",
       "6-Ill-defined cardiovascular  30.2         42.7   33.7             30.5   \n",
       "\n",
       "race                          Pacific Isl.  Unknown  White  \n",
       "gc_cat_label                                                \n",
       "1-Septicemia                          38.3     22.2   23.7  \n",
       "2-Heart failure                       27.7     27.8   21.5  \n",
       "3-Ill-defined cancer                   6.4     22.2   20.6  \n",
       "6-Ill-defined cardiovascular          27.7     27.8   34.2  "
      ]
     },
     "execution_count": 29,
     "metadata": {},
     "output_type": "execute_result"
    }
   ],
   "source": [
    "# Distribution of GC categories by race - \n",
    "pd.crosstab(ds['gc_cat_label'], ds['race'], normalize=\"columns\").round(3)*100"
   ]
  },
  {
   "cell_type": "code",
   "execution_count": 30,
   "metadata": {},
   "outputs": [
    {
     "data": {
      "text/html": [
       "<div>\n",
       "<style scoped>\n",
       "    .dataframe tbody tr th:only-of-type {\n",
       "        vertical-align: middle;\n",
       "    }\n",
       "\n",
       "    .dataframe tbody tr th {\n",
       "        vertical-align: top;\n",
       "    }\n",
       "\n",
       "    .dataframe thead th {\n",
       "        text-align: right;\n",
       "    }\n",
       "</style>\n",
       "<table border=\"1\" class=\"dataframe\">\n",
       "  <thead>\n",
       "    <tr style=\"text-align: right;\">\n",
       "      <th>race</th>\n",
       "      <th>AIAN</th>\n",
       "      <th>African Am.</th>\n",
       "      <th>Asian</th>\n",
       "      <th>Other/multirace</th>\n",
       "      <th>Pacific Isl.</th>\n",
       "      <th>Unknown</th>\n",
       "      <th>White</th>\n",
       "    </tr>\n",
       "    <tr>\n",
       "      <th>gc_cat_label</th>\n",
       "      <th></th>\n",
       "      <th></th>\n",
       "      <th></th>\n",
       "      <th></th>\n",
       "      <th></th>\n",
       "      <th></th>\n",
       "      <th></th>\n",
       "    </tr>\n",
       "  </thead>\n",
       "  <tbody>\n",
       "    <tr>\n",
       "      <th>1-Septicemia</th>\n",
       "      <td>45</td>\n",
       "      <td>62</td>\n",
       "      <td>70</td>\n",
       "      <td>51</td>\n",
       "      <td>18</td>\n",
       "      <td>4</td>\n",
       "      <td>1483</td>\n",
       "    </tr>\n",
       "    <tr>\n",
       "      <th>2-Heart failure</th>\n",
       "      <td>15</td>\n",
       "      <td>36</td>\n",
       "      <td>59</td>\n",
       "      <td>30</td>\n",
       "      <td>13</td>\n",
       "      <td>5</td>\n",
       "      <td>1341</td>\n",
       "    </tr>\n",
       "    <tr>\n",
       "      <th>3-Ill-defined cancer</th>\n",
       "      <td>14</td>\n",
       "      <td>40</td>\n",
       "      <td>70</td>\n",
       "      <td>35</td>\n",
       "      <td>3</td>\n",
       "      <td>4</td>\n",
       "      <td>1287</td>\n",
       "    </tr>\n",
       "    <tr>\n",
       "      <th>6-Ill-defined cardiovascular</th>\n",
       "      <td>32</td>\n",
       "      <td>103</td>\n",
       "      <td>101</td>\n",
       "      <td>51</td>\n",
       "      <td>13</td>\n",
       "      <td>5</td>\n",
       "      <td>2134</td>\n",
       "    </tr>\n",
       "  </tbody>\n",
       "</table>\n",
       "</div>"
      ],
      "text/plain": [
       "race                          AIAN  African Am.  Asian  Other/multirace  \\\n",
       "gc_cat_label                                                              \n",
       "1-Septicemia                    45           62     70               51   \n",
       "2-Heart failure                 15           36     59               30   \n",
       "3-Ill-defined cancer            14           40     70               35   \n",
       "6-Ill-defined cardiovascular    32          103    101               51   \n",
       "\n",
       "race                          Pacific Isl.  Unknown  White  \n",
       "gc_cat_label                                                \n",
       "1-Septicemia                            18        4   1483  \n",
       "2-Heart failure                         13        5   1341  \n",
       "3-Ill-defined cancer                     3        4   1287  \n",
       "6-Ill-defined cardiovascular            13        5   2134  "
      ]
     },
     "execution_count": 30,
     "metadata": {},
     "output_type": "execute_result"
    }
   ],
   "source": [
    "# Distribution of GC categories by race - counts\n",
    "pd.crosstab(ds['gc_cat_label'], ds['race'])"
   ]
  },
  {
   "cell_type": "markdown",
   "metadata": {},
   "source": [
    "Almost 8% of death records for AIAN non-Hispanic decedents had garbage underlying cause codes compared with white non-Hispanic or Asian non-Hispanic decedents for whom about 6.6% and 6.3% (respectively) of records had these problems.  Adding to this problem is the fact that AIAN decedents are undercounted in Washington State as they are reported as other races on the death records.\n",
    "\n",
    "Other ill-defined conditions accounted for almost 38% of the GC underlying cause codes among American Indian/Alaska Native decedents and about 33% of multi-racial decedents.  In comparison this category accounted for only 14% of GC underlying cause codes among Asian decedents. Among White decedents the largest category of GC deaths accounting for almost 26% of records with garbage underlying cause codes was ill-defined cardiovascular disease.This was also true for African American decedents; over 32% of death records with garbage underlying cause codes fell into the ill-defined cardiovascular disease category."
   ]
  },
  {
   "cell_type": "markdown",
   "metadata": {},
   "source": [
    "**GC category by ethnicity**"
   ]
  },
  {
   "cell_type": "code",
   "execution_count": 31,
   "metadata": {},
   "outputs": [
    {
     "data": {
      "text/html": [
       "<div>\n",
       "<style scoped>\n",
       "    .dataframe tbody tr th:only-of-type {\n",
       "        vertical-align: middle;\n",
       "    }\n",
       "\n",
       "    .dataframe tbody tr th {\n",
       "        vertical-align: top;\n",
       "    }\n",
       "\n",
       "    .dataframe thead th {\n",
       "        text-align: right;\n",
       "    }\n",
       "</style>\n",
       "<table border=\"1\" class=\"dataframe\">\n",
       "  <thead>\n",
       "    <tr style=\"text-align: right;\">\n",
       "      <th>hispanic</th>\n",
       "      <th>No</th>\n",
       "      <th>Yes</th>\n",
       "    </tr>\n",
       "    <tr>\n",
       "      <th>Any_garbage_code</th>\n",
       "      <th></th>\n",
       "      <th></th>\n",
       "    </tr>\n",
       "  </thead>\n",
       "  <tbody>\n",
       "    <tr>\n",
       "      <th>No</th>\n",
       "      <td>93.4</td>\n",
       "      <td>92.7</td>\n",
       "    </tr>\n",
       "    <tr>\n",
       "      <th>Yes</th>\n",
       "      <td>6.6</td>\n",
       "      <td>7.3</td>\n",
       "    </tr>\n",
       "  </tbody>\n",
       "</table>\n",
       "</div>"
      ],
      "text/plain": [
       "hispanic            No   Yes\n",
       "Any_garbage_code            \n",
       "No                93.4  92.7\n",
       "Yes                6.6   7.3"
      ]
     },
     "execution_count": 31,
     "metadata": {},
     "output_type": "execute_result"
    }
   ],
   "source": [
    "pd.crosstab(d.Any_garbage_code, d.hispanic, normalize='columns').round(3)*100"
   ]
  },
  {
   "cell_type": "code",
   "execution_count": 32,
   "metadata": {},
   "outputs": [
    {
     "data": {
      "text/html": [
       "<div>\n",
       "<style scoped>\n",
       "    .dataframe tbody tr th:only-of-type {\n",
       "        vertical-align: middle;\n",
       "    }\n",
       "\n",
       "    .dataframe tbody tr th {\n",
       "        vertical-align: top;\n",
       "    }\n",
       "\n",
       "    .dataframe thead th {\n",
       "        text-align: right;\n",
       "    }\n",
       "</style>\n",
       "<table border=\"1\" class=\"dataframe\">\n",
       "  <thead>\n",
       "    <tr style=\"text-align: right;\">\n",
       "      <th>hispanic</th>\n",
       "      <th>No</th>\n",
       "      <th>Yes</th>\n",
       "    </tr>\n",
       "    <tr>\n",
       "      <th>Any_garbage_code</th>\n",
       "      <th></th>\n",
       "      <th></th>\n",
       "    </tr>\n",
       "  </thead>\n",
       "  <tbody>\n",
       "    <tr>\n",
       "      <th>No</th>\n",
       "      <td>204107</td>\n",
       "      <td>7817</td>\n",
       "    </tr>\n",
       "    <tr>\n",
       "      <th>Yes</th>\n",
       "      <td>14461</td>\n",
       "      <td>612</td>\n",
       "    </tr>\n",
       "  </tbody>\n",
       "</table>\n",
       "</div>"
      ],
      "text/plain": [
       "hispanic              No   Yes\n",
       "Any_garbage_code              \n",
       "No                204107  7817\n",
       "Yes                14461   612"
      ]
     },
     "execution_count": 32,
     "metadata": {},
     "output_type": "execute_result"
    }
   ],
   "source": [
    "pd.crosstab(d.Any_garbage_code, d.hispanic)"
   ]
  },
  {
   "cell_type": "code",
   "execution_count": 33,
   "metadata": {},
   "outputs": [
    {
     "data": {
      "text/html": [
       "<div>\n",
       "<style scoped>\n",
       "    .dataframe tbody tr th:only-of-type {\n",
       "        vertical-align: middle;\n",
       "    }\n",
       "\n",
       "    .dataframe tbody tr th {\n",
       "        vertical-align: top;\n",
       "    }\n",
       "\n",
       "    .dataframe thead th {\n",
       "        text-align: right;\n",
       "    }\n",
       "</style>\n",
       "<table border=\"1\" class=\"dataframe\">\n",
       "  <thead>\n",
       "    <tr style=\"text-align: right;\">\n",
       "      <th>hispanic</th>\n",
       "      <th>No</th>\n",
       "      <th>Yes</th>\n",
       "    </tr>\n",
       "    <tr>\n",
       "      <th>gc_cat_label</th>\n",
       "      <th></th>\n",
       "      <th></th>\n",
       "    </tr>\n",
       "  </thead>\n",
       "  <tbody>\n",
       "    <tr>\n",
       "      <th>1-Septicemia</th>\n",
       "      <td>24.0</td>\n",
       "      <td>34.8</td>\n",
       "    </tr>\n",
       "    <tr>\n",
       "      <th>2-Heart failure</th>\n",
       "      <td>21.2</td>\n",
       "      <td>15.9</td>\n",
       "    </tr>\n",
       "    <tr>\n",
       "      <th>3-Ill-defined cancer</th>\n",
       "      <td>20.4</td>\n",
       "      <td>19.4</td>\n",
       "    </tr>\n",
       "    <tr>\n",
       "      <th>6-Ill-defined cardiovascular</th>\n",
       "      <td>34.4</td>\n",
       "      <td>30.0</td>\n",
       "    </tr>\n",
       "  </tbody>\n",
       "</table>\n",
       "</div>"
      ],
      "text/plain": [
       "hispanic                        No   Yes\n",
       "gc_cat_label                            \n",
       "1-Septicemia                  24.0  34.8\n",
       "2-Heart failure               21.2  15.9\n",
       "3-Ill-defined cancer          20.4  19.4\n",
       "6-Ill-defined cardiovascular  34.4  30.0"
      ]
     },
     "execution_count": 33,
     "metadata": {},
     "output_type": "execute_result"
    }
   ],
   "source": [
    "# Distribution of GC categories by ethnicity - counts\n",
    "pd.crosstab(ds['gc_cat_label'], ds['hispanic'], normalize=\"columns\").round(3)*100"
   ]
  },
  {
   "cell_type": "code",
   "execution_count": 34,
   "metadata": {},
   "outputs": [
    {
     "data": {
      "text/html": [
       "<div>\n",
       "<style scoped>\n",
       "    .dataframe tbody tr th:only-of-type {\n",
       "        vertical-align: middle;\n",
       "    }\n",
       "\n",
       "    .dataframe tbody tr th {\n",
       "        vertical-align: top;\n",
       "    }\n",
       "\n",
       "    .dataframe thead th {\n",
       "        text-align: right;\n",
       "    }\n",
       "</style>\n",
       "<table border=\"1\" class=\"dataframe\">\n",
       "  <thead>\n",
       "    <tr style=\"text-align: right;\">\n",
       "      <th>hispanic</th>\n",
       "      <th>No</th>\n",
       "      <th>Yes</th>\n",
       "    </tr>\n",
       "    <tr>\n",
       "      <th>gc_cat_label</th>\n",
       "      <th></th>\n",
       "      <th></th>\n",
       "    </tr>\n",
       "  </thead>\n",
       "  <tbody>\n",
       "    <tr>\n",
       "      <th>1-Septicemia</th>\n",
       "      <td>1654</td>\n",
       "      <td>79</td>\n",
       "    </tr>\n",
       "    <tr>\n",
       "      <th>2-Heart failure</th>\n",
       "      <td>1463</td>\n",
       "      <td>36</td>\n",
       "    </tr>\n",
       "    <tr>\n",
       "      <th>3-Ill-defined cancer</th>\n",
       "      <td>1409</td>\n",
       "      <td>44</td>\n",
       "    </tr>\n",
       "    <tr>\n",
       "      <th>6-Ill-defined cardiovascular</th>\n",
       "      <td>2371</td>\n",
       "      <td>68</td>\n",
       "    </tr>\n",
       "  </tbody>\n",
       "</table>\n",
       "</div>"
      ],
      "text/plain": [
       "hispanic                        No  Yes\n",
       "gc_cat_label                           \n",
       "1-Septicemia                  1654   79\n",
       "2-Heart failure               1463   36\n",
       "3-Ill-defined cancer          1409   44\n",
       "6-Ill-defined cardiovascular  2371   68"
      ]
     },
     "execution_count": 34,
     "metadata": {},
     "output_type": "execute_result"
    }
   ],
   "source": [
    "# Distribution of GC categories by ethnicity- counts\n",
    "pd.crosstab(ds['gc_cat_label'], ds['hispanic'])"
   ]
  },
  {
   "cell_type": "markdown",
   "metadata": {},
   "source": [
    "The proportion of death records for Hispanic decedents that had garbage underlying cause codes was slightly higher than for (7.3% vs. 6.6%).\n",
    "\n",
    "For Hispanic decedents, other ill-defined conditions and ill-defined cardiovascular disease accounted for half the garbage underlying cause codes."
   ]
  },
  {
   "cell_type": "markdown",
   "metadata": {},
   "source": [
    "**GC category by death county**"
   ]
  },
  {
   "cell_type": "markdown",
   "metadata": {},
   "source": [
    "This table shows the distribution of garbage code categories within each county. In most counties, ill-defined cardiovascular and heart failure together account for the greatest proportion of garbage codes in each county, often accounting for over half the deaths with garbage underlying cause codes."
   ]
  },
  {
   "cell_type": "code",
   "execution_count": 35,
   "metadata": {},
   "outputs": [
    {
     "data": {
      "text/html": [
       "<div>\n",
       "<style scoped>\n",
       "    .dataframe tbody tr th:only-of-type {\n",
       "        vertical-align: middle;\n",
       "    }\n",
       "\n",
       "    .dataframe tbody tr th {\n",
       "        vertical-align: top;\n",
       "    }\n",
       "\n",
       "    .dataframe thead th {\n",
       "        text-align: right;\n",
       "    }\n",
       "</style>\n",
       "<table border=\"1\" class=\"dataframe\">\n",
       "  <thead>\n",
       "    <tr style=\"text-align: right;\">\n",
       "      <th>gc_cat_label</th>\n",
       "      <th>1-Septicemia</th>\n",
       "      <th>2-Heart failure</th>\n",
       "      <th>3-Ill-defined cancer</th>\n",
       "      <th>6-Ill-defined cardiovascular</th>\n",
       "    </tr>\n",
       "    <tr>\n",
       "      <th>dcounty</th>\n",
       "      <th></th>\n",
       "      <th></th>\n",
       "      <th></th>\n",
       "      <th></th>\n",
       "    </tr>\n",
       "  </thead>\n",
       "  <tbody>\n",
       "    <tr>\n",
       "      <th>ADAMS</th>\n",
       "      <td>25.0</td>\n",
       "      <td>12.5</td>\n",
       "      <td>12.5</td>\n",
       "      <td>50.0</td>\n",
       "    </tr>\n",
       "    <tr>\n",
       "      <th>ASOTIN</th>\n",
       "      <td>25.9</td>\n",
       "      <td>33.3</td>\n",
       "      <td>14.8</td>\n",
       "      <td>25.9</td>\n",
       "    </tr>\n",
       "    <tr>\n",
       "      <th>BENTON</th>\n",
       "      <td>31.6</td>\n",
       "      <td>11.7</td>\n",
       "      <td>20.4</td>\n",
       "      <td>36.4</td>\n",
       "    </tr>\n",
       "    <tr>\n",
       "      <th>CHELAN</th>\n",
       "      <td>16.2</td>\n",
       "      <td>17.9</td>\n",
       "      <td>31.6</td>\n",
       "      <td>34.2</td>\n",
       "    </tr>\n",
       "    <tr>\n",
       "      <th>CLALLAM</th>\n",
       "      <td>20.7</td>\n",
       "      <td>25.0</td>\n",
       "      <td>18.5</td>\n",
       "      <td>35.9</td>\n",
       "    </tr>\n",
       "    <tr>\n",
       "      <th>CLARK</th>\n",
       "      <td>22.2</td>\n",
       "      <td>20.7</td>\n",
       "      <td>25.6</td>\n",
       "      <td>31.6</td>\n",
       "    </tr>\n",
       "    <tr>\n",
       "      <th>COLUMBIA</th>\n",
       "      <td>0.0</td>\n",
       "      <td>0.0</td>\n",
       "      <td>20.0</td>\n",
       "      <td>80.0</td>\n",
       "    </tr>\n",
       "    <tr>\n",
       "      <th>COWLITZ</th>\n",
       "      <td>32.7</td>\n",
       "      <td>27.4</td>\n",
       "      <td>20.2</td>\n",
       "      <td>19.6</td>\n",
       "    </tr>\n",
       "    <tr>\n",
       "      <th>DOUGLAS</th>\n",
       "      <td>8.3</td>\n",
       "      <td>29.2</td>\n",
       "      <td>50.0</td>\n",
       "      <td>12.5</td>\n",
       "    </tr>\n",
       "    <tr>\n",
       "      <th>FERRY</th>\n",
       "      <td>0.0</td>\n",
       "      <td>0.0</td>\n",
       "      <td>0.0</td>\n",
       "      <td>100.0</td>\n",
       "    </tr>\n",
       "    <tr>\n",
       "      <th>FRANKLIN</th>\n",
       "      <td>15.8</td>\n",
       "      <td>47.4</td>\n",
       "      <td>5.3</td>\n",
       "      <td>31.6</td>\n",
       "    </tr>\n",
       "    <tr>\n",
       "      <th>GARFIELD</th>\n",
       "      <td>0.0</td>\n",
       "      <td>0.0</td>\n",
       "      <td>0.0</td>\n",
       "      <td>100.0</td>\n",
       "    </tr>\n",
       "    <tr>\n",
       "      <th>GRANT</th>\n",
       "      <td>17.7</td>\n",
       "      <td>21.0</td>\n",
       "      <td>14.5</td>\n",
       "      <td>46.8</td>\n",
       "    </tr>\n",
       "    <tr>\n",
       "      <th>GRAYS HARBOR</th>\n",
       "      <td>15.2</td>\n",
       "      <td>27.3</td>\n",
       "      <td>22.7</td>\n",
       "      <td>34.8</td>\n",
       "    </tr>\n",
       "    <tr>\n",
       "      <th>ISLAND</th>\n",
       "      <td>9.8</td>\n",
       "      <td>16.4</td>\n",
       "      <td>21.3</td>\n",
       "      <td>52.5</td>\n",
       "    </tr>\n",
       "    <tr>\n",
       "      <th>JEFFERSON</th>\n",
       "      <td>18.2</td>\n",
       "      <td>18.2</td>\n",
       "      <td>45.5</td>\n",
       "      <td>18.2</td>\n",
       "    </tr>\n",
       "    <tr>\n",
       "      <th>KING</th>\n",
       "      <td>23.8</td>\n",
       "      <td>22.3</td>\n",
       "      <td>21.2</td>\n",
       "      <td>32.7</td>\n",
       "    </tr>\n",
       "    <tr>\n",
       "      <th>KITSAP</th>\n",
       "      <td>25.9</td>\n",
       "      <td>22.8</td>\n",
       "      <td>18.6</td>\n",
       "      <td>32.7</td>\n",
       "    </tr>\n",
       "    <tr>\n",
       "      <th>KITTITAS</th>\n",
       "      <td>4.2</td>\n",
       "      <td>16.7</td>\n",
       "      <td>20.8</td>\n",
       "      <td>58.3</td>\n",
       "    </tr>\n",
       "    <tr>\n",
       "      <th>KLICKITAT</th>\n",
       "      <td>10.0</td>\n",
       "      <td>20.0</td>\n",
       "      <td>30.0</td>\n",
       "      <td>40.0</td>\n",
       "    </tr>\n",
       "    <tr>\n",
       "      <th>LEWIS</th>\n",
       "      <td>20.0</td>\n",
       "      <td>22.5</td>\n",
       "      <td>23.3</td>\n",
       "      <td>34.2</td>\n",
       "    </tr>\n",
       "    <tr>\n",
       "      <th>LINCOLN</th>\n",
       "      <td>33.3</td>\n",
       "      <td>33.3</td>\n",
       "      <td>33.3</td>\n",
       "      <td>0.0</td>\n",
       "    </tr>\n",
       "    <tr>\n",
       "      <th>MASON</th>\n",
       "      <td>8.8</td>\n",
       "      <td>14.0</td>\n",
       "      <td>12.3</td>\n",
       "      <td>64.9</td>\n",
       "    </tr>\n",
       "    <tr>\n",
       "      <th>OKANOGAN</th>\n",
       "      <td>7.4</td>\n",
       "      <td>14.8</td>\n",
       "      <td>40.7</td>\n",
       "      <td>37.0</td>\n",
       "    </tr>\n",
       "    <tr>\n",
       "      <th>PACIFIC</th>\n",
       "      <td>12.5</td>\n",
       "      <td>37.5</td>\n",
       "      <td>21.9</td>\n",
       "      <td>28.1</td>\n",
       "    </tr>\n",
       "    <tr>\n",
       "      <th>PEND OREILLE</th>\n",
       "      <td>0.0</td>\n",
       "      <td>40.0</td>\n",
       "      <td>10.0</td>\n",
       "      <td>50.0</td>\n",
       "    </tr>\n",
       "    <tr>\n",
       "      <th>PIERCE</th>\n",
       "      <td>29.2</td>\n",
       "      <td>19.5</td>\n",
       "      <td>18.5</td>\n",
       "      <td>32.7</td>\n",
       "    </tr>\n",
       "    <tr>\n",
       "      <th>SAN JUAN</th>\n",
       "      <td>0.0</td>\n",
       "      <td>33.3</td>\n",
       "      <td>0.0</td>\n",
       "      <td>66.7</td>\n",
       "    </tr>\n",
       "    <tr>\n",
       "      <th>SKAGIT</th>\n",
       "      <td>22.5</td>\n",
       "      <td>23.3</td>\n",
       "      <td>20.2</td>\n",
       "      <td>34.1</td>\n",
       "    </tr>\n",
       "    <tr>\n",
       "      <th>SKAMANIA</th>\n",
       "      <td>0.0</td>\n",
       "      <td>12.5</td>\n",
       "      <td>37.5</td>\n",
       "      <td>50.0</td>\n",
       "    </tr>\n",
       "    <tr>\n",
       "      <th>SNOHOMISH</th>\n",
       "      <td>19.3</td>\n",
       "      <td>24.3</td>\n",
       "      <td>19.6</td>\n",
       "      <td>36.8</td>\n",
       "    </tr>\n",
       "    <tr>\n",
       "      <th>SPOKANE</th>\n",
       "      <td>28.8</td>\n",
       "      <td>19.1</td>\n",
       "      <td>17.9</td>\n",
       "      <td>34.2</td>\n",
       "    </tr>\n",
       "    <tr>\n",
       "      <th>STEVENS</th>\n",
       "      <td>34.4</td>\n",
       "      <td>15.6</td>\n",
       "      <td>15.6</td>\n",
       "      <td>34.4</td>\n",
       "    </tr>\n",
       "    <tr>\n",
       "      <th>THURSTON</th>\n",
       "      <td>33.0</td>\n",
       "      <td>22.5</td>\n",
       "      <td>17.0</td>\n",
       "      <td>27.5</td>\n",
       "    </tr>\n",
       "    <tr>\n",
       "      <th>WAHKIAKUM</th>\n",
       "      <td>0.0</td>\n",
       "      <td>50.0</td>\n",
       "      <td>50.0</td>\n",
       "      <td>0.0</td>\n",
       "    </tr>\n",
       "    <tr>\n",
       "      <th>WALLA WALLA</th>\n",
       "      <td>24.1</td>\n",
       "      <td>14.5</td>\n",
       "      <td>19.3</td>\n",
       "      <td>42.2</td>\n",
       "    </tr>\n",
       "    <tr>\n",
       "      <th>WHATCOM</th>\n",
       "      <td>23.0</td>\n",
       "      <td>20.4</td>\n",
       "      <td>14.8</td>\n",
       "      <td>41.8</td>\n",
       "    </tr>\n",
       "    <tr>\n",
       "      <th>WHITMAN</th>\n",
       "      <td>15.4</td>\n",
       "      <td>38.5</td>\n",
       "      <td>15.4</td>\n",
       "      <td>30.8</td>\n",
       "    </tr>\n",
       "    <tr>\n",
       "      <th>YAKIMA</th>\n",
       "      <td>21.5</td>\n",
       "      <td>12.0</td>\n",
       "      <td>24.1</td>\n",
       "      <td>42.3</td>\n",
       "    </tr>\n",
       "  </tbody>\n",
       "</table>\n",
       "</div>"
      ],
      "text/plain": [
       "gc_cat_label  1-Septicemia  2-Heart failure  3-Ill-defined cancer  \\\n",
       "dcounty                                                             \n",
       "ADAMS                 25.0             12.5                  12.5   \n",
       "ASOTIN                25.9             33.3                  14.8   \n",
       "BENTON                31.6             11.7                  20.4   \n",
       "CHELAN                16.2             17.9                  31.6   \n",
       "CLALLAM               20.7             25.0                  18.5   \n",
       "CLARK                 22.2             20.7                  25.6   \n",
       "COLUMBIA               0.0              0.0                  20.0   \n",
       "COWLITZ               32.7             27.4                  20.2   \n",
       "DOUGLAS                8.3             29.2                  50.0   \n",
       "FERRY                  0.0              0.0                   0.0   \n",
       "FRANKLIN              15.8             47.4                   5.3   \n",
       "GARFIELD               0.0              0.0                   0.0   \n",
       "GRANT                 17.7             21.0                  14.5   \n",
       "GRAYS HARBOR          15.2             27.3                  22.7   \n",
       "ISLAND                 9.8             16.4                  21.3   \n",
       "JEFFERSON             18.2             18.2                  45.5   \n",
       "KING                  23.8             22.3                  21.2   \n",
       "KITSAP                25.9             22.8                  18.6   \n",
       "KITTITAS               4.2             16.7                  20.8   \n",
       "KLICKITAT             10.0             20.0                  30.0   \n",
       "LEWIS                 20.0             22.5                  23.3   \n",
       "LINCOLN               33.3             33.3                  33.3   \n",
       "MASON                  8.8             14.0                  12.3   \n",
       "OKANOGAN               7.4             14.8                  40.7   \n",
       "PACIFIC               12.5             37.5                  21.9   \n",
       "PEND OREILLE           0.0             40.0                  10.0   \n",
       "PIERCE                29.2             19.5                  18.5   \n",
       "SAN JUAN               0.0             33.3                   0.0   \n",
       "SKAGIT                22.5             23.3                  20.2   \n",
       "SKAMANIA               0.0             12.5                  37.5   \n",
       "SNOHOMISH             19.3             24.3                  19.6   \n",
       "SPOKANE               28.8             19.1                  17.9   \n",
       "STEVENS               34.4             15.6                  15.6   \n",
       "THURSTON              33.0             22.5                  17.0   \n",
       "WAHKIAKUM              0.0             50.0                  50.0   \n",
       "WALLA WALLA           24.1             14.5                  19.3   \n",
       "WHATCOM               23.0             20.4                  14.8   \n",
       "WHITMAN               15.4             38.5                  15.4   \n",
       "YAKIMA                21.5             12.0                  24.1   \n",
       "\n",
       "gc_cat_label  6-Ill-defined cardiovascular  \n",
       "dcounty                                     \n",
       "ADAMS                                 50.0  \n",
       "ASOTIN                                25.9  \n",
       "BENTON                                36.4  \n",
       "CHELAN                                34.2  \n",
       "CLALLAM                               35.9  \n",
       "CLARK                                 31.6  \n",
       "COLUMBIA                              80.0  \n",
       "COWLITZ                               19.6  \n",
       "DOUGLAS                               12.5  \n",
       "FERRY                                100.0  \n",
       "FRANKLIN                              31.6  \n",
       "GARFIELD                             100.0  \n",
       "GRANT                                 46.8  \n",
       "GRAYS HARBOR                          34.8  \n",
       "ISLAND                                52.5  \n",
       "JEFFERSON                             18.2  \n",
       "KING                                  32.7  \n",
       "KITSAP                                32.7  \n",
       "KITTITAS                              58.3  \n",
       "KLICKITAT                             40.0  \n",
       "LEWIS                                 34.2  \n",
       "LINCOLN                                0.0  \n",
       "MASON                                 64.9  \n",
       "OKANOGAN                              37.0  \n",
       "PACIFIC                               28.1  \n",
       "PEND OREILLE                          50.0  \n",
       "PIERCE                                32.7  \n",
       "SAN JUAN                              66.7  \n",
       "SKAGIT                                34.1  \n",
       "SKAMANIA                              50.0  \n",
       "SNOHOMISH                             36.8  \n",
       "SPOKANE                               34.2  \n",
       "STEVENS                               34.4  \n",
       "THURSTON                              27.5  \n",
       "WAHKIAKUM                              0.0  \n",
       "WALLA WALLA                           42.2  \n",
       "WHATCOM                               41.8  \n",
       "WHITMAN                               30.8  \n",
       "YAKIMA                                42.3  "
      ]
     },
     "execution_count": 35,
     "metadata": {},
     "output_type": "execute_result"
    }
   ],
   "source": [
    "# Distribution of GC categories by county - row percentages\n",
    "pd.crosstab(ds['dcounty'], ds['gc_cat_label'], normalize='index').round(3)*100"
   ]
  },
  {
   "cell_type": "code",
   "execution_count": 36,
   "metadata": {},
   "outputs": [
    {
     "data": {
      "text/html": [
       "<div>\n",
       "<style scoped>\n",
       "    .dataframe tbody tr th:only-of-type {\n",
       "        vertical-align: middle;\n",
       "    }\n",
       "\n",
       "    .dataframe tbody tr th {\n",
       "        vertical-align: top;\n",
       "    }\n",
       "\n",
       "    .dataframe thead th {\n",
       "        text-align: right;\n",
       "    }\n",
       "</style>\n",
       "<table border=\"1\" class=\"dataframe\">\n",
       "  <thead>\n",
       "    <tr style=\"text-align: right;\">\n",
       "      <th>gc_cat_label</th>\n",
       "      <th>1-Septicemia</th>\n",
       "      <th>2-Heart failure</th>\n",
       "      <th>3-Ill-defined cancer</th>\n",
       "      <th>6-Ill-defined cardiovascular</th>\n",
       "    </tr>\n",
       "    <tr>\n",
       "      <th>dcounty</th>\n",
       "      <th></th>\n",
       "      <th></th>\n",
       "      <th></th>\n",
       "      <th></th>\n",
       "    </tr>\n",
       "  </thead>\n",
       "  <tbody>\n",
       "    <tr>\n",
       "      <th>ADAMS</th>\n",
       "      <td>2</td>\n",
       "      <td>1</td>\n",
       "      <td>1</td>\n",
       "      <td>4</td>\n",
       "    </tr>\n",
       "    <tr>\n",
       "      <th>ASOTIN</th>\n",
       "      <td>7</td>\n",
       "      <td>9</td>\n",
       "      <td>4</td>\n",
       "      <td>7</td>\n",
       "    </tr>\n",
       "    <tr>\n",
       "      <th>BENTON</th>\n",
       "      <td>65</td>\n",
       "      <td>24</td>\n",
       "      <td>42</td>\n",
       "      <td>75</td>\n",
       "    </tr>\n",
       "    <tr>\n",
       "      <th>CHELAN</th>\n",
       "      <td>19</td>\n",
       "      <td>21</td>\n",
       "      <td>37</td>\n",
       "      <td>40</td>\n",
       "    </tr>\n",
       "    <tr>\n",
       "      <th>CLALLAM</th>\n",
       "      <td>19</td>\n",
       "      <td>23</td>\n",
       "      <td>17</td>\n",
       "      <td>33</td>\n",
       "    </tr>\n",
       "    <tr>\n",
       "      <th>CLARK</th>\n",
       "      <td>104</td>\n",
       "      <td>97</td>\n",
       "      <td>120</td>\n",
       "      <td>148</td>\n",
       "    </tr>\n",
       "    <tr>\n",
       "      <th>COLUMBIA</th>\n",
       "      <td>0</td>\n",
       "      <td>0</td>\n",
       "      <td>1</td>\n",
       "      <td>4</td>\n",
       "    </tr>\n",
       "    <tr>\n",
       "      <th>COWLITZ</th>\n",
       "      <td>55</td>\n",
       "      <td>46</td>\n",
       "      <td>34</td>\n",
       "      <td>33</td>\n",
       "    </tr>\n",
       "    <tr>\n",
       "      <th>DOUGLAS</th>\n",
       "      <td>2</td>\n",
       "      <td>7</td>\n",
       "      <td>12</td>\n",
       "      <td>3</td>\n",
       "    </tr>\n",
       "    <tr>\n",
       "      <th>FERRY</th>\n",
       "      <td>0</td>\n",
       "      <td>0</td>\n",
       "      <td>0</td>\n",
       "      <td>3</td>\n",
       "    </tr>\n",
       "    <tr>\n",
       "      <th>FRANKLIN</th>\n",
       "      <td>3</td>\n",
       "      <td>9</td>\n",
       "      <td>1</td>\n",
       "      <td>6</td>\n",
       "    </tr>\n",
       "    <tr>\n",
       "      <th>GARFIELD</th>\n",
       "      <td>0</td>\n",
       "      <td>0</td>\n",
       "      <td>0</td>\n",
       "      <td>1</td>\n",
       "    </tr>\n",
       "    <tr>\n",
       "      <th>GRANT</th>\n",
       "      <td>11</td>\n",
       "      <td>13</td>\n",
       "      <td>9</td>\n",
       "      <td>29</td>\n",
       "    </tr>\n",
       "    <tr>\n",
       "      <th>GRAYS HARBOR</th>\n",
       "      <td>10</td>\n",
       "      <td>18</td>\n",
       "      <td>15</td>\n",
       "      <td>23</td>\n",
       "    </tr>\n",
       "    <tr>\n",
       "      <th>ISLAND</th>\n",
       "      <td>6</td>\n",
       "      <td>10</td>\n",
       "      <td>13</td>\n",
       "      <td>32</td>\n",
       "    </tr>\n",
       "    <tr>\n",
       "      <th>JEFFERSON</th>\n",
       "      <td>4</td>\n",
       "      <td>4</td>\n",
       "      <td>10</td>\n",
       "      <td>4</td>\n",
       "    </tr>\n",
       "    <tr>\n",
       "      <th>KING</th>\n",
       "      <td>434</td>\n",
       "      <td>406</td>\n",
       "      <td>385</td>\n",
       "      <td>595</td>\n",
       "    </tr>\n",
       "    <tr>\n",
       "      <th>KITSAP</th>\n",
       "      <td>68</td>\n",
       "      <td>60</td>\n",
       "      <td>49</td>\n",
       "      <td>86</td>\n",
       "    </tr>\n",
       "    <tr>\n",
       "      <th>KITTITAS</th>\n",
       "      <td>1</td>\n",
       "      <td>4</td>\n",
       "      <td>5</td>\n",
       "      <td>14</td>\n",
       "    </tr>\n",
       "    <tr>\n",
       "      <th>KLICKITAT</th>\n",
       "      <td>1</td>\n",
       "      <td>2</td>\n",
       "      <td>3</td>\n",
       "      <td>4</td>\n",
       "    </tr>\n",
       "    <tr>\n",
       "      <th>LEWIS</th>\n",
       "      <td>24</td>\n",
       "      <td>27</td>\n",
       "      <td>28</td>\n",
       "      <td>41</td>\n",
       "    </tr>\n",
       "    <tr>\n",
       "      <th>LINCOLN</th>\n",
       "      <td>1</td>\n",
       "      <td>1</td>\n",
       "      <td>1</td>\n",
       "      <td>0</td>\n",
       "    </tr>\n",
       "    <tr>\n",
       "      <th>MASON</th>\n",
       "      <td>5</td>\n",
       "      <td>8</td>\n",
       "      <td>7</td>\n",
       "      <td>37</td>\n",
       "    </tr>\n",
       "    <tr>\n",
       "      <th>OKANOGAN</th>\n",
       "      <td>2</td>\n",
       "      <td>4</td>\n",
       "      <td>11</td>\n",
       "      <td>10</td>\n",
       "    </tr>\n",
       "    <tr>\n",
       "      <th>PACIFIC</th>\n",
       "      <td>4</td>\n",
       "      <td>12</td>\n",
       "      <td>7</td>\n",
       "      <td>9</td>\n",
       "    </tr>\n",
       "    <tr>\n",
       "      <th>PEND OREILLE</th>\n",
       "      <td>0</td>\n",
       "      <td>4</td>\n",
       "      <td>1</td>\n",
       "      <td>5</td>\n",
       "    </tr>\n",
       "    <tr>\n",
       "      <th>PIERCE</th>\n",
       "      <td>309</td>\n",
       "      <td>206</td>\n",
       "      <td>196</td>\n",
       "      <td>346</td>\n",
       "    </tr>\n",
       "    <tr>\n",
       "      <th>SAN JUAN</th>\n",
       "      <td>0</td>\n",
       "      <td>3</td>\n",
       "      <td>0</td>\n",
       "      <td>6</td>\n",
       "    </tr>\n",
       "    <tr>\n",
       "      <th>SKAGIT</th>\n",
       "      <td>29</td>\n",
       "      <td>30</td>\n",
       "      <td>26</td>\n",
       "      <td>44</td>\n",
       "    </tr>\n",
       "    <tr>\n",
       "      <th>SKAMANIA</th>\n",
       "      <td>0</td>\n",
       "      <td>1</td>\n",
       "      <td>3</td>\n",
       "      <td>4</td>\n",
       "    </tr>\n",
       "    <tr>\n",
       "      <th>SNOHOMISH</th>\n",
       "      <td>133</td>\n",
       "      <td>167</td>\n",
       "      <td>135</td>\n",
       "      <td>253</td>\n",
       "    </tr>\n",
       "    <tr>\n",
       "      <th>SPOKANE</th>\n",
       "      <td>171</td>\n",
       "      <td>113</td>\n",
       "      <td>106</td>\n",
       "      <td>203</td>\n",
       "    </tr>\n",
       "    <tr>\n",
       "      <th>STEVENS</th>\n",
       "      <td>11</td>\n",
       "      <td>5</td>\n",
       "      <td>5</td>\n",
       "      <td>11</td>\n",
       "    </tr>\n",
       "    <tr>\n",
       "      <th>THURSTON</th>\n",
       "      <td>107</td>\n",
       "      <td>73</td>\n",
       "      <td>55</td>\n",
       "      <td>89</td>\n",
       "    </tr>\n",
       "    <tr>\n",
       "      <th>WAHKIAKUM</th>\n",
       "      <td>0</td>\n",
       "      <td>1</td>\n",
       "      <td>1</td>\n",
       "      <td>0</td>\n",
       "    </tr>\n",
       "    <tr>\n",
       "      <th>WALLA WALLA</th>\n",
       "      <td>20</td>\n",
       "      <td>12</td>\n",
       "      <td>16</td>\n",
       "      <td>35</td>\n",
       "    </tr>\n",
       "    <tr>\n",
       "      <th>WHATCOM</th>\n",
       "      <td>45</td>\n",
       "      <td>40</td>\n",
       "      <td>29</td>\n",
       "      <td>82</td>\n",
       "    </tr>\n",
       "    <tr>\n",
       "      <th>WHITMAN</th>\n",
       "      <td>2</td>\n",
       "      <td>5</td>\n",
       "      <td>2</td>\n",
       "      <td>4</td>\n",
       "    </tr>\n",
       "    <tr>\n",
       "      <th>YAKIMA</th>\n",
       "      <td>59</td>\n",
       "      <td>33</td>\n",
       "      <td>66</td>\n",
       "      <td>116</td>\n",
       "    </tr>\n",
       "  </tbody>\n",
       "</table>\n",
       "</div>"
      ],
      "text/plain": [
       "gc_cat_label  1-Septicemia  2-Heart failure  3-Ill-defined cancer  \\\n",
       "dcounty                                                             \n",
       "ADAMS                    2                1                     1   \n",
       "ASOTIN                   7                9                     4   \n",
       "BENTON                  65               24                    42   \n",
       "CHELAN                  19               21                    37   \n",
       "CLALLAM                 19               23                    17   \n",
       "CLARK                  104               97                   120   \n",
       "COLUMBIA                 0                0                     1   \n",
       "COWLITZ                 55               46                    34   \n",
       "DOUGLAS                  2                7                    12   \n",
       "FERRY                    0                0                     0   \n",
       "FRANKLIN                 3                9                     1   \n",
       "GARFIELD                 0                0                     0   \n",
       "GRANT                   11               13                     9   \n",
       "GRAYS HARBOR            10               18                    15   \n",
       "ISLAND                   6               10                    13   \n",
       "JEFFERSON                4                4                    10   \n",
       "KING                   434              406                   385   \n",
       "KITSAP                  68               60                    49   \n",
       "KITTITAS                 1                4                     5   \n",
       "KLICKITAT                1                2                     3   \n",
       "LEWIS                   24               27                    28   \n",
       "LINCOLN                  1                1                     1   \n",
       "MASON                    5                8                     7   \n",
       "OKANOGAN                 2                4                    11   \n",
       "PACIFIC                  4               12                     7   \n",
       "PEND OREILLE             0                4                     1   \n",
       "PIERCE                 309              206                   196   \n",
       "SAN JUAN                 0                3                     0   \n",
       "SKAGIT                  29               30                    26   \n",
       "SKAMANIA                 0                1                     3   \n",
       "SNOHOMISH              133              167                   135   \n",
       "SPOKANE                171              113                   106   \n",
       "STEVENS                 11                5                     5   \n",
       "THURSTON               107               73                    55   \n",
       "WAHKIAKUM                0                1                     1   \n",
       "WALLA WALLA             20               12                    16   \n",
       "WHATCOM                 45               40                    29   \n",
       "WHITMAN                  2                5                     2   \n",
       "YAKIMA                  59               33                    66   \n",
       "\n",
       "gc_cat_label  6-Ill-defined cardiovascular  \n",
       "dcounty                                     \n",
       "ADAMS                                    4  \n",
       "ASOTIN                                   7  \n",
       "BENTON                                  75  \n",
       "CHELAN                                  40  \n",
       "CLALLAM                                 33  \n",
       "CLARK                                  148  \n",
       "COLUMBIA                                 4  \n",
       "COWLITZ                                 33  \n",
       "DOUGLAS                                  3  \n",
       "FERRY                                    3  \n",
       "FRANKLIN                                 6  \n",
       "GARFIELD                                 1  \n",
       "GRANT                                   29  \n",
       "GRAYS HARBOR                            23  \n",
       "ISLAND                                  32  \n",
       "JEFFERSON                                4  \n",
       "KING                                   595  \n",
       "KITSAP                                  86  \n",
       "KITTITAS                                14  \n",
       "KLICKITAT                                4  \n",
       "LEWIS                                   41  \n",
       "LINCOLN                                  0  \n",
       "MASON                                   37  \n",
       "OKANOGAN                                10  \n",
       "PACIFIC                                  9  \n",
       "PEND OREILLE                             5  \n",
       "PIERCE                                 346  \n",
       "SAN JUAN                                 6  \n",
       "SKAGIT                                  44  \n",
       "SKAMANIA                                 4  \n",
       "SNOHOMISH                              253  \n",
       "SPOKANE                                203  \n",
       "STEVENS                                 11  \n",
       "THURSTON                                89  \n",
       "WAHKIAKUM                                0  \n",
       "WALLA WALLA                             35  \n",
       "WHATCOM                                 82  \n",
       "WHITMAN                                  4  \n",
       "YAKIMA                                 116  "
      ]
     },
     "execution_count": 36,
     "metadata": {},
     "output_type": "execute_result"
    }
   ],
   "source": [
    "# Distribution of GC categories by county - counts\n",
    "pd.crosstab(ds['dcounty'], ds['gc_cat_label'])"
   ]
  },
  {
   "cell_type": "markdown",
   "metadata": {},
   "source": [
    "The tendency toward assigning an ill-defined cardiovascular disease code or other ill-defined condition code is apparent across most counties."
   ]
  },
  {
   "cell_type": "markdown",
   "metadata": {},
   "source": [
    "**GC category by medical certifier types**"
   ]
  },
  {
   "cell_type": "code",
   "execution_count": 37,
   "metadata": {},
   "outputs": [
    {
     "data": {
      "text/html": [
       "<div>\n",
       "<style scoped>\n",
       "    .dataframe tbody tr th:only-of-type {\n",
       "        vertical-align: middle;\n",
       "    }\n",
       "\n",
       "    .dataframe tbody tr th {\n",
       "        vertical-align: top;\n",
       "    }\n",
       "\n",
       "    .dataframe thead th {\n",
       "        text-align: right;\n",
       "    }\n",
       "</style>\n",
       "<table border=\"1\" class=\"dataframe\">\n",
       "  <thead>\n",
       "    <tr style=\"text-align: right;\">\n",
       "      <th>cert_label</th>\n",
       "      <th>1-Physician</th>\n",
       "      <th>2-ME/Coroner</th>\n",
       "      <th>3-DO</th>\n",
       "      <th>4-Chiropractor</th>\n",
       "      <th>6-PA</th>\n",
       "      <th>7-ARNP</th>\n",
       "      <th>8-NA</th>\n",
       "      <th>9-Unknown</th>\n",
       "    </tr>\n",
       "    <tr>\n",
       "      <th>Any_garbage_code</th>\n",
       "      <th></th>\n",
       "      <th></th>\n",
       "      <th></th>\n",
       "      <th></th>\n",
       "      <th></th>\n",
       "      <th></th>\n",
       "      <th></th>\n",
       "      <th></th>\n",
       "    </tr>\n",
       "  </thead>\n",
       "  <tbody>\n",
       "    <tr>\n",
       "      <th>No</th>\n",
       "      <td>93.7</td>\n",
       "      <td>92.2</td>\n",
       "      <td>93.2</td>\n",
       "      <td>100.0</td>\n",
       "      <td>90.6</td>\n",
       "      <td>93.6</td>\n",
       "      <td>100.0</td>\n",
       "      <td>93.7</td>\n",
       "    </tr>\n",
       "    <tr>\n",
       "      <th>Yes</th>\n",
       "      <td>6.3</td>\n",
       "      <td>7.8</td>\n",
       "      <td>6.8</td>\n",
       "      <td>0.0</td>\n",
       "      <td>9.4</td>\n",
       "      <td>6.4</td>\n",
       "      <td>0.0</td>\n",
       "      <td>6.3</td>\n",
       "    </tr>\n",
       "  </tbody>\n",
       "</table>\n",
       "</div>"
      ],
      "text/plain": [
       "cert_label        1-Physician  2-ME/Coroner  3-DO  4-Chiropractor  6-PA  \\\n",
       "Any_garbage_code                                                          \n",
       "No                       93.7          92.2  93.2           100.0  90.6   \n",
       "Yes                       6.3           7.8   6.8             0.0   9.4   \n",
       "\n",
       "cert_label        7-ARNP   8-NA  9-Unknown  \n",
       "Any_garbage_code                            \n",
       "No                  93.6  100.0       93.7  \n",
       "Yes                  6.4    0.0        6.3  "
      ]
     },
     "execution_count": 37,
     "metadata": {},
     "output_type": "execute_result"
    }
   ],
   "source": [
    "pd.crosstab(d.Any_garbage_code, d.cert_label, normalize='columns').round(3)*100"
   ]
  },
  {
   "cell_type": "code",
   "execution_count": 38,
   "metadata": {},
   "outputs": [
    {
     "data": {
      "text/html": [
       "<div>\n",
       "<style scoped>\n",
       "    .dataframe tbody tr th:only-of-type {\n",
       "        vertical-align: middle;\n",
       "    }\n",
       "\n",
       "    .dataframe tbody tr th {\n",
       "        vertical-align: top;\n",
       "    }\n",
       "\n",
       "    .dataframe thead th {\n",
       "        text-align: right;\n",
       "    }\n",
       "</style>\n",
       "<table border=\"1\" class=\"dataframe\">\n",
       "  <thead>\n",
       "    <tr style=\"text-align: right;\">\n",
       "      <th>cert_label</th>\n",
       "      <th>1-Physician</th>\n",
       "      <th>2-ME/Coroner</th>\n",
       "      <th>3-DO</th>\n",
       "      <th>4-Chiropractor</th>\n",
       "      <th>6-PA</th>\n",
       "      <th>7-ARNP</th>\n",
       "      <th>8-NA</th>\n",
       "      <th>9-Unknown</th>\n",
       "    </tr>\n",
       "    <tr>\n",
       "      <th>Any_garbage_code</th>\n",
       "      <th></th>\n",
       "      <th></th>\n",
       "      <th></th>\n",
       "      <th></th>\n",
       "      <th></th>\n",
       "      <th></th>\n",
       "      <th></th>\n",
       "      <th></th>\n",
       "    </tr>\n",
       "  </thead>\n",
       "  <tbody>\n",
       "    <tr>\n",
       "      <th>No</th>\n",
       "      <td>140928</td>\n",
       "      <td>32324</td>\n",
       "      <td>10924</td>\n",
       "      <td>3</td>\n",
       "      <td>4074</td>\n",
       "      <td>22146</td>\n",
       "      <td>2</td>\n",
       "      <td>1523</td>\n",
       "    </tr>\n",
       "    <tr>\n",
       "      <th>Yes</th>\n",
       "      <td>9479</td>\n",
       "      <td>2749</td>\n",
       "      <td>800</td>\n",
       "      <td>0</td>\n",
       "      <td>421</td>\n",
       "      <td>1522</td>\n",
       "      <td>0</td>\n",
       "      <td>102</td>\n",
       "    </tr>\n",
       "  </tbody>\n",
       "</table>\n",
       "</div>"
      ],
      "text/plain": [
       "cert_label        1-Physician  2-ME/Coroner   3-DO  4-Chiropractor  6-PA  \\\n",
       "Any_garbage_code                                                           \n",
       "No                     140928         32324  10924               3  4074   \n",
       "Yes                      9479          2749    800               0   421   \n",
       "\n",
       "cert_label        7-ARNP  8-NA  9-Unknown  \n",
       "Any_garbage_code                           \n",
       "No                 22146     2       1523  \n",
       "Yes                 1522     0        102  "
      ]
     },
     "execution_count": 38,
     "metadata": {},
     "output_type": "execute_result"
    }
   ],
   "source": [
    "pd.crosstab(d.Any_garbage_code, d.cert_label)"
   ]
  },
  {
   "cell_type": "code",
   "execution_count": 39,
   "metadata": {},
   "outputs": [
    {
     "data": {
      "text/html": [
       "<div>\n",
       "<style scoped>\n",
       "    .dataframe tbody tr th:only-of-type {\n",
       "        vertical-align: middle;\n",
       "    }\n",
       "\n",
       "    .dataframe tbody tr th {\n",
       "        vertical-align: top;\n",
       "    }\n",
       "\n",
       "    .dataframe thead th {\n",
       "        text-align: right;\n",
       "    }\n",
       "</style>\n",
       "<table border=\"1\" class=\"dataframe\">\n",
       "  <thead>\n",
       "    <tr style=\"text-align: right;\">\n",
       "      <th>gc_cat_label</th>\n",
       "      <th>1-Septicemia</th>\n",
       "      <th>2-Heart failure</th>\n",
       "      <th>3-Ill-defined cancer</th>\n",
       "      <th>6-Ill-defined cardiovascular</th>\n",
       "    </tr>\n",
       "    <tr>\n",
       "      <th>cert_label</th>\n",
       "      <th></th>\n",
       "      <th></th>\n",
       "      <th></th>\n",
       "      <th></th>\n",
       "    </tr>\n",
       "  </thead>\n",
       "  <tbody>\n",
       "    <tr>\n",
       "      <th>1-Physician</th>\n",
       "      <td>79.1</td>\n",
       "      <td>70.6</td>\n",
       "      <td>75.4</td>\n",
       "      <td>64.2</td>\n",
       "    </tr>\n",
       "    <tr>\n",
       "      <th>2-ME/Coroner</th>\n",
       "      <td>3.1</td>\n",
       "      <td>4.3</td>\n",
       "      <td>2.3</td>\n",
       "      <td>15.5</td>\n",
       "    </tr>\n",
       "    <tr>\n",
       "      <th>3-DO</th>\n",
       "      <td>6.6</td>\n",
       "      <td>6.9</td>\n",
       "      <td>6.6</td>\n",
       "      <td>5.6</td>\n",
       "    </tr>\n",
       "    <tr>\n",
       "      <th>6-PA</th>\n",
       "      <td>2.7</td>\n",
       "      <td>3.7</td>\n",
       "      <td>2.8</td>\n",
       "      <td>2.9</td>\n",
       "    </tr>\n",
       "    <tr>\n",
       "      <th>7-ARNP</th>\n",
       "      <td>7.6</td>\n",
       "      <td>13.4</td>\n",
       "      <td>12.7</td>\n",
       "      <td>11.2</td>\n",
       "    </tr>\n",
       "    <tr>\n",
       "      <th>9-Unknown</th>\n",
       "      <td>0.9</td>\n",
       "      <td>1.0</td>\n",
       "      <td>0.3</td>\n",
       "      <td>0.6</td>\n",
       "    </tr>\n",
       "  </tbody>\n",
       "</table>\n",
       "</div>"
      ],
      "text/plain": [
       "gc_cat_label  1-Septicemia  2-Heart failure  3-Ill-defined cancer  \\\n",
       "cert_label                                                          \n",
       "1-Physician           79.1             70.6                  75.4   \n",
       "2-ME/Coroner           3.1              4.3                   2.3   \n",
       "3-DO                   6.6              6.9                   6.6   \n",
       "6-PA                   2.7              3.7                   2.8   \n",
       "7-ARNP                 7.6             13.4                  12.7   \n",
       "9-Unknown              0.9              1.0                   0.3   \n",
       "\n",
       "gc_cat_label  6-Ill-defined cardiovascular  \n",
       "cert_label                                  \n",
       "1-Physician                           64.2  \n",
       "2-ME/Coroner                          15.5  \n",
       "3-DO                                   5.6  \n",
       "6-PA                                   2.9  \n",
       "7-ARNP                                11.2  \n",
       "9-Unknown                              0.6  "
      ]
     },
     "execution_count": 39,
     "metadata": {},
     "output_type": "execute_result"
    }
   ],
   "source": [
    "#GC category by medical certifier type - column percentages\n",
    "pd.crosstab(ds['cert_label'],ds['gc_cat_label'], normalize=\"columns\").round(3)*100"
   ]
  },
  {
   "cell_type": "code",
   "execution_count": 40,
   "metadata": {},
   "outputs": [
    {
     "data": {
      "text/html": [
       "<div>\n",
       "<style scoped>\n",
       "    .dataframe tbody tr th:only-of-type {\n",
       "        vertical-align: middle;\n",
       "    }\n",
       "\n",
       "    .dataframe tbody tr th {\n",
       "        vertical-align: top;\n",
       "    }\n",
       "\n",
       "    .dataframe thead th {\n",
       "        text-align: right;\n",
       "    }\n",
       "</style>\n",
       "<table border=\"1\" class=\"dataframe\">\n",
       "  <thead>\n",
       "    <tr style=\"text-align: right;\">\n",
       "      <th>gc_cat_label</th>\n",
       "      <th>1-Septicemia</th>\n",
       "      <th>2-Heart failure</th>\n",
       "      <th>3-Ill-defined cancer</th>\n",
       "      <th>6-Ill-defined cardiovascular</th>\n",
       "    </tr>\n",
       "    <tr>\n",
       "      <th>cert_label</th>\n",
       "      <th></th>\n",
       "      <th></th>\n",
       "      <th></th>\n",
       "      <th></th>\n",
       "    </tr>\n",
       "  </thead>\n",
       "  <tbody>\n",
       "    <tr>\n",
       "      <th>1-Physician</th>\n",
       "      <td>1371</td>\n",
       "      <td>1059</td>\n",
       "      <td>1095</td>\n",
       "      <td>1566</td>\n",
       "    </tr>\n",
       "    <tr>\n",
       "      <th>2-ME/Coroner</th>\n",
       "      <td>53</td>\n",
       "      <td>64</td>\n",
       "      <td>33</td>\n",
       "      <td>379</td>\n",
       "    </tr>\n",
       "    <tr>\n",
       "      <th>3-DO</th>\n",
       "      <td>115</td>\n",
       "      <td>104</td>\n",
       "      <td>96</td>\n",
       "      <td>136</td>\n",
       "    </tr>\n",
       "    <tr>\n",
       "      <th>6-PA</th>\n",
       "      <td>47</td>\n",
       "      <td>56</td>\n",
       "      <td>40</td>\n",
       "      <td>71</td>\n",
       "    </tr>\n",
       "    <tr>\n",
       "      <th>7-ARNP</th>\n",
       "      <td>132</td>\n",
       "      <td>201</td>\n",
       "      <td>184</td>\n",
       "      <td>272</td>\n",
       "    </tr>\n",
       "    <tr>\n",
       "      <th>9-Unknown</th>\n",
       "      <td>15</td>\n",
       "      <td>15</td>\n",
       "      <td>5</td>\n",
       "      <td>15</td>\n",
       "    </tr>\n",
       "  </tbody>\n",
       "</table>\n",
       "</div>"
      ],
      "text/plain": [
       "gc_cat_label  1-Septicemia  2-Heart failure  3-Ill-defined cancer  \\\n",
       "cert_label                                                          \n",
       "1-Physician           1371             1059                  1095   \n",
       "2-ME/Coroner            53               64                    33   \n",
       "3-DO                   115              104                    96   \n",
       "6-PA                    47               56                    40   \n",
       "7-ARNP                 132              201                   184   \n",
       "9-Unknown               15               15                     5   \n",
       "\n",
       "gc_cat_label  6-Ill-defined cardiovascular  \n",
       "cert_label                                  \n",
       "1-Physician                           1566  \n",
       "2-ME/Coroner                           379  \n",
       "3-DO                                   136  \n",
       "6-PA                                    71  \n",
       "7-ARNP                                 272  \n",
       "9-Unknown                               15  "
      ]
     },
     "execution_count": 40,
     "metadata": {},
     "output_type": "execute_result"
    }
   ],
   "source": [
    "pd.crosstab(ds['cert_label'],ds['gc_cat_label'])"
   ]
  },
  {
   "cell_type": "markdown",
   "metadata": {},
   "source": [
    "As a percentage of their own group, physician's assistants (PAs) generated the highest proportion of garbage codes compared with other certifier types.  While almost 9.5% of death records certified by PAs had garbage codes as underlying causes 6.3% of records certified by physicians and 6.4% of nurse practitioners (ARNPs) suffered the same problem.\n",
    "\n",
    "As physicians are the largest group of cause of death certifiers, it is no surprise that the largest proportion of most GC categories are attributable to them. One exception is other ill-defined conditions. Medical examiners and coroners contribute the most to this type of GC underlying cause code.\n",
    "<br> \n",
    "<br> "
   ]
  },
  {
   "cell_type": "markdown",
   "metadata": {},
   "source": [
    "**BAG OF WORDS ANALYSIS**"
   ]
  },
  {
   "cell_type": "markdown",
   "metadata": {},
   "source": [
    "As stated in the introduction, I chose to use ICD-10 codes for natural language processing (NLP) rather than the cause of death literal text because of the inherent advantages the coding system presents. The rest of this section examines the frequency of various cause of death codes in multiple cause 1 through multiple cause 20 fields.\n",
    "<br> \n",
    "<br>"
   ]
  },
  {
   "cell_type": "code",
   "execution_count": 41,
   "metadata": {},
   "outputs": [
    {
     "data": {
      "text/plain": [
       "7124"
      ]
     },
     "execution_count": 41,
     "metadata": {},
     "output_type": "execute_result"
    }
   ],
   "source": [
    "len(ds)"
   ]
  },
  {
   "cell_type": "markdown",
   "metadata": {},
   "source": [
    "The data set is further reduced to 7,24 records after I removed records that had empty cells in the 'clean_mc' variable.  This variable was created by removing all GC codes from both the underlying cause code and all multiple cause codes. This indicates that roughly half of the records with garbage underlying cause codes had no other valid codes in their causes of death."
   ]
  },
  {
   "cell_type": "code",
   "execution_count": 49,
   "metadata": {},
   "outputs": [
    {
     "data": {
      "text/html": [
       "<div>\n",
       "<style scoped>\n",
       "    .dataframe tbody tr th:only-of-type {\n",
       "        vertical-align: middle;\n",
       "    }\n",
       "\n",
       "    .dataframe tbody tr th {\n",
       "        vertical-align: top;\n",
       "    }\n",
       "\n",
       "    .dataframe thead th {\n",
       "        text-align: right;\n",
       "    }\n",
       "</style>\n",
       "<table border=\"1\" class=\"dataframe\">\n",
       "  <thead>\n",
       "    <tr style=\"text-align: right;\">\n",
       "      <th></th>\n",
       "      <th>sfn</th>\n",
       "      <th>sex</th>\n",
       "      <th>dody</th>\n",
       "      <th>dcounty</th>\n",
       "      <th>hispanic</th>\n",
       "      <th>race</th>\n",
       "      <th>agegrp</th>\n",
       "      <th>manner</th>\n",
       "      <th>tobac</th>\n",
       "      <th>pg</th>\n",
       "      <th>gc_cat</th>\n",
       "      <th>gc_cat_label</th>\n",
       "      <th>UCOD</th>\n",
       "      <th>MC2</th>\n",
       "      <th>AllMC</th>\n",
       "      <th>MC2_20</th>\n",
       "      <th>codlit</th>\n",
       "      <th>cert_label</th>\n",
       "      <th>clean_mc</th>\n",
       "      <th>short_mc</th>\n",
       "      <th>clean_mcgc</th>\n",
       "      <th>all_bigrams</th>\n",
       "      <th>mc2_20_short_toks</th>\n",
       "    </tr>\n",
       "  </thead>\n",
       "  <tbody>\n",
       "    <tr>\n",
       "      <th>0</th>\n",
       "      <td>2017025200</td>\n",
       "      <td>F</td>\n",
       "      <td>2017</td>\n",
       "      <td>SNOHOMISH</td>\n",
       "      <td>No</td>\n",
       "      <td>White</td>\n",
       "      <td>80+ yrs</td>\n",
       "      <td>N</td>\n",
       "      <td>No</td>\n",
       "      <td>8.0</td>\n",
       "      <td>2</td>\n",
       "      <td>2-Heart failure</td>\n",
       "      <td>I500</td>\n",
       "      <td>D469</td>\n",
       "      <td>I500 D469 I802 J189 T828 Y831</td>\n",
       "      <td>D469 I802 J189 T828 Y831</td>\n",
       "      <td>CONGESTIVE HEART FAILURE, CAUSE NOT FORMALLY W...</td>\n",
       "      <td>1-Physician</td>\n",
       "      <td>['D469', 'I802', 'J189', 'Y831']</td>\n",
       "      <td>['D46', 'I80', 'J18', 'Y83']</td>\n",
       "      <td>['I50', 'D46', 'I80', 'J18', 'T82', 'Y83']</td>\n",
       "      <td>['D469_I802', 'I802_J189', 'J189_Y831']</td>\n",
       "      <td>['D46', 'I80', 'J18', 'T82', 'Y83']</td>\n",
       "    </tr>\n",
       "    <tr>\n",
       "      <th>1</th>\n",
       "      <td>2018031044</td>\n",
       "      <td>M</td>\n",
       "      <td>2018</td>\n",
       "      <td>PIERCE</td>\n",
       "      <td>No</td>\n",
       "      <td>White</td>\n",
       "      <td>60-69 yrs</td>\n",
       "      <td>N</td>\n",
       "      <td>Unknown</td>\n",
       "      <td>8.0</td>\n",
       "      <td>3</td>\n",
       "      <td>3-Ill-defined cancer</td>\n",
       "      <td>C80</td>\n",
       "      <td>B182</td>\n",
       "      <td>C80 B182 C786 N179</td>\n",
       "      <td>B182 C786 N179</td>\n",
       "      <td>METASTATIC MALIGNANCY WITH PERITONEAL CARCINOM...</td>\n",
       "      <td>7-ARNP</td>\n",
       "      <td>['B182', 'C786', 'N179']</td>\n",
       "      <td>['B18', 'C78', 'N17']</td>\n",
       "      <td>['C80', 'B18', 'C78', 'N17']</td>\n",
       "      <td>['B182_C786', 'C786_N179']</td>\n",
       "      <td>['B18', 'C78', 'N17']</td>\n",
       "    </tr>\n",
       "    <tr>\n",
       "      <th>2</th>\n",
       "      <td>2017019359</td>\n",
       "      <td>F</td>\n",
       "      <td>2017</td>\n",
       "      <td>PIERCE</td>\n",
       "      <td>No</td>\n",
       "      <td>White</td>\n",
       "      <td>80+ yrs</td>\n",
       "      <td>N</td>\n",
       "      <td>Yes/Probably</td>\n",
       "      <td>8.0</td>\n",
       "      <td>2</td>\n",
       "      <td>2-Heart failure</td>\n",
       "      <td>I509</td>\n",
       "      <td>A310</td>\n",
       "      <td>I509 A310 F179 I120 I461 I48 J449 K922 Q600   ...</td>\n",
       "      <td>A310 F179 I120 I461 I48 J449 K922 Q600</td>\n",
       "      <td>SUDDEN CARDIAC DEATH, PROBABLE ARRHYTHMIA ATRI...</td>\n",
       "      <td>1-Physician</td>\n",
       "      <td>['A310', 'I120', 'I48', 'J449', 'K922', 'Q600']</td>\n",
       "      <td>['A31', 'I12', 'I48', 'J44', 'K92', 'Q60']</td>\n",
       "      <td>['I50', 'A31', 'F17', 'I12', 'I46', 'I48', 'J4...</td>\n",
       "      <td>['A310_I120', 'I120_I48', 'I48_J449', 'J449_K9...</td>\n",
       "      <td>['A31', 'F17', 'I12', 'I46', 'I48', 'J44', 'K9...</td>\n",
       "    </tr>\n",
       "    <tr>\n",
       "      <th>3</th>\n",
       "      <td>2017026057</td>\n",
       "      <td>F</td>\n",
       "      <td>2017</td>\n",
       "      <td>CLALLAM</td>\n",
       "      <td>No</td>\n",
       "      <td>White</td>\n",
       "      <td>80+ yrs</td>\n",
       "      <td>N</td>\n",
       "      <td>No</td>\n",
       "      <td>8.0</td>\n",
       "      <td>2</td>\n",
       "      <td>2-Heart failure</td>\n",
       "      <td>I500</td>\n",
       "      <td>F03</td>\n",
       "      <td>I500 F03 J189</td>\n",
       "      <td>F03 J189</td>\n",
       "      <td>PNEUMONIA SYSTOLIC CONGESTIVE HEART FAILURE   ...</td>\n",
       "      <td>1-Physician</td>\n",
       "      <td>['F03', 'J189']</td>\n",
       "      <td>['F03', 'J18']</td>\n",
       "      <td>['I50', 'F03', 'J18']</td>\n",
       "      <td>['F03_J189']</td>\n",
       "      <td>['F03', 'J18']</td>\n",
       "    </tr>\n",
       "    <tr>\n",
       "      <th>4</th>\n",
       "      <td>2017022720</td>\n",
       "      <td>F</td>\n",
       "      <td>2017</td>\n",
       "      <td>KING</td>\n",
       "      <td>No</td>\n",
       "      <td>White</td>\n",
       "      <td>80+ yrs</td>\n",
       "      <td>N</td>\n",
       "      <td>No</td>\n",
       "      <td>8.0</td>\n",
       "      <td>6</td>\n",
       "      <td>6-Ill-defined cardiovascular</td>\n",
       "      <td>I10</td>\n",
       "      <td>I48</td>\n",
       "      <td>I10 I48</td>\n",
       "      <td>I48</td>\n",
       "      <td>UNSPECIFIED NATURAL CAUSES    HYPERTENSION, AT...</td>\n",
       "      <td>1-Physician</td>\n",
       "      <td>['I48']</td>\n",
       "      <td>['I48']</td>\n",
       "      <td>['I10', 'I48']</td>\n",
       "      <td>[]</td>\n",
       "      <td>['I48']</td>\n",
       "    </tr>\n",
       "  </tbody>\n",
       "</table>\n",
       "</div>"
      ],
      "text/plain": [
       "          sfn sex  dody    dcounty hispanic   race     agegrp manner  \\\n",
       "0  2017025200   F  2017  SNOHOMISH       No  White    80+ yrs      N   \n",
       "1  2018031044   M  2018     PIERCE       No  White  60-69 yrs      N   \n",
       "2  2017019359   F  2017     PIERCE       No  White    80+ yrs      N   \n",
       "3  2017026057   F  2017    CLALLAM       No  White    80+ yrs      N   \n",
       "4  2017022720   F  2017       KING       No  White    80+ yrs      N   \n",
       "\n",
       "          tobac   pg  gc_cat                  gc_cat_label  UCOD   MC2  \\\n",
       "0            No  8.0       2               2-Heart failure  I500  D469   \n",
       "1       Unknown  8.0       3          3-Ill-defined cancer   C80  B182   \n",
       "2  Yes/Probably  8.0       2               2-Heart failure  I509  A310   \n",
       "3            No  8.0       2               2-Heart failure  I500   F03   \n",
       "4            No  8.0       6  6-Ill-defined cardiovascular   I10   I48   \n",
       "\n",
       "                                               AllMC  \\\n",
       "0        I500 D469 I802 J189 T828 Y831                 \n",
       "1                 C80 B182 C786 N179                   \n",
       "2  I509 A310 F179 I120 I461 I48 J449 K922 Q600   ...   \n",
       "3                     I500 F03 J189                    \n",
       "4                          I10 I48                     \n",
       "\n",
       "                                              MC2_20  \\\n",
       "0             D469 I802 J189 T828 Y831                 \n",
       "1                     B182 C786 N179                   \n",
       "2  A310 F179 I120 I461 I48 J449 K922 Q600              \n",
       "3                          F03 J189                    \n",
       "4                              I48                     \n",
       "\n",
       "                                              codlit   cert_label  \\\n",
       "0  CONGESTIVE HEART FAILURE, CAUSE NOT FORMALLY W...  1-Physician   \n",
       "1  METASTATIC MALIGNANCY WITH PERITONEAL CARCINOM...       7-ARNP   \n",
       "2  SUDDEN CARDIAC DEATH, PROBABLE ARRHYTHMIA ATRI...  1-Physician   \n",
       "3  PNEUMONIA SYSTOLIC CONGESTIVE HEART FAILURE   ...  1-Physician   \n",
       "4  UNSPECIFIED NATURAL CAUSES    HYPERTENSION, AT...  1-Physician   \n",
       "\n",
       "                                          clean_mc  \\\n",
       "0                 ['D469', 'I802', 'J189', 'Y831']   \n",
       "1                         ['B182', 'C786', 'N179']   \n",
       "2  ['A310', 'I120', 'I48', 'J449', 'K922', 'Q600']   \n",
       "3                                  ['F03', 'J189']   \n",
       "4                                          ['I48']   \n",
       "\n",
       "                                     short_mc  \\\n",
       "0                ['D46', 'I80', 'J18', 'Y83']   \n",
       "1                       ['B18', 'C78', 'N17']   \n",
       "2  ['A31', 'I12', 'I48', 'J44', 'K92', 'Q60']   \n",
       "3                              ['F03', 'J18']   \n",
       "4                                     ['I48']   \n",
       "\n",
       "                                          clean_mcgc  \\\n",
       "0         ['I50', 'D46', 'I80', 'J18', 'T82', 'Y83']   \n",
       "1                       ['C80', 'B18', 'C78', 'N17']   \n",
       "2  ['I50', 'A31', 'F17', 'I12', 'I46', 'I48', 'J4...   \n",
       "3                              ['I50', 'F03', 'J18']   \n",
       "4                                     ['I10', 'I48']   \n",
       "\n",
       "                                         all_bigrams  \\\n",
       "0            ['D469_I802', 'I802_J189', 'J189_Y831']   \n",
       "1                         ['B182_C786', 'C786_N179']   \n",
       "2  ['A310_I120', 'I120_I48', 'I48_J449', 'J449_K9...   \n",
       "3                                       ['F03_J189']   \n",
       "4                                                 []   \n",
       "\n",
       "                                   mc2_20_short_toks  \n",
       "0                ['D46', 'I80', 'J18', 'T82', 'Y83']  \n",
       "1                              ['B18', 'C78', 'N17']  \n",
       "2  ['A31', 'F17', 'I12', 'I46', 'I48', 'J44', 'K9...  \n",
       "3                                     ['F03', 'J18']  \n",
       "4                                            ['I48']  "
      ]
     },
     "execution_count": 49,
     "metadata": {},
     "output_type": "execute_result"
    }
   ],
   "source": [
    "ds.head()"
   ]
  },
  {
   "cell_type": "code",
   "execution_count": 42,
   "metadata": {},
   "outputs": [],
   "source": [
    "mc_gc_list = [a for b in ds['clean_mcgc'] for a in ast.literal_eval(b)]\n",
    "mc_list = [a for b in ds['short_mc'] for a in ast.literal_eval(b)]\n",
    "mc_bigram = [a for b in ds['all_bigrams'] for a in ast.literal_eval(b)]"
   ]
  },
  {
   "cell_type": "code",
   "execution_count": 43,
   "metadata": {},
   "outputs": [],
   "source": [
    "## function to create bag of word most common words and plot\n",
    "\n",
    "def create_bow_plot(tokens_list, title):\n",
    "    bow = Counter(tokens_list)\n",
    "    top20=bow.most_common(20)\n",
    "    print('***' + title + '***')\n",
    "    print(\"Twenty most common ICD-10 codes:\")\n",
    "    print(top20)\n",
    "    top20df=pd.DataFrame(top20, columns=['Code', 'Count'])\n",
    "    plt.figure(figsize=(9, 7))\n",
    "    plt.bar(top20df['Code'], top20df['Count'])\n",
    "    plt.title(\"Bag of words - \" + title)\n",
    "    plt.xticks(rotation=45, ha='right')\n",
    "    plt.show()\n",
    "    \n",
    "    "
   ]
  },
  {
   "cell_type": "code",
   "execution_count": 44,
   "metadata": {},
   "outputs": [
    {
     "name": "stdout",
     "output_type": "stream",
     "text": [
      "***ICD-10 SHORT CODES INCLUDING GCs***\n",
      "Twenty most common ICD-10 codes:\n",
      "[('I50', 2075), ('A41', 1954), ('I10', 1631), ('J96', 1466), ('C80', 1370), ('F17', 1270), ('I46', 1137), ('I48', 820), ('J44', 712), ('C78', 644), ('J18', 592), ('N17', 562), ('I51', 528), ('N18', 509), ('E14', 487), ('I26', 472), ('A49', 459), ('F03', 451), ('C79', 445), ('I70', 401)]\n"
     ]
    },
    {
     "data": {
      "image/png": "[encoded data removed]",
      "text/plain": [
       "<Figure size 648x504 with 1 Axes>"
      ]
     },
     "metadata": {
      "needs_background": "light"
     },
     "output_type": "display_data"
    }
   ],
   "source": [
    "create_bow_plot(mc_gc_list, \"ICD-10 SHORT CODES INCLUDING GCs\")"
   ]
  },
  {
   "cell_type": "markdown",
   "metadata": {},
   "source": [
    "**With GCs in the corpus** the three most common ICD-10 codes are I50 (congestive heart failure), A41 (sepsis due to bacterial infections), and I10 (essential hypertension)."
   ]
  },
  {
   "cell_type": "code",
   "execution_count": 45,
   "metadata": {},
   "outputs": [
    {
     "name": "stdout",
     "output_type": "stream",
     "text": [
      "***ICD-10 SHORT CODES EXCLUDING GCs***\n",
      "Twenty most common ICD-10 codes:\n",
      "[('I48', 820), ('J44', 712), ('C78', 644), ('J18', 592), ('N17', 562), ('N18', 509), ('E14', 487), ('A49', 459), ('F03', 451), ('C79', 445), ('E78', 366), ('E11', 362), ('G93', 345), ('F01', 282), ('N28', 269), ('I25', 261), ('E66', 257), ('G30', 220), ('J69', 210), ('N19', 194)]\n"
     ]
    },
    {
     "data": {
      "image/png": "[encoded data removed]",
      "text/plain": [
       "<Figure size 648x504 with 1 Axes>"
      ]
     },
     "metadata": {
      "needs_background": "light"
     },
     "output_type": "display_data"
    }
   ],
   "source": [
    "create_bow_plot(mc_list, \"ICD-10 SHORT CODES EXCLUDING RECORDS WITH GCs AS UNDERLYING CAUSE CODES\")"
   ]
  },
  {
   "cell_type": "markdown",
   "metadata": {},
   "source": [
    "**After removing GCs from the corpus** the most three common ICD-10 codes are I48 (atrial fibrillation), J44 (COPD), and N17 (acute renal failure)."
   ]
  },
  {
   "cell_type": "markdown",
   "metadata": {},
   "source": [
    "The following codes also dominate the category-specific bags of words plots:\n",
    "\n",
    "- J96.0 - Acute respiratory failure\n",
    "- J96.9 - Respiratory failure unspecified\n",
    "- J18.9 - Pneumonia\n",
    "- J44.9 - Chronic obstructive pulmonary disease\n",
    "- N17.9 - Acute renal failure\n",
    "- F17.9 - Mental and behavioral disorders due to use of tobacco\n",
    "- C78.7 - Secondary malignant neoplasm of liver and intrahepatic bile duct\n",
    "- C78.0 - Secondary malignant neoplasm of lung \n",
    "- C79.5 - Secondary malignant neoplasm of bone and bone marrow\n",
    "- C79.8 - Secondary malignant neoplasm of other specified sites\n",
    "- I48   - Atrial fibrillation\n",
    "- E78.5 - Hyperlipidemia, unspecified\n"
   ]
  },
  {
   "cell_type": "code",
   "execution_count": 46,
   "metadata": {},
   "outputs": [
    {
     "name": "stdout",
     "output_type": "stream",
     "text": [
      "***ICD-10 BIGRAMS EXCLUDING GCs***\n",
      "Twenty most common ICD-10 codes:\n",
      "[('N179_N189', 67), ('I48_J449', 66), ('C780_C787', 63), ('I48_J189', 44), ('J189_N179', 42), ('F03_I48', 40), ('C787_C795', 39), ('I251_I48', 37), ('E149_E785', 36), ('I48_I64', 35), ('J189_J80', 31), ('C787_C788', 28), ('E119_E785', 27), ('E785_F019', 26), ('F019_I48', 26), ('F03_J189', 24), ('E149_E669', 23), ('C795_C798', 23), ('C780_C798', 22), ('J189_J90', 22)]\n"
     ]
    },
    {
     "data": {
      "image/png": "[encoded data removed]",
      "text/plain": [
       "<Figure size 648x504 with 1 Axes>"
      ]
     },
     "metadata": {
      "needs_background": "light"
     },
     "output_type": "display_data"
    }
   ],
   "source": [
    "create_bow_plot(mc_bigram, \"ICD-10 BIGRAMS EXCLUDING GCs\")"
   ]
  },
  {
   "cell_type": "markdown",
   "metadata": {},
   "source": [
    "Bigrams of adjacent ICD-10 codes provide an added level of detail by providing context to each code.  The most common bigram is N17.9-N718.9 which are acute renal failure and chronic kidney disease unspecified.  The next most common bigrams are I48-J44.9 (atrial fibrillation and COPD) and C78.0-C78.7 (secondary malignant neoplasm of lung and secondary malignant neoplasm of liver. These codes already provide some indication of the cause of death categories to which these records might be reassigned."
   ]
  },
  {
   "cell_type": "markdown",
   "metadata": {},
   "source": [
    "**Create bag of words for each garbage code category**"
   ]
  },
  {
   "cell_type": "markdown",
   "metadata": {},
   "source": [
    "In the following section I created bag of words plots for GC categories separately.  I selected only those categories that have more than 1,000 records."
   ]
  },
  {
   "cell_type": "code",
   "execution_count": 47,
   "metadata": {},
   "outputs": [
    {
     "name": "stdout",
     "output_type": "stream",
     "text": [
      "** GC category: 1-SEPTICEMIA SHORT ICD-10 codes**\n",
      "[('J189', 303), ('N179', 289), ('I48', 195), ('A490', 149), ('A499', 125), ('F03', 115), ('N288', 112), ('I251', 100), ('N390', 98), ('A498', 91)]\n"
     ]
    },
    {
     "data": {
      "image/png": "[encoded data removed]",
      "text/plain": [
       "<Figure size 432x288 with 1 Axes>"
      ]
     },
     "metadata": {
      "needs_background": "light"
     },
     "output_type": "display_data"
    },
    {
     "name": "stdout",
     "output_type": "stream",
     "text": [
      "** GC category: 1-SEPTICEMIA BIGRAMS of ICD-10 codes**\n",
      "[('I48_J189', 29), ('J189_J80', 26), ('N179_N189', 26), ('I251_I48', 25), ('J189_N179', 24), ('F03_J189', 14), ('I48_J449', 14), ('N179_N390', 14), ('J80_N179', 13), ('I48_J440', 13)]\n"
     ]
    },
    {
     "data": {
      "image/png": "[encoded data removed]",
      "text/plain": [
       "<Figure size 432x288 with 1 Axes>"
      ]
     },
     "metadata": {
      "needs_background": "light"
     },
     "output_type": "display_data"
    },
    {
     "name": "stdout",
     "output_type": "stream",
     "text": [
      "** GC category: 2-HEART FAILURE SHORT ICD-10 codes**\n",
      "[('J449', 194), ('J189', 139), ('F03', 133), ('N189', 133), ('N179', 118), ('I48', 111), ('N19', 74), ('N185', 68), ('E149', 63), ('N288', 55)]\n"
     ]
    },
    {
     "data": {
      "image/png": "[encoded data removed]",
      "text/plain": [
       "<Figure size 432x288 with 1 Axes>"
      ]
     },
     "metadata": {
      "needs_background": "light"
     },
     "output_type": "display_data"
    },
    {
     "name": "stdout",
     "output_type": "stream",
     "text": [
      "** GC category: 2-HEART FAILURE BIGRAMS of ICD-10 codes**\n",
      "[('N179_N189', 30), ('I48_J449', 13), ('I48_I64', 11), ('F03_J449', 9), ('J189_N179', 9), ('E668_G473', 8), ('F03_J189', 7), ('J449_N189', 7), ('F03_I48', 7), ('I48_I634', 6)]\n"
     ]
    },
    {
     "data": {
      "image/png": "[encoded data removed]",
      "text/plain": [
       "<Figure size 432x288 with 1 Axes>"
      ]
     },
     "metadata": {
      "needs_background": "light"
     },
     "output_type": "display_data"
    },
    {
     "name": "stdout",
     "output_type": "stream",
     "text": [
      "** GC category: 3-ILL-DEFINED CANCER SHORT ICD-10 codes**\n",
      "[('C787', 226), ('C780', 199), ('C795', 151), ('C798', 129), ('J449', 117), ('I48', 103), ('C793', 92), ('C786', 79), ('N179', 73), ('J189', 70)]\n"
     ]
    },
    {
     "data": {
      "image/png": "[encoded data removed]",
      "text/plain": [
       "<Figure size 432x288 with 1 Axes>"
      ]
     },
     "metadata": {
      "needs_background": "light"
     },
     "output_type": "display_data"
    },
    {
     "name": "stdout",
     "output_type": "stream",
     "text": [
      "** GC category: 3-ILL-DEFINED CANCER BIGRAMS of ICD-10 codes**\n",
      "[('C780_C787', 61), ('C787_C795', 38), ('C787_C788', 27), ('C795_C798', 23), ('C780_C798', 22), ('C780_C795', 19), ('C780_C793', 17), ('I48_J449', 16), ('C787_C793', 16), ('C793_C795', 15)]\n"
     ]
    },
    {
     "data": {
      "image/png": "[encoded data removed]",
      "text/plain": [
       "<Figure size 432x288 with 1 Axes>"
      ]
     },
     "metadata": {
      "needs_background": "light"
     },
     "output_type": "display_data"
    },
    {
     "name": "stdout",
     "output_type": "stream",
     "text": [
      "** GC category: 6-ILL-DEFINED CARDIOVASCULAR SHORT ICD-10 codes**\n",
      "[('I48', 411), ('E785', 230), ('J449', 224), ('F019', 206), ('E149', 176), ('F03', 151), ('G931', 110), ('E119', 105), ('E669', 103), ('G309', 86)]\n"
     ]
    },
    {
     "data": {
      "image/png": "[encoded data removed]",
      "text/plain": [
       "<Figure size 432x288 with 1 Axes>"
      ]
     },
     "metadata": {
      "needs_background": "light"
     },
     "output_type": "display_data"
    },
    {
     "name": "stdout",
     "output_type": "stream",
     "text": [
      "** GC category: 6-ILL-DEFINED CARDIOVASCULAR BIGRAMS of ICD-10 codes**\n",
      "[('E149_E785', 26), ('F019_I48', 25), ('E785_F019', 24), ('I48_J449', 23), ('F03_I48', 23), ('E149_E669', 16), ('E119_E785', 16), ('E785_I48', 15), ('E669_E785', 12), ('E785_J449', 12)]\n"
     ]
    },
    {
     "data": {
      "image/png": "[encoded data removed]",
      "text/plain": [
       "<Figure size 432x288 with 1 Axes>"
      ]
     },
     "metadata": {
      "needs_background": "light"
     },
     "output_type": "display_data"
    }
   ],
   "source": [
    "%store -r gc_label_dict\n",
    "\n",
    "for i in [1, 2, 3, 6]:\n",
    "    cat_recs = ds.loc[ds['gc_cat']== i, ['clean_mc']]\n",
    "    mc_list = [a for b in cat_recs['clean_mc'] for a in ast.literal_eval(b)]\n",
    "    print('** GC category: ' + gc_label_dict.get(i).upper() + ' SHORT ICD-10 codes**')\n",
    "    bow_simple = Counter(mc_list)\n",
    "    bow10 = bow_simple.most_common(10)\n",
    "    print(bow10)\n",
    "    bow10df = pd.DataFrame(bow10, columns=['Code', 'Count'])\n",
    "    plt.bar(bow10df['Code'], bow10df['Count'])\n",
    "    plt.title('a. Full ICD-10 codes')\n",
    "    plt.xticks(rotation=45, ha='right')\n",
    "    plt.show()\n",
    "    \n",
    "    cat_recs3 = ds.loc[ds['gc_cat']== i, ['all_bigrams']]\n",
    "    mc_bi = [a for b in cat_recs3['all_bigrams'] for a in ast.literal_eval(b)]\n",
    "    print('** GC category: ' + gc_label_dict.get(i).upper() + ' BIGRAMS of ICD-10 codes**')\n",
    "    bow_bi = Counter(mc_bi)\n",
    "    bow_bi10 = bow_bi.most_common(10)\n",
    "    print(bow_bi10)\n",
    "    bow_bi10df = pd.DataFrame(bow_bi10, columns=['Bigram', 'Count'])\n",
    "    plt.bar(bow_bi10df['Bigram'], bow_bi10df['Count'])\n",
    "    plt.title('c. Bigrams of short ICD-10 codes')\n",
    "    plt.xticks(rotation=45, ha='right')\n",
    "    plt.show()"
   ]
  },
  {
   "cell_type": "code",
   "execution_count": 48,
   "metadata": {},
   "outputs": [],
   "source": [
    "ds.to_csv('Y:/DQSS/Death/MBG/py/capstone2/data/d1619_clean_forLDA.csv')"
   ]
  },
  {
   "cell_type": "code",
   "execution_count": 51,
   "metadata": {},
   "outputs": [
    {
     "data": {
      "text/plain": [
       "1974"
      ]
     },
     "execution_count": 51,
     "metadata": {},
     "output_type": "execute_result"
    }
   ],
   "source": [
    "%store -r gc_all\n",
    "\n",
    "len(gc_all)"
   ]
  },
  {
   "cell_type": "markdown",
   "metadata": {},
   "source": [
    "**Next section: 4_Latent Dirichlet Allocation**"
   ]
  }
 ],
 "metadata": {
  "kernelspec": {
   "display_name": "Python 3",
   "language": "python",
   "name": "python3"
  },
  "language_info": {
   "codemirror_mode": {
    "name": "ipython",
    "version": 3
   },
   "file_extension": ".py",
   "mimetype": "text/x-python",
   "name": "python",
   "nbconvert_exporter": "python",
   "pygments_lexer": "ipython3",
   "version": "3.8.3"
  }
 },
 "nbformat": 4,
 "nbformat_minor": 4
}
