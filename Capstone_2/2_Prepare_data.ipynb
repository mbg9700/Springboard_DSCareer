{
 "cells": [
  {
   "cell_type": "markdown",
   "metadata": {},
   "source": [
    "### 2. PREPARE DEATH DATA FOR ANALYSIS AND NATURAL LANGUAGE PROCESSING"
   ]
  },
  {
   "cell_type": "markdown",
   "metadata": {},
   "source": [
    "Data for this analysis are restricted to deaths that occurred in Washington State from January 1, 2016 through December 31, 2019."
   ]
  },
  {
   "cell_type": "code",
   "execution_count": 1,
   "metadata": {},
   "outputs": [],
   "source": [
    "import pandas as pd\n",
    "import numpy as np\n",
    "import matplotlib.pyplot as plt\n",
    "from IPython.display import display\n",
    "from importlib import reload\n",
    "import nltk\n",
    "from nltk.tokenize import word_tokenize\n",
    "from nltk.tokenize import RegexpTokenizer\n",
    "from collections import Counter\n",
    "from nltk.corpus import stopwords\n",
    "from nltk.stem import WordNetLemmatizer\n",
    "from nltk.stem import PorterStemmer\n",
    "from nltk.util import ngrams\n",
    "import re\n",
    "from gensim import corpora, models"
   ]
  },
  {
   "cell_type": "code",
   "execution_count": 2,
   "metadata": {},
   "outputs": [],
   "source": [
    "pd.set_option('display.max_columns', 500)\n",
    "pd.set_option('display.max_rows', None)"
   ]
  },
  {
   "cell_type": "markdown",
   "metadata": {},
   "source": [
    "**Load raw data extracted from SQL database**"
   ]
  },
  {
   "cell_type": "code",
   "execution_count": 3,
   "metadata": {},
   "outputs": [],
   "source": [
    "d1619 = pd.read_csv(r'Y:/DQSS/Death/MBG/py/capstone2/data/dth1619_raw.csv',\n",
    "                  low_memory=False,\n",
    "                  encoding = 'unicode_escape')"
   ]
  },
  {
   "cell_type": "markdown",
   "metadata": {},
   "source": [
    "**Check data to make sure they are for the right time frame and that all deaths occurred in WA**"
   ]
  },
  {
   "cell_type": "code",
   "execution_count": 4,
   "metadata": {},
   "outputs": [
    {
     "data": {
      "text/plain": [
       "2016    54821\n",
       "2017    56992\n",
       "2018    56950\n",
       "2019    58234\n",
       "Name: dody, dtype: int64"
      ]
     },
     "execution_count": 4,
     "metadata": {},
     "output_type": "execute_result"
    }
   ],
   "source": [
    "d1619['dody'].value_counts(dropna = False).sort_index()"
   ]
  },
  {
   "cell_type": "code",
   "execution_count": 5,
   "metadata": {},
   "outputs": [
    {
     "data": {
      "text/plain": [
       "WA    226997\n",
       "Name: dstateFIPS, dtype: int64"
      ]
     },
     "execution_count": 5,
     "metadata": {},
     "output_type": "execute_result"
    }
   ],
   "source": [
    "d1619.dstateFIPS.value_counts(dropna=False)"
   ]
  },
  {
   "cell_type": "markdown",
   "metadata": {},
   "source": [
    "**Keep relevant variables** including underlying cause code ('UCOD'), all multiple cause ICD-10 code fields ('MC1' to 'MC20'), the concatenated cause of death literal field, and the 'tobacco' variable that indicates whether the medical certifier believed that tobacco use contributed to the decedent's death. The working data set will contain death records for deaths occurring in Washington State regardless of the decedents' residence states."
   ]
  },
  {
   "cell_type": "code",
   "execution_count": 6,
   "metadata": {},
   "outputs": [
    {
     "name": "stdout",
     "output_type": "stream",
     "text": [
      "<class 'pandas.core.frame.DataFrame'>\n",
      "RangeIndex: 226997 entries, 0 to 226996\n",
      "Data columns (total 26 columns):\n",
      " #   Column      Non-Null Count   Dtype  \n",
      "---  ------      --------------   -----  \n",
      " 0   sfn         226997 non-null  int64  \n",
      " 1   sex         226997 non-null  object \n",
      " 2   ageyrs      226997 non-null  float64\n",
      " 3   dod         226997 non-null  object \n",
      " 4   dody        226997 non-null  int64  \n",
      " 5   dcounty     226996 non-null  object \n",
      " 6   dstateFIPS  226997 non-null  object \n",
      " 7   bridgerace  226997 non-null  int64  \n",
      " 8   hispno      226997 non-null  object \n",
      " 9   marital     226997 non-null  object \n",
      " 10  rstatefips  226997 non-null  object \n",
      " 11  manner      226955 non-null  object \n",
      " 12  tobac       226912 non-null  object \n",
      " 13  pg          166760 non-null  float64\n",
      " 14  certdesig   225383 non-null  float64\n",
      " 15  UCOD        226841 non-null  object \n",
      " 16  MC1         226825 non-null  object \n",
      " 17  MC2         188306 non-null  object \n",
      " 18  codAq       226996 non-null  object \n",
      " 19  codBq       134427 non-null  object \n",
      " 20  codCq       65804 non-null   object \n",
      " 21  codDq       22843 non-null   object \n",
      " 22  codIIq      106111 non-null  object \n",
      " 23  AllMC       226997 non-null  object \n",
      " 24  MC2_20      226997 non-null  object \n",
      " 25  codlit      226996 non-null  object \n",
      "dtypes: float64(3), int64(3), object(20)\n",
      "memory usage: 45.0+ MB\n"
     ]
    }
   ],
   "source": [
    "d1619.info()"
   ]
  },
  {
   "cell_type": "code",
   "execution_count": 8,
   "metadata": {},
   "outputs": [],
   "source": [
    "ds = d1619.loc[:,['sfn', 'sex', 'ageyrs', 'dody', 'dcounty', 'bridgerace', 'hispno', 'manner', 'tobac', 'pg',\n",
    "                'certdesig', 'UCOD', 'MC2','AllMC', 'MC2_20', 'codlit']]"
   ]
  },
  {
   "cell_type": "code",
   "execution_count": 9,
   "metadata": {},
   "outputs": [
    {
     "data": {
      "text/html": [
       "<div>\n",
       "<style scoped>\n",
       "    .dataframe tbody tr th:only-of-type {\n",
       "        vertical-align: middle;\n",
       "    }\n",
       "\n",
       "    .dataframe tbody tr th {\n",
       "        vertical-align: top;\n",
       "    }\n",
       "\n",
       "    .dataframe thead th {\n",
       "        text-align: right;\n",
       "    }\n",
       "</style>\n",
       "<table border=\"1\" class=\"dataframe\">\n",
       "  <thead>\n",
       "    <tr style=\"text-align: right;\">\n",
       "      <th></th>\n",
       "      <th>sfn</th>\n",
       "      <th>sex</th>\n",
       "      <th>ageyrs</th>\n",
       "      <th>dody</th>\n",
       "      <th>dcounty</th>\n",
       "      <th>bridgerace</th>\n",
       "      <th>hispno</th>\n",
       "      <th>manner</th>\n",
       "      <th>tobac</th>\n",
       "      <th>pg</th>\n",
       "      <th>certdesig</th>\n",
       "      <th>UCOD</th>\n",
       "      <th>MC2</th>\n",
       "      <th>AllMC</th>\n",
       "      <th>MC2_20</th>\n",
       "      <th>codlit</th>\n",
       "    </tr>\n",
       "  </thead>\n",
       "  <tbody>\n",
       "    <tr>\n",
       "      <th>0</th>\n",
       "      <td>2017025187</td>\n",
       "      <td>M</td>\n",
       "      <td>84.0</td>\n",
       "      <td>2017</td>\n",
       "      <td>KING</td>\n",
       "      <td>1</td>\n",
       "      <td>Y</td>\n",
       "      <td>N</td>\n",
       "      <td>N</td>\n",
       "      <td>8.0</td>\n",
       "      <td>1.0</td>\n",
       "      <td>J841</td>\n",
       "      <td>I10</td>\n",
       "      <td>J841 I10 I219 I269 I48 I509 J690 J960 R090    ...</td>\n",
       "      <td>I10 I219 I269 I48 I509 J690 J960 R090</td>\n",
       "      <td>ACUTE RESPIRATORY FAILURE WITH HYPOXIA ASPIRAT...</td>\n",
       "    </tr>\n",
       "    <tr>\n",
       "      <th>1</th>\n",
       "      <td>2017025188</td>\n",
       "      <td>M</td>\n",
       "      <td>58.0</td>\n",
       "      <td>2017</td>\n",
       "      <td>KING</td>\n",
       "      <td>1</td>\n",
       "      <td>Y</td>\n",
       "      <td>N</td>\n",
       "      <td>N</td>\n",
       "      <td>8.0</td>\n",
       "      <td>7.0</td>\n",
       "      <td>I64</td>\n",
       "      <td>NaN</td>\n",
       "      <td>I64</td>\n",
       "      <td></td>\n",
       "      <td>ACUTE ISCHEMIC CEREBRAL VASCULAR ACCIDENT</td>\n",
       "    </tr>\n",
       "    <tr>\n",
       "      <th>2</th>\n",
       "      <td>2017025189</td>\n",
       "      <td>F</td>\n",
       "      <td>70.0</td>\n",
       "      <td>2017</td>\n",
       "      <td>KING</td>\n",
       "      <td>10</td>\n",
       "      <td>Y</td>\n",
       "      <td>N</td>\n",
       "      <td>N</td>\n",
       "      <td>8.0</td>\n",
       "      <td>1.0</td>\n",
       "      <td>C833</td>\n",
       "      <td>D619</td>\n",
       "      <td>C833 D619 E46 E883 R58 Y433</td>\n",
       "      <td>D619 E46 E883 R58 Y433</td>\n",
       "      <td>RETROPERITONEAL BLEEDING EXTENSIVE LARGE B CEL...</td>\n",
       "    </tr>\n",
       "    <tr>\n",
       "      <th>3</th>\n",
       "      <td>2017025190</td>\n",
       "      <td>F</td>\n",
       "      <td>85.0</td>\n",
       "      <td>2017</td>\n",
       "      <td>KING</td>\n",
       "      <td>1</td>\n",
       "      <td>Y</td>\n",
       "      <td>N</td>\n",
       "      <td>N</td>\n",
       "      <td>8.0</td>\n",
       "      <td>1.0</td>\n",
       "      <td>E86</td>\n",
       "      <td>N179</td>\n",
       "      <td>E86 N179 R13</td>\n",
       "      <td>N179 R13</td>\n",
       "      <td>ACUTE RENAL FAILURE DEHYDRATION DYSPHAGIA</td>\n",
       "    </tr>\n",
       "    <tr>\n",
       "      <th>4</th>\n",
       "      <td>2017025191</td>\n",
       "      <td>M</td>\n",
       "      <td>75.0</td>\n",
       "      <td>2017</td>\n",
       "      <td>SPOKANE</td>\n",
       "      <td>1</td>\n",
       "      <td>Y</td>\n",
       "      <td>N</td>\n",
       "      <td>Y</td>\n",
       "      <td>8.0</td>\n",
       "      <td>1.0</td>\n",
       "      <td>E870</td>\n",
       "      <td>F54</td>\n",
       "      <td>E870 F54 G729 I509 J969 R093 R418 R53 T179 W80...</td>\n",
       "      <td>F54 G729 I509 J969 R093 R418 R53 T179 W80     ...</td>\n",
       "      <td>PULSELESS ELECTRICAL ACTIVITY ARREST HYPOXEMIC...</td>\n",
       "    </tr>\n",
       "  </tbody>\n",
       "</table>\n",
       "</div>"
      ],
      "text/plain": [
       "          sfn sex  ageyrs  dody  dcounty  bridgerace hispno manner tobac   pg  \\\n",
       "0  2017025187   M    84.0  2017     KING           1      Y      N     N  8.0   \n",
       "1  2017025188   M    58.0  2017     KING           1      Y      N     N  8.0   \n",
       "2  2017025189   F    70.0  2017     KING          10      Y      N     N  8.0   \n",
       "3  2017025190   F    85.0  2017     KING           1      Y      N     N  8.0   \n",
       "4  2017025191   M    75.0  2017  SPOKANE           1      Y      N     Y  8.0   \n",
       "\n",
       "   certdesig  UCOD   MC2                                              AllMC  \\\n",
       "0        1.0  J841   I10  J841 I10 I219 I269 I48 I509 J690 J960 R090    ...   \n",
       "1        7.0   I64   NaN                             I64                      \n",
       "2        1.0  C833  D619          C833 D619 E46 E883 R58 Y433                 \n",
       "3        1.0   E86  N179                      E86 N179 R13                    \n",
       "4        1.0  E870   F54  E870 F54 G729 I509 J969 R093 R418 R53 T179 W80...   \n",
       "\n",
       "                                              MC2_20  \\\n",
       "0   I10 I219 I269 I48 I509 J690 J960 R090              \n",
       "1                                                      \n",
       "2               D619 E46 E883 R58 Y433                 \n",
       "3                          N179 R13                    \n",
       "4  F54 G729 I509 J969 R093 R418 R53 T179 W80     ...   \n",
       "\n",
       "                                              codlit  \n",
       "0  ACUTE RESPIRATORY FAILURE WITH HYPOXIA ASPIRAT...  \n",
       "1     ACUTE ISCHEMIC CEREBRAL VASCULAR ACCIDENT       \n",
       "2  RETROPERITONEAL BLEEDING EXTENSIVE LARGE B CEL...  \n",
       "3       ACUTE RENAL FAILURE DEHYDRATION DYSPHAGIA     \n",
       "4  PULSELESS ELECTRICAL ACTIVITY ARREST HYPOXEMIC...  "
      ]
     },
     "execution_count": 9,
     "metadata": {},
     "output_type": "execute_result"
    }
   ],
   "source": [
    "ds.head()"
   ]
  },
  {
   "cell_type": "markdown",
   "metadata": {},
   "source": [
    "I start with 226,997 death records for individuals who died in Washington State from 2016 through 2019."
   ]
  },
  {
   "cell_type": "markdown",
   "metadata": {},
   "source": [
    "**LABELING RECORDS THAT HAVE GARBAGE UNDERLYING CAUSE CODES**\n",
    "<br> \n",
    "Foreman et. al. published an article on death data quality that include comprehensive list of garbage codes that were divided up into the nine groups listed below.  The code groups are mutually exclusive and together represent an exhaustive list of garbage codes.  This list has been referenced in subsequent articles that address death data quality.  In this step I label all records in the data set from 1 through 9 if the underlying cause of death (UCOD) code is one of the garbage codes and 0 if the code is a 'valid' (non-garbage) code."
   ]
  },
  {
   "cell_type": "markdown",
   "metadata": {},
   "source": [
    "**Create lists of ICD-10 codes for each of the 9 garbage code categories.** These lists will be used to flag records where underlying cause code (UCOD) consists of a garbage code. The nine categories of garbage codes are as follows:\n",
    "\n",
    "- g1 = Septicemia\n",
    "- g2 = Heart failure\n",
    "- g3 = Ill-defined cancer\n",
    "- g4 = Volume depletion\n",
    "- g5 = Ill-defined\n",
    "- g6 = Ill-defined cardiovascular\n",
    "- g7 = Ill-defined injury\n",
    "- g8 = Undetermined intent\n",
    "- g9 = Ill-defined infectious"
   ]
  },
  {
   "cell_type": "code",
   "execution_count": 10,
   "metadata": {},
   "outputs": [],
   "source": [
    "g1 = ['A40', 'A400', 'A401', 'A402', 'A403', 'A408', 'A409', 'A41', 'A410', 'A411', 'A412', 'A413', 'A414',\n",
    "      'A415', 'A418', 'A419']\n",
    "\n",
    "g2 = ['I50', 'I500', 'I501', 'I509']\n",
    "\n",
    "g3 = ['C759', 'C76', 'C760', 'C761', 'C762', 'C763', 'C764', 'C765', 'C767', 'C768', 'C80', 'D099', 'D489']\n",
    "\n",
    "g4 = ['E86', 'E87', 'E870', 'E871', 'E872', 'E873', 'E874', 'E875', 'E876', 'E877', 'E878' ]\n",
    "\n",
    "g5 = ['I46', 'I460', 'I461', 'I469', 'P95', 'R00', 'R000', 'R001', 'R002', 'R008', 'R01', 'R010', 'R011', \n",
    "      'R012', 'R02', 'R03', 'R030', 'R031', 'R04', 'R040', 'R041', 'R042', 'R048', 'R049', 'R05', 'R06', \n",
    "      'R060', 'R061', 'R062', 'R063', 'R064', 'R065', 'R066', 'R067', 'R068', 'R07', 'R070', 'R071', \n",
    "      'R072', 'R073', 'R074', 'R09', 'R090', 'R091', 'R092', 'R093', 'R098', 'R10', 'R100', 'R101', \n",
    "      'R102', 'R103', 'R104', 'R11', 'R12', 'R13', 'R14', 'R15', 'R16', 'R160', 'R161', 'R162', 'R17', \n",
    "      'R18', 'R19', 'R190', 'R191', 'R192', 'R193', 'R194', 'R195', 'R196', 'R198', 'R20', 'R200', \n",
    "      'R201', 'R202', 'R203', 'R208', 'R21', 'R22', 'R220', 'R221', 'R222', 'R223', 'R224', 'R227', \n",
    "      'R229', 'R23', 'R230', 'R231', 'R232', 'R233', 'R234', 'R238', 'R25', 'R250', 'R251', 'R252', \n",
    "      'R253', 'R258', 'R26', 'R260', 'R261', 'R262', 'R268', 'R27', 'R270', 'R278', 'R29', 'R290', \n",
    "      'R291', 'R292', 'R293', 'R294', 'R296', 'R298', 'R30', 'R300', 'R301', 'R309', 'R31', 'R32', \n",
    "      'R33', 'R34', 'R35', 'R36', 'R39', 'R390', 'R391', 'R392', 'R398', 'R40', 'R400', 'R401', 'R402', \n",
    "      'R41', 'R410', 'R411', 'R412', 'R413', 'R418', 'R42', 'R43', 'R430', 'R431', 'R432', 'R438', 'R44', \n",
    "      'R440', 'R441', 'R442', 'R443', 'R448', 'R45', 'R450', 'R451', 'R452', 'R453', 'R454', 'R455', 'R456', \n",
    "      'R457', 'R458', 'R46', 'R460', 'R461', 'R462', 'R463', 'R464', 'R465', 'R466', 'R467', 'R468', 'R47', \n",
    "      'R470', 'R471', 'R478', 'R48', 'R480', 'R481', 'R482', 'R488', 'R49', 'R490', 'R491', 'R492', 'R498', \n",
    "      'R50', 'R500', 'R501', 'R502', 'R508', 'R509', 'R51', 'R52', 'R520', 'R521', 'R522', 'R529', 'R53', \n",
    "      'R54', 'R55', 'R56', 'R560', 'R568', 'R57', 'R570', 'R571', 'R578', 'R579', 'R58', 'R59', 'R590', \n",
    "      'R591', 'R599', 'R60', 'R600', 'R601', 'R609', 'R61', 'R610', 'R611', 'R619', 'R62', 'R620', 'R628', \n",
    "      'R629', 'R63', 'R630', 'R631', 'R632', 'R633', 'R634', 'R635', 'R638', 'R64', 'R68', 'R680', 'R681', \n",
    "      'R682', 'R683', 'R688', 'R69', 'R70', 'R700', 'R701', 'R71', 'R72', 'R73', 'R730', 'R739', 'R74', 'R740',\n",
    "      'R748', 'R749', 'R75', 'R76', 'R760', 'R761', 'R762', 'R768', 'R769', 'R77', 'R770', 'R771', 'R772', 'R778',\n",
    "      'R779', 'R78', 'R780', 'R781', 'R782', 'R783', 'R784', 'R785', 'R786', 'R787', 'R788', 'R789', 'R79', 'R790',\n",
    "      'R798', 'R799', 'R80', 'R81', 'R82', 'R820', 'R821', 'R822', 'R823', 'R824', 'R825', 'R826', 'R827', 'R828',\n",
    "      'R829', 'R83', 'R830', 'R831', 'R832', 'R833', 'R834', 'R835', 'R836', 'R837', 'R838', 'R839', 'R84', 'R840',\n",
    "      'R841', 'R842', 'R843', 'R844', 'R845', 'R846', 'R847', 'R848', 'R849', 'R85', 'R850', 'R851', 'R852',\n",
    "      'R853', 'R854', 'R855', 'R856', 'R857', 'R858', 'R859', 'R86', 'R860', 'R861', 'R862', 'R863', 'R864',\n",
    "      'R865', 'R866', 'R867', 'R868', 'R869', 'R87', 'R870', 'R871', 'R872', 'R873', 'R874', 'R875',\n",
    "      'R876', 'R877', 'R878', 'R879', 'R89', 'R890', 'R891', 'R892', 'R893', 'R894', 'R895', 'R896', 'R897',\n",
    "      'R898', 'R899', 'R90', 'R900', 'R908', 'R91', 'R92', 'R93', 'R930', 'R931', 'R932', 'R933', 'R934',\n",
    "      'R935', 'R936', 'R937', 'R938', 'R94', 'R940', 'R941', 'R942', 'R943', 'R944', 'R945', 'R946', 'R947',\n",
    "      'R948', 'R95', 'R96', 'R960', 'R961', 'R98', 'R99']\n",
    "\n",
    "g6 = ['I10', 'I15', 'I150', 'I151', 'I152', 'I158', 'I159', 'I26', 'I260', 'I269', 'I49', 'I490', 'I491', 'I492',\n",
    "      'I493', 'I494', 'I495', 'I498', 'I499', 'I51', 'I510', 'I511', 'I512', 'I513', 'I514', 'I515', 'I516', 'I517',\n",
    "      'I518', 'I519', 'I70', 'I700', 'I701', 'I709', 'I74', 'I740', 'I741', 'I742', 'I743', 'I744', 'I745', 'I748',\n",
    "      'I749', 'I99']\n",
    "\n",
    "g7 = ['S00', 'S000', 'S001', 'S002', 'S003', 'S004', 'S005', 'S007', 'S008', 'S009', 'S01', 'S010', 'S011', 'S012',\n",
    "      'S013', 'S014', 'S015', 'S017', 'S018', 'S019', 'S02', 'S020', 'S021', 'S022', 'S023', 'S024', 'S025', 'S026',\n",
    "      'S027', 'S028', 'S029', 'S03', 'S030', 'S031', 'S032', 'S033', 'S034', 'S035', 'S04', 'S040', 'S041', 'S042',\n",
    "      'S043', 'S044', 'S045', 'S046', 'S047', 'S048', 'S049', 'S05', 'S050', 'S051', 'S052', 'S053', 'S054', 'S055',\n",
    "      'S056', 'S057', 'S058', 'S059', 'S06', 'S060', 'S061', 'S062', 'S063', 'S064', 'S065', 'S066', 'S067', 'S068',\n",
    "      'S069', 'S07', 'S070', 'S071', 'S078', 'S079', 'S08', 'S080', 'S081', 'S088', 'S089', 'S09', 'S090', 'S091',\n",
    "      'S092', 'S097', 'S098', 'S099', 'S10', 'S100', 'S101', 'S107', 'S108', 'S109', 'S11', 'S110', 'S111', 'S112',\n",
    "      'S117', 'S118', 'S119', 'S12', 'S120', 'S121', 'S122', 'S127', 'S128', 'S129', 'S13', 'S130', 'S131', 'S132',\n",
    "      'S133', 'S134', 'S135', 'S136', 'S14', 'S140', 'S141', 'S142', 'S143', 'S144', 'S145', 'S146', 'S15', 'S150',\n",
    "      'S151', 'S152', 'S153', 'S157', 'S158', 'S159', 'S16', 'S17', 'S170', 'S178', 'S179', 'S18', 'S19', 'S197',\n",
    "      'S198', 'S199', 'S20', 'S200', 'S201', 'S202', 'S203', 'S204', 'S207', 'S208', 'S21', 'S210', 'S211', 'S212',\n",
    "      'S217', 'S218', 'S219', 'S22', 'S220', 'S221', 'S222', 'S223', 'S224', 'S225', 'S228', 'S229', 'S23', 'S230',\n",
    "      'S231', 'S232', 'S233', 'S234', 'S235', 'S24', 'S240', 'S241', 'S242', 'S243', 'S244', 'S245', 'S246', 'S25',\n",
    "      'S250', 'S251', 'S252', 'S253', 'S254', 'S255', 'S257', 'S258', 'S259', 'S26', 'S260', 'S268', 'S269', 'S27',\n",
    "      'S270', 'S271', 'S272', 'S273', 'S274', 'S275', 'S276', 'S277', 'S278', 'S279', 'S28', 'S280', 'S281', 'S29',\n",
    "      'S290', 'S297', 'S298', 'S299', 'S30', 'S300', 'S301', 'S302', 'S307', 'S308', 'S309', 'S31', 'S310', 'S311',\n",
    "      'S312', 'S313', 'S314', 'S315', 'S317', 'S318', 'S32', 'S320', 'S321', 'S322', 'S323', 'S324', 'S325', 'S327',\n",
    "      'S328', 'S33', 'S330', 'S331', 'S332', 'S333', 'S334', 'S335', 'S336', 'S337', 'S34', 'S340', 'S341', 'S342',\n",
    "      'S343', 'S344', 'S345', 'S346', 'S348', 'S35', 'S350', 'S351', 'S352', 'S353', 'S354', 'S355', 'S357', 'S358',\n",
    "      'S359', 'S36', 'S360', 'S361', 'S362', 'S363', 'S364', 'S365', 'S366', 'S367', 'S368', 'S369', 'S37', 'S370',\n",
    "      'S371', 'S372', 'S373', 'S374', 'S375', 'S376', 'S377', 'S378', 'S379', 'S38', 'S380', 'S381', 'S382', 'S383',\n",
    "      'S39', 'S390', 'S396', 'S397', 'S398', 'S399', 'S40', 'S400', 'S407', 'S408', 'S409', 'S41', 'S410', 'S411',\n",
    "      'S417', 'S418', 'S42', 'S420', 'S421', 'S422', 'S423', 'S424', 'S427', 'S428', 'S429', 'S43', 'S430', 'S431',\n",
    "      'S432', 'S433', 'S434', 'S435', 'S436', 'S437', 'S44', 'S440', 'S441', 'S442', 'S443', 'S444', 'S445', 'S447',\n",
    "      'S448', 'S449', 'S45', 'S450', 'S451', 'S452', 'S453', 'S457', 'S458', 'S459', 'S46', 'S460', 'S461', 'S462',\n",
    "      'S463', 'S467', 'S468', 'S469', 'S47', 'S48', 'S480', 'S481', 'S489', 'S49', 'S497', 'S498', 'S499', 'S50',\n",
    "      'S500', 'S501', 'S507', 'S508', 'S509', 'S51', 'S510', 'S517', 'S518', 'S519', 'S52', 'S520', 'S521', 'S522',\n",
    "      'S523', 'S524', 'S525', 'S526', 'S527', 'S528', 'S529', 'S53', 'S530', 'S531', 'S532', 'S533', 'S534', 'S54',\n",
    "      'S540', 'S541', 'S542', 'S543', 'S547', 'S548', 'S549', 'S55', 'S550', 'S551', 'S552', 'S557', 'S558', 'S559',\n",
    "      'S56', 'S560', 'S561', 'S562', 'S563', 'S564', 'S565', 'S567', 'S568', 'S57', 'S570', 'S578', 'S579', 'S58',\n",
    "      'S580', 'S581', 'S589', 'S59', 'S597', 'S598', 'S599', 'S60', 'S600', 'S601', 'S602', 'S607', 'S608', 'S609',\n",
    "      'S61', 'S610', 'S611', 'S617', 'S618', 'S619', 'S62', 'S620', 'S621', 'S622', 'S623', 'S624', 'S625', 'S626',\n",
    "      'S627', 'S628', 'S63', 'S630', 'S631', 'S632', 'S633', 'S634', 'S635', 'S636', 'S637', 'S64', 'S640', 'S641',\n",
    "      'S642', 'S643', 'S644', 'S647', 'S648', 'S649', 'S65', 'S650', 'S651', 'S652', 'S653', 'S654', 'S655', 'S657',\n",
    "      'S658', 'S659', 'S66', 'S660', 'S661', 'S662', 'S663', 'S664', 'S665', 'S666', 'S667', 'S668', 'S669', 'S67',\n",
    "      'S670', 'S678', 'S68', 'S680', 'S681', 'S682', 'S683', 'S684', 'S688', 'S689', 'S69', 'S697', 'S698', 'S699',\n",
    "      'S70', 'S700', 'S701', 'S707', 'S708', 'S709', 'S71', 'S710', 'S711', 'S717', 'S718', 'S72', 'S720', 'S721',\n",
    "      'S722', 'S723', 'S724', 'S727', 'S728', 'S729', 'S73', 'S730', 'S731', 'S74', 'S740', 'S741', 'S742', 'S747',\n",
    "      'S748', 'S749', 'S75', 'S750', 'S751', 'S752', 'S757', 'S758', 'S759', 'S76', 'S760', 'S761', 'S762', 'S763',\n",
    "      'S764', 'S767', 'S77', 'S770', 'S771', 'S772', 'S78', 'S780', 'S781', 'S789', 'S79', 'S797', 'S798', 'S799',\n",
    "      'S80', 'S800', 'S801', 'S807', 'S808', 'S809', 'S81', 'S810', 'S817', 'S818', 'S819', 'S82', 'S820', 'S821',\n",
    "      'S822', 'S823', 'S824', 'S825', 'S826', 'S827', 'S828', 'S829', 'S83', 'S830', 'S831', 'S832', 'S833', 'S834',\n",
    "      'S835', 'S836', 'S837', 'S84', 'S840', 'S841', 'S842', 'S847', 'S848', 'S849', 'S85', 'S850', 'S851', 'S852',\n",
    "      'S853', 'S854', 'S855', 'S857', 'S858', 'S859', 'S86', 'S860', 'S861', 'S862', 'S863', 'S867', 'S868', 'S869',\n",
    "      'S87', 'S870', 'S878', 'S88', 'S880', 'S881', 'S889', 'S89', 'S897', 'S898', 'S899', 'S90', 'S900', 'S901',\n",
    "      'S902', 'S903', 'S907', 'S908', 'S909', 'S91', 'S910', 'S911', 'S912', 'S913', 'S917', 'S92', 'S920', 'S921',\n",
    "      'S922', 'S923', 'S924', 'S925', 'S927', 'S929', 'S93', 'S930', 'S931', 'S932', 'S933', 'S934', 'S935', 'S936',\n",
    "      'S94', 'S940', 'S941', 'S942', 'S943', 'S947', 'S948', 'S949', 'S95', 'S950', 'S951', 'S952', 'S957', 'S958',\n",
    "      'S959', 'S96', 'S960', 'S961', 'S962', 'S967', 'S968', 'S969', 'S97', 'S970', 'S971', 'S978', 'S98', 'S980',\n",
    "      'S981', 'S982', 'S983', 'S984', 'S99', 'S997', 'S998', 'S999', 'T00', 'T000', 'T001', 'T002', 'T003', 'T006',\n",
    "      'T008', 'T009', 'T01', 'T010', 'T011', 'T012', 'T013', 'T016', 'T018', 'T019', 'T02', 'T020', 'T021', 'T022',\n",
    "      'T023', 'T024', 'T025', 'T026', 'T027', 'T028', 'T029', 'T03', 'T030', 'T031', 'T032', 'T033', 'T034', 'T038',\n",
    "      'T039', 'T04', 'T040', 'T041', 'T042', 'T043', 'T044', 'T047', 'T048', 'T049', 'T05', 'T050', 'T051', 'T052',\n",
    "      'T053', 'T054', 'T055', 'T056', 'T058', 'T059', 'T06', 'T060', 'T061', 'T062', 'T063', 'T064', 'T065', 'T068',\n",
    "      'T07', 'T08', 'T09', 'T090', 'T091', 'T092', 'T093', 'T094', 'T095', 'T096', 'T098', 'T099', 'T10', 'T11',\n",
    "      'T110', 'T111', 'T112', 'T113', 'T114', 'T115', 'T116', 'T118', 'T119', 'T12', 'T13', 'T130', 'T131', 'T132',\n",
    "      'T133', 'T134', 'T135', 'T136', 'T138', 'T139', 'T14', 'T140', 'T141', 'T142', 'T143', 'T144', 'T145', 'T146',\n",
    "      'T147', 'T148', 'T149', 'T15', 'T150', 'T151', 'T158', 'T159', 'T16', 'T17', 'T170', 'T171', 'T172', 'T173',\n",
    "      'T174', 'T175', 'T178', 'T179', 'T18', 'T180', 'T181', 'T182', 'T183', 'T184', 'T185', 'T188', 'T189', 'T19',\n",
    "      'T190', 'T191', 'T192', 'T193', 'T198', 'T199', 'T20', 'T200', 'T201', 'T202', 'T203', 'T204', 'T205', 'T206',\n",
    "      'T207', 'T21', 'T210', 'T211', 'T212', 'T213', 'T214', 'T215', 'T216', 'T217', 'T22', 'T220', 'T221', 'T222',\n",
    "      'T223', 'T224', 'T225', 'T226', 'T227', 'T23', 'T230', 'T231', 'T232', 'T233', 'T234', 'T235', 'T236', 'T237',\n",
    "      'T24', 'T240', 'T241', 'T242', 'T243', 'T244', 'T245', 'T246', 'T247', 'T25', 'T250', 'T251', 'T252', 'T253',\n",
    "      'T254', 'T255', 'T256', 'T257', 'T26', 'T260', 'T261', 'T262', 'T263', 'T264', 'T265', 'T266', 'T267', 'T268',\n",
    "      'T269', 'T27', 'T270', 'T271', 'T272', 'T273', 'T274', 'T275', 'T276', 'T277', 'T28', 'T280', 'T281', 'T282',\n",
    "      'T283', 'T284', 'T285', 'T286', 'T287', 'T288', 'T289', 'T29', 'T290', 'T291', 'T292', 'T293', 'T294', 'T295',\n",
    "      'T296', 'T297', 'T30', 'T300', 'T301', 'T302', 'T303', 'T304', 'T305', 'T306', 'T307', 'T31', 'T310', 'T311',\n",
    "      'T312', 'T313', 'T314', 'T315', 'T316', 'T317', 'T318', 'T319', 'T32', 'T320', 'T321', 'T322', 'T323', 'T324',\n",
    "      'T325', 'T326', 'T327', 'T328', 'T329', 'T33', 'T330', 'T331', 'T332', 'T333', 'T334', 'T335', 'T336', 'T337',\n",
    "      'T338', 'T339', 'T34', 'T340', 'T341', 'T342', 'T343', 'T344', 'T345', 'T346', 'T347', 'T348', 'T349', 'T35',\n",
    "      'T350', 'T351', 'T352', 'T353', 'T354', 'T355', 'T356', 'T357', 'T36', 'T360', 'T361', 'T362', 'T363', 'T364',\n",
    "      'T365', 'T366', 'T367', 'T368', 'T369', 'T37', 'T370', 'T371', 'T372', 'T373', 'T374', 'T375', 'T378', 'T379',\n",
    "      'T38', 'T380', 'T381', 'T382', 'T383', 'T384', 'T385', 'T386', 'T387', 'T388', 'T389', 'T39', 'T390', 'T391',\n",
    "      'T392', 'T393', 'T394', 'T398', 'T399', 'T40', 'T400', 'T401', 'T402', 'T403', 'T404', 'T405', 'T406', 'T407',\n",
    "      'T408', 'T409', 'T41', 'T410', 'T411', 'T412', 'T413', 'T414', 'T415', 'T42', 'T420', 'T421', 'T422', 'T423',\n",
    "      'T424', 'T425', 'T426', 'T427', 'T428', 'T43', 'T430', 'T431', 'T432', 'T433', 'T434', 'T435', 'T436', 'T438',\n",
    "      'T439', 'T44', 'T440', 'T441', 'T442', 'T443', 'T444', 'T445', 'T446', 'T447', 'T448', 'T449', 'T45', 'T450',\n",
    "      'T451', 'T452', 'T453', 'T454', 'T455', 'T456', 'T457', 'T458', 'T459', 'T46', 'T460', 'T461', 'T462', 'T463',\n",
    "      'T464', 'T465', 'T466', 'T467', 'T468', 'T469', 'T47', 'T470', 'T471', 'T472', 'T473', 'T474', 'T475', 'T476',\n",
    "      'T477', 'T478', 'T479', 'T48', 'T480', 'T481', 'T482', 'T483', 'T484', 'T485', 'T486', 'T487', 'T49', 'T490',\n",
    "      'T491', 'T492', 'T493', 'T494', 'T495', 'T496', 'T497', 'T498', 'T499', 'T50', 'T500', 'T501', 'T502', 'T503',\n",
    "      'T504', 'T505', 'T506', 'T507', 'T508', 'T509', 'T51', 'T510', 'T511', 'T512', 'T513', 'T518', 'T519', 'T52',\n",
    "      'T520', 'T521', 'T522', 'T523', 'T524', 'T528', 'T529', 'T53', 'T530', 'T531', 'T532', 'T533', 'T534', 'T535',\n",
    "      'T536', 'T537', 'T539', 'T54', 'T540', 'T541', 'T542', 'T543', 'T549', 'T55', 'T56', 'T560', 'T561', 'T562',\n",
    "      'T563', 'T564', 'T565', 'T566', 'T567', 'T568', 'T569', 'T57', 'T570', 'T571', 'T572', 'T573', 'T578', 'T579',\n",
    "      'T58', 'T59', 'T590', 'T591', 'T592', 'T593', 'T594', 'T595', 'T596', 'T597', 'T598', 'T599', 'T60', 'T600',\n",
    "      'T601', 'T602', 'T603', 'T604', 'T608', 'T609', 'T61', 'T610', 'T611', 'T612', 'T618', 'T619', 'T62', 'T620',\n",
    "      'T621', 'T622', 'T628', 'T629', 'T63', 'T630', 'T631', 'T632', 'T633', 'T634', 'T635', 'T636', 'T638', 'T639',\n",
    "      'T64', 'T65', 'T650', 'T651', 'T652', 'T653', 'T654', 'T655', 'T656', 'T658', 'T659', 'T66', 'T67', 'T670',\n",
    "      'T671', 'T672', 'T673', 'T674', 'T675', 'T676', 'T677', 'T678', 'T679', 'T68', 'T69', 'T690', 'T691', 'T698',\n",
    "      'T699', 'T70', 'T700', 'T701', 'T702', 'T703', 'T704', 'T708', 'T709', 'T71', 'T73', 'T730', 'T731', 'T732',\n",
    "      'T733', 'T738', 'T739', 'T74', 'T740', 'T741', 'T742', 'T743', 'T748', 'T749', 'T75', 'T750', 'T751', 'T752',\n",
    "      'T753', 'T754', 'T758', 'T78', 'T780', 'T781', 'T782', 'T783', 'T784', 'T788', 'T789', 'T79', 'T790', 'T791',\n",
    "      'T792', 'T793', 'T794', 'T795', 'T796', 'T797', 'T798', 'T799', 'T80', 'T800', 'T801', 'T802', 'T803', 'T804',\n",
    "      'T805', 'T806', 'T808', 'T809', 'T81', 'T810', 'T811', 'T812', 'T813', 'T814', 'T815', 'T816', 'T817', 'T818',\n",
    "      'T819', 'T82', 'T820', 'T821', 'T822', 'T823', 'T824', 'T825', 'T826', 'T827', 'T828', 'T829', 'T83', 'T830',\n",
    "      'T831', 'T832', 'T833', 'T834', 'T835', 'T836', 'T838', 'T839', 'T84', 'T840', 'T841', 'T842', 'T843', 'T844',\n",
    "      'T845', 'T846', 'T847', 'T848', 'T849', 'T85', 'T850', 'T851', 'T852', 'T853', 'T854', 'T855', 'T856', 'T857',\n",
    "      'T858', 'T859', 'T86', 'T860', 'T861', 'T862', 'T863', 'T864', 'T868', 'T869', 'T87', 'T870', 'T871', 'T872',\n",
    "      'T873', 'T874', 'T875', 'T876', 'T88', 'T880', 'T881', 'T882', 'T883', 'T884', 'T885', 'T886', 'T887', 'T888',\n",
    "      'T889', 'T90', 'T900', 'T901', 'T902', 'T903', 'T904', 'T905', 'T908', 'T909', 'T91', 'T910', 'T911', 'T912',\n",
    "      'T913', 'T914', 'T915', 'T918', 'T919', 'T92', 'T920', 'T921', 'T922', 'T923', 'T924', 'T925', 'T926', 'T928',\n",
    "      'T929', 'T93', 'T930', 'T931', 'T932', 'T933', 'T934', 'T935', 'T936', 'T938', 'T939', 'T94', 'T940', 'T941',\n",
    "      'T95', 'T950', 'T951', 'T952', 'T953', 'T954', 'T958', 'T959', 'T96', 'T97', 'T98', 'T980', 'T981', 'T982',\n",
    "      'T983', 'Y89', 'Y899']\n",
    "      \n",
    "g8 = ['Y10', 'Y11', 'Y12', 'Y13', 'Y14', 'Y15', 'Y16', 'Y17', 'Y18', 'Y19', 'Y20', 'Y21', 'Y22', 'Y23',\n",
    "      'Y24', 'Y241', 'Y242', 'Y243', 'Y244', 'Y249', 'Y25', 'Y26', 'Y27', 'Y28', 'Y29', 'Y30', 'Y31',\n",
    "      'Y32', 'Y33', 'Y34', 'Y87', 'Y872']\n",
    "      \n",
    "g9 = ['B99']"
   ]
  },
  {
   "cell_type": "markdown",
   "metadata": {},
   "source": [
    "**Flag records with any garbage code in UCOD field.** Combine sublists of garbage codes and flag row if underlying cause ICD-10 code (UCOD) is in the combined list."
   ]
  },
  {
   "cell_type": "code",
   "execution_count": 11,
   "metadata": {},
   "outputs": [
    {
     "name": "stdout",
     "output_type": "stream",
     "text": [
      "Stored 'gc_all' (list)\n"
     ]
    }
   ],
   "source": [
    "gc_all = g1 + g2 + g3 + g4 + g5 + g6 + g7 + g8 + g9\n",
    "%store gc_all\n"
   ]
  },
  {
   "cell_type": "markdown",
   "metadata": {},
   "source": [
    "**Create a single flag variable** to indicate that the underlying cause code was one of the garbage codes listed above."
   ]
  },
  {
   "cell_type": "code",
   "execution_count": 12,
   "metadata": {},
   "outputs": [],
   "source": [
    "ds['gc_any'] = ds['UCOD'].isin(gc_all)"
   ]
  },
  {
   "cell_type": "code",
   "execution_count": 13,
   "metadata": {},
   "outputs": [
    {
     "data": {
      "text/html": [
       "<div>\n",
       "<style scoped>\n",
       "    .dataframe tbody tr th:only-of-type {\n",
       "        vertical-align: middle;\n",
       "    }\n",
       "\n",
       "    .dataframe tbody tr th {\n",
       "        vertical-align: top;\n",
       "    }\n",
       "\n",
       "    .dataframe thead th {\n",
       "        text-align: right;\n",
       "    }\n",
       "</style>\n",
       "<table border=\"1\" class=\"dataframe\">\n",
       "  <thead>\n",
       "    <tr style=\"text-align: right;\">\n",
       "      <th></th>\n",
       "      <th>has_garbage_code</th>\n",
       "      <th>Percent</th>\n",
       "    </tr>\n",
       "  </thead>\n",
       "  <tbody>\n",
       "    <tr>\n",
       "      <th>False</th>\n",
       "      <td>211924</td>\n",
       "      <td>93.359824</td>\n",
       "    </tr>\n",
       "    <tr>\n",
       "      <th>True</th>\n",
       "      <td>15073</td>\n",
       "      <td>6.640176</td>\n",
       "    </tr>\n",
       "  </tbody>\n",
       "</table>\n",
       "</div>"
      ],
      "text/plain": [
       "       has_garbage_code    Percent\n",
       "False            211924  93.359824\n",
       "True              15073   6.640176"
      ]
     },
     "execution_count": 13,
     "metadata": {},
     "output_type": "execute_result"
    }
   ],
   "source": [
    "gc_table = ds['gc_any'].value_counts(dropna=False).to_frame('has_garbage_code')\n",
    "gc_table['Percent'] = (gc_table['has_garbage_code']/gc_table['has_garbage_code'].sum()) * 100\n",
    "\n",
    "gc_table"
   ]
  },
  {
   "cell_type": "code",
   "execution_count": 14,
   "metadata": {},
   "outputs": [
    {
     "data": {
      "text/html": [
       "<div>\n",
       "<style scoped>\n",
       "    .dataframe tbody tr th:only-of-type {\n",
       "        vertical-align: middle;\n",
       "    }\n",
       "\n",
       "    .dataframe tbody tr th {\n",
       "        vertical-align: top;\n",
       "    }\n",
       "\n",
       "    .dataframe thead th {\n",
       "        text-align: right;\n",
       "    }\n",
       "</style>\n",
       "<table border=\"1\" class=\"dataframe\">\n",
       "  <thead>\n",
       "    <tr style=\"text-align: right;\">\n",
       "      <th>dody</th>\n",
       "      <th>2016</th>\n",
       "      <th>2017</th>\n",
       "      <th>2018</th>\n",
       "      <th>2019</th>\n",
       "    </tr>\n",
       "    <tr>\n",
       "      <th>gc_any</th>\n",
       "      <th></th>\n",
       "      <th></th>\n",
       "      <th></th>\n",
       "      <th></th>\n",
       "    </tr>\n",
       "  </thead>\n",
       "  <tbody>\n",
       "    <tr>\n",
       "      <th>False</th>\n",
       "      <td>51127</td>\n",
       "      <td>53364</td>\n",
       "      <td>53265</td>\n",
       "      <td>54168</td>\n",
       "    </tr>\n",
       "    <tr>\n",
       "      <th>True</th>\n",
       "      <td>3694</td>\n",
       "      <td>3628</td>\n",
       "      <td>3685</td>\n",
       "      <td>4066</td>\n",
       "    </tr>\n",
       "  </tbody>\n",
       "</table>\n",
       "</div>"
      ],
      "text/plain": [
       "dody     2016   2017   2018   2019\n",
       "gc_any                            \n",
       "False   51127  53364  53265  54168\n",
       "True     3694   3628   3685   4066"
      ]
     },
     "execution_count": 14,
     "metadata": {},
     "output_type": "execute_result"
    }
   ],
   "source": [
    "pd.crosstab(ds.gc_any, ds.dody)"
   ]
  },
  {
   "cell_type": "code",
   "execution_count": 15,
   "metadata": {},
   "outputs": [
    {
     "data": {
      "text/html": [
       "<div>\n",
       "<style scoped>\n",
       "    .dataframe tbody tr th:only-of-type {\n",
       "        vertical-align: middle;\n",
       "    }\n",
       "\n",
       "    .dataframe tbody tr th {\n",
       "        vertical-align: top;\n",
       "    }\n",
       "\n",
       "    .dataframe thead th {\n",
       "        text-align: right;\n",
       "    }\n",
       "</style>\n",
       "<table border=\"1\" class=\"dataframe\">\n",
       "  <thead>\n",
       "    <tr style=\"text-align: right;\">\n",
       "      <th>dody</th>\n",
       "      <th>2016</th>\n",
       "      <th>2017</th>\n",
       "      <th>2018</th>\n",
       "      <th>2019</th>\n",
       "    </tr>\n",
       "    <tr>\n",
       "      <th>gc_any</th>\n",
       "      <th></th>\n",
       "      <th></th>\n",
       "      <th></th>\n",
       "      <th></th>\n",
       "    </tr>\n",
       "  </thead>\n",
       "  <tbody>\n",
       "    <tr>\n",
       "      <th>False</th>\n",
       "      <td>93.3</td>\n",
       "      <td>93.6</td>\n",
       "      <td>93.5</td>\n",
       "      <td>93.0</td>\n",
       "    </tr>\n",
       "    <tr>\n",
       "      <th>True</th>\n",
       "      <td>6.7</td>\n",
       "      <td>6.4</td>\n",
       "      <td>6.5</td>\n",
       "      <td>7.0</td>\n",
       "    </tr>\n",
       "  </tbody>\n",
       "</table>\n",
       "</div>"
      ],
      "text/plain": [
       "dody    2016  2017  2018  2019\n",
       "gc_any                        \n",
       "False   93.3  93.6  93.5  93.0\n",
       "True     6.7   6.4   6.5   7.0"
      ]
     },
     "execution_count": 15,
     "metadata": {},
     "output_type": "execute_result"
    }
   ],
   "source": [
    "round(pd.crosstab(ds.gc_any, ds.dody, normalize=\"columns\")*100,1)"
   ]
  },
  {
   "cell_type": "markdown",
   "metadata": {},
   "source": [
    "**Between 2016 and 2019 the number of death records that were assigned garbage codes** for the underlying cause ranged from 3,628 (6.4%) to 4,066 (7%) of the the total death records for persons who died in Washington State."
   ]
  },
  {
   "cell_type": "markdown",
   "metadata": {},
   "source": [
    "**Create a dictionary of garbage code flags for the nine categories (and one for valid codes) with corresponding ICD-10 codes to attach to records**\n"
   ]
  },
  {
   "cell_type": "code",
   "execution_count": 16,
   "metadata": {},
   "outputs": [
    {
     "name": "stdout",
     "output_type": "stream",
     "text": [
      "Stored 'gc_label_dict' (dict)\n"
     ]
    }
   ],
   "source": [
    "\n",
    "gcdict = {'1': g1, '2': g2, '3': g3, '4': g4, '5': g5, '6': g6, '7': g7, '8': g8, '9': g9}\n",
    "\n",
    "gcdict_rev = {v: k for k in gcdict for v in gcdict[k]}\n",
    "\n",
    "#the above is functional equivalent of:\n",
    "\n",
    "#gcdict_rev = {}\n",
    "#for key in gcdict:\n",
    "#    for value in gcdict[key]:\n",
    "#        gcdict_rev[value] = key\n",
    "\n",
    "gc_label_dict = {1 : '1-Septicemia', \n",
    "                 2 : '2-Heart failure', \n",
    "                 3 : '3-Ill-defined cancer', \n",
    "                 4 : '4-Volume depletion', \n",
    "                 5 : '5-Ill-defined', \n",
    "                 6 : '6-Ill-defined cardiovascular', \n",
    "                 7 : '7-Ill-defined injury', \n",
    "                 8 : '8-Undetermined intent', \n",
    "                 9 : '9-Ill-defined infectious'}\n",
    "\n",
    "%store gc_label_dict\n",
    "\n",
    "ds['gc_cat'] = ds['UCOD'].map(gcdict_rev).fillna(0).astype(int) # map GC category numeric labels (1-9) to record based on UCOD code.  Records with valid UCOD codes are labelled '0'.\n",
    "\n",
    "ds['gc_cat_label'] = ds['gc_cat'].map(gc_label_dict).fillna('0-No GC').astype(str) # add word labels."
   ]
  },
  {
   "cell_type": "markdown",
   "metadata": {},
   "source": [
    "**Check to assure all records are labelled**"
   ]
  },
  {
   "cell_type": "code",
   "execution_count": 17,
   "metadata": {},
   "outputs": [
    {
     "data": {
      "text/html": [
       "<div>\n",
       "<style scoped>\n",
       "    .dataframe tbody tr th:only-of-type {\n",
       "        vertical-align: middle;\n",
       "    }\n",
       "\n",
       "    .dataframe tbody tr th {\n",
       "        vertical-align: top;\n",
       "    }\n",
       "\n",
       "    .dataframe thead th {\n",
       "        text-align: right;\n",
       "    }\n",
       "</style>\n",
       "<table border=\"1\" class=\"dataframe\">\n",
       "  <thead>\n",
       "    <tr style=\"text-align: right;\">\n",
       "      <th></th>\n",
       "      <th>gc_cat</th>\n",
       "    </tr>\n",
       "  </thead>\n",
       "  <tbody>\n",
       "    <tr>\n",
       "      <th>0</th>\n",
       "      <td>211924</td>\n",
       "    </tr>\n",
       "    <tr>\n",
       "      <th>1</th>\n",
       "      <td>2149</td>\n",
       "    </tr>\n",
       "    <tr>\n",
       "      <th>2</th>\n",
       "      <td>2767</td>\n",
       "    </tr>\n",
       "    <tr>\n",
       "      <th>3</th>\n",
       "      <td>2376</td>\n",
       "    </tr>\n",
       "    <tr>\n",
       "      <th>4</th>\n",
       "      <td>534</td>\n",
       "    </tr>\n",
       "    <tr>\n",
       "      <th>5</th>\n",
       "      <td>2973</td>\n",
       "    </tr>\n",
       "    <tr>\n",
       "      <th>6</th>\n",
       "      <td>3868</td>\n",
       "    </tr>\n",
       "    <tr>\n",
       "      <th>8</th>\n",
       "      <td>368</td>\n",
       "    </tr>\n",
       "    <tr>\n",
       "      <th>9</th>\n",
       "      <td>38</td>\n",
       "    </tr>\n",
       "  </tbody>\n",
       "</table>\n",
       "</div>"
      ],
      "text/plain": [
       "   gc_cat\n",
       "0  211924\n",
       "1    2149\n",
       "2    2767\n",
       "3    2376\n",
       "4     534\n",
       "5    2973\n",
       "6    3868\n",
       "8     368\n",
       "9      38"
      ]
     },
     "execution_count": 17,
     "metadata": {},
     "output_type": "execute_result"
    }
   ],
   "source": [
    "ds['gc_cat'].value_counts().sort_index(ascending=True).to_frame()"
   ]
  },
  {
   "cell_type": "code",
   "execution_count": 18,
   "metadata": {},
   "outputs": [
    {
     "data": {
      "text/html": [
       "<div>\n",
       "<style scoped>\n",
       "    .dataframe tbody tr th:only-of-type {\n",
       "        vertical-align: middle;\n",
       "    }\n",
       "\n",
       "    .dataframe tbody tr th {\n",
       "        vertical-align: top;\n",
       "    }\n",
       "\n",
       "    .dataframe thead th {\n",
       "        text-align: right;\n",
       "    }\n",
       "</style>\n",
       "<table border=\"1\" class=\"dataframe\">\n",
       "  <thead>\n",
       "    <tr style=\"text-align: right;\">\n",
       "      <th></th>\n",
       "      <th>gc_cat_label</th>\n",
       "    </tr>\n",
       "  </thead>\n",
       "  <tbody>\n",
       "    <tr>\n",
       "      <th>0-No GC</th>\n",
       "      <td>211924</td>\n",
       "    </tr>\n",
       "    <tr>\n",
       "      <th>1-Septicemia</th>\n",
       "      <td>2149</td>\n",
       "    </tr>\n",
       "    <tr>\n",
       "      <th>2-Heart failure</th>\n",
       "      <td>2767</td>\n",
       "    </tr>\n",
       "    <tr>\n",
       "      <th>3-Ill-defined cancer</th>\n",
       "      <td>2376</td>\n",
       "    </tr>\n",
       "    <tr>\n",
       "      <th>4-Volume depletion</th>\n",
       "      <td>534</td>\n",
       "    </tr>\n",
       "    <tr>\n",
       "      <th>5-Ill-defined</th>\n",
       "      <td>2973</td>\n",
       "    </tr>\n",
       "    <tr>\n",
       "      <th>6-Ill-defined cardiovascular</th>\n",
       "      <td>3868</td>\n",
       "    </tr>\n",
       "    <tr>\n",
       "      <th>8-Undetermined intent</th>\n",
       "      <td>368</td>\n",
       "    </tr>\n",
       "    <tr>\n",
       "      <th>9-Ill-defined infectious</th>\n",
       "      <td>38</td>\n",
       "    </tr>\n",
       "  </tbody>\n",
       "</table>\n",
       "</div>"
      ],
      "text/plain": [
       "                              gc_cat_label\n",
       "0-No GC                             211924\n",
       "1-Septicemia                          2149\n",
       "2-Heart failure                       2767\n",
       "3-Ill-defined cancer                  2376\n",
       "4-Volume depletion                     534\n",
       "5-Ill-defined                         2973\n",
       "6-Ill-defined cardiovascular          3868\n",
       "8-Undetermined intent                  368\n",
       "9-Ill-defined infectious                38"
      ]
     },
     "execution_count": 18,
     "metadata": {},
     "output_type": "execute_result"
    }
   ],
   "source": [
    "ds['gc_cat_label'].value_counts().sort_index(ascending=True).to_frame()"
   ]
  },
  {
   "cell_type": "markdown",
   "metadata": {},
   "source": [
    "**Label records by type of medical certifier** - at this point the records only have numeric values indicating the type of medical certifier (health care provider) that certified each record."
   ]
  },
  {
   "cell_type": "code",
   "execution_count": 19,
   "metadata": {},
   "outputs": [],
   "source": [
    "certifier_dict = {1:'1-Physician',\n",
    "                  2: '2-ME/Coroner',\n",
    "                  3: '3-DO',\n",
    "                  4: '4-Chiropractor',\n",
    "                  5: '5-Sanipractor',\n",
    "                  6: '6-PA', \n",
    "                  7: '7-ARNP',\n",
    "                  8: '8-NA',\n",
    "                  9: '9-Unknown'}\n",
    "\n",
    "ds['cert_label'] = ds['certdesig'].map(certifier_dict).fillna('9-Unknown').astype(str)"
   ]
  },
  {
   "cell_type": "code",
   "execution_count": 20,
   "metadata": {},
   "outputs": [
    {
     "data": {
      "text/plain": [
       "1-Physician       150407\n",
       "2-ME/Coroner       35073\n",
       "7-ARNP             23668\n",
       "3-DO               11724\n",
       "6-PA                4495\n",
       "9-Unknown           1625\n",
       "4-Chiropractor         3\n",
       "8-NA                   2\n",
       "Name: cert_label, dtype: int64"
      ]
     },
     "execution_count": 20,
     "metadata": {},
     "output_type": "execute_result"
    }
   ],
   "source": [
    "ds['cert_label'].value_counts(dropna=False)"
   ]
  },
  {
   "cell_type": "markdown",
   "metadata": {},
   "source": [
    "**CREATE AGE GROUPS**"
   ]
  },
  {
   "cell_type": "code",
   "execution_count": 21,
   "metadata": {},
   "outputs": [],
   "source": [
    "ds['agegrp'] = pd.cut(ds.ageyrs, \n",
    "                        bins=[0,19,29,39,49,59,69,79,115], \n",
    "                        labels = ['0-19 yrs', '20-29 yrs', '30-39 yrs', '40-49 yrs',\n",
    "                                 '50-59 yrs', '60-69 yrs', '70-79 yrs', '80+ yrs'])"
   ]
  },
  {
   "cell_type": "code",
   "execution_count": 22,
   "metadata": {},
   "outputs": [
    {
     "data": {
      "text/plain": [
       "80+ yrs      101570\n",
       "70-79 yrs     48729\n",
       "60-69 yrs     37560\n",
       "50-59 yrs     19747\n",
       "40-49 yrs      7986\n",
       "30-39 yrs      4964\n",
       "20-29 yrs      3461\n",
       "0-19 yrs       1518\n",
       "NaN            1462\n",
       "Name: agegrp, dtype: int64"
      ]
     },
     "execution_count": 22,
     "metadata": {},
     "output_type": "execute_result"
    }
   ],
   "source": [
    "ds['agegrp'].value_counts(dropna=False)"
   ]
  },
  {
   "cell_type": "markdown",
   "metadata": {},
   "source": [
    "**RECODE AND LABEL RACE**"
   ]
  },
  {
   "cell_type": "code",
   "execution_count": 23,
   "metadata": {},
   "outputs": [],
   "source": [
    "ds['race'] = ds['bridgerace']\n",
    "ds['race'] = ds['race'].replace([1], \"White\")\n",
    "ds['race'] = ds['race'].replace([2], \"African Am.\")\n",
    "ds['race'] = ds['race'].replace([3], \"AIAN\")\n",
    "ds['race'] = ds['race'].replace([range(4,11)], \"Asian\")\n",
    "ds['race'] = ds['race'].replace([range(11, 15)], \"Pacific Isl.\")\n",
    "ds['race'] = ds['race'].replace([15, 21, 22, 23, 24], \"Other/multirace\")\n",
    "ds['race'] = ds['race'].replace([99], \"Unknown\")"
   ]
  },
  {
   "cell_type": "code",
   "execution_count": 24,
   "metadata": {},
   "outputs": [],
   "source": [
    "ds['hispanic'] = ds['hispno']\n",
    "ds['hispanic'] = ds['hispanic'].replace(['Y'], 'No')\n",
    "ds['hispanic'] = ds['hispanic'].replace(['N'], 'Yes')"
   ]
  },
  {
   "cell_type": "code",
   "execution_count": 26,
   "metadata": {},
   "outputs": [
    {
     "data": {
      "text/html": [
       "<div>\n",
       "<style scoped>\n",
       "    .dataframe tbody tr th:only-of-type {\n",
       "        vertical-align: middle;\n",
       "    }\n",
       "\n",
       "    .dataframe tbody tr th {\n",
       "        vertical-align: top;\n",
       "    }\n",
       "\n",
       "    .dataframe thead th {\n",
       "        text-align: right;\n",
       "    }\n",
       "</style>\n",
       "<table border=\"1\" class=\"dataframe\">\n",
       "  <thead>\n",
       "    <tr style=\"text-align: right;\">\n",
       "      <th></th>\n",
       "      <th>sfn</th>\n",
       "      <th>sex</th>\n",
       "      <th>dody</th>\n",
       "      <th>dcounty</th>\n",
       "      <th>hispanic</th>\n",
       "      <th>race</th>\n",
       "      <th>agegrp</th>\n",
       "      <th>manner</th>\n",
       "      <th>tobac</th>\n",
       "      <th>pg</th>\n",
       "      <th>gc_cat</th>\n",
       "      <th>gc_cat_label</th>\n",
       "      <th>UCOD</th>\n",
       "      <th>MC2</th>\n",
       "      <th>AllMC</th>\n",
       "      <th>MC2_20</th>\n",
       "      <th>codlit</th>\n",
       "      <th>cert_label</th>\n",
       "    </tr>\n",
       "  </thead>\n",
       "  <tbody>\n",
       "    <tr>\n",
       "      <th>0</th>\n",
       "      <td>2017025187</td>\n",
       "      <td>M</td>\n",
       "      <td>2017</td>\n",
       "      <td>KING</td>\n",
       "      <td>No</td>\n",
       "      <td>White</td>\n",
       "      <td>80+ yrs</td>\n",
       "      <td>N</td>\n",
       "      <td>N</td>\n",
       "      <td>8.0</td>\n",
       "      <td>0</td>\n",
       "      <td>0-No GC</td>\n",
       "      <td>J841</td>\n",
       "      <td>I10</td>\n",
       "      <td>J841 I10 I219 I269 I48 I509 J690 J960 R090    ...</td>\n",
       "      <td>I10 I219 I269 I48 I509 J690 J960 R090</td>\n",
       "      <td>ACUTE RESPIRATORY FAILURE WITH HYPOXIA ASPIRAT...</td>\n",
       "      <td>1-Physician</td>\n",
       "    </tr>\n",
       "    <tr>\n",
       "      <th>1</th>\n",
       "      <td>2017025188</td>\n",
       "      <td>M</td>\n",
       "      <td>2017</td>\n",
       "      <td>KING</td>\n",
       "      <td>No</td>\n",
       "      <td>White</td>\n",
       "      <td>50-59 yrs</td>\n",
       "      <td>N</td>\n",
       "      <td>N</td>\n",
       "      <td>8.0</td>\n",
       "      <td>0</td>\n",
       "      <td>0-No GC</td>\n",
       "      <td>I64</td>\n",
       "      <td>NaN</td>\n",
       "      <td>I64</td>\n",
       "      <td></td>\n",
       "      <td>ACUTE ISCHEMIC CEREBRAL VASCULAR ACCIDENT</td>\n",
       "      <td>7-ARNP</td>\n",
       "    </tr>\n",
       "    <tr>\n",
       "      <th>2</th>\n",
       "      <td>2017025189</td>\n",
       "      <td>F</td>\n",
       "      <td>2017</td>\n",
       "      <td>KING</td>\n",
       "      <td>No</td>\n",
       "      <td>Asian</td>\n",
       "      <td>70-79 yrs</td>\n",
       "      <td>N</td>\n",
       "      <td>N</td>\n",
       "      <td>8.0</td>\n",
       "      <td>0</td>\n",
       "      <td>0-No GC</td>\n",
       "      <td>C833</td>\n",
       "      <td>D619</td>\n",
       "      <td>C833 D619 E46 E883 R58 Y433</td>\n",
       "      <td>D619 E46 E883 R58 Y433</td>\n",
       "      <td>RETROPERITONEAL BLEEDING EXTENSIVE LARGE B CEL...</td>\n",
       "      <td>1-Physician</td>\n",
       "    </tr>\n",
       "    <tr>\n",
       "      <th>3</th>\n",
       "      <td>2017025190</td>\n",
       "      <td>F</td>\n",
       "      <td>2017</td>\n",
       "      <td>KING</td>\n",
       "      <td>No</td>\n",
       "      <td>White</td>\n",
       "      <td>80+ yrs</td>\n",
       "      <td>N</td>\n",
       "      <td>N</td>\n",
       "      <td>8.0</td>\n",
       "      <td>4</td>\n",
       "      <td>4-Volume depletion</td>\n",
       "      <td>E86</td>\n",
       "      <td>N179</td>\n",
       "      <td>E86 N179 R13</td>\n",
       "      <td>N179 R13</td>\n",
       "      <td>ACUTE RENAL FAILURE DEHYDRATION DYSPHAGIA</td>\n",
       "      <td>1-Physician</td>\n",
       "    </tr>\n",
       "    <tr>\n",
       "      <th>4</th>\n",
       "      <td>2017025191</td>\n",
       "      <td>M</td>\n",
       "      <td>2017</td>\n",
       "      <td>SPOKANE</td>\n",
       "      <td>No</td>\n",
       "      <td>White</td>\n",
       "      <td>70-79 yrs</td>\n",
       "      <td>N</td>\n",
       "      <td>Y</td>\n",
       "      <td>8.0</td>\n",
       "      <td>4</td>\n",
       "      <td>4-Volume depletion</td>\n",
       "      <td>E870</td>\n",
       "      <td>F54</td>\n",
       "      <td>E870 F54 G729 I509 J969 R093 R418 R53 T179 W80...</td>\n",
       "      <td>F54 G729 I509 J969 R093 R418 R53 T179 W80     ...</td>\n",
       "      <td>PULSELESS ELECTRICAL ACTIVITY ARREST HYPOXEMIC...</td>\n",
       "      <td>1-Physician</td>\n",
       "    </tr>\n",
       "  </tbody>\n",
       "</table>\n",
       "</div>"
      ],
      "text/plain": [
       "          sfn sex  dody  dcounty hispanic   race     agegrp manner tobac   pg  \\\n",
       "0  2017025187   M  2017     KING       No  White    80+ yrs      N     N  8.0   \n",
       "1  2017025188   M  2017     KING       No  White  50-59 yrs      N     N  8.0   \n",
       "2  2017025189   F  2017     KING       No  Asian  70-79 yrs      N     N  8.0   \n",
       "3  2017025190   F  2017     KING       No  White    80+ yrs      N     N  8.0   \n",
       "4  2017025191   M  2017  SPOKANE       No  White  70-79 yrs      N     Y  8.0   \n",
       "\n",
       "   gc_cat        gc_cat_label  UCOD   MC2  \\\n",
       "0       0             0-No GC  J841   I10   \n",
       "1       0             0-No GC   I64   NaN   \n",
       "2       0             0-No GC  C833  D619   \n",
       "3       4  4-Volume depletion   E86  N179   \n",
       "4       4  4-Volume depletion  E870   F54   \n",
       "\n",
       "                                               AllMC  \\\n",
       "0  J841 I10 I219 I269 I48 I509 J690 J960 R090    ...   \n",
       "1                             I64                      \n",
       "2          C833 D619 E46 E883 R58 Y433                 \n",
       "3                      E86 N179 R13                    \n",
       "4  E870 F54 G729 I509 J969 R093 R418 R53 T179 W80...   \n",
       "\n",
       "                                              MC2_20  \\\n",
       "0   I10 I219 I269 I48 I509 J690 J960 R090              \n",
       "1                                                      \n",
       "2               D619 E46 E883 R58 Y433                 \n",
       "3                          N179 R13                    \n",
       "4  F54 G729 I509 J969 R093 R418 R53 T179 W80     ...   \n",
       "\n",
       "                                              codlit   cert_label  \n",
       "0  ACUTE RESPIRATORY FAILURE WITH HYPOXIA ASPIRAT...  1-Physician  \n",
       "1     ACUTE ISCHEMIC CEREBRAL VASCULAR ACCIDENT            7-ARNP  \n",
       "2  RETROPERITONEAL BLEEDING EXTENSIVE LARGE B CEL...  1-Physician  \n",
       "3       ACUTE RENAL FAILURE DEHYDRATION DYSPHAGIA     1-Physician  \n",
       "4  PULSELESS ELECTRICAL ACTIVITY ARREST HYPOXEMIC...  1-Physician  "
      ]
     },
     "execution_count": 26,
     "metadata": {},
     "output_type": "execute_result"
    }
   ],
   "source": [
    "ds = ds.loc[:, ['sfn', 'sex', 'dody', 'dcounty','hispanic', 'race', 'agegrp', 'manner', 'tobac', 'pg',\n",
    "                'gc_cat', 'gc_cat_label', 'UCOD', 'MC2','AllMC', 'MC2_20', 'codlit', 'cert_label']]\n",
    "ds.head()"
   ]
  },
  {
   "cell_type": "code",
   "execution_count": 27,
   "metadata": {},
   "outputs": [],
   "source": [
    "ds.to_csv(r'Y:/DQSS/Death/MBG/py/capstone2/data/d1619_clean.csv', index=None, header=True)"
   ]
  },
  {
   "cell_type": "markdown",
   "metadata": {},
   "source": [
    "**TEXT PREPROCESSING**"
   ]
  },
  {
   "cell_type": "markdown",
   "metadata": {},
   "source": [
    "In this section, I prepare a corpus of tokens for bag of words analysis and Latent Dirichlet Allocation. \n",
    "<br> \n",
    "<br> \n",
    "Text pre-processing involves a series of steps in which sentences or phrases in the body of text to be analyzed are standardized by converting them to 'tokens' which are single words or multi word phrases stripped of punctuation, numbers, white spaces, and stop words (commonly occurring words).  The words are then converted to a uniform case, stemmed, and lemmatized to complete the standardization process.  The end product of pre-processing is a list of words or multi word phrases for each observation.  For example, analysis of tweets to classify them by topic would involve pre-processing each tweet as described and converting the tweet into a list of cleaned and stemmed words for use in the model.\n",
    "<br> \n",
    "<br> \n",
    "Initially, I used the text of the medical terms entered into the cause of death fields by medical certifiers.  However, after some exploration I decided to use ICD-10 codes to create the corpus instead of words as it yielded better results in my models."
   ]
  },
  {
   "cell_type": "markdown",
   "metadata": {},
   "source": [
    "**Using ICD-10 codes instead of medical terms** for tokens has two primary advantages: \n",
    "(1) all words and phrases are standardized so that variations of a given cause of death will not show up as separate topics.  (2) conversion to codes means that I don't have to create a customized list of stopwords that are appropriate for medical terminology. Words like 'of', 'the', 'and' etc. are already removed from the corpus."
   ]
  },
  {
   "cell_type": "markdown",
   "metadata": {},
   "source": [
    "**Restrict data set** to records with garbage code as underlying cause code. I also removed records that were labelled 4-Volume depletion, 8-Undetermined intent, and 9-ill-defined infectious causes because of the small number of records in each group.\n",
    "<br>\n"
   ]
  },
  {
   "cell_type": "code",
   "execution_count": 28,
   "metadata": {},
   "outputs": [],
   "source": [
    "keep_gc_cat = [1, 2, 3, 5, 6, 7]\n",
    "ds = ds.loc[ds['gc_cat'].isin(keep_gc_cat), :]\n"
   ]
  },
  {
   "cell_type": "code",
   "execution_count": 29,
   "metadata": {},
   "outputs": [
    {
     "name": "stdout",
     "output_type": "stream",
     "text": [
      "6    3868\n",
      "5    2973\n",
      "2    2767\n",
      "3    2376\n",
      "1    2149\n",
      "Name: gc_cat, dtype: int64\n",
      "14133\n"
     ]
    }
   ],
   "source": [
    "print(ds.gc_cat.value_counts())\n",
    "print(len(ds))"
   ]
  },
  {
   "cell_type": "markdown",
   "metadata": {},
   "source": [
    "**NATURAL LANGUAGE PROCESSING USING CAUSE OF DEATH LITERAL TEXT VS. USING CAUSE OF DEATH ICD-10 CODES**"
   ]
  },
  {
   "cell_type": "markdown",
   "metadata": {},
   "source": [
    "Initially, I intended to use cause of death literal text for natural language processing.  However, during the text pre-processing steps, it became clear that generally available tools for cleaning text including removing 'stop words' are geared towards day-to-day language and therefore, less effective at removing words that occur frequently but offer little information. It was difficult to find a pre-existing list of stopwords specialized for use with healthcare related text.\n",
    "<br> \n",
    "Eventually, I decided to use ICD-10 codes assigned to each death record as the UCOD code or one of the multiple cause (MC) codes to conduct my analysis. The advantage of doing so is that much of the standardization and removal of extraneous language is already accomplished through the process of assigning ICD-10 codes to the records to represent the causes of death listed in the text literal fields.  I ended up using a field with all multiple cause fields MC2 through 20 (called \"MC2_20\" in this data set) concatenated and the UCOD code field."
   ]
  },
  {
   "cell_type": "markdown",
   "metadata": {},
   "source": [
    "**TREATING GARBAGE CODES AS STOPWORDS**"
   ]
  },
  {
   "cell_type": "markdown",
   "metadata": {},
   "source": [
    "Garbage codes (GCs), whether they appear as the UCOD or one of the MCs, by definition don't contribute any meaningful information to understanding the disease process or injury that led to an individual's death.  In this sense, they are similar to stop words which also don't add either to clustering similar documents or separating them.  During text pre-processing of the concatenated MC field, initially, I treated GCs as stop words and removed them from the final text corpus.  However, when comparing a corpus that included GC codes with one that excluded them, the supervised learning methods performed slightly better when GCs were left intact.  For the unsupervised method, treating the GCs as stop words and removing them from the corpus yielded better results. For this reason, I decided to create two versions of the final corpus: with and without GCs."
   ]
  },
  {
   "cell_type": "markdown",
   "metadata": {},
   "source": [
    "**Use list of garbage ICD-10 codes as 'stop word' list.** In addition to removing records with garbage codes as underlying cause codes, I also remove the codes themselves from all multiple cause code positions. The presence of GCs in any multiple cause code position could obscure any useful information contained in the remaining multiple cause codes in the topic modeling step.\n"
   ]
  },
  {
   "cell_type": "markdown",
   "metadata": {},
   "source": [
    "**Creating a corpus of ICD-10 full codes as unigrams**"
   ]
  },
  {
   "cell_type": "markdown",
   "metadata": {},
   "source": [
    "ICD-10 mortaliy codes are usually comprised of 4 alpha numeric characters with the first position always being a letter of the alphabet indicating the larger family of conditions represented by those codes. The second and third positions of the code are numbers indicating a condition or cause of death, while the fourth and final position is occupied by a number which indicates a specific location in the body or sub-category of the specific disease represented by the previous three characters.\n",
    "<br>\n",
    "<br>\n",
    "The ICD-10 code equivalent to stemming or lemmatization of words during the pre-processing step is the removal of the final number which provides granular information about the condition but may not be useful in the present effort to classify these deaths into broad categories. In this step I create a version of the corpus that is comprised of three character codes as unigrams."
   ]
  },
  {
   "cell_type": "markdown",
   "metadata": {},
   "source": [
    "**Creating a corpus of ICD-10 short codes as unigrams** ICD-10 mortaliy codes are usually comprised of 4 alpha numeric characters with the first position always being a letter of the alphabet indicating the larger family of conditions represented by those codes. The second and third positions of the code are numbers indicating a condition or cause of death, while the fourth and final position is occupied by a number which indicates a specific location in the body or sub-category of the specific disease represented by the previous three characters.\n",
    "<br>\n",
    "<br>\n",
    "The ICD-10 code equivalent to stemming or lemmatization of words during the pre-processing step is the removal of the final number which provides granular information about the condition but may not be useful in the present effort to classify these deaths into broad categories. In this step I create a version of the corpus that is comprised of three character codes as unigrams.\n"
   ]
  },
  {
   "cell_type": "code",
   "execution_count": 30,
   "metadata": {},
   "outputs": [],
   "source": [
    "# add 'respiratory failure' codes to the list of stopwords\n",
    "respfail_tobac_codes = ['J960','J961','J969','F179']\n",
    "gc_plus = gc_all + respfail_tobac_codes\n"
   ]
  },
  {
   "cell_type": "markdown",
   "metadata": {},
   "source": [
    "**Remove rows with no values in MC2 through MC20**.  If MC2 is empty, the subsequent MC variables will also be blank."
   ]
  },
  {
   "cell_type": "code",
   "execution_count": 32,
   "metadata": {},
   "outputs": [
    {
     "data": {
      "text/plain": [
       "10019"
      ]
     },
     "execution_count": 32,
     "metadata": {},
     "output_type": "execute_result"
    }
   ],
   "source": [
    "ds.dropna(subset = ['MC2'], inplace=True)\n",
    "len(ds)"
   ]
  },
  {
   "cell_type": "code",
   "execution_count": null,
   "metadata": {},
   "outputs": [],
   "source": [
    "'''%%writefile myfunction_2.py\n",
    "\n",
    "from nltk.tokenize import word_tokenize\n",
    "\n",
    "clean_mc=[]\n",
    "short_mc=[]\n",
    "clean_mcgc=[]\n",
    "\n",
    "def make_corpi(data, stop_words):\n",
    "    for cod in data:\n",
    "        cod_words = word_tokenize(cod)\n",
    "        cod_nostop = [w for w in cod_words if w not in stop_words]\n",
    "        clean_mc.append(cod_nostop)\n",
    "\n",
    "        cod_short = [w[0:3] for w in cod_nostop]\n",
    "        short_mc.append(cod_short)\n",
    "\n",
    "        short_mcgc = [w[0:3] for w in cod_words]\n",
    "        clean_mcgc.append(short_mcgc)\n",
    "    return clean_mc, short_mc, clean_mcgc\n",
    "'''"
   ]
  },
  {
   "cell_type": "code",
   "execution_count": 33,
   "metadata": {},
   "outputs": [
    {
     "data": {
      "text/html": [
       "<div>\n",
       "<style scoped>\n",
       "    .dataframe tbody tr th:only-of-type {\n",
       "        vertical-align: middle;\n",
       "    }\n",
       "\n",
       "    .dataframe tbody tr th {\n",
       "        vertical-align: top;\n",
       "    }\n",
       "\n",
       "    .dataframe thead th {\n",
       "        text-align: right;\n",
       "    }\n",
       "</style>\n",
       "<table border=\"1\" class=\"dataframe\">\n",
       "  <thead>\n",
       "    <tr style=\"text-align: right;\">\n",
       "      <th></th>\n",
       "      <th>sfn</th>\n",
       "      <th>sex</th>\n",
       "      <th>dody</th>\n",
       "      <th>dcounty</th>\n",
       "      <th>hispanic</th>\n",
       "      <th>race</th>\n",
       "      <th>agegrp</th>\n",
       "      <th>manner</th>\n",
       "      <th>tobac</th>\n",
       "      <th>pg</th>\n",
       "      <th>gc_cat</th>\n",
       "      <th>gc_cat_label</th>\n",
       "      <th>UCOD</th>\n",
       "      <th>MC2</th>\n",
       "      <th>AllMC</th>\n",
       "      <th>MC2_20</th>\n",
       "      <th>codlit</th>\n",
       "      <th>cert_label</th>\n",
       "    </tr>\n",
       "  </thead>\n",
       "  <tbody>\n",
       "    <tr>\n",
       "      <th>30</th>\n",
       "      <td>2017014601</td>\n",
       "      <td>F</td>\n",
       "      <td>2017</td>\n",
       "      <td>KING</td>\n",
       "      <td>No</td>\n",
       "      <td>White</td>\n",
       "      <td>70-79 yrs</td>\n",
       "      <td>N</td>\n",
       "      <td>N</td>\n",
       "      <td>8.0</td>\n",
       "      <td>1</td>\n",
       "      <td>1-Septicemia</td>\n",
       "      <td>A419</td>\n",
       "      <td>I469</td>\n",
       "      <td>A419 I469 R092</td>\n",
       "      <td>I469 R092</td>\n",
       "      <td>RESPIRATORY AND CARDIAC ARREST SEVERE SEPSIS, ...</td>\n",
       "      <td>1-Physician</td>\n",
       "    </tr>\n",
       "    <tr>\n",
       "      <th>38</th>\n",
       "      <td>2017025200</td>\n",
       "      <td>F</td>\n",
       "      <td>2017</td>\n",
       "      <td>SNOHOMISH</td>\n",
       "      <td>No</td>\n",
       "      <td>White</td>\n",
       "      <td>80+ yrs</td>\n",
       "      <td>N</td>\n",
       "      <td>N</td>\n",
       "      <td>8.0</td>\n",
       "      <td>2</td>\n",
       "      <td>2-Heart failure</td>\n",
       "      <td>I500</td>\n",
       "      <td>D469</td>\n",
       "      <td>I500 D469 I802 J189 T828 Y831</td>\n",
       "      <td>D469 I802 J189 T828 Y831</td>\n",
       "      <td>CONGESTIVE HEART FAILURE, CAUSE NOT FORMALLY W...</td>\n",
       "      <td>1-Physician</td>\n",
       "    </tr>\n",
       "    <tr>\n",
       "      <th>45</th>\n",
       "      <td>2018031044</td>\n",
       "      <td>M</td>\n",
       "      <td>2018</td>\n",
       "      <td>PIERCE</td>\n",
       "      <td>No</td>\n",
       "      <td>White</td>\n",
       "      <td>60-69 yrs</td>\n",
       "      <td>N</td>\n",
       "      <td>U</td>\n",
       "      <td>8.0</td>\n",
       "      <td>3</td>\n",
       "      <td>3-Ill-defined cancer</td>\n",
       "      <td>C80</td>\n",
       "      <td>B182</td>\n",
       "      <td>C80 B182 C786 N179</td>\n",
       "      <td>B182 C786 N179</td>\n",
       "      <td>METASTATIC MALIGNANCY WITH PERITONEAL CARCINOM...</td>\n",
       "      <td>7-ARNP</td>\n",
       "    </tr>\n",
       "    <tr>\n",
       "      <th>49</th>\n",
       "      <td>2018031047</td>\n",
       "      <td>F</td>\n",
       "      <td>2018</td>\n",
       "      <td>SNOHOMISH</td>\n",
       "      <td>No</td>\n",
       "      <td>White</td>\n",
       "      <td>80+ yrs</td>\n",
       "      <td>N</td>\n",
       "      <td>N</td>\n",
       "      <td>8.0</td>\n",
       "      <td>1</td>\n",
       "      <td>1-Septicemia</td>\n",
       "      <td>A419</td>\n",
       "      <td>C762</td>\n",
       "      <td>A419 C762 R99</td>\n",
       "      <td>C762 R99</td>\n",
       "      <td>SEPTIC SHOCK OF UNKNOWN ETIOLOGY ABDOMINAL CAR...</td>\n",
       "      <td>1-Physician</td>\n",
       "    </tr>\n",
       "    <tr>\n",
       "      <th>69</th>\n",
       "      <td>2017019359</td>\n",
       "      <td>F</td>\n",
       "      <td>2017</td>\n",
       "      <td>PIERCE</td>\n",
       "      <td>No</td>\n",
       "      <td>White</td>\n",
       "      <td>80+ yrs</td>\n",
       "      <td>N</td>\n",
       "      <td>P</td>\n",
       "      <td>8.0</td>\n",
       "      <td>2</td>\n",
       "      <td>2-Heart failure</td>\n",
       "      <td>I509</td>\n",
       "      <td>A310</td>\n",
       "      <td>I509 A310 F179 I120 I461 I48 J449 K922 Q600   ...</td>\n",
       "      <td>A310 F179 I120 I461 I48 J449 K922 Q600</td>\n",
       "      <td>SUDDEN CARDIAC DEATH, PROBABLE ARRHYTHMIA ATRI...</td>\n",
       "      <td>1-Physician</td>\n",
       "    </tr>\n",
       "  </tbody>\n",
       "</table>\n",
       "</div>"
      ],
      "text/plain": [
       "           sfn sex  dody    dcounty hispanic   race     agegrp manner tobac  \\\n",
       "30  2017014601   F  2017       KING       No  White  70-79 yrs      N     N   \n",
       "38  2017025200   F  2017  SNOHOMISH       No  White    80+ yrs      N     N   \n",
       "45  2018031044   M  2018     PIERCE       No  White  60-69 yrs      N     U   \n",
       "49  2018031047   F  2018  SNOHOMISH       No  White    80+ yrs      N     N   \n",
       "69  2017019359   F  2017     PIERCE       No  White    80+ yrs      N     P   \n",
       "\n",
       "     pg  gc_cat          gc_cat_label  UCOD   MC2  \\\n",
       "30  8.0       1          1-Septicemia  A419  I469   \n",
       "38  8.0       2       2-Heart failure  I500  D469   \n",
       "45  8.0       3  3-Ill-defined cancer   C80  B182   \n",
       "49  8.0       1          1-Septicemia  A419  C762   \n",
       "69  8.0       2       2-Heart failure  I509  A310   \n",
       "\n",
       "                                                AllMC  \\\n",
       "30                    A419 I469 R092                    \n",
       "38        I500 D469 I802 J189 T828 Y831                 \n",
       "45                 C80 B182 C786 N179                   \n",
       "49                     A419 C762 R99                    \n",
       "69  I509 A310 F179 I120 I461 I48 J449 K922 Q600   ...   \n",
       "\n",
       "                                               MC2_20  \\\n",
       "30                         I469 R092                    \n",
       "38             D469 I802 J189 T828 Y831                 \n",
       "45                     B182 C786 N179                   \n",
       "49                          C762 R99                    \n",
       "69  A310 F179 I120 I461 I48 J449 K922 Q600              \n",
       "\n",
       "                                               codlit   cert_label  \n",
       "30  RESPIRATORY AND CARDIAC ARREST SEVERE SEPSIS, ...  1-Physician  \n",
       "38  CONGESTIVE HEART FAILURE, CAUSE NOT FORMALLY W...  1-Physician  \n",
       "45  METASTATIC MALIGNANCY WITH PERITONEAL CARCINOM...       7-ARNP  \n",
       "49  SEPTIC SHOCK OF UNKNOWN ETIOLOGY ABDOMINAL CAR...  1-Physician  \n",
       "69  SUDDEN CARDIAC DEATH, PROBABLE ARRHYTHMIA ATRI...  1-Physician  "
      ]
     },
     "execution_count": 33,
     "metadata": {},
     "output_type": "execute_result"
    }
   ],
   "source": [
    "ds.head()"
   ]
  },
  {
   "cell_type": "code",
   "execution_count": 34,
   "metadata": {},
   "outputs": [],
   "source": [
    "from myfunction_2 import make_corpi\n",
    "\n",
    "ds['clean_mc'], ds['short_mc'], ds['clean_mcgc'] = make_corpi(ds.loc[:,'AllMC'], gc_plus)"
   ]
  },
  {
   "cell_type": "markdown",
   "metadata": {},
   "source": [
    "**Creating a corpus of bigrams** After trying various versions of the corpus with Latent Dirichlet Allocation model I found the best performing model used a corpus of bigrams.  Instead of individual ICD-10 codes, the corpus consists of combinations of two codes appearing consecutively in a death record. "
   ]
  },
  {
   "cell_type": "code",
   "execution_count": 35,
   "metadata": {},
   "outputs": [],
   "source": [
    "def make_bigrams(doc):\n",
    "    bi = []\n",
    "    for i in range(len(doc)-1):\n",
    "        bigrm = doc[i] + \"_\" + doc[i+1]\n",
    "        bi.append(bigrm)\n",
    "    return bi\n"
   ]
  },
  {
   "cell_type": "code",
   "execution_count": 36,
   "metadata": {},
   "outputs": [],
   "source": [
    "ds['all_bigrams'] = ds.loc[:,'clean_mc'].apply(lambda row: make_bigrams(row))"
   ]
  },
  {
   "cell_type": "markdown",
   "metadata": {},
   "source": [
    "**Creating corpus with unigrams with MC2 through MC20 and without removing stopwords** This corpus will be used in supervised machine learning models in notebook 5 of this series.  Supervised algorithms had slightly better classification accuracy when GC were left in the corpus."
   ]
  },
  {
   "cell_type": "code",
   "execution_count": 40,
   "metadata": {},
   "outputs": [
    {
     "name": "stdout",
     "output_type": "stream",
     "text": [
      "Writing myfunction_3.py\n"
     ]
    }
   ],
   "source": [
    "'''%%writefile myfunction_3.py\n",
    "\n",
    "from nltk.tokenize import word_tokenize\n",
    "\n",
    "def short_mc2_20(data):\n",
    "    mc220_gc_toks = []\n",
    "    for cod in data:\n",
    "        cod_words = word_tokenize(cod)\n",
    "        cod_short = [w[0:3] for w in cod_words]\n",
    "        mc220_gc_toks.append(cod_short)\n",
    "    return mc220_gc_toks'''\n"
   ]
  },
  {
   "cell_type": "code",
   "execution_count": 41,
   "metadata": {},
   "outputs": [],
   "source": [
    "from myfunction_3 import short_mc2_20\n",
    "\n",
    "ds['mc2_20_short_toks'] = short_mc2_20(ds.loc[:,'MC2_20'])"
   ]
  },
  {
   "cell_type": "markdown",
   "metadata": {},
   "source": [
    "**Remove rows with empty lists in 'clean_mc' column**. After removing all the garbage codes and creating the new variable 'clean_mc' some cells contain empty lists indicating that all of the ICD-10 codes for those records were garbage codes.  After removing these records, the dataset is reduced to 7,770 records meaning that roughly half of the 15,072 records with garbage underlying codes also had GCs in the multiple cause positions providing no valuable information at all about the disease process or condition causing the death."
   ]
  },
  {
   "cell_type": "code",
   "execution_count": 42,
   "metadata": {},
   "outputs": [
    {
     "data": {
      "text/plain": [
       "7163"
      ]
     },
     "execution_count": 42,
     "metadata": {},
     "output_type": "execute_result"
    }
   ],
   "source": [
    " # to remove rows with empty lists in 'clean_mc' column.\n",
    "ds = ds[ds.clean_mc.astype(bool)]\n",
    "len(ds)"
   ]
  },
  {
   "cell_type": "code",
   "execution_count": 43,
   "metadata": {},
   "outputs": [
    {
     "data": {
      "text/html": [
       "<div>\n",
       "<style scoped>\n",
       "    .dataframe tbody tr th:only-of-type {\n",
       "        vertical-align: middle;\n",
       "    }\n",
       "\n",
       "    .dataframe tbody tr th {\n",
       "        vertical-align: top;\n",
       "    }\n",
       "\n",
       "    .dataframe thead th {\n",
       "        text-align: right;\n",
       "    }\n",
       "</style>\n",
       "<table border=\"1\" class=\"dataframe\">\n",
       "  <thead>\n",
       "    <tr style=\"text-align: right;\">\n",
       "      <th></th>\n",
       "      <th>sfn</th>\n",
       "      <th>sex</th>\n",
       "      <th>dody</th>\n",
       "      <th>dcounty</th>\n",
       "      <th>hispanic</th>\n",
       "      <th>race</th>\n",
       "      <th>agegrp</th>\n",
       "      <th>manner</th>\n",
       "      <th>tobac</th>\n",
       "      <th>pg</th>\n",
       "      <th>gc_cat</th>\n",
       "      <th>gc_cat_label</th>\n",
       "      <th>UCOD</th>\n",
       "      <th>MC2</th>\n",
       "      <th>AllMC</th>\n",
       "      <th>MC2_20</th>\n",
       "      <th>codlit</th>\n",
       "      <th>cert_label</th>\n",
       "      <th>clean_mc</th>\n",
       "      <th>short_mc</th>\n",
       "      <th>clean_mcgc</th>\n",
       "      <th>all_bigrams</th>\n",
       "      <th>mc2_20_short_toks</th>\n",
       "    </tr>\n",
       "  </thead>\n",
       "  <tbody>\n",
       "    <tr>\n",
       "      <th>38</th>\n",
       "      <td>2017025200</td>\n",
       "      <td>F</td>\n",
       "      <td>2017</td>\n",
       "      <td>SNOHOMISH</td>\n",
       "      <td>No</td>\n",
       "      <td>White</td>\n",
       "      <td>80+ yrs</td>\n",
       "      <td>N</td>\n",
       "      <td>N</td>\n",
       "      <td>8.0</td>\n",
       "      <td>2</td>\n",
       "      <td>2-Heart failure</td>\n",
       "      <td>I500</td>\n",
       "      <td>D469</td>\n",
       "      <td>I500 D469 I802 J189 T828 Y831</td>\n",
       "      <td>D469 I802 J189 T828 Y831</td>\n",
       "      <td>CONGESTIVE HEART FAILURE, CAUSE NOT FORMALLY W...</td>\n",
       "      <td>1-Physician</td>\n",
       "      <td>[D469, I802, J189, Y831]</td>\n",
       "      <td>[D46, I80, J18, Y83]</td>\n",
       "      <td>[I50, D46, I80, J18, T82, Y83]</td>\n",
       "      <td>[D469_I802, I802_J189, J189_Y831]</td>\n",
       "      <td>[D46, I80, J18, T82, Y83]</td>\n",
       "    </tr>\n",
       "    <tr>\n",
       "      <th>45</th>\n",
       "      <td>2018031044</td>\n",
       "      <td>M</td>\n",
       "      <td>2018</td>\n",
       "      <td>PIERCE</td>\n",
       "      <td>No</td>\n",
       "      <td>White</td>\n",
       "      <td>60-69 yrs</td>\n",
       "      <td>N</td>\n",
       "      <td>U</td>\n",
       "      <td>8.0</td>\n",
       "      <td>3</td>\n",
       "      <td>3-Ill-defined cancer</td>\n",
       "      <td>C80</td>\n",
       "      <td>B182</td>\n",
       "      <td>C80 B182 C786 N179</td>\n",
       "      <td>B182 C786 N179</td>\n",
       "      <td>METASTATIC MALIGNANCY WITH PERITONEAL CARCINOM...</td>\n",
       "      <td>7-ARNP</td>\n",
       "      <td>[B182, C786, N179]</td>\n",
       "      <td>[B18, C78, N17]</td>\n",
       "      <td>[C80, B18, C78, N17]</td>\n",
       "      <td>[B182_C786, C786_N179]</td>\n",
       "      <td>[B18, C78, N17]</td>\n",
       "    </tr>\n",
       "    <tr>\n",
       "      <th>69</th>\n",
       "      <td>2017019359</td>\n",
       "      <td>F</td>\n",
       "      <td>2017</td>\n",
       "      <td>PIERCE</td>\n",
       "      <td>No</td>\n",
       "      <td>White</td>\n",
       "      <td>80+ yrs</td>\n",
       "      <td>N</td>\n",
       "      <td>P</td>\n",
       "      <td>8.0</td>\n",
       "      <td>2</td>\n",
       "      <td>2-Heart failure</td>\n",
       "      <td>I509</td>\n",
       "      <td>A310</td>\n",
       "      <td>I509 A310 F179 I120 I461 I48 J449 K922 Q600   ...</td>\n",
       "      <td>A310 F179 I120 I461 I48 J449 K922 Q600</td>\n",
       "      <td>SUDDEN CARDIAC DEATH, PROBABLE ARRHYTHMIA ATRI...</td>\n",
       "      <td>1-Physician</td>\n",
       "      <td>[A310, I120, I48, J449, K922, Q600]</td>\n",
       "      <td>[A31, I12, I48, J44, K92, Q60]</td>\n",
       "      <td>[I50, A31, F17, I12, I46, I48, J44, K92, Q60]</td>\n",
       "      <td>[A310_I120, I120_I48, I48_J449, J449_K922, K92...</td>\n",
       "      <td>[A31, F17, I12, I46, I48, J44, K92, Q60]</td>\n",
       "    </tr>\n",
       "    <tr>\n",
       "      <th>70</th>\n",
       "      <td>2017026057</td>\n",
       "      <td>F</td>\n",
       "      <td>2017</td>\n",
       "      <td>CLALLAM</td>\n",
       "      <td>No</td>\n",
       "      <td>White</td>\n",
       "      <td>80+ yrs</td>\n",
       "      <td>N</td>\n",
       "      <td>N</td>\n",
       "      <td>8.0</td>\n",
       "      <td>2</td>\n",
       "      <td>2-Heart failure</td>\n",
       "      <td>I500</td>\n",
       "      <td>F03</td>\n",
       "      <td>I500 F03 J189</td>\n",
       "      <td>F03 J189</td>\n",
       "      <td>PNEUMONIA SYSTOLIC CONGESTIVE HEART FAILURE   ...</td>\n",
       "      <td>1-Physician</td>\n",
       "      <td>[F03, J189]</td>\n",
       "      <td>[F03, J18]</td>\n",
       "      <td>[I50, F03, J18]</td>\n",
       "      <td>[F03_J189]</td>\n",
       "      <td>[F03, J18]</td>\n",
       "    </tr>\n",
       "    <tr>\n",
       "      <th>90</th>\n",
       "      <td>2017022720</td>\n",
       "      <td>F</td>\n",
       "      <td>2017</td>\n",
       "      <td>KING</td>\n",
       "      <td>No</td>\n",
       "      <td>White</td>\n",
       "      <td>80+ yrs</td>\n",
       "      <td>N</td>\n",
       "      <td>N</td>\n",
       "      <td>8.0</td>\n",
       "      <td>6</td>\n",
       "      <td>6-Ill-defined cardiovascular</td>\n",
       "      <td>I10</td>\n",
       "      <td>I48</td>\n",
       "      <td>I10 I48</td>\n",
       "      <td>I48</td>\n",
       "      <td>UNSPECIFIED NATURAL CAUSES    HYPERTENSION, AT...</td>\n",
       "      <td>1-Physician</td>\n",
       "      <td>[I48]</td>\n",
       "      <td>[I48]</td>\n",
       "      <td>[I10, I48]</td>\n",
       "      <td>[]</td>\n",
       "      <td>[I48]</td>\n",
       "    </tr>\n",
       "  </tbody>\n",
       "</table>\n",
       "</div>"
      ],
      "text/plain": [
       "           sfn sex  dody    dcounty hispanic   race     agegrp manner tobac  \\\n",
       "38  2017025200   F  2017  SNOHOMISH       No  White    80+ yrs      N     N   \n",
       "45  2018031044   M  2018     PIERCE       No  White  60-69 yrs      N     U   \n",
       "69  2017019359   F  2017     PIERCE       No  White    80+ yrs      N     P   \n",
       "70  2017026057   F  2017    CLALLAM       No  White    80+ yrs      N     N   \n",
       "90  2017022720   F  2017       KING       No  White    80+ yrs      N     N   \n",
       "\n",
       "     pg  gc_cat                  gc_cat_label  UCOD   MC2  \\\n",
       "38  8.0       2               2-Heart failure  I500  D469   \n",
       "45  8.0       3          3-Ill-defined cancer   C80  B182   \n",
       "69  8.0       2               2-Heart failure  I509  A310   \n",
       "70  8.0       2               2-Heart failure  I500   F03   \n",
       "90  8.0       6  6-Ill-defined cardiovascular   I10   I48   \n",
       "\n",
       "                                                AllMC  \\\n",
       "38        I500 D469 I802 J189 T828 Y831                 \n",
       "45                 C80 B182 C786 N179                   \n",
       "69  I509 A310 F179 I120 I461 I48 J449 K922 Q600   ...   \n",
       "70                     I500 F03 J189                    \n",
       "90                          I10 I48                     \n",
       "\n",
       "                                               MC2_20  \\\n",
       "38             D469 I802 J189 T828 Y831                 \n",
       "45                     B182 C786 N179                   \n",
       "69  A310 F179 I120 I461 I48 J449 K922 Q600              \n",
       "70                          F03 J189                    \n",
       "90                              I48                     \n",
       "\n",
       "                                               codlit   cert_label  \\\n",
       "38  CONGESTIVE HEART FAILURE, CAUSE NOT FORMALLY W...  1-Physician   \n",
       "45  METASTATIC MALIGNANCY WITH PERITONEAL CARCINOM...       7-ARNP   \n",
       "69  SUDDEN CARDIAC DEATH, PROBABLE ARRHYTHMIA ATRI...  1-Physician   \n",
       "70  PNEUMONIA SYSTOLIC CONGESTIVE HEART FAILURE   ...  1-Physician   \n",
       "90  UNSPECIFIED NATURAL CAUSES    HYPERTENSION, AT...  1-Physician   \n",
       "\n",
       "                               clean_mc                        short_mc  \\\n",
       "38             [D469, I802, J189, Y831]            [D46, I80, J18, Y83]   \n",
       "45                   [B182, C786, N179]                 [B18, C78, N17]   \n",
       "69  [A310, I120, I48, J449, K922, Q600]  [A31, I12, I48, J44, K92, Q60]   \n",
       "70                          [F03, J189]                      [F03, J18]   \n",
       "90                                [I48]                           [I48]   \n",
       "\n",
       "                                       clean_mcgc  \\\n",
       "38                 [I50, D46, I80, J18, T82, Y83]   \n",
       "45                           [C80, B18, C78, N17]   \n",
       "69  [I50, A31, F17, I12, I46, I48, J44, K92, Q60]   \n",
       "70                                [I50, F03, J18]   \n",
       "90                                     [I10, I48]   \n",
       "\n",
       "                                          all_bigrams  \\\n",
       "38                  [D469_I802, I802_J189, J189_Y831]   \n",
       "45                             [B182_C786, C786_N179]   \n",
       "69  [A310_I120, I120_I48, I48_J449, J449_K922, K92...   \n",
       "70                                         [F03_J189]   \n",
       "90                                                 []   \n",
       "\n",
       "                           mc2_20_short_toks  \n",
       "38                 [D46, I80, J18, T82, Y83]  \n",
       "45                           [B18, C78, N17]  \n",
       "69  [A31, F17, I12, I46, I48, J44, K92, Q60]  \n",
       "70                                [F03, J18]  \n",
       "90                                     [I48]  "
      ]
     },
     "execution_count": 43,
     "metadata": {},
     "output_type": "execute_result"
    }
   ],
   "source": [
    "ds.head()"
   ]
  },
  {
   "cell_type": "code",
   "execution_count": 44,
   "metadata": {},
   "outputs": [],
   "source": [
    "ds.to_csv(r'Y:/DQSS/Death/MBG/py/capstone2/data/d1619_clean_preproctxt.csv', index=None, header=True)"
   ]
  },
  {
   "cell_type": "markdown",
   "metadata": {},
   "source": [
    "**Next step: 3_Exploratory data analysis**"
   ]
  }
 ],
 "metadata": {
  "kernelspec": {
   "display_name": "Python 3",
   "language": "python",
   "name": "python3"
  },
  "language_info": {
   "codemirror_mode": {
    "name": "ipython",
    "version": 3
   },
   "file_extension": ".py",
   "mimetype": "text/x-python",
   "name": "python",
   "nbconvert_exporter": "python",
   "pygments_lexer": "ipython3",
   "version": "3.8.3"
  }
 },
 "nbformat": 4,
 "nbformat_minor": 4
}
