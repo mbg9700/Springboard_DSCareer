{
 "cells": [
  {
   "cell_type": "markdown",
   "metadata": {},
   "source": [
    "### Capstone 1 - Washington state linkage of infant death, birth, and mother's hospitalization discharge data"
   ]
  },
  {
   "cell_type": "markdown",
   "metadata": {},
   "source": [
    "##### Maya Bhat-Gregerson\n",
    "\n",
    "January 07, 2020"
   ]
  },
  {
   "cell_type": "markdown",
   "metadata": {},
   "source": [
    "### A. PREPARATION OF BIRTH DATA, 2016-2018"
   ]
  },
  {
   "cell_type": "markdown",
   "metadata": {},
   "source": [
    "### I. Data acquisition"
   ]
  },
  {
   "cell_type": "code",
   "execution_count": 35,
   "metadata": {},
   "outputs": [],
   "source": [
    "import pandas as pd\n",
    "import numpy as np\n",
    "import matplotlib.pyplot as plt\n",
    "import seaborn as sns\n",
    "import pyodbc\n",
    "\n",
    "pd.set_option('display.max_columns', None)"
   ]
  },
  {
   "cell_type": "markdown",
   "metadata": {},
   "source": [
    "I use SQL queries to get the birth variables I am likely to need for linking the records for 2016 through 2018. In the SQL query I limited the records to individuals born in Washington State and those who were Washington State residents.\n",
    "\n",
    "NOTE: I renamed all variables from birth records so that they begin with 'b' to distinguish the fields from those in death records with the same names."
   ]
  },
  {
   "cell_type": "code",
   "execution_count": 6,
   "metadata": {},
   "outputs": [],
   "source": [
    "## CONNECT TO WHALES & USE SQL QUERY FOR BIRTH DATA SET\n",
    "\n",
    "driver = '{SQL Server Native Client 11.0}'\n",
    "\n",
    "conn = pyodbc.connect(\n",
    "        Trusted_Connection='Yes',\n",
    "        Driver='{ODBC Driver 13 for SQL Server}',\n",
    "        Server='#########',\n",
    "        Database='####'\n",
    "        )\n",
    "\n",
    "querystring = (\"SELECT SFN_NUM as 'bsfn',\" + \n",
    "        \"SUBSTRING(SFN_NUM, 11, 1) as 'bcerttype',\" +\n",
    "        \"ISNULL(CHILD_GNAME, 'NaN') as 'bfname', \" +\n",
    "        \"ISNULL(CHILD_MNAME, 'NaN') as 'bmname', \" +\n",
    "        \"ISNULL(CHILD_LNAME, 'NaN') as 'blname', \" +\n",
    "        \"ISNULL(MOTHER_GNAME_PRIOR, 'NaN') as 'bmom_fname', \" +\n",
    "        \"ISNULL(MOTHER_MNAME_PRIOR, 'NaN') as 'bmom_mname', \" + \n",
    "        \"ISNULL(MOTHER_LNAME, 'NaN') as 'bmom_lname', \" +\n",
    "        \"ISNULL(INFANT_SEX, 'NaN') as 'bsex', \" + \n",
    "\t\t\"IDOB as 'bdob', \" + \n",
    "\t\t\"ISNULL(SUBSTRING(IDOB, 1,2), '99') as 'bdobm', \" + \n",
    "\t\t\"ISNULL(SUBSTRING(IDOB, 4,2), '99') as 'bdobd', \" +\n",
    "\t\t\"ISNULL(SUBSTRING(IDOB, 7,4), '9999') as 'bdoby', \" + \n",
    "\t\t\"ISNULL(BIRTH_FAC_STATE_FIPS_CD, '  ') as 'bbirplstatefips', \" + \n",
    "\t\t\"ISNULL(RES_CITY, '  ') as 'b_momrescity', \" + \n",
    "\t\t\"RIGHT('00000' + ISNULL(RES_CITY_FIPS_CD, '99999'), 5) as 'b_momrescityfips', \" + \n",
    "\t\t\"ISNULL(RES_COUNTY, '  ') as 'b_momrescountyl', \" + \n",
    "\t\t\"RIGHT('000' + ISNULL(RES_COUNTY_FIPS_CD, '999'), 3) as 'b_momrescntyfips', \" + \n",
    "\t\t\"ISNULL(RES_STATE_FIPS_CD, '  ') as 'b_momresstatefips', \" + \n",
    "\t\t\"ISNULL(SUBSTRING(RES_ZIP, 1,5), '99999') as 'b_momreszip' \" + \n",
    "\"FROM [wa_vrvweb_events].[VRV_BIRTH_TBL] \" +\n",
    "\"WHERE ((DATE_BIRTH_YEAR = 2016) OR (DATE_BIRTH_YEAR = 2017) OR (DATE_BIRTH_YEAR = 2018))\" +\n",
    "\t\"AND FL_CURRENT = '1'\" +\n",
    "\t\"AND FL_VOIDED = '0'\" +\n",
    "    \"AND FL_FILED <> 'N'\" + \n",
    "    \"AND (BIRTH_FAC_STATE_FIPS_CD = 'WA' OR RES_STATE_FIPS_CD = 'WA')\")\n",
    "\n",
    "bir1618 = pd.read_sql_query(querystring, conn)\n",
    "\n",
    "## SAVE DATA AS CSV FILE\n",
    "\n",
    "bir1618.to_csv(r'########\\Py\\Data\\bir1618_raw.csv', index=None, header=True)"
   ]
  },
  {
   "cell_type": "code",
   "execution_count": 11,
   "metadata": {},
   "outputs": [
    {
     "data": {
      "text/plain": [
       "(267744, 20)"
      ]
     },
     "execution_count": 11,
     "metadata": {},
     "output_type": "execute_result"
    }
   ],
   "source": [
    "bir1618 = pd.read_csv(r'#####\\Py\\Data\\bir1618_raw.csv')\n",
    "bir1618.shape"
   ]
  },
  {
   "cell_type": "code",
   "execution_count": 12,
   "metadata": {},
   "outputs": [
    {
     "name": "stdout",
     "output_type": "stream",
     "text": [
      "<class 'pandas.core.frame.DataFrame'>\n",
      "RangeIndex: 267744 entries, 0 to 267743\n",
      "Data columns (total 20 columns):\n",
      "bsfn                 267744 non-null object\n",
      "bcerttype            267744 non-null object\n",
      "bfname               267728 non-null object\n",
      "bmname               241829 non-null object\n",
      "blname               267728 non-null object\n",
      "bmom_fname           267577 non-null object\n",
      "bmom_mname           224872 non-null object\n",
      "bmom_lname           266143 non-null object\n",
      "bsex                 267744 non-null object\n",
      "bdob                 267744 non-null object\n",
      "bdobm                267744 non-null int64\n",
      "bdobd                267744 non-null int64\n",
      "bdoby                267744 non-null int64\n",
      "bbirplstatefips      267744 non-null object\n",
      "b_momrescity         267744 non-null object\n",
      "b_momrescityfips     267744 non-null int64\n",
      "b_momrescountyl      267744 non-null object\n",
      "b_momrescntyfips     267744 non-null int64\n",
      "b_momresstatefips    267744 non-null object\n",
      "b_momreszip          267744 non-null object\n",
      "dtypes: int64(5), object(15)\n",
      "memory usage: 40.9+ MB\n"
     ]
    }
   ],
   "source": [
    "bir1618.info()"
   ]
  },
  {
   "cell_type": "code",
   "execution_count": 13,
   "metadata": {},
   "outputs": [
    {
     "data": {
      "text/plain": [
       "['bsfn',\n",
       " 'bcerttype',\n",
       " 'bfname',\n",
       " 'bmname',\n",
       " 'blname',\n",
       " 'bmom_fname',\n",
       " 'bmom_mname',\n",
       " 'bmom_lname',\n",
       " 'bsex',\n",
       " 'bdob',\n",
       " 'bdobm',\n",
       " 'bdobd',\n",
       " 'bdoby',\n",
       " 'bbirplstatefips',\n",
       " 'b_momrescity',\n",
       " 'b_momrescityfips',\n",
       " 'b_momrescountyl',\n",
       " 'b_momrescntyfips',\n",
       " 'b_momresstatefips',\n",
       " 'b_momreszip']"
      ]
     },
     "execution_count": 13,
     "metadata": {},
     "output_type": "execute_result"
    }
   ],
   "source": [
    "# Create list of variable names in birth data sets for later use\n",
    "birlinkvars = list(bir1618.columns.values)\n",
    "birlinkvars"
   ]
  },
  {
   "cell_type": "markdown",
   "metadata": {},
   "source": [
    "### II. Data cleaning and standardization"
   ]
  },
  {
   "cell_type": "markdown",
   "metadata": {},
   "source": [
    " - Standardize the merging ID number variable ('bsfn') so that it is an integer."
   ]
  },
  {
   "cell_type": "markdown",
   "metadata": {},
   "source": [
    "bir1618.head() shows that 'bsfn' is a string consisting of 10 numbers followed by R, O, D, or B.  I will remove the last character and then convert the remaining string (all numbers) into an integer."
   ]
  },
  {
   "cell_type": "code",
   "execution_count": 14,
   "metadata": {},
   "outputs": [],
   "source": [
    "bir1618.bsfn= bir1618.bsfn.str.rstrip('R')\n",
    "bir1618.bsfn= bir1618.bsfn.str.rstrip('O')\n",
    "bir1618.bsfn= bir1618.bsfn.str.rstrip('D')\n",
    "bir1618.bsfn= bir1618.bsfn.str.rstrip('B')"
   ]
  },
  {
   "cell_type": "code",
   "execution_count": 15,
   "metadata": {},
   "outputs": [],
   "source": [
    "bir1618['bsfn'] = bir1618['bsfn'].astype(int)"
   ]
  },
  {
   "cell_type": "code",
   "execution_count": 16,
   "metadata": {},
   "outputs": [
    {
     "data": {
      "text/plain": [
       "dtype('int32')"
      ]
     },
     "execution_count": 16,
     "metadata": {},
     "output_type": "execute_result"
    }
   ],
   "source": [
    "bir1618.bsfn.dtypes"
   ]
  },
  {
   "cell_type": "markdown",
   "metadata": {},
   "source": [
    " - Check date of birth year ('bdoby') variable to make sure we have only the years of interest"
   ]
  },
  {
   "cell_type": "code",
   "execution_count": 18,
   "metadata": {},
   "outputs": [
    {
     "data": {
      "text/plain": [
       "2016    91760\n",
       "2017    88707\n",
       "2018    87277\n",
       "Name: bdoby, dtype: int64"
      ]
     },
     "execution_count": 18,
     "metadata": {},
     "output_type": "execute_result"
    }
   ],
   "source": [
    "bir1618['bdoby'].value_counts(dropna=False)"
   ]
  },
  {
   "cell_type": "markdown",
   "metadata": {},
   "source": [
    " - Check to see if mother's residence state (which is considered to be the infant's resident state) is WA only."
   ]
  },
  {
   "cell_type": "code",
   "execution_count": 19,
   "metadata": {},
   "outputs": [
    {
     "data": {
      "text/plain": [
       "WA    264106\n",
       "OR      1643\n",
       "ID      1356\n",
       "AK       188\n",
       "CA        66\n",
       "MT        54\n",
       "ZZ        53\n",
       "BC        27\n",
       "XX        26\n",
       "TX        20\n",
       "VA        15\n",
       "AZ        15\n",
       "NC        12\n",
       "UT        12\n",
       "NV        11\n",
       "HI        11\n",
       "FL        10\n",
       "NY         9\n",
       "IL         9\n",
       "TN         8\n",
       "CO         7\n",
       "OH         7\n",
       "MN         6\n",
       "MI         6\n",
       "GA         5\n",
       "WI         5\n",
       "AR         4\n",
       "AL         4\n",
       "MD         4\n",
       "MO         3\n",
       "KS         3\n",
       "NE         3\n",
       "LA         3\n",
       "ND         3\n",
       "PA         3\n",
       "SC         3\n",
       "KY         3\n",
       "AS         2\n",
       "MA         2\n",
       "WY         2\n",
       "NM         2\n",
       "IN         2\n",
       "NJ         2\n",
       "ON         1\n",
       "RI         1\n",
       "CT         1\n",
       "VT         1\n",
       "NS         1\n",
       "IA         1\n",
       "MS         1\n",
       "NH         1\n",
       "SD         1\n",
       "Name: b_momresstatefips, dtype: int64"
      ]
     },
     "execution_count": 19,
     "metadata": {},
     "output_type": "execute_result"
    }
   ],
   "source": [
    "bir1618['b_momresstatefips'].value_counts(dropna=False)"
   ]
  },
  {
   "cell_type": "markdown",
   "metadata": {},
   "source": [
    "   **LIMIT DATA SET TO INFANTS WHO WERE WA RESIDENTS**"
   ]
  },
  {
   "cell_type": "code",
   "execution_count": 26,
   "metadata": {},
   "outputs": [
    {
     "data": {
      "text/plain": [
       "WA    263544\n",
       "OR      2846\n",
       "ID       882\n",
       "CA       143\n",
       "TX        36\n",
       "AZ        21\n",
       "CO        18\n",
       "FL        16\n",
       "MT        14\n",
       "UT        14\n",
       "OH        12\n",
       "NY        11\n",
       "NV        10\n",
       "PA         9\n",
       "AK         9\n",
       "VA         9\n",
       "MA         8\n",
       "HI         8\n",
       "LA         8\n",
       "KS         8\n",
       "NC         7\n",
       "WY         7\n",
       "IL         7\n",
       "MN         6\n",
       "XX         6\n",
       "CT         6\n",
       "AR         6\n",
       "MI         6\n",
       "NM         6\n",
       "IN         6\n",
       "DC         5\n",
       "MO         5\n",
       "WI         5\n",
       "SC         4\n",
       "GA         4\n",
       "AL         4\n",
       "ND         3\n",
       "TN         3\n",
       "NJ         3\n",
       "NE         3\n",
       "WV         2\n",
       "MS         2\n",
       "RI         2\n",
       "MD         2\n",
       "SD         2\n",
       "OK         2\n",
       "KY         1\n",
       "IA         1\n",
       "NH         1\n",
       "DE         1\n",
       "Name: bbirplstatefips, dtype: int64"
      ]
     },
     "execution_count": 26,
     "metadata": {},
     "output_type": "execute_result"
    }
   ],
   "source": [
    "bir1618['bbirplstatefips'].value_counts(dropna=False)"
   ]
  },
  {
   "cell_type": "code",
   "execution_count": 27,
   "metadata": {},
   "outputs": [
    {
     "data": {
      "text/plain": [
       "WA    259906\n",
       "Name: b_momresstatefips, dtype: int64"
      ]
     },
     "execution_count": 27,
     "metadata": {},
     "output_type": "execute_result"
    }
   ],
   "source": [
    "b1618 = bir1618[(bir1618['b_momresstatefips']==\"WA\")]\n",
    "b1618 = b1618[(b1618['bbirplstatefips']==\"WA\")]\n",
    "\n",
    "b1618['b_momresstatefips'].value_counts(dropna=False)"
   ]
  },
  {
   "cell_type": "code",
   "execution_count": 28,
   "metadata": {},
   "outputs": [
    {
     "data": {
      "text/plain": [
       "WA    259906\n",
       "Name: bbirplstatefips, dtype: int64"
      ]
     },
     "execution_count": 28,
     "metadata": {},
     "output_type": "execute_result"
    }
   ],
   "source": [
    "b1618['bbirplstatefips'].value_counts(dropna=False)"
   ]
  },
  {
   "cell_type": "code",
   "execution_count": 29,
   "metadata": {},
   "outputs": [
    {
     "data": {
      "text/plain": [
       "(259906, 20)"
      ]
     },
     "execution_count": 29,
     "metadata": {},
     "output_type": "execute_result"
    }
   ],
   "source": [
    "b1618.shape"
   ]
  },
  {
   "cell_type": "markdown",
   "metadata": {},
   "source": [
    "#### CHECK FOR NULL VALUES"
   ]
  },
  {
   "cell_type": "code",
   "execution_count": 30,
   "metadata": {},
   "outputs": [
    {
     "data": {
      "text/plain": [
       "bsfn                     0\n",
       "bcerttype                0\n",
       "bfname                   9\n",
       "bmname               25515\n",
       "blname                  13\n",
       "bmom_fname              98\n",
       "bmom_mname           42101\n",
       "bmom_lname            1384\n",
       "bsex                     0\n",
       "bdob                     0\n",
       "bdobm                    0\n",
       "bdobd                    0\n",
       "bdoby                    0\n",
       "bbirplstatefips          0\n",
       "b_momrescity             0\n",
       "b_momrescityfips         0\n",
       "b_momrescountyl          0\n",
       "b_momrescntyfips         0\n",
       "b_momresstatefips        0\n",
       "b_momreszip              0\n",
       "dtype: int64"
      ]
     },
     "execution_count": 30,
     "metadata": {},
     "output_type": "execute_result"
    }
   ],
   "source": [
    "# checking for all missing variables\n",
    "b1618.isna().sum()"
   ]
  },
  {
   "cell_type": "markdown",
   "metadata": {},
   "source": [
    "- Mothers' and infants' middle names are not useful for linking as there are too many missing values."
   ]
  },
  {
   "cell_type": "markdown",
   "metadata": {},
   "source": [
    " **CHECK FOR OUT OF RANGE VALUES**"
   ]
  },
  {
   "cell_type": "code",
   "execution_count": 36,
   "metadata": {},
   "outputs": [],
   "source": [
    "# create dictionary of valid values so that each variable can be checked to make sure there is no\n",
    "# out of range value.\n",
    "\n",
    "valids = {'sex': ['M', 'F', 'U'],\n",
    "          'dobm': [1, 2, 3, 4, 5, 6, 7, 8, 9, 10, 11, 12, 99],\n",
    "          'dobd': np.r_[1:32 ,99],\n",
    "          'doby': [2016,2017,2018],\n",
    "         'rcntyfips': np.r_[range(1, 78, 2), 99],\n",
    "         'certtype': ['R'],\n",
    "         'birthstatefips': ['WA'], \n",
    "         'rstatefips': ['WA']}"
   ]
  },
  {
   "cell_type": "code",
   "execution_count": 38,
   "metadata": {},
   "outputs": [
    {
     "data": {
      "text/plain": [
       "0"
      ]
     },
     "execution_count": 38,
     "metadata": {},
     "output_type": "execute_result"
    }
   ],
   "source": [
    "# check for out of range values for 'bsex'\n",
    "\n",
    "chkbsex = b1618['bsex'].isin(valids['sex'])\n",
    "len(b1618[~chkbsex])"
   ]
  },
  {
   "cell_type": "code",
   "execution_count": 39,
   "metadata": {},
   "outputs": [
    {
     "data": {
      "text/plain": [
       "0"
      ]
     },
     "execution_count": 39,
     "metadata": {},
     "output_type": "execute_result"
    }
   ],
   "source": [
    "# check for out of range values for 'bdobm'\n",
    "\n",
    "chkbdobm = b1618['bdobm'].isin(valids['dobm'])\n",
    "len(b1618[~chkbdobm])"
   ]
  },
  {
   "cell_type": "code",
   "execution_count": 40,
   "metadata": {},
   "outputs": [
    {
     "data": {
      "text/plain": [
       "0"
      ]
     },
     "execution_count": 40,
     "metadata": {},
     "output_type": "execute_result"
    }
   ],
   "source": [
    "# check for out of range values for 'bdoby'\n",
    "\n",
    "chkbdoby = b1618['bdoby'].isin(valids['doby'])\n",
    "len(b1618[~chkbdoby])"
   ]
  },
  {
   "cell_type": "code",
   "execution_count": 41,
   "metadata": {},
   "outputs": [
    {
     "data": {
      "text/plain": [
       "0"
      ]
     },
     "execution_count": 41,
     "metadata": {},
     "output_type": "execute_result"
    }
   ],
   "source": [
    "# check for out of range values for 'bdobd'\n",
    "\n",
    "chkbdobd = b1618['bdobd'].isin(valids['dobd'])\n",
    "len(b1618[~chkbdobd])"
   ]
  },
  {
   "cell_type": "code",
   "execution_count": 43,
   "metadata": {},
   "outputs": [
    {
     "data": {
      "text/plain": [
       "132"
      ]
     },
     "execution_count": 43,
     "metadata": {},
     "output_type": "execute_result"
    }
   ],
   "source": [
    "# check for out of range values for 'b_momrescntyfips'\n",
    "\n",
    "chkbrcounty = b1618['b_momrescntyfips'].isin(valids['rcntyfips'])\n",
    "len(b1618[~chkbrcounty])"
   ]
  },
  {
   "cell_type": "code",
   "execution_count": 45,
   "metadata": {},
   "outputs": [
    {
     "data": {
      "text/html": [
       "<div>\n",
       "<style scoped>\n",
       "    .dataframe tbody tr th:only-of-type {\n",
       "        vertical-align: middle;\n",
       "    }\n",
       "\n",
       "    .dataframe tbody tr th {\n",
       "        vertical-align: top;\n",
       "    }\n",
       "\n",
       "    .dataframe thead th {\n",
       "        text-align: right;\n",
       "    }\n",
       "</style>\n",
       "<table border=\"1\" class=\"dataframe\">\n",
       "  <thead>\n",
       "    <tr style=\"text-align: right;\">\n",
       "      <th></th>\n",
       "      <th>b_momrescntyfips</th>\n",
       "      <th>b_momrescountyl</th>\n",
       "      <th>b_momresstatefips</th>\n",
       "    </tr>\n",
       "  </thead>\n",
       "  <tbody>\n",
       "    <tr>\n",
       "      <td>99</td>\n",
       "      <td>999</td>\n",
       "      <td></td>\n",
       "      <td>WA</td>\n",
       "    </tr>\n",
       "    <tr>\n",
       "      <td>1060</td>\n",
       "      <td>999</td>\n",
       "      <td></td>\n",
       "      <td>WA</td>\n",
       "    </tr>\n",
       "    <tr>\n",
       "      <td>1311</td>\n",
       "      <td>999</td>\n",
       "      <td>UNKNOWN</td>\n",
       "      <td>WA</td>\n",
       "    </tr>\n",
       "    <tr>\n",
       "      <td>1875</td>\n",
       "      <td>999</td>\n",
       "      <td></td>\n",
       "      <td>WA</td>\n",
       "    </tr>\n",
       "    <tr>\n",
       "      <td>3031</td>\n",
       "      <td>999</td>\n",
       "      <td></td>\n",
       "      <td>WA</td>\n",
       "    </tr>\n",
       "    <tr>\n",
       "      <td>...</td>\n",
       "      <td>...</td>\n",
       "      <td>...</td>\n",
       "      <td>...</td>\n",
       "    </tr>\n",
       "    <tr>\n",
       "      <td>258302</td>\n",
       "      <td>999</td>\n",
       "      <td>UNKNOWN</td>\n",
       "      <td>WA</td>\n",
       "    </tr>\n",
       "    <tr>\n",
       "      <td>262291</td>\n",
       "      <td>999</td>\n",
       "      <td>UNKNOWN</td>\n",
       "      <td>WA</td>\n",
       "    </tr>\n",
       "    <tr>\n",
       "      <td>263578</td>\n",
       "      <td>999</td>\n",
       "      <td>UNKNOWN</td>\n",
       "      <td>WA</td>\n",
       "    </tr>\n",
       "    <tr>\n",
       "      <td>266901</td>\n",
       "      <td>999</td>\n",
       "      <td>BENTON</td>\n",
       "      <td>WA</td>\n",
       "    </tr>\n",
       "    <tr>\n",
       "      <td>267532</td>\n",
       "      <td>999</td>\n",
       "      <td>UNKNOWN</td>\n",
       "      <td>WA</td>\n",
       "    </tr>\n",
       "  </tbody>\n",
       "</table>\n",
       "<p>132 rows × 3 columns</p>\n",
       "</div>"
      ],
      "text/plain": [
       "        b_momrescntyfips b_momrescountyl b_momresstatefips\n",
       "99                   999                                WA\n",
       "1060                 999                                WA\n",
       "1311                 999         UNKNOWN                WA\n",
       "1875                 999                                WA\n",
       "3031                 999                                WA\n",
       "...                  ...             ...               ...\n",
       "258302               999         UNKNOWN                WA\n",
       "262291               999         UNKNOWN                WA\n",
       "263578               999         UNKNOWN                WA\n",
       "266901               999          BENTON                WA\n",
       "267532               999         UNKNOWN                WA\n",
       "\n",
       "[132 rows x 3 columns]"
      ]
     },
     "execution_count": 45,
     "metadata": {},
     "output_type": "execute_result"
    }
   ],
   "source": [
    "# create dataframe 'brcntyerrors' which shows only rows where mom's residence county does not have a valid FIPS code\n",
    "\n",
    "brcntyerrors = b1618[~chkbrcounty][['b_momrescntyfips', 'b_momrescountyl','b_momresstatefips']]\n",
    "\n",
    "brcntyerrors"
   ]
  },
  {
   "cell_type": "code",
   "execution_count": 46,
   "metadata": {},
   "outputs": [],
   "source": [
    "#Create dictionary of Washington State county names and county FIPS codes \n",
    "\n",
    "counties = {'ADAMS':1,\n",
    "'ASOTIN':3,\n",
    "'BENTON':5,\n",
    "'CHELAN':7,\n",
    "'CLALLAM':9,\n",
    "'CLARK':11,\n",
    "'COLUMBIA':13,\n",
    "'COWLITZ':15,\n",
    "'DOUGLAS':17,\n",
    "'FERRY':19,\n",
    "'FRANKLIN':21,\n",
    "'GARFIELD':23,\n",
    "'GRANT':25,\n",
    "'GRAYS HARBOR':27,\n",
    "'ISLAND':29,\n",
    "'JEFFERSON':31,\n",
    "'KING':33,\n",
    "'KITSAP':35,\n",
    "'KITTITAS':37,\n",
    "'KLICKITAT':39,\n",
    "'LEWIS':41,\n",
    "'LINCOLN':43,\n",
    "'MASON':45,\n",
    "'OKANOGAN':47,\n",
    "'PACIFIC':49,\n",
    "'PEND OREILLE':51,\n",
    "'PIERCE':53,\n",
    "'SAN JUAN':55,\n",
    "'SKAGIT':57,\n",
    "'SKAMANIA':59,\n",
    "'SNOHOMISH':61,\n",
    "'SPOKANE':63,\n",
    "'STEVENS':65,\n",
    "'THURSTON':67,\n",
    "'WAHKIAKUM':69,\n",
    "'WALLA WALLA':71,\n",
    "'WHATCOM':73,\n",
    "'WHITMAN':75,\n",
    "'YAKIMA':77\n",
    "}\n"
   ]
  },
  {
   "cell_type": "code",
   "execution_count": 48,
   "metadata": {},
   "outputs": [],
   "source": [
    "# replace FIPS codes for mother's residence county code ('b_momrcntyfips') variable by mapping values from dictionary 'counties' based on \n",
    "# the literal name of the county ('b_momrcountyl').  ONLY DO FOR out of range or missing values for WA counties.\n",
    "\n",
    "b1618.loc[b1618['b_momresstatefips']=='WA','b_momrescntyfips']=b1618['b_momrescountyl'].map(counties)"
   ]
  },
  {
   "cell_type": "code",
   "execution_count": 49,
   "metadata": {},
   "outputs": [
    {
     "name": "stderr",
     "output_type": "stream",
     "text": [
      "C:\\ProgramData\\Anaconda3\\lib\\site-packages\\ipykernel_launcher.py:3: UserWarning: Boolean Series key will be reindexed to match DataFrame index.\n",
      "  This is separate from the ipykernel package so we can avoid doing imports until\n"
     ]
    },
    {
     "data": {
      "text/plain": [
       "124"
      ]
     },
     "execution_count": 49,
     "metadata": {},
     "output_type": "execute_result"
    }
   ],
   "source": [
    "# recheck to see if there are fewer with out of range values\n",
    "chkbrcounty = b1618['b_momrescntyfips'].isin(valids['rcntyfips'])\n",
    "len(b1618[~chkbrcounty][b1618['b_momresstatefips']=='WA'])"
   ]
  },
  {
   "cell_type": "code",
   "execution_count": 56,
   "metadata": {},
   "outputs": [
    {
     "data": {
      "text/plain": [
       "(KING            75448\n",
       " PIERCE          34421\n",
       " SNOHOMISH       29629\n",
       " SPOKANE         17601\n",
       " CLARK           14972\n",
       " YAKIMA          11398\n",
       " THURSTON         9350\n",
       " KITSAP           9076\n",
       " BENTON           7845\n",
       " WHATCOM          6597\n",
       " FRANKLIN         4716\n",
       " GRANT            4401\n",
       " SKAGIT           4320\n",
       " COWLITZ          3675\n",
       " ISLAND           2742\n",
       " LEWIS            2714\n",
       " CHELAN           2622\n",
       " GRAYS HARBOR     2216\n",
       " MASON            1943\n",
       " CLALLAM          1907\n",
       " WALLA WALLA      1869\n",
       " DOUGLAS          1558\n",
       " OKANOGAN         1482\n",
       " STEVENS          1293\n",
       " KITTITAS         1230\n",
       " WHITMAN          1150\n",
       " ADAMS            1148\n",
       " JEFFERSON         542\n",
       " PEND OREILLE      339\n",
       " PACIFIC           317\n",
       " LINCOLN           310\n",
       " SAN JUAN          244\n",
       " FERRY             215\n",
       " SKAMANIA          138\n",
       " COLUMBIA          102\n",
       " KLICKITAT          94\n",
       " ASOTIN             75\n",
       " UNKNOWN            63\n",
       "                    61\n",
       " WAHKIAKUM          60\n",
       " GARFIELD           23\n",
       " Name: b_momrescountyl, dtype: int64, 124)"
      ]
     },
     "execution_count": 56,
     "metadata": {},
     "output_type": "execute_result"
    }
   ],
   "source": [
    "# recheck residence county literal to see where there are problems\n",
    "b1618['b_momrescountyl'].value_counts(dropna=False)"
   ]
  },
  {
   "cell_type": "code",
   "execution_count": 57,
   "metadata": {},
   "outputs": [
    {
     "data": {
      "text/plain": [
       "124"
      ]
     },
     "execution_count": 57,
     "metadata": {},
     "output_type": "execute_result"
    }
   ],
   "source": [
    "# recheck number of missing in 'b_momrescntyfips'\n",
    "b1618['b_momrescntyfips'].isna().sum()"
   ]
  },
  {
   "cell_type": "markdown",
   "metadata": {},
   "source": [
    " - The 124 records with missing residence county FIPS codes had either blanks or \"unknown\" in the residence county literal field.  The residence county literal field is used to look up the FIPS codes and populate 'b_momrescntyfips'.  Without any additional information it is not possible to find and include the correct values. There is no **easy** way to find mom's county of residence (literal or code).  Will leave these in data for now."
   ]
  },
  {
   "cell_type": "markdown",
   "metadata": {},
   "source": [
    "#### STANDARDIZE STRING VARIABLES"
   ]
  },
  {
   "cell_type": "markdown",
   "metadata": {},
   "source": [
    "First, middle, and last names of infants and mothers as well as city names will be standardized by converting these columns to upper case text, removing white spaces, removing hyphens and other punctuation marks."
   ]
  },
  {
   "cell_type": "code",
   "execution_count": 119,
   "metadata": {},
   "outputs": [],
   "source": [
    "# b1618.tail()"
   ]
  },
  {
   "cell_type": "code",
   "execution_count": 116,
   "metadata": {},
   "outputs": [],
   "source": [
    "#convert all string variables to upper case\n",
    "b1618 = b1618.apply(lambda x: x.str.upper() if type(x) == str else x)"
   ]
  },
  {
   "cell_type": "code",
   "execution_count": 65,
   "metadata": {},
   "outputs": [],
   "source": [
    "# remove white spaces on either side of name or within name; remove punctuation\n",
    "b1618 = b1618.apply(lambda x: x.str.strip() if type(x) == str else x)\n",
    "b1618 = b1618.applymap(lambda x: x.replace(\" \", \"\") if type(x) == str else x)\n",
    "b1618 = b1618.applymap(lambda x: x.replace(\"-\", \"\") if type(x) == str else x)\n",
    "b1618 = b1618.applymap(lambda x: x.replace(\".\", \"\") if type(x) == str else x)"
   ]
  },
  {
   "cell_type": "code",
   "execution_count": 67,
   "metadata": {},
   "outputs": [],
   "source": [
    "#Check with .tail() to see if string transformations were successful\n",
    "#b1618.tail(30)"
   ]
  },
  {
   "cell_type": "markdown",
   "metadata": {},
   "source": [
    "A check using .tail() before and after the string transformations showed that change to uppercase, removal of punctuation marks and white spaces were all completed successfully."
   ]
  },
  {
   "cell_type": "code",
   "execution_count": 68,
   "metadata": {},
   "outputs": [],
   "source": [
    "b1618.to_csv(r'Y:\\DQSS\\Death\\MBG\\Py\\Data\\b1618_clean.csv', index=None, header=True)"
   ]
  }
 ],
 "metadata": {
  "kernelspec": {
   "display_name": "Python 3",
   "language": "python",
   "name": "python3"
  },
  "language_info": {
   "codemirror_mode": {
    "name": "ipython",
    "version": 3
   },
   "file_extension": ".py",
   "mimetype": "text/x-python",
   "name": "python",
   "nbconvert_exporter": "python",
   "pygments_lexer": "ipython3",
   "version": "3.6.8"
  }
 },
 "nbformat": 4,
 "nbformat_minor": 2
}
