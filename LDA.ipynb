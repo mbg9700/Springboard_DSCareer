{
 "cells": [
  {
   "cell_type": "code",
   "execution_count": 1,
   "metadata": {},
   "outputs": [],
   "source": [
    "import re\n",
    "import numpy as np\n",
    "import pandas as pd\n",
    "from pprint import pprint\n",
    "from sklearn.feature_extraction.text import CountVectorizer\n",
    "from sklearn.feature_extraction import text \n",
    "\n",
    "# Gensim\n",
    "import gensim\n",
    "import gensim.corpora as corpora\n",
    "from gensim.utils import simple_preprocess\n",
    "from gensim.models import CoherenceModel\n",
    "from gensim.parsing.preprocessing import STOPWORDS\n",
    "\n",
    "# nltk\n",
    "import nltk\n",
    "from nltk.stem import WordNetLemmatizer, SnowballStemmer\n",
    "from nltk.stem.porter import *\n",
    "\n",
    "# Plotting tools\n",
    "import pyLDAvis\n",
    "import pyLDAvis.gensim  # don't skip this\n",
    "import matplotlib.pyplot as plt\n",
    "%matplotlib inline\n",
    "import seaborn as sns\n",
    "sns.set_style('whitegrid')\n"
   ]
  },
  {
   "cell_type": "markdown",
   "metadata": {},
   "source": [
    "**Prepare stop words**"
   ]
  },
  {
   "cell_type": "code",
   "execution_count": 3,
   "metadata": {},
   "outputs": [],
   "source": [
    "from nltk.corpus import stopwords\n",
    "stop_words = stopwords.words('english')\n",
    "stop_words.extend([\"failure\", \"acute\", \"disease\", \"arrest\", \"unknown\", \"natural\", \"cause\", \"causes\", \"chronic\", \"sudden\", \"unspecified\",\n",
    "                \"unexplained\", \"specified\", \"related\", \"advanced\", \"primary\", \"use\", \"death\", \"pending\", \"undetermined\",\n",
    "               \"probable\", \"sepsis\", \"septic\", \"shock\", \"end\", \"stage\", \"idiopathic\", \"pulseless\", \"electrical\", \"activity\",\n",
    "               \"response\", \"history\", \"thrive\", \"type\",\"non\", \"right\", \"etiology\", \"reduced\", \"severe\", \"bed\", \"infant\", \"versus\", \n",
    "                \"possible\", \"type\", \"uncertain\", \"small\", \"poorly\", \"adult\", \"cardiac\", \"fibrillation\", \"care\", \"comfort\", \"multiple\", \"patient\",\n",
    "               \"fatal\", \"exacerbation\",\"decedent\", \"factors\", \"measures\", \"arrest\", \"failure\", \"pain\"])"
   ]
  },
  {
   "cell_type": "markdown",
   "metadata": {},
   "source": [
    "**Load data**"
   ]
  },
  {
   "cell_type": "code",
   "execution_count": 4,
   "metadata": {},
   "outputs": [],
   "source": [
    "d = pd.read_csv('Y:/DQSS/Death/MBG/py/capstone2/data/cod_txt_GCrecords_19.csv')"
   ]
  },
  {
   "cell_type": "code",
   "execution_count": 5,
   "metadata": {},
   "outputs": [
    {
     "data": {
      "text/html": [
       "<div>\n",
       "<style scoped>\n",
       "    .dataframe tbody tr th:only-of-type {\n",
       "        vertical-align: middle;\n",
       "    }\n",
       "\n",
       "    .dataframe tbody tr th {\n",
       "        vertical-align: top;\n",
       "    }\n",
       "\n",
       "    .dataframe thead th {\n",
       "        text-align: right;\n",
       "    }\n",
       "</style>\n",
       "<table border=\"1\" class=\"dataframe\">\n",
       "  <thead>\n",
       "    <tr style=\"text-align: right;\">\n",
       "      <th></th>\n",
       "      <th>gc_cat</th>\n",
       "      <th>gc_cat_label</th>\n",
       "      <th>codlit</th>\n",
       "    </tr>\n",
       "  </thead>\n",
       "  <tbody>\n",
       "    <tr>\n",
       "      <th>0</th>\n",
       "      <td>4</td>\n",
       "      <td>4-Volume depletion</td>\n",
       "      <td>HYPERNATREMIA SEVERE DYSPHAGIA  DIABETES, ALZH...</td>\n",
       "    </tr>\n",
       "    <tr>\n",
       "      <th>1</th>\n",
       "      <td>6</td>\n",
       "      <td>6-Ill-defined cardiovascular</td>\n",
       "      <td>VASCULAR DEMENTIA ESSENTIAL HYPERTENSION</td>\n",
       "    </tr>\n",
       "    <tr>\n",
       "      <th>2</th>\n",
       "      <td>3</td>\n",
       "      <td>3-Ill-defined cancer</td>\n",
       "      <td>UPPER GASTROINTESTINAL BLEED TRACHEAL MASS</td>\n",
       "    </tr>\n",
       "    <tr>\n",
       "      <th>3</th>\n",
       "      <td>2</td>\n",
       "      <td>2-Heart failure</td>\n",
       "      <td>ACUTE CARDIOPULMONARY ARREST MULTI ORGAN FAILU...</td>\n",
       "    </tr>\n",
       "    <tr>\n",
       "      <th>4</th>\n",
       "      <td>6</td>\n",
       "      <td>6-Ill-defined cardiovascular</td>\n",
       "      <td>PULMONARY EMBOLISM</td>\n",
       "    </tr>\n",
       "  </tbody>\n",
       "</table>\n",
       "</div>"
      ],
      "text/plain": [
       "   gc_cat                  gc_cat_label  \\\n",
       "0       4            4-Volume depletion   \n",
       "1       6  6-Ill-defined cardiovascular   \n",
       "2       3          3-Ill-defined cancer   \n",
       "3       2               2-Heart failure   \n",
       "4       6  6-Ill-defined cardiovascular   \n",
       "\n",
       "                                              codlit  \n",
       "0  HYPERNATREMIA SEVERE DYSPHAGIA  DIABETES, ALZH...  \n",
       "1        VASCULAR DEMENTIA ESSENTIAL HYPERTENSION     \n",
       "2      UPPER GASTROINTESTINAL BLEED TRACHEAL MASS     \n",
       "3  ACUTE CARDIOPULMONARY ARREST MULTI ORGAN FAILU...  \n",
       "4                             PULMONARY EMBOLISM      "
      ]
     },
     "execution_count": 5,
     "metadata": {},
     "output_type": "execute_result"
    }
   ],
   "source": [
    "d = d.loc[:,['gc_cat', 'gc_cat_label', 'codlit']]\n",
    "d.head()"
   ]
  },
  {
   "cell_type": "markdown",
   "metadata": {},
   "source": [
    "**Tokenize and clean text**"
   ]
  },
  {
   "cell_type": "code",
   "execution_count": 17,
   "metadata": {},
   "outputs": [],
   "source": [
    "## helper function to preprocess text: lemmatize, stemming, etc\n",
    "stemmer = SnowballStemmer(\"english\")\n",
    "\n",
    "def lemm_stem(text):\n",
    "    return stemmer.stem(WordNetLemmatizer().lemmatize(text, pos='v'))\n",
    "\n",
    "def preproc(text):\n",
    "    result = []\n",
    "    for token in gensim.utils.simple_preprocess(text):\n",
    "        if token not in stop_words and len(token) > 3:\n",
    "        #if token not in gensim.parsing.preprocessing.STOPWORDS and len(token) > 3:\n",
    "            result.append(lemm_stem(token))\n",
    "    return result        \n",
    "                       "
   ]
  },
  {
   "cell_type": "code",
   "execution_count": 18,
   "metadata": {},
   "outputs": [
    {
     "data": {
      "text/plain": [
       "0    [hypernatremia, dysphagia, diabet, alzheim, de...\n",
       "1             [vascular, dementia, essenti, hypertens]\n",
       "2                       [upper, bleed, tracheal, mass]\n",
       "3    [cardiopulmonari, multi, organ, shockacut, hyp...\n",
       "4                                   [pulmonari, embol]\n",
       "5    [organ, syndrom, sourc, metastat, prostat, can...\n",
       "6                              [cardiovascular, crisi]\n",
       "7    [hepatoren, syndrom, methicillin, resist, stap...\n",
       "8    [complic, atherosclerot, vascular, atrial, tho...\n",
       "9    [respiratori, staphylococc, aureus, bacteremia...\n",
       "Name: codlit, dtype: object"
      ]
     },
     "execution_count": 18,
     "metadata": {},
     "output_type": "execute_result"
    }
   ],
   "source": [
    "#apply function to tokenize and lemmatize all records\n",
    "processed_docs = d['codlit'].map(preproc)\n",
    "\n",
    "processed_docs[:10]"
   ]
  },
  {
   "cell_type": "code",
   "execution_count": 23,
   "metadata": {},
   "outputs": [],
   "source": [
    "# create dictionary mapping token id to actual word\n",
    "id2word = gensim.corpora.Dictionary(processed_docs)"
   ]
  },
  {
   "cell_type": "code",
   "execution_count": 24,
   "metadata": {},
   "outputs": [],
   "source": [
    "'''Using the word counts we can filter tokens that occur rarely in the whole corpus or that occur in more\n",
    "than 0.5 of the documents'''\n",
    "\n",
    "id2word.filter_extremes(no_below=15, no_above=0.5, keep_n=100000)"
   ]
  },
  {
   "cell_type": "markdown",
   "metadata": {},
   "source": [
    "**CONSTRUCT BAG OF WORDS**"
   ]
  },
  {
   "cell_type": "code",
   "execution_count": 25,
   "metadata": {},
   "outputs": [],
   "source": [
    "'''bag of words - for each document there is now a dictionary.  \n",
    "Word counts can be figured out using these with BOW.'''\n",
    "\n",
    "bow_corpus = [id2word.doc2bow(doc) for doc in processed_docs]"
   ]
  },
  {
   "cell_type": "code",
   "execution_count": 28,
   "metadata": {},
   "outputs": [
    {
     "name": "stdout",
     "output_type": "stream",
     "text": [
      "Word 19 (\"organ\") appears 1 times.\n",
      "Word 26 (\"cancer\") appears 1 times.\n",
      "Word 27 (\"metastat\") appears 1 times.\n",
      "Word 28 (\"prostat\") appears 1 times.\n",
      "Word 29 (\"sourc\") appears 1 times.\n",
      "Word 30 (\"syndrom\") appears 1 times.\n"
     ]
    }
   ],
   "source": [
    "bow_doc_5 = bow_corpus[5]\n",
    "\n",
    "for i in range(len(bow_doc_5)):\n",
    "    print(\"Word {} (\\\"{}\\\") appears {} times.\".format(bow_doc_5[i][0],                                              \n",
    "id2word[bow_doc_5[i][0]],\n",
    "bow_doc_5[i][1]))"
   ]
  },
  {
   "cell_type": "markdown",
   "metadata": {},
   "source": [
    "**TF-IDF corpus**"
   ]
  },
  {
   "cell_type": "code",
   "execution_count": 29,
   "metadata": {},
   "outputs": [],
   "source": [
    "from gensim import corpora, models\n",
    "\n",
    "tfidf = models.TfidfModel(bow_corpus)\n",
    "corpus_tfidf = tfidf[bow_corpus]"
   ]
  },
  {
   "cell_type": "markdown",
   "metadata": {},
   "source": [
    "**LDA with TF-IDF corpus** created with all cause of death text in records with garbage codes."
   ]
  },
  {
   "cell_type": "code",
   "execution_count": 31,
   "metadata": {},
   "outputs": [],
   "source": [
    "lda_tfidf_all = gensim.models.LdaMulticore(corpus_tfidf,\n",
    "                                       num_topics=10,\n",
    "                                       id2word=id2word,\n",
    "                                       passes=2,\n",
    "                                       workers=2)"
   ]
  },
  {
   "cell_type": "code",
   "execution_count": 32,
   "metadata": {},
   "outputs": [
    {
     "name": "stdout",
     "output_type": "stream",
     "text": [
      "Topic: 0 \n",
      "Words: 0.054*\"pneumonia\" + 0.048*\"fentanyl\" + 0.043*\"aspir\" + 0.040*\"sleep\" + 0.036*\"toxicolog\" + 0.032*\"obstruct\" + 0.029*\"anatom\" + 0.026*\"injuri\" + 0.025*\"pulmonari\" + 0.021*\"anox\"\n",
      "Topic: 1 \n",
      "Words: 0.064*\"systol\" + 0.058*\"heart\" + 0.056*\"cancer\" + 0.050*\"metastat\" + 0.049*\"diastol\" + 0.043*\"dementia\" + 0.042*\"congest\" + 0.032*\"alzheim\" + 0.030*\"respiratori\" + 0.026*\"liver\"\n",
      "Topic: 2 \n",
      "Words: 0.071*\"respiratori\" + 0.070*\"cardiopulmonari\" + 0.027*\"multiorgan\" + 0.027*\"malign\" + 0.025*\"heart\" + 0.023*\"hypox\" + 0.022*\"origin\" + 0.021*\"hypoxia\" + 0.019*\"cardio\" + 0.018*\"bacteremia\"\n",
      "Topic: 3 \n",
      "Words: 0.047*\"organ\" + 0.041*\"cardiomegali\" + 0.038*\"multi\" + 0.033*\"carcinoma\" + 0.027*\"circumst\" + 0.027*\"refractori\" + 0.026*\"morbid\" + 0.025*\"injuri\" + 0.024*\"infect\" + 0.022*\"drown\"\n",
      "Topic: 4 \n",
      "Words: 0.070*\"heart\" + 0.063*\"congest\" + 0.049*\"disord\" + 0.041*\"bowel\" + 0.036*\"methamphetamin\" + 0.036*\"kidney\" + 0.036*\"hypertens\" + 0.028*\"bilater\" + 0.027*\"hemorrhag\" + 0.026*\"diabet\"\n",
      "Topic: 5 \n",
      "Words: 0.051*\"atherosclerosi\" + 0.041*\"methamphetamin\" + 0.039*\"atrial\" + 0.035*\"arteri\" + 0.032*\"coronari\" + 0.028*\"drug\" + 0.026*\"heroin\" + 0.025*\"ventricular\" + 0.023*\"respiratori\" + 0.022*\"hypertens\"\n",
      "Topic: 6 \n",
      "Words: 0.064*\"intox\" + 0.055*\"drug\" + 0.036*\"otherwis\" + 0.035*\"syndrom\" + 0.034*\"medic\" + 0.034*\"bleed\" + 0.031*\"pulmonari\" + 0.024*\"heart\" + 0.024*\"emphysema\" + 0.024*\"find\"\n",
      "Topic: 7 \n",
      "Words: 0.087*\"heart\" + 0.082*\"congest\" + 0.048*\"arrhythmia\" + 0.048*\"toxic\" + 0.041*\"fentanyl\" + 0.038*\"drug\" + 0.035*\"pulmonari\" + 0.027*\"ethanol\" + 0.025*\"embol\" + 0.021*\"intox\"\n",
      "Topic: 8 \n",
      "Words: 0.068*\"hypertens\" + 0.064*\"cardiovascular\" + 0.048*\"intox\" + 0.033*\"methamphetamin\" + 0.031*\"drug\" + 0.030*\"atherosclerot\" + 0.026*\"myocardi\" + 0.026*\"presum\" + 0.026*\"infarct\" + 0.023*\"heart\"\n",
      "Topic: 9 \n",
      "Words: 0.062*\"hypertens\" + 0.053*\"toxic\" + 0.035*\"encephalopathi\" + 0.035*\"combin\" + 0.031*\"adenocarcinoma\" + 0.030*\"hypox\" + 0.027*\"larg\" + 0.025*\"syndrom\" + 0.021*\"respiratori\" + 0.020*\"effect\"\n"
     ]
    }
   ],
   "source": [
    "for idx, topic in lda_tfidf_all.print_topics(-1):\n",
    "    print('Topic: {} \\nWords: {}'.format(idx,topic))"
   ]
  },
  {
   "cell_type": "markdown",
   "metadata": {},
   "source": [
    "**Evaluate LDA model using the full TF-IDF corpus**"
   ]
  },
  {
   "cell_type": "code",
   "execution_count": 33,
   "metadata": {},
   "outputs": [],
   "source": [
    "coherence_lda_tfidf_all = CoherenceModel(model = lda_tfidf_all, \n",
    "                                      texts = processed_docs, \n",
    "                                      dictionary = id2word, \n",
    "                                      coherence = 'c_v')\n",
    "\n",
    "coherence_ldatfidf_all = coherence_lda_tfidf_all.get_coherence()"
   ]
  },
  {
   "cell_type": "code",
   "execution_count": 34,
   "metadata": {},
   "outputs": [
    {
     "name": "stdout",
     "output_type": "stream",
     "text": [
      "Coherence score for LDA_TF-IDF with 2 passes:  0.31564680660458866\n"
     ]
    }
   ],
   "source": [
    "print(\"Coherence score for LDA_TF-IDF with 2 passes: \", coherence_ldatfidf2)"
   ]
  },
  {
   "cell_type": "code",
   "execution_count": null,
   "metadata": {},
   "outputs": [],
   "source": []
  },
  {
   "cell_type": "markdown",
   "metadata": {},
   "source": [
    "**REPEAT LDA FOR EACH GARBAGE CODE CATEGORY INDIVIDUALLY** excluding category 9 (too few records) and category 7(no records)."
   ]
  },
  {
   "cell_type": "code",
   "execution_count": 41,
   "metadata": {},
   "outputs": [
    {
     "data": {
      "text/plain": [
       "6    1025\n",
       "5     875\n",
       "2     762\n",
       "3     663\n",
       "1     547\n",
       "4     125\n",
       "8      81\n",
       "Name: gc_cat, dtype: int64"
      ]
     },
     "execution_count": 41,
     "metadata": {},
     "output_type": "execute_result"
    }
   ],
   "source": [
    "d2 = d[~d['gc_cat'].isin([7,9])]\n",
    "\n",
    "d2.gc_cat.value_counts()"
   ]
  },
  {
   "cell_type": "markdown",
   "metadata": {},
   "source": [
    "**LDA FOR GARBAGE CODE CATEGORY 1: SEPTICEMIA**"
   ]
  },
  {
   "cell_type": "code",
   "execution_count": 55,
   "metadata": {},
   "outputs": [],
   "source": [
    "processed1 = d.loc[d['gc_cat']==1, 'codlit'].map(preproc)\n",
    "id2word1= gensim.corpora.Dictionary(processed1)\n",
    "id2word1.filter_extremes(no_below=15, no_above=0.5, keep_n=100000)\n",
    "bow_corpus = [id2word1.doc2bow(doc) for doc in processed1]\n",
    "corpus_tfidf1 = tfidf[bow_corpus]\n",
    "lda_tfidf1 = gensim.models.LdaMulticore(corpus_tfidf1,\n",
    "                                       num_topics=5,\n",
    "                                       id2word=id2word1,\n",
    "                                       passes=10,\n",
    "                                       workers=2)"
   ]
  },
  {
   "cell_type": "code",
   "execution_count": 56,
   "metadata": {},
   "outputs": [
    {
     "name": "stdout",
     "output_type": "stream",
     "text": [
      "Topic: 0 \n",
      "Words: 0.130*\"myocardi\" + 0.118*\"infarct\" + 0.103*\"metabol\" + 0.094*\"syndrom\" + 0.087*\"acidosi\" + 0.060*\"encephalopathi\" + 0.032*\"kidney\" + 0.031*\"renal\" + 0.030*\"cirrhosi\" + 0.027*\"system\"\n",
      "Topic: 1 \n",
      "Words: 0.131*\"heart\" + 0.077*\"aureus\" + 0.071*\"multiorgan\" + 0.063*\"kidney\" + 0.063*\"staphylococcus\" + 0.057*\"congest\" + 0.057*\"bacteremia\" + 0.046*\"respiratori\" + 0.043*\"methicillin\" + 0.038*\"pneumonia\"\n",
      "Topic: 2 \n",
      "Words: 0.271*\"respiratori\" + 0.135*\"pneumonia\" + 0.066*\"kidney\" + 0.053*\"injuri\" + 0.046*\"cardiopulmonari\" + 0.045*\"pulmonari\" + 0.036*\"hypox\" + 0.034*\"hypoxem\" + 0.034*\"alcohol\" + 0.030*\"obstruct\"\n",
      "Topic: 3 \n",
      "Words: 0.174*\"organ\" + 0.147*\"multi\" + 0.127*\"bacteremia\" + 0.079*\"renal\" + 0.070*\"system\" + 0.064*\"bleed\" + 0.059*\"cancer\" + 0.053*\"secondari\" + 0.048*\"sourc\" + 0.027*\"cardiogen\"\n",
      "Topic: 4 \n",
      "Words: 0.205*\"infect\" + 0.118*\"dementia\" + 0.080*\"diabet\" + 0.075*\"arteri\" + 0.062*\"tract\" + 0.058*\"mellitus\" + 0.055*\"urinari\" + 0.055*\"atrial\" + 0.038*\"renal\" + 0.035*\"hypertens\"\n"
     ]
    }
   ],
   "source": [
    "for idx, topic in lda_tfidf1.print_topics(-1):\n",
    "    print('Topic: {} \\nWords: {}'.format(idx,topic))"
   ]
  },
  {
   "cell_type": "code",
   "execution_count": 57,
   "metadata": {},
   "outputs": [
    {
     "name": "stdout",
     "output_type": "stream",
     "text": [
      "Coherence score for LDA_TF-IDF for GC category 1 ('Septicemia') with 5 topics and 10 passes:  0.31935369216172693\n"
     ]
    }
   ],
   "source": [
    "coherence_lda_tfidf1 = CoherenceModel(model = lda_tfidf1, \n",
    "                                      texts = processed1, \n",
    "                                      dictionary = id2word1, \n",
    "                                      coherence = 'c_v')\n",
    "\n",
    "coherence_ldatfidf1 = coherence_lda_tfidf1.get_coherence()\n",
    "print(\"Coherence score for LDA_TF-IDF for GC category 1 ('Septicemia') with 5 topics and 10 passes: \", coherence_ldatfidf1)"
   ]
  },
  {
   "cell_type": "code",
   "execution_count": 58,
   "metadata": {},
   "outputs": [
    {
     "data": {
      "text/html": [
       "\n",
       "<link rel=\"stylesheet\" type=\"text/css\" href=\"https://cdn.rawgit.com/bmabey/pyLDAvis/files/ldavis.v1.0.0.css\">\n",
       "\n",
       "\n",
       "<div id=\"ldavis_el897622664011729445905817958\"></div>\n",
       "<script type=\"text/javascript\">\n",
       "\n",
       "var ldavis_el897622664011729445905817958_data = {\"mdsDat\": {\"x\": [-0.16421973186544053, -0.040606082862944856, -0.0995314940017753, 0.29971143491740254, 0.004645873812758628], \"y\": [0.14007342833661418, -0.044743430530938814, -0.2396509462264343, -0.011310531205547715, 0.1556314796263067], \"topics\": [1, 2, 3, 4, 5], \"cluster\": [1, 1, 1, 1, 1], \"Freq\": [29.492389678955078, 21.590953826904297, 19.0307559967041, 16.066003799438477, 13.81989860534668]}, \"tinfo\": {\"Term\": [\"respiratori\", \"infect\", \"organ\", \"multi\", \"myocardi\", \"heart\", \"infarct\", \"bacteremia\", \"metabol\", \"dementia\", \"syndrom\", \"pneumonia\", \"acidosi\", \"aureus\", \"arteri\", \"multiorgan\", \"staphylococcus\", \"diabet\", \"tract\", \"bleed\", \"system\", \"mellitus\", \"urinari\", \"encephalopathi\", \"cancer\", \"congest\", \"secondari\", \"methicillin\", \"cardiopulmonari\", \"sourc\", \"cardiopulmonari\", \"alcohol\", \"hypoxem\", \"aspir\", \"respiratori\", \"hypox\", \"acquir\", \"distress\", \"pneumonia\", \"injuri\", \"obstruct\", \"pulmonari\", \"kidney\", \"encephalopathi\", \"syndrom\", \"liver\", \"metabol\", \"secondari\", \"cirrhosi\", \"renal\", \"dementia\", \"sourc\", \"acidosi\", \"anemia\", \"cardiogen\", \"atrial\", \"hypertens\", \"diabet\", \"bacteremia\", \"cardiomyopathi\", \"organ\", \"aureus\", \"multiorgan\", \"staphylococcus\", \"methicillin\", \"resist\", \"diastol\", \"systol\", \"heart\", \"ventricular\", \"staphylococc\", \"congest\", \"bacteremia\", \"kidney\", \"anemia\", \"atrial\", \"cardiomyopathi\", \"renal\", \"cardiogen\", \"cancer\", \"system\", \"injuri\", \"pneumonia\", \"hypertens\", \"diabet\", \"sourc\", \"respiratori\", \"hypox\", \"pulmonari\", \"acquir\", \"distress\", \"mellitus\", \"cardiopulmonari\", \"arteri\", \"tract\", \"urinari\", \"infect\", \"mellitus\", \"coronari\", \"diabet\", \"dementia\", \"atrial\", \"hypertens\", \"cardiomyopathi\", \"pulmonari\", \"renal\", \"congest\", \"heart\", \"obstruct\", \"kidney\", \"cirrhosi\", \"pneumonia\", \"systol\", \"distress\", \"liver\", \"encephalopathi\", \"diastol\", \"cardiogen\", \"resist\", \"acquir\", \"aspir\", \"staphylococc\", \"ventricular\", \"bacteremia\", \"respiratori\", \"staphylococcus\", \"hypoxem\", \"sourc\", \"organ\", \"injuri\", \"metabol\", \"multi\", \"bleed\", \"organ\", \"cancer\", \"secondari\", \"sourc\", \"cardiogen\", \"system\", \"bacteremia\", \"anemia\", \"cardiomyopathi\", \"renal\", \"liver\", \"cirrhosi\", \"infect\", \"dementia\", \"distress\", \"injuri\", \"coronari\", \"diastol\", \"systol\", \"resist\", \"acquir\", \"aspir\", \"urinari\", \"tract\", \"ventricular\", \"staphylococc\", \"methicillin\", \"hypoxem\", \"mellitus\", \"diabet\", \"obstruct\", \"heart\", \"pulmonari\", \"pneumonia\", \"myocardi\", \"respiratori\", \"infarct\", \"aureus\", \"myocardi\", \"infarct\", \"acidosi\", \"metabol\", \"syndrom\", \"encephalopathi\", \"cirrhosi\", \"liver\", \"hypertens\", \"anemia\", \"obstruct\", \"system\", \"cardiomyopathi\", \"staphylococc\", \"injuri\", \"ventricular\", \"pulmonari\", \"kidney\", \"renal\", \"atrial\", \"organ\", \"distress\", \"dementia\", \"coronari\", \"bacteremia\", \"bleed\", \"resist\", \"diastol\", \"sourc\", \"cardiogen\", \"multi\", \"diabet\", \"respiratori\", \"hypox\", \"hypoxem\", \"multiorgan\"], \"Freq\": [86.0, 40.0, 28.0, 23.0, 17.0, 31.0, 15.0, 34.0, 18.0, 28.0, 18.0, 49.0, 13.0, 16.0, 13.0, 15.0, 13.0, 18.0, 11.0, 10.0, 17.0, 11.0, 10.0, 14.0, 11.0, 14.0, 11.0, 9.0, 13.0, 10.0, 12.411664009094238, 9.258000373840332, 9.338221549987793, 5.968405723571777, 73.4951400756836, 9.681473731994629, 5.463681697845459, 2.845745325088501, 36.661537170410156, 14.407672882080078, 8.242755889892578, 12.187776565551758, 17.752830505371094, 5.9562201499938965, 6.246340751647949, 3.261125326156616, 4.32853364944458, 2.5219900608062744, 1.707572102546692, 8.160677909851074, 4.108771800994873, 1.4558261632919312, 1.7108136415481567, 1.0149931907653809, 0.7359058856964111, 2.000901699066162, 1.3448071479797363, 1.3883178234100342, 2.259716749191284, 0.17652226984500885, 0.6430355906486511, 15.348644256591797, 14.11067008972168, 12.561843872070312, 8.467413902282715, 5.4826979637146, 4.813639163970947, 4.9817705154418945, 25.996692657470703, 6.720846652984619, 6.877277374267578, 11.350101470947266, 11.32569694519043, 12.594574928283691, 2.465794086456299, 5.125948429107666, 1.0383780002593994, 7.20410680770874, 1.181376576423645, 2.124767303466797, 3.112511157989502, 3.553773880004883, 7.5698418617248535, 1.953859806060791, 2.186155319213867, 1.1467665433883667, 9.098556518554688, 1.135758876800537, 1.7913453578948975, 0.4970319867134094, 0.28279638290405273, 0.5606067776679993, 0.5037402510643005, 13.07313060760498, 10.86780834197998, 9.681127548217773, 35.789066314697266, 10.202457427978516, 3.5574774742126465, 13.947402954101562, 20.71515464782715, 9.610413551330566, 6.170499324798584, 0.7593506574630737, 3.8797130584716797, 6.660892009735107, 2.2911932468414307, 5.106178283691406, 2.014500856399536, 4.730289936065674, 0.8979262709617615, 4.713425159454346, 0.31030845642089844, 0.1973855346441269, 0.46999889612197876, 0.671017587184906, 0.21437925100326538, 0.22199659049510956, 0.19941803812980652, 0.20546190440654755, 0.20151101052761078, 0.24010205268859863, 0.2265567183494568, 0.7315188646316528, 1.2864773273468018, 0.32335224747657776, 0.2691667377948761, 0.2584730386734009, 0.30430668592453003, 0.27298811078071594, 0.2549786865711212, 21.642757415771484, 9.415773391723633, 25.628204345703125, 8.64428424835205, 7.8707170486450195, 7.038722038269043, 3.9281399250030518, 10.389720916748047, 18.73305892944336, 2.99424147605896, 1.2689223289489746, 11.719123840332031, 2.912755012512207, 0.9568544030189514, 3.4213638305664062, 1.5732144117355347, 0.20022587478160858, 1.1700851917266846, 0.1994357705116272, 0.21066054701805115, 0.20336158573627472, 0.20147262513637543, 0.19958767294883728, 0.20088814198970795, 0.2788962125778198, 0.2907980680465698, 0.20202882587909698, 0.20651747286319733, 0.20213603973388672, 0.22285038232803345, 0.2322872281074524, 0.29044607281684875, 0.24037986993789673, 0.30099350214004517, 0.26033151149749756, 0.29602399468421936, 0.23966099321842194, 0.30191224813461304, 0.22900545597076416, 0.21466226875782013, 16.48316192626953, 15.011951446533203, 11.059453964233398, 13.084035873413086, 11.964167594909668, 7.5800628662109375, 3.8454978466033936, 3.044597864151001, 3.354508638381958, 1.8529444932937622, 2.69629168510437, 3.384073495864868, 0.6855833530426025, 1.0296640396118164, 2.630061626434326, 0.9505899548530579, 2.122027635574341, 4.1235246658325195, 3.905806064605713, 1.3755325078964233, 1.780884027481079, 0.23408812284469604, 1.6834063529968262, 0.23126617074012756, 1.6571276187896729, 0.4870653748512268, 0.2806302309036255, 0.22988177835941315, 0.4087444245815277, 0.24815808236598969, 0.8590251207351685, 0.6262550354003906, 1.9423447847366333, 0.39892902970314026, 0.3640609085559845, 0.37693503499031067], \"Total\": [86.0, 40.0, 28.0, 23.0, 17.0, 31.0, 15.0, 34.0, 18.0, 28.0, 18.0, 49.0, 13.0, 16.0, 13.0, 15.0, 13.0, 18.0, 11.0, 10.0, 17.0, 11.0, 10.0, 14.0, 11.0, 14.0, 11.0, 9.0, 13.0, 10.0, 13.561777114868164, 10.173078536987305, 10.455549240112305, 6.79977560043335, 86.12442779541016, 11.62942123413086, 6.593464374542236, 3.7602412700653076, 49.52702713012695, 22.034582138061523, 13.450457572937012, 20.241195678710938, 39.41550064086914, 14.751256942749023, 18.931018829345703, 9.984662055969238, 18.069948196411133, 11.104331016540527, 7.67806339263916, 37.65060806274414, 28.392017364501953, 10.30853271484375, 13.466346740722656, 8.529096603393555, 6.315577030181885, 18.327289581298828, 13.030415534973145, 18.438575744628906, 34.70711898803711, 3.9287564754486084, 28.572792053222656, 16.32587242126465, 15.084953308105469, 13.572469711303711, 9.354314804077148, 6.337664604187012, 5.642906188964844, 5.897498607635498, 31.936201095581055, 8.277809143066406, 8.525718688964844, 14.250035285949707, 34.70711898803711, 39.41550064086914, 8.529096603393555, 18.327289581298828, 3.9287564754486084, 37.65060806274414, 6.315577030181885, 11.497007369995117, 17.26283073425293, 22.034582138061523, 49.52702713012695, 13.030415534973145, 18.438575744628906, 10.30853271484375, 86.12442779541016, 11.62942123413086, 20.241195678710938, 6.593464374542236, 3.7602412700653076, 11.459360122680664, 13.561777114868164, 13.889086723327637, 11.748106956481934, 10.55040168762207, 40.14740753173828, 11.459360122680664, 4.358580112457275, 18.438575744628906, 28.392017364501953, 18.327289581298828, 13.030415534973145, 3.9287564754486084, 20.241195678710938, 37.65060806274414, 14.250035285949707, 31.936201095581055, 13.450457572937012, 39.41550064086914, 7.67806339263916, 49.52702713012695, 5.897498607635498, 3.7602412700653076, 9.984662055969238, 14.751256942749023, 5.642906188964844, 6.315577030181885, 6.337664604187012, 6.593464374542236, 6.79977560043335, 8.525718688964844, 8.277809143066406, 34.70711898803711, 86.12442779541016, 13.572469711303711, 10.455549240112305, 10.30853271484375, 28.572792053222656, 22.034582138061523, 18.069948196411133, 23.067508697509766, 10.49371337890625, 28.572792053222656, 11.497007369995117, 11.104331016540527, 10.30853271484375, 6.315577030181885, 17.26283073425293, 34.70711898803711, 8.529096603393555, 3.9287564754486084, 37.65060806274414, 9.984662055969238, 7.67806339263916, 40.14740753173828, 28.392017364501953, 3.7602412700653076, 22.034582138061523, 4.358580112457275, 5.642906188964844, 5.897498607635498, 6.337664604187012, 6.593464374542236, 6.79977560043335, 10.55040168762207, 11.748106956481934, 8.277809143066406, 8.525718688964844, 9.354314804077148, 10.455549240112305, 11.459360122680664, 18.438575744628906, 13.450457572937012, 31.936201095581055, 20.241195678710938, 49.52702713012695, 17.30670738220215, 86.12442779541016, 15.84904670715332, 16.32587242126465, 17.30670738220215, 15.84904670715332, 13.466346740722656, 18.069948196411133, 18.931018829345703, 14.751256942749023, 7.67806339263916, 9.984662055969238, 13.030415534973145, 8.529096603393555, 13.450457572937012, 17.26283073425293, 3.9287564754486084, 8.525718688964844, 22.034582138061523, 8.277809143066406, 20.241195678710938, 39.41550064086914, 37.65060806274414, 18.327289581298828, 28.572792053222656, 3.7602412700653076, 28.392017364501953, 4.358580112457275, 34.70711898803711, 10.49371337890625, 6.337664604187012, 5.642906188964844, 10.30853271484375, 6.315577030181885, 23.067508697509766, 18.438575744628906, 86.12442779541016, 11.62942123413086, 10.455549240112305, 15.084953308105469], \"Category\": [\"Default\", \"Default\", \"Default\", \"Default\", \"Default\", \"Default\", \"Default\", \"Default\", \"Default\", \"Default\", \"Default\", \"Default\", \"Default\", \"Default\", \"Default\", \"Default\", \"Default\", \"Default\", \"Default\", \"Default\", \"Default\", \"Default\", \"Default\", \"Default\", \"Default\", \"Default\", \"Default\", \"Default\", \"Default\", \"Default\", \"Topic1\", \"Topic1\", \"Topic1\", \"Topic1\", \"Topic1\", \"Topic1\", \"Topic1\", \"Topic1\", \"Topic1\", \"Topic1\", \"Topic1\", \"Topic1\", \"Topic1\", \"Topic1\", \"Topic1\", \"Topic1\", \"Topic1\", \"Topic1\", \"Topic1\", \"Topic1\", \"Topic1\", \"Topic1\", \"Topic1\", \"Topic1\", \"Topic1\", \"Topic1\", \"Topic1\", \"Topic1\", \"Topic1\", \"Topic1\", \"Topic1\", \"Topic2\", \"Topic2\", \"Topic2\", \"Topic2\", \"Topic2\", \"Topic2\", \"Topic2\", \"Topic2\", \"Topic2\", \"Topic2\", \"Topic2\", \"Topic2\", \"Topic2\", \"Topic2\", \"Topic2\", \"Topic2\", \"Topic2\", \"Topic2\", \"Topic2\", \"Topic2\", \"Topic2\", \"Topic2\", \"Topic2\", \"Topic2\", \"Topic2\", \"Topic2\", \"Topic2\", \"Topic2\", \"Topic2\", \"Topic2\", \"Topic2\", \"Topic2\", \"Topic3\", \"Topic3\", \"Topic3\", \"Topic3\", \"Topic3\", \"Topic3\", \"Topic3\", \"Topic3\", \"Topic3\", \"Topic3\", \"Topic3\", \"Topic3\", \"Topic3\", \"Topic3\", \"Topic3\", \"Topic3\", \"Topic3\", \"Topic3\", \"Topic3\", \"Topic3\", \"Topic3\", \"Topic3\", \"Topic3\", \"Topic3\", \"Topic3\", \"Topic3\", \"Topic3\", \"Topic3\", \"Topic3\", \"Topic3\", \"Topic3\", \"Topic3\", \"Topic3\", \"Topic3\", \"Topic3\", \"Topic3\", \"Topic3\", \"Topic3\", \"Topic4\", \"Topic4\", \"Topic4\", \"Topic4\", \"Topic4\", \"Topic4\", \"Topic4\", \"Topic4\", \"Topic4\", \"Topic4\", \"Topic4\", \"Topic4\", \"Topic4\", \"Topic4\", \"Topic4\", \"Topic4\", \"Topic4\", \"Topic4\", \"Topic4\", \"Topic4\", \"Topic4\", \"Topic4\", \"Topic4\", \"Topic4\", \"Topic4\", \"Topic4\", \"Topic4\", \"Topic4\", \"Topic4\", \"Topic4\", \"Topic4\", \"Topic4\", \"Topic4\", \"Topic4\", \"Topic4\", \"Topic4\", \"Topic4\", \"Topic4\", \"Topic4\", \"Topic4\", \"Topic5\", \"Topic5\", \"Topic5\", \"Topic5\", \"Topic5\", \"Topic5\", \"Topic5\", \"Topic5\", \"Topic5\", \"Topic5\", \"Topic5\", \"Topic5\", \"Topic5\", \"Topic5\", \"Topic5\", \"Topic5\", \"Topic5\", \"Topic5\", \"Topic5\", \"Topic5\", \"Topic5\", \"Topic5\", \"Topic5\", \"Topic5\", \"Topic5\", \"Topic5\", \"Topic5\", \"Topic5\", \"Topic5\", \"Topic5\", \"Topic5\", \"Topic5\", \"Topic5\", \"Topic5\", \"Topic5\", \"Topic5\"], \"logprob\": [30.0, 29.0, 28.0, 27.0, 26.0, 25.0, 24.0, 23.0, 22.0, 21.0, 20.0, 19.0, 18.0, 17.0, 16.0, 15.0, 14.0, 13.0, 12.0, 11.0, 10.0, 9.0, 8.0, 7.0, 6.0, 5.0, 4.0, 3.0, 2.0, 1.0, -3.083400011062622, -3.376499891281128, -3.3678998947143555, -3.815500020980835, -1.304800033569336, -3.3317999839782715, -3.903899908065796, -4.55620002746582, -2.0002999305725098, -2.934299945831299, -3.4927000999450684, -3.101599931716919, -2.7255001068115234, -3.8176000118255615, -3.7699999809265137, -4.419899940490723, -4.1367998123168945, -4.677000045776367, -5.06689977645874, -3.502700090408325, -4.188899993896484, -5.226399898529053, -5.065000057220459, -5.587100028991699, -5.908699989318848, -4.908400058746338, -5.305799961090088, -5.273900032043457, -4.786799907684326, -7.336299896240234, -6.043600082397461, -2.5590999126434326, -2.643199920654297, -2.759500026702881, -3.153899908065796, -3.588599920272827, -3.7186999320983887, -3.6844000816345215, -2.0322000980377197, -3.3849000930786133, -3.3619000911712646, -2.8608999252319336, -2.863100051879883, -2.7569000720977783, -4.387599945068359, -3.6558001041412354, -5.252500057220459, -3.315500020980835, -5.123499870300293, -4.536499977111816, -4.154699802398682, -4.02209997177124, -3.2660000324249268, -4.6203999519348145, -4.507999897003174, -5.153200149536133, -3.0820000171661377, -5.162899971008301, -4.707200050354004, -5.989299774169922, -6.553199768066406, -5.868899822235107, -5.975900173187256, -2.593400001525879, -2.77810001373291, -2.8938000202178955, -1.586300015449524, -2.8413000106811523, -3.89490008354187, -2.528599977493286, -2.1331000328063965, -2.901099920272827, -3.3441998958587646, -5.439199924468994, -3.808199882507324, -3.267699956893921, -4.33489990234375, -3.5334999561309814, -4.463600158691406, -3.609999895095825, -5.271599769592285, -3.6135001182556152, -6.334099769592285, -6.786499977111816, -5.919000148773193, -5.562900066375732, -6.703999996185303, -6.669000148773193, -6.776299953460693, -6.746399879455566, -6.765900135040283, -6.59060001373291, -6.64870023727417, -5.476600170135498, -4.9120001792907715, -6.293000221252441, -6.476399898529053, -6.516900062561035, -6.353700160980225, -6.462299823760986, -6.5304999351501465, -1.9198999404907227, -2.75219988822937, -1.7509000301361084, -2.8376998901367188, -2.9314000606536865, -3.0432000160217285, -3.6263999938964844, -2.6538000106811523, -2.064300060272217, -3.897900104522705, -4.756400108337402, -2.533400058746338, -3.92549991607666, -5.038700103759766, -3.7646000385284424, -4.541500091552734, -6.60290002822876, -4.837500095367432, -6.606900215148926, -6.55210018157959, -6.587399959564209, -6.596700191497803, -6.606100082397461, -6.599599838256836, -6.271500110626221, -6.229700088500977, -6.593900203704834, -6.572000026702881, -6.593400001525879, -6.495800018310547, -6.454400062561035, -6.230899810791016, -6.420100212097168, -6.195300102233887, -6.340400218963623, -6.211900234222412, -6.423099994659424, -6.192200183868408, -6.468599796295166, -6.533299922943115, -2.0416998863220215, -2.1350998878479004, -2.440700054168701, -2.272599935531616, -2.3620998859405518, -2.81850004196167, -3.4971001148223877, -3.730600118637085, -3.633699893951416, -4.227200031280518, -3.852099895477295, -3.6249001026153564, -5.221499919891357, -4.814799785614014, -3.877000093460083, -4.894700050354004, -4.091599941253662, -3.427299976348877, -3.4814999103546143, -4.525199890136719, -4.266900062561035, -6.29610013961792, -4.323200225830078, -6.308199882507324, -4.338900089263916, -5.563399791717529, -6.114699840545654, -6.314199924468994, -5.738699913024902, -6.23769998550415, -4.995999813079834, -5.311999797821045, -4.180099964141846, -5.763000011444092, -5.854400157928467, -5.819699764251709], \"loglift\": [30.0, 29.0, 28.0, 27.0, 26.0, 25.0, 24.0, 23.0, 22.0, 21.0, 20.0, 19.0, 18.0, 17.0, 16.0, 15.0, 14.0, 13.0, 12.0, 11.0, 10.0, 9.0, 8.0, 7.0, 6.0, 5.0, 4.0, 3.0, 2.0, 1.0, 1.1324000358581543, 1.1267999410629272, 1.1080000400543213, 1.0906000137329102, 1.0625, 1.0377000570297241, 1.0331000089645386, 0.9423999786376953, 0.920199990272522, 0.7961999773979187, 0.7314000129699707, 0.7138000130653381, 0.42340001463890076, 0.3140999972820282, 0.11219999939203262, 0.10209999978542328, -0.20800000429153442, -0.2612000107765198, -0.2822999954223633, -0.30799999833106995, -0.711899995803833, -0.7364000082015991, -0.842199981212616, -0.9075999855995178, -0.928600013256073, -0.9937999844551086, -1.0499999523162842, -1.3653000593185425, -1.510699987411499, -1.881600022315979, -2.572999954223633, 1.4711999893188477, 1.4660999774932861, 1.4555000066757202, 1.4333000183105469, 1.3880000114440918, 1.3739999532699585, 1.3641999959945679, 1.3271000385284424, 1.3244999647140503, 1.3179999589920044, 1.305400013923645, 0.4129999876022339, 0.3919999897480011, 0.29190000891685486, 0.2587999999523163, 0.2021999955177307, -0.12080000340938568, -0.14339999854564667, -0.15549999475479126, -0.18019999563694, -0.29170000553131104, -0.34549999237060547, -0.3646000027656555, -0.599399983882904, -0.663100004196167, -0.7148000001907349, -0.7932999730110168, -0.8919000029563904, -1.052299976348877, -1.0546000003814697, -1.4845999479293823, -1.76010000705719, 1.5986000299453735, 1.5812000036239624, 1.573099970817566, 1.5441999435424805, 1.5428999662399292, 1.4559999704360962, 1.3799999952316284, 1.3438999652862549, 1.0135999917984009, 0.9115999937057495, 0.01549999974668026, 0.007199999876320362, -0.0729999989271164, -0.16859999299049377, -0.17419999837875366, -0.2395000010728836, -0.4611000120639801, -0.4869000017642975, -0.6930000185966492, -1.285599946975708, -1.2879999876022339, -1.3969999551773071, -1.4312000274658203, -1.611299991607666, -1.6890000104904175, -1.7997000217437744, -1.809499979019165, -1.8596999645233154, -1.9106999635696411, -1.9392000436782837, -2.200500011444092, -2.544800043106079, -2.077899932861328, -2.0004000663757324, -2.0267999172210693, -2.8831000328063965, -2.731800079345703, -2.6017000675201416, 1.7647000551223755, 1.7201000452041626, 1.7196999788284302, 1.5433000326156616, 1.4843000173568726, 1.4469000101089478, 1.353600025177002, 1.3207000494003296, 1.2117999792099, 0.7817000150680542, 0.6983000040054321, 0.661300003528595, 0.5964999794960022, -0.2540000081062317, -0.6341000199317932, -1.0644999742507935, -1.1043000221252441, -1.107100009918213, -1.2559000253677368, -1.4594000577926636, -1.5388000011444092, -1.6201000213623047, -1.669100046157837, -1.6934000253677368, -1.8046000003814697, -1.8703999519348145, -1.8845000267028809, -1.8919999599456787, -2.006200075149536, -2.01990008354187, -2.0701000690460205, -2.3222999572753906, -2.1960999965667725, -2.835900068283081, -2.525099992752075, -3.2913999557495117, -2.451200008392334, -3.824899911880493, -2.4086999893188477, -2.503000020980835, 1.930299997329712, 1.9248000383377075, 1.7821999788284302, 1.6562000513076782, 1.5202000141143799, 1.3133000135421753, 1.287600040435791, 0.7914000153541565, 0.6220999956130981, 0.45239999890327454, 0.3718999922275543, 0.3495999872684479, 0.23330000042915344, -0.1348000019788742, -0.14650000631809235, -0.18520000576972961, -0.27630001306533813, -0.2784000039100647, -0.28679999709129333, -0.6104999780654907, -0.7962999939918518, -0.7975000143051147, -0.8461999893188477, -0.9573000073432922, -1.0628000497817993, -1.0910999774932861, -1.138200044631958, -1.221500039100647, -1.2486000061035156, -1.257599949836731, -1.3113000392913818, -1.40339994430542, -1.8128000497817993, -1.393399953842163, -1.378499984741211, -1.7102999687194824]}, \"token.table\": {\"Topic\": [1, 5, 1, 1, 1, 2, 4, 5, 3, 1, 1, 2, 3, 5, 2, 1, 2, 3, 4, 5, 4, 2, 4, 1, 2, 4, 2, 3, 4, 5, 1, 2, 1, 3, 4, 5, 2, 3, 3, 1, 3, 4, 5, 1, 2, 3, 5, 2, 1, 1, 3, 5, 2, 3, 1, 2, 3, 5, 1, 2, 1, 5, 3, 4, 1, 2, 4, 5, 1, 2, 3, 5, 1, 4, 5, 2, 3, 1, 5, 2, 4, 5, 2, 5, 1, 3, 5, 1, 4, 5, 1, 2, 3, 1, 2, 3, 5, 1, 2, 3, 4, 5, 2, 1, 2, 3, 5, 1, 4, 1, 2, 4, 2, 5, 2, 1, 5, 2, 4, 5, 2, 3, 3, 2, 5], \"Freq\": [0.1485183835029602, 0.8168510794639587, 0.7583267092704773, 0.8846879601478577, 0.11724571138620377, 0.23449142277240753, 0.3517371416091919, 0.23449142277240753, 0.9359866380691528, 0.8823820352554321, 0.10912688076496124, 0.2728172242641449, 0.5456344485282898, 0.05456344038248062, 0.9187870621681213, 0.05762506648898125, 0.3169378638267517, 0.028812533244490623, 0.5474381446838379, 0.05762506648898125, 0.8576563596725464, 0.17395831644535065, 0.7828124165534973, 0.15833866596221924, 0.15833866596221924, 0.633354663848877, 0.25453346967697144, 0.25453346967697144, 0.25453346967697144, 0.25453346967697144, 0.8848397731781006, 0.07373665273189545, 0.2604823410511017, 0.13024117052555084, 0.13024117052555084, 0.5209646821022034, 0.7719278931617737, 0.14035053551197052, 0.9177300333976746, 0.140884667634964, 0.7396445274353027, 0.070442333817482, 0.070442333817482, 0.05423412472009659, 0.10846824944019318, 0.7592777609825134, 0.05423412472009659, 0.8860682249069214, 0.7978211641311646, 0.40674498677253723, 0.06779083609580994, 0.5423266887664795, 0.8141231536865234, 0.15656213462352753, 0.07674352079629898, 0.15348704159259796, 0.4604611396789551, 0.23023056983947754, 0.8598880171775818, 0.08598880469799042, 0.8607869148254395, 0.9464291334152222, 0.8966954946517944, 0.07472462207078934, 0.6353648900985718, 0.1815328299999237, 0.045383207499980927, 0.13614961504936218, 0.45667311549186707, 0.3298194706439972, 0.12685364484786987, 0.10148292034864426, 0.3004608452320099, 0.3004608452320099, 0.3004608452320099, 0.08726491034030914, 0.872649073600769, 0.22136200964450836, 0.7194265127182007, 0.8552203178405762, 0.9537224173545837, 0.04335101693868637, 0.9280771017074585, 0.9244970679283142, 0.5947753190994263, 0.14869382977485657, 0.22304074466228485, 0.0349983312189579, 0.9099565744400024, 0.0699966624379158, 0.747066855430603, 0.16152796149253845, 0.10095497965812683, 0.5928503274917603, 0.0988083928823471, 0.1976167857646942, 0.0988083928823471, 0.21247996389865875, 0.18591997027397156, 0.18591997027397156, 0.3187199532985687, 0.10623998194932938, 0.7889341711997986, 0.8476108312606812, 0.10449996590614319, 0.011611107736825943, 0.023222215473651886, 0.2701648473739624, 0.720439612865448, 0.09700701385736465, 0.09700701385736465, 0.6790491342544556, 0.8210451602935791, 0.11729216575622559, 0.957821249961853, 0.31694015860557556, 0.6338803172111511, 0.1737837791442871, 0.5792792439460754, 0.1737837791442871, 0.847817063331604, 0.9363210797309875, 0.9478312134742737, 0.845634400844574, 0.12080491334199905], \"Term\": [\"acidosi\", \"acidosi\", \"acquir\", \"alcohol\", \"anemia\", \"anemia\", \"anemia\", \"anemia\", \"arteri\", \"aspir\", \"atrial\", \"atrial\", \"atrial\", \"atrial\", \"aureus\", \"bacteremia\", \"bacteremia\", \"bacteremia\", \"bacteremia\", \"bacteremia\", \"bleed\", \"cancer\", \"cancer\", \"cardiogen\", \"cardiogen\", \"cardiogen\", \"cardiomyopathi\", \"cardiomyopathi\", \"cardiomyopathi\", \"cardiomyopathi\", \"cardiopulmonari\", \"cardiopulmonari\", \"cirrhosi\", \"cirrhosi\", \"cirrhosi\", \"cirrhosi\", \"congest\", \"congest\", \"coronari\", \"dementia\", \"dementia\", \"dementia\", \"dementia\", \"diabet\", \"diabet\", \"diabet\", \"diabet\", \"diastol\", \"distress\", \"encephalopathi\", \"encephalopathi\", \"encephalopathi\", \"heart\", \"heart\", \"hypertens\", \"hypertens\", \"hypertens\", \"hypertens\", \"hypox\", \"hypox\", \"hypoxem\", \"infarct\", \"infect\", \"infect\", \"injuri\", \"injuri\", \"injuri\", \"injuri\", \"kidney\", \"kidney\", \"kidney\", \"kidney\", \"liver\", \"liver\", \"liver\", \"mellitus\", \"mellitus\", \"metabol\", \"metabol\", \"methicillin\", \"multi\", \"multi\", \"multiorgan\", \"myocardi\", \"obstruct\", \"obstruct\", \"obstruct\", \"organ\", \"organ\", \"organ\", \"pneumonia\", \"pneumonia\", \"pneumonia\", \"pulmonari\", \"pulmonari\", \"pulmonari\", \"pulmonari\", \"renal\", \"renal\", \"renal\", \"renal\", \"renal\", \"resist\", \"respiratori\", \"respiratori\", \"respiratori\", \"respiratori\", \"secondari\", \"secondari\", \"sourc\", \"sourc\", \"sourc\", \"staphylococc\", \"staphylococc\", \"staphylococcus\", \"syndrom\", \"syndrom\", \"system\", \"system\", \"system\", \"systol\", \"tract\", \"urinari\", \"ventricular\", \"ventricular\"]}, \"R\": 30, \"lambda.step\": 0.01, \"plot.opts\": {\"xlab\": \"PC1\", \"ylab\": \"PC2\"}, \"topic.order\": [3, 2, 5, 4, 1]};\n",
       "\n",
       "function LDAvis_load_lib(url, callback){\n",
       "  var s = document.createElement('script');\n",
       "  s.src = url;\n",
       "  s.async = true;\n",
       "  s.onreadystatechange = s.onload = callback;\n",
       "  s.onerror = function(){console.warn(\"failed to load library \" + url);};\n",
       "  document.getElementsByTagName(\"head\")[0].appendChild(s);\n",
       "}\n",
       "\n",
       "if(typeof(LDAvis) !== \"undefined\"){\n",
       "   // already loaded: just create the visualization\n",
       "   !function(LDAvis){\n",
       "       new LDAvis(\"#\" + \"ldavis_el897622664011729445905817958\", ldavis_el897622664011729445905817958_data);\n",
       "   }(LDAvis);\n",
       "}else if(typeof define === \"function\" && define.amd){\n",
       "   // require.js is available: use it to load d3/LDAvis\n",
       "   require.config({paths: {d3: \"https://cdnjs.cloudflare.com/ajax/libs/d3/3.5.5/d3.min\"}});\n",
       "   require([\"d3\"], function(d3){\n",
       "      window.d3 = d3;\n",
       "      LDAvis_load_lib(\"https://cdn.rawgit.com/bmabey/pyLDAvis/files/ldavis.v1.0.0.js\", function(){\n",
       "        new LDAvis(\"#\" + \"ldavis_el897622664011729445905817958\", ldavis_el897622664011729445905817958_data);\n",
       "      });\n",
       "    });\n",
       "}else{\n",
       "    // require.js not available: dynamically load d3 & LDAvis\n",
       "    LDAvis_load_lib(\"https://cdnjs.cloudflare.com/ajax/libs/d3/3.5.5/d3.min.js\", function(){\n",
       "         LDAvis_load_lib(\"https://cdn.rawgit.com/bmabey/pyLDAvis/files/ldavis.v1.0.0.js\", function(){\n",
       "                 new LDAvis(\"#\" + \"ldavis_el897622664011729445905817958\", ldavis_el897622664011729445905817958_data);\n",
       "            })\n",
       "         });\n",
       "}\n",
       "</script>"
      ],
      "text/plain": [
       "PreparedData(topic_coordinates=              x         y  topics  cluster       Freq\n",
       "topic                                                \n",
       "2     -0.164220  0.140073       1        1  29.492390\n",
       "1     -0.040606 -0.044743       2        1  21.590954\n",
       "4     -0.099531 -0.239651       3        1  19.030756\n",
       "3      0.299711 -0.011311       4        1  16.066004\n",
       "0      0.004646  0.155631       5        1  13.819899, topic_info=           Term       Freq      Total Category  logprob  loglift\n",
       "20  respiratori  86.000000  86.000000  Default  30.0000  30.0000\n",
       "39       infect  40.000000  40.000000  Default  29.0000  29.0000\n",
       "1         organ  28.000000  28.000000  Default  28.0000  28.0000\n",
       "48        multi  23.000000  23.000000  Default  27.0000  27.0000\n",
       "40     myocardi  17.000000  17.000000  Default  26.0000  26.0000\n",
       "..          ...        ...        ...      ...      ...      ...\n",
       "16       diabet   0.626255  18.438576   Topic5  -5.3120  -1.4034\n",
       "20  respiratori   1.942345  86.124428   Topic5  -4.1801  -1.8128\n",
       "27        hypox   0.398929  11.629421   Topic5  -5.7630  -1.3934\n",
       "23      hypoxem   0.364061  10.455549   Topic5  -5.8544  -1.3785\n",
       "42   multiorgan   0.376935  15.084953   Topic5  -5.8197  -1.7103\n",
       "\n",
       "[207 rows x 6 columns], token_table=      Topic      Freq         Term\n",
       "term                              \n",
       "50        1  0.148518      acidosi\n",
       "50        5  0.816851      acidosi\n",
       "33        1  0.758327       acquir\n",
       "4         1  0.884688      alcohol\n",
       "5         1  0.117246       anemia\n",
       "...     ...       ...          ...\n",
       "45        2  0.847817       systol\n",
       "51        3  0.936321        tract\n",
       "52        3  0.947831      urinari\n",
       "41        2  0.845634  ventricular\n",
       "41        5  0.120805  ventricular\n",
       "\n",
       "[125 rows x 3 columns], R=30, lambda_step=0.01, plot_opts={'xlab': 'PC1', 'ylab': 'PC2'}, topic_order=[3, 2, 5, 4, 1])"
      ]
     },
     "execution_count": 58,
     "metadata": {},
     "output_type": "execute_result"
    }
   ],
   "source": [
    "from pyLDAvis import sklearn as sklearn_lda\n",
    "import pyLDAvis\n",
    "pyLDAvis.enable_notebook()\n",
    "LDA_tfidf1_vis = pyLDAvis.gensim.prepare(lda_tfidf1, corpus_tfidf1, id2word1)\n",
    "LDA_tfidf1_vis"
   ]
  },
  {
   "cell_type": "markdown",
   "metadata": {},
   "source": [
    "**LDA FOR GARBAGE CODE CATEGORY 2: HEART FAILURE**"
   ]
  },
  {
   "cell_type": "code",
   "execution_count": 69,
   "metadata": {},
   "outputs": [],
   "source": [
    "processed2 = d.loc[d['gc_cat']==2, 'codlit'].map(preproc)\n",
    "id2word2= gensim.corpora.Dictionary(processed2)\n",
    "id2word2.filter_extremes(no_below=15, no_above=0.5, keep_n=100000)\n",
    "bow_corpus2 = [id2word2.doc2bow(doc) for doc in processed2]\n",
    "corpus_tfidf2 = tfidf[bow_corpus2]\n",
    "lda_tfidf2 = gensim.models.LdaMulticore(corpus_tfidf2,\n",
    "                                       num_topics=15,\n",
    "                                       id2word=id2word2,\n",
    "                                       passes=50,\n",
    "                                       workers=2)"
   ]
  },
  {
   "cell_type": "code",
   "execution_count": 70,
   "metadata": {},
   "outputs": [
    {
     "name": "stdout",
     "output_type": "stream",
     "text": [
      "Topic: 0 \n",
      "Words: 0.449*\"pleural\" + 0.176*\"effus\" + 0.070*\"pneumonia\" + 0.063*\"pulmonari\" + 0.062*\"obstruct\" + 0.048*\"vascular\" + 0.032*\"lung\" + 0.030*\"systol\" + 0.003*\"respiratori\" + 0.003*\"kidney\"\n",
      "Topic: 1 \n",
      "Words: 0.667*\"atherosclerosi\" + 0.065*\"renal\" + 0.059*\"dementia\" + 0.049*\"atrial\" + 0.046*\"kidney\" + 0.030*\"hypertens\" + 0.024*\"injuri\" + 0.003*\"lung\" + 0.003*\"diastol\" + 0.003*\"obstruct\"\n",
      "Topic: 2 \n",
      "Words: 0.838*\"hypoxia\" + 0.048*\"dementia\" + 0.004*\"respiratori\" + 0.004*\"kidney\" + 0.004*\"cardiopulmonari\" + 0.004*\"cardiogen\" + 0.004*\"obstruct\" + 0.004*\"pulmonari\" + 0.004*\"eject\" + 0.004*\"fraction\"\n",
      "Topic: 3 \n",
      "Words: 0.424*\"obstruct\" + 0.290*\"pulmonari\" + 0.145*\"cancer\" + 0.048*\"kidney\" + 0.044*\"hypertens\" + 0.029*\"dementia\" + 0.001*\"renal\" + 0.001*\"diastol\" + 0.001*\"lung\" + 0.001*\"atrial\"\n",
      "Topic: 4 \n",
      "Words: 0.528*\"renal\" + 0.423*\"atrial\" + 0.021*\"lung\" + 0.001*\"diastol\" + 0.001*\"hypertens\" + 0.001*\"respiratori\" + 0.001*\"kidney\" + 0.001*\"hypoxia\" + 0.001*\"pneumonia\" + 0.001*\"systol\"\n",
      "Topic: 5 \n",
      "Words: 0.926*\"cardiopulmonari\" + 0.003*\"diastol\" + 0.003*\"systol\" + 0.003*\"pneumonia\" + 0.003*\"combin\" + 0.003*\"obstruct\" + 0.003*\"pulmonari\" + 0.003*\"atherosclerosi\" + 0.003*\"edema\" + 0.003*\"hypertens\"\n",
      "Topic: 6 \n",
      "Words: 0.755*\"respiratori\" + 0.136*\"hypox\" + 0.044*\"pneumonia\" + 0.041*\"systol\" + 0.014*\"dementia\" + 0.000*\"hypoxia\" + 0.000*\"pulmonari\" + 0.000*\"injuri\" + 0.000*\"hypertens\" + 0.000*\"kidney\"\n",
      "Topic: 7 \n",
      "Words: 0.488*\"eject\" + 0.448*\"fraction\" + 0.011*\"cancer\" + 0.002*\"vascular\" + 0.002*\"respiratori\" + 0.002*\"renal\" + 0.002*\"cardiopulmonari\" + 0.002*\"diastol\" + 0.002*\"hypertens\" + 0.002*\"combin\"\n",
      "Topic: 8 \n",
      "Words: 0.624*\"diastol\" + 0.278*\"kidney\" + 0.081*\"injuri\" + 0.004*\"cancer\" + 0.001*\"respiratori\" + 0.000*\"hypox\" + 0.000*\"dementia\" + 0.000*\"systol\" + 0.000*\"hypertens\" + 0.000*\"vascular\"\n",
      "Topic: 9 \n",
      "Words: 0.397*\"pneumonia\" + 0.316*\"ventricular\" + 0.124*\"aspir\" + 0.062*\"renal\" + 0.050*\"systol\" + 0.015*\"injuri\" + 0.001*\"respiratori\" + 0.001*\"vascular\" + 0.001*\"dementia\" + 0.001*\"kidney\"\n",
      "Topic: 10 \n",
      "Words: 0.835*\"systol\" + 0.139*\"dementia\" + 0.001*\"diastol\" + 0.001*\"pulmonari\" + 0.001*\"atrial\" + 0.001*\"obstruct\" + 0.001*\"cardiopulmonari\" + 0.001*\"respiratori\" + 0.001*\"combin\" + 0.001*\"ventricular\"\n",
      "Topic: 11 \n",
      "Words: 0.471*\"combin\" + 0.230*\"diastol\" + 0.139*\"systol\" + 0.127*\"lung\" + 0.001*\"cancer\" + 0.001*\"pulmonari\" + 0.001*\"obstruct\" + 0.001*\"diabet\" + 0.001*\"kidney\" + 0.001*\"cardiopulmonari\"\n",
      "Topic: 12 \n",
      "Words: 0.495*\"diabet\" + 0.182*\"mellitus\" + 0.094*\"kidney\" + 0.093*\"hypertens\" + 0.052*\"obstruct\" + 0.031*\"pulmonari\" + 0.026*\"renal\" + 0.002*\"systol\" + 0.001*\"pneumonia\" + 0.001*\"respiratori\"\n",
      "Topic: 13 \n",
      "Words: 0.715*\"cardiogen\" + 0.134*\"systol\" + 0.092*\"renal\" + 0.002*\"pneumonia\" + 0.002*\"pulmonari\" + 0.002*\"respiratori\" + 0.002*\"diastol\" + 0.002*\"atherosclerosi\" + 0.002*\"cardiopulmonari\" + 0.002*\"hypox\"\n",
      "Topic: 14 \n",
      "Words: 0.241*\"edema\" + 0.208*\"hypertens\" + 0.156*\"vascular\" + 0.152*\"respiratori\" + 0.111*\"pulmonari\" + 0.061*\"dementia\" + 0.050*\"diastol\" + 0.001*\"aspir\" + 0.001*\"hypox\" + 0.001*\"lung\"\n"
     ]
    }
   ],
   "source": [
    "for idx, topic in lda_tfidf2.print_topics(-1):\n",
    "    print('Topic: {} \\nWords: {}'.format(idx,topic))"
   ]
  },
  {
   "cell_type": "code",
   "execution_count": 72,
   "metadata": {},
   "outputs": [
    {
     "name": "stdout",
     "output_type": "stream",
     "text": [
      "Coherence score for LDA_TF-IDF for GC category 2 ('Heart failure') with 15 topics and 50 passes:  0.2408431204179867\n"
     ]
    }
   ],
   "source": [
    "coherence_lda_tfidf2 = CoherenceModel(model = lda_tfidf2, \n",
    "                                      texts = processed2, \n",
    "                                      dictionary = id2word2, \n",
    "                                      coherence = 'c_v')\n",
    "\n",
    "coherence_ldatfidf2 = coherence_lda_tfidf2.get_coherence()\n",
    "print(\"Coherence score for LDA_TF-IDF for GC category 2 ('Heart failure') with 15 topics and 50 passes: \", coherence_ldatfidf2)"
   ]
  },
  {
   "cell_type": "code",
   "execution_count": 73,
   "metadata": {},
   "outputs": [
    {
     "data": {
      "text/html": [
       "\n",
       "<link rel=\"stylesheet\" type=\"text/css\" href=\"https://cdn.rawgit.com/bmabey/pyLDAvis/files/ldavis.v1.0.0.css\">\n",
       "\n",
       "\n",
       "<div id=\"ldavis_el897622664014206721583721685\"></div>\n",
       "<script type=\"text/javascript\">\n",
       "\n",
       "var ldavis_el897622664014206721583721685_data = {\"mdsDat\": {\"x\": [-0.06853103008181743, 0.10647511543881731, 0.29699123947856654, 0.19598286973966916, -0.23355964725084213, -0.12043510296573977, 0.24380459707450963, -0.14062484677415243, -0.17750635367858764, 0.012235934423931245, -0.23584388840527346, 0.037767843263090344, 0.004906073829925591, 0.06117591591667356, 0.017161279991228646], \"y\": [0.2012832551346524, 0.14302857481894748, 0.0027669737084333773, 0.16454640143404203, 0.16243156376850568, -0.30555359410351635, -0.09207653491501368, 0.2254782233568118, -0.07220929660068061, -0.08140484020320456, -0.067447484382297, -0.18588191817363547, -0.0758713268039019, 0.017750954365516016, -0.03684095140465898], \"topics\": [1, 2, 3, 4, 5, 6, 7, 8, 9, 10, 11, 12, 13, 14, 15], \"cluster\": [1, 1, 1, 1, 1, 1, 1, 1, 1, 1, 1, 1, 1, 1, 1], \"Freq\": [14.162113189697266, 11.631168365478516, 8.12503433227539, 7.866465091705322, 6.924098014831543, 6.806878566741943, 6.787824630737305, 6.178737640380859, 5.691163063049316, 4.919622898101807, 4.6080732345581055, 4.30871057510376, 4.243769645690918, 4.097527503967285, 3.648811101913452]}, \"tinfo\": {\"Term\": [\"respiratori\", \"diastol\", \"systol\", \"cardiopulmonari\", \"hypoxia\", \"cardiogen\", \"atherosclerosi\", \"diabet\", \"renal\", \"combin\", \"obstruct\", \"atrial\", \"eject\", \"pneumonia\", \"fraction\", \"pleural\", \"pulmonari\", \"kidney\", \"ventricular\", \"edema\", \"hypertens\", \"mellitus\", \"hypox\", \"vascular\", \"dementia\", \"cancer\", \"effus\", \"lung\", \"aspir\", \"injuri\", \"hypox\", \"respiratori\", \"pneumonia\", \"dementia\", \"systol\", \"aspir\", \"effus\", \"lung\", \"injuri\", \"mellitus\", \"cancer\", \"vascular\", \"ventricular\", \"pleural\", \"edema\", \"fraction\", \"eject\", \"hypertens\", \"atherosclerosi\", \"combin\", \"hypoxia\", \"atrial\", \"cardiogen\", \"diabet\", \"pulmonari\", \"cardiopulmonari\", \"obstruct\", \"kidney\", \"renal\", \"diastol\", \"diastol\", \"injuri\", \"kidney\", \"cancer\", \"aspir\", \"effus\", \"lung\", \"mellitus\", \"vascular\", \"ventricular\", \"pleural\", \"edema\", \"hypox\", \"fraction\", \"dementia\", \"eject\", \"hypertens\", \"atherosclerosi\", \"combin\", \"hypoxia\", \"atrial\", \"pneumonia\", \"cardiogen\", \"diabet\", \"pulmonari\", \"cardiopulmonari\", \"obstruct\", \"renal\", \"systol\", \"respiratori\", \"cancer\", \"obstruct\", \"pulmonari\", \"hypertens\", \"dementia\", \"kidney\", \"aspir\", \"effus\", \"lung\", \"injuri\", \"mellitus\", \"vascular\", \"ventricular\", \"pleural\", \"edema\", \"hypox\", \"fraction\", \"eject\", \"atherosclerosi\", \"combin\", \"hypoxia\", \"atrial\", \"pneumonia\", \"cardiogen\", \"diabet\", \"cardiopulmonari\", \"renal\", \"systol\", \"diastol\", \"respiratori\", \"edema\", \"vascular\", \"hypertens\", \"pulmonari\", \"dementia\", \"respiratori\", \"diastol\", \"aspir\", \"effus\", \"lung\", \"injuri\", \"mellitus\", \"cancer\", \"ventricular\", \"pleural\", \"hypox\", \"fraction\", \"eject\", \"atherosclerosi\", \"combin\", \"hypoxia\", \"atrial\", \"pneumonia\", \"cardiogen\", \"diabet\", \"cardiopulmonari\", \"obstruct\", \"kidney\", \"renal\", \"systol\", \"systol\", \"dementia\", \"aspir\", \"effus\", \"lung\", \"injuri\", \"mellitus\", \"cancer\", \"vascular\", \"ventricular\", \"pleural\", \"edema\", \"hypox\", \"fraction\", \"eject\", \"hypertens\", \"atherosclerosi\", \"combin\", \"hypoxia\", \"atrial\", \"pneumonia\", \"cardiogen\", \"diabet\", \"pulmonari\", \"cardiopulmonari\", \"obstruct\", \"kidney\", \"renal\", \"diastol\", \"respiratori\", \"atrial\", \"renal\", \"lung\", \"aspir\", \"effus\", \"injuri\", \"mellitus\", \"cancer\", \"vascular\", \"ventricular\", \"pleural\", \"edema\", \"hypox\", \"fraction\", \"dementia\", \"eject\", \"hypertens\", \"atherosclerosi\", \"combin\", \"hypoxia\", \"pneumonia\", \"cardiogen\", \"diabet\", \"pulmonari\", \"cardiopulmonari\", \"obstruct\", \"kidney\", \"systol\", \"diastol\", \"respiratori\", \"diabet\", \"mellitus\", \"hypertens\", \"kidney\", \"obstruct\", \"pulmonari\", \"renal\", \"aspir\", \"effus\", \"lung\", \"injuri\", \"cancer\", \"vascular\", \"ventricular\", \"pleural\", \"edema\", \"hypox\", \"fraction\", \"dementia\", \"eject\", \"atherosclerosi\", \"combin\", \"hypoxia\", \"atrial\", \"pneumonia\", \"cardiogen\", \"cardiopulmonari\", \"systol\", \"diastol\", \"respiratori\", \"combin\", \"lung\", \"diastol\", \"systol\", \"aspir\", \"effus\", \"injuri\", \"mellitus\", \"cancer\", \"vascular\", \"ventricular\", \"pleural\", \"edema\", \"hypox\", \"fraction\", \"dementia\", \"eject\", \"hypertens\", \"atherosclerosi\", \"hypoxia\", \"atrial\", \"pneumonia\", \"cardiogen\", \"diabet\", \"pulmonari\", \"cardiopulmonari\", \"obstruct\", \"kidney\", \"renal\", \"respiratori\", \"ventricular\", \"aspir\", \"pneumonia\", \"renal\", \"injuri\", \"systol\", \"effus\", \"lung\", \"mellitus\", \"cancer\", \"vascular\", \"pleural\", \"edema\", \"hypox\", \"fraction\", \"dementia\", \"eject\", \"hypertens\", \"atherosclerosi\", \"combin\", \"hypoxia\", \"atrial\", \"cardiogen\", \"diabet\", \"pulmonari\", \"cardiopulmonari\", \"obstruct\", \"kidney\", \"diastol\", \"respiratori\", \"eject\", \"fraction\", \"cancer\", \"aspir\", \"effus\", \"lung\", \"injuri\", \"mellitus\", \"vascular\", \"ventricular\", \"pleural\", \"edema\", \"hypox\", \"dementia\", \"hypertens\", \"atherosclerosi\", \"combin\", \"hypoxia\", \"atrial\", \"pneumonia\", \"cardiogen\", \"diabet\", \"pulmonari\", \"cardiopulmonari\", \"obstruct\", \"kidney\", \"renal\", \"systol\", \"diastol\", \"respiratori\", \"cardiogen\", \"renal\", \"systol\", \"aspir\", \"effus\", \"lung\", \"injuri\", \"mellitus\", \"cancer\", \"vascular\", \"ventricular\", \"pleural\", \"edema\", \"hypox\", \"fraction\", \"dementia\", \"eject\", \"hypertens\", \"atherosclerosi\", \"combin\", \"hypoxia\", \"atrial\", \"pneumonia\", \"diabet\", \"pulmonari\", \"cardiopulmonari\", \"obstruct\", \"kidney\", \"diastol\", \"respiratori\", \"atherosclerosi\", \"dementia\", \"injuri\", \"atrial\", \"renal\", \"hypertens\", \"kidney\", \"aspir\", \"effus\", \"lung\", \"mellitus\", \"cancer\", \"vascular\", \"ventricular\", \"pleural\", \"edema\", \"hypox\", \"fraction\", \"eject\", \"combin\", \"hypoxia\", \"pneumonia\", \"cardiogen\", \"diabet\", \"pulmonari\", \"cardiopulmonari\", \"obstruct\", \"systol\", \"diastol\", \"respiratori\", \"cardiopulmonari\", \"aspir\", \"effus\", \"lung\", \"injuri\", \"mellitus\", \"cancer\", \"vascular\", \"ventricular\", \"pleural\", \"edema\", \"hypox\", \"fraction\", \"dementia\", \"eject\", \"hypertens\", \"atherosclerosi\", \"combin\", \"hypoxia\", \"atrial\", \"pneumonia\", \"cardiogen\", \"diabet\", \"pulmonari\", \"obstruct\", \"kidney\", \"renal\", \"systol\", \"diastol\", \"respiratori\", \"pleural\", \"effus\", \"vascular\", \"lung\", \"pneumonia\", \"pulmonari\", \"obstruct\", \"aspir\", \"systol\", \"injuri\", \"mellitus\", \"cancer\", \"ventricular\", \"edema\", \"hypox\", \"fraction\", \"dementia\", \"eject\", \"hypertens\", \"atherosclerosi\", \"combin\", \"hypoxia\", \"atrial\", \"cardiogen\", \"diabet\", \"cardiopulmonari\", \"kidney\", \"renal\", \"diastol\", \"respiratori\", \"hypoxia\", \"dementia\", \"aspir\", \"effus\", \"lung\", \"injuri\", \"mellitus\", \"cancer\", \"vascular\", \"ventricular\", \"pleural\", \"edema\", \"hypox\", \"fraction\", \"eject\", \"hypertens\", \"atherosclerosi\", \"combin\", \"atrial\", \"pneumonia\", \"cardiogen\", \"diabet\", \"pulmonari\", \"cardiopulmonari\", \"obstruct\", \"kidney\", \"renal\", \"systol\", \"diastol\", \"respiratori\"], \"Freq\": [105.0, 80.0, 73.0, 35.0, 27.0, 30.0, 26.0, 30.0, 43.0, 26.0, 36.0, 28.0, 22.0, 28.0, 20.0, 17.0, 33.0, 40.0, 16.0, 17.0, 25.0, 11.0, 18.0, 13.0, 21.0, 12.0, 7.0, 10.0, 7.0, 10.0, 16.952165603637695, 94.24634552001953, 5.515272617340088, 1.7920782566070557, 5.084768772125244, 0.048722438514232635, 0.04872198402881622, 0.048722267150878906, 0.048741552978754044, 0.04872232303023338, 0.04872214421629906, 0.048727117478847504, 0.04872233048081398, 0.048721957951784134, 0.04872337728738785, 0.04872346296906471, 0.048722948879003525, 0.0487346388399601, 0.04872194305062294, 0.04872194677591324, 0.04875961318612099, 0.04872439056634903, 0.048722486943006516, 0.04872455447912216, 0.04874333739280701, 0.048728492110967636, 0.04872934892773628, 0.048730991780757904, 0.04872609302401543, 0.04872622340917587, 64.00536346435547, 8.251710891723633, 28.53984832763672, 0.4132487177848816, 0.04941454157233238, 0.049417734146118164, 0.049419984221458435, 0.049413930624723434, 0.04946717247366905, 0.049414586275815964, 0.04941396042704582, 0.04941362515091896, 0.0498858317732811, 0.049415260553359985, 0.04955660179257393, 0.049415502697229385, 0.04948180541396141, 0.049414247274398804, 0.04941466450691223, 0.049428790807724, 0.04941483214497566, 0.04941805079579353, 0.049423906952142715, 0.04941672459244728, 0.04941628500819206, 0.04941363260149956, 0.049417946487665176, 0.0494232214987278, 0.049528058618307114, 0.057504650205373764, 10.366477966308594, 30.328102111816406, 20.746326446533203, 3.1746199131011963, 2.0969433784484863, 3.4662163257598877, 0.05940043181180954, 0.0593995600938797, 0.05946321785449982, 0.059399839490652084, 0.059400927275419235, 0.05939943343400955, 0.05940135195851326, 0.05939941853284836, 0.05940229073166847, 0.05939977243542671, 0.059399884194135666, 0.05939995124936104, 0.05940166488289833, 0.059399425983428955, 0.059399764984846115, 0.05943790450692177, 0.059404246509075165, 0.05940023437142372, 0.05941121652722359, 0.05940137803554535, 0.059764448553323746, 0.05940394848585129, 0.05946752429008484, 0.059402719140052795, 16.736928939819336, 10.812081336975098, 14.438055038452148, 7.718026638031006, 4.216915607452393, 10.507880210876465, 3.4725568294525146, 0.06201719492673874, 0.06188424676656723, 0.06197120249271393, 0.061883315443992615, 0.06188330799341202, 0.06188330799341202, 0.061883315443992615, 0.061886295676231384, 0.06197880581021309, 0.06188330054283142, 0.06188330054283142, 0.06188330799341202, 0.06188330799341202, 0.06188333034515381, 0.061883945018053055, 0.06189092993736267, 0.06188330799341202, 0.06188330799341202, 0.06188330054283142, 0.061887286603450775, 0.06188333034515381, 0.06188337877392769, 0.06190459802746773, 50.968109130859375, 8.488511085510254, 0.055785372853279114, 0.055785372853279114, 0.05578579008579254, 0.05578629672527313, 0.055785372853279114, 0.05578586831688881, 0.055785372853279114, 0.05578644573688507, 0.055785372853279114, 0.05578594282269478, 0.055785372853279114, 0.055785372853279114, 0.055785372853279114, 0.055785372853279114, 0.055785372853279114, 0.05578659474849701, 0.055785659700632095, 0.055788230150938034, 0.05578559637069702, 0.055785372853279114, 0.05578622221946716, 0.05578978732228279, 0.055787526071071625, 0.055787913501262665, 0.05578629672527313, 0.05578538030385971, 0.058306630700826645, 0.05578736215829849, 25.34641456604004, 31.697072982788086, 1.2869349718093872, 0.061223775148391724, 0.06122087687253952, 0.0612206906080246, 0.061220683157444, 0.061222609132528305, 0.0612206906080246, 0.06122070923447609, 0.06122121214866638, 0.061220683157444, 0.061220683157444, 0.061220683157444, 0.06122075766324997, 0.061220683157444, 0.061508823186159134, 0.061221346259117126, 0.061220683157444, 0.06123647093772888, 0.06122424453496933, 0.061220683157444, 0.06122186407446861, 0.06122271344065666, 0.061223700642585754, 0.061221059411764145, 0.06124406307935715, 0.061224061995744705, 0.06558793783187866, 0.0612475611269474, 29.63601303100586, 10.875338554382324, 5.583927154541016, 5.650235652923584, 3.0907185077667236, 1.835253119468689, 1.5324485301971436, 0.06932082027196884, 0.06932082027196884, 0.06932719051837921, 0.06932508200407028, 0.06932377070188522, 0.06932096928358078, 0.06932084262371063, 0.06932082027196884, 0.06932231038808823, 0.06932128965854645, 0.06932733207941055, 0.06932119280099869, 0.06932836771011353, 0.06932082027196884, 0.06932137161493301, 0.06932126730680466, 0.06933371722698212, 0.07006180286407471, 0.0693235695362091, 0.06932082772254944, 0.09023557603359222, 0.06939303129911423, 0.06942854076623917, 25.6501407623291, 6.90229606628418, 12.516244888305664, 7.57176399230957, 0.06968852132558823, 0.06968852132558823, 0.0696893036365509, 0.06968992948532104, 0.06970535963773727, 0.06968853622674942, 0.06968852132558823, 0.06968852132558823, 0.06968902796506882, 0.06968853622674942, 0.06968852132558823, 0.06969001144170761, 0.06968852132558823, 0.06968951970338821, 0.06968928128480911, 0.06968854367733002, 0.06969048827886581, 0.06968856602907181, 0.06968852132558823, 0.06969427317380905, 0.06969461590051651, 0.06969205290079117, 0.0696943998336792, 0.06969211995601654, 0.06968939304351807, 0.06969056278467178, 15.861566543579102, 6.235640048980713, 19.92353630065918, 3.1035914421081543, 0.7693312168121338, 2.5209364891052246, 0.07252633571624756, 0.0725252702832222, 0.07252577692270279, 0.07252821326255798, 0.07258450984954834, 0.07252820581197739, 0.07252529263496399, 0.07252594828605652, 0.07252580672502518, 0.07256951928138733, 0.07252588868141174, 0.07253914326429367, 0.0725252702832222, 0.07252709567546844, 0.07252703607082367, 0.07254291325807571, 0.07252528518438339, 0.07252655923366547, 0.07252750545740128, 0.07252805680036545, 0.07252631336450577, 0.07254528999328613, 0.07253904640674591, 0.07259164750576019, 21.1507625579834, 19.41793441772461, 0.4620566964149475, 0.0861022025346756, 0.08610213547945023, 0.08610213547945023, 0.08610213547945023, 0.08610215038061142, 0.08642446994781494, 0.08610215783119202, 0.08610213547945023, 0.08610217273235321, 0.0861022025346756, 0.08610766381025314, 0.08611153811216354, 0.08610215783119202, 0.08610954135656357, 0.08610573410987854, 0.08610215038061142, 0.08610231429338455, 0.086103156208992, 0.08610215783119202, 0.08610326796770096, 0.08612290024757385, 0.08610270172357559, 0.08610226958990097, 0.08613834530115128, 0.08610440045595169, 0.08612130582332611, 0.0861426517367363, 29.033754348754883, 3.7479867935180664, 5.430795192718506, 0.08880099654197693, 0.0888008177280426, 0.08880017697811127, 0.08880004286766052, 0.08880072832107544, 0.0888010561466217, 0.08880002051591873, 0.08880120515823364, 0.08880089223384857, 0.08880056440830231, 0.08880195021629333, 0.08880003541707993, 0.08880137652158737, 0.08880002051591873, 0.0888015478849411, 0.08880341053009033, 0.08880114555358887, 0.08880050480365753, 0.08880005031824112, 0.08896017074584961, 0.08880070596933365, 0.08880820870399475, 0.08880331367254257, 0.08880144357681274, 0.08880084753036499, 0.08880385756492615, 0.08880441635847092, 25.341087341308594, 2.242292881011963, 0.929636538028717, 1.8437010049819946, 2.4616169929504395, 1.1533746719360352, 1.7474629878997803, 0.09794073551893234, 0.09794116765260696, 0.09809568524360657, 0.09794163703918457, 0.09794073551893234, 0.09794073551893234, 0.09794073551893234, 0.09794283658266068, 0.09794285893440247, 0.0979413315653801, 0.09794159233570099, 0.09794172644615173, 0.09794390201568604, 0.09794135391712189, 0.097942054271698, 0.09794077277183533, 0.09794196486473083, 0.09794455021619797, 0.09794073551893234, 0.09795631468296051, 0.09794742614030838, 0.0980217382311821, 0.09794473648071289, 34.625831604003906, 0.09563877433538437, 0.09563837200403214, 0.09563843160867691, 0.0956384688615799, 0.09563837200403214, 0.09563837200403214, 0.09563837200403214, 0.09563839435577393, 0.09563837200403214, 0.09564061462879181, 0.09563839435577393, 0.09563837200403214, 0.09563856571912766, 0.09563837200403214, 0.09563923627138138, 0.09564103931188583, 0.09564192593097687, 0.09563840180635452, 0.09563837945461273, 0.09565196931362152, 0.09563837945461273, 0.09563837200403214, 0.09564165025949478, 0.09564167261123657, 0.0956384539604187, 0.0956389456987381, 0.09568772464990616, 0.0959852933883667, 0.09563913196325302, 16.198436737060547, 6.347893238067627, 1.7396906614303589, 1.1617040634155273, 2.5322670936584473, 2.2737767696380615, 2.246933698654175, 0.1156122237443924, 1.0666970014572144, 0.1156168133020401, 0.11561199277639389, 0.11561267077922821, 0.11561339348554611, 0.11561554670333862, 0.11561501026153564, 0.11561199277639389, 0.11561199277639389, 0.11561199277639389, 0.11561404168605804, 0.11561199277639389, 0.11561202257871628, 0.11561283469200134, 0.11561653017997742, 0.11561412364244461, 0.11562459170818329, 0.11562340706586838, 0.11562829464673996, 0.1156185194849968, 0.11561709642410278, 0.11562930047512054, 26.93663787841797, 1.557410717010498, 0.13077367842197418, 0.13077402114868164, 0.13077446818351746, 0.13077312707901, 0.13077312707901, 0.13077312707901, 0.13077417016029358, 0.1307746022939682, 0.13077868521213531, 0.13077312707901, 0.1307755559682846, 0.13078030943870544, 0.1307813674211502, 0.13077452778816223, 0.13077312707901, 0.13077430427074432, 0.13077521324157715, 0.1307748705148697, 0.13081328570842743, 0.13077312707901, 0.13078759610652924, 0.13083189725875854, 0.1308073103427887, 0.13084499537944794, 0.1307748407125473, 0.13077907264232635, 0.1307731717824936, 0.13129813969135284], \"Total\": [105.0, 80.0, 73.0, 35.0, 27.0, 30.0, 26.0, 30.0, 43.0, 26.0, 36.0, 28.0, 22.0, 28.0, 20.0, 17.0, 33.0, 40.0, 16.0, 17.0, 25.0, 11.0, 18.0, 13.0, 21.0, 12.0, 7.0, 10.0, 7.0, 10.0, 18.06684684753418, 105.81534576416016, 28.897981643676758, 21.1026668548584, 73.3758773803711, 7.326081275939941, 7.395115375518799, 10.267560958862305, 10.893656730651855, 11.968849182128906, 12.209721565246582, 13.537544250488281, 16.951873779296875, 17.24566650390625, 17.8378849029541, 20.494678497314453, 22.227506637573242, 25.224658966064453, 26.405981063842773, 26.743297576904297, 27.968767166137695, 28.193862915039062, 30.107837677001953, 30.72956085205078, 33.43006134033203, 35.69313430786133, 36.58432388305664, 40.290653228759766, 43.316162109375, 80.98351287841797, 80.98351287841797, 10.893656730651855, 40.290653228759766, 12.209721565246582, 7.326081275939941, 7.395115375518799, 10.267560958862305, 11.968849182128906, 13.537544250488281, 16.951873779296875, 17.24566650390625, 17.8378849029541, 18.06684684753418, 20.494678497314453, 21.1026668548584, 22.227506637573242, 25.224658966064453, 26.405981063842773, 26.743297576904297, 27.968767166137695, 28.193862915039062, 28.897981643676758, 30.107837677001953, 30.72956085205078, 33.43006134033203, 35.69313430786133, 36.58432388305664, 43.316162109375, 73.3758773803711, 105.81534576416016, 12.209721565246582, 36.58432388305664, 33.43006134033203, 25.224658966064453, 21.1026668548584, 40.290653228759766, 7.326081275939941, 7.395115375518799, 10.267560958862305, 10.893656730651855, 11.968849182128906, 13.537544250488281, 16.951873779296875, 17.24566650390625, 17.8378849029541, 18.06684684753418, 20.494678497314453, 22.227506637573242, 26.405981063842773, 26.743297576904297, 27.968767166137695, 28.193862915039062, 28.897981643676758, 30.107837677001953, 30.72956085205078, 35.69313430786133, 43.316162109375, 73.3758773803711, 80.98351287841797, 105.81534576416016, 17.8378849029541, 13.537544250488281, 25.224658966064453, 33.43006134033203, 21.1026668548584, 105.81534576416016, 80.98351287841797, 7.326081275939941, 7.395115375518799, 10.267560958862305, 10.893656730651855, 11.968849182128906, 12.209721565246582, 16.951873779296875, 17.24566650390625, 18.06684684753418, 20.494678497314453, 22.227506637573242, 26.405981063842773, 26.743297576904297, 27.968767166137695, 28.193862915039062, 28.897981643676758, 30.107837677001953, 30.72956085205078, 35.69313430786133, 36.58432388305664, 40.290653228759766, 43.316162109375, 73.3758773803711, 73.3758773803711, 21.1026668548584, 7.326081275939941, 7.395115375518799, 10.267560958862305, 10.893656730651855, 11.968849182128906, 12.209721565246582, 13.537544250488281, 16.951873779296875, 17.24566650390625, 17.8378849029541, 18.06684684753418, 20.494678497314453, 22.227506637573242, 25.224658966064453, 26.405981063842773, 26.743297576904297, 27.968767166137695, 28.193862915039062, 28.897981643676758, 30.107837677001953, 30.72956085205078, 33.43006134033203, 35.69313430786133, 36.58432388305664, 40.290653228759766, 43.316162109375, 80.98351287841797, 105.81534576416016, 28.193862915039062, 43.316162109375, 10.267560958862305, 7.326081275939941, 7.395115375518799, 10.893656730651855, 11.968849182128906, 12.209721565246582, 13.537544250488281, 16.951873779296875, 17.24566650390625, 17.8378849029541, 18.06684684753418, 20.494678497314453, 21.1026668548584, 22.227506637573242, 25.224658966064453, 26.405981063842773, 26.743297576904297, 27.968767166137695, 28.897981643676758, 30.107837677001953, 30.72956085205078, 33.43006134033203, 35.69313430786133, 36.58432388305664, 40.290653228759766, 73.3758773803711, 80.98351287841797, 105.81534576416016, 30.72956085205078, 11.968849182128906, 25.224658966064453, 40.290653228759766, 36.58432388305664, 33.43006134033203, 43.316162109375, 7.326081275939941, 7.395115375518799, 10.267560958862305, 10.893656730651855, 12.209721565246582, 13.537544250488281, 16.951873779296875, 17.24566650390625, 17.8378849029541, 18.06684684753418, 20.494678497314453, 21.1026668548584, 22.227506637573242, 26.405981063842773, 26.743297576904297, 27.968767166137695, 28.193862915039062, 28.897981643676758, 30.107837677001953, 35.69313430786133, 73.3758773803711, 80.98351287841797, 105.81534576416016, 26.743297576904297, 10.267560958862305, 80.98351287841797, 73.3758773803711, 7.326081275939941, 7.395115375518799, 10.893656730651855, 11.968849182128906, 12.209721565246582, 13.537544250488281, 16.951873779296875, 17.24566650390625, 17.8378849029541, 18.06684684753418, 20.494678497314453, 21.1026668548584, 22.227506637573242, 25.224658966064453, 26.405981063842773, 27.968767166137695, 28.193862915039062, 28.897981643676758, 30.107837677001953, 30.72956085205078, 33.43006134033203, 35.69313430786133, 36.58432388305664, 40.290653228759766, 43.316162109375, 105.81534576416016, 16.951873779296875, 7.326081275939941, 28.897981643676758, 43.316162109375, 10.893656730651855, 73.3758773803711, 7.395115375518799, 10.267560958862305, 11.968849182128906, 12.209721565246582, 13.537544250488281, 17.24566650390625, 17.8378849029541, 18.06684684753418, 20.494678497314453, 21.1026668548584, 22.227506637573242, 25.224658966064453, 26.405981063842773, 26.743297576904297, 27.968767166137695, 28.193862915039062, 30.107837677001953, 30.72956085205078, 33.43006134033203, 35.69313430786133, 36.58432388305664, 40.290653228759766, 80.98351287841797, 105.81534576416016, 22.227506637573242, 20.494678497314453, 12.209721565246582, 7.326081275939941, 7.395115375518799, 10.267560958862305, 10.893656730651855, 11.968849182128906, 13.537544250488281, 16.951873779296875, 17.24566650390625, 17.8378849029541, 18.06684684753418, 21.1026668548584, 25.224658966064453, 26.405981063842773, 26.743297576904297, 27.968767166137695, 28.193862915039062, 28.897981643676758, 30.107837677001953, 30.72956085205078, 33.43006134033203, 35.69313430786133, 36.58432388305664, 40.290653228759766, 43.316162109375, 73.3758773803711, 80.98351287841797, 105.81534576416016, 30.107837677001953, 43.316162109375, 73.3758773803711, 7.326081275939941, 7.395115375518799, 10.267560958862305, 10.893656730651855, 11.968849182128906, 12.209721565246582, 13.537544250488281, 16.951873779296875, 17.24566650390625, 17.8378849029541, 18.06684684753418, 20.494678497314453, 21.1026668548584, 22.227506637573242, 25.224658966064453, 26.405981063842773, 26.743297576904297, 27.968767166137695, 28.193862915039062, 28.897981643676758, 30.72956085205078, 33.43006134033203, 35.69313430786133, 36.58432388305664, 40.290653228759766, 80.98351287841797, 105.81534576416016, 26.405981063842773, 21.1026668548584, 10.893656730651855, 28.193862915039062, 43.316162109375, 25.224658966064453, 40.290653228759766, 7.326081275939941, 7.395115375518799, 10.267560958862305, 11.968849182128906, 12.209721565246582, 13.537544250488281, 16.951873779296875, 17.24566650390625, 17.8378849029541, 18.06684684753418, 20.494678497314453, 22.227506637573242, 26.743297576904297, 27.968767166137695, 28.897981643676758, 30.107837677001953, 30.72956085205078, 33.43006134033203, 35.69313430786133, 36.58432388305664, 73.3758773803711, 80.98351287841797, 105.81534576416016, 35.69313430786133, 7.326081275939941, 7.395115375518799, 10.267560958862305, 10.893656730651855, 11.968849182128906, 12.209721565246582, 13.537544250488281, 16.951873779296875, 17.24566650390625, 17.8378849029541, 18.06684684753418, 20.494678497314453, 21.1026668548584, 22.227506637573242, 25.224658966064453, 26.405981063842773, 26.743297576904297, 27.968767166137695, 28.193862915039062, 28.897981643676758, 30.107837677001953, 30.72956085205078, 33.43006134033203, 36.58432388305664, 40.290653228759766, 43.316162109375, 73.3758773803711, 80.98351287841797, 105.81534576416016, 17.24566650390625, 7.395115375518799, 13.537544250488281, 10.267560958862305, 28.897981643676758, 33.43006134033203, 36.58432388305664, 7.326081275939941, 73.3758773803711, 10.893656730651855, 11.968849182128906, 12.209721565246582, 16.951873779296875, 17.8378849029541, 18.06684684753418, 20.494678497314453, 21.1026668548584, 22.227506637573242, 25.224658966064453, 26.405981063842773, 26.743297576904297, 27.968767166137695, 28.193862915039062, 30.107837677001953, 30.72956085205078, 35.69313430786133, 40.290653228759766, 43.316162109375, 80.98351287841797, 105.81534576416016, 27.968767166137695, 21.1026668548584, 7.326081275939941, 7.395115375518799, 10.267560958862305, 10.893656730651855, 11.968849182128906, 12.209721565246582, 13.537544250488281, 16.951873779296875, 17.24566650390625, 17.8378849029541, 18.06684684753418, 20.494678497314453, 22.227506637573242, 25.224658966064453, 26.405981063842773, 26.743297576904297, 28.193862915039062, 28.897981643676758, 30.107837677001953, 30.72956085205078, 33.43006134033203, 35.69313430786133, 36.58432388305664, 40.290653228759766, 43.316162109375, 73.3758773803711, 80.98351287841797, 105.81534576416016], \"Category\": [\"Default\", \"Default\", \"Default\", \"Default\", \"Default\", \"Default\", \"Default\", \"Default\", \"Default\", \"Default\", \"Default\", \"Default\", \"Default\", \"Default\", \"Default\", \"Default\", \"Default\", \"Default\", \"Default\", \"Default\", \"Default\", \"Default\", \"Default\", \"Default\", \"Default\", \"Default\", \"Default\", \"Default\", \"Default\", \"Default\", \"Topic1\", \"Topic1\", \"Topic1\", \"Topic1\", \"Topic1\", \"Topic1\", \"Topic1\", \"Topic1\", \"Topic1\", \"Topic1\", \"Topic1\", \"Topic1\", \"Topic1\", \"Topic1\", \"Topic1\", \"Topic1\", \"Topic1\", \"Topic1\", \"Topic1\", \"Topic1\", \"Topic1\", \"Topic1\", \"Topic1\", \"Topic1\", \"Topic1\", \"Topic1\", \"Topic1\", \"Topic1\", \"Topic1\", \"Topic1\", \"Topic2\", \"Topic2\", \"Topic2\", \"Topic2\", \"Topic2\", \"Topic2\", \"Topic2\", \"Topic2\", \"Topic2\", \"Topic2\", \"Topic2\", \"Topic2\", \"Topic2\", \"Topic2\", \"Topic2\", \"Topic2\", \"Topic2\", \"Topic2\", \"Topic2\", \"Topic2\", \"Topic2\", \"Topic2\", \"Topic2\", \"Topic2\", \"Topic2\", \"Topic2\", \"Topic2\", \"Topic2\", \"Topic2\", \"Topic2\", \"Topic3\", \"Topic3\", \"Topic3\", \"Topic3\", \"Topic3\", \"Topic3\", \"Topic3\", \"Topic3\", \"Topic3\", \"Topic3\", \"Topic3\", \"Topic3\", \"Topic3\", \"Topic3\", \"Topic3\", \"Topic3\", \"Topic3\", \"Topic3\", \"Topic3\", \"Topic3\", \"Topic3\", \"Topic3\", \"Topic3\", \"Topic3\", \"Topic3\", \"Topic3\", \"Topic3\", \"Topic3\", \"Topic3\", \"Topic3\", \"Topic4\", \"Topic4\", \"Topic4\", \"Topic4\", \"Topic4\", \"Topic4\", \"Topic4\", \"Topic4\", \"Topic4\", \"Topic4\", \"Topic4\", \"Topic4\", \"Topic4\", \"Topic4\", \"Topic4\", \"Topic4\", \"Topic4\", \"Topic4\", \"Topic4\", \"Topic4\", \"Topic4\", \"Topic4\", \"Topic4\", \"Topic4\", \"Topic4\", \"Topic4\", \"Topic4\", \"Topic4\", \"Topic4\", \"Topic4\", \"Topic5\", \"Topic5\", \"Topic5\", \"Topic5\", \"Topic5\", \"Topic5\", \"Topic5\", \"Topic5\", \"Topic5\", \"Topic5\", \"Topic5\", \"Topic5\", \"Topic5\", \"Topic5\", \"Topic5\", \"Topic5\", \"Topic5\", \"Topic5\", \"Topic5\", \"Topic5\", \"Topic5\", \"Topic5\", \"Topic5\", \"Topic5\", \"Topic5\", \"Topic5\", \"Topic5\", \"Topic5\", \"Topic5\", \"Topic5\", \"Topic6\", \"Topic6\", \"Topic6\", \"Topic6\", \"Topic6\", \"Topic6\", \"Topic6\", \"Topic6\", \"Topic6\", \"Topic6\", \"Topic6\", \"Topic6\", \"Topic6\", \"Topic6\", \"Topic6\", \"Topic6\", \"Topic6\", \"Topic6\", \"Topic6\", \"Topic6\", \"Topic6\", \"Topic6\", \"Topic6\", \"Topic6\", \"Topic6\", \"Topic6\", \"Topic6\", \"Topic6\", \"Topic6\", \"Topic6\", \"Topic7\", \"Topic7\", \"Topic7\", \"Topic7\", \"Topic7\", \"Topic7\", \"Topic7\", \"Topic7\", \"Topic7\", \"Topic7\", \"Topic7\", \"Topic7\", \"Topic7\", \"Topic7\", \"Topic7\", \"Topic7\", \"Topic7\", \"Topic7\", \"Topic7\", \"Topic7\", \"Topic7\", \"Topic7\", \"Topic7\", \"Topic7\", \"Topic7\", \"Topic7\", \"Topic7\", \"Topic7\", \"Topic7\", \"Topic7\", \"Topic8\", \"Topic8\", \"Topic8\", \"Topic8\", \"Topic8\", \"Topic8\", \"Topic8\", \"Topic8\", \"Topic8\", \"Topic8\", \"Topic8\", \"Topic8\", \"Topic8\", \"Topic8\", \"Topic8\", \"Topic8\", \"Topic8\", \"Topic8\", \"Topic8\", \"Topic8\", \"Topic8\", \"Topic8\", \"Topic8\", \"Topic8\", \"Topic8\", \"Topic8\", \"Topic8\", \"Topic8\", \"Topic8\", \"Topic8\", \"Topic9\", \"Topic9\", \"Topic9\", \"Topic9\", \"Topic9\", \"Topic9\", \"Topic9\", \"Topic9\", \"Topic9\", \"Topic9\", \"Topic9\", \"Topic9\", \"Topic9\", \"Topic9\", \"Topic9\", \"Topic9\", \"Topic9\", \"Topic9\", \"Topic9\", \"Topic9\", \"Topic9\", \"Topic9\", \"Topic9\", \"Topic9\", \"Topic9\", \"Topic9\", \"Topic9\", \"Topic9\", \"Topic9\", \"Topic9\", \"Topic10\", \"Topic10\", \"Topic10\", \"Topic10\", \"Topic10\", \"Topic10\", \"Topic10\", \"Topic10\", \"Topic10\", \"Topic10\", \"Topic10\", \"Topic10\", \"Topic10\", \"Topic10\", \"Topic10\", \"Topic10\", \"Topic10\", \"Topic10\", \"Topic10\", \"Topic10\", \"Topic10\", \"Topic10\", \"Topic10\", \"Topic10\", \"Topic10\", \"Topic10\", \"Topic10\", \"Topic10\", \"Topic10\", \"Topic10\", \"Topic11\", \"Topic11\", \"Topic11\", \"Topic11\", \"Topic11\", \"Topic11\", \"Topic11\", \"Topic11\", \"Topic11\", \"Topic11\", \"Topic11\", \"Topic11\", \"Topic11\", \"Topic11\", \"Topic11\", \"Topic11\", \"Topic11\", \"Topic11\", \"Topic11\", \"Topic11\", \"Topic11\", \"Topic11\", \"Topic11\", \"Topic11\", \"Topic11\", \"Topic11\", \"Topic11\", \"Topic11\", \"Topic11\", \"Topic11\", \"Topic12\", \"Topic12\", \"Topic12\", \"Topic12\", \"Topic12\", \"Topic12\", \"Topic12\", \"Topic12\", \"Topic12\", \"Topic12\", \"Topic12\", \"Topic12\", \"Topic12\", \"Topic12\", \"Topic12\", \"Topic12\", \"Topic12\", \"Topic12\", \"Topic12\", \"Topic12\", \"Topic12\", \"Topic12\", \"Topic12\", \"Topic12\", \"Topic12\", \"Topic12\", \"Topic12\", \"Topic12\", \"Topic12\", \"Topic12\", \"Topic13\", \"Topic13\", \"Topic13\", \"Topic13\", \"Topic13\", \"Topic13\", \"Topic13\", \"Topic13\", \"Topic13\", \"Topic13\", \"Topic13\", \"Topic13\", \"Topic13\", \"Topic13\", \"Topic13\", \"Topic13\", \"Topic13\", \"Topic13\", \"Topic13\", \"Topic13\", \"Topic13\", \"Topic13\", \"Topic13\", \"Topic13\", \"Topic13\", \"Topic13\", \"Topic13\", \"Topic13\", \"Topic13\", \"Topic13\", \"Topic14\", \"Topic14\", \"Topic14\", \"Topic14\", \"Topic14\", \"Topic14\", \"Topic14\", \"Topic14\", \"Topic14\", \"Topic14\", \"Topic14\", \"Topic14\", \"Topic14\", \"Topic14\", \"Topic14\", \"Topic14\", \"Topic14\", \"Topic14\", \"Topic14\", \"Topic14\", \"Topic14\", \"Topic14\", \"Topic14\", \"Topic14\", \"Topic14\", \"Topic14\", \"Topic14\", \"Topic14\", \"Topic14\", \"Topic14\", \"Topic15\", \"Topic15\", \"Topic15\", \"Topic15\", \"Topic15\", \"Topic15\", \"Topic15\", \"Topic15\", \"Topic15\", \"Topic15\", \"Topic15\", \"Topic15\", \"Topic15\", \"Topic15\", \"Topic15\", \"Topic15\", \"Topic15\", \"Topic15\", \"Topic15\", \"Topic15\", \"Topic15\", \"Topic15\", \"Topic15\", \"Topic15\", \"Topic15\", \"Topic15\", \"Topic15\", \"Topic15\", \"Topic15\", \"Topic15\"], \"logprob\": [30.0, 29.0, 28.0, 27.0, 26.0, 25.0, 24.0, 23.0, 22.0, 21.0, 20.0, 19.0, 18.0, 17.0, 16.0, 15.0, 14.0, 13.0, 12.0, 11.0, 10.0, 9.0, 8.0, 7.0, 6.0, 5.0, 4.0, 3.0, 2.0, 1.0, -1.996399998664856, -0.2809000015258789, -3.11929988861084, -4.2434000968933105, -3.200500011444092, -7.848400115966797, -7.848400115966797, -7.848400115966797, -7.8480000495910645, -7.848400115966797, -7.848400115966797, -7.848299980163574, -7.848400115966797, -7.848400115966797, -7.848400115966797, -7.848400115966797, -7.848400115966797, -7.848100185394287, -7.848400115966797, -7.848400115966797, -7.847599983215332, -7.848400115966797, -7.848400115966797, -7.848400115966797, -7.8480000495910645, -7.848299980163574, -7.848299980163574, -7.848199844360352, -7.848299980163574, -7.848299980163574, -0.4708999991416931, -2.5195000171661377, -1.2785999774932861, -5.513599872589111, -7.637400150299072, -7.63730001449585, -7.63730001449585, -7.637400150299072, -7.636300086975098, -7.637400150299072, -7.637400150299072, -7.637400150299072, -7.627900123596191, -7.637400150299072, -7.634500026702881, -7.637400150299072, -7.636099815368652, -7.637400150299072, -7.637400150299072, -7.6371002197265625, -7.637400150299072, -7.63730001449585, -7.637199878692627, -7.637400150299072, -7.637400150299072, -7.637400150299072, -7.63730001449585, -7.637199878692627, -7.6350998878479, -7.485799789428711, -1.9326000213623047, -0.8590999841690063, -1.238800048828125, -3.115999937057495, -3.5306999683380127, -3.02810001373291, -7.094600200653076, -7.094600200653076, -7.093599796295166, -7.094600200653076, -7.094600200653076, -7.094600200653076, -7.094600200653076, -7.094600200653076, -7.094600200653076, -7.094600200653076, -7.094600200653076, -7.094600200653076, -7.094600200653076, -7.094600200653076, -7.094600200653076, -7.093999862670898, -7.094600200653076, -7.094600200653076, -7.094399929046631, -7.094600200653076, -7.088500022888184, -7.094600200653076, -7.093500137329102, -7.094600200653076, -1.4212000370025635, -1.858199954032898, -1.569000005722046, -2.1953001022338867, -2.7997000217437744, -1.8867000341415405, -2.9939000606536865, -7.019199848175049, -7.021299839019775, -7.019899845123291, -7.021299839019775, -7.021299839019775, -7.021299839019775, -7.021299839019775, -7.021299839019775, -7.019800186157227, -7.021299839019775, -7.021299839019775, -7.021299839019775, -7.021299839019775, -7.021299839019775, -7.021299839019775, -7.021200180053711, -7.021299839019775, -7.021299839019775, -7.021299839019775, -7.021299839019775, -7.021299839019775, -7.021299839019775, -7.020999908447266, -0.18000000715255737, -1.972499966621399, -6.997499942779541, -6.997499942779541, -6.997499942779541, -6.997399806976318, -6.997499942779541, -6.997499942779541, -6.997499942779541, -6.997399806976318, -6.997499942779541, -6.997499942779541, -6.997499942779541, -6.997499942779541, -6.997499942779541, -6.997499942779541, -6.997499942779541, -6.997399806976318, -6.997499942779541, -6.997399806976318, -6.997499942779541, -6.997499942779541, -6.997399806976318, -6.997399806976318, -6.997399806976318, -6.997399806976318, -6.997399806976318, -6.997499942779541, -6.9532999992370605, -6.997399806976318, -0.8615000247955322, -0.6378999948501587, -3.841900110244751, -6.887400150299072, -6.887400150299072, -6.887400150299072, -6.887400150299072, -6.887400150299072, -6.887400150299072, -6.887400150299072, -6.887400150299072, -6.887400150299072, -6.887400150299072, -6.887400150299072, -6.887400150299072, -6.887400150299072, -6.882699966430664, -6.887400150299072, -6.887400150299072, -6.887199878692627, -6.887400150299072, -6.887400150299072, -6.887400150299072, -6.887400150299072, -6.887400150299072, -6.887400150299072, -6.88700008392334, -6.887400150299072, -6.81850004196167, -6.88700008392334, -0.7024000287055969, -1.704800009727478, -2.371500015258789, -2.359600067138672, -2.962899923324585, -3.4842000007629395, -3.6644999980926514, -6.76039981842041, -6.76039981842041, -6.760300159454346, -6.760300159454346, -6.760300159454346, -6.76039981842041, -6.76039981842041, -6.76039981842041, -6.760300159454346, -6.760300159454346, -6.760300159454346, -6.760300159454346, -6.760200023651123, -6.76039981842041, -6.760300159454346, -6.760300159454346, -6.760200023651123, -6.74970006942749, -6.760300159454346, -6.76039981842041, -6.496699810028076, -6.759300231933594, -6.758800029754639, -0.7527999877929688, -2.065500020980835, -1.4702999591827393, -1.9729000329971313, -6.660999774932861, -6.660999774932861, -6.660999774932861, -6.660999774932861, -6.660799980163574, -6.660999774932861, -6.660999774932861, -6.660999774932861, -6.660999774932861, -6.660999774932861, -6.660999774932861, -6.660999774932861, -6.660999774932861, -6.660999774932861, -6.660999774932861, -6.660999774932861, -6.660999774932861, -6.660999774932861, -6.660999774932861, -6.660999774932861, -6.660999774932861, -6.660999774932861, -6.660999774932861, -6.660999774932861, -6.660999774932861, -6.660999774932861, -1.1512000560760498, -2.0848000049591064, -0.9232000112533569, -2.782599925994873, -4.1774001121521, -2.990499973297119, -6.538899898529053, -6.538899898529053, -6.538899898529053, -6.538899898529053, -6.538099765777588, -6.538899898529053, -6.538899898529053, -6.538899898529053, -6.538899898529053, -6.538300037384033, -6.538899898529053, -6.53879976272583, -6.538899898529053, -6.538899898529053, -6.538899898529053, -6.538700103759766, -6.538899898529053, -6.538899898529053, -6.538899898529053, -6.538899898529053, -6.538899898529053, -6.538700103759766, -6.53879976272583, -6.538000106811523, -0.7178000211715698, -0.8032000064849854, -4.541500091552734, -6.221700191497803, -6.221700191497803, -6.221700191497803, -6.221700191497803, -6.221700191497803, -6.217899799346924, -6.221700191497803, -6.221700191497803, -6.221700191497803, -6.221700191497803, -6.22160005569458, -6.22160005569458, -6.221700191497803, -6.22160005569458, -6.22160005569458, -6.221700191497803, -6.221700191497803, -6.221700191497803, -6.221700191497803, -6.221700191497803, -6.221399784088135, -6.221700191497803, -6.221700191497803, -6.221199989318848, -6.22160005569458, -6.221399784088135, -6.221199989318848, -0.33559998869895935, -2.3828001022338867, -2.011899948120117, -6.125400066375732, -6.125400066375732, -6.125400066375732, -6.125400066375732, -6.125400066375732, -6.125400066375732, -6.125400066375732, -6.125400066375732, -6.125400066375732, -6.125400066375732, -6.125400066375732, -6.125400066375732, -6.125400066375732, -6.125400066375732, -6.125400066375732, -6.125400066375732, -6.125400066375732, -6.125400066375732, -6.125400066375732, -6.123600006103516, -6.125400066375732, -6.12529993057251, -6.125400066375732, -6.125400066375732, -6.125400066375732, -6.12529993057251, -6.12529993057251, -0.4043999910354614, -2.829400062561035, -3.7098000049591064, -3.025099992752075, -2.7360000610351562, -3.4941999912261963, -3.078700065612793, -5.96019983291626, -5.96019983291626, -5.958700180053711, -5.96019983291626, -5.96019983291626, -5.96019983291626, -5.96019983291626, -5.96019983291626, -5.96019983291626, -5.96019983291626, -5.96019983291626, -5.96019983291626, -5.96019983291626, -5.96019983291626, -5.96019983291626, -5.96019983291626, -5.96019983291626, -5.96019983291626, -5.96019983291626, -5.960100173950195, -5.96019983291626, -5.959400177001953, -5.96019983291626, -0.0771000012755394, -5.968800067901611, -5.968800067901611, -5.968800067901611, -5.968800067901611, -5.968800067901611, -5.968800067901611, -5.968800067901611, -5.968800067901611, -5.968800067901611, -5.968800067901611, -5.968800067901611, -5.968800067901611, -5.968800067901611, -5.968800067901611, -5.968800067901611, -5.968800067901611, -5.968800067901611, -5.968800067901611, -5.968800067901611, -5.968699932098389, -5.968800067901611, -5.968800067901611, -5.968800067901611, -5.968800067901611, -5.968800067901611, -5.968800067901611, -5.968299865722656, -5.965199947357178, -5.968800067901611, -0.8016999959945679, -1.7384999990463257, -3.032900094985962, -3.4367001056671143, -2.6575000286102295, -2.765199899673462, -2.7769999504089355, -5.744100093841553, -3.5220000743865967, -5.744100093841553, -5.744100093841553, -5.744100093841553, -5.744100093841553, -5.744100093841553, -5.744100093841553, -5.744100093841553, -5.744100093841553, -5.744100093841553, -5.744100093841553, -5.744100093841553, -5.744100093841553, -5.744100093841553, -5.744100093841553, -5.744100093841553, -5.74399995803833, -5.74399995803833, -5.74399995803833, -5.744100093841553, -5.744100093841553, -5.74399995803833, -0.17710000276565552, -3.027600049972534, -5.504899978637695, -5.504899978637695, -5.504899978637695, -5.504899978637695, -5.504899978637695, -5.504899978637695, -5.504899978637695, -5.504899978637695, -5.504899978637695, -5.504899978637695, -5.504899978637695, -5.504899978637695, -5.504799842834473, -5.504899978637695, -5.504899978637695, -5.504899978637695, -5.504899978637695, -5.504899978637695, -5.5046000480651855, -5.504899978637695, -5.504799842834473, -5.504499912261963, -5.5046000480651855, -5.50439977645874, -5.504899978637695, -5.504899978637695, -5.504899978637695, -5.500899791717529], \"loglift\": [30.0, 29.0, 28.0, 27.0, 26.0, 25.0, 24.0, 23.0, 22.0, 21.0, 20.0, 19.0, 18.0, 17.0, 16.0, 15.0, 14.0, 13.0, 12.0, 11.0, 10.0, 9.0, 8.0, 7.0, 6.0, 5.0, 4.0, 3.0, 2.0, 1.0, 1.8909000158309937, 1.8387999534606934, 0.29829999804496765, -0.5113999843597412, -0.7146999835968018, -3.058500051498413, -3.0678000450134277, -3.3959999084472656, -3.4547998905181885, -3.549299955368042, -3.5692999362945557, -3.6723999977111816, -3.89739990234375, -3.914599895477295, -3.9482998847961426, -4.087200164794922, -4.168300151824951, -4.294600009918213, -4.34060001373291, -4.353300094604492, -4.397299766540527, -4.406099796295166, -4.471799850463867, -4.492199897766113, -4.576000213623047, -4.6417999267578125, -4.666500091552734, -4.763000011444092, -4.8354997634887695, -5.46120023727417, 1.916200041770935, 1.8737000226974487, 1.8066999912261963, -1.2345000505447388, -2.8475000858306885, -2.856800079345703, -3.1849000453948975, -3.3382999897003174, -3.460400104522705, -3.6863999366760254, -3.7035999298095703, -3.7374000549316406, -3.740600109100342, -3.876199960708618, -3.902600049972534, -3.9572999477386475, -4.082499980926514, -4.1296000480651855, -4.142300128936768, -4.186800003051758, -4.195099830627441, -4.219699859619141, -4.2606000900268555, -4.281199932098389, -4.3653998374938965, -4.431000232696533, -4.455599784851074, -4.6244001388549805, -5.1493000984191895, -5.366099834442139, 2.34660005569458, 2.322700023651123, 2.033099889755249, 0.4375999867916107, 0.2012999951839447, 0.05719999969005585, -2.3046998977661133, -2.3141000270843506, -2.641200065612793, -2.7014000415802, -2.7955000400543213, -2.9186999797821045, -3.1435999870300293, -3.160799980163574, -3.194499969482422, -3.2072999477386475, -3.333400011062622, -3.414599895477295, -3.5868000984191895, -3.5994999408721924, -3.6442999839782715, -3.651700019836426, -3.6768999099731445, -3.7179999351501465, -3.738300085067749, -3.888200044631958, -4.0756001472473145, -4.608799934387207, -4.706399917602539, -4.974899768829346, 2.4788999557495117, 2.3178000450134277, 1.9845999479293823, 1.07669997215271, 0.9322999715805054, 0.2329999953508377, -0.6068000197410583, -2.2291998863220215, -2.2407000064849854, -2.567500114440918, -2.6280999183654785, -2.7223000526428223, -2.7421998977661133, -3.0703001022338867, -3.0875000953674316, -3.132499933242798, -3.2600998878479004, -3.3413000106811523, -3.5134999752044678, -3.52620005607605, -3.571000099182129, -3.5789999961853027, -3.603600025177002, -3.644700050354004, -3.6651999950408936, -3.8148999214172363, -3.8394999504089355, -3.9361000061035156, -4.008500099182129, -4.535200119018555, 2.305799961090088, 1.7595000267028809, -2.2074999809265137, -2.216900110244751, -2.545099973678589, -2.6041998863220215, -2.6984000205993652, -2.7183001041412354, -2.821500062942505, -3.0464000701904297, -3.0636000633239746, -3.097399950027466, -3.1101999282836914, -3.2362000942230225, -3.3173999786376953, -3.4439001083374023, -3.4897000789642334, -3.5023000240325928, -3.5471999645233154, -3.5550999641418457, -3.5797998905181885, -3.6208999156951904, -3.6412999629974365, -3.7255001068115234, -3.7909998893737793, -3.815700054168701, -3.9121999740600586, -3.984600067138672, -4.566100120544434, -4.877699851989746, 2.5808000564575195, 2.3749001026153564, 0.6104999780654907, -2.097399950027466, -2.1068999767303467, -2.4941999912261963, -2.5882999897003174, -2.6082000732421875, -2.7114999294281006, -2.9363999366760254, -2.9535999298095703, -2.9874000549316406, -3.0000998973846436, -3.126199960708618, -3.155400037765503, -3.20740008354187, -3.329200029373169, -3.3796000480651855, -3.3922998905181885, -3.4368999004364014, -3.4697000980377197, -3.5107998847961426, -3.5311999320983887, -3.615499973297119, -3.6809000968933105, -3.7056000232696533, -3.801800012588501, -4.401599884033203, -4.431399822235107, -4.767300128936768, 2.6538000106811523, 2.5941998958587646, 1.1821000576019287, 0.725600004196167, 0.21879999339580536, -0.21220000088214874, -0.6516000032424927, -1.9703999757766724, -1.9797999858856201, -2.3078999519348145, -2.3671000003814697, -2.4811999797821045, -2.584399938583374, -2.809299945831299, -2.8264999389648438, -2.860300064086914, -2.872999906539917, -2.999000072479248, -3.02839994430542, -3.080199956893921, -3.2525999546051025, -3.265199899673462, -3.3101000785827637, -3.3178999423980713, -3.3320999145507812, -3.383699893951416, -3.5539000034332275, -4.010900020599365, -4.372200012207031, -4.639100074768066, 2.742300033569336, 2.386899948120117, 0.9168000221252441, 0.5128999948501587, -1.8710999488830566, -1.8804999589920044, -2.2678000926971436, -2.361999988555908, -2.381700038909912, -2.485100030899048, -2.7100000381469727, -2.7272000312805176, -2.760999917984009, -2.773699998855591, -2.8998000621795654, -2.928999900817871, -2.9809999465942383, -3.1075000762939453, -3.1531999111175537, -3.2107999324798584, -3.2186999320983887, -3.2434000968933105, -3.28439998626709, -3.304800033569336, -3.3889999389648438, -3.4546000957489014, -3.4791998863220215, -3.575700044631958, -3.648200035095215, -4.541299819946289, 2.799799919128418, 2.7051000595092773, 2.4944000244140625, 0.23029999434947968, 0.21580000221729279, -0.5047000050544739, -1.7583999633789062, -2.0866000652313232, -2.2399001121520996, -2.2597999572753906, -2.3622000217437744, -2.60509991645813, -2.6389000415802, -2.651599884033203, -2.7776999473571777, -2.8064000606536865, -2.8589000701904297, -2.9851999282836914, -3.0311999320983887, -3.043800115585327, -3.088599920272827, -3.096400022506714, -3.162400007247925, -3.182800054550171, -3.2669999599456787, -3.3324999809265137, -3.3571999073028564, -3.453399896621704, -4.151599884033203, -4.418300151824951, 2.9623000621795654, 2.9579999446868896, -0.2624000012874603, -1.4316999912261963, -1.441100001335144, -1.7692999839782715, -1.8285000324249268, -1.9226000308990479, -2.0420000553131104, -2.270699977874756, -2.2878000736236572, -2.3215999603271484, -2.334399938583374, -2.4895999431610107, -2.6679999828338623, -2.713900089263916, -2.7265000343322754, -2.7713000774383545, -2.779400110244751, -2.8041000366210938, -2.845099925994873, -2.865499973297119, -2.949700117111206, -3.015000104904175, -3.039900064468384, -3.136399984359741, -3.208400011062622, -3.7358999252319336, -3.8343000411987305, -4.101500034332275, 3.0409998893737793, 0.6301000118255615, 0.4738999903202057, -1.3353999853134155, -1.3447999954223633, -1.6729999780654907, -1.732200026512146, -1.826300024986267, -1.8461999893188477, -1.9494999647140503, -2.1744000911712646, -2.1916000843048096, -2.2253000736236572, -2.238100051879883, -2.3642001152038574, -2.393399953842163, -2.4453001022338867, -2.5717999935150146, -2.6175999641418457, -2.6303000450134277, -2.675100088119507, -2.6830999851226807, -2.7060000896453857, -2.769200086593628, -2.8533999919891357, -2.9189000129699707, -2.9435999393463135, -3.04010009765625, -3.7381999492645264, -4.00570011138916, 3.1033999919891357, 0.9025999903678894, 0.6833999752998352, 0.4171999990940094, 0.2768000066280365, 0.05939999967813492, 0.006599999964237213, -1.170300006866455, -1.1797000169754028, -1.5062999725341797, -1.6612000465393066, -1.6811000108718872, -1.7842999696731567, -2.009200096130371, -2.026400089263916, -2.0601999759674072, -2.0729000568389893, -2.1989998817443848, -2.2802000045776367, -2.465100049972534, -2.5099000930786133, -2.54259991645813, -2.5836000442504883, -2.604099988937378, -2.6882998943328857, -2.7537999153137207, -2.7783000469207764, -3.474400043487549, -3.5722999572753906, -3.8405001163482666, 3.1294000148773193, -1.1789000034332275, -1.1883000135421753, -1.5164999961853027, -1.575600028038025, -1.669800043106079, -1.6897000074386597, -1.7928999662399292, -2.0178000926971436, -2.0350000858306885, -2.0687999725341797, -2.0815000534057617, -2.2076001167297363, -2.2369000911712646, -2.288800001144409, -2.415299892425537, -2.4609999656677246, -2.4737000465393066, -2.5185999870300293, -2.526599884033203, -2.551100015640259, -2.5922000408172607, -2.6126999855041504, -2.696899890899658, -2.7869999408721924, -2.8835999965667725, -2.9560000896453857, -3.4825000762939453, -3.5780999660491943, -3.8492000102996826, 3.1321001052856445, 3.042099952697754, 1.1430000066757202, 1.0156999826431274, 0.7601000070571899, 0.5067999958992004, 0.40470001101493835, -0.954200029373169, -1.0362000465393066, -1.3509000539779663, -1.4450000524520874, -1.465000033378601, -1.7930999994277954, -1.843999981880188, -1.8567999601364136, -1.9829000234603882, -2.0120999813079834, -2.0641000270843506, -2.190500020980835, -2.236299991607666, -2.249000072479248, -2.293800115585327, -2.301800012588501, -2.367500066757202, -2.3877999782562256, -2.537600040435791, -2.6586999893188477, -2.7311999797821045, -3.3568999767303467, -3.624300003051758, 3.273200035095215, 0.7044000029563904, -0.7149999737739563, -0.7243000268936157, -1.0525000095367432, -1.1117000579833984, -1.2058000564575195, -1.2258000373840332, -1.3289999961853027, -1.5539000034332275, -1.5709999799728394, -1.6047999858856201, -1.6175999641418457, -1.7436000108718872, -1.8248000144958496, -1.951300024986267, -1.9970999956130981, -2.0097999572753906, -2.0625998973846436, -2.0873000621795654, -2.128000020980835, -2.148699998855591, -2.2328999042510986, -2.2980000972747803, -2.3229000568389893, -2.419100046157837, -2.492000102996826, -3.0190999507904053, -3.117799997329712, -3.381200075149536]}, \"token.table\": {\"Topic\": [9, 12, 6, 12, 3, 11, 13, 8, 1, 3, 4, 5, 12, 15, 7, 2, 4, 8, 4, 14, 10, 10, 3, 4, 7, 12, 1, 15, 2, 9, 12, 2, 3, 7, 12, 6, 8, 14, 7, 3, 7, 14, 14, 1, 9, 14, 3, 4, 7, 14, 6, 7, 9, 11, 12, 1, 4, 1, 5, 8, 9, 11, 14, 4, 14, 9], \"Freq\": [0.8189917206764221, 0.9467552304267883, 0.8867177963256836, 0.07093742489814758, 0.8190194964408875, 0.9632043242454529, 0.980580747127533, 0.9722062349319458, 0.0947747528553009, 0.0947747528553009, 0.1895495057106018, 0.3790990114212036, 0.0947747528553009, 0.0947747528553009, 0.9762586355209351, 0.7902843356132507, 0.03704457730054855, 0.16052649915218353, 0.9530277848243713, 0.8113463521003723, 0.9447753429412842, 0.927069902420044, 0.11893124133348465, 0.5550124645233154, 0.2378624826669693, 0.03964374586939812, 0.9409500360488892, 0.965362548828125, 0.7343723177909851, 0.09179653972387314, 0.09179653972387314, 0.7197698950767517, 0.07445895671844482, 0.14891791343688965, 0.04963930323719978, 0.09739411622285843, 0.6817588210105896, 0.09739411622285843, 0.9190524220466614, 0.8200233578681946, 0.08200233429670334, 0.05466822534799576, 0.9277693033218384, 0.20762695372104645, 0.692089855670929, 0.10381347686052322, 0.6281771063804626, 0.23930557072162628, 0.05982639268040657, 0.05982639268040657, 0.7387542724609375, 0.046172142028808594, 0.06925821304321289, 0.09234428405761719, 0.046172142028808594, 0.8883399367332458, 0.10395467281341553, 0.06814228743314743, 0.6950513124465942, 0.10902765393257141, 0.04088537022471428, 0.06814228743314743, 0.013628456741571426, 0.8125550746917725, 0.1477372795343399, 0.9438484907150269], \"Term\": [\"aspir\", \"atherosclerosi\", \"atrial\", \"atrial\", \"cancer\", \"cardiogen\", \"cardiopulmonari\", \"combin\", \"dementia\", \"dementia\", \"dementia\", \"dementia\", \"dementia\", \"dementia\", \"diabet\", \"diastol\", \"diastol\", \"diastol\", \"edema\", \"effus\", \"eject\", \"fraction\", \"hypertens\", \"hypertens\", \"hypertens\", \"hypertens\", \"hypox\", \"hypoxia\", \"injuri\", \"injuri\", \"injuri\", \"kidney\", \"kidney\", \"kidney\", \"kidney\", \"lung\", \"lung\", \"lung\", \"mellitus\", \"obstruct\", \"obstruct\", \"obstruct\", \"pleural\", \"pneumonia\", \"pneumonia\", \"pneumonia\", \"pulmonari\", \"pulmonari\", \"pulmonari\", \"pulmonari\", \"renal\", \"renal\", \"renal\", \"renal\", \"renal\", \"respiratori\", \"respiratori\", \"systol\", \"systol\", \"systol\", \"systol\", \"systol\", \"systol\", \"vascular\", \"vascular\", \"ventricular\"]}, \"R\": 30, \"lambda.step\": 0.01, \"plot.opts\": {\"xlab\": \"PC1\", \"ylab\": \"PC2\"}, \"topic.order\": [7, 9, 4, 15, 11, 5, 13, 12, 10, 8, 14, 2, 6, 1, 3]};\n",
       "\n",
       "function LDAvis_load_lib(url, callback){\n",
       "  var s = document.createElement('script');\n",
       "  s.src = url;\n",
       "  s.async = true;\n",
       "  s.onreadystatechange = s.onload = callback;\n",
       "  s.onerror = function(){console.warn(\"failed to load library \" + url);};\n",
       "  document.getElementsByTagName(\"head\")[0].appendChild(s);\n",
       "}\n",
       "\n",
       "if(typeof(LDAvis) !== \"undefined\"){\n",
       "   // already loaded: just create the visualization\n",
       "   !function(LDAvis){\n",
       "       new LDAvis(\"#\" + \"ldavis_el897622664014206721583721685\", ldavis_el897622664014206721583721685_data);\n",
       "   }(LDAvis);\n",
       "}else if(typeof define === \"function\" && define.amd){\n",
       "   // require.js is available: use it to load d3/LDAvis\n",
       "   require.config({paths: {d3: \"https://cdnjs.cloudflare.com/ajax/libs/d3/3.5.5/d3.min\"}});\n",
       "   require([\"d3\"], function(d3){\n",
       "      window.d3 = d3;\n",
       "      LDAvis_load_lib(\"https://cdn.rawgit.com/bmabey/pyLDAvis/files/ldavis.v1.0.0.js\", function(){\n",
       "        new LDAvis(\"#\" + \"ldavis_el897622664014206721583721685\", ldavis_el897622664014206721583721685_data);\n",
       "      });\n",
       "    });\n",
       "}else{\n",
       "    // require.js not available: dynamically load d3 & LDAvis\n",
       "    LDAvis_load_lib(\"https://cdnjs.cloudflare.com/ajax/libs/d3/3.5.5/d3.min.js\", function(){\n",
       "         LDAvis_load_lib(\"https://cdn.rawgit.com/bmabey/pyLDAvis/files/ldavis.v1.0.0.js\", function(){\n",
       "                 new LDAvis(\"#\" + \"ldavis_el897622664014206721583721685\", ldavis_el897622664014206721583721685_data);\n",
       "            })\n",
       "         });\n",
       "}\n",
       "</script>"
      ],
      "text/plain": [
       "PreparedData(topic_coordinates=              x         y  topics  cluster       Freq\n",
       "topic                                                \n",
       "6     -0.068531  0.201283       1        1  14.162113\n",
       "8      0.106475  0.143029       2        1  11.631168\n",
       "3      0.296991  0.002767       3        1   8.125034\n",
       "14     0.195983  0.164546       4        1   7.866465\n",
       "10    -0.233560  0.162432       5        1   6.924098\n",
       "4     -0.120435 -0.305554       6        1   6.806879\n",
       "12     0.243805 -0.092077       7        1   6.787825\n",
       "11    -0.140625  0.225478       8        1   6.178738\n",
       "9     -0.177506 -0.072209       9        1   5.691163\n",
       "7      0.012236 -0.081405      10        1   4.919623\n",
       "13    -0.235844 -0.067447      11        1   4.608073\n",
       "1      0.037768 -0.185882      12        1   4.308711\n",
       "5      0.004906 -0.075871      13        1   4.243770\n",
       "0      0.061176  0.017751      14        1   4.097528\n",
       "2      0.017161 -0.036841      15        1   3.648811, topic_info=               Term        Freq       Total Category  logprob  loglift\n",
       "3       respiratori  105.000000  105.000000  Default  30.0000  30.0000\n",
       "13          diastol   80.000000   80.000000  Default  29.0000  29.0000\n",
       "14           systol   73.000000   73.000000  Default  28.0000  28.0000\n",
       "0   cardiopulmonari   35.000000   35.000000  Default  27.0000  27.0000\n",
       "26          hypoxia   27.000000   27.000000  Default  26.0000  26.0000\n",
       "..              ...         ...         ...      ...      ...      ...\n",
       "9            kidney    0.130845   40.290653  Topic15  -5.5044  -2.4191\n",
       "24            renal    0.130775   43.316162  Topic15  -5.5049  -2.4920\n",
       "14           systol    0.130779   73.375877  Topic15  -5.5049  -3.0191\n",
       "13          diastol    0.130773   80.983513  Topic15  -5.5049  -3.1178\n",
       "3       respiratori    0.131298  105.815346  Topic15  -5.5009  -3.3812\n",
       "\n",
       "[480 rows x 6 columns], token_table=      Topic      Freq            Term\n",
       "term                                 \n",
       "27        9  0.818992           aspir\n",
       "10       12  0.946755  atherosclerosi\n",
       "20        6  0.886718          atrial\n",
       "20       12  0.070937          atrial\n",
       "25        3  0.819019          cancer\n",
       "...     ...       ...             ...\n",
       "14       11  0.068142          systol\n",
       "14       14  0.013628          systol\n",
       "19        4  0.812555        vascular\n",
       "19       14  0.147737        vascular\n",
       "29        9  0.943848     ventricular\n",
       "\n",
       "[66 rows x 3 columns], R=30, lambda_step=0.01, plot_opts={'xlab': 'PC1', 'ylab': 'PC2'}, topic_order=[7, 9, 4, 15, 11, 5, 13, 12, 10, 8, 14, 2, 6, 1, 3])"
      ]
     },
     "execution_count": 73,
     "metadata": {},
     "output_type": "execute_result"
    }
   ],
   "source": [
    "from pyLDAvis import sklearn as sklearn_lda\n",
    "import pyLDAvis\n",
    "pyLDAvis.enable_notebook()\n",
    "LDA_tfidf2_vis = pyLDAvis.gensim.prepare(lda_tfidf2, corpus_tfidf2, id2word2)\n",
    "LDA_tfidf2_vis"
   ]
  }
 ],
 "metadata": {
  "kernelspec": {
   "display_name": "Python 3",
   "language": "python",
   "name": "python3"
  },
  "language_info": {
   "codemirror_mode": {
    "name": "ipython",
    "version": 3
   },
   "file_extension": ".py",
   "mimetype": "text/x-python",
   "name": "python",
   "nbconvert_exporter": "python",
   "pygments_lexer": "ipython3",
   "version": "3.8.3"
  }
 },
 "nbformat": 4,
 "nbformat_minor": 4
}
