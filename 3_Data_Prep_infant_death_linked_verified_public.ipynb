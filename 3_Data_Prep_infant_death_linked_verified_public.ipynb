{
 "cells": [
  {
   "cell_type": "markdown",
   "metadata": {},
   "source": [
    "### Capstone 1 - Washington state linkage of infant death, birth, and mother's hospitalization discharge data"
   ]
  },
  {
   "cell_type": "markdown",
   "metadata": {},
   "source": [
    "##### Maya Bhat-Gregerson\n",
    "\n",
    "January 16, 2020"
   ]
  },
  {
   "cell_type": "markdown",
   "metadata": {},
   "source": [
    "### C. PREPARATION OF INFANT BIRTH-DEATH LINKED DATA, 2016-2017"
   ]
  },
  {
   "cell_type": "markdown",
   "metadata": {},
   "source": [
    "### I. Data acquisition"
   ]
  },
  {
   "cell_type": "code",
   "execution_count": 1,
   "metadata": {},
   "outputs": [],
   "source": [
    "import pandas as pd\n",
    "import numpy as np\n",
    "import matplotlib.pyplot as plt\n",
    "import seaborn as sns\n",
    "import pyodbc\n",
    "\n",
    "pd.set_option('display.max_columns', None)\n",
    "pd.set_option('display.max_rows', None)"
   ]
  },
  {
   "cell_type": "markdown",
   "metadata": {},
   "source": [
    "For the infant linked birth-death data used to create a training data set, I simply read in the CSV file that has already been prepared by my office for 2016 and 2017."
   ]
  },
  {
   "cell_type": "markdown",
   "metadata": {},
   "source": [
    "**2016**"
   ]
  },
  {
   "cell_type": "code",
   "execution_count": 2,
   "metadata": {},
   "outputs": [],
   "source": [
    "linked16 = pd.read_csv(r'###\\Data\\InfantDeathY16_BP.csv',\n",
    "                       index_col = None,\n",
    "                       low_memory = False)"
   ]
  },
  {
   "cell_type": "code",
   "execution_count": 3,
   "metadata": {},
   "outputs": [
    {
     "data": {
      "text/plain": [
       "(414, 355)"
      ]
     },
     "execution_count": 3,
     "metadata": {},
     "output_type": "execute_result"
    }
   ],
   "source": [
    "linked16.shape"
   ]
  },
  {
   "cell_type": "code",
   "execution_count": 5,
   "metadata": {},
   "outputs": [],
   "source": [
    "#linked16.head()"
   ]
  },
  {
   "cell_type": "markdown",
   "metadata": {},
   "source": [
    "**2017**"
   ]
  },
  {
   "cell_type": "code",
   "execution_count": 6,
   "metadata": {},
   "outputs": [],
   "source": [
    "linked17 = pd.read_csv(r'###\\InfantDeathF2017.csv',\n",
    "                       index_col = None,\n",
    "                       low_memory = False)"
   ]
  },
  {
   "cell_type": "code",
   "execution_count": 7,
   "metadata": {},
   "outputs": [
    {
     "data": {
      "text/plain": [
       "(363, 449)"
      ]
     },
     "execution_count": 7,
     "metadata": {},
     "output_type": "execute_result"
    }
   ],
   "source": [
    "linked17.shape"
   ]
  },
  {
   "cell_type": "code",
   "execution_count": 46,
   "metadata": {},
   "outputs": [],
   "source": [
    "#linked17.head()"
   ]
  },
  {
   "cell_type": "markdown",
   "metadata": {},
   "source": [
    "### II. Data cleaning and standardization"
   ]
  },
  {
   "cell_type": "markdown",
   "metadata": {},
   "source": [
    "Keep only records for infant deaths occurring in WA where the infant was a WA resident and the state of residence was also WA.  "
   ]
  },
  {
   "cell_type": "code",
   "execution_count": 9,
   "metadata": {},
   "outputs": [
    {
     "data": {
      "text/plain": [
       "(368, 355)"
      ]
     },
     "execution_count": 9,
     "metadata": {},
     "output_type": "execute_result"
    }
   ],
   "source": [
    "WAlnkd16 = linked16.loc[(linked16[\"Birth Certificate Type\"]==\"R\") \n",
    "                    & (linked16['Residence State FIPS Code']==\"WA\")\n",
    "                    & (linked16['Birthplace State']==\"WASHINGTON\")\n",
    "                    & (linked16['Death State']==\"WASHINGTON\")]\n",
    "\n",
    "WAlnkd16.shape"
   ]
  },
  {
   "cell_type": "code",
   "execution_count": 10,
   "metadata": {},
   "outputs": [
    {
     "data": {
      "text/plain": [
       "(WA    368\n",
       " Name: Residence State FIPS Code, dtype: int64,\n",
       " WASHINGTON    368\n",
       " Name: Birthplace State, dtype: int64,\n",
       " WASHINGTON    368\n",
       " Name: Death State, dtype: int64)"
      ]
     },
     "execution_count": 10,
     "metadata": {},
     "output_type": "execute_result"
    }
   ],
   "source": [
    "WAlnkd16['Residence State FIPS Code'].value_counts(dropna = False),WAlnkd16['Birthplace State'].value_counts(dropna = False),WAlnkd16['Death State'].value_counts(dropna = False)"
   ]
  },
  {
   "cell_type": "markdown",
   "metadata": {},
   "source": [
    "Looking at the infant linked records with missing birth certificate information (below) it appears that 50 of the births occurred in 2015 which is outside the timeframe for this project.  Consequently, the birth records for these records would not be in the 2016-18 data set. I will drop these records from my training data set."
   ]
  },
  {
   "cell_type": "code",
   "execution_count": 11,
   "metadata": {},
   "outputs": [
    {
     "data": {
      "text/plain": [
       "2016    318\n",
       "2015     50\n",
       "Name: Date of Birth Year, dtype: int64"
      ]
     },
     "execution_count": 11,
     "metadata": {},
     "output_type": "execute_result"
    }
   ],
   "source": [
    "WAlnkd16['Date of Birth Year'].value_counts(dropna = False)"
   ]
  },
  {
   "cell_type": "code",
   "execution_count": 12,
   "metadata": {},
   "outputs": [
    {
     "data": {
      "text/plain": [
       "2016    318\n",
       "Name: Date of Birth Year, dtype: int64"
      ]
     },
     "execution_count": 12,
     "metadata": {},
     "output_type": "execute_result"
    }
   ],
   "source": [
    "WAlnkd16 = WAlnkd16[(WAlnkd16['Birth State File Number'] >= 2016000000)]\n",
    "WAlnkd16['Date of Birth Year'].value_counts(dropna = False)"
   ]
  },
  {
   "cell_type": "code",
   "execution_count": 13,
   "metadata": {},
   "outputs": [
    {
     "data": {
      "text/plain": [
       "(316, 449)"
      ]
     },
     "execution_count": 13,
     "metadata": {},
     "output_type": "execute_result"
    }
   ],
   "source": [
    "WAlnkd17 = linked17.loc[(linked17[\"Birth Cert Type\"]==\"R\") \n",
    "                    & (linked17['Residence State FIPS Code']==\"WA\")\n",
    "                    & (linked17['Birthplace State']==\"WASHINGTON\")\n",
    "                    & (linked17['Death State']==\"WASHINGTON\")]\n",
    "WAlnkd17.shape"
   ]
  },
  {
   "cell_type": "code",
   "execution_count": 14,
   "metadata": {},
   "outputs": [
    {
     "data": {
      "text/plain": [
       "(WA    316\n",
       " Name: Residence State FIPS Code, dtype: int64,\n",
       " WASHINGTON    316\n",
       " Name: Birthplace State, dtype: int64,\n",
       " WASHINGTON    316\n",
       " Name: Death State, dtype: int64)"
      ]
     },
     "execution_count": 14,
     "metadata": {},
     "output_type": "execute_result"
    }
   ],
   "source": [
    "WAlnkd17['Residence State FIPS Code'].value_counts(dropna = False),WAlnkd17['Birthplace State'].value_counts(dropna = False),WAlnkd17['Death State'].value_counts(dropna = False)"
   ]
  },
  {
   "cell_type": "code",
   "execution_count": 15,
   "metadata": {},
   "outputs": [
    {
     "data": {
      "text/plain": [
       "2017.0    263\n",
       "2016.0     53\n",
       "Name: Date of Birth Year, dtype: int64"
      ]
     },
     "execution_count": 15,
     "metadata": {},
     "output_type": "execute_result"
    }
   ],
   "source": [
    "WAlnkd17['Date of Birth Year'].value_counts(dropna = False)"
   ]
  },
  {
   "cell_type": "markdown",
   "metadata": {},
   "source": [
    "Using .head() on both infant linked files it appears that at least one column (birth certificate number) has a different name in the two files.  Instead of renaming columns in both data sets (2016 and 2017) to make them consistent as well as code-friendly I will keep only the birth certificate numbers and death certificate numbers from both data sets, append the two vertically, and then merge the relevant fields for ML modeled linkage from the birth and death data sets that I prepared in the previous two steps."
   ]
  },
  {
   "cell_type": "markdown",
   "metadata": {},
   "source": [
    "Keep only birth certificate number and death certificate number from 2016 infant birth-death linked file and merge with 2016 birth and death data prepared in earlier steps.  This will ensure that all column names and data types are the same across all data files."
   ]
  },
  {
   "cell_type": "markdown",
   "metadata": {},
   "source": [
    "After dropping all variables except for the birth certificate and death certificate numbers I renamed them to keep column names the same and then merged the 2016 and 2017 files vertically."
   ]
  },
  {
   "cell_type": "code",
   "execution_count": 16,
   "metadata": {},
   "outputs": [],
   "source": [
    "# rename columns\n",
    "WAlnkd16=WAlnkd16.rename(columns = {\"Birth State File Number\":\"lbsfn\", \"Death State File Number\": \"ldsfn\"})\n",
    "WAlnkd17=WAlnkd17.rename(columns = {\"Birth State File Number\":\"lbsfn\", \"Death SFN\": \"ldsfn\"})"
   ]
  },
  {
   "cell_type": "code",
   "execution_count": 17,
   "metadata": {},
   "outputs": [
    {
     "data": {
      "text/plain": [
       "(318, 2)"
      ]
     },
     "execution_count": 17,
     "metadata": {},
     "output_type": "execute_result"
    }
   ],
   "source": [
    "WAlnkd16sfns = WAlnkd16.loc[ : ,['lbsfn','ldsfn' ]]\n",
    "WAlnkd16sfns.shape"
   ]
  },
  {
   "cell_type": "code",
   "execution_count": 18,
   "metadata": {},
   "outputs": [
    {
     "data": {
      "text/plain": [
       "(316, 2)"
      ]
     },
     "execution_count": 18,
     "metadata": {},
     "output_type": "execute_result"
    }
   ],
   "source": [
    "WAlnkd17sfns = WAlnkd17.loc[:,['lbsfn','ldsfn']]\n",
    "WAlnkd17sfns.shape"
   ]
  },
  {
   "cell_type": "code",
   "execution_count": 19,
   "metadata": {},
   "outputs": [
    {
     "data": {
      "text/plain": [
       "(634, 2)"
      ]
     },
     "execution_count": 19,
     "metadata": {},
     "output_type": "execute_result"
    }
   ],
   "source": [
    "#Append 2017 to 2016 vertically\n",
    "\n",
    "WAlnkd1617sfns=pd.concat([WAlnkd16sfns, WAlnkd17sfns])\n",
    "WAlnkd1617sfns.shape\n"
   ]
  },
  {
   "cell_type": "markdown",
   "metadata": {},
   "source": [
    "#### ADD LINKING VARIABLES"
   ]
  },
  {
   "cell_type": "markdown",
   "metadata": {},
   "source": [
    "Add back columns that will be needed for machine learning classification later.  These columns were removed from the infant birth-death linked file as a matter of routine practice to protect the identities of the families.\n",
    "\n",
    "I merge the infant linked file first with the death 2016-18 file on death certificate number and then with the birth 2016-18 using birth certificate number.  With each merge, I add back columns that were removed during the creation of the linked file for confidentiality reasons.\n",
    "\n",
    "The first step is to read in death files for 2016-18 and birth files for 2016-18 that I acquired in prior steps."
   ]
  },
  {
   "cell_type": "code",
   "execution_count": 20,
   "metadata": {},
   "outputs": [],
   "source": [
    "d1618 = pd.read_csv(r'###\\Data\\d1618_clean.csv', low_memory=False)\n",
    "b1618 = pd.read_csv(r'###\\Data\\b1618_clean.csv', low_memory=False)"
   ]
  },
  {
   "cell_type": "code",
   "execution_count": 21,
   "metadata": {},
   "outputs": [],
   "source": [
    "WAlnkd1617 = WAlnkd1617sfns.copy()"
   ]
  },
  {
   "cell_type": "markdown",
   "metadata": {},
   "source": [
    "In the first stage I join the infant linked birth-death records for 2016-17 with death certificate data fpr 2016-18 on death certificate number."
   ]
  },
  {
   "cell_type": "code",
   "execution_count": 22,
   "metadata": {},
   "outputs": [],
   "source": [
    "linked1617a = pd.merge(WAlnkd1617,\n",
    "                    d1618[['dfname','dmname','dlname','dmom_fname',\n",
    "                            'dmom_mname','dmom_maiden','ddad_fname',\n",
    "                            'ddad_mname','ddad_lname','ddthcityl', 'ddthcountyl',\n",
    "                           'drescity', 'drescountyl','drescntyfips', 'dsfn', 'ddthstatel', \n",
    "                            'dresstatefips', 'dsex', 'ddodm', 'ddod', 'ddody']],\n",
    "                     how='left',\n",
    "                     left_on = \"ldsfn\",\n",
    "                     right_on = \"dsfn\")"
   ]
  },
  {
   "cell_type": "code",
   "execution_count": 24,
   "metadata": {},
   "outputs": [],
   "source": [
    "#linked1617a.head()"
   ]
  },
  {
   "cell_type": "markdown",
   "metadata": {},
   "source": [
    "I check for missing values in death certificate numbers from the death file which would indicate that some of the records in the infant linked file could not be linked to their corresponding death certificates.  In this case, there are no missing death certificate numbers."
   ]
  },
  {
   "cell_type": "code",
   "execution_count": 25,
   "metadata": {},
   "outputs": [
    {
     "data": {
      "text/plain": [
       "0"
      ]
     },
     "execution_count": 25,
     "metadata": {},
     "output_type": "execute_result"
    }
   ],
   "source": [
    "np.isnan(linked1617a.dsfn).sum()"
   ]
  },
  {
   "cell_type": "markdown",
   "metadata": {},
   "source": [
    "Next, I join the dataset above (infant linked file joined to death certificate information) with the corresponding birth certificate information.  Once again, I check for missing birth certificate numbers (from the birth data set).  There are 53 infant linked records for which the procedure did not find corresponding birth records."
   ]
  },
  {
   "cell_type": "code",
   "execution_count": 26,
   "metadata": {},
   "outputs": [],
   "source": [
    "linked1617b = pd.merge(linked1617a,\n",
    "                    b1618[['b_momrescntyfips','b_momrescountyl','b_momrescityfips','b_momrescity',\n",
    "                           'bdobd','bdob','bdoby','bmom_lname','bmom_maiden','bmom_mname',\n",
    "                           'bmom_fname', 'bfname','bmname','blname', 'bsfn', 'bdad_lname',\n",
    "                           'bdad_mname', 'bdad_fname','b_momresstatefips', 'bsex']],\n",
    "                   how = 'left',\n",
    "                   left_on = \"lbsfn\",\n",
    "                   right_on = \"bsfn\")"
   ]
  },
  {
   "cell_type": "code",
   "execution_count": 28,
   "metadata": {},
   "outputs": [
    {
     "data": {
      "text/plain": [
       "3"
      ]
     },
     "execution_count": 28,
     "metadata": {},
     "output_type": "execute_result"
    }
   ],
   "source": [
    "np.isnan(linked1617b.bsfn).sum()"
   ]
  },
  {
   "cell_type": "markdown",
   "metadata": {},
   "source": [
    "Check to see why there are missing birth certificate numbers."
   ]
  },
  {
   "cell_type": "code",
   "execution_count": 47,
   "metadata": {},
   "outputs": [],
   "source": [
    "missbsfn = linked1617b[np.isnan(linked1617b.bsfn)]\n",
    "missbsfn = missbsfn.sort_values(by=['lbsfn'])\n",
    "#missbsfn.head(55)"
   ]
  },
  {
   "cell_type": "code",
   "execution_count": 30,
   "metadata": {},
   "outputs": [
    {
     "data": {
      "text/plain": [
       "dtype('int64')"
      ]
     },
     "execution_count": 30,
     "metadata": {},
     "output_type": "execute_result"
    }
   ],
   "source": [
    "missbsfn.lbsfn.dtype"
   ]
  },
  {
   "cell_type": "markdown",
   "metadata": {},
   "source": [
    "An examination of the birth records shows that the mothers were residents of other states who gave birth in Washington State.  I excluded women who were residents of other states from the birth data sets so I will remove these records from this data set also."
   ]
  },
  {
   "cell_type": "code",
   "execution_count": 31,
   "metadata": {},
   "outputs": [
    {
     "data": {
      "text/plain": [
       "0"
      ]
     },
     "execution_count": 31,
     "metadata": {},
     "output_type": "execute_result"
    }
   ],
   "source": [
    "linked1617f = linked1617b[(linked1617b.lbsfn != 2016003213) & (linked1617b.lbsfn != 2016086923) \n",
    "                          & (linked1617b.lbsfn != 2016073350)] \n",
    "np.isnan(linked1617f.bsfn).sum()"
   ]
  },
  {
   "cell_type": "markdown",
   "metadata": {},
   "source": [
    "#### CHECK FOR MISSING VALUES"
   ]
  },
  {
   "cell_type": "code",
   "execution_count": 32,
   "metadata": {},
   "outputs": [
    {
     "data": {
      "text/plain": [
       "lbsfn                  0\n",
       "ldsfn                  0\n",
       "dfname                 0\n",
       "dmname               100\n",
       "dlname                 0\n",
       "dmom_fname             0\n",
       "dmom_mname           256\n",
       "dmom_maiden            0\n",
       "ddad_fname             0\n",
       "ddad_mname           287\n",
       "ddad_lname             0\n",
       "ddthcityl              0\n",
       "ddthcountyl            0\n",
       "drescity               0\n",
       "drescountyl            0\n",
       "drescntyfips           0\n",
       "dsfn                   0\n",
       "ddthstatel             0\n",
       "dresstatefips          0\n",
       "dsex                   0\n",
       "ddodm                  0\n",
       "ddod                   0\n",
       "ddody                  0\n",
       "b_momrescntyfips       1\n",
       "b_momrescountyl        0\n",
       "b_momrescityfips       0\n",
       "b_momrescity           0\n",
       "bdobd                  0\n",
       "bdob                   0\n",
       "bdoby                  0\n",
       "bmom_lname             0\n",
       "bmom_maiden            0\n",
       "bmom_mname            89\n",
       "bmom_fname             0\n",
       "bfname                 1\n",
       "bmname               103\n",
       "blname                 0\n",
       "bsfn                   0\n",
       "bdad_lname           176\n",
       "bdad_mname           265\n",
       "bdad_fname            82\n",
       "b_momresstatefips      0\n",
       "bsex                   0\n",
       "dtype: int64"
      ]
     },
     "execution_count": 32,
     "metadata": {},
     "output_type": "execute_result"
    }
   ],
   "source": [
    "linked1617f.isnull().sum()"
   ]
  },
  {
   "cell_type": "markdown",
   "metadata": {},
   "source": [
    "- There are very few missing values in the columns except for mother, father, and baby middle names, so this is a relatively clean data set in terms of missingness."
   ]
  },
  {
   "cell_type": "code",
   "execution_count": 33,
   "metadata": {},
   "outputs": [
    {
     "data": {
      "text/plain": [
       "(631, 43)"
      ]
     },
     "execution_count": 33,
     "metadata": {},
     "output_type": "execute_result"
    }
   ],
   "source": [
    "linked1617f.shape"
   ]
  },
  {
   "cell_type": "markdown",
   "metadata": {},
   "source": [
    "In this next step I check to make sure the infant's residence state and death state are both Washington State."
   ]
  },
  {
   "cell_type": "code",
   "execution_count": 34,
   "metadata": {},
   "outputs": [
    {
     "data": {
      "text/plain": [
       "WA    631\n",
       "Name: dresstatefips, dtype: int64"
      ]
     },
     "execution_count": 34,
     "metadata": {},
     "output_type": "execute_result"
    }
   ],
   "source": [
    "linked1617f.dresstatefips.value_counts(dropna=False)"
   ]
  },
  {
   "cell_type": "code",
   "execution_count": 35,
   "metadata": {},
   "outputs": [
    {
     "data": {
      "text/plain": [
       "WASHINGTON    631\n",
       "Name: ddthstatel, dtype: int64"
      ]
     },
     "execution_count": 35,
     "metadata": {},
     "output_type": "execute_result"
    }
   ],
   "source": [
    "linked1617f.ddthstatel.value_counts(dropna=False)"
   ]
  },
  {
   "cell_type": "code",
   "execution_count": 36,
   "metadata": {},
   "outputs": [],
   "source": [
    "WAlinked1617 = linked1617f.copy()"
   ]
  },
  {
   "cell_type": "code",
   "execution_count": 37,
   "metadata": {},
   "outputs": [
    {
     "data": {
      "text/plain": [
       "lbsfn                  int64\n",
       "ldsfn                  int64\n",
       "dfname                object\n",
       "dmname                object\n",
       "dlname                object\n",
       "dmom_fname            object\n",
       "dmom_mname            object\n",
       "dmom_maiden           object\n",
       "ddad_fname            object\n",
       "ddad_mname            object\n",
       "ddad_lname            object\n",
       "ddthcityl             object\n",
       "ddthcountyl           object\n",
       "drescity              object\n",
       "drescountyl           object\n",
       "drescntyfips           int64\n",
       "dsfn                   int64\n",
       "ddthstatel            object\n",
       "dresstatefips         object\n",
       "dsex                  object\n",
       "ddodm                  int64\n",
       "ddod                  object\n",
       "ddody                  int64\n",
       "b_momrescntyfips     float64\n",
       "b_momrescountyl       object\n",
       "b_momrescityfips     float64\n",
       "b_momrescity          object\n",
       "bdobd                float64\n",
       "bdob                  object\n",
       "bdoby                float64\n",
       "bmom_lname            object\n",
       "bmom_maiden           object\n",
       "bmom_mname            object\n",
       "bmom_fname            object\n",
       "bfname                object\n",
       "bmname                object\n",
       "blname                object\n",
       "bsfn                 float64\n",
       "bdad_lname            object\n",
       "bdad_mname            object\n",
       "bdad_fname            object\n",
       "b_momresstatefips     object\n",
       "bsex                  object\n",
       "dtype: object"
      ]
     },
     "execution_count": 37,
     "metadata": {},
     "output_type": "execute_result"
    }
   ],
   "source": [
    "WAlinked1617.dtypes"
   ]
  },
  {
   "cell_type": "markdown",
   "metadata": {},
   "source": [
    "#### STANDARDIZE NAMES"
   ]
  },
  {
   "cell_type": "markdown",
   "metadata": {},
   "source": [
    "First, middle, and last names of infants and mothers as well as city names will be standardized by converting these columns to upper case text, removing white spaces, removing hyphens and other punctuation marks."
   ]
  },
  {
   "cell_type": "code",
   "execution_count": 38,
   "metadata": {},
   "outputs": [],
   "source": [
    "WAlinked1617 = WAlinked1617.apply(lambda x: x.str.upper() if type(x) == str else x)"
   ]
  },
  {
   "cell_type": "code",
   "execution_count": 39,
   "metadata": {
    "scrolled": true
   },
   "outputs": [],
   "source": [
    "WAlinked1617 = WAlinked1617.apply(lambda x: x.str.strip() if type(x) == str else x)\n",
    "WAlinked1617 = WAlinked1617.applymap(lambda x: x.replace(\" \", \"\") if type(x) == str else x)\n",
    "WAlinked1617 = WAlinked1617.applymap(lambda x: x.replace(\"-\", \"\") if type(x) == str else x)\n",
    "WAlinked1617 = WAlinked1617.applymap(lambda x: x.replace(\".\", \"\") if type(x) == str else x)"
   ]
  },
  {
   "cell_type": "markdown",
   "metadata": {},
   "source": [
    "#### CREATE FINAL LABELLED DATA SET FOR CLASSIFIER TRAINING"
   ]
  },
  {
   "cell_type": "markdown",
   "metadata": {},
   "source": [
    "The final step in creating the matched records in the training data step is to remove the birth and death certificate numbers that came from the infant linked data set and to add a column called 'Match' with a value of 1 to indicate that the record contains correctly matched birth and death records for infants.\n",
    "\n",
    "There are 631 matched records representing infants who were born and died in Washington State and whose mothers were Washington State residents."
   ]
  },
  {
   "cell_type": "code",
   "execution_count": 40,
   "metadata": {},
   "outputs": [],
   "source": [
    "WAlinked1617_m = WAlinked1617.loc[:,['lbsfn', 'ldsfn']]"
   ]
  },
  {
   "cell_type": "code",
   "execution_count": 41,
   "metadata": {},
   "outputs": [],
   "source": [
    "WAlinked1617_m['Match'] = 1"
   ]
  },
  {
   "cell_type": "code",
   "execution_count": 42,
   "metadata": {},
   "outputs": [
    {
     "data": {
      "text/plain": [
       "lbsfn    int64\n",
       "ldsfn    int64\n",
       "Match    int64\n",
       "dtype: object"
      ]
     },
     "execution_count": 42,
     "metadata": {},
     "output_type": "execute_result"
    }
   ],
   "source": [
    "WAlinked1617_m.dtypes"
   ]
  },
  {
   "cell_type": "code",
   "execution_count": 43,
   "metadata": {},
   "outputs": [
    {
     "data": {
      "text/plain": [
       "1    631\n",
       "Name: Match, dtype: int64"
      ]
     },
     "execution_count": 43,
     "metadata": {},
     "output_type": "execute_result"
    }
   ],
   "source": [
    "WAlinked1617_m.Match.value_counts(dropna=False)"
   ]
  },
  {
   "cell_type": "code",
   "execution_count": 44,
   "metadata": {},
   "outputs": [],
   "source": [
    "WAlinked1617_m.to_csv(r'###\\WAlinked1617_labels.csv', index=None, header=True)"
   ]
  },
  {
   "cell_type": "code",
   "execution_count": 45,
   "metadata": {},
   "outputs": [],
   "source": [
    "WAlinked1617.to_csv(r'###\\WAlinked1617_features.csv', index=None, header=True)"
   ]
  }
 ],
 "metadata": {
  "kernelspec": {
   "display_name": "Python 3",
   "language": "python",
   "name": "python3"
  },
  "language_info": {
   "codemirror_mode": {
    "name": "ipython",
    "version": 3
   },
   "file_extension": ".py",
   "mimetype": "text/x-python",
   "name": "python",
   "nbconvert_exporter": "python",
   "pygments_lexer": "ipython3",
   "version": "3.6.8"
  }
 },
 "nbformat": 4,
 "nbformat_minor": 4
}
