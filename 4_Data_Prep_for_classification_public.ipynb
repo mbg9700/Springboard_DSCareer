{
 "cells": [
  {
   "cell_type": "markdown",
   "metadata": {},
   "source": [
    "### Record Linkage: preparing data sets to train classifiers"
   ]
  },
  {
   "cell_type": "markdown",
   "metadata": {},
   "source": [
    "After acquiring birth and death data for 2016 through 2018 for Washington state from the Microsoft SQL Server database, the next steps are to: <br>\n",
    " <br> \n",
    "(1) pare down the data sets to only the variables needed for classification, <br> \n",
    "(2) preprocess data sets in preparation for classification, <br> \n",
    "(3) create candidate pairs of birth and death records, <br>\n",
    "(4) compare select variables for each candidate pair of records to compute similarity scores on a 0 to 1 scale, <br>\n",
    "(5) use the linked infant birth-death records for 2016-17 as the \"golden records\" data set to label candidate pairs as matches\n",
    "    and non-matches, <br>\n",
    "(6) Split the data into training and testing data sets. <br>\n",
    " <br>\n",
    "At this point the data are ready to use in building classifiers."
   ]
  },
  {
   "cell_type": "code",
   "execution_count": 1,
   "metadata": {},
   "outputs": [],
   "source": [
    "import pandas as pd\n",
    "import numpy as np\n",
    "import recordlinkage as rl"
   ]
  },
  {
   "cell_type": "code",
   "execution_count": 2,
   "metadata": {},
   "outputs": [],
   "source": [
    "pd.set_option('display.max_columns', None)\n",
    "pd.set_option('display.max_rows', None)"
   ]
  },
  {
   "cell_type": "markdown",
   "metadata": {},
   "source": [
    "#### (1) READ IN AND PARE DOWN DATA SETS TO LINKAGE VARIABLES"
   ]
  },
  {
   "cell_type": "markdown",
   "metadata": {},
   "source": [
    "Data sets used: birth 2016-18, death 2016-18, linked infant death 2016-17.  \n",
    "\n",
    "Birth and death data are restricted to events that occurred in 2016 and 2017; I will use 2018 to validate the model after training and testing on 2016 and 2017 combined.\n",
    "\n",
    "All data are limited to births or deaths that occurred in Washington state to in state residents.\n",
    "\n",
    "Variables to be used for classifying record pairs as matches and non-matches include infants' (decedents'):\n",
    "- first and last names, \n",
    "- mother's first and last names, \n",
    "- father's first and last names, \n",
    "- sex, \n",
    "- date of birth month, day, and year (as separate variables), \n",
    "- residence city and county at the time of death.\n",
    "\n",
    "These variables are preserved for both the birth and death data sets. \n",
    "\n",
    "Birth and death certificate numbers were also included in order to create unique id's for each record pair."
   ]
  },
  {
   "cell_type": "markdown",
   "metadata": {},
   "source": [
    "##### Death data"
   ]
  },
  {
   "cell_type": "code",
   "execution_count": 3,
   "metadata": {},
   "outputs": [],
   "source": [
    "d1618 = pd.read_csv(r'###\\Data\\d1618_clean.csv', \n",
    "                    low_memory = False)"
   ]
  },
  {
   "cell_type": "code",
   "execution_count": 4,
   "metadata": {},
   "outputs": [],
   "source": [
    "d1617 = d1618[(d1618['ddody']!=2018)]\n",
    "d1617 = d1617[(d1617.ddthstatel=='WASHINGTON')]"
   ]
  },
  {
   "cell_type": "code",
   "execution_count": 5,
   "metadata": {},
   "outputs": [],
   "source": [
    "d1617 = d1617.loc[:, ['dsfn', 'dfname', 'dlname', 'dmom_fname','dmom_maiden','ddad_fname', \n",
    "                      'ddad_lname','dsex','ddobm', 'ddobd', 'ddoby','drescity','drescountyl']]"
   ]
  },
  {
   "cell_type": "code",
   "execution_count": 6,
   "metadata": {},
   "outputs": [
    {
     "name": "stdout",
     "output_type": "stream",
     "text": [
      "<class 'pandas.core.frame.DataFrame'>\n",
      "Int64Index: 109122 entries, 0 to 168701\n",
      "Data columns (total 13 columns):\n",
      " #   Column       Non-Null Count   Dtype \n",
      "---  ------       --------------   ----- \n",
      " 0   dsfn         109122 non-null  int64 \n",
      " 1   dfname       109120 non-null  object\n",
      " 2   dlname       109120 non-null  object\n",
      " 3   dmom_fname   109118 non-null  object\n",
      " 4   dmom_lname   109111 non-null  object\n",
      " 5   ddad_fname   109119 non-null  object\n",
      " 6   ddad_lname   109119 non-null  object\n",
      " 7   dsex         109122 non-null  object\n",
      " 8   ddobm        109122 non-null  int64 \n",
      " 9   ddobd        109122 non-null  int64 \n",
      " 10  ddoby        109122 non-null  int64 \n",
      " 11  drescity     109061 non-null  object\n",
      " 12  drescountyl  109062 non-null  object\n",
      "dtypes: int64(4), object(9)\n",
      "memory usage: 11.7+ MB\n"
     ]
    }
   ],
   "source": [
    "d1617.info()"
   ]
  },
  {
   "cell_type": "markdown",
   "metadata": {},
   "source": [
    "##### Birth data"
   ]
  },
  {
   "cell_type": "code",
   "execution_count": 7,
   "metadata": {},
   "outputs": [],
   "source": [
    "b1618 = pd.read_csv(r'###\\Data\\b1618_clean.csv', \n",
    "                    low_memory = False)"
   ]
  },
  {
   "cell_type": "code",
   "execution_count": 8,
   "metadata": {},
   "outputs": [],
   "source": [
    "b1617 = b1618[(b1618.bdoby !=2018)]"
   ]
  },
  {
   "cell_type": "code",
   "execution_count": 9,
   "metadata": {},
   "outputs": [
    {
     "data": {
      "text/plain": [
       "2016    89083\n",
       "2017    86167\n",
       "Name: bdoby, dtype: int64"
      ]
     },
     "execution_count": 9,
     "metadata": {},
     "output_type": "execute_result"
    }
   ],
   "source": [
    "b1617.bdoby.value_counts(dropna=False)"
   ]
  },
  {
   "cell_type": "code",
   "execution_count": 10,
   "metadata": {},
   "outputs": [
    {
     "data": {
      "text/plain": [
       "WA    175250\n",
       "Name: bbirplstatefips, dtype: int64"
      ]
     },
     "execution_count": 10,
     "metadata": {},
     "output_type": "execute_result"
    }
   ],
   "source": [
    "# check to make sure only Washington state births are included\n",
    "\n",
    "b1617.bbirplstatefips.value_counts(dropna=False)"
   ]
  },
  {
   "cell_type": "code",
   "execution_count": 11,
   "metadata": {},
   "outputs": [
    {
     "data": {
      "text/plain": [
       "WA    175250\n",
       "Name: b_momresstatefips, dtype: int64"
      ]
     },
     "execution_count": 11,
     "metadata": {},
     "output_type": "execute_result"
    }
   ],
   "source": [
    "# check to make sure only Washington state residents are included\n",
    "\n",
    "b1617.b_momresstatefips.value_counts(dropna=False)"
   ]
  },
  {
   "cell_type": "code",
   "execution_count": 12,
   "metadata": {},
   "outputs": [],
   "source": [
    "b1617 = b1617.loc[:, ['bsfn','bfname','blname', 'bmom_fname', 'bmom_lname', 'bdad_lname', \n",
    "                      'bdad_fname','bsex', 'bdobm', 'bdobd', 'bdoby', 'b_momrescity', \n",
    "                      'b_momrescountyl']]"
   ]
  },
  {
   "cell_type": "code",
   "execution_count": 13,
   "metadata": {},
   "outputs": [
    {
     "name": "stdout",
     "output_type": "stream",
     "text": [
      "<class 'pandas.core.frame.DataFrame'>\n",
      "Int64Index: 175250 entries, 0 to 259908\n",
      "Data columns (total 13 columns):\n",
      " #   Column           Non-Null Count   Dtype \n",
      "---  ------           --------------   ----- \n",
      " 0   bsfn             175250 non-null  int64 \n",
      " 1   bfname           175246 non-null  object\n",
      " 2   blname           175242 non-null  object\n",
      " 3   bmom_fname       175184 non-null  object\n",
      " 4   bmom_lname       174002 non-null  object\n",
      " 5   bdad_lname       163274 non-null  object\n",
      " 6   bdad_fname       169464 non-null  object\n",
      " 7   bsex             175250 non-null  object\n",
      " 8   bdobm            175250 non-null  int64 \n",
      " 9   bdobd            175250 non-null  int64 \n",
      " 10  bdoby            175250 non-null  int64 \n",
      " 11  b_momrescity     175202 non-null  object\n",
      " 12  b_momrescountyl  175202 non-null  object\n",
      "dtypes: int64(4), object(9)\n",
      "memory usage: 18.7+ MB\n"
     ]
    }
   ],
   "source": [
    "b1617.info()"
   ]
  },
  {
   "cell_type": "markdown",
   "metadata": {},
   "source": [
    "#####  \"Golden pairs\" - linked infant birth-death file 2016-2017"
   ]
  },
  {
   "cell_type": "markdown",
   "metadata": {},
   "source": [
    "The records in the 2016-17 infant birth-death file were manually linked birth and death records that represent the true matches for infant deaths occurring in those years."
   ]
  },
  {
   "cell_type": "code",
   "execution_count": 14,
   "metadata": {},
   "outputs": [],
   "source": [
    "linked1617 = pd.read_csv(r'###\\WA1617infantDeath_dthdata.csv')"
   ]
  },
  {
   "cell_type": "code",
   "execution_count": 15,
   "metadata": {},
   "outputs": [
    {
     "name": "stdout",
     "output_type": "stream",
     "text": [
      "<class 'pandas.core.frame.DataFrame'>\n",
      "RangeIndex: 631 entries, 0 to 630\n",
      "Data columns (total 54 columns):\n",
      " #   Column               Non-Null Count  Dtype  \n",
      "---  ------               --------------  -----  \n",
      " 0   lbsfn                631 non-null    int64  \n",
      " 1   ldsfn                631 non-null    int64  \n",
      " 2   dsfn                 631 non-null    int64  \n",
      " 3   dbirsfn              631 non-null    object \n",
      " 4   dssn                 631 non-null    int64  \n",
      " 5   dfname               631 non-null    object \n",
      " 6   dmname               531 non-null    object \n",
      " 7   dlname               631 non-null    object \n",
      " 8   dmom_fname           631 non-null    object \n",
      " 9   dmom_mname           375 non-null    object \n",
      " 10  dmom_lname           631 non-null    object \n",
      " 11  dsex                 631 non-null    object \n",
      " 12  dagetype             631 non-null    float64\n",
      " 13  dage                 631 non-null    float64\n",
      " 14  dageyrs              631 non-null    float64\n",
      " 15  ddob                 631 non-null    object \n",
      " 16  ddobm                631 non-null    int64  \n",
      " 17  ddobd                631 non-null    int64  \n",
      " 18  ddoby                631 non-null    int64  \n",
      " 19  ddod                 631 non-null    object \n",
      " 20  ddodm                631 non-null    int64  \n",
      " 21  ddodd                631 non-null    int64  \n",
      " 22  ddody                631 non-null    int64  \n",
      " 23  ddthstatel           631 non-null    object \n",
      " 24  dbirplstatefips      631 non-null    object \n",
      " 25  dbircountryl         631 non-null    object \n",
      " 26  dbircountryfips      631 non-null    object \n",
      " 27  ddthcityl            631 non-null    object \n",
      " 28  ddthcityfips         631 non-null    float64\n",
      " 29  ddthcountyl          631 non-null    object \n",
      " 30  ddthcntyfips         631 non-null    float64\n",
      " 31  ddthzip              631 non-null    int64  \n",
      " 32  ddfaccode            631 non-null    int64  \n",
      " 33  dbridgerace          631 non-null    int64  \n",
      " 34  dhispno              631 non-null    object \n",
      " 35  drescity             631 non-null    object \n",
      " 36  drescityfips         631 non-null    int64  \n",
      " 37  drescitylim          630 non-null    object \n",
      " 38  drescountyl          631 non-null    object \n",
      " 39  drescntyfips         631 non-null    int64  \n",
      " 40  dresstatefips        631 non-null    object \n",
      " 41  Underlying COD Code  629 non-null    object \n",
      " 42  mc1                  629 non-null    object \n",
      " 43  mc2                  388 non-null    object \n",
      " 44  mc3                  222 non-null    object \n",
      " 45  mc4                  122 non-null    object \n",
      " 46  mc5                  65 non-null     object \n",
      " 47  mc6                  31 non-null     object \n",
      " 48  mc7                  19 non-null     object \n",
      " 49  mc8                  11 non-null     object \n",
      " 50  mc9                  8 non-null      object \n",
      " 51  mc10                 8 non-null      object \n",
      " 52  dreszip              631 non-null    int64  \n",
      " 53  dagedays             631 non-null    int64  \n",
      "dtypes: float64(5), int64(17), object(32)\n",
      "memory usage: 266.3+ KB\n"
     ]
    }
   ],
   "source": [
    "linked1617.info()"
   ]
  },
  {
   "cell_type": "code",
   "execution_count": 16,
   "metadata": {},
   "outputs": [
    {
     "data": {
      "text/plain": [
       "WASHINGTON    631\n",
       "Name: ddthstatel, dtype: int64"
      ]
     },
     "execution_count": 16,
     "metadata": {},
     "output_type": "execute_result"
    }
   ],
   "source": [
    "linked1617.ddthstatel.value_counts(dropna=False)"
   ]
  },
  {
   "cell_type": "code",
   "execution_count": 17,
   "metadata": {},
   "outputs": [
    {
     "data": {
      "text/plain": [
       "WA    631\n",
       "Name: dbirplstatefips, dtype: int64"
      ]
     },
     "execution_count": 17,
     "metadata": {},
     "output_type": "execute_result"
    }
   ],
   "source": [
    "linked1617.dbirplstatefips.value_counts(dropna=False)"
   ]
  },
  {
   "cell_type": "code",
   "execution_count": 18,
   "metadata": {},
   "outputs": [],
   "source": [
    "# keep only birth and death certificate numbers of true matches to label the training data set\n",
    "\n",
    "linked1617 = linked1617.loc[:,['lbsfn','ldsfn']]"
   ]
  },
  {
   "cell_type": "code",
   "execution_count": 19,
   "metadata": {},
   "outputs": [
    {
     "name": "stdout",
     "output_type": "stream",
     "text": [
      "<class 'pandas.core.frame.DataFrame'>\n",
      "RangeIndex: 631 entries, 0 to 630\n",
      "Data columns (total 2 columns):\n",
      " #   Column  Non-Null Count  Dtype\n",
      "---  ------  --------------  -----\n",
      " 0   lbsfn   631 non-null    int64\n",
      " 1   ldsfn   631 non-null    int64\n",
      "dtypes: int64(2)\n",
      "memory usage: 10.0 KB\n"
     ]
    }
   ],
   "source": [
    "linked1617.info()"
   ]
  },
  {
   "cell_type": "code",
   "execution_count": 20,
   "metadata": {},
   "outputs": [],
   "source": [
    "linked1617.to_csv(r'###\\data\\clean\\linked1617_labels.csv')"
   ]
  },
  {
   "cell_type": "markdown",
   "metadata": {},
   "source": [
    "#### (2) Preprocessing: data cleaning and standardizing"
   ]
  },
  {
   "cell_type": "markdown",
   "metadata": {},
   "source": [
    "###### DEATH"
   ]
  },
  {
   "cell_type": "code",
   "execution_count": 21,
   "metadata": {},
   "outputs": [],
   "source": [
    "from recordlinkage.preprocessing import clean"
   ]
  },
  {
   "cell_type": "code",
   "execution_count": 22,
   "metadata": {},
   "outputs": [],
   "source": [
    "d1617['dfname_clean'] = clean(d1617.dfname,\n",
    "                              lowercase = True,\n",
    "                              replace_by_none = '[\\s-]+',\n",
    "                              strip_accents = 'unicode'\n",
    "                             )"
   ]
  },
  {
   "cell_type": "code",
   "execution_count": 23,
   "metadata": {},
   "outputs": [],
   "source": [
    "d1617['dlname_clean'] = clean(d1617.dlname,\n",
    "                              lowercase = True,\n",
    "                              replace_by_none = '[\\s-]+',\n",
    "                              strip_accents = 'unicode'\n",
    "                             )"
   ]
  },
  {
   "cell_type": "code",
   "execution_count": 24,
   "metadata": {},
   "outputs": [],
   "source": [
    "d1617['dmom_fname_clean'] = clean(d1617.dmom_fname,\n",
    "                                 lowercase = True,\n",
    "                                  replace_by_none = '[\\s-]+',\n",
    "                                  strip_accents = 'unicode'\n",
    "                                 )"
   ]
  },
  {
   "cell_type": "code",
   "execution_count": 25,
   "metadata": {},
   "outputs": [],
   "source": [
    "d1617['dmom_lname_clean'] = clean(d1617.dmom_lname,\n",
    "                                 lowercase = True,\n",
    "                                  replace_by_none = '[\\s-]+',\n",
    "                                  strip_accents = 'unicode'\n",
    "                                 )"
   ]
  },
  {
   "cell_type": "code",
   "execution_count": 26,
   "metadata": {},
   "outputs": [],
   "source": [
    "d1617['ddad_fname_clean'] = clean(d1617.ddad_fname,\n",
    "                                lowercase = True,\n",
    "                                  replace_by_none = '[\\s-]+',\n",
    "                                  strip_accents = 'unicode'\n",
    "                                 )"
   ]
  },
  {
   "cell_type": "code",
   "execution_count": 27,
   "metadata": {},
   "outputs": [],
   "source": [
    "d1617['ddad_lname_clean'] = clean(d1617.ddad_lname,\n",
    "                                lowercase = True,\n",
    "                                  replace_by_none = '[\\s-]+',\n",
    "                                  strip_accents = 'unicode'\n",
    "                                 )"
   ]
  },
  {
   "cell_type": "markdown",
   "metadata": {},
   "source": [
    "###### Create phonetic encoding of infant, mother, and father names"
   ]
  },
  {
   "cell_type": "code",
   "execution_count": 28,
   "metadata": {},
   "outputs": [],
   "source": [
    "d1617['dmom_fullname'] =  d1617.dmom_fname_clean + \" \" +  d1617.dmom_lname_clean"
   ]
  },
  {
   "cell_type": "code",
   "execution_count": 29,
   "metadata": {},
   "outputs": [],
   "source": [
    "d1617['ddad_fullname'] =  d1617.ddad_fname_clean + \" \" +  d1617.ddad_lname_clean"
   ]
  },
  {
   "cell_type": "code",
   "execution_count": 30,
   "metadata": {},
   "outputs": [],
   "source": [
    "d1617['dinf_fullname'] =  d1617.dfname_clean + \" \" +  d1617.dlname_clean"
   ]
  },
  {
   "cell_type": "code",
   "execution_count": 31,
   "metadata": {},
   "outputs": [],
   "source": [
    "d1617['dmom_phon'] = rl.preprocessing.phonetic(d1617['dmom_fullname'], method = 'metaphone')\n",
    "d1617['ddad_phon'] = rl.preprocessing.phonetic(d1617['ddad_fullname'], method = 'metaphone')\n",
    "d1617['dinf_phon'] = rl.preprocessing.phonetic(d1617['dinf_fullname'], method = 'metaphone')"
   ]
  },
  {
   "cell_type": "code",
   "execution_count": 32,
   "metadata": {},
   "outputs": [
    {
     "data": {
      "text/html": [
       "<div>\n",
       "<style scoped>\n",
       "    .dataframe tbody tr th:only-of-type {\n",
       "        vertical-align: middle;\n",
       "    }\n",
       "\n",
       "    .dataframe tbody tr th {\n",
       "        vertical-align: top;\n",
       "    }\n",
       "\n",
       "    .dataframe thead th {\n",
       "        text-align: right;\n",
       "    }\n",
       "</style>\n",
       "<table border=\"1\" class=\"dataframe\">\n",
       "  <thead>\n",
       "    <tr style=\"text-align: right;\">\n",
       "      <th></th>\n",
       "      <th>dsfn</th>\n",
       "      <th>dfname</th>\n",
       "      <th>dlname</th>\n",
       "      <th>dmom_fname</th>\n",
       "      <th>dmom_lname</th>\n",
       "      <th>ddad_fname</th>\n",
       "      <th>ddad_lname</th>\n",
       "      <th>dsex</th>\n",
       "      <th>ddobm</th>\n",
       "      <th>ddobd</th>\n",
       "      <th>ddoby</th>\n",
       "      <th>drescity</th>\n",
       "      <th>drescountyl</th>\n",
       "      <th>dfname_clean</th>\n",
       "      <th>dlname_clean</th>\n",
       "      <th>dmom_fname_clean</th>\n",
       "      <th>dmom_lname_clean</th>\n",
       "      <th>ddad_fname_clean</th>\n",
       "      <th>ddad_lname_clean</th>\n",
       "      <th>dmom_fullname</th>\n",
       "      <th>ddad_fullname</th>\n",
       "      <th>dinf_fullname</th>\n",
       "      <th>dmom_phon</th>\n",
       "      <th>ddad_phon</th>\n",
       "      <th>dinf_phon</th>\n",
       "    </tr>\n",
       "  </thead>\n",
       "  <tbody>\n",
       "    <tr>\n",
       "      <th>0</th>\n",
       "      <td>2017025187</td>\n",
       "      <td>CHARLES</td>\n",
       "      <td>BURNETT</td>\n",
       "      <td>JOHANNA</td>\n",
       "      <td>DEHOLLANDER</td>\n",
       "      <td>CHARLES</td>\n",
       "      <td>BURNETT</td>\n",
       "      <td>M</td>\n",
       "      <td>6</td>\n",
       "      <td>11</td>\n",
       "      <td>1932</td>\n",
       "      <td>WOODINVILLE</td>\n",
       "      <td>KING</td>\n",
       "      <td>charles</td>\n",
       "      <td>burnett</td>\n",
       "      <td>johanna</td>\n",
       "      <td>dehollander</td>\n",
       "      <td>charles</td>\n",
       "      <td>burnett</td>\n",
       "      <td>johanna dehollander</td>\n",
       "      <td>charles burnett</td>\n",
       "      <td>charles burnett</td>\n",
       "      <td>JHNTHLNTR</td>\n",
       "      <td>XRLSBRNT</td>\n",
       "      <td>XRLSBRNT</td>\n",
       "    </tr>\n",
       "    <tr>\n",
       "      <th>1</th>\n",
       "      <td>2017025188</td>\n",
       "      <td>DOUGLAS</td>\n",
       "      <td>LEE</td>\n",
       "      <td>ROSE</td>\n",
       "      <td>SHEA</td>\n",
       "      <td>FRANK</td>\n",
       "      <td>LEE</td>\n",
       "      <td>M</td>\n",
       "      <td>9</td>\n",
       "      <td>29</td>\n",
       "      <td>1958</td>\n",
       "      <td>REDMOND</td>\n",
       "      <td>KING</td>\n",
       "      <td>douglas</td>\n",
       "      <td>lee</td>\n",
       "      <td>rose</td>\n",
       "      <td>shea</td>\n",
       "      <td>frank</td>\n",
       "      <td>lee</td>\n",
       "      <td>rose shea</td>\n",
       "      <td>frank lee</td>\n",
       "      <td>douglas lee</td>\n",
       "      <td>RSX</td>\n",
       "      <td>FRNKL</td>\n",
       "      <td>TKLSL</td>\n",
       "    </tr>\n",
       "    <tr>\n",
       "      <th>2</th>\n",
       "      <td>2017025189</td>\n",
       "      <td>ARUNEE</td>\n",
       "      <td>TAOSAN</td>\n",
       "      <td>LUMDUAN</td>\n",
       "      <td>SRILAUN</td>\n",
       "      <td>UDON</td>\n",
       "      <td>TAOSAN</td>\n",
       "      <td>F</td>\n",
       "      <td>2</td>\n",
       "      <td>5</td>\n",
       "      <td>1947</td>\n",
       "      <td>LYNNWOOD</td>\n",
       "      <td>SNOHOMISH</td>\n",
       "      <td>arunee</td>\n",
       "      <td>taosan</td>\n",
       "      <td>lumduan</td>\n",
       "      <td>srilaun</td>\n",
       "      <td>udon</td>\n",
       "      <td>taosan</td>\n",
       "      <td>lumduan srilaun</td>\n",
       "      <td>udon taosan</td>\n",
       "      <td>arunee taosan</td>\n",
       "      <td>LMTNSRLN</td>\n",
       "      <td>UTNTSN</td>\n",
       "      <td>ARNTSN</td>\n",
       "    </tr>\n",
       "    <tr>\n",
       "      <th>3</th>\n",
       "      <td>2017025190</td>\n",
       "      <td>ELIZABETH</td>\n",
       "      <td>CHAUSSEE</td>\n",
       "      <td>EDA</td>\n",
       "      <td>OIN</td>\n",
       "      <td>HARTLEY</td>\n",
       "      <td>CHAUSSEE</td>\n",
       "      <td>F</td>\n",
       "      <td>10</td>\n",
       "      <td>3</td>\n",
       "      <td>1931</td>\n",
       "      <td>BELLEVUE</td>\n",
       "      <td>KING</td>\n",
       "      <td>elizabeth</td>\n",
       "      <td>chaussee</td>\n",
       "      <td>eda</td>\n",
       "      <td>oin</td>\n",
       "      <td>hartley</td>\n",
       "      <td>chaussee</td>\n",
       "      <td>eda oin</td>\n",
       "      <td>hartley chaussee</td>\n",
       "      <td>elizabeth chaussee</td>\n",
       "      <td>ETN</td>\n",
       "      <td>HRTLXS</td>\n",
       "      <td>ELSB0XS</td>\n",
       "    </tr>\n",
       "    <tr>\n",
       "      <th>4</th>\n",
       "      <td>2017025191</td>\n",
       "      <td>MERWIN</td>\n",
       "      <td>ADLER</td>\n",
       "      <td>ALBERTA</td>\n",
       "      <td>SCHNELL</td>\n",
       "      <td>JACOB</td>\n",
       "      <td>ADLER</td>\n",
       "      <td>M</td>\n",
       "      <td>9</td>\n",
       "      <td>11</td>\n",
       "      <td>1941</td>\n",
       "      <td>PALOUSE</td>\n",
       "      <td>WHITMAN</td>\n",
       "      <td>merwin</td>\n",
       "      <td>adler</td>\n",
       "      <td>alberta</td>\n",
       "      <td>schnell</td>\n",
       "      <td>jacob</td>\n",
       "      <td>adler</td>\n",
       "      <td>alberta schnell</td>\n",
       "      <td>jacob adler</td>\n",
       "      <td>merwin adler</td>\n",
       "      <td>ALBRTSXNL</td>\n",
       "      <td>JKBTLR</td>\n",
       "      <td>MRWNTLR</td>\n",
       "    </tr>\n",
       "  </tbody>\n",
       "</table>\n",
       "</div>"
      ],
      "text/plain": [
       "         dsfn     dfname    dlname dmom_fname   dmom_lname ddad_fname  \\\n",
       "0  2017025187    CHARLES   BURNETT    JOHANNA  DEHOLLANDER    CHARLES   \n",
       "1  2017025188    DOUGLAS       LEE       ROSE         SHEA      FRANK   \n",
       "2  2017025189     ARUNEE    TAOSAN    LUMDUAN      SRILAUN       UDON   \n",
       "3  2017025190  ELIZABETH  CHAUSSEE        EDA          OIN    HARTLEY   \n",
       "4  2017025191     MERWIN     ADLER    ALBERTA      SCHNELL      JACOB   \n",
       "\n",
       "  ddad_lname dsex  ddobm  ddobd  ddoby     drescity drescountyl dfname_clean  \\\n",
       "0    BURNETT    M      6     11   1932  WOODINVILLE        KING      charles   \n",
       "1        LEE    M      9     29   1958      REDMOND        KING      douglas   \n",
       "2     TAOSAN    F      2      5   1947     LYNNWOOD   SNOHOMISH       arunee   \n",
       "3   CHAUSSEE    F     10      3   1931     BELLEVUE        KING    elizabeth   \n",
       "4      ADLER    M      9     11   1941      PALOUSE     WHITMAN       merwin   \n",
       "\n",
       "  dlname_clean dmom_fname_clean dmom_lname_clean ddad_fname_clean  \\\n",
       "0      burnett          johanna      dehollander          charles   \n",
       "1          lee             rose             shea            frank   \n",
       "2       taosan          lumduan          srilaun             udon   \n",
       "3     chaussee              eda              oin          hartley   \n",
       "4        adler          alberta          schnell            jacob   \n",
       "\n",
       "  ddad_lname_clean        dmom_fullname     ddad_fullname       dinf_fullname  \\\n",
       "0          burnett  johanna dehollander   charles burnett     charles burnett   \n",
       "1              lee            rose shea         frank lee         douglas lee   \n",
       "2           taosan      lumduan srilaun       udon taosan       arunee taosan   \n",
       "3         chaussee              eda oin  hartley chaussee  elizabeth chaussee   \n",
       "4            adler      alberta schnell       jacob adler        merwin adler   \n",
       "\n",
       "   dmom_phon ddad_phon dinf_phon  \n",
       "0  JHNTHLNTR  XRLSBRNT  XRLSBRNT  \n",
       "1        RSX     FRNKL     TKLSL  \n",
       "2   LMTNSRLN    UTNTSN    ARNTSN  \n",
       "3        ETN    HRTLXS   ELSB0XS  \n",
       "4  ALBRTSXNL    JKBTLR   MRWNTLR  "
      ]
     },
     "execution_count": 32,
     "metadata": {},
     "output_type": "execute_result"
    }
   ],
   "source": [
    "# View sample of death records to make sure the cleaning/standardization steps did what they were supposed to do.\n",
    "\n",
    "d1617.head()"
   ]
  },
  {
   "cell_type": "markdown",
   "metadata": {},
   "source": [
    "##### BIRTH"
   ]
  },
  {
   "cell_type": "code",
   "execution_count": 33,
   "metadata": {},
   "outputs": [],
   "source": [
    "b1617['bfname_clean'] = clean(b1617.bfname,\n",
    "                              lowercase = True,\n",
    "                              replace_by_none = '[\\s-]+',\n",
    "                              strip_accents = 'unicode'\n",
    "                             )"
   ]
  },
  {
   "cell_type": "code",
   "execution_count": 34,
   "metadata": {},
   "outputs": [],
   "source": [
    "b1617['blname_clean'] = clean(b1617.blname,\n",
    "                              lowercase = True,\n",
    "                              replace_by_none = '[\\s-]+',\n",
    "                              strip_accents = 'unicode'\n",
    "                             )"
   ]
  },
  {
   "cell_type": "code",
   "execution_count": 35,
   "metadata": {},
   "outputs": [],
   "source": [
    "b1617['bmom_fname_clean'] = clean(b1617.bmom_fname,\n",
    "                              lowercase = True,\n",
    "                              replace_by_none = '[\\s-]+',\n",
    "                              strip_accents = 'unicode'\n",
    "                             )"
   ]
  },
  {
   "cell_type": "code",
   "execution_count": 36,
   "metadata": {},
   "outputs": [],
   "source": [
    "b1617['bmom_lname_clean'] = clean(b1617.bmom_lname,\n",
    "                                 lowercase = True,\n",
    "                                  replace_by_none = '[\\s-]+',\n",
    "                                  strip_accents = 'unicode'\n",
    "                                 )"
   ]
  },
  {
   "cell_type": "code",
   "execution_count": 37,
   "metadata": {},
   "outputs": [],
   "source": [
    "b1617['bdad_fname_clean'] = clean(b1617.bdad_fname,\n",
    "                                lowercase = True,\n",
    "                                  replace_by_none = '[\\s-]+',\n",
    "                                  strip_accents = 'unicode'\n",
    "                                 )"
   ]
  },
  {
   "cell_type": "code",
   "execution_count": 38,
   "metadata": {},
   "outputs": [],
   "source": [
    "b1617['bdad_lname_clean'] = clean(b1617.bdad_lname,\n",
    "                                lowercase = True,\n",
    "                                  replace_by_none = '[\\s-]+',\n",
    "                                  strip_accents = 'unicode'\n",
    "                                 )"
   ]
  },
  {
   "cell_type": "code",
   "execution_count": 39,
   "metadata": {},
   "outputs": [],
   "source": [
    "b1617['bmom_fullname'] =  b1617.bmom_fname_clean + \" \" +  b1617.bmom_lname_clean\n",
    "b1617['bdad_fullname'] =  b1617.bdad_fname_clean + \" \" +  b1617.bdad_lname_clean\n",
    "b1617['binf_fullname'] =  b1617.bfname_clean + \" \" +  b1617.blname_clean"
   ]
  },
  {
   "cell_type": "code",
   "execution_count": 40,
   "metadata": {},
   "outputs": [],
   "source": [
    "b1617['bmom_phon'] = rl.preprocessing.phonetic(b1617['bmom_fullname'], method = 'metaphone')\n",
    "b1617['bdad_phon'] = rl.preprocessing.phonetic(b1617['bdad_fullname'], method = 'metaphone')\n",
    "b1617['binf_phon'] = rl.preprocessing.phonetic(b1617['binf_fullname'], method = 'metaphone')"
   ]
  },
  {
   "cell_type": "code",
   "execution_count": 1,
   "metadata": {},
   "outputs": [],
   "source": [
    "## Check sample of birth data set to make sure cleaning/standardization worked\n",
    "\n",
    "#b1617.head()"
   ]
  },
  {
   "cell_type": "code",
   "execution_count": 42,
   "metadata": {},
   "outputs": [],
   "source": [
    "b1617.to_csv(r'###\\data\\clean\\b1617_clean.csv', index=None, header=True)\n",
    "d1617.to_csv(r'###\\data\\clean\\d1617_clean.csv', index=None, header=True)"
   ]
  },
  {
   "cell_type": "markdown",
   "metadata": {},
   "source": [
    "##### Reduction of birth and death data size"
   ]
  },
  {
   "cell_type": "markdown",
   "metadata": {},
   "source": [
    "The two primary reasons for reducing the numbers of birth and death records are (1) to address class imbalance between matched and unmatched records, and (2) to reduce the computational load associated with creating candidate pairs of all birth records (n = 259,908) and all death records (n= 168,701)  for this two year period.  \n",
    "\n",
    "As the purpose of this project is to create a linked birth and death record file for infants (decedents who died before age 1 year) the death data set can be reduced by excluding records for decedents who were older than 364 days at the time of death. This reduces the number of deaths \n",
    "\n",
    "\n",
    "For the birth data set, I undersampled the birth records that will not have matches in the death data (by comparing with the exising \"golden pairs\" i.e. true matches) so that the final birth data set contains roughly equal number of records that have matches in the reduced death data set and those that don't have matches.\n",
    "\n",
    "To implement this reduction, the first step is to use the linked1617 golden pairs and use their ID numbers to identify records that will match or not match in the birth and death data sets."
   ]
  },
  {
   "cell_type": "code",
   "execution_count": 43,
   "metadata": {},
   "outputs": [],
   "source": [
    "#b1617 = pd.read_csv(r'###\\data\\clean\\b1617_clean.csv')\n",
    "#d1617 = pd.read_csv(r'###\\data\\clean\\d1617_clean.csv')\n",
    "#linked1617 = pd.read_csv(r'###\\data\\clean\\linked1617_labels.csv')"
   ]
  },
  {
   "cell_type": "code",
   "execution_count": 44,
   "metadata": {},
   "outputs": [
    {
     "data": {
      "text/plain": [
       "631"
      ]
     },
     "execution_count": 44,
     "metadata": {},
     "output_type": "execute_result"
    }
   ],
   "source": [
    "matched_dsfn = linked1617['ldsfn'].tolist()\n",
    "len(matched_dsfn)"
   ]
  },
  {
   "cell_type": "code",
   "execution_count": 45,
   "metadata": {},
   "outputs": [
    {
     "data": {
      "text/plain": [
       "631"
      ]
     },
     "execution_count": 45,
     "metadata": {},
     "output_type": "execute_result"
    }
   ],
   "source": [
    "matched_bsfn = linked1617['lbsfn'].tolist()\n",
    "len(matched_bsfn)"
   ]
  },
  {
   "cell_type": "code",
   "execution_count": 46,
   "metadata": {},
   "outputs": [],
   "source": [
    "# separate birth records without matches in death data\n",
    "\n",
    "b1617_not_linked = b1617[(~b1617['bsfn'].isin(matched_bsfn))]"
   ]
  },
  {
   "cell_type": "code",
   "execution_count": 47,
   "metadata": {},
   "outputs": [],
   "source": [
    "# Select a random sample of 650 unmatched birth records\n",
    "\n",
    "b1617_not_linked_undersample = b1617_not_linked.sample(n=650, random_state=42)"
   ]
  },
  {
   "cell_type": "code",
   "execution_count": 48,
   "metadata": {},
   "outputs": [],
   "source": [
    "# separate birth records with matches in death data set\n",
    "\n",
    "b1617_linked =  b1617[b1617['bsfn'].isin(matched_bsfn)]"
   ]
  },
  {
   "cell_type": "code",
   "execution_count": 49,
   "metadata": {},
   "outputs": [],
   "source": [
    "# create a new birth data set consisting of the birth records that have matches and the sample \n",
    "#of 650 records that do not have matches in the death data.\n",
    "\n",
    "b1617_fin = pd.concat([b1617_not_linked_undersample, b1617_linked], axis=0)"
   ]
  },
  {
   "cell_type": "code",
   "execution_count": 50,
   "metadata": {},
   "outputs": [],
   "source": [
    "# as both birth and death record IDs in WA are 10 digits long and begin with the 4 digit year of the\n",
    "# event, I make sure that there are no common (non-unique) numbers between the birth and death data\n",
    "# by adding numbers to the ID integers so that birth IDs start with 1 and death IDs start with 5.\n",
    "\n",
    "# set index for birth records to the birth record number ('bsfn')\n",
    "\n",
    "b1617_fin.bsfn = b1617_fin.bsfn + 10000000000\n",
    "b1617_fin = b1617_fin.set_index('bsfn')"
   ]
  },
  {
   "cell_type": "code",
   "execution_count": 51,
   "metadata": {},
   "outputs": [],
   "source": [
    "# repeating the process above to keep only death records that are also present in the true match\n",
    "#linked data set.\n",
    "\n",
    "d1617_linked =  d1617[d1617['dsfn'].isin(matched_dsfn)]"
   ]
  },
  {
   "cell_type": "code",
   "execution_count": 52,
   "metadata": {},
   "outputs": [],
   "source": [
    "d1617_fin = d1617_linked.copy()"
   ]
  },
  {
   "cell_type": "code",
   "execution_count": 53,
   "metadata": {},
   "outputs": [],
   "source": [
    "d1617_fin.dsfn = d1617_fin.dsfn + 50000000000"
   ]
  },
  {
   "cell_type": "code",
   "execution_count": 54,
   "metadata": {},
   "outputs": [],
   "source": [
    "d1617_fin = d1617_fin.set_index('dsfn')"
   ]
  },
  {
   "cell_type": "code",
   "execution_count": 55,
   "metadata": {},
   "outputs": [
    {
     "name": "stdout",
     "output_type": "stream",
     "text": [
      "<class 'pandas.core.frame.DataFrame'>\n",
      "Int64Index: 1281 entries, 12017074096 to 12017044542\n",
      "Data columns (total 24 columns):\n",
      " #   Column            Non-Null Count  Dtype \n",
      "---  ------            --------------  ----- \n",
      " 0   bfname            1280 non-null   object\n",
      " 1   blname            1280 non-null   object\n",
      " 2   bmom_fname        1281 non-null   object\n",
      " 3   bmom_lname        1276 non-null   object\n",
      " 4   bdad_lname        1065 non-null   object\n",
      " 5   bdad_fname        1179 non-null   object\n",
      " 6   bsex              1281 non-null   object\n",
      " 7   bdobm             1281 non-null   int64 \n",
      " 8   bdobd             1281 non-null   int64 \n",
      " 9   bdoby             1281 non-null   int64 \n",
      " 10  b_momrescity      1281 non-null   object\n",
      " 11  b_momrescountyl   1281 non-null   object\n",
      " 12  bfname_clean      1280 non-null   object\n",
      " 13  blname_clean      1280 non-null   object\n",
      " 14  bmom_fname_clean  1281 non-null   object\n",
      " 15  bmom_lname_clean  1276 non-null   object\n",
      " 16  bdad_fname_clean  1179 non-null   object\n",
      " 17  bdad_lname_clean  1065 non-null   object\n",
      " 18  bmom_fullname     1276 non-null   object\n",
      " 19  bdad_fullname     1065 non-null   object\n",
      " 20  binf_fullname     1279 non-null   object\n",
      " 21  bmom_phon         1276 non-null   object\n",
      " 22  bdad_phon         1065 non-null   object\n",
      " 23  binf_phon         1279 non-null   object\n",
      "dtypes: int64(3), object(21)\n",
      "memory usage: 250.2+ KB\n"
     ]
    }
   ],
   "source": [
    "b1617_fin.info()"
   ]
  },
  {
   "cell_type": "code",
   "execution_count": 56,
   "metadata": {},
   "outputs": [
    {
     "name": "stdout",
     "output_type": "stream",
     "text": [
      "<class 'pandas.core.frame.DataFrame'>\n",
      "Int64Index: 631 entries, 52017002434 to 52017056216\n",
      "Data columns (total 24 columns):\n",
      " #   Column            Non-Null Count  Dtype \n",
      "---  ------            --------------  ----- \n",
      " 0   dfname            631 non-null    object\n",
      " 1   dlname            631 non-null    object\n",
      " 2   dmom_fname        631 non-null    object\n",
      " 3   dmom_lname        631 non-null    object\n",
      " 4   ddad_fname        631 non-null    object\n",
      " 5   ddad_lname        631 non-null    object\n",
      " 6   dsex              631 non-null    object\n",
      " 7   ddobm             631 non-null    int64 \n",
      " 8   ddobd             631 non-null    int64 \n",
      " 9   ddoby             631 non-null    int64 \n",
      " 10  drescity          631 non-null    object\n",
      " 11  drescountyl       631 non-null    object\n",
      " 12  dfname_clean      631 non-null    object\n",
      " 13  dlname_clean      631 non-null    object\n",
      " 14  dmom_fname_clean  631 non-null    object\n",
      " 15  dmom_lname_clean  631 non-null    object\n",
      " 16  ddad_fname_clean  631 non-null    object\n",
      " 17  ddad_lname_clean  631 non-null    object\n",
      " 18  dmom_fullname     631 non-null    object\n",
      " 19  ddad_fullname     631 non-null    object\n",
      " 20  dinf_fullname     631 non-null    object\n",
      " 21  dmom_phon         631 non-null    object\n",
      " 22  ddad_phon         631 non-null    object\n",
      " 23  dinf_phon         631 non-null    object\n",
      "dtypes: int64(3), object(21)\n",
      "memory usage: 123.2+ KB\n"
     ]
    }
   ],
   "source": [
    "d1617_fin.info()"
   ]
  },
  {
   "cell_type": "code",
   "execution_count": 57,
   "metadata": {},
   "outputs": [],
   "source": [
    "# change record IDs so that they are unique.\n",
    "\n",
    "linked1617.lbsfn = linked1617.lbsfn + 10000000000\n",
    "linked1617.ldsfn = linked1617.ldsfn + 50000000000\n",
    "\n",
    "linked1617.to_csv(r'###data\\clean\\linked1617_labels.csv')"
   ]
  },
  {
   "cell_type": "markdown",
   "metadata": {},
   "source": [
    "#### BLOCKING AND INDEXING CANDIDATE RECORD PAIRS"
   ]
  },
  {
   "cell_type": "markdown",
   "metadata": {},
   "source": [
    "To reduce the number of candidate pairs that will be compared on linking variables, the birth and death records in the final data sets are grouped into 'blocks' based on year of birth, month of birth, day of birth, and mother's name phonetically encoded. Each block will contain only those records that have the same values for these fields."
   ]
  },
  {
   "cell_type": "code",
   "execution_count": 58,
   "metadata": {},
   "outputs": [
    {
     "data": {
      "text/plain": [
       "<Index>"
      ]
     },
     "execution_count": 58,
     "metadata": {},
     "output_type": "execute_result"
    }
   ],
   "source": [
    "#initalize indexer and specify blocking variables\n",
    "\n",
    "indexer = rl.Index()\n",
    "indexer.block(left_on = 'bdoby', right_on = 'ddoby')\n",
    "indexer.block(left_on = 'bdobm', right_on = 'ddobm' )\n",
    "indexer.block(left_on = 'bdobd', right_on = 'ddobd')\n",
    "indexer.block(left_on = 'bmom_phon', right_on = 'dmom_phon')"
   ]
  },
  {
   "cell_type": "code",
   "execution_count": 59,
   "metadata": {},
   "outputs": [],
   "source": [
    "# create candidate pairs between reduced birth and death data sets\n",
    "\n",
    "candidate_pairs = indexer.index(b1617_fin, d1617_fin)"
   ]
  },
  {
   "cell_type": "code",
   "execution_count": 60,
   "metadata": {},
   "outputs": [
    {
     "data": {
      "text/plain": [
       "454323"
      ]
     },
     "execution_count": 60,
     "metadata": {},
     "output_type": "execute_result"
    }
   ],
   "source": [
    "'''The following is the number of candidate_pairs created by pairing all birth and death records in \n",
    "the reduced data sets i.e. 631 death X 1,281 birth records.\n",
    "'''\n",
    "len(candidate_pairs)"
   ]
  },
  {
   "cell_type": "markdown",
   "metadata": {},
   "source": [
    "##### CANDIDATE PAIR COMPARISONS"
   ]
  },
  {
   "cell_type": "markdown",
   "metadata": {},
   "source": [
    "The candidate pairs created above are compared on similarities of the infants' first and last names, mothers' last name, the phonetic encoding of mothers' full name, fathers' last name, the infants' sex, and the mothers' county of residence at the time of birth and death."
   ]
  },
  {
   "cell_type": "code",
   "execution_count": 61,
   "metadata": {},
   "outputs": [],
   "source": [
    "# initiate comparison function\n",
    "\n",
    "c=rl.Compare()"
   ]
  },
  {
   "cell_type": "code",
   "execution_count": 62,
   "metadata": {},
   "outputs": [
    {
     "data": {
      "text/plain": [
       "<Compare>"
      ]
     },
     "execution_count": 62,
     "metadata": {},
     "output_type": "execute_result"
    }
   ],
   "source": [
    "c.string('blname_clean', 'dlname_clean', method = 'jarowinkler', label = 'cmp_inf_lname')\n",
    "c.string('binf_phon', 'dinf_phon', method = 'jarowinkler', label = 'cmp_inf_phonetic')\n",
    "c.string('bmom_lname_clean', 'dmom_lname_clean', method = 'jarowinkler', label = 'cmp_mom_lname')\n",
    "c.string('bmom_phon', 'dmom_phon', method = 'jarowinkler', label = 'cmp_mom_phonetic')\n",
    "c.string('bdad_lname_clean', 'ddad_lname_clean', method = 'jarowinkler', label = 'cmp_dad_lname')\n",
    "c.string('bdad_phon', 'ddad_phon', method = 'jarowinkler', label = 'cmp_dad_phonetic')\n",
    "c.numeric('bdobm', 'ddobm', method = 'linear', scale = 1, label = 'cmp_dobm')\n",
    "c.numeric('bdoby', 'ddoby', method = 'linear', scale = 1, label = 'cmp_doby')\n",
    "c.numeric('bdobd', 'ddobd', method = 'linear', scale = 1, label = 'cmp_dobd')\n",
    "c.exact('bsex', 'dsex', label = 'cmp_sex')\n",
    "c.exact('b_momrescountyl', 'drescountyl', label = 'cmp_rescounty')"
   ]
  },
  {
   "cell_type": "code",
   "execution_count": 63,
   "metadata": {},
   "outputs": [],
   "source": [
    "# Apply comparison to the candidate pairs created above.\n",
    "# The resulting data frame contains the comparision scores (from 0 to 1) of the variables above.\n",
    "# True matches will be closer to 1 on these variables.\n",
    "\n",
    "comp_scores = c.compute(candidate_pairs, b1617_fin, d1617_fin)"
   ]
  },
  {
   "cell_type": "code",
   "execution_count": 64,
   "metadata": {},
   "outputs": [
    {
     "data": {
      "text/plain": [
       "(454323, pandas.core.frame.DataFrame)"
      ]
     },
     "execution_count": 64,
     "metadata": {},
     "output_type": "execute_result"
    }
   ],
   "source": [
    "len(comp_scores), type(comp_scores)"
   ]
  },
  {
   "cell_type": "code",
   "execution_count": 65,
   "metadata": {},
   "outputs": [
    {
     "name": "stdout",
     "output_type": "stream",
     "text": [
      "<class 'pandas.core.frame.DataFrame'>\n",
      "MultiIndex: 454323 entries, (12016000010, 52016000522) to (12017087228, 52017091113)\n",
      "Data columns (total 11 columns):\n",
      " #   Column            Non-Null Count   Dtype  \n",
      "---  ------            --------------   -----  \n",
      " 0   cmp_inf_lname     454323 non-null  float64\n",
      " 1   cmp_inf_phonetic  454323 non-null  float64\n",
      " 2   cmp_mom_lname     454323 non-null  float64\n",
      " 3   cmp_mom_phonetic  454323 non-null  float64\n",
      " 4   cmp_dad_lname     454323 non-null  float64\n",
      " 5   cmp_dad_phonetic  454323 non-null  float64\n",
      " 6   cmp_dobm          454323 non-null  float64\n",
      " 7   cmp_doby          454323 non-null  float64\n",
      " 8   cmp_dobd          454323 non-null  float64\n",
      " 9   cmp_sex           454323 non-null  int64  \n",
      " 10  cmp_rescounty     454323 non-null  int64  \n",
      "dtypes: float64(9), int64(2)\n",
      "memory usage: 39.9 MB\n"
     ]
    }
   ],
   "source": [
    "comp_scores.info()"
   ]
  },
  {
   "cell_type": "code",
   "execution_count": 66,
   "metadata": {},
   "outputs": [
    {
     "data": {
      "text/html": [
       "<div>\n",
       "<style scoped>\n",
       "    .dataframe tbody tr th:only-of-type {\n",
       "        vertical-align: middle;\n",
       "    }\n",
       "\n",
       "    .dataframe tbody tr th {\n",
       "        vertical-align: top;\n",
       "    }\n",
       "\n",
       "    .dataframe thead th {\n",
       "        text-align: right;\n",
       "    }\n",
       "</style>\n",
       "<table border=\"1\" class=\"dataframe\">\n",
       "  <thead>\n",
       "    <tr style=\"text-align: right;\">\n",
       "      <th></th>\n",
       "      <th></th>\n",
       "      <th>cmp_inf_lname</th>\n",
       "      <th>cmp_inf_phonetic</th>\n",
       "      <th>cmp_mom_lname</th>\n",
       "      <th>cmp_mom_phonetic</th>\n",
       "      <th>cmp_dad_lname</th>\n",
       "      <th>cmp_dad_phonetic</th>\n",
       "      <th>cmp_dobm</th>\n",
       "      <th>cmp_doby</th>\n",
       "      <th>cmp_dobd</th>\n",
       "      <th>cmp_sex</th>\n",
       "      <th>cmp_rescounty</th>\n",
       "    </tr>\n",
       "    <tr>\n",
       "      <th>bsfn</th>\n",
       "      <th>dsfn</th>\n",
       "      <th></th>\n",
       "      <th></th>\n",
       "      <th></th>\n",
       "      <th></th>\n",
       "      <th></th>\n",
       "      <th></th>\n",
       "      <th></th>\n",
       "      <th></th>\n",
       "      <th></th>\n",
       "      <th></th>\n",
       "      <th></th>\n",
       "    </tr>\n",
       "  </thead>\n",
       "  <tbody>\n",
       "    <tr>\n",
       "      <th rowspan=\"5\" valign=\"top\">12017087228</th>\n",
       "      <th>52017057564</th>\n",
       "      <td>0.500000</td>\n",
       "      <td>0.516667</td>\n",
       "      <td>0.500000</td>\n",
       "      <td>0.511905</td>\n",
       "      <td>0.000000</td>\n",
       "      <td>0.000000</td>\n",
       "      <td>1.0</td>\n",
       "      <td>1.0</td>\n",
       "      <td>0.0</td>\n",
       "      <td>0</td>\n",
       "      <td>0</td>\n",
       "    </tr>\n",
       "    <tr>\n",
       "      <th>52017057607</th>\n",
       "      <td>0.700000</td>\n",
       "      <td>0.409524</td>\n",
       "      <td>0.539683</td>\n",
       "      <td>0.511905</td>\n",
       "      <td>0.700000</td>\n",
       "      <td>0.490476</td>\n",
       "      <td>0.5</td>\n",
       "      <td>1.0</td>\n",
       "      <td>0.0</td>\n",
       "      <td>1</td>\n",
       "      <td>0</td>\n",
       "    </tr>\n",
       "    <tr>\n",
       "      <th>52017057624</th>\n",
       "      <td>0.488889</td>\n",
       "      <td>0.628205</td>\n",
       "      <td>0.642857</td>\n",
       "      <td>0.565079</td>\n",
       "      <td>0.000000</td>\n",
       "      <td>0.000000</td>\n",
       "      <td>1.0</td>\n",
       "      <td>1.0</td>\n",
       "      <td>0.0</td>\n",
       "      <td>1</td>\n",
       "      <td>0</td>\n",
       "    </tr>\n",
       "    <tr>\n",
       "      <th>52017057673</th>\n",
       "      <td>0.577778</td>\n",
       "      <td>0.465079</td>\n",
       "      <td>0.539683</td>\n",
       "      <td>0.601190</td>\n",
       "      <td>0.577778</td>\n",
       "      <td>0.495238</td>\n",
       "      <td>0.0</td>\n",
       "      <td>1.0</td>\n",
       "      <td>0.0</td>\n",
       "      <td>1</td>\n",
       "      <td>0</td>\n",
       "    </tr>\n",
       "    <tr>\n",
       "      <th>52017091113</th>\n",
       "      <td>0.605556</td>\n",
       "      <td>0.422222</td>\n",
       "      <td>0.666667</td>\n",
       "      <td>0.464286</td>\n",
       "      <td>0.605556</td>\n",
       "      <td>0.504545</td>\n",
       "      <td>1.0</td>\n",
       "      <td>0.5</td>\n",
       "      <td>0.0</td>\n",
       "      <td>1</td>\n",
       "      <td>0</td>\n",
       "    </tr>\n",
       "  </tbody>\n",
       "</table>\n",
       "</div>"
      ],
      "text/plain": [
       "                         cmp_inf_lname  cmp_inf_phonetic  cmp_mom_lname  \\\n",
       "bsfn        dsfn                                                          \n",
       "12017087228 52017057564       0.500000          0.516667       0.500000   \n",
       "            52017057607       0.700000          0.409524       0.539683   \n",
       "            52017057624       0.488889          0.628205       0.642857   \n",
       "            52017057673       0.577778          0.465079       0.539683   \n",
       "            52017091113       0.605556          0.422222       0.666667   \n",
       "\n",
       "                         cmp_mom_phonetic  cmp_dad_lname  cmp_dad_phonetic  \\\n",
       "bsfn        dsfn                                                             \n",
       "12017087228 52017057564          0.511905       0.000000          0.000000   \n",
       "            52017057607          0.511905       0.700000          0.490476   \n",
       "            52017057624          0.565079       0.000000          0.000000   \n",
       "            52017057673          0.601190       0.577778          0.495238   \n",
       "            52017091113          0.464286       0.605556          0.504545   \n",
       "\n",
       "                         cmp_dobm  cmp_doby  cmp_dobd  cmp_sex  cmp_rescounty  \n",
       "bsfn        dsfn                                                               \n",
       "12017087228 52017057564       1.0       1.0       0.0        0              0  \n",
       "            52017057607       0.5       1.0       0.0        1              0  \n",
       "            52017057624       1.0       1.0       0.0        1              0  \n",
       "            52017057673       0.0       1.0       0.0        1              0  \n",
       "            52017091113       1.0       0.5       0.0        1              0  "
      ]
     },
     "execution_count": 66,
     "metadata": {},
     "output_type": "execute_result"
    }
   ],
   "source": [
    "comp_scores.tail()"
   ]
  },
  {
   "cell_type": "markdown",
   "metadata": {},
   "source": [
    "**Add variable to indicate whether record pairs in comp_scores are matches or non-matches**\n",
    "\n",
    "The golden pairs (true match) linked data set allows labeling of the entire comp_scores data set."
   ]
  },
  {
   "cell_type": "code",
   "execution_count": 68,
   "metadata": {},
   "outputs": [],
   "source": [
    "# set a multiIndex for the true match record ID pairs\n",
    "\n",
    "labels = linked1617.set_index(['lbsfn', 'ldsfn'])"
   ]
  },
  {
   "cell_type": "code",
   "execution_count": 69,
   "metadata": {},
   "outputs": [],
   "source": [
    "# add a variable match (set to 1) indicating that the record pairs in dataframe 'labels' are all matches\n",
    "labels['match'] = 1"
   ]
  },
  {
   "cell_type": "code",
   "execution_count": 70,
   "metadata": {},
   "outputs": [],
   "source": [
    "# concatenate the comparison scores data with the labels and fill all blank values for 'match' variables with 0 indicating\n",
    "# no match.\n",
    "\n",
    "comp_scores_m = (pd.concat([comp_scores, labels], axis=1)\n",
    "       .fillna(0)\n",
    "       .astype(int))"
   ]
  },
  {
   "cell_type": "code",
   "execution_count": 73,
   "metadata": {},
   "outputs": [
    {
     "name": "stdout",
     "output_type": "stream",
     "text": [
      "<class 'pandas.core.frame.DataFrame'>\n",
      "MultiIndex: 454323 entries, (12016000010, 52016000522) to (12017087228, 52017091113)\n",
      "Data columns (total 12 columns):\n",
      " #   Column            Non-Null Count   Dtype\n",
      "---  ------            --------------   -----\n",
      " 0   cmp_inf_lname     454323 non-null  int32\n",
      " 1   cmp_inf_phonetic  454323 non-null  int32\n",
      " 2   cmp_mom_lname     454323 non-null  int32\n",
      " 3   cmp_mom_phonetic  454323 non-null  int32\n",
      " 4   cmp_dad_lname     454323 non-null  int32\n",
      " 5   cmp_dad_phonetic  454323 non-null  int32\n",
      " 6   cmp_dobm          454323 non-null  int32\n",
      " 7   cmp_doby          454323 non-null  int32\n",
      " 8   cmp_dobd          454323 non-null  int32\n",
      " 9   cmp_sex           454323 non-null  int32\n",
      " 10  cmp_rescounty     454323 non-null  int32\n",
      " 11  match             454323 non-null  int32\n",
      "dtypes: int32(12)\n",
      "memory usage: 22.5 MB\n"
     ]
    }
   ],
   "source": [
    "comp_scores_m.info()"
   ]
  },
  {
   "cell_type": "code",
   "execution_count": 74,
   "metadata": {},
   "outputs": [],
   "source": [
    "comp_scores_m.to_csv(r'###\\data\\clean\\infdth_comparison_1617_labelled.csv', header=True)"
   ]
  },
  {
   "cell_type": "markdown",
   "metadata": {},
   "source": [
    "The comparison score data frame can now be used in the next step when building classifiers."
   ]
  }
 ],
 "metadata": {
  "kernelspec": {
   "display_name": "Python 3",
   "language": "python",
   "name": "python3"
  },
  "language_info": {
   "codemirror_mode": {
    "name": "ipython",
    "version": 3
   },
   "file_extension": ".py",
   "mimetype": "text/x-python",
   "name": "python",
   "nbconvert_exporter": "python",
   "pygments_lexer": "ipython3",
   "version": "3.6.8"
  }
 },
 "nbformat": 4,
 "nbformat_minor": 4
}
