{
 "cells": [
  {
   "cell_type": "markdown",
   "metadata": {},
   "source": [
    "#### TEXT CLASSIFIERS - SUPERVISED METHODS"
   ]
  },
  {
   "cell_type": "code",
   "execution_count": 1,
   "metadata": {},
   "outputs": [],
   "source": [
    "import pandas as pd\n",
    "import seaborn as sns\n",
    "import matplotlib.pyplot as plt\n",
    "import numpy as np\n",
    "\n",
    "import sre_yield\n",
    "from sklearn.model_selection import train_test_split\n",
    "from sklearn.feature_extraction.text import TfidfVectorizer\n",
    "from sklearn.feature_extraction.text import TfidfTransformer\n",
    "from sklearn.naive_bayes import MultinomialNB\n",
    "from sklearn.linear_model import LogisticRegression\n",
    "\n",
    "from sklearn.svm import SVC\n",
    "from sklearn.svm import LinearSVC\n",
    "from sklearn import svm\n",
    "\n",
    "from sklearn.metrics import accuracy_score\n"
   ]
  },
  {
   "cell_type": "markdown",
   "metadata": {},
   "source": [
    "**STEPS:**\n",
    "\n",
    "- select records without garbage codes to train and test models - DONE\n",
    "- create labels for records (10 leading causes of death) by grouping ICD-10 codes - DONE\n",
    "- label records - DONE\n",
    "- preprocess text and ICD-10 codes - DONE\n",
    "- train models\n",
    "    - Linear SVM\n",
    "    - logistic regression\n",
    "    - Naive Bayes\n",
    "- compare accuracy and select best model\n",
    "- train, test\n",
    "- apply to garbage code records\n",
    "    - does this need to be done separately for each gc category? OR\n",
    "    - remove labels if target category is implausible or impossible\"\n",
    "- compare classification with LDA\n",
    "    \n",
    "\n"
   ]
  },
  {
   "cell_type": "code",
   "execution_count": 2,
   "metadata": {},
   "outputs": [],
   "source": [
    "death_df = pd.read_csv('Y:/DQSS/Death/MBG/py/capstone2/data/d1619_gclabelled.csv',\n",
    "                       dtype={'MC1':str,'MC2':str,'MC3':str,'MC4':str,'MC5':str,'MC6':str,\n",
    "                             'MC7':str,'MC8':str,'MC9':str,'MC10':str,'MC11':str,'MC12':str,\n",
    "                             'MC13':str,'MC14':str,'MC15':str,'MC16':str,'MC17':str,'MC18':str,\n",
    "                             'MC19':str,'MC20':str},\n",
    "                       low_memory=False,\n",
    "                       encoding = 'unicode_escape')"
   ]
  },
  {
   "cell_type": "code",
   "execution_count": 3,
   "metadata": {},
   "outputs": [
    {
     "name": "stdout",
     "output_type": "stream",
     "text": [
      "<class 'pandas.core.frame.DataFrame'>\n",
      "RangeIndex: 226996 entries, 0 to 226995\n",
      "Data columns (total 49 columns):\n",
      " #   Column        Non-Null Count   Dtype  \n",
      "---  ------        --------------   -----  \n",
      " 0   Unnamed: 0    226996 non-null  int64  \n",
      " 1   sfn           226996 non-null  int64  \n",
      " 2   sex           226996 non-null  object \n",
      " 3   ageyrs        226996 non-null  float64\n",
      " 4   dod           226996 non-null  object \n",
      " 5   dody          226996 non-null  int64  \n",
      " 6   dcounty       226995 non-null  object \n",
      " 7   dstateFIPS    226996 non-null  object \n",
      " 8   bridgerace    226996 non-null  int64  \n",
      " 9   hispno        226996 non-null  object \n",
      " 10  marital       226996 non-null  object \n",
      " 11  rstatefips    226996 non-null  object \n",
      " 12  manner        226954 non-null  object \n",
      " 13  tobac         226996 non-null  object \n",
      " 14  pg            166760 non-null  float64\n",
      " 15  certdesig     225382 non-null  float64\n",
      " 16  UCOD          226841 non-null  object \n",
      " 17  MC1           226825 non-null  object \n",
      " 18  MC2           188306 non-null  object \n",
      " 19  MC3           143136 non-null  object \n",
      " 20  MC4           99559 non-null   object \n",
      " 21  MC5           65204 non-null   object \n",
      " 22  MC6           40715 non-null   object \n",
      " 23  MC7           24610 non-null   object \n",
      " 24  MC8           14396 non-null   object \n",
      " 25  MC9           8021 non-null    object \n",
      " 26  MC10          4296 non-null    object \n",
      " 27  MC11          2160 non-null    object \n",
      " 28  MC12          945 non-null     object \n",
      " 29  MC13          339 non-null     object \n",
      " 30  MC14          68 non-null      object \n",
      " 31  MC15          3 non-null       object \n",
      " 32  MC16          3 non-null       object \n",
      " 33  MC17          3 non-null       object \n",
      " 34  MC18          0 non-null       object \n",
      " 35  MC19          0 non-null       object \n",
      " 36  MC20          0 non-null       object \n",
      " 37  codAq         226995 non-null  object \n",
      " 38  codBq         134426 non-null  object \n",
      " 39  codCq         65803 non-null   object \n",
      " 40  codDq         22843 non-null   object \n",
      " 41  codIIq        106109 non-null  object \n",
      " 42  AllMC         226996 non-null  object \n",
      " 43  codlit        226995 non-null  object \n",
      " 44  gc_any        226996 non-null  bool   \n",
      " 45  gc_cat        226996 non-null  int64  \n",
      " 46  gc_cat_label  226996 non-null  object \n",
      " 47  agegrp        225534 non-null  object \n",
      " 48  cert_label    226996 non-null  object \n",
      "dtypes: bool(1), float64(3), int64(5), object(40)\n",
      "memory usage: 83.3+ MB\n"
     ]
    }
   ],
   "source": [
    "death_df.info()"
   ]
  },
  {
   "cell_type": "code",
   "execution_count": 4,
   "metadata": {},
   "outputs": [
    {
     "data": {
      "text/plain": [
       "0-No GC                         211923\n",
       "6-Ill-defined cardiovascular      3868\n",
       "5-Ill-defined                     2973\n",
       "2-Heart failure                   2767\n",
       "3-Ill-defined cancer              2376\n",
       "1-Septicemia                      2149\n",
       "4-Volume depletion                 534\n",
       "8-Undetermined intent              368\n",
       "9-Ill-defined infectious            38\n",
       "Name: gc_cat_label, dtype: int64"
      ]
     },
     "execution_count": 4,
     "metadata": {},
     "output_type": "execute_result"
    }
   ],
   "source": [
    "death_df.gc_cat_label.value_counts()"
   ]
  },
  {
   "cell_type": "code",
   "execution_count": 5,
   "metadata": {},
   "outputs": [],
   "source": [
    "pd.set_option('display.max_columns', 500)\n",
    "pd.set_option('display.max_rows', None)"
   ]
  },
  {
   "cell_type": "code",
   "execution_count": 6,
   "metadata": {},
   "outputs": [
    {
     "data": {
      "text/html": [
       "<div>\n",
       "<style scoped>\n",
       "    .dataframe tbody tr th:only-of-type {\n",
       "        vertical-align: middle;\n",
       "    }\n",
       "\n",
       "    .dataframe tbody tr th {\n",
       "        vertical-align: top;\n",
       "    }\n",
       "\n",
       "    .dataframe thead th {\n",
       "        text-align: right;\n",
       "    }\n",
       "</style>\n",
       "<table border=\"1\" class=\"dataframe\">\n",
       "  <thead>\n",
       "    <tr style=\"text-align: right;\">\n",
       "      <th></th>\n",
       "      <th>Unnamed: 0</th>\n",
       "      <th>sfn</th>\n",
       "      <th>sex</th>\n",
       "      <th>ageyrs</th>\n",
       "      <th>dod</th>\n",
       "      <th>dody</th>\n",
       "      <th>dcounty</th>\n",
       "      <th>dstateFIPS</th>\n",
       "      <th>bridgerace</th>\n",
       "      <th>hispno</th>\n",
       "      <th>marital</th>\n",
       "      <th>rstatefips</th>\n",
       "      <th>manner</th>\n",
       "      <th>tobac</th>\n",
       "      <th>pg</th>\n",
       "      <th>certdesig</th>\n",
       "      <th>UCOD</th>\n",
       "      <th>MC1</th>\n",
       "      <th>MC2</th>\n",
       "      <th>MC3</th>\n",
       "      <th>MC4</th>\n",
       "      <th>MC5</th>\n",
       "      <th>MC6</th>\n",
       "      <th>MC7</th>\n",
       "      <th>MC8</th>\n",
       "      <th>MC9</th>\n",
       "      <th>MC10</th>\n",
       "      <th>MC11</th>\n",
       "      <th>MC12</th>\n",
       "      <th>MC13</th>\n",
       "      <th>MC14</th>\n",
       "      <th>MC15</th>\n",
       "      <th>MC16</th>\n",
       "      <th>MC17</th>\n",
       "      <th>MC18</th>\n",
       "      <th>MC19</th>\n",
       "      <th>MC20</th>\n",
       "      <th>codAq</th>\n",
       "      <th>codBq</th>\n",
       "      <th>codCq</th>\n",
       "      <th>codDq</th>\n",
       "      <th>codIIq</th>\n",
       "      <th>AllMC</th>\n",
       "      <th>codlit</th>\n",
       "      <th>gc_any</th>\n",
       "      <th>gc_cat</th>\n",
       "      <th>gc_cat_label</th>\n",
       "      <th>agegrp</th>\n",
       "      <th>cert_label</th>\n",
       "    </tr>\n",
       "  </thead>\n",
       "  <tbody>\n",
       "    <tr>\n",
       "      <th>0</th>\n",
       "      <td>0</td>\n",
       "      <td>2017019369</td>\n",
       "      <td>F</td>\n",
       "      <td>81.0</td>\n",
       "      <td>2017-04-12</td>\n",
       "      <td>2017</td>\n",
       "      <td>PIERCE</td>\n",
       "      <td>WA</td>\n",
       "      <td>1</td>\n",
       "      <td>Y</td>\n",
       "      <td>M</td>\n",
       "      <td>WA</td>\n",
       "      <td>N</td>\n",
       "      <td>N</td>\n",
       "      <td>8.0</td>\n",
       "      <td>1.0</td>\n",
       "      <td>I500</td>\n",
       "      <td>I500</td>\n",
       "      <td>NaN</td>\n",
       "      <td>NaN</td>\n",
       "      <td>NaN</td>\n",
       "      <td>NaN</td>\n",
       "      <td>NaN</td>\n",
       "      <td>NaN</td>\n",
       "      <td>NaN</td>\n",
       "      <td>NaN</td>\n",
       "      <td>NaN</td>\n",
       "      <td>NaN</td>\n",
       "      <td>NaN</td>\n",
       "      <td>NaN</td>\n",
       "      <td>NaN</td>\n",
       "      <td>NaN</td>\n",
       "      <td>NaN</td>\n",
       "      <td>NaN</td>\n",
       "      <td>NaN</td>\n",
       "      <td>NaN</td>\n",
       "      <td>NaN</td>\n",
       "      <td>PROBABLE CONGESTIVE HEART FAILURE</td>\n",
       "      <td>NaN</td>\n",
       "      <td>NaN</td>\n",
       "      <td>NaN</td>\n",
       "      <td>HOSPICE</td>\n",
       "      <td>I500</td>\n",
       "      <td>PROBABLE CONGESTIVE HEART FAILURE    HOSPICE</td>\n",
       "      <td>True</td>\n",
       "      <td>2</td>\n",
       "      <td>2-Heart failure</td>\n",
       "      <td>80+ yrs</td>\n",
       "      <td>1-Physician</td>\n",
       "    </tr>\n",
       "    <tr>\n",
       "      <th>1</th>\n",
       "      <td>1</td>\n",
       "      <td>2017019370</td>\n",
       "      <td>F</td>\n",
       "      <td>87.0</td>\n",
       "      <td>2017-04-23</td>\n",
       "      <td>2017</td>\n",
       "      <td>THURSTON</td>\n",
       "      <td>WA</td>\n",
       "      <td>1</td>\n",
       "      <td>Y</td>\n",
       "      <td>M</td>\n",
       "      <td>WA</td>\n",
       "      <td>N</td>\n",
       "      <td>N</td>\n",
       "      <td>8.0</td>\n",
       "      <td>1.0</td>\n",
       "      <td>I219</td>\n",
       "      <td>I219</td>\n",
       "      <td>I10</td>\n",
       "      <td>I259</td>\n",
       "      <td>I490</td>\n",
       "      <td>I739</td>\n",
       "      <td>NaN</td>\n",
       "      <td>NaN</td>\n",
       "      <td>NaN</td>\n",
       "      <td>NaN</td>\n",
       "      <td>NaN</td>\n",
       "      <td>NaN</td>\n",
       "      <td>NaN</td>\n",
       "      <td>NaN</td>\n",
       "      <td>NaN</td>\n",
       "      <td>NaN</td>\n",
       "      <td>NaN</td>\n",
       "      <td>NaN</td>\n",
       "      <td>NaN</td>\n",
       "      <td>NaN</td>\n",
       "      <td>NaN</td>\n",
       "      <td>VENTRICULAR FIBRILLATION</td>\n",
       "      <td>ACUTE MYOCARDIAL INFARCTION</td>\n",
       "      <td>CORONARY HEART DISEASE</td>\n",
       "      <td>NaN</td>\n",
       "      <td>HYPERTENSION, PERIPHERAL VASCULAR DISEASE</td>\n",
       "      <td>I219 I10 I259 I490 I739</td>\n",
       "      <td>VENTRICULAR FIBRILLATION ACUTE MYOCARDIAL INFA...</td>\n",
       "      <td>False</td>\n",
       "      <td>0</td>\n",
       "      <td>0-No GC</td>\n",
       "      <td>80+ yrs</td>\n",
       "      <td>1-Physician</td>\n",
       "    </tr>\n",
       "    <tr>\n",
       "      <th>2</th>\n",
       "      <td>2</td>\n",
       "      <td>2019039107</td>\n",
       "      <td>F</td>\n",
       "      <td>85.0</td>\n",
       "      <td>2019-08-31</td>\n",
       "      <td>2019</td>\n",
       "      <td>SPOKANE</td>\n",
       "      <td>WA</td>\n",
       "      <td>1</td>\n",
       "      <td>Y</td>\n",
       "      <td>D</td>\n",
       "      <td>WA</td>\n",
       "      <td>N</td>\n",
       "      <td>U</td>\n",
       "      <td>8.0</td>\n",
       "      <td>1.0</td>\n",
       "      <td>G309</td>\n",
       "      <td>G309</td>\n",
       "      <td>NaN</td>\n",
       "      <td>NaN</td>\n",
       "      <td>NaN</td>\n",
       "      <td>NaN</td>\n",
       "      <td>NaN</td>\n",
       "      <td>NaN</td>\n",
       "      <td>NaN</td>\n",
       "      <td>NaN</td>\n",
       "      <td>NaN</td>\n",
       "      <td>NaN</td>\n",
       "      <td>NaN</td>\n",
       "      <td>NaN</td>\n",
       "      <td>NaN</td>\n",
       "      <td>NaN</td>\n",
       "      <td>NaN</td>\n",
       "      <td>NaN</td>\n",
       "      <td>NaN</td>\n",
       "      <td>NaN</td>\n",
       "      <td>NaN</td>\n",
       "      <td>ALZHEIMER'S DEMENTIA</td>\n",
       "      <td>NaN</td>\n",
       "      <td>NaN</td>\n",
       "      <td>NaN</td>\n",
       "      <td>NaN</td>\n",
       "      <td>G309</td>\n",
       "      <td>ALZHEIMER'S DEMENTIA</td>\n",
       "      <td>False</td>\n",
       "      <td>0</td>\n",
       "      <td>0-No GC</td>\n",
       "      <td>80+ yrs</td>\n",
       "      <td>1-Physician</td>\n",
       "    </tr>\n",
       "    <tr>\n",
       "      <th>3</th>\n",
       "      <td>3</td>\n",
       "      <td>2019033199</td>\n",
       "      <td>M</td>\n",
       "      <td>41.0</td>\n",
       "      <td>2019-07-23</td>\n",
       "      <td>2019</td>\n",
       "      <td>KING</td>\n",
       "      <td>WA</td>\n",
       "      <td>8</td>\n",
       "      <td>Y</td>\n",
       "      <td>S</td>\n",
       "      <td>CA</td>\n",
       "      <td>A</td>\n",
       "      <td>N</td>\n",
       "      <td>8.0</td>\n",
       "      <td>2.0</td>\n",
       "      <td>X41</td>\n",
       "      <td>X41</td>\n",
       "      <td>T436</td>\n",
       "      <td>T509</td>\n",
       "      <td>NaN</td>\n",
       "      <td>NaN</td>\n",
       "      <td>NaN</td>\n",
       "      <td>NaN</td>\n",
       "      <td>NaN</td>\n",
       "      <td>NaN</td>\n",
       "      <td>NaN</td>\n",
       "      <td>NaN</td>\n",
       "      <td>NaN</td>\n",
       "      <td>NaN</td>\n",
       "      <td>NaN</td>\n",
       "      <td>NaN</td>\n",
       "      <td>NaN</td>\n",
       "      <td>NaN</td>\n",
       "      <td>NaN</td>\n",
       "      <td>NaN</td>\n",
       "      <td>NaN</td>\n",
       "      <td>ACUTE METHAMPHETAMINE INTOXICATION</td>\n",
       "      <td>NaN</td>\n",
       "      <td>NaN</td>\n",
       "      <td>NaN</td>\n",
       "      <td>NaN</td>\n",
       "      <td>X41 T436 T509</td>\n",
       "      <td>ACUTE METHAMPHETAMINE INTOXICATION     TOXIC U...</td>\n",
       "      <td>False</td>\n",
       "      <td>0</td>\n",
       "      <td>0-No GC</td>\n",
       "      <td>40-49 yrs</td>\n",
       "      <td>2-ME/Coroner</td>\n",
       "    </tr>\n",
       "    <tr>\n",
       "      <th>4</th>\n",
       "      <td>4</td>\n",
       "      <td>2019041162</td>\n",
       "      <td>M</td>\n",
       "      <td>69.0</td>\n",
       "      <td>2019-09-16</td>\n",
       "      <td>2019</td>\n",
       "      <td>SNOHOMISH</td>\n",
       "      <td>WA</td>\n",
       "      <td>1</td>\n",
       "      <td>Y</td>\n",
       "      <td>M</td>\n",
       "      <td>WA</td>\n",
       "      <td>N</td>\n",
       "      <td>Y</td>\n",
       "      <td>8.0</td>\n",
       "      <td>1.0</td>\n",
       "      <td>C099</td>\n",
       "      <td>C099</td>\n",
       "      <td>E119</td>\n",
       "      <td>F101</td>\n",
       "      <td>F179</td>\n",
       "      <td>I251</td>\n",
       "      <td>I99</td>\n",
       "      <td>J958</td>\n",
       "      <td>J969</td>\n",
       "      <td>T814</td>\n",
       "      <td>Y839</td>\n",
       "      <td>NaN</td>\n",
       "      <td>NaN</td>\n",
       "      <td>NaN</td>\n",
       "      <td>NaN</td>\n",
       "      <td>NaN</td>\n",
       "      <td>NaN</td>\n",
       "      <td>NaN</td>\n",
       "      <td>NaN</td>\n",
       "      <td>NaN</td>\n",
       "      <td>NaN</td>\n",
       "      <td>RESPIRATORY FAILURE</td>\n",
       "      <td>SEPSIS AND PNEUMONIA</td>\n",
       "      <td>STATUS POST THROAT SURGERY</td>\n",
       "      <td>SQUAMOUS CARCINOMA OF RIGHT TONSIL</td>\n",
       "      <td>SMOKER, ALCOHOL ABUSE, CORONARY ARTERY DISEASE...</td>\n",
       "      <td>C099 E119 F101 F179 I251 I99 J958 J969 T814 Y8...</td>\n",
       "      <td>RESPIRATORY FAILURE SEPSIS AND PNEUMONIA STATU...</td>\n",
       "      <td>False</td>\n",
       "      <td>0</td>\n",
       "      <td>0-No GC</td>\n",
       "      <td>60-69 yrs</td>\n",
       "      <td>1-Physician</td>\n",
       "    </tr>\n",
       "  </tbody>\n",
       "</table>\n",
       "</div>"
      ],
      "text/plain": [
       "   Unnamed: 0         sfn sex  ageyrs         dod  dody    dcounty dstateFIPS  \\\n",
       "0           0  2017019369   F    81.0  2017-04-12  2017     PIERCE         WA   \n",
       "1           1  2017019370   F    87.0  2017-04-23  2017   THURSTON         WA   \n",
       "2           2  2019039107   F    85.0  2019-08-31  2019    SPOKANE         WA   \n",
       "3           3  2019033199   M    41.0  2019-07-23  2019       KING         WA   \n",
       "4           4  2019041162   M    69.0  2019-09-16  2019  SNOHOMISH         WA   \n",
       "\n",
       "   bridgerace hispno marital rstatefips manner tobac   pg  certdesig  UCOD  \\\n",
       "0           1      Y       M         WA      N     N  8.0        1.0  I500   \n",
       "1           1      Y       M         WA      N     N  8.0        1.0  I219   \n",
       "2           1      Y       D         WA      N     U  8.0        1.0  G309   \n",
       "3           8      Y       S         CA      A     N  8.0        2.0   X41   \n",
       "4           1      Y       M         WA      N     Y  8.0        1.0  C099   \n",
       "\n",
       "    MC1   MC2   MC3   MC4   MC5  MC6   MC7   MC8   MC9  MC10 MC11 MC12 MC13  \\\n",
       "0  I500   NaN   NaN   NaN   NaN  NaN   NaN   NaN   NaN   NaN  NaN  NaN  NaN   \n",
       "1  I219   I10  I259  I490  I739  NaN   NaN   NaN   NaN   NaN  NaN  NaN  NaN   \n",
       "2  G309   NaN   NaN   NaN   NaN  NaN   NaN   NaN   NaN   NaN  NaN  NaN  NaN   \n",
       "3   X41  T436  T509   NaN   NaN  NaN   NaN   NaN   NaN   NaN  NaN  NaN  NaN   \n",
       "4  C099  E119  F101  F179  I251  I99  J958  J969  T814  Y839  NaN  NaN  NaN   \n",
       "\n",
       "  MC14 MC15 MC16 MC17 MC18 MC19 MC20                               codAq  \\\n",
       "0  NaN  NaN  NaN  NaN  NaN  NaN  NaN   PROBABLE CONGESTIVE HEART FAILURE   \n",
       "1  NaN  NaN  NaN  NaN  NaN  NaN  NaN            VENTRICULAR FIBRILLATION   \n",
       "2  NaN  NaN  NaN  NaN  NaN  NaN  NaN                ALZHEIMER'S DEMENTIA   \n",
       "3  NaN  NaN  NaN  NaN  NaN  NaN  NaN  ACUTE METHAMPHETAMINE INTOXICATION   \n",
       "4  NaN  NaN  NaN  NaN  NaN  NaN  NaN                 RESPIRATORY FAILURE   \n",
       "\n",
       "                         codBq                       codCq  \\\n",
       "0                          NaN                         NaN   \n",
       "1  ACUTE MYOCARDIAL INFARCTION      CORONARY HEART DISEASE   \n",
       "2                          NaN                         NaN   \n",
       "3                          NaN                         NaN   \n",
       "4         SEPSIS AND PNEUMONIA  STATUS POST THROAT SURGERY   \n",
       "\n",
       "                                codDq  \\\n",
       "0                                 NaN   \n",
       "1                                 NaN   \n",
       "2                                 NaN   \n",
       "3                                 NaN   \n",
       "4  SQUAMOUS CARCINOMA OF RIGHT TONSIL   \n",
       "\n",
       "                                              codIIq  \\\n",
       "0                                            HOSPICE   \n",
       "1          HYPERTENSION, PERIPHERAL VASCULAR DISEASE   \n",
       "2                                                NaN   \n",
       "3                                                NaN   \n",
       "4  SMOKER, ALCOHOL ABUSE, CORONARY ARTERY DISEASE...   \n",
       "\n",
       "                                               AllMC  \\\n",
       "0                            I500                      \n",
       "1             I219 I10 I259 I490 I739                  \n",
       "2                            G309                      \n",
       "3                     X41 T436 T509                    \n",
       "4  C099 E119 F101 F179 I251 I99 J958 J969 T814 Y8...   \n",
       "\n",
       "                                              codlit  gc_any  gc_cat  \\\n",
       "0      PROBABLE CONGESTIVE HEART FAILURE    HOSPICE     True       2   \n",
       "1  VENTRICULAR FIBRILLATION ACUTE MYOCARDIAL INFA...   False       0   \n",
       "2                          ALZHEIMER'S DEMENTIA        False       0   \n",
       "3  ACUTE METHAMPHETAMINE INTOXICATION     TOXIC U...   False       0   \n",
       "4  RESPIRATORY FAILURE SEPSIS AND PNEUMONIA STATU...   False       0   \n",
       "\n",
       "      gc_cat_label     agegrp    cert_label  \n",
       "0  2-Heart failure    80+ yrs   1-Physician  \n",
       "1          0-No GC    80+ yrs   1-Physician  \n",
       "2          0-No GC    80+ yrs   1-Physician  \n",
       "3          0-No GC  40-49 yrs  2-ME/Coroner  \n",
       "4          0-No GC  60-69 yrs   1-Physician  "
      ]
     },
     "execution_count": 6,
     "metadata": {},
     "output_type": "execute_result"
    }
   ],
   "source": [
    "death_df.head()"
   ]
  },
  {
   "cell_type": "markdown",
   "metadata": {},
   "source": [
    "**Keep relevant variables**"
   ]
  },
  {
   "cell_type": "code",
   "execution_count": 7,
   "metadata": {},
   "outputs": [],
   "source": [
    "df = death_df.loc[: , ['sex','manner', 'tobac', 'codlit', 'UCOD', 'MC2','MC3','MC4','MC5','MC6','MC7','MC8','MC9',\n",
    "                'MC10','MC11','MC12','MC13','MC14','MC15','MC16','MC17','MC18','MC19',\n",
    "                'MC20','AllMC','gc_cat', 'gc_cat_label', 'agegrp']]"
   ]
  },
  {
   "cell_type": "code",
   "execution_count": 8,
   "metadata": {},
   "outputs": [
    {
     "data": {
      "text/html": [
       "<div>\n",
       "<style scoped>\n",
       "    .dataframe tbody tr th:only-of-type {\n",
       "        vertical-align: middle;\n",
       "    }\n",
       "\n",
       "    .dataframe tbody tr th {\n",
       "        vertical-align: top;\n",
       "    }\n",
       "\n",
       "    .dataframe thead th {\n",
       "        text-align: right;\n",
       "    }\n",
       "</style>\n",
       "<table border=\"1\" class=\"dataframe\">\n",
       "  <thead>\n",
       "    <tr style=\"text-align: right;\">\n",
       "      <th></th>\n",
       "      <th>sex</th>\n",
       "      <th>manner</th>\n",
       "      <th>tobac</th>\n",
       "      <th>codlit</th>\n",
       "      <th>UCOD</th>\n",
       "      <th>MC2</th>\n",
       "      <th>MC3</th>\n",
       "      <th>MC4</th>\n",
       "      <th>MC5</th>\n",
       "      <th>MC6</th>\n",
       "      <th>MC7</th>\n",
       "      <th>MC8</th>\n",
       "      <th>MC9</th>\n",
       "      <th>MC10</th>\n",
       "      <th>MC11</th>\n",
       "      <th>MC12</th>\n",
       "      <th>MC13</th>\n",
       "      <th>MC14</th>\n",
       "      <th>MC15</th>\n",
       "      <th>MC16</th>\n",
       "      <th>MC17</th>\n",
       "      <th>MC18</th>\n",
       "      <th>MC19</th>\n",
       "      <th>MC20</th>\n",
       "      <th>AllMC</th>\n",
       "      <th>gc_cat</th>\n",
       "      <th>gc_cat_label</th>\n",
       "      <th>agegrp</th>\n",
       "      <th>mc2_20</th>\n",
       "    </tr>\n",
       "  </thead>\n",
       "  <tbody>\n",
       "    <tr>\n",
       "      <th>0</th>\n",
       "      <td>F</td>\n",
       "      <td>N</td>\n",
       "      <td>N</td>\n",
       "      <td>PROBABLE CONGESTIVE HEART FAILURE    HOSPICE</td>\n",
       "      <td>I500</td>\n",
       "      <td>NaN</td>\n",
       "      <td>NaN</td>\n",
       "      <td>NaN</td>\n",
       "      <td>NaN</td>\n",
       "      <td>NaN</td>\n",
       "      <td>NaN</td>\n",
       "      <td>NaN</td>\n",
       "      <td>NaN</td>\n",
       "      <td>NaN</td>\n",
       "      <td>NaN</td>\n",
       "      <td>NaN</td>\n",
       "      <td>NaN</td>\n",
       "      <td>NaN</td>\n",
       "      <td>NaN</td>\n",
       "      <td>NaN</td>\n",
       "      <td>NaN</td>\n",
       "      <td>NaN</td>\n",
       "      <td>NaN</td>\n",
       "      <td>NaN</td>\n",
       "      <td>I500</td>\n",
       "      <td>2</td>\n",
       "      <td>2-Heart failure</td>\n",
       "      <td>80+ yrs</td>\n",
       "      <td></td>\n",
       "    </tr>\n",
       "    <tr>\n",
       "      <th>1</th>\n",
       "      <td>F</td>\n",
       "      <td>N</td>\n",
       "      <td>N</td>\n",
       "      <td>VENTRICULAR FIBRILLATION ACUTE MYOCARDIAL INFA...</td>\n",
       "      <td>I219</td>\n",
       "      <td>I10</td>\n",
       "      <td>I259</td>\n",
       "      <td>I490</td>\n",
       "      <td>I739</td>\n",
       "      <td>NaN</td>\n",
       "      <td>NaN</td>\n",
       "      <td>NaN</td>\n",
       "      <td>NaN</td>\n",
       "      <td>NaN</td>\n",
       "      <td>NaN</td>\n",
       "      <td>NaN</td>\n",
       "      <td>NaN</td>\n",
       "      <td>NaN</td>\n",
       "      <td>NaN</td>\n",
       "      <td>NaN</td>\n",
       "      <td>NaN</td>\n",
       "      <td>NaN</td>\n",
       "      <td>NaN</td>\n",
       "      <td>NaN</td>\n",
       "      <td>I219 I10 I259 I490 I739</td>\n",
       "      <td>0</td>\n",
       "      <td>0-No GC</td>\n",
       "      <td>80+ yrs</td>\n",
       "      <td>I10 I259 I490 I739</td>\n",
       "    </tr>\n",
       "    <tr>\n",
       "      <th>2</th>\n",
       "      <td>F</td>\n",
       "      <td>N</td>\n",
       "      <td>U</td>\n",
       "      <td>ALZHEIMER'S DEMENTIA</td>\n",
       "      <td>G309</td>\n",
       "      <td>NaN</td>\n",
       "      <td>NaN</td>\n",
       "      <td>NaN</td>\n",
       "      <td>NaN</td>\n",
       "      <td>NaN</td>\n",
       "      <td>NaN</td>\n",
       "      <td>NaN</td>\n",
       "      <td>NaN</td>\n",
       "      <td>NaN</td>\n",
       "      <td>NaN</td>\n",
       "      <td>NaN</td>\n",
       "      <td>NaN</td>\n",
       "      <td>NaN</td>\n",
       "      <td>NaN</td>\n",
       "      <td>NaN</td>\n",
       "      <td>NaN</td>\n",
       "      <td>NaN</td>\n",
       "      <td>NaN</td>\n",
       "      <td>NaN</td>\n",
       "      <td>G309</td>\n",
       "      <td>0</td>\n",
       "      <td>0-No GC</td>\n",
       "      <td>80+ yrs</td>\n",
       "      <td></td>\n",
       "    </tr>\n",
       "    <tr>\n",
       "      <th>3</th>\n",
       "      <td>M</td>\n",
       "      <td>A</td>\n",
       "      <td>N</td>\n",
       "      <td>ACUTE METHAMPHETAMINE INTOXICATION     TOXIC U...</td>\n",
       "      <td>X41</td>\n",
       "      <td>T436</td>\n",
       "      <td>T509</td>\n",
       "      <td>NaN</td>\n",
       "      <td>NaN</td>\n",
       "      <td>NaN</td>\n",
       "      <td>NaN</td>\n",
       "      <td>NaN</td>\n",
       "      <td>NaN</td>\n",
       "      <td>NaN</td>\n",
       "      <td>NaN</td>\n",
       "      <td>NaN</td>\n",
       "      <td>NaN</td>\n",
       "      <td>NaN</td>\n",
       "      <td>NaN</td>\n",
       "      <td>NaN</td>\n",
       "      <td>NaN</td>\n",
       "      <td>NaN</td>\n",
       "      <td>NaN</td>\n",
       "      <td>NaN</td>\n",
       "      <td>X41 T436 T509</td>\n",
       "      <td>0</td>\n",
       "      <td>0-No GC</td>\n",
       "      <td>40-49 yrs</td>\n",
       "      <td>T436 T509</td>\n",
       "    </tr>\n",
       "    <tr>\n",
       "      <th>4</th>\n",
       "      <td>M</td>\n",
       "      <td>N</td>\n",
       "      <td>Y</td>\n",
       "      <td>RESPIRATORY FAILURE SEPSIS AND PNEUMONIA STATU...</td>\n",
       "      <td>C099</td>\n",
       "      <td>E119</td>\n",
       "      <td>F101</td>\n",
       "      <td>F179</td>\n",
       "      <td>I251</td>\n",
       "      <td>I99</td>\n",
       "      <td>J958</td>\n",
       "      <td>J969</td>\n",
       "      <td>T814</td>\n",
       "      <td>Y839</td>\n",
       "      <td>NaN</td>\n",
       "      <td>NaN</td>\n",
       "      <td>NaN</td>\n",
       "      <td>NaN</td>\n",
       "      <td>NaN</td>\n",
       "      <td>NaN</td>\n",
       "      <td>NaN</td>\n",
       "      <td>NaN</td>\n",
       "      <td>NaN</td>\n",
       "      <td>NaN</td>\n",
       "      <td>C099 E119 F101 F179 I251 I99 J958 J969 T814 Y8...</td>\n",
       "      <td>0</td>\n",
       "      <td>0-No GC</td>\n",
       "      <td>60-69 yrs</td>\n",
       "      <td>E119 F101 F179 I251 I99 J958 J969 T814 Y839</td>\n",
       "    </tr>\n",
       "  </tbody>\n",
       "</table>\n",
       "</div>"
      ],
      "text/plain": [
       "  sex manner tobac                                             codlit  UCOD  \\\n",
       "0   F      N     N      PROBABLE CONGESTIVE HEART FAILURE    HOSPICE   I500   \n",
       "1   F      N     N  VENTRICULAR FIBRILLATION ACUTE MYOCARDIAL INFA...  I219   \n",
       "2   F      N     U                          ALZHEIMER'S DEMENTIA       G309   \n",
       "3   M      A     N  ACUTE METHAMPHETAMINE INTOXICATION     TOXIC U...   X41   \n",
       "4   M      N     Y  RESPIRATORY FAILURE SEPSIS AND PNEUMONIA STATU...  C099   \n",
       "\n",
       "    MC2   MC3   MC4   MC5  MC6   MC7   MC8   MC9  MC10 MC11 MC12 MC13 MC14  \\\n",
       "0   NaN   NaN   NaN   NaN  NaN   NaN   NaN   NaN   NaN  NaN  NaN  NaN  NaN   \n",
       "1   I10  I259  I490  I739  NaN   NaN   NaN   NaN   NaN  NaN  NaN  NaN  NaN   \n",
       "2   NaN   NaN   NaN   NaN  NaN   NaN   NaN   NaN   NaN  NaN  NaN  NaN  NaN   \n",
       "3  T436  T509   NaN   NaN  NaN   NaN   NaN   NaN   NaN  NaN  NaN  NaN  NaN   \n",
       "4  E119  F101  F179  I251  I99  J958  J969  T814  Y839  NaN  NaN  NaN  NaN   \n",
       "\n",
       "  MC15 MC16 MC17 MC18 MC19 MC20  \\\n",
       "0  NaN  NaN  NaN  NaN  NaN  NaN   \n",
       "1  NaN  NaN  NaN  NaN  NaN  NaN   \n",
       "2  NaN  NaN  NaN  NaN  NaN  NaN   \n",
       "3  NaN  NaN  NaN  NaN  NaN  NaN   \n",
       "4  NaN  NaN  NaN  NaN  NaN  NaN   \n",
       "\n",
       "                                               AllMC  gc_cat     gc_cat_label  \\\n",
       "0                            I500                          2  2-Heart failure   \n",
       "1             I219 I10 I259 I490 I739                      0          0-No GC   \n",
       "2                            G309                          0          0-No GC   \n",
       "3                     X41 T436 T509                        0          0-No GC   \n",
       "4  C099 E119 F101 F179 I251 I99 J958 J969 T814 Y8...       0          0-No GC   \n",
       "\n",
       "      agegrp                                       mc2_20  \n",
       "0    80+ yrs                                               \n",
       "1    80+ yrs                           I10 I259 I490 I739  \n",
       "2    80+ yrs                                               \n",
       "3  40-49 yrs                                    T436 T509  \n",
       "4  60-69 yrs  E119 F101 F179 I251 I99 J958 J969 T814 Y839  "
      ]
     },
     "execution_count": 8,
     "metadata": {},
     "output_type": "execute_result"
    }
   ],
   "source": [
    "mcvars = ['MC2','MC3','MC4','MC5','MC6','MC7','MC8','MC9','MC10','MC11','MC12','MC13','MC14',\n",
    "          'MC15','MC16','MC17','MC18','MC19', 'MC20']\n",
    "\n",
    "df['mc2_20'] = df[mcvars].apply(lambda x: ' '.join(x.dropna()), axis=1)\n",
    "\n",
    "df.head()"
   ]
  },
  {
   "cell_type": "code",
   "execution_count": 9,
   "metadata": {},
   "outputs": [
    {
     "data": {
      "text/plain": [
       "226996"
      ]
     },
     "execution_count": 9,
     "metadata": {},
     "output_type": "execute_result"
    }
   ],
   "source": [
    "len(df)"
   ]
  },
  {
   "cell_type": "markdown",
   "metadata": {},
   "source": [
    "**ATTACHING LABELS** The data frame consists of records with non-garbage underlying cause codes.  ICD-10 codes in the underlying cause variable are typically grouped together to more meaningful categories that are used to understand mortality patterns.  For example, while lung cancer deaths are assigned a code between C34.0 and C34.9 (based on the specific location of the cancer), typically, leading cause of death analyses will group deaths due to any cancer into the \"malignant neoplasm\" category which contains all codes from C00.0 through C97.9.\n",
    "\n",
    "In the next step, all deaths in the data frame will be labeled with one of ten causes of death that are leading causes in Washington State (and most of the United States). Together, these ten causes account for ___ % of all deaths in the state.  It is very likely that the poorly coded records will belong to one of these groups."
   ]
  },
  {
   "cell_type": "code",
   "execution_count": 10,
   "metadata": {},
   "outputs": [],
   "source": [
    "\n",
    "# all cancer (C00–C97)\n",
    "cancer = []\n",
    "\n",
    "for code in sre_yield.AllStrings(r'^C[0-8][0-9][0-9]{0,1}'):\n",
    "    cancer.append(code)\n",
    "    \n",
    "for code in sre_yield.AllStrings(r'^C9[0-7][0-9]{0,1}'):\n",
    "    cancer.append(code)\n",
    "\n",
    "# all heart disease (I00–I09,I11,I13,I20–I51)\n",
    " \n",
    "heart_disease = []\n",
    "\n",
    "for code in sre_yield.AllStrings(r'^I[00][0-9][0-9]{0,1}'):\n",
    "    heart_disease.append(code)\n",
    "\n",
    "for code in sre_yield.AllStrings(r'^I13[0-9]{0,1}'):\n",
    "    heart_disease.append(code)\n",
    "\n",
    "for code in sre_yield.AllStrings(r'^I[2-4][0-9][0-9]{0,1}'):\n",
    "    heart_disease.append(code)\n",
    "\n",
    "for code in sre_yield.AllStrings(r'^I51[0-9]{0.1}'):\n",
    "    heart_disease.append(code)\n",
    "\n",
    "# Cerebrovasular disease  (I60–I69)\n",
    "\n",
    "cerebrovascular_disease = []\n",
    "\n",
    "for code in sre_yield.AllStrings(r'^I6[0-9][0-9]{0,1}'):\n",
    "    cerebrovascular_disease.append(code)\n",
    "\n",
    "# Diabetes (E10–E14)\n",
    "\n",
    "diabetes = []\n",
    "\n",
    "for code in sre_yield.AllStrings(r'^E1[0-4][0-9]{0,1}'):\n",
    "    diabetes.append(code)\n",
    "    \n",
    "# Alzheimer's disease(G30)\n",
    "                                 \n",
    "alzheimers = []\n",
    "\n",
    "for code in sre_yield.AllStrings(r'^G30[0,1,8,9]{0,1}'):\n",
    "    alzheimers.append(code)\n",
    "    \n",
    "# Influenza and Pneumonia (J09–J18)\n",
    "    \n",
    "flu_pneumonia = []\n",
    "\n",
    "for code in sre_yield.AllStrings(r'^J09[0-1]{0,1}'):\n",
    "    flu_pneumonia.append(code)\n",
    "    \n",
    "for code in sre_yield.AllStrings(r'^J1[0-8][0-9]{0,1}'):\n",
    "    flu_pneumonia.append(code)\n",
    "    \n",
    "    \n",
    "# chronic lower respiratory disease (J40–J47)\n",
    "\n",
    "clrd = []\n",
    "\n",
    "for code in sre_yield.AllStrings(r'^J4[0-7][0-9]{0,1}'):\n",
    "    clrd.append(code)\n",
    "    \n",
    "# Chronic liver disease and cirrhosis (K70,K73–K74)    \n",
    "\n",
    "liver_dis = []\n",
    "\n",
    "for code in sre_yield.AllStrings(r'^K70[0-9]{0,1}'):\n",
    "    liver_dis.append(code)\n",
    "\n",
    "for code in sre_yield.AllStrings(r'^K7[3-4][0-9]{0,1}'):\n",
    "    liver_dis.append(code)\n",
    "        \n",
    "# Suicide (*U03,X60–X84,Y87.0)\n",
    "suicide = []\n",
    "\n",
    "for code in sre_yield.AllStrings(r'^U03(0-9)?'):\n",
    "    suicide.append(code)\n",
    "\n",
    "for code in sre_yield.AllStrings(r'^X[6-7][0-9](0-9)?'):\n",
    "    suicide.append(code)\n",
    "    \n",
    "for code in sre_yield.AllStrings(r'^X8[0-4](0-9)?'):\n",
    "    suicide.append(code)\n",
    "    \n",
    "for code in sre_yield.AllStrings(r'^Y870'):\n",
    "    suicide.append(code)     \n",
    "                                 \n",
    "\n",
    "#Unintentional injury (V01–X59,Y85–Y86)\n",
    "\n",
    "accident = []\n",
    "\n",
    "for code in sre_yield.AllStrings(r'^V[0-9][0-9](0-9)?'):\n",
    "    accident.append(code)\n",
    "    \n",
    "for code in sre_yield.AllStrings(r'^W[0-9][0-0](0-9)?'):\n",
    "    accident.append(code)\n",
    "\n",
    "for code in sre_yield.AllStrings(r'^X[0-5][0-9](0-9)?'):\n",
    "    accident.append(code)    \n",
    "\n",
    "        "
   ]
  },
  {
   "cell_type": "code",
   "execution_count": 11,
   "metadata": {},
   "outputs": [],
   "source": [
    "leading_cause_dict = {1: cancer,\n",
    "                      2: heart_disease,\n",
    "                      3: cerebrovascular_disease,\n",
    "                      4: diabetes,\n",
    "                      5: alzheimers,\n",
    "                      6: flu_pneumonia,\n",
    "                      7: clrd,\n",
    "                      8: liver_dis,\n",
    "                      9: suicide,\n",
    "                      10: accident\n",
    "                     }"
   ]
  },
  {
   "cell_type": "code",
   "execution_count": 12,
   "metadata": {},
   "outputs": [],
   "source": [
    "lcod_dict_rev = {v: k for k in leading_cause_dict for v in leading_cause_dict[k]}\n",
    "\n",
    "#the above is functional equivalent of:\n",
    "#lcod_dict_rev = {}\n",
    "#for key in leading_cause_dict:\n",
    "#    for value in leading_cause_dict[key]:\n",
    "#        gcdict_rev[value] = key"
   ]
  },
  {
   "cell_type": "code",
   "execution_count": 13,
   "metadata": {},
   "outputs": [],
   "source": [
    "lcod_label_dict = {1: 'Cancer',\n",
    "                   2: 'Heart disease',\n",
    "                   3: 'Cerebrovascular disease',\n",
    "                   4: 'Diabetes',\n",
    "                   5: 'Alzheimers',\n",
    "                   6: 'Influenza pneumonia',\n",
    "                   7: 'Chronic lower resp. dis.',\n",
    "                   8: 'Liver disease',\n",
    "                   9: 'Suicide',\n",
    "                   10: 'Unintentional injury',\n",
    "                   11: 'Other'}"
   ]
  },
  {
   "cell_type": "code",
   "execution_count": 14,
   "metadata": {},
   "outputs": [],
   "source": [
    "df['leading_cause'] = df['UCOD'].map(lcod_dict_rev).fillna(11).astype(int)\n",
    "df['lcod_labels'] = df['leading_cause'].map(lcod_label_dict)  "
   ]
  },
  {
   "cell_type": "code",
   "execution_count": 15,
   "metadata": {},
   "outputs": [
    {
     "data": {
      "text/plain": [
       "Other                       73297\n",
       "Cancer                      51256\n",
       "Heart disease               38612\n",
       "Alzheimers                  14522\n",
       "Chronic lower resp. dis.    12287\n",
       "Cerebrovascular disease     11893\n",
       "Diabetes                     7141\n",
       "Unintentional injury         5372\n",
       "Suicide                      4969\n",
       "Liver disease                3982\n",
       "Influenza pneumonia          3665\n",
       "Name: lcod_labels, dtype: int64"
      ]
     },
     "execution_count": 15,
     "metadata": {},
     "output_type": "execute_result"
    }
   ],
   "source": [
    "df.lcod_labels.value_counts()"
   ]
  },
  {
   "cell_type": "code",
   "execution_count": 16,
   "metadata": {},
   "outputs": [
    {
     "data": {
      "text/plain": [
       "Other                       32.3\n",
       "Cancer                      22.6\n",
       "Heart disease               17.0\n",
       "Alzheimers                   6.4\n",
       "Chronic lower resp. dis.     5.4\n",
       "Cerebrovascular disease      5.2\n",
       "Diabetes                     3.1\n",
       "Unintentional injury         2.4\n",
       "Suicide                      2.2\n",
       "Liver disease                1.8\n",
       "Influenza pneumonia          1.6\n",
       "Name: lcod_labels, dtype: float64"
      ]
     },
     "execution_count": 16,
     "metadata": {},
     "output_type": "execute_result"
    }
   ],
   "source": [
    "round(df.lcod_labels.value_counts(normalize=True)*100,1)"
   ]
  },
  {
   "cell_type": "code",
   "execution_count": 17,
   "metadata": {},
   "outputs": [
    {
     "data": {
      "text/plain": [
       "0-No GC                         211923\n",
       "6-Ill-defined cardiovascular      3868\n",
       "5-Ill-defined                     2973\n",
       "2-Heart failure                   2767\n",
       "3-Ill-defined cancer              2376\n",
       "1-Septicemia                      2149\n",
       "4-Volume depletion                 534\n",
       "8-Undetermined intent              368\n",
       "9-Ill-defined infectious            38\n",
       "Name: gc_cat_label, dtype: int64"
      ]
     },
     "execution_count": 17,
     "metadata": {},
     "output_type": "execute_result"
    }
   ],
   "source": [
    "df.gc_cat_label.value_counts()"
   ]
  },
  {
   "cell_type": "markdown",
   "metadata": {},
   "source": [
    "**Remove rows with missing values in MC2 - MC20** as these will not contribute much when training supervised models."
   ]
  },
  {
   "cell_type": "code",
   "execution_count": 18,
   "metadata": {},
   "outputs": [
    {
     "data": {
      "text/plain": [
       "188306"
      ]
     },
     "execution_count": 18,
     "metadata": {},
     "output_type": "execute_result"
    }
   ],
   "source": [
    "df.dropna(subset = [\"MC2\"], inplace=True)\n",
    "len(df)"
   ]
  },
  {
   "cell_type": "code",
   "execution_count": 19,
   "metadata": {},
   "outputs": [
    {
     "data": {
      "text/html": [
       "<div>\n",
       "<style scoped>\n",
       "    .dataframe tbody tr th:only-of-type {\n",
       "        vertical-align: middle;\n",
       "    }\n",
       "\n",
       "    .dataframe tbody tr th {\n",
       "        vertical-align: top;\n",
       "    }\n",
       "\n",
       "    .dataframe thead th {\n",
       "        text-align: right;\n",
       "    }\n",
       "</style>\n",
       "<table border=\"1\" class=\"dataframe\">\n",
       "  <thead>\n",
       "    <tr style=\"text-align: right;\">\n",
       "      <th></th>\n",
       "      <th>sex</th>\n",
       "      <th>manner</th>\n",
       "      <th>tobac</th>\n",
       "      <th>codlit</th>\n",
       "      <th>UCOD</th>\n",
       "      <th>MC2</th>\n",
       "      <th>MC3</th>\n",
       "      <th>MC4</th>\n",
       "      <th>MC5</th>\n",
       "      <th>MC6</th>\n",
       "      <th>MC7</th>\n",
       "      <th>MC8</th>\n",
       "      <th>MC9</th>\n",
       "      <th>MC10</th>\n",
       "      <th>MC11</th>\n",
       "      <th>MC12</th>\n",
       "      <th>MC13</th>\n",
       "      <th>MC14</th>\n",
       "      <th>MC15</th>\n",
       "      <th>MC16</th>\n",
       "      <th>MC17</th>\n",
       "      <th>MC18</th>\n",
       "      <th>MC19</th>\n",
       "      <th>MC20</th>\n",
       "      <th>AllMC</th>\n",
       "      <th>gc_cat</th>\n",
       "      <th>gc_cat_label</th>\n",
       "      <th>agegrp</th>\n",
       "      <th>mc2_20</th>\n",
       "      <th>leading_cause</th>\n",
       "      <th>lcod_labels</th>\n",
       "    </tr>\n",
       "  </thead>\n",
       "  <tbody>\n",
       "    <tr>\n",
       "      <th>1</th>\n",
       "      <td>F</td>\n",
       "      <td>N</td>\n",
       "      <td>N</td>\n",
       "      <td>VENTRICULAR FIBRILLATION ACUTE MYOCARDIAL INFA...</td>\n",
       "      <td>I219</td>\n",
       "      <td>I10</td>\n",
       "      <td>I259</td>\n",
       "      <td>I490</td>\n",
       "      <td>I739</td>\n",
       "      <td>NaN</td>\n",
       "      <td>NaN</td>\n",
       "      <td>NaN</td>\n",
       "      <td>NaN</td>\n",
       "      <td>NaN</td>\n",
       "      <td>NaN</td>\n",
       "      <td>NaN</td>\n",
       "      <td>NaN</td>\n",
       "      <td>NaN</td>\n",
       "      <td>NaN</td>\n",
       "      <td>NaN</td>\n",
       "      <td>NaN</td>\n",
       "      <td>NaN</td>\n",
       "      <td>NaN</td>\n",
       "      <td>NaN</td>\n",
       "      <td>I219 I10 I259 I490 I739</td>\n",
       "      <td>0</td>\n",
       "      <td>0-No GC</td>\n",
       "      <td>80+ yrs</td>\n",
       "      <td>I10 I259 I490 I739</td>\n",
       "      <td>2</td>\n",
       "      <td>Heart disease</td>\n",
       "    </tr>\n",
       "    <tr>\n",
       "      <th>3</th>\n",
       "      <td>M</td>\n",
       "      <td>A</td>\n",
       "      <td>N</td>\n",
       "      <td>ACUTE METHAMPHETAMINE INTOXICATION     TOXIC U...</td>\n",
       "      <td>X41</td>\n",
       "      <td>T436</td>\n",
       "      <td>T509</td>\n",
       "      <td>NaN</td>\n",
       "      <td>NaN</td>\n",
       "      <td>NaN</td>\n",
       "      <td>NaN</td>\n",
       "      <td>NaN</td>\n",
       "      <td>NaN</td>\n",
       "      <td>NaN</td>\n",
       "      <td>NaN</td>\n",
       "      <td>NaN</td>\n",
       "      <td>NaN</td>\n",
       "      <td>NaN</td>\n",
       "      <td>NaN</td>\n",
       "      <td>NaN</td>\n",
       "      <td>NaN</td>\n",
       "      <td>NaN</td>\n",
       "      <td>NaN</td>\n",
       "      <td>NaN</td>\n",
       "      <td>X41 T436 T509</td>\n",
       "      <td>0</td>\n",
       "      <td>0-No GC</td>\n",
       "      <td>40-49 yrs</td>\n",
       "      <td>T436 T509</td>\n",
       "      <td>10</td>\n",
       "      <td>Unintentional injury</td>\n",
       "    </tr>\n",
       "    <tr>\n",
       "      <th>4</th>\n",
       "      <td>M</td>\n",
       "      <td>N</td>\n",
       "      <td>Y</td>\n",
       "      <td>RESPIRATORY FAILURE SEPSIS AND PNEUMONIA STATU...</td>\n",
       "      <td>C099</td>\n",
       "      <td>E119</td>\n",
       "      <td>F101</td>\n",
       "      <td>F179</td>\n",
       "      <td>I251</td>\n",
       "      <td>I99</td>\n",
       "      <td>J958</td>\n",
       "      <td>J969</td>\n",
       "      <td>T814</td>\n",
       "      <td>Y839</td>\n",
       "      <td>NaN</td>\n",
       "      <td>NaN</td>\n",
       "      <td>NaN</td>\n",
       "      <td>NaN</td>\n",
       "      <td>NaN</td>\n",
       "      <td>NaN</td>\n",
       "      <td>NaN</td>\n",
       "      <td>NaN</td>\n",
       "      <td>NaN</td>\n",
       "      <td>NaN</td>\n",
       "      <td>C099 E119 F101 F179 I251 I99 J958 J969 T814 Y8...</td>\n",
       "      <td>0</td>\n",
       "      <td>0-No GC</td>\n",
       "      <td>60-69 yrs</td>\n",
       "      <td>E119 F101 F179 I251 I99 J958 J969 T814 Y839</td>\n",
       "      <td>1</td>\n",
       "      <td>Cancer</td>\n",
       "    </tr>\n",
       "    <tr>\n",
       "      <th>5</th>\n",
       "      <td>M</td>\n",
       "      <td>N</td>\n",
       "      <td>N</td>\n",
       "      <td>EMBOLIC STROKE HYPERCOAGULABLE STATE NON SMALL...</td>\n",
       "      <td>I634</td>\n",
       "      <td>C349</td>\n",
       "      <td>C831</td>\n",
       "      <td>D689</td>\n",
       "      <td>NaN</td>\n",
       "      <td>NaN</td>\n",
       "      <td>NaN</td>\n",
       "      <td>NaN</td>\n",
       "      <td>NaN</td>\n",
       "      <td>NaN</td>\n",
       "      <td>NaN</td>\n",
       "      <td>NaN</td>\n",
       "      <td>NaN</td>\n",
       "      <td>NaN</td>\n",
       "      <td>NaN</td>\n",
       "      <td>NaN</td>\n",
       "      <td>NaN</td>\n",
       "      <td>NaN</td>\n",
       "      <td>NaN</td>\n",
       "      <td>NaN</td>\n",
       "      <td>I634 C349 C831 D689</td>\n",
       "      <td>0</td>\n",
       "      <td>0-No GC</td>\n",
       "      <td>60-69 yrs</td>\n",
       "      <td>C349 C831 D689</td>\n",
       "      <td>3</td>\n",
       "      <td>Cerebrovascular disease</td>\n",
       "    </tr>\n",
       "    <tr>\n",
       "      <th>6</th>\n",
       "      <td>M</td>\n",
       "      <td>N</td>\n",
       "      <td>N</td>\n",
       "      <td>CARDIOPULMONARY ARREST HYDROCEPHALUS AND STATU...</td>\n",
       "      <td>G919</td>\n",
       "      <td>D429</td>\n",
       "      <td>G419</td>\n",
       "      <td>I469</td>\n",
       "      <td>I500</td>\n",
       "      <td>I64</td>\n",
       "      <td>NaN</td>\n",
       "      <td>NaN</td>\n",
       "      <td>NaN</td>\n",
       "      <td>NaN</td>\n",
       "      <td>NaN</td>\n",
       "      <td>NaN</td>\n",
       "      <td>NaN</td>\n",
       "      <td>NaN</td>\n",
       "      <td>NaN</td>\n",
       "      <td>NaN</td>\n",
       "      <td>NaN</td>\n",
       "      <td>NaN</td>\n",
       "      <td>NaN</td>\n",
       "      <td>NaN</td>\n",
       "      <td>G919 D429 G419 I469 I500 I64</td>\n",
       "      <td>0</td>\n",
       "      <td>0-No GC</td>\n",
       "      <td>50-59 yrs</td>\n",
       "      <td>D429 G419 I469 I500 I64</td>\n",
       "      <td>11</td>\n",
       "      <td>Other</td>\n",
       "    </tr>\n",
       "  </tbody>\n",
       "</table>\n",
       "</div>"
      ],
      "text/plain": [
       "  sex manner tobac                                             codlit  UCOD  \\\n",
       "1   F      N     N  VENTRICULAR FIBRILLATION ACUTE MYOCARDIAL INFA...  I219   \n",
       "3   M      A     N  ACUTE METHAMPHETAMINE INTOXICATION     TOXIC U...   X41   \n",
       "4   M      N     Y  RESPIRATORY FAILURE SEPSIS AND PNEUMONIA STATU...  C099   \n",
       "5   M      N     N  EMBOLIC STROKE HYPERCOAGULABLE STATE NON SMALL...  I634   \n",
       "6   M      N     N  CARDIOPULMONARY ARREST HYDROCEPHALUS AND STATU...  G919   \n",
       "\n",
       "    MC2   MC3   MC4   MC5  MC6   MC7   MC8   MC9  MC10 MC11 MC12 MC13 MC14  \\\n",
       "1   I10  I259  I490  I739  NaN   NaN   NaN   NaN   NaN  NaN  NaN  NaN  NaN   \n",
       "3  T436  T509   NaN   NaN  NaN   NaN   NaN   NaN   NaN  NaN  NaN  NaN  NaN   \n",
       "4  E119  F101  F179  I251  I99  J958  J969  T814  Y839  NaN  NaN  NaN  NaN   \n",
       "5  C349  C831  D689   NaN  NaN   NaN   NaN   NaN   NaN  NaN  NaN  NaN  NaN   \n",
       "6  D429  G419  I469  I500  I64   NaN   NaN   NaN   NaN  NaN  NaN  NaN  NaN   \n",
       "\n",
       "  MC15 MC16 MC17 MC18 MC19 MC20  \\\n",
       "1  NaN  NaN  NaN  NaN  NaN  NaN   \n",
       "3  NaN  NaN  NaN  NaN  NaN  NaN   \n",
       "4  NaN  NaN  NaN  NaN  NaN  NaN   \n",
       "5  NaN  NaN  NaN  NaN  NaN  NaN   \n",
       "6  NaN  NaN  NaN  NaN  NaN  NaN   \n",
       "\n",
       "                                               AllMC  gc_cat gc_cat_label  \\\n",
       "1             I219 I10 I259 I490 I739                      0      0-No GC   \n",
       "3                     X41 T436 T509                        0      0-No GC   \n",
       "4  C099 E119 F101 F179 I251 I99 J958 J969 T814 Y8...       0      0-No GC   \n",
       "5                I634 C349 C831 D689                       0      0-No GC   \n",
       "6         G919 D429 G419 I469 I500 I64                     0      0-No GC   \n",
       "\n",
       "      agegrp                                       mc2_20  leading_cause  \\\n",
       "1    80+ yrs                           I10 I259 I490 I739              2   \n",
       "3  40-49 yrs                                    T436 T509             10   \n",
       "4  60-69 yrs  E119 F101 F179 I251 I99 J958 J969 T814 Y839              1   \n",
       "5  60-69 yrs                               C349 C831 D689              3   \n",
       "6  50-59 yrs                      D429 G419 I469 I500 I64             11   \n",
       "\n",
       "               lcod_labels  \n",
       "1            Heart disease  \n",
       "3     Unintentional injury  \n",
       "4                   Cancer  \n",
       "5  Cerebrovascular disease  \n",
       "6                    Other  "
      ]
     },
     "execution_count": 19,
     "metadata": {},
     "output_type": "execute_result"
    }
   ],
   "source": [
    "df.head()"
   ]
  },
  {
   "cell_type": "markdown",
   "metadata": {},
   "source": [
    "The dataframe originally consisted of 226,996 records but after removing rows with missing values in these multiple cause fields the dataset is reduced to 177,362 rows. This means that for the dropped rows the medical certifier reported only one condition leading to the cause of death."
   ]
  },
  {
   "cell_type": "markdown",
   "metadata": {},
   "source": [
    "**PREPROCESS CAUSE OF DEATH ICD 10 CODE FIELDS**"
   ]
  },
  {
   "cell_type": "code",
   "execution_count": 20,
   "metadata": {},
   "outputs": [],
   "source": [
    "## call stored object 'gc_all' created in 2_PrepData_ICD10.ipynb.\n",
    "%store -r gc_all \n",
    "%store -r g3"
   ]
  },
  {
   "cell_type": "code",
   "execution_count": 21,
   "metadata": {},
   "outputs": [],
   "source": [
    "#cancer_gcs = '|'.join(g3)\n",
    "#mask = df['mc2_20'].str.contains(cancer_gcs)\n",
    "#cancer_df = df.loc[mask, : ]\n",
    "#cancer_df = cancer_df.loc[cancer_df['lcod_labels']=='Cancer', ['lcod_labels', 'mc2_20', 'gc_cat', 'gc_cat_label', 'UCOD', 'agegrp', 'sex', 'tobac','manner']]"
   ]
  },
  {
   "cell_type": "code",
   "execution_count": 22,
   "metadata": {},
   "outputs": [],
   "source": [
    "#cancer_df.head(10)"
   ]
  },
  {
   "cell_type": "code",
   "execution_count": 23,
   "metadata": {},
   "outputs": [],
   "source": [
    "#len(cancer_df)"
   ]
  },
  {
   "cell_type": "code",
   "execution_count": 24,
   "metadata": {},
   "outputs": [],
   "source": [
    "# Keep records with valid underlying cause code and selected variables\n",
    "\n",
    "selectedcols = ['lcod_labels', 'AllMC','mc2_20', 'agegrp', 'sex', 'tobac','manner']\n",
    "df = df.loc[df['gc_cat']==0, selectedcols]"
   ]
  },
  {
   "cell_type": "code",
   "execution_count": 25,
   "metadata": {},
   "outputs": [],
   "source": [
    "df['lcod_id'] = df['lcod_labels'].factorize()[0]"
   ]
  },
  {
   "cell_type": "code",
   "execution_count": 26,
   "metadata": {},
   "outputs": [
    {
     "data": {
      "image/png": "[encoded data removed]",
      "text/plain": [
       "<Figure size 432x288 with 1 Axes>"
      ]
     },
     "metadata": {
      "needs_background": "light"
     },
     "output_type": "display_data"
    }
   ],
   "source": [
    "df.groupby('lcod_labels').lcod_id.count().plot.bar(ylim=0)\n",
    "plt.show()"
   ]
  },
  {
   "cell_type": "markdown",
   "metadata": {},
   "source": [
    "**Cancer and heart disease deaths dominate** in the dataset of records with valid (non-garbage) underlying cause codes.  Chronic lower respiratory disease, Alzheimer's disease, and cerebrovascular disease are also among the top five most common causes of death in Washington State in this period. The catchall category of 'Other' causes of death encompasses a variety of diseases and conditions that together account for 31% of the deaths. "
   ]
  },
  {
   "cell_type": "code",
   "execution_count": 27,
   "metadata": {},
   "outputs": [],
   "source": [
    "## call stored object 'gc_all' created in 2_PrepData_ICD10.ipynb.\n",
    "%store -r gc_all  "
   ]
  },
  {
   "cell_type": "code",
   "execution_count": 28,
   "metadata": {},
   "outputs": [
    {
     "data": {
      "text/plain": [
       "(177362, 983)"
      ]
     },
     "execution_count": 28,
     "metadata": {},
     "output_type": "execute_result"
    }
   ],
   "source": [
    "#vectorize ICD-10 codes with tf-idf including all garbage codes\n",
    "\n",
    "tfidf = TfidfVectorizer(sublinear_tf=True, min_df=100, lowercase=False, ngram_range=(1, 2))\n",
    "\n",
    "features = tfidf.fit_transform(df.mc2_20).toarray()\n",
    "labels = df.lcod_id\n",
    "features.shape"
   ]
  },
  {
   "cell_type": "code",
   "execution_count": 29,
   "metadata": {},
   "outputs": [],
   "source": [
    "#create dictionaries\n",
    "\n",
    "lcod_df = df[[ 'lcod_labels','lcod_id']].drop_duplicates().sort_values('lcod_id')\n",
    "cause_to_id = dict(lcod_df.values)\n",
    "id_to_cause = dict(lcod_df[['lcod_id', 'lcod_labels']].values)\n"
   ]
  },
  {
   "cell_type": "markdown",
   "metadata": {},
   "source": [
    "**CHI SQUARE ANALYSIS TO EXAMINE CORRELATION BETWEEN ICD-10 CODES (UNIGRAMS AND BIGRAMS) AND LEADING CAUSE OF DEATH CATEGORIES**"
   ]
  },
  {
   "cell_type": "code",
   "execution_count": 30,
   "metadata": {},
   "outputs": [
    {
     "name": "stdout",
     "output_type": "stream",
     "text": [
      "## 'Alzheimers':\n",
      " **Most correlated UNIGRAMS: \n",
      ". R53\n",
      ".R628\n",
      " **Most correlated BIGRAMS: \n",
      ". J961 R092\n",
      ".J690 R13\n",
      "## 'Cancer':\n",
      " **Most correlated UNIGRAMS: \n",
      ". C787\n",
      ".F179\n",
      " **Most correlated BIGRAMS: \n",
      ". C787 C795\n",
      ".C780 C787\n",
      "## 'Cerebrovascular disease':\n",
      " **Most correlated UNIGRAMS: \n",
      ". G935\n",
      ".I10\n",
      " **Most correlated BIGRAMS: \n",
      ". I10 I48\n",
      ".G935 I10\n",
      "## 'Chronic lower resp. dis.':\n",
      " **Most correlated UNIGRAMS: \n",
      ". J961\n",
      ".F179\n",
      " **Most correlated BIGRAMS: \n",
      ". F179 J960\n",
      ".F179 J969\n",
      "## 'Diabetes':\n",
      " **Most correlated UNIGRAMS: \n",
      ". I251\n",
      ".I219\n",
      " **Most correlated BIGRAMS: \n",
      ". I219 I251\n",
      ".I10 I219\n",
      "## 'Heart disease':\n",
      " **Most correlated UNIGRAMS: \n",
      ". R570\n",
      ".I500\n",
      " **Most correlated BIGRAMS: \n",
      ". I500 J449\n",
      ".I48 I500\n",
      "## 'Influenza pneumonia':\n",
      " **Most correlated UNIGRAMS: \n",
      ". J80\n",
      ".A419\n",
      " **Most correlated BIGRAMS: \n",
      ". J80 J960\n",
      ".A419 J960\n",
      "## 'Liver disease':\n",
      " **Most correlated UNIGRAMS: \n",
      ". K767\n",
      ".K729\n",
      " **Most correlated BIGRAMS: \n",
      ". J969 K729\n",
      ".K729 N179\n",
      "## 'Other':\n",
      " **Most correlated UNIGRAMS: \n",
      ". S099\n",
      ".F179\n",
      " **Most correlated BIGRAMS: \n",
      ". T019 T141\n",
      ".S065 S099\n",
      "## 'Suicide':\n",
      " **Most correlated UNIGRAMS: \n",
      ". T71\n",
      ".S019\n",
      " **Most correlated BIGRAMS: \n",
      ". G931 T71\n",
      ".S019 T141\n",
      "## 'Unintentional injury':\n",
      " **Most correlated UNIGRAMS: \n",
      ". T436\n",
      ".T509\n",
      " **Most correlated BIGRAMS: \n",
      ". T401 T406\n",
      ".T436 T509\n"
     ]
    }
   ],
   "source": [
    "# find ICD 10 codes most correlated with each cause of death\n",
    "\n",
    "from sklearn.feature_selection import chi2\n",
    "\n",
    "N=2\n",
    "for lcod_labels, lcod_id in sorted(cause_to_id.items()):\n",
    "    features_chi2 = chi2(features, labels == lcod_id)\n",
    "    indices = np.argsort(features_chi2[0])\n",
    "    feature_names = np.array(tfidf.get_feature_names())[indices]\n",
    "    unigrams = [v for v in feature_names if len(v.split(' ')) ==1]\n",
    "    bigrams = [v for v in feature_names if len(v.split(' '))==2]\n",
    "    print(\"## '{}':\".format(lcod_labels))\n",
    "    print(\" **Most correlated UNIGRAMS: \\n. {}\".format('\\n.'.join(unigrams[-N:])))\n",
    "    print(\" **Most correlated BIGRAMS: \\n. {}\".format('\\n.'.join(bigrams[-N:])))\n"
   ]
  },
  {
   "cell_type": "markdown",
   "metadata": {},
   "source": [
    "Based on initial examination, there appears to be good correlation between ICD-10 code and leading cause of death.  The ICD-10 code unigrams and bigrams are appropriately matched to each of the cause of death categories."
   ]
  },
  {
   "cell_type": "markdown",
   "metadata": {},
   "source": [
    "#### Multnomial Naive Bayes Classifier"
   ]
  },
  {
   "cell_type": "markdown",
   "metadata": {},
   "source": [
    "The text data used to train this classifier is in the column called \"mc2_20\" which consists of a concatenation of all ICD-10 codes in positions MC2 through MC20.  'mc2_20' does not include MC1 which is always populated with the underlying cause ICD-10 code.  The reason for excluding the underlying cause code is to see how well the remaining multiple cause codes can predict the leading cause of death category to which the observation belongs. Providing MC1 to train the model would be similar to providing the labels as one of the training features."
   ]
  },
  {
   "cell_type": "code",
   "execution_count": 31,
   "metadata": {},
   "outputs": [],
   "source": [
    "# train MNB model and predict labels in test data\n",
    "\n",
    "Xtrain, Xtest, ytrain, ytest = train_test_split(df['mc2_20'],df['lcod_id'], \n",
    "                                                test_size=0.3, \n",
    "                                                random_state = 77)\n",
    "\n",
    "\n",
    "tfidf_vect = TfidfVectorizer(sublinear_tf=True, min_df=100, lowercase=False, ngram_range=(1, 2))\n",
    "tfidf_vect.fit(df['mc2_20'])\n",
    "\n",
    "X_train_tfidf = tfidf_vect.transform(Xtrain)\n",
    "X_test_tfidf = tfidf_vect.transform(Xtest)\n",
    "\n",
    "mnb = MultinomialNB()\n",
    "mnb_clf = mnb.fit(X_train_tfidf, ytrain)\n",
    "\n",
    "ypred = mnb_clf.predict(X_test_tfidf)"
   ]
  },
  {
   "cell_type": "code",
   "execution_count": 32,
   "metadata": {},
   "outputs": [
    {
     "name": "stdout",
     "output_type": "stream",
     "text": [
      "Multinomial Naive Bayes classifier accuracy: 53.8 %\n"
     ]
    }
   ],
   "source": [
    "# check accuracy of MNB model\n",
    "\n",
    "print('Multinomial Naive Bayes classifier accuracy:', \n",
    "      round(accuracy_score(ytest, ypred)*100,1),'%')"
   ]
  },
  {
   "cell_type": "markdown",
   "metadata": {},
   "source": [
    "Multnimoial Naive Bayes classifier only had an accuracy of 53.8% in classifying records based on muliple cause codes into one of 10 cause of death groups."
   ]
  },
  {
   "cell_type": "markdown",
   "metadata": {},
   "source": [
    "#### Linear Support Vector Machine"
   ]
  },
  {
   "cell_type": "markdown",
   "metadata": {},
   "source": [
    "Linear support vector classifier\n",
    "- garbage codes left intact\n",
    "- all cause of death categories"
   ]
  },
  {
   "cell_type": "code",
   "execution_count": 33,
   "metadata": {},
   "outputs": [],
   "source": [
    "## Algorithm: Support Vector Machine\n",
    "\n",
    "lin_svc = svm.LinearSVC()\n",
    "lin_svc.fit(X_train_tfidf, ytrain)\n",
    "\n",
    "SVC_prediction = lin_svc.predict(X_test_tfidf)"
   ]
  },
  {
   "cell_type": "code",
   "execution_count": 34,
   "metadata": {},
   "outputs": [
    {
     "name": "stdout",
     "output_type": "stream",
     "text": [
      "SVM accuracy score: 55.5 %\n"
     ]
    }
   ],
   "source": [
    "print(\"SVM accuracy score:\", round(accuracy_score(SVC_prediction, ytest)*100,1), \"%\")"
   ]
  },
  {
   "cell_type": "markdown",
   "metadata": {},
   "source": [
    "The accuracy of support vector machine algorithm is not much better than the multinomial Naive Bayes model trained above to classify deaths into 10 cause of death groups."
   ]
  },
  {
   "cell_type": "code",
   "execution_count": 35,
   "metadata": {},
   "outputs": [
    {
     "data": {
      "image/png": "[encoded data removed]",
      "text/plain": [
       "<Figure size 720x576 with 2 Axes>"
      ]
     },
     "metadata": {
      "needs_background": "light"
     },
     "output_type": "display_data"
    }
   ],
   "source": [
    "from sklearn.metrics import confusion_matrix\n",
    "\n",
    "conf_mat = confusion_matrix(ytest, SVC_prediction)\n",
    "fig, ax = plt.subplots(figsize=(10,8))\n",
    "sns.heatmap(conf_mat, annot=True, fmt='g',\n",
    "           xticklabels = lcod_df.lcod_labels.values,\n",
    "           yticklabels = lcod_df.lcod_labels.values)\n",
    "plt.ylabel('Actual')\n",
    "plt.xlabel('Predicted')\n",
    "plt.show()\n"
   ]
  },
  {
   "cell_type": "markdown",
   "metadata": {},
   "source": [
    "The confusion matrix suggests that when records are misclassified by this model they are more likely to be classified as 'other' especially when the true label is either 'cancer' or 'heart disease'.  Conversely, when the actual class is other, there is a high likelihood that the record will be misclassified as 'other'.\n",
    "\n",
    "These results suggest that the 'other' category needs to be further broken out into additional cause of death groups or reapportioned to the remaining categories so that it isn't the largest single category of the ones listed in the heat map above."
   ]
  },
  {
   "cell_type": "markdown",
   "metadata": {},
   "source": [
    "**TRAINING A ONE VS. ALL CLASSIFIER FOR EACH OF THE 5 LEADING CAUSES OF DEATH**\n",
    "\n",
    "In the previous attempts, the algorithms were trained as multi-class text classifiers.  In the following attempts I will build a 'one vs. all' approach with both Multinomial Naive Bayes and SVM models using two classes only.  The classes will be the selected leading cause vs. all other causes of deaths.  Again, no garbage codes will be removed in the first attempt."
   ]
  },
  {
   "cell_type": "code",
   "execution_count": 36,
   "metadata": {},
   "outputs": [],
   "source": [
    "def classify_oneVall(df):\n",
    "    \n",
    "    Lcods = ['Cancer','Heart disease','Alzheimers','Cerebrovascular disease', 'Diabetes', 'Chronic lower resp. dis.']\n",
    "    Models = [MultinomialNB, LinearSVC]\n",
    "    \n",
    "    for lcod in Lcods:\n",
    "  \n",
    "        df[lcod] = 0\n",
    "        df.loc[df['lcod_labels']==lcod, lcod]=1\n",
    "    \n",
    "        TrainX, TestX, train_y, test_y = train_test_split(df['mc2_20'], df[lcod],\n",
    "                                                                           test_size=0.3,\n",
    "                                                                           random_state=7)\n",
    "        tfidf_vect = TfidfVectorizer(sublinear_tf=True,\n",
    "                                         min_df=10, \n",
    "                                         lowercase=False, \n",
    "                                         ngram_range=(1, 2))\n",
    "            \n",
    "        tfidf_vect.fit(df['mc2_20'])\n",
    "        TrainX_tfidf = tfidf_vect.transform(TrainX)\n",
    "        TestX_tfidf = tfidf_vect.transform(TestX)\n",
    "        \n",
    "        for model in Models:          \n",
    "            clf = model()\n",
    "            clf.fit(TrainX_tfidf, train_y)\n",
    "\n",
    "            pred_clf = clf.predict(TestX_tfidf)\n",
    "            print(\"Accuracy score:\", model, lcod, round(accuracy_score(pred_clf, test_y)*100,1), \"%\")\n"
   ]
  },
  {
   "cell_type": "code",
   "execution_count": null,
   "metadata": {},
   "outputs": [],
   "source": []
  },
  {
   "cell_type": "code",
   "execution_count": 37,
   "metadata": {},
   "outputs": [
    {
     "name": "stdout",
     "output_type": "stream",
     "text": [
      "Accuracy score: <class 'sklearn.naive_bayes.MultinomialNB'> Cancer 86.4 %\n",
      "Accuracy score: <class 'sklearn.svm._classes.LinearSVC'> Cancer 87.3 %\n",
      "Accuracy score: <class 'sklearn.naive_bayes.MultinomialNB'> Heart disease 84.7 %\n",
      "Accuracy score: <class 'sklearn.svm._classes.LinearSVC'> Heart disease 85.1 %\n",
      "Accuracy score: <class 'sklearn.naive_bayes.MultinomialNB'> Alzheimers 94.4 %\n",
      "Accuracy score: <class 'sklearn.svm._classes.LinearSVC'> Alzheimers 94.6 %\n",
      "Accuracy score: <class 'sklearn.naive_bayes.MultinomialNB'> Cerebrovascular disease 94.6 %\n",
      "Accuracy score: <class 'sklearn.svm._classes.LinearSVC'> Cerebrovascular disease 94.7 %\n",
      "Accuracy score: <class 'sklearn.naive_bayes.MultinomialNB'> Diabetes 96.3 %\n",
      "Accuracy score: <class 'sklearn.svm._classes.LinearSVC'> Diabetes 96.3 %\n",
      "Accuracy score: <class 'sklearn.naive_bayes.MultinomialNB'> Chronic lower resp. dis. 93.9 %\n",
      "Accuracy score: <class 'sklearn.svm._classes.LinearSVC'> Chronic lower resp. dis. 94.0 %\n"
     ]
    }
   ],
   "source": [
    "classify_oneVall(df)"
   ]
  },
  {
   "cell_type": "code",
   "execution_count": null,
   "metadata": {},
   "outputs": [],
   "source": []
  },
  {
   "cell_type": "markdown",
   "metadata": {},
   "source": [
    "Accuracy of the Naive Bayes model is vastly improved with a two group classifier."
   ]
  },
  {
   "cell_type": "markdown",
   "metadata": {},
   "source": [
    "SVM is also much improved - 87% accuracy."
   ]
  },
  {
   "cell_type": "markdown",
   "metadata": {},
   "source": [
    "**Retraining the two models using text data stripped of garbage codes**"
   ]
  },
  {
   "cell_type": "code",
   "execution_count": 39,
   "metadata": {},
   "outputs": [],
   "source": [
    "df['cancer'] = 0\n",
    "df.loc[df['lcod_labels']==\"Cancer\", 'cancer']=1\n",
    "Xtrain_ca_nogc, Xtest_ca_nogc, ytrain_ca_nogc, ytest_ca_nogc = train_test_split(df['mc2_20'],\n",
    "                                                                                df['cancer'], \n",
    "                                                test_size=0.3, \n",
    "                                                random_state = 77)\n",
    "\n",
    "\n",
    "tfidf_vect_nogc = TfidfVectorizer(sublinear_tf=True, min_df=100, \n",
    "                             lowercase=False, \n",
    "                             ngram_range=(1, 2), \n",
    "                             stop_words=gc_all)  ##REMOVING ALL GARBAGE CODES\n",
    "\n",
    "tfidf_vect_nogc.fit(df['mc2_20'])\n",
    "\n",
    "Xtrain_tfidf_ca_nogc = tfidf_vect_nogc.transform(Xtrain_ca_nogc)\n",
    "Xtest_tfidf_ca_nogc = tfidf_vect_nogc.transform(Xtest_ca_nogc)\n",
    "\n"
   ]
  },
  {
   "cell_type": "code",
   "execution_count": 40,
   "metadata": {},
   "outputs": [
    {
     "name": "stdout",
     "output_type": "stream",
     "text": [
      "MNB accuracy score -no garbage codes in corpus - cancer (yes v. no): 85.7 %\n"
     ]
    }
   ],
   "source": [
    "mnb = MultinomialNB()\n",
    "mnb_clf = mnb.fit(Xtrain_tfidf_ca_nogc, ytrain_ca_nogc)\n",
    "\n",
    "MNBpred_ca_nogc = mnb_clf.predict(Xtest_tfidf_ca_nogc)\n",
    "\n",
    "print(\"MNB accuracy score -no garbage codes in corpus - cancer (yes v. no):\", \n",
    "      round(accuracy_score(MNBpred_ca_nogc, ytest_ca_nogc)*100,1), \"%\")"
   ]
  },
  {
   "cell_type": "code",
   "execution_count": null,
   "metadata": {},
   "outputs": [],
   "source": []
  },
  {
   "cell_type": "code",
   "execution_count": 43,
   "metadata": {},
   "outputs": [
    {
     "name": "stdout",
     "output_type": "stream",
     "text": [
      "SVM accuracy score - no garbage codes in corpus- cancer (yes v. no): 85.9 %\n"
     ]
    }
   ],
   "source": [
    "lin_svc = svm.LinearSVC()\n",
    "lin_svc.fit(Xtrain_tfidf_ca_nogc, ytrain_ca_nogc)\n",
    "SVCpred_nogc_cancer = lin_svc.predict(Xtest_tfidf_ca_nogc)\n",
    "print(\"SVM accuracy score - no garbage codes in corpus- cancer (yes v. no):\", \n",
    "      round(accuracy_score(SVCpred_nogc_cancer, ytest_ca_nogc)*100,1), \"%\")\n"
   ]
  },
  {
   "cell_type": "markdown",
   "metadata": {},
   "source": [
    "It looks like both models performed slightly better when trained on a corpus containing the garbage codes. "
   ]
  },
  {
   "cell_type": "markdown",
   "metadata": {},
   "source": [
    "NEXT STEPS:\n",
    "\n",
    "- grid search for best parameter values for SVM model along with cross validation\n",
    "- use cause of death text instead of ICD-10 codes"
   ]
  },
  {
   "cell_type": "markdown",
   "metadata": {},
   "source": [
    "**SVM grid search**"
   ]
  },
  {
   "cell_type": "markdown",
   "metadata": {},
   "source": [
    "    "
   ]
  },
  {
   "cell_type": "code",
   "execution_count": 45,
   "metadata": {},
   "outputs": [],
   "source": [
    "df['cancer'] = 0\n",
    "df.loc[df['lcod_labels']==\"Cancer\", 'cancer']=1\n",
    "    \n",
    "TrainX, TestX, train_y, test_y = train_test_split(df['mc2_20'], df['cancer'],\n",
    "                                                              test_size=0.3,\n",
    "                                                             random_state=7)\n",
    "\n",
    "tfidf_vect = TfidfVectorizer(sublinear_tf=True,\n",
    "                                         min_df=10, \n",
    "                                         lowercase=False, \n",
    "                                         ngram_range=(1, 2))\n",
    "            \n",
    "tfidf_vect.fit(df['mc2_20'])\n",
    "TrainX_tfidf = tfidf_vect.transform(TrainX)\n",
    "TestX_tfidf = tfidf_vect.transform(TestX)\n",
    "        "
   ]
  },
  {
   "cell_type": "code",
   "execution_count": 53,
   "metadata": {},
   "outputs": [],
   "source": [
    "from sklearn.model_selection import GridSearchCV\n",
    "\n",
    "def svc_param_selection(X, y):\n",
    "    Cs = [0.001, 0.01, 0.1, 1 ,10]\n",
    "    param_grid = {'C': Cs, }\n",
    "    grid_search = GridSearchCV(LinearSVC(), param_grid, n_jobs=4, verbose=3)\n",
    "    grid_search.fit(X, y)\n",
    "    grid_search.best_params_\n",
    "    return grid_search.best_params_"
   ]
  },
  {
   "cell_type": "code",
   "execution_count": 54,
   "metadata": {},
   "outputs": [
    {
     "name": "stdout",
     "output_type": "stream",
     "text": [
      "Fitting 5 folds for each of 5 candidates, totalling 25 fits\n"
     ]
    },
    {
     "name": "stderr",
     "output_type": "stream",
     "text": [
      "[Parallel(n_jobs=4)]: Using backend LokyBackend with 4 concurrent workers.\n",
      "[Parallel(n_jobs=4)]: Done  25 out of  25 | elapsed:   30.6s finished\n"
     ]
    },
    {
     "data": {
      "text/plain": [
       "{'C': 0.1}"
      ]
     },
     "execution_count": 54,
     "metadata": {},
     "output_type": "execute_result"
    }
   ],
   "source": [
    "svc_param_selection(TrainX_tfidf, train_y)\n"
   ]
  },
  {
   "cell_type": "markdown",
   "metadata": {},
   "source": [
    "The'C' parameter (regularization parameter) optimizes the SCM classifier by specifying the margin between the hyperplane and the support vectors.  A large value of C will choose smaller margins where as a small value of C will specify a larger margin in order to best classify the points correctly.\n",
    "\n",
    "In this case grid searching yielded a C value of 0.1 (out of possible values of 0.001, 0.01, 0.1, 1, and 10)."
   ]
  },
  {
   "cell_type": "code",
   "execution_count": null,
   "metadata": {},
   "outputs": [],
   "source": []
  },
  {
   "cell_type": "markdown",
   "metadata": {},
   "source": [
    "The drawback of training these classifiers on data with valid underlying cause codes is that in general these records are more likely to contain meaningful codes (both underlying cause code and upto 19 additional multiple cause codes).  Records with garbage codes for underlying cause codes may not contain as much useful information in the multiple cause fields to allow accurate classification with a model trained on valid codes."
   ]
  },
  {
   "cell_type": "code",
   "execution_count": null,
   "metadata": {},
   "outputs": [],
   "source": []
  },
  {
   "cell_type": "code",
   "execution_count": null,
   "metadata": {},
   "outputs": [],
   "source": []
  },
  {
   "cell_type": "markdown",
   "metadata": {},
   "source": [
    "**NEXT STEPS**\n",
    "\n",
    "- apply linear svc (with GC in corpus) to records with GC in underlying cause of death - to be done as two class problem with each of the five leading causes of death.\n",
    "\n",
    "- comparison to LDA findings."
   ]
  }
 ],
 "metadata": {
  "kernelspec": {
   "display_name": "Python 3",
   "language": "python",
   "name": "python3"
  },
  "language_info": {
   "codemirror_mode": {
    "name": "ipython",
    "version": 3
   },
   "file_extension": ".py",
   "mimetype": "text/x-python",
   "name": "python",
   "nbconvert_exporter": "python",
   "pygments_lexer": "ipython3",
   "version": "3.8.3"
  }
 },
 "nbformat": 4,
 "nbformat_minor": 4
}
